{
 "cells": [
  {
   "cell_type": "markdown",
   "metadata": {
    "toc": true
   },
   "source": [
    "<h1>Table of Contents<span class=\"tocSkip\"></span></h1>\n",
    "<div class=\"toc\"><ul class=\"toc-item\"><li><span><a href=\"#Recursion-from-Simple-Iteration:\" data-toc-modified-id=\"Recursion-from-Simple-Iteration:-1\">Recursion from Simple Iteration:</a></span><ul class=\"toc-item\"><li><ul class=\"toc-item\"><li><span><a href=\"#Search-a-sorted-array-for-first-occurrence-of-k.-[EPI:-11.1]\" data-toc-modified-id=\"Search-a-sorted-array-for-first-occurrence-of-k.-[EPI:-11.1]-1.0.1\">Search a sorted array for first occurrence of k. [EPI: 11.1]</a></span></li><li><span><a href=\"#Check-if-an-ascending-order-array-is-sorted-using-recursion.\" data-toc-modified-id=\"Check-if-an-ascending-order-array-is-sorted-using-recursion.-1.0.2\">Check if an ascending-order array is sorted using recursion.</a></span></li><li><span><a href=\"#Compute-the-n-th-Fibonacci-Number.\" data-toc-modified-id=\"Compute-the-n-th-Fibonacci-Number.-1.0.3\">Compute the n-th Fibonacci Number.</a></span></li><li><span><a href=\"#Compute-the-n-th-Factorial.\" data-toc-modified-id=\"Compute-the-n-th-Factorial.-1.0.4\">Compute the n-th Factorial.</a></span></li><li><span><a href=\"#Implement-a-function-that-verify-if-a-given-string-is-a-Palindrom.\" data-toc-modified-id=\"Implement-a-function-that-verify-if-a-given-string-is-a-Palindrom.-1.0.5\">Implement a function that verify if a given string is a Palindrom.</a></span></li><li><span><a href=\"#Print-a-matrix-recursively.\" data-toc-modified-id=\"Print-a-matrix-recursively.-1.0.6\">Print a matrix recursively.</a></span></li><li><span><a href=\"#main(...)\" data-toc-modified-id=\"main(...)-1.0.7\">main(...)</a></span></li></ul></li></ul></li><li><span><a href=\"#Recursions:\" data-toc-modified-id=\"Recursions:-2\">Recursions:</a></span><ul class=\"toc-item\"><li><ul class=\"toc-item\"><li><span><a href=\"#Print-the-binary-representations-of-a-given-integer.\" data-toc-modified-id=\"Print-the-binary-representations-of-a-given-integer.-2.0.1\">Print the binary representations of a given integer.</a></span></li><li><span><a href=\"#Implement-a-program-that-prints-all-the-n-bits-binary-numbers.\" data-toc-modified-id=\"Implement-a-program-that-prints-all-the-n-bits-binary-numbers.-2.0.2\">Implement a program that prints all the n-bits binary numbers.</a></span></li><li><span><a href=\"#Implement-a-program-that-prints-all-the-n-digits-decimal-numbers.\" data-toc-modified-id=\"Implement-a-program-that-prints-all-the-n-digits-decimal-numbers.-2.0.3\">Implement a program that prints all the n-digits decimal numbers.</a></span></li><li><span><a href=\"#Write-a-recursive-function-diceRoll-that-accepts-an-integer,-number-of-six-sided-dice-to-roll,-and-output-all-possible-combinations-of-values-that-could-appear-on-the-dice.\" data-toc-modified-id=\"Write-a-recursive-function-diceRoll-that-accepts-an-integer,-number-of-six-sided-dice-to-roll,-and-output-all-possible-combinations-of-values-that-could-appear-on-the-dice.-2.0.4\">Write a recursive function diceRoll that accepts an integer, number of six sided dice to roll, and output all possible combinations of values that could appear on the dice.</a></span></li><li><span><a href=\"#You-have-d-dice,-and-each-die-has-f-faces-numbered-1,-2,-...,-f.-Return-all-the-possible-ways-(out-of-f^d-total-ways)-to-roll-the-dice-so-the-sum-of-the-face-up-numbers-equals-target.---[LeetCode:-1155].\" data-toc-modified-id=\"You-have-d-dice,-and-each-die-has-f-faces-numbered-1,-2,-...,-f.-Return-all-the-possible-ways-(out-of-f^d-total-ways)-to-roll-the-dice-so-the-sum-of-the-face-up-numbers-equals-target.---[LeetCode:-1155].-2.0.5\">You have d dice, and each die has f faces numbered 1, 2, ..., f. Return all the possible ways (out of f^d total ways) to roll the dice so the sum of the face up numbers equals target. - [LeetCode: 1155].</a></span></li><li><span><a href=\"#Implementation-of-the-phone-number-mnemonics.---[EPI:-6.7].\" data-toc-modified-id=\"Implementation-of-the-phone-number-mnemonics.---[EPI:-6.7].-2.0.6\">Implementation of the phone number mnemonics. - [EPI: 6.7].</a></span></li><li><span><a href=\"#Write-a-method-to-compute-all-permutations-of-a-string.-[CtCI:-9.5].\" data-toc-modified-id=\"Write-a-method-to-compute-all-permutations-of-a-string.-[CtCI:-9.5].-2.0.7\">Write a method to compute all permutations of a string. [CtCI: 9.5].</a></span></li><li><span><a href=\"#Write-a-program-which-takes-as-input-an-array-of-distinct-integers-and-generates-all-permutations-of-that-array.-No-permutation-of-the-array-may-appear-more-than-once.---[EPI:-15.3].\" data-toc-modified-id=\"Write-a-program-which-takes-as-input-an-array-of-distinct-integers-and-generates-all-permutations-of-that-array.-No-permutation-of-the-array-may-appear-more-than-once.---[EPI:-15.3].-2.0.8\">Write a program which takes as input an array of distinct integers and generates all permutations of that array. No permutation of the array may appear more than once. - [EPI: 15.3].</a></span></li><li><span><a href=\"#Write-a-function-that-takes-as-input-a-set-and-returns-its-power-set.-Alternatively,-Given-a-collection-of-integers-that-might-contain-duplicates,-nums,-return-all-possible-subsets-(the-power-set).---[EPI:-15.4].\" data-toc-modified-id=\"Write-a-function-that-takes-as-input-a-set-and-returns-its-power-set.-Alternatively,-Given-a-collection-of-integers-that-might-contain-duplicates,-nums,-return-all-possible-subsets-(the-power-set).---[EPI:-15.4].-2.0.9\">Write a function that takes as input a set and returns its power set. Alternatively, Given a collection of integers that might contain duplicates, nums, return all possible subsets (the power set). - [EPI: 15.4].</a></span></li><li><span><a href=\"#Write-a-program-which-computes-all-size-k-subsets-of-{1,-2,-...,-n}-where-k-and-n-are-program-inputs.---[EPI:-15.5].\" data-toc-modified-id=\"Write-a-program-which-computes-all-size-k-subsets-of-{1,-2,-...,-n}-where-k-and-n-are-program-inputs.---[EPI:-15.5].-2.0.10\">Write a program which computes all size k subsets of {1, 2, ..., n} where k and n are program inputs. - [EPI: 15.5].</a></span></li><li><span><a href=\"#Implement-an-algorithm-to-print-all-valid-(i.e.-properly-opened-and-closed)-combinations-of-n-pairs-of-parentheses.---[CtCI:-9.6].\" data-toc-modified-id=\"Implement-an-algorithm-to-print-all-valid-(i.e.-properly-opened-and-closed)-combinations-of-n-pairs-of-parentheses.---[CtCI:-9.6].-2.0.11\">Implement an algorithm to print all valid (i.e. properly opened and closed) combinations of n-pairs of parentheses. - [CtCI: 9.6].</a></span></li><li><span><a href=\"#Write-an-algorithm-to-print-all-ways-of-arranging-eight-queens-on-an-8x8-chess-board-so-that-none-of-them-share-the-same-row,-column-or-diagonal.-In-this-case,-&quot;diagonal&quot;-means-all-diagonals,-not-just-the-two-that-bisect-the-board.---[CtCI:-9.9].\" data-toc-modified-id=\"Write-an-algorithm-to-print-all-ways-of-arranging-eight-queens-on-an-8x8-chess-board-so-that-none-of-them-share-the-same-row,-column-or-diagonal.-In-this-case,-&quot;diagonal&quot;-means-all-diagonals,-not-just-the-two-that-bisect-the-board.---[CtCI:-9.9].-2.0.12\">Write an algorithm to print all ways of arranging eight queens on an 8x8 chess board so that none of them share the same row, column or diagonal. In this case, \"diagonal\" means all diagonals, not just the two that bisect the board. - [CtCI: 9.9].</a></span></li><li><span><a href=\"#Write-a-program-which-prints-a-sequence-of-operations-that-transfer-n-rings-from-one-peg-to-another.-You-have-a-third-peg,-which-is-initially-empty.-The-only-operation-you-can-perform-is-taking-a-single-ring-from-the-top-of-the-peg-and-placing-it-on-the-top-of-another-peg.-You-must-never-place-a-larger-ring-above-a-smaller-ring.---[EPI:-15.1].\" data-toc-modified-id=\"Write-a-program-which-prints-a-sequence-of-operations-that-transfer-n-rings-from-one-peg-to-another.-You-have-a-third-peg,-which-is-initially-empty.-The-only-operation-you-can-perform-is-taking-a-single-ring-from-the-top-of-the-peg-and-placing-it-on-the-top-of-another-peg.-You-must-never-place-a-larger-ring-above-a-smaller-ring.---[EPI:-15.1].-2.0.13\">Write a program which prints a sequence of operations that transfer n rings from one peg to another. You have a third peg, which is initially empty. The only operation you can perform is taking a single ring from the top of the peg and placing it on the top of another peg. You must never place a larger ring above a smaller ring. - [EPI: 15.1].</a></span></li><li><span><a href=\"#Implement-a-function-that-compute-exponent-of-a-given-base.\" data-toc-modified-id=\"Implement-a-function-that-compute-exponent-of-a-given-base.-2.0.14\">Implement a function that compute exponent of a given base.</a></span></li><li><span><a href=\"#Implement-the-Euclidean-algorithm-for-calculating-the-greatest-common-divisor-of-two-numbers.---[EPI:-15:boot-camp].\" data-toc-modified-id=\"Implement-the-Euclidean-algorithm-for-calculating-the-greatest-common-divisor-of-two-numbers.---[EPI:-15:boot-camp].-2.0.15\">Implement the Euclidean algorithm for calculating the greatest common divisor of two numbers. - [EPI: 15:boot camp].</a></span></li></ul></li></ul></li><li><span><a href=\"#main(...):\" data-toc-modified-id=\"main(...):-3\">main(...):</a></span></li></ul></div>"
   ]
  },
  {
   "cell_type": "code",
   "execution_count": 14,
   "metadata": {},
   "outputs": [],
   "source": [
    "from random import randrange, randint, choice, choices, shuffle\n",
    "\n",
    "import bisect, math, collections, operator, itertools\n",
    "\n",
    "from collections import namedtuple\n",
    "from typing import Union, List\n",
    "from functools import reduce\n",
    "import sys\n",
    "\n",
    "from ads import util\n"
   ]
  },
  {
   "cell_type": "code",
   "execution_count": null,
   "metadata": {},
   "outputs": [],
   "source": []
  },
  {
   "cell_type": "markdown",
   "metadata": {},
   "source": [
    "## Recursion from Simple Iteration:"
   ]
  },
  {
   "cell_type": "markdown",
   "metadata": {
    "heading_collapsed": true
   },
   "source": [
    "#### Search a sorted array for first occurrence of k. [EPI: 11.1]"
   ]
  },
  {
   "cell_type": "code",
   "execution_count": 39,
   "metadata": {
    "hidden": true
   },
   "outputs": [],
   "source": [
    "def idx_k(L,k):\n",
    "    \n",
    "    if (len(L) == 0) or (L is None) or (k is None): return -0.0\n",
    "    \n",
    "    low,high,res = 0,len(L)-1,-0.0\n",
    "    \n",
    "    while low <= high:\n",
    "        mid = (low + high) // 2\n",
    "        if   L[mid] < k: low = mid+1\n",
    "        elif L[mid] > k: high = mid-1\n",
    "        else           : \n",
    "            res = mid\n",
    "            break\n",
    "    \n",
    "    return res\n",
    "        "
   ]
  },
  {
   "cell_type": "code",
   "execution_count": 40,
   "metadata": {
    "hidden": true
   },
   "outputs": [],
   "source": [
    "def idx_k_rec(L,k,low,high):\n",
    "    \n",
    "    if (len(L) == 0) or (L is None) or (k is None) or (low > high): return -0.0\n",
    "    \n",
    "    mid = (low + high) // 2\n",
    "    \n",
    "    if    L[mid] < k: return idx_k_rec(L, k, mid+1, high)\n",
    "    elif  L[mid] > k: return idx_k_rec(L, k, low, mid-1)\n",
    "    else: return mid\n"
   ]
  },
  {
   "cell_type": "code",
   "execution_count": 43,
   "metadata": {
    "hidden": true
   },
   "outputs": [],
   "source": [
    "def _test_search_k(verbose=False):\n",
    "    r = randrange(0,10)\n",
    "    L = sorted([randrange(-8,9) for i in range(r)])\n",
    "    k = choice([*range(-10,10)])\n",
    "    \n",
    "    if verbose: print(f'L: \\t{L} \\nk: \\t{k} \\nIs k in L: \\t{k in L} \\n\\n')\n",
    "        \n",
    "    try:\n",
    "        assert k == L[idx_k_rec(L,k,0,len(L)-1)]\n",
    "        assert k == L[idx_k(L, k)]\n",
    "        # assert k == L[idx_k_nearest(L, k)]\n",
    "        # assert k == L[idx_k_nearest_rec(L, k)]\n",
    "        \n",
    "    except(TypeError):\n",
    "        pass\n",
    "        # print(\"It did not pass the test due to IndexError !!!\")\n",
    "        # print(f'L: \\t{L} \\nk: \\t{k} \\nIs k in L: \\t{k in L} \\n\\n')\n",
    "    \n",
    "    except(AssertionError):\n",
    "        print(\"It did not pass the test due to AssertionError !!!\")\n",
    "        print(f'L: \\t{L} \\nk: \\t{k} \\nIs k in L: \\t{k in L}\\n\\n')\n",
    "        \n",
    "    \n",
    "####################################################################\n",
    "####################################################################\n",
    "\n",
    "\n",
    "for _ in range(100): \n",
    "    _test_search_k(False)"
   ]
  },
  {
   "cell_type": "code",
   "execution_count": null,
   "metadata": {
    "hidden": true
   },
   "outputs": [],
   "source": []
  },
  {
   "cell_type": "code",
   "execution_count": null,
   "metadata": {
    "hidden": true
   },
   "outputs": [],
   "source": []
  },
  {
   "cell_type": "code",
   "execution_count": null,
   "metadata": {
    "hidden": true
   },
   "outputs": [],
   "source": []
  },
  {
   "cell_type": "markdown",
   "metadata": {
    "heading_collapsed": true
   },
   "source": [
    "#### Check if an ascending-order array is sorted using recursion."
   ]
  },
  {
   "cell_type": "code",
   "execution_count": null,
   "metadata": {
    "hidden": true
   },
   "outputs": [],
   "source": [
    "def is_sorted_itr(a):\n",
    "    for i in range(len(a)-1, 0, -1):\n",
    "        if a[i] < a[i-1]: return False\n",
    "    return True\n",
    "\n",
    "def is_sorted(a, high):\n",
    "    if high == 0:\n",
    "        return True\n",
    "    elif a[high-1] <= a[high]:\n",
    "        return is_sorted(a, high-1)\n",
    "    return False\n",
    "\n",
    "\n",
    "def _test_is_sorted_itr():\n",
    "    a = [*range(6)]\n",
    "\n",
    "    assert is_sorted_itr(a)\n",
    "    assert not is_sorted_itr(ran.permutation(a).tolist())"
   ]
  },
  {
   "cell_type": "markdown",
   "metadata": {},
   "source": [
    "#### Compute the n-th Fibonacci Number."
   ]
  },
  {
   "cell_type": "code",
   "execution_count": null,
   "metadata": {},
   "outputs": [],
   "source": [
    "## generate fibonacci numbers upto n\n",
    "def fib(n):\n",
    "   p, q = 0, 1\n",
    "   while(p < n):\n",
    "       yield p\n",
    "       p, q = q, p + q"
   ]
  },
  {
   "cell_type": "markdown",
   "metadata": {},
   "source": [
    "#### Compute the n-th Factorial."
   ]
  },
  {
   "cell_type": "markdown",
   "metadata": {
    "heading_collapsed": true
   },
   "source": [
    "#### Implement a function that verify if a given string is a Palindrom."
   ]
  },
  {
   "cell_type": "markdown",
   "metadata": {
    "heading_collapsed": true
   },
   "source": [
    "#### Print a matrix recursively."
   ]
  },
  {
   "cell_type": "code",
   "execution_count": null,
   "metadata": {
    "hidden": true
   },
   "outputs": [],
   "source": [
    "def print_arr_rec(a, a_idx, a_len):\n",
    "    if a_idx < a_len:\n",
    "        print(a[a_idx])\n",
    "        print_arr_rec(a, a_idx+1, a_len)\n",
    "    else:\n",
    "        return 0\n",
    "\n",
    "\n",
    "def print_mat_rec(M, m_idx, m_len):\n",
    "    if m_idx < m_len:\n",
    "        a_idx, a_len = 0, len(M[m_idx])\n",
    "        print_arr_rec(M[m_idx], a_idx, a_len)\n",
    "        print_mat_rec(M, m_idx+1, m_len)\n",
    "\n",
    "\n",
    "def _test_print_mat_rec():\n",
    "    M = np.random.randint(0, 10, (4, 4))\n",
    "    print(M)\n",
    "\n",
    "    m_idx, m_len = 0, len(M)\n",
    "    print_mat_rec(M, m_idx, m_len)"
   ]
  },
  {
   "cell_type": "markdown",
   "metadata": {
    "heading_collapsed": true
   },
   "source": [
    "#### main(...)"
   ]
  },
  {
   "cell_type": "code",
   "execution_count": null,
   "metadata": {
    "hidden": true
   },
   "outputs": [],
   "source": [
    "if __name__ == \"__main__\":\n",
    "    # _test_print_mat_rec()\n",
    "    _test_is_sorted_itr()"
   ]
  },
  {
   "cell_type": "code",
   "execution_count": null,
   "metadata": {
    "hidden": true
   },
   "outputs": [],
   "source": []
  },
  {
   "cell_type": "markdown",
   "metadata": {},
   "source": [
    "## Recursions:"
   ]
  },
  {
   "cell_type": "markdown",
   "metadata": {},
   "source": [
    "#### Print the binary representations of a given integer."
   ]
  },
  {
   "cell_type": "markdown",
   "metadata": {
    "heading_collapsed": true
   },
   "source": [
    "#### Implement a program that prints all the n-bits binary numbers."
   ]
  },
  {
   "cell_type": "code",
   "execution_count": null,
   "metadata": {
    "hidden": true
   },
   "outputs": [],
   "source": [
    "def print_binary(bits: int) -> None:\n",
    "    prefix = ''\n",
    "    _print_binary(bits, prefix)\n",
    "\n",
    "\n",
    "def _print_binary(bits: int, prefix: str) -> None:\n",
    "    if bits == 0:\n",
    "        print(prefix)\n",
    "    else:\n",
    "        _print_binary(bits-1, prefix + '0')\n",
    "        _print_binary(bits-1, prefix + '1')\n",
    "\n",
    "\n",
    "def _test_print_binary():\n",
    "    num_of_bits = 4  # randint(4, 16)\n",
    "    print_binary(num_of_bits)"
   ]
  },
  {
   "cell_type": "markdown",
   "metadata": {
    "heading_collapsed": true
   },
   "source": [
    "#### Implement a program that prints all the n-digits decimal numbers."
   ]
  },
  {
   "cell_type": "code",
   "execution_count": null,
   "metadata": {
    "hidden": true
   },
   "outputs": [],
   "source": [
    "def print_decimal(digits: int) -> None:\n",
    "    prefix = ''\n",
    "    _print_decimal(digits, prefix)\n",
    "\n",
    "\n",
    "def _print_decimal(digits: int, prefix: str) -> None:\n",
    "    if digits == 0:\n",
    "        print(prefix)\n",
    "    else:\n",
    "        for i in range(10):\n",
    "            _print_decimal(digits-1, prefix + str(i))\n",
    "\n",
    "\n",
    "def _test_print_decimal() -> None:\n",
    "    num_of_digits = 4  # randint(4, 16)\n",
    "    print_decimal(num_of_digits)"
   ]
  },
  {
   "cell_type": "markdown",
   "metadata": {
    "heading_collapsed": true
   },
   "source": [
    "#### Write a recursive function diceRoll that accepts an integer, number of six sided dice to roll, and output all possible combinations of values that could appear on the dice."
   ]
  },
  {
   "cell_type": "code",
   "execution_count": null,
   "metadata": {
    "hidden": true
   },
   "outputs": [],
   "source": [
    "def dice_roll(n: int) -> Container[str]:\n",
    "    combinations = []\n",
    "    _dice_roll(n, combinations)\n",
    "    for comb in combinations:\n",
    "        print(comb)\n",
    "    return combinations\n",
    "\n",
    "\n",
    "def _dice_roll(n: int, L: Container[str], chosen=[]) -> None:\n",
    "    if n == 0:\n",
    "        L.append(', '.join([str(i) for i in chosen]))\n",
    "    else:\n",
    "        for side in range(1, 7):\n",
    "            _dice_roll(n - 1, L, chosen + [side])\n",
    "\n",
    "\n",
    "def _test_dice_roll():\n",
    "    n = randrange(0, 5)\n",
    "    dice_roll(n)\n",
    "    print('Number of Dice: ', n)"
   ]
  },
  {
   "cell_type": "markdown",
   "metadata": {
    "heading_collapsed": true
   },
   "source": [
    "#### You have d dice, and each die has f faces numbered 1, 2, ..., f. Return all the possible ways (out of f^d total ways) to roll the dice so the sum of the face up numbers equals target. - [LeetCode: 1155]."
   ]
  },
  {
   "cell_type": "code",
   "execution_count": null,
   "metadata": {
    "hidden": true
   },
   "outputs": [],
   "source": [
    "def sum_dice_roll(dice: int, target: int, face=6) -> list:\n",
    "    res = []\n",
    "    _sum_dice_roll(dice, target, face, res, 0)\n",
    "    for i in res:\n",
    "        print(i)\n",
    "    return res\n",
    "\n",
    "\n",
    "def _sum_dice_roll(N: int, t: int, face: int, L: list, _sum: int, chosen=[]):\n",
    "    if N == 0:\n",
    "        if _sum == t:\n",
    "            L.append(tuple(chosen))\n",
    "    else:\n",
    "        for i in range(1, face+1):\n",
    "            # (x < y < z) -> (y > x and y < z)\n",
    "            if _sum + i + 1*(N-1) <= t <= _sum + i + 6*(N-1):\n",
    "                chosen.append(i)\n",
    "                _sum_dice_roll(N-1, t, face, L, _sum+i, chosen)\n",
    "                chosen.pop()\n",
    "\n",
    "\n",
    "def sum_dice_roll_alt(dice: int, target: int) -> list:\n",
    "    combinations = []\n",
    "    _sum_dice_roll_alt(dice, target, combinations)\n",
    "    # for comb in combinations: print(comb)\n",
    "    return combinations\n",
    "\n",
    "\n",
    "def _sum_dice_roll_alt(N: int, t: int, L: list, _sum=0, chosen=[]) -> None:\n",
    "    if N == 0:\n",
    "        if t == _sum:\n",
    "            L.append(tuple(chosen))\n",
    "    else:\n",
    "        for i in range(1, 7):\n",
    "            if _sum + i + 1 * (N - 1) <= t and t <= _sum + i + 6 * (N - 1):\n",
    "                _sum_dice_roll_alt(N - 1, t, L, _sum+i, chosen + [i])\n",
    "\n",
    "\n",
    "def sum_dice_roll2(dice: int, target: int) -> Container[str]:\n",
    "    combinations = []\n",
    "    _sum_dice_roll2(dice, target, combinations)\n",
    "    for comb in combinations:\n",
    "        print(comb)\n",
    "    return combinations\n",
    "\n",
    "\n",
    "def _sum_dice_roll2(n: int, t: int, L: Container[str], chosen=[]) -> None:\n",
    "    if n == 0:\n",
    "        if t == 0:\n",
    "            L.append(tuple(chosen))\n",
    "    else:\n",
    "        for i in range(1, 7):\n",
    "            if t-i >= 1 * (n - 1) and t-i <= 6 * (n-1):\n",
    "                chosen.append(i)\n",
    "                _sum_dice_roll2(n-1, t-i, L, chosen)\n",
    "                chosen.pop()\n",
    "\n",
    "\n",
    "def _test_sum_dice_roll():\n",
    "    dice = randrange(1, 5)\n",
    "    target = randrange(1, 1+dice*6)\n",
    "\n",
    "    res1 = sum_dice_roll(dice, target)\n",
    "    res2 = sum_dice_roll_alt(dice, target)\n",
    "    res3 = sum_dice_roll2(dice, target)\n",
    "    assert res1 == res2 == res3\n",
    "    print('Number of Dice: ', dice, 'Target: ', target)"
   ]
  },
  {
   "cell_type": "markdown",
   "metadata": {
    "heading_collapsed": true
   },
   "source": [
    "#### Implementation of the phone number mnemonics. - [EPI: 6.7]."
   ]
  },
  {
   "cell_type": "code",
   "execution_count": null,
   "metadata": {
    "hidden": true
   },
   "outputs": [],
   "source": [
    "def phone_mnemonic(phn_num: str) -> Container[Sequence]:\n",
    "\n",
    "    MAPPING = ('0', '1', 'ABC', 'DEF', 'GHI',\n",
    "               'JKL', 'MNO', 'PQRS', 'TUV', 'WXYZ')\n",
    "    result = []\n",
    "    _phone_mnemonics(phn_num, 0, MAPPING, result)\n",
    "    return result\n",
    "\n",
    "\n",
    "def _phone_mnemonics(phn_num: str, k: int, MAPPING: tuple, result, prefix=\"\"):\n",
    "    if k == len(phn_num):\n",
    "        result.append(prefix)\n",
    "    else:\n",
    "        for i in MAPPING[string.digits.index(phn_num[k])]:\n",
    "            _phone_mnemonics(phn_num, k+1, MAPPING, result, prefix+i)\n",
    "\n",
    "\n",
    "def _test_phone_mnemonic():\n",
    "    my_res = phone_mnemonic(\"7186797621\")\n",
    "    res = stringEPI.phone_mnemonic(\"7186797621\")\n",
    "    assert my_res == res\n",
    "    # for i in res: print(i)"
   ]
  },
  {
   "cell_type": "markdown",
   "metadata": {
    "heading_collapsed": true
   },
   "source": [
    "#### Write a method to compute all permutations of a string. [CtCI: 9.5]."
   ]
  },
  {
   "cell_type": "code",
   "execution_count": null,
   "metadata": {
    "hidden": true
   },
   "outputs": [],
   "source": [
    "def permute_str_A(s: str) -> Container[Sequence]:\n",
    "    '''\n",
    "    Args:\n",
    "        s: The string to be permuted.\n",
    "    '''\n",
    "    result = []\n",
    "    _permute_str_A('', s, result)\n",
    "    return result\n",
    "\n",
    "\n",
    "def _permute_str_A(prefix: str, sufix: str, result: List) -> None:\n",
    "    if sufix == '':\n",
    "        result.append(prefix)\n",
    "    else:\n",
    "        for i in range(len(sufix)):\n",
    "            _permute_str_A(prefix+sufix[i], sufix[:i]+sufix[i+1:], result)\n",
    "\n",
    "\n",
    "def permute_str_B(s: str) -> Container[Sequence]:\n",
    "    result = []\n",
    "    _permute_str_B(list(s), result)\n",
    "    return result\n",
    "\n",
    "\n",
    "def _permute_str_B(L: list, result: list, offset=0) -> None:\n",
    "    if offset == len(L):\n",
    "        result.append(''.join([str(i) for i in L]))\n",
    "    else:\n",
    "        for i in range(offset, len(L)):\n",
    "            swap(L, offset, i)\n",
    "            _permute_str_B(L, result, offset+1)\n",
    "            swap(L, offset, i)\n",
    "\n",
    "\n",
    "def permute_str_C(s: str) -> Container[Sequence]:\n",
    "    result = []\n",
    "    L = list(s)\n",
    "    offset = len(L)-1\n",
    "    _permute_str_C(L, result, offset)\n",
    "    return result\n",
    "\n",
    "\n",
    "def _permute_str_C(L: list, result: list, offset) -> None:\n",
    "    if offset == 0:\n",
    "        result.append(''.join([str(i) for i in L]))\n",
    "    else:\n",
    "        for i in range(0, offset+1):\n",
    "            swap(L, offset, i)\n",
    "            _permute_str_C(L, result, offset-1)\n",
    "            swap(L, offset, i)\n",
    "\n",
    "\n",
    "def _test_permutation_str():\n",
    "    s = 'BERKELEY'\n",
    "    res1 = permute_str_A(s)\n",
    "    res2 = permute_str_B(s)\n",
    "    res3 = permute_str_C(s)\n",
    "\n",
    "    assert len(res1) == len(res2) == len(res3)\n",
    "    # for i, j, k in zip(res1, res2, reversed(res3)): print(i, j, k, sep='\\t')\n",
    "    print(len(res1))"
   ]
  },
  {
   "cell_type": "markdown",
   "metadata": {
    "heading_collapsed": true
   },
   "source": [
    "#### Write a program which takes as input an array of distinct integers and generates all permutations of that array. No permutation of the array may appear more than once. - [EPI: 15.3]."
   ]
  },
  {
   "cell_type": "code",
   "execution_count": null,
   "metadata": {
    "hidden": true
   },
   "outputs": [],
   "source": [
    "def permutation_list_A(L: List[int]) -> Container[Sequence]:\n",
    "    result = []\n",
    "    _permutation_list_A(L, result)\n",
    "    return result\n",
    "\n",
    "\n",
    "def _permutation_list_A(L: List[int], result: Container, chosen=[]) -> None:\n",
    "\n",
    "    if len(L) == 0:\n",
    "        # result.append(str(result))\n",
    "        result.append(' '.join([str(i) for i in chosen]))\n",
    "    else:\n",
    "        for i in range(len(L)):\n",
    "            first = L.pop(i)\n",
    "            chosen.append(first)\n",
    "            _permutation_list_A(L, result, chosen)\n",
    "\n",
    "            L.insert(i, first)\n",
    "            chosen.pop()\n",
    "\n",
    "\n",
    "def permutation_list_B(L) -> Container[Sequence]:\n",
    "    result = []\n",
    "    _permutation_list_B(L, result)\n",
    "    return result\n",
    "\n",
    "\n",
    "def _permutation_list_B(L, result, offset=0) -> None:\n",
    "    if offset == len(L):\n",
    "        result.append(' '.join(L))\n",
    "    else:\n",
    "        for i in range(offset, len(L)):\n",
    "            swap(L, offset, i)\n",
    "            _permutation_list_B(L, result, offset+1)\n",
    "            swap(L, offset, i)\n",
    "\n",
    "\n",
    "def permutation_list_B2(L) -> Container[Sequence]:\n",
    "    result = []\n",
    "    offset = len(L)-1\n",
    "    _permutation_list_B2(L, result, offset)\n",
    "    return result\n",
    "\n",
    "\n",
    "def _permutation_list_B2(L, result, offset) -> None:\n",
    "    if offset == 0:\n",
    "        result.append(' '.join(L))\n",
    "    else:\n",
    "        for i in reversed(range(offset+1)):\n",
    "            swap(L, offset, i)\n",
    "            _permutation_list_B2(L, result, offset-1)\n",
    "            swap(L, offset, i)\n",
    "\n",
    "\n",
    "def _test_permutation_list():\n",
    "    L = list('BERKELEY')\n",
    "    res1 = permutation_list_A([*range(1, 5)])\n",
    "    res2 = permutation_list_B(L)\n",
    "    res3 = permutation_list_B2(L)\n",
    "\n",
    "    for i, j, k in zip(res1, res2, res3):\n",
    "        print(i, j, k, sep='\\t'*2)\n",
    "    # assert len(res1) == len(res2) == len(res3) == factorial(len(L))"
   ]
  },
  {
   "cell_type": "markdown",
   "metadata": {
    "heading_collapsed": true
   },
   "source": [
    "#### Write a function that takes as input a set and returns its power set. Alternatively, Given a collection of integers that might contain duplicates, nums, return all possible subsets (the power set). - [EPI: 15.4]."
   ]
  },
  {
   "cell_type": "code",
   "execution_count": null,
   "metadata": {
    "hidden": true
   },
   "outputs": [],
   "source": [
    "def power_set(L):\n",
    "    ''' Computes the power set of the given set, L'''\n",
    "    result = []\n",
    "    _power_set(L, result)\n",
    "    return result\n",
    "\n",
    "\n",
    "def _power_set(chose_from, result, chosen=[]):\n",
    "    '''\n",
    "    Args:\n",
    "        chosen     : list of chosen elements.\n",
    "        chose_from : list of elements to chose from.\n",
    "        result     : list of power set elements.\n",
    "    '''\n",
    "    if len(chose_from) == 0:\n",
    "        result.append(list(chosen))\n",
    "    else:\n",
    "        first = chose_from.pop(0)\n",
    "        chosen.append(first)\n",
    "        _power_set(chose_from, result, chosen)\n",
    "\n",
    "        chosen.pop()\n",
    "        _power_set(chose_from, result, chosen)\n",
    "\n",
    "        chose_from.insert(0, first)\n",
    "\n",
    "\n",
    "# print all subsets of the characters in s\n",
    "def power_set_str1(s: str) -> None:\n",
    "    '''\n",
    "        Note: it doesn't take empty set into accout. \n",
    "    '''\n",
    "    res = []\n",
    "    _power_set_str1(\"\", s, res)\n",
    "    return res\n",
    "\n",
    "\n",
    "# print all subsets of the remaining elements, with given prefix\n",
    "def _power_set_str1(prefix: str, s: str, result) -> None:\n",
    "    if len(s) > 0:\n",
    "        # print(prefix+s[0])\n",
    "        # result.append(prefix+s[0])\n",
    "        result.append(list(prefix+s[0]))\n",
    "        _power_set_str1(prefix+s[0], s[1:], result)\n",
    "        _power_set_str1(prefix, s[1:], result)\n",
    "\n",
    "\n",
    "def power_set_str2(s: str) -> None:\n",
    "    res = []\n",
    "    _power_set_str2(\"\", s, res)\n",
    "    return res\n",
    "\n",
    "\n",
    "def _power_set_str2(prefix: str, s: str, result) -> None:\n",
    "    # print(prefix)\n",
    "    result.append(list(prefix))\n",
    "    for i in range(len(s)):\n",
    "        _power_set_str2(prefix + s[i], s[i+1:], result)\n",
    "\n",
    "\n",
    "def _test_power_set():\n",
    "    s = \"1234\"\n",
    "    L: list[str] = list(s)\n",
    "    ps = power_set(L)\n",
    "    ps1 = power_set_str1(s) # it doesn't take empty set into accout.\n",
    "    ps2 = power_set_str2(s)\n",
    "\n",
    "    assert len(ps) == len(ps2) == pow(2, len(L))\n",
    "    assert len(ps1) == len(ps)-1 == pow(2, len(L))-1\n",
    "    \n",
    "    for i in ps: print(i)"
   ]
  },
  {
   "cell_type": "markdown",
   "metadata": {
    "heading_collapsed": true
   },
   "source": [
    "#### Write a program which computes all size k subsets of {1, 2, ..., n} where k and n are program inputs. - [EPI: 15.5]."
   ]
  },
  {
   "cell_type": "code",
   "execution_count": null,
   "metadata": {
    "hidden": true
   },
   "outputs": [],
   "source": [
    "# print all subsets that take k of the remaining elements, with given prefix\n",
    "def comb_str1(s: str, k: int) -> None:\n",
    "    _comb_str1(s, \"\", k)\n",
    "\n",
    "\n",
    "def _comb_str1(s: str, prefix: str, k: int) -> None:\n",
    "    if k > len(s):\n",
    "        return None\n",
    "    elif k == 0:\n",
    "        print(prefix)\n",
    "    else:\n",
    "        _comb_str1(s[1:], prefix+s[0], k-1)\n",
    "        _comb_str1(s[1:], prefix, k)\n",
    "\n",
    "\n",
    "# print all subsets that take k of the remaining elements, with given prefix\n",
    "def comb_str2(s: str, k: int) -> None:\n",
    "    _comb_str1(s, \"\", k)\n",
    "\n",
    "\n",
    "def _comb_str2(s: str, prefix: str, k: int) -> None:\n",
    "    if k == 0:\n",
    "        print(prefix)\n",
    "    else:\n",
    "        for i in range(len(s)):\n",
    "            _comb_str2(s[i+1:], prefix+s[i], k-1)\n",
    "\n",
    "\n",
    "def _test_comb_str():\n",
    "    s = \"TEA\"\n",
    "    k = 2\n",
    "    comb3 = comb_str1(s, k)\n",
    "    comb4 = comb_str2(s, k)\n",
    "\n",
    "\n",
    "def n_choose_k(n: int, k: int):\n",
    "    result = []\n",
    "    _n_choose_k(n, k, 1, result)\n",
    "    return result\n",
    "\n",
    "\n",
    "def _n_choose_k(n: int, k: int, offset: int, result, chosen=[]):\n",
    "    if len(chosen) == k:\n",
    "        result.append(list(chosen))\n",
    "\n",
    "    # Generate remaining combinations over {offset, ..., n - 1} of size\n",
    "    remaining_to_choose = k - len(chosen)\n",
    "    i = offset\n",
    "    while i <= n and remaining_to_choose <= n - i + 1:\n",
    "        chosen.append(i)\n",
    "        _n_choose_k(n, k, i + 1, result, chosen)\n",
    "        chosen.pop()\n",
    "        i += 1\n",
    "\n",
    "\n",
    "def comb_B(L, k):\n",
    "    result = []\n",
    "    _comb_B(L, k, 0, result)\n",
    "    return result\n",
    "\n",
    "\n",
    "def _comb_B(L, k, start, result, chosen=[]):\n",
    "    if (k == len(chosen)):\n",
    "        result.append(tuple(chosen))\n",
    "    else:\n",
    "        i = start\n",
    "        reamining_to_chose = k - len(chosen)\n",
    "        while i <= len(L) and reamining_to_chose <= len(L) - i:\n",
    "            chosen.append(L[i])\n",
    "            _comb_B(L, k, i + 1, result, chosen)\n",
    "            chosen.pop()\n",
    "            i += 1\n",
    "\n",
    "\n",
    "def _comb_B2(L, k, start, result, chosen=[]):\n",
    "    if (k == len(chosen)):\n",
    "        result.append(chosen[:])\n",
    "    else:\n",
    "        for i in range(start, len(L)+1):\n",
    "            if k - len(chosen) <= len(L) - i:  # k - len(chosen) -> reamining_to_chose\n",
    "                chosen.append(L[i])\n",
    "                _comb_B2(L, k, i + 1, result, chosen)\n",
    "                chosen.pop()\n",
    "\n",
    "\n",
    "def _test_comb_list():\n",
    "    L = list(\"12345\")\n",
    "    people = [\"Jane\", \"Bob\", \"Matt\", \"Sara\", \"Shah\"]\n",
    "\n",
    "    n = len(L)\n",
    "    k = randint(0, n)\n",
    "\n",
    "    n_chose_k = factorial(n)/(factorial(n-k)*factorial(k))\n",
    "    print(\"n: \", n, \"k: \", k)\n",
    "\n",
    "    res1 = comb_B(L, k)\n",
    "    print_matrix(res1)\n",
    "\n",
    "    # n = randrange(1, 10)\n",
    "    # k = randint(1, n)\n",
    "\n",
    "    # print('N: ', n, 'K: ', k)\n",
    "    choose_k_from_n = n_choose_k(n, k)\n",
    "    print_matrix(choose_k_from_n)"
   ]
  },
  {
   "cell_type": "markdown",
   "metadata": {
    "heading_collapsed": true
   },
   "source": [
    "#### Implement an algorithm to print all valid (i.e. properly opened and closed) combinations of n-pairs of parentheses. - [CtCI: 9.6]."
   ]
  },
  {
   "cell_type": "code",
   "execution_count": null,
   "metadata": {
    "hidden": true
   },
   "outputs": [],
   "source": [
    "def gen_parens(k: int) -> Container[str]:\n",
    "\n",
    "    def _gen_parens(l, r, c, parens, result) -> None:\n",
    "\n",
    "        # print(f\"\"\"{'_gen_parens('}{l}{', '}{r}{', '}{c}{', '}{parens}{')'}\"\"\")\n",
    "        # print(f\"\"\"{'    '*c}{'_gen_parens('}{l}{', '}{r}{', '}{c}{', '}{parens}{')'}\"\"\")\n",
    "\n",
    "        if l < 0 or r < l: return None\n",
    "        if l == 0 and r == 0: result.append(''.join(parens))\n",
    "        else:\n",
    "            if l > 0:\n",
    "                parens[c] = '('\n",
    "                _gen_parens(l-1, r, c+1, parens, result)\n",
    "            if r > l:\n",
    "                parens[c] = ')'\n",
    "                _gen_parens(l, r-1, c+1, parens, result)\n",
    "\n",
    "    result = []\n",
    "    parens = [None]*(2*k)\n",
    "    _gen_parens(k, k, 0, parens, result)\n",
    "    return result\n",
    "\n",
    "\n",
    "def gbp1(num_pairs: int) -> Container[str]:\n",
    "    def _gbp1(l: int, r: int, valid_prefix: str, result=[]) -> Container[str]:\n",
    "\n",
    "        # print(f\"\"\"{'_gbp1('}{l}{', '}{r}{', '}{valid_prefix}{')'}\"\"\")\n",
    "        # l -> num_left_parens_needed\n",
    "        # r -> num_right_parens_needed\n",
    "\n",
    "        if l > 0:\n",
    "            _gbp1(l - 1, r, valid_prefix + '(')  # able to insert '('.\n",
    "        if l < r:\n",
    "            _gbp1(l, r - 1, valid_prefix + ')')  # able to insert ')'.\n",
    "\n",
    "        if not r:\n",
    "            result.append(valid_prefix)\n",
    "        return result\n",
    "\n",
    "    return _gbp1(num_pairs, num_pairs, '')"
   ]
  },
  {
   "cell_type": "markdown",
   "metadata": {
    "heading_collapsed": true
   },
   "source": [
    "#### Write an algorithm to print all ways of arranging eight queens on an 8x8 chess board so that none of them share the same row, column or diagonal. In this case, \"diagonal\" means all diagonals, not just the two that bisect the board. - [CtCI: 9.9]."
   ]
  },
  {
   "cell_type": "code",
   "execution_count": null,
   "metadata": {
    "hidden": true
   },
   "outputs": [],
   "source": [
    "def n_queens(n):\n",
    "    results = []\n",
    "    _n_queens(0, n, results)\n",
    "    return results\n",
    "\n",
    "\n",
    "def _n_queens(row, col, results, columns=[]):\n",
    "    if row == col:\n",
    "        results.append(tuple(columns))\n",
    "        return None\n",
    "    for c in range(col):\n",
    "        columns.append(c)\n",
    "        if is_valid(columns):\n",
    "            _n_queens(row+1, col, results, columns)\n",
    "        columns.pop()\n",
    "\n",
    "\n",
    "def is_valid(L):\n",
    "    row_id = len(L)-1\n",
    "    for i in range(row_id):\n",
    "        col_diff = abs(L[row_id] - L[i])\n",
    "        row_diff = row_id - i\n",
    "        horizontal_attack = col_diff == 0\n",
    "        diagonal_attack = col_diff == row_diff\n",
    "        if horizontal_attack or diagonal_attack: return False\n",
    "\n",
    "    return True\n",
    "\n",
    "\n",
    "def solve_n_queens(n):\n",
    "    result = []\n",
    "    _solve_n_queens(0, n, result, [0] * n)\n",
    "    return result\n",
    "\n",
    "\n",
    "def _solve_n_queens(row, n, result, columns):\n",
    "    if row == n:\n",
    "        # All queens are legally placed.\n",
    "        result.append(tuple(columns))\n",
    "        return None\n",
    "    for col in range(n):\n",
    "        # Test if a newly placed queen will conflict any earlier queens\n",
    "        # placed before.\n",
    "        L = [abs(c - col) not in (0, row - i) for i, c in enumerate(columns[:row])]\n",
    "        if all(L):\n",
    "            columns[row] = col\n",
    "            _solve_n_queens(row+1, n, result, columns)\n",
    "\n",
    "\n",
    "def _print_board(L):\n",
    "    board = []\n",
    "    for i in L:\n",
    "        row = ['_*_']*len(L)\n",
    "        row[i] = '_Q_'\n",
    "        board.append(row)\n",
    "    for i in board:\n",
    "        print(i)\n",
    "    print()\n",
    "\n",
    "\n",
    "def _test_n_queens():\n",
    "    random_int = randrange(3, 11)\n",
    "    res1 = n_queens(random_int)\n",
    "    res2 = solve_n_queens(random_int)\n",
    "    assert res1 == res2\n",
    "    for board in res1: _print_board(board)\n",
    "    print('Number of Queens:', random_int, 'Number of ways:', len(res1))"
   ]
  },
  {
   "cell_type": "markdown",
   "metadata": {
    "heading_collapsed": true
   },
   "source": [
    "#### Write a program which prints a sequence of operations that transfer n rings from one peg to another. You have a third peg, which is initially empty. The only operation you can perform is taking a single ring from the top of the peg and placing it on the top of another peg. You must never place a larger ring above a smaller ring. - [EPI: 15.1]."
   ]
  },
  {
   "cell_type": "markdown",
   "metadata": {
    "heading_collapsed": true
   },
   "source": [
    "#### Implement a function that compute exponent of a given base."
   ]
  },
  {
   "cell_type": "markdown",
   "metadata": {
    "heading_collapsed": true
   },
   "source": [
    "#### Implement the Euclidean algorithm for calculating the greatest common divisor of two numbers. - [EPI: 15:boot camp]."
   ]
  },
  {
   "cell_type": "markdown",
   "metadata": {
    "heading_collapsed": true
   },
   "source": [
    "## main(...):"
   ]
  },
  {
   "cell_type": "code",
   "execution_count": null,
   "metadata": {
    "hidden": true
   },
   "outputs": [],
   "source": [
    "if __name__ == '__main__':\n",
    "    # _test_print_binary()\n",
    "    # _test_print_decimal()\n",
    "    # _test_dice_roll()\n",
    "    # _test_sum_dice_roll()\n",
    "    # _test_phone_mnemonic()\n",
    "#     _test_permutation_str()\n",
    "    # _test_permutation_list()\n",
    "    # _test_comb_str()\n",
    "    # _test_comb_list()\n",
    "    # _test_power_set()\n",
    "    # _test_n_queens()\n",
    "    pass"
   ]
  },
  {
   "cell_type": "code",
   "execution_count": null,
   "metadata": {
    "hidden": true
   },
   "outputs": [],
   "source": []
  }
 ],
 "metadata": {
  "kernelspec": {
   "display_name": "Python 3 (ipykernel)",
   "language": "python",
   "name": "python3"
  },
  "language_info": {
   "codemirror_mode": {
    "name": "ipython",
    "version": 3
   },
   "file_extension": ".py",
   "mimetype": "text/x-python",
   "name": "python",
   "nbconvert_exporter": "python",
   "pygments_lexer": "ipython3",
   "version": "3.10.9"
  },
  "toc": {
   "base_numbering": 1,
   "nav_menu": {},
   "number_sections": false,
   "sideBar": true,
   "skip_h1_title": true,
   "title_cell": "Table of Contents",
   "title_sidebar": "Contents",
   "toc_cell": true,
   "toc_position": {},
   "toc_section_display": true,
   "toc_window_display": false
  }
 },
 "nbformat": 4,
 "nbformat_minor": 4
}
