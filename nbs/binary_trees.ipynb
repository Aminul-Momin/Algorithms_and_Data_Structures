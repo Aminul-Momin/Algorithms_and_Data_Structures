{
 "cells": [
  {
   "cell_type": "markdown",
   "metadata": {
    "toc": true
   },
   "source": [
    "<h1>Table of Contents<span class=\"tocSkip\"></span></h1>\n",
    "<div class=\"toc\"><ul class=\"toc-item\"><li><span><a href=\"#Basic-Tree-Questions:\" data-toc-modified-id=\"Basic-Tree-Questions:-1\">Basic Tree Questions:</a></span><ul class=\"toc-item\"><li><ul class=\"toc-item\"><li><span><a href=\"#Compute-the-height-of-a-binary-tree.\" data-toc-modified-id=\"Compute-the-height-of-a-binary-tree.-1.0.1\">Compute the height of a binary tree.</a></span></li><li><span><a href=\"#Compute-the-width-of-a-binary-tree.\" data-toc-modified-id=\"Compute-the-width-of-a-binary-tree.-1.0.2\">Compute the width of a binary tree.</a></span></li><li><span><a href=\"#Find-the-number-of-leaves-of-binary-tree-and-collect-them.\" data-toc-modified-id=\"Find-the-number-of-leaves-of-binary-tree-and-collect-them.-1.0.3\">Find the number of leaves of binary tree and collect them.</a></span></li><li><span><a href=\"#Print-the-paths-to-all-the-leaves.\" data-toc-modified-id=\"Print-the-paths-to-all-the-leaves.-1.0.4\">Print the paths to all the leaves.</a></span></li><li><span><a href=\"#Count-the-number-of-full-nodes-of-a-binary-tree-and-collect-them.\" data-toc-modified-id=\"Count-the-number-of-full-nodes-of-a-binary-tree-and-collect-them.-1.0.5\">Count the number of full nodes of a binary tree and collect them.</a></span></li><li><span><a href=\"#Find-the-Max-element-in-a-Given-Binary-Tree.\" data-toc-modified-id=\"Find-the-Max-element-in-a-Given-Binary-Tree.-1.0.6\">Find the Max element in a Given Binary Tree.</a></span></li></ul></li></ul></li><li><span><a href=\"#Question-Set:-Traversals:\" data-toc-modified-id=\"Question-Set:-Traversals:-2\">Question Set: Traversals:</a></span><ul class=\"toc-item\"><li><ul class=\"toc-item\"><li><span><a href=\"#Implement-inorder-traversal-of-a-binary-tree.\" data-toc-modified-id=\"Implement-inorder-traversal-of-a-binary-tree.-2.0.1\">Implement inorder traversal of a binary tree.</a></span></li><li><span><a href=\"#Implement-pre-order-traversal-of-a-binary-tree.\" data-toc-modified-id=\"Implement-pre-order-traversal-of-a-binary-tree.-2.0.2\">Implement pre-order traversal of a binary tree.</a></span></li><li><span><a href=\"#Implement-post-order-traversal-of-a-binary-tree.\" data-toc-modified-id=\"Implement-post-order-traversal-of-a-binary-tree.-2.0.3\">Implement post-order traversal of a binary tree.</a></span></li><li><span><a href=\"#Implement-spiral-order-traversal-of-a-binary-tree.\" data-toc-modified-id=\"Implement-spiral-order-traversal-of-a-binary-tree.-2.0.4\">Implement spiral-order traversal of a binary tree.</a></span></li><li><span><a href=\"#Implement-level-order-traversal-of-a-binary-tree.\" data-toc-modified-id=\"Implement-level-order-traversal-of-a-binary-tree.-2.0.5\">Implement level-order traversal of a binary tree.</a></span></li><li><span><a href=\"#Implement-vertical-order-traversal-of-a-binary-tree.\" data-toc-modified-id=\"Implement-vertical-order-traversal-of-a-binary-tree.-2.0.6\">Implement vertical-order traversal of a binary tree.</a></span></li></ul></li></ul></li><li><span><a href=\"#Question-Set:-Fundamentals\" data-toc-modified-id=\"Question-Set:-Fundamentals-3\">Question Set: Fundamentals</a></span><ul class=\"toc-item\"><li><ul class=\"toc-item\"><li><span><a href=\"#Find-the-first-common-ancestor-of-two-nodes-in-a-binary-tree.\" data-toc-modified-id=\"Find-the-first-common-ancestor-of-two-nodes-in-a-binary-tree.-3.0.1\">Find the first common ancestor of two nodes in a binary tree.</a></span></li><li><span><a href=\"#Implement-a-function-to-check-if-a-binary-tree-is-a-Binary-Search-Tree.\" data-toc-modified-id=\"Implement-a-function-to-check-if-a-binary-tree-is-a-Binary-Search-Tree.-3.0.2\">Implement a function to check if a binary tree is a Binary Search Tree.</a></span></li><li><span><a href=\"#Implement-a-function-to-check-if-a-binary-tree-is-height-balanced.---[EPI:-9.1].\" data-toc-modified-id=\"Implement-a-function-to-check-if-a-binary-tree-is-height-balanced.---[EPI:-9.1].-3.0.3\">Implement a function to check if a binary tree is height balanced. - [EPI: 9.1].</a></span></li><li><span><a href=\"#Compute-the-Diameter-of-the-given-Binary-Search-Tree.\" data-toc-modified-id=\"Compute-the-Diameter-of-the-given-Binary-Search-Tree.-3.0.4\">Compute the Diameter of the given Binary Search Tree.</a></span></li><li><span><a href=\"#Create-a-BST-with-minimal-height-from-a-increasing-order-sorted-array.\" data-toc-modified-id=\"Create-a-BST-with-minimal-height-from-a-increasing-order-sorted-array.-3.0.5\">Create a BST with minimal height from a increasing order sorted array.</a></span></li><li><span><a href=\"#Create-Linked-Lists-of-all-the-nodes-at-each-depth-of-a-BT.\" data-toc-modified-id=\"Create-Linked-Lists-of-all-the-nodes-at-each-depth-of-a-BT.-3.0.6\">Create Linked Lists of all the nodes at each depth of a BT.</a></span></li><li><span><a href=\"#Write-an-algorithm-to-find-the-'next'-node-(i.e.,-in-order-successor)-of-a-given-node-in-a-binary-search-tree.-You-may-assume-that-each-node-has-a-link-to-its-parent.---[CtCI:-4.6].\" data-toc-modified-id=\"Write-an-algorithm-to-find-the-'next'-node-(i.e.,-in-order-successor)-of-a-given-node-in-a-binary-search-tree.-You-may-assume-that-each-node-has-a-link-to-its-parent.---[CtCI:-4.6].-3.0.7\">Write an algorithm to find the 'next' node (i.e., in-order successor) of a given node in a binary search tree. You may assume that each node has a link to its parent. - [CtCI: 4.6].</a></span></li><li><span><a href=\"#Print-the-path-starting-from-root-whose-sum-is-equal-to-a-given-number.---[CtCI:-4.7].\" data-toc-modified-id=\"Print-the-path-starting-from-root-whose-sum-is-equal-to-a-given-number.---[CtCI:-4.7].-3.0.8\">Print the path starting from root whose sum is equal to a given number. - [CtCI: 4.7].</a></span></li><li><span><a href=\"#Print-the-nodes-of-K-distance-from-ROOT.\" data-toc-modified-id=\"Print-the-nodes-of-K-distance-from-ROOT.-3.0.9\">Print the nodes of K distance from ROOT.</a></span></li><li><span><a href=\"#Print-the-nodes-of-K-distance-from-LEAF.\" data-toc-modified-id=\"Print-the-nodes-of-K-distance-from-LEAF.-3.0.10\">Print the nodes of K distance from LEAF.</a></span></li><li><span><a href=\"#Print-the-nodes-of-having-K-leaves-in-its-subtree.\" data-toc-modified-id=\"Print-the-nodes-of-having-K-leaves-in-its-subtree.-3.0.11\">Print the nodes of having K leaves in its subtree.</a></span></li><li><span><a href=\"#Find-the-distance-of-two-nodes-of-a-Binary-Tree.\" data-toc-modified-id=\"Find-the-distance-of-two-nodes-of-a-Binary-Tree.-3.0.12\">Find the distance of two nodes of a Binary Tree.</a></span></li><li><span><a href=\"#Check-if-one-tree-is-a-subtree-of-another-tree.\" data-toc-modified-id=\"Check-if-one-tree-is-a-subtree-of-another-tree.-3.0.13\">Check if one tree is a subtree of another tree.</a></span></li><li><span><a href=\"#Convert-a-Binary-Tree-into-its-SumTree.\" data-toc-modified-id=\"Convert-a-Binary-Tree-into-its-SumTree.-3.0.14\">Convert a Binary Tree into its SumTree.</a></span></li><li><span><a href=\"#Check-if-the-given-tree-is-sum-tree.\" data-toc-modified-id=\"Check-if-the-given-tree-is-sum-tree.-3.0.15\">Check if the given tree is sum tree.</a></span></li><li><span><a href=\"#Check-if-one-tree-is-a-mirror-of-another-tree.-Alternatively,-Test-if-binary-is-symmetric.---[EPI:-9.2].\" data-toc-modified-id=\"Check-if-one-tree-is-a-mirror-of-another-tree.-Alternatively,-Test-if-binary-is-symmetric.---[EPI:-9.2].-3.0.16\">Check if one tree is a mirror of another tree. Alternatively, Test if binary is symmetric. - [EPI: 9.2].</a></span></li><li><span><a href=\"#Invert-a-Binary-tree.\" data-toc-modified-id=\"Invert-a-Binary-tree.-3.0.17\">Invert a Binary tree.</a></span></li><li><span><a href=\"#Print-the-Vertical-Sum-in-binary-Tree.\" data-toc-modified-id=\"Print-the-Vertical-Sum-in-binary-Tree.-3.0.18\">Print the Vertical Sum in binary Tree.</a></span></li><li><span><a href=\"#Make-a-Binary-Tree-from-Given-INORDER-and-PREORDER-Traversal.\" data-toc-modified-id=\"Make-a-Binary-Tree-from-Given-INORDER-and-PREORDER-Traversal.-3.0.19\">Make a Binary Tree from Given INORDER and PREORDER Traversal.</a></span></li><li><span><a href=\"#Make-a-Binary-Tree-from-Given-INORDER-and-POSTORDER-Traversal.\" data-toc-modified-id=\"Make-a-Binary-Tree-from-Given-INORDER-and-POSTORDER-Traversal.-3.0.20\">Make a Binary Tree from Given INORDER and POSTORDER Traversal.</a></span></li></ul></li></ul></li><li><span><a href=\"#Question-Set:-Views-of-Tree\" data-toc-modified-id=\"Question-Set:-Views-of-Tree-4\">Question Set: Views of Tree</a></span><ul class=\"toc-item\"><li><ul class=\"toc-item\"><li><ul class=\"toc-item\"><li><span><a href=\"#Print-the-left-view-of-the-given-tree.\" data-toc-modified-id=\"Print-the-left-view-of-the-given-tree.-4.0.0.1\">Print the left view of the given tree.</a></span></li></ul></li><li><span><a href=\"#Print-the-right-view-of-the-given-tree.\" data-toc-modified-id=\"Print-the-right-view-of-the-given-tree.-4.0.1\">Print the right view of the given tree.</a></span></li><li><span><a href=\"#Print-the-top-view-of-the-given-tree.\" data-toc-modified-id=\"Print-the-top-view-of-the-given-tree.-4.0.2\">Print the top view of the given tree.</a></span></li><li><span><a href=\"#Print-the-bottom-view-of-the-given-tree.\" data-toc-modified-id=\"Print-the-bottom-view-of-the-given-tree.-4.0.3\">Print the bottom view of the given tree.</a></span></li></ul></li></ul></li><li><span><a href=\"#Collection:\" data-toc-modified-id=\"Collection:-5\">Collection:</a></span><ul class=\"toc-item\"><li><ul class=\"toc-item\"><li><span><a href=\"#All-Elements-in-Two-Binary-Search-Trees\" data-toc-modified-id=\"All-Elements-in-Two-Binary-Search-Trees-5.0.1\"><a href=\"https://leetcode.com/problems/all-elements-in-two-binary-search-trees/\" target=\"_blank\">All Elements in Two Binary Search Trees</a></a></span></li></ul></li></ul></li></ul></div>"
   ]
  },
  {
   "cell_type": "code",
   "execution_count": 1,
   "metadata": {},
   "outputs": [],
   "source": [
    "from typing import List\n",
    "from random import randrange, randint, choice, choices\n",
    "from math import log2, floor, ceil\n",
    "from collections import deque\n",
    "import sys, os, json"
   ]
  },
  {
   "cell_type": "code",
   "execution_count": 2,
   "metadata": {},
   "outputs": [],
   "source": [
    "from ads import *\n",
    "from ads.utils import gen_bst, gen_bst_st, get_subtree, load_json_data, dirpy\n",
    "from ads.searching import AVL\n",
    "from ads.utils import BSTNode, SLLNode, dirpy"
   ]
  },
  {
   "cell_type": "code",
   "execution_count": 4,
   "metadata": {},
   "outputs": [],
   "source": [
    "ADS = os.environ['ADS']\n",
    "# DATA = load_json_data('tree', file_dir=ADS +'/data/')"
   ]
  },
  {
   "cell_type": "code",
   "execution_count": 9,
   "metadata": {},
   "outputs": [],
   "source": [
    "# sys.path.insert(0, '../Util')  # add Util package at begining of your python path.\n",
    "# %run -i './util.py'\n",
    "# %run -i '/Users/am/mydocs/Software_Development/Algorithms_and_Data_Structures/ads/utils/utils.py'"
   ]
  },
  {
   "cell_type": "markdown",
   "metadata": {},
   "source": [
    "- [Binary Tree Algorithms for Technical Interviews](https://www.youtube.com/watch?v=fAAZixBzIAI)\n",
    "- []()"
   ]
  },
  {
   "cell_type": "markdown",
   "metadata": {
    "heading_collapsed": true,
    "jp-MarkdownHeadingCollapsed": true
   },
   "source": [
    "## Basic Tree Questions:"
   ]
  },
  {
   "cell_type": "markdown",
   "metadata": {
    "heading_collapsed": true,
    "hidden": true,
    "jp-MarkdownHeadingCollapsed": true
   },
   "source": [
    "#### Compute the height of a binary tree."
   ]
  },
  {
   "cell_type": "code",
   "execution_count": 5,
   "metadata": {
    "code_folding": [],
    "hidden": true
   },
   "outputs": [],
   "source": [
    "def height_A(x) -> int:\n",
    "    '''Computes the height of specified tree in zero-based indexing.\n",
    "\n",
    "    Returns:\n",
    "        int: the height of the given tree.\n",
    "    '''\n",
    "    if x is None: return -1\n",
    "    left = height_A(x._left)\n",
    "    right = height_A(x._right)\n",
    "    return max(left, right) + 1"
   ]
  },
  {
   "cell_type": "code",
   "execution_count": 6,
   "metadata": {
    "code_folding": [],
    "hidden": true
   },
   "outputs": [],
   "source": [
    "def height_B(x) -> int:\n",
    "    '''Computes the height of specified tree in one-based indexing.\n",
    "\n",
    "    Returns:\n",
    "        int: the height of the given tree.\n",
    "    '''\n",
    "    if x is None: return 0\n",
    "    left = height_B(x._left)\n",
    "    right = height_B(x._right)\n",
    "    return max(left, right) + 1"
   ]
  },
  {
   "cell_type": "code",
   "execution_count": 7,
   "metadata": {
    "hidden": true
   },
   "outputs": [],
   "source": [
    "def _test_height():\n",
    "    bst = gen_bst()\n",
    "    print(bst)\n",
    "    print('height in zero-based indexing: ', height_A(bst))\n",
    "    print('height in one-based indexing: ', height_B(bst))"
   ]
  },
  {
   "cell_type": "code",
   "execution_count": 8,
   "metadata": {
    "hidden": true
   },
   "outputs": [
    {
     "name": "stdout",
     "output_type": "stream",
     "text": [
      "      ...10..      \n",
      "     /       \\     \n",
      "   .5..       13   \n",
      "  /    \\     / \\   \n",
      "  3     7   11 14  \n",
      " / \\   / \\  /\\ /\\  \n",
      "2  4  6  8      15 \n",
      "/\\ /\\ /\\ /\\     /\\ \n",
      "                 16\n",
      "                 /\\\n",
      "height in zero-basec indexing:  4\n",
      "height in one-basec indexing:  5\n"
     ]
    }
   ],
   "source": [
    "_test_height()"
   ]
  },
  {
   "cell_type": "markdown",
   "metadata": {
    "heading_collapsed": true,
    "hidden": true,
    "jp-MarkdownHeadingCollapsed": true
   },
   "source": [
    "#### Compute the width of a binary tree."
   ]
  },
  {
   "cell_type": "code",
   "execution_count": 15,
   "metadata": {
    "hidden": true
   },
   "outputs": [],
   "source": [
    "def width(x):\n",
    "    if x is None: raise ValueError()\n",
    "    max_width = 0\n",
    "    deq = deque()\n",
    "    deq.append(x)\n",
    "    \n",
    "    while deq:\n",
    "        num_level_nodes = len(deq)\n",
    "        max_width = max(max_width, num_level_nodes)\n",
    "        while num_level_nodes > 0:\n",
    "            y = deq.popleft()\n",
    "            if y._left: deq.append(y._left)\n",
    "            if y._right: deq.append(y._right)\n",
    "            num_level_nodes -= 1\n",
    "    return max_width"
   ]
  },
  {
   "cell_type": "code",
   "execution_count": 16,
   "metadata": {
    "hidden": true
   },
   "outputs": [],
   "source": [
    "def _test_width():\n",
    "    bst = gen_bst()\n",
    "    print(bst, \"\\nWidth of the tree: \", width(bst))"
   ]
  },
  {
   "cell_type": "code",
   "execution_count": 17,
   "metadata": {
    "hidden": true
   },
   "outputs": [
    {
     "name": "stdout",
     "output_type": "stream",
     "text": [
      "      ...10..      \n",
      "     /       \\     \n",
      "   .5..       13   \n",
      "  /    \\     / \\   \n",
      "  3     7   11 14  \n",
      " / \\   / \\  /\\ /\\  \n",
      "2  4  6  8      15 \n",
      "/\\ /\\ /\\ /\\     /\\ \n",
      "                 16\n",
      "                 /\\ \n",
      "Width of the tree:  5\n"
     ]
    }
   ],
   "source": [
    "_test_width()"
   ]
  },
  {
   "cell_type": "markdown",
   "metadata": {
    "heading_collapsed": true,
    "hidden": true,
    "jp-MarkdownHeadingCollapsed": true
   },
   "source": [
    "#### Find the number of leaves of binary tree and collect them."
   ]
  },
  {
   "cell_type": "code",
   "execution_count": 15,
   "metadata": {
    "code_folding": [],
    "hidden": true
   },
   "outputs": [],
   "source": [
    "def count_leaves(x):\n",
    "    if x is None: return 0\n",
    "    if not x._left and not x._right: return 1\n",
    "    left_count = count_leaves(x._left)\n",
    "    right_count = count_leaves(x._right)\n",
    "    return left_count + right_count\n",
    "\n",
    "\n",
    "def collect_leaves(x: BSTNode):\n",
    "    \n",
    "    def _collect_leaves(x: BSTNode, res):\n",
    "        if x is None: return\n",
    "        if x._left is None and x._right is None: res.append(x._key)\n",
    "        _collect_leaves(x._left, res)\n",
    "        _collect_leaves(x._right, res)\n",
    "    \n",
    "    res = []\n",
    "    _collect_leaves(x, res)\n",
    "    return res"
   ]
  },
  {
   "cell_type": "code",
   "execution_count": 20,
   "metadata": {
    "code_folding": [],
    "hidden": true
   },
   "outputs": [
    {
     "name": "stdout",
     "output_type": "stream",
     "text": [
      "      ...10..      \n",
      "     /       \\     \n",
      "   .5..       13   \n",
      "  /    \\     / \\   \n",
      "  3     7   11 14  \n",
      " / \\   / \\  /\\ /\\  \n",
      "2  4  6  8      15 \n",
      "/\\ /\\ /\\ /\\     /\\ \n",
      "                 16\n",
      "                 /\\ \n",
      "Total number of leves:  1\n",
      "Collection of Leaves:  [2, 4, 6, 8, 11, 16]\n"
     ]
    }
   ],
   "source": [
    "def _test_leaves():\n",
    "    bst = gen_bst()\n",
    "    print(bst, '\\nTotal number of leves: ', count_leaves(bst))\n",
    "    print(\"Collection of Leaves: \", collect_leaves(bst))\n",
    "\n",
    "_test_leaves()"
   ]
  },
  {
   "cell_type": "markdown",
   "metadata": {
    "heading_collapsed": true,
    "hidden": true,
    "jp-MarkdownHeadingCollapsed": true
   },
   "source": [
    "#### Print the paths to all the leaves."
   ]
  },
  {
   "cell_type": "code",
   "execution_count": 23,
   "metadata": {
    "hidden": true
   },
   "outputs": [],
   "source": [
    "def leaves_paths(x):\n",
    "    \n",
    "    def _leaves_paths(x, paths, path=[]):\n",
    "        if x is None: return\n",
    "        path.append(x._key)\n",
    "        if not x._left and not x._right: paths.append([*path])\n",
    "\n",
    "        _leaves_paths(x._left, paths, path)\n",
    "        _leaves_paths(x._right, paths, path)\n",
    "        path.pop()\n",
    "    \n",
    "    paths = []\n",
    "    _leaves_paths(x, paths)\n",
    "    return paths"
   ]
  },
  {
   "cell_type": "code",
   "execution_count": 24,
   "metadata": {
    "hidden": true
   },
   "outputs": [
    {
     "name": "stdout",
     "output_type": "stream",
     "text": [
      "         ......546......          \n",
      "        /               \\         \n",
      "    ...213...        ..766...     \n",
      "   /         \\      /        \\    \n",
      "  .4.        507   579       802  \n",
      " /   \\      /   \\ /   \\      / \\  \n",
      "3   144   329        675.      929\n",
      "/\\  /  \\  /  \\      /    \\     / \\\n",
      "   16    282 391   616   762  921 \n",
      "   /\\    / \\ / \\   / \\   / \\  / \\ \n",
      "    105              632          \n",
      "    / \\              / \\          \n",
      "[546, 213, 4, 3]\n",
      "[546, 213, 4, 144, 16, 105]\n",
      "[546, 213, 507, 329, 282]\n",
      "[546, 213, 507, 329, 391]\n",
      "[546, 766, 579, 675, 616, 632]\n",
      "[546, 766, 579, 675, 762]\n",
      "[546, 766, 802, 929, 921]\n"
     ]
    }
   ],
   "source": [
    "def _test_leaves_paths():\n",
    "    L = [randrange(1, 1000) for _ in range(20)]\n",
    "    bst = gen_bst(L)\n",
    "    print(bst)\n",
    "    for item in leaves_paths(bst):\n",
    "        print(item)\n",
    "\n",
    "_test_leaves_paths()"
   ]
  },
  {
   "cell_type": "markdown",
   "metadata": {
    "heading_collapsed": true,
    "hidden": true,
    "jp-MarkdownHeadingCollapsed": true
   },
   "source": [
    "#### Count the number of full nodes of a binary tree and collect them."
   ]
  },
  {
   "cell_type": "markdown",
   "metadata": {
    "hidden": true
   },
   "source": [
    "- Computes in bottom-up fashion"
   ]
  },
  {
   "cell_type": "code",
   "execution_count": null,
   "metadata": {
    "code_folding": [],
    "hidden": true
   },
   "outputs": [],
   "source": [
    "def count_full_nodes(x):\n",
    "    if not x: return 0\n",
    "    \n",
    "    left_res = count_full_nodes(x._left)\n",
    "    right_res = count_full_nodes(x._right)\n",
    "    \n",
    "    if left_res and right_res: return left_res + right_res + 1\n",
    "    if left_res and x._right: return left_res + 1\n",
    "    if right_res and x._left: return right_res + 1    \n",
    "    if x._left and x._right: return 1    \n",
    "    # return left_res + right_res # if left_res or right_res\n",
    "    return left_res if not right_res else right_res"
   ]
  },
  {
   "cell_type": "markdown",
   "metadata": {
    "hidden": true
   },
   "source": [
    "- Computes in Top-Down fashion"
   ]
  },
  {
   "cell_type": "code",
   "execution_count": 87,
   "metadata": {
    "code_folding": [],
    "hidden": true
   },
   "outputs": [],
   "source": [
    "def count_full_nodes_v2(x: Node) -> int:\n",
    "    def _count(x, counter):\n",
    "        if not x: return None\n",
    "        if x._left and x._right: counter[0] += 1\n",
    "        _count(x._left, counter)\n",
    "        _count(x._right, counter)\n",
    "\n",
    "    counter = [0]\n",
    "    _count(x, counter)\n",
    "    return counter[0]"
   ]
  },
  {
   "cell_type": "markdown",
   "metadata": {
    "hidden": true
   },
   "source": [
    "- Computes in Top-down fashion"
   ]
  },
  {
   "cell_type": "code",
   "execution_count": null,
   "metadata": {
    "code_folding": [],
    "hidden": true
   },
   "outputs": [],
   "source": [
    "def collect_full_nodes1(x):\n",
    "    def _collect_full_nodes1(x, nodes):\n",
    "        if not x: return\n",
    "        if x._left and x._right: nodes.append(x._key)\n",
    "        _collect_full_nodes1(x._left, nodes)\n",
    "        _collect_full_nodes1(x._right, nodes)\n",
    "\n",
    "    nodes = []\n",
    "    _collect_full_nodes1(x, nodes)\n",
    "    return nodes"
   ]
  },
  {
   "cell_type": "markdown",
   "metadata": {
    "hidden": true
   },
   "source": [
    "- Computes in bottom-up fashion"
   ]
  },
  {
   "cell_type": "code",
   "execution_count": 89,
   "metadata": {
    "code_folding": [],
    "hidden": true
   },
   "outputs": [],
   "source": [
    "def collect_full_nodes2(x, **kwarg):\n",
    "    def _collect_full_nodes2(x, res, counter):\n",
    "        if x is None: return\n",
    "        _collect_full_nodes2(x._left, res, counter)\n",
    "        _collect_full_nodes2(x._right, res, counter)\n",
    "        if x._left and x._right:\n",
    "            res.append(x._key)\n",
    "            counter[0] += 1\n",
    "\n",
    "    res = []\n",
    "    counter = [0]\n",
    "    _collect_full_nodes2(x, res, counter)\n",
    "    if kwarg['count']: return counter[0]\n",
    "    return res"
   ]
  },
  {
   "cell_type": "code",
   "execution_count": 97,
   "metadata": {
    "code_folding": [],
    "hidden": true
   },
   "outputs": [
    {
     "name": "stdout",
     "output_type": "stream",
     "text": [
      "       ...-6..         \n",
      "      /       \\        \n",
      "    .-24.    .19.      \n",
      "   /     \\  /    \\     \n",
      " -75       3    .80.   \n",
      " /  \\      /\\  /    \\  \n",
      "-90 -67       20     97\n",
      "/ \\ / \\       /\\    / \\\n",
      "      -29      22  88  \n",
      "      / \\      /\\  /\\  \n",
      "                79  92 \n",
      "                /\\  /\\ \n",
      "# Full Nodes:\n",
      "4\n",
      "Full Nodes are:\n",
      "[-75, -6, 19, 80]\n"
     ]
    }
   ],
   "source": [
    "def _test_full_nodes():\n",
    "    for i in range(1000):\n",
    "        bst = gen_bst([randint(-99, 99) for _ in range(15)])\n",
    "        nodes_count = count_full_nodes(bst)\n",
    "        nodes1 = collect_full_nodes1(bst)\n",
    "        nodes2 = collect_full_nodes2(bst, count=False)\n",
    "    \n",
    "        assert nodes1.sort() == nodes2.sort()\n",
    "        assert nodes_count == collect_full_nodes2(bst, count=True) == count_full_nodes_v2(bst)\n",
    "        \n",
    "        if i == 0:\n",
    "            print(bst, '# Full Nodes:', nodes_count, 'Full Nodes are:',nodes1, sep='\\n')\n",
    "        \n",
    "_test_full_nodes()"
   ]
  },
  {
   "cell_type": "markdown",
   "metadata": {
    "heading_collapsed": true,
    "hidden": true,
    "jp-MarkdownHeadingCollapsed": true
   },
   "source": [
    "#### Find the Max element in a Given Binary Tree. "
   ]
  },
  {
   "cell_type": "markdown",
   "metadata": {
    "hidden": true
   },
   "source": [
    "`Note`: The specified tree may not be a Binary Search Tree."
   ]
  },
  {
   "cell_type": "code",
   "execution_count": 21,
   "metadata": {
    "hidden": true
   },
   "outputs": [],
   "source": [
    "def max_binary_tree(x):\n",
    "    if x is None: return float('-inf')\n",
    "    max_left_subtree = max_binary_tree(x._left)\n",
    "    max_right_subtree = max_binary_tree(x._right)\n",
    "    return max(x._key, max_left_subtree, max_right_subtree)"
   ]
  },
  {
   "cell_type": "code",
   "execution_count": 23,
   "metadata": {
    "hidden": true
   },
   "outputs": [],
   "source": [
    "def _test_max_binary_tree():\n",
    "    L = [randrange(10, 100) for _ in range(20)]\n",
    "    bst = gen_bst(L)\n",
    "    assert max_binary_tree(bst) == max(L)\n",
    "\n",
    "_test_max_binary_tree()"
   ]
  },
  {
   "cell_type": "markdown",
   "metadata": {
    "heading_collapsed": true,
    "jp-MarkdownHeadingCollapsed": true
   },
   "source": [
    "## Question Set: Traversals:"
   ]
  },
  {
   "cell_type": "markdown",
   "metadata": {
    "heading_collapsed": true,
    "hidden": true,
    "jp-MarkdownHeadingCollapsed": true
   },
   "source": [
    "##### Implement inorder traversal of a binary tree."
   ]
  },
  {
   "cell_type": "markdown",
   "metadata": {
    "hidden": true
   },
   "source": [
    "- [Morris Traversal - Leetcode 94. Binary Tree Inorder Traversal](https://www.youtube.com/watch?v=fow18kktPMM)\n",
    "- [Three ways of Iterative Inorder Traversing](https://leetcode.com/problems/binary-tree-inorder-traversal/discuss/31313/three-ways-of-iterative-inorder-traversing-easy-explanation)\n",
    "- Morris traversal:\n",
    "    - Time: O(n)\n",
    "    - Space: O(1)"
   ]
  },
  {
   "cell_type": "code",
   "execution_count": 25,
   "metadata": {
    "code_folding": [],
    "hidden": true
   },
   "outputs": [],
   "source": [
    "def inorder_iter(root):\n",
    "    x, stk = root, []\n",
    "    \n",
    "    while True:\n",
    "        while x is not None:\n",
    "            stk.append(x)\n",
    "            x = x._left\n",
    "\n",
    "        if not stk: return\n",
    "        x = stk.pop()\n",
    "        print(x._key)\n",
    "        x = x._right\n",
    "\n",
    "\n",
    "def inorder_iter_v2(x: Node) -> None:\n",
    "    stk, result = [], []\n",
    "\n",
    "    while stk or x:\n",
    "        if x:\n",
    "            stk.append(x)\n",
    "            x = x._left\n",
    "        else:\n",
    "            # Going up.\n",
    "            x = stk.pop()\n",
    "            result.append(x._key)\n",
    "            x = x._right\n",
    "    return result\n",
    "        \n",
    "def inorder_rec(x):\n",
    "    if x is None: return\n",
    "    inorder_rec(x._left)\n",
    "    print(x._key)\n",
    "    inorder_rec(x._right)"
   ]
  },
  {
   "cell_type": "code",
   "execution_count": 26,
   "metadata": {
    "code_folding": [],
    "hidden": true
   },
   "outputs": [
    {
     "name": "stdout",
     "output_type": "stream",
     "text": [
      "   ..-45...            \n",
      "  /        \\           \n",
      " -82       -18         \n",
      " / \\      /   \\        \n",
      "-89      -22   -4      \n",
      "/ \\     /   \\ / \\      \n",
      "      -37       .-1    \n",
      "      /  \\     /   \\   \n",
      "     -45 -27      .98. \n",
      "     / \\ / \\     /    \\\n",
      "                50     \n",
      "                / \\    \n",
      "                   88  \n",
      "                  / \\  \n",
      "                 50 90 \n",
      "                 /\\ /\\ \n",
      "inorder_iterative: \n",
      "-89\n",
      "-82\n",
      "-45\n",
      "-45\n",
      "-37\n",
      "-27\n",
      "-22\n",
      "-18\n",
      "-4\n",
      "-1\n",
      "50\n",
      "50\n",
      "88\n",
      "90\n",
      "98\n",
      "inorder_recursive: \n",
      "-89\n",
      "-82\n",
      "-45\n",
      "-45\n",
      "-37\n",
      "-27\n",
      "-22\n",
      "-18\n",
      "-4\n",
      "-1\n",
      "50\n",
      "50\n",
      "88\n",
      "90\n",
      "98\n"
     ]
    }
   ],
   "source": [
    "def _test_inorder_traversal():\n",
    "    bst = gen_bst([randint(-99, 99) for _ in range(15)])\n",
    "    print(bst)\n",
    "\n",
    "    print(\"inorder_iterative: \")\n",
    "    inorder_iter(bst)\n",
    "    \n",
    "    print(\"inorder_recursive: \")\n",
    "    inorder_rec(bst)\n",
    "\n",
    "_test_inorder_traversal()"
   ]
  },
  {
   "cell_type": "markdown",
   "metadata": {
    "heading_collapsed": true,
    "hidden": true,
    "jp-MarkdownHeadingCollapsed": true
   },
   "source": [
    "#### Implement pre-order traversal of a binary tree."
   ]
  },
  {
   "cell_type": "code",
   "execution_count": null,
   "metadata": {
    "hidden": true
   },
   "outputs": [],
   "source": [
    "def preorder_iter(x: Node) -> None:\n",
    "\n",
    "    path, result = [x], []\n",
    "    while path:\n",
    "        curr = path.pop()\n",
    "        if curr:\n",
    "            result.append(curr._key)\n",
    "            path += [curr._right, curr._left]\n",
    "    return result\n",
    "\n",
    "\n",
    "def preorder_rec(x: Node) -> None:\n",
    "    def _preorder_rec(x: Node):\n",
    "        if not x: return None\n",
    "        preorder.append(x._key)\n",
    "        _preorder_rec(x._left)\n",
    "        _preorder_rec(x._right)\n",
    "\n",
    "    preorder = []\n",
    "    _preorder_rec(x)\n",
    "    return preorder"
   ]
  },
  {
   "cell_type": "code",
   "execution_count": null,
   "metadata": {
    "hidden": true
   },
   "outputs": [],
   "source": [
    "def _test_preorder_iter():\n",
    "    bst = gen_bst([randint(0, 20) for _ in range(7)])\n",
    "    print(bst, preorder_rec(bst), sep='\\n\\n')\n",
    "\n",
    "_test_preorder_iter()"
   ]
  },
  {
   "cell_type": "markdown",
   "metadata": {
    "heading_collapsed": true,
    "hidden": true,
    "jp-MarkdownHeadingCollapsed": true
   },
   "source": [
    "#### Implement post-order traversal of a binary tree."
   ]
  },
  {
   "cell_type": "markdown",
   "metadata": {
    "hidden": true
   },
   "source": [
    "- [3 ways of Iterative PostOrder Traversing (Morris traversal)](https://leetcode.com/problems/binary-tree-postorder-traversal/discuss/45648/three-ways-of-iterative-postorder-traversing-easy-explanation)"
   ]
  },
  {
   "cell_type": "code",
   "execution_count": 33,
   "metadata": {
    "code_folding": [
     0
    ],
    "hidden": true
   },
   "outputs": [],
   "source": [
    "def postorder_rec(x: Node) -> None:\n",
    "    def _postorder_rec(x: Node):\n",
    "        if not x: return None\n",
    "        _postorder_rec(x._left)\n",
    "        _postorder_rec(x._right)\n",
    "        postorder.append(x._key)\n",
    "\n",
    "    postorder = []\n",
    "    _postorder_rec(x)\n",
    "    return postorder\n",
    "\n",
    "def postorder_iter(x: Node) -> None:\n",
    "    postorder, stk1, stk2 = [], deque(), deque()\n",
    "    stk1.append(x)\n",
    "\n",
    "    while stk1:\n",
    "        current = stk1.pop()\n",
    "        stk2.append(current)\n",
    "        if current._left: stk1.append(current._left)\n",
    "        if current._right: stk1.append(current._right)\n",
    "\n",
    "    while stk2:\n",
    "        tmp = stk2.pop()\n",
    "        postorder.append(tmp._key)\n",
    "\n",
    "    return postorder\n",
    "\n",
    "def postorder_iter_v2(root):\n",
    "    if not root: return []\n",
    "    stk, postorder = [], []\n",
    "    current, prev = root, None\n",
    "\n",
    "    while current or stk:\n",
    "        if current:\n",
    "            stk.append(current)\n",
    "            current = current._left\n",
    "        else:\n",
    "            current = stk[-1]\n",
    "            if not current._right or current._right == prev:\n",
    "                postorder.append(current._key)\n",
    "                stk.pop()\n",
    "                prev = current\n",
    "                current = None\n",
    "            else:\n",
    "                current = current._right\n",
    "    return postorder"
   ]
  },
  {
   "cell_type": "code",
   "execution_count": 46,
   "metadata": {
    "hidden": true
   },
   "outputs": [
    {
     "name": "stdout",
     "output_type": "stream",
     "text": [
      "   ...2....         \n",
      "  /        \\        \n",
      "  1     ...13...    \n",
      " / \\   /        \\   \n",
      "0     3.       .20. \n",
      "/\\   /  \\     /    \\\n",
      " 0      12   17     \n",
      " /\\     /\\  /  \\    \n",
      "       9   13   18  \n",
      "       /\\  /\\  / \\  \n",
      "      7       17 18 \n",
      "      /\\      /\\ /\\ \n",
      "\n",
      "[0, 0, 1, 7, 9, 12, 3, 13, 17, 18, 18, 17, 20, 13, 2]\n"
     ]
    }
   ],
   "source": [
    "def _test_postorder_rec():\n",
    "    for i in range(100):\n",
    "        L = [randint(0, 20) for _ in range(15)]\n",
    "        bst = gen_bst(L)\n",
    "        assert postorder_iter(bst) == postorder_iter_v2(bst) == postorder_rec(bst)\n",
    "        if i == 0: print(bst, postorder_rec(bst), sep='\\n\\n')\n",
    "\n",
    "_test_postorder_rec()"
   ]
  },
  {
   "cell_type": "markdown",
   "metadata": {
    "heading_collapsed": true,
    "hidden": true,
    "jp-MarkdownHeadingCollapsed": true
   },
   "source": [
    "#### Implement spiral-order traversal of a binary tree."
   ]
  },
  {
   "cell_type": "code",
   "execution_count": null,
   "metadata": {
    "hidden": true
   },
   "outputs": [],
   "source": [
    "def spiral_order(x: Node) -> None:\n",
    "    spiral = []\n",
    "    stk1 = deque()\n",
    "    stk2 = deque()\n",
    "    stk1.append(x)\n",
    "\n",
    "    while stk1 or stk2:\n",
    "\n",
    "        while stk1:\n",
    "            current = stk1.pop()\n",
    "            spiral.append(current._key)\n",
    "            if current._left: stk2.append(current._left)\n",
    "            if current._right: stk2.append(current._right)\n",
    "\n",
    "        while stk2:\n",
    "            current = stk2.pop()\n",
    "            spiral.append(current._key)\n",
    "            if current._right: stk1.append(current._right)\n",
    "            if current._left: stk1.append(current._left)\n",
    "\n",
    "    return spiral\n",
    "\n"
   ]
  },
  {
   "cell_type": "markdown",
   "metadata": {
    "heading_collapsed": true,
    "hidden": true,
    "jp-MarkdownHeadingCollapsed": true
   },
   "source": [
    "#### Implement level-order traversal of a binary tree."
   ]
  },
  {
   "cell_type": "code",
   "execution_count": null,
   "metadata": {
    "hidden": true
   },
   "outputs": [],
   "source": []
  },
  {
   "cell_type": "code",
   "execution_count": null,
   "metadata": {
    "hidden": true
   },
   "outputs": [],
   "source": []
  },
  {
   "cell_type": "markdown",
   "metadata": {
    "heading_collapsed": true,
    "hidden": true,
    "jp-MarkdownHeadingCollapsed": true
   },
   "source": [
    "#### Implement vertical-order traversal of a binary tree."
   ]
  },
  {
   "cell_type": "code",
   "execution_count": null,
   "metadata": {
    "hidden": true
   },
   "outputs": [],
   "source": [
    "def vertical_order(x: Node) -> None:\n",
    "    def _vertical_order(x, hd, hd_elms):\n",
    "        if not x: return None\n",
    "        _vertical_order(x._left, hd - 1, hd_elms)\n",
    "\n",
    "        hd_elms[hd] = hd_elms.get(hd, []) + [x._key]\n",
    "        _vertical_order(x._right, hd + 1, hd_elms)\n",
    "\n",
    "    hd_elms = {}\n",
    "    hd = 0\n",
    "    _vertical_order(x, hd, hd_elms)\n",
    "    result = [val for val in hd_elms.values()]\n",
    "    return result"
   ]
  },
  {
   "cell_type": "markdown",
   "metadata": {
    "heading_collapsed": true,
    "jp-MarkdownHeadingCollapsed": true
   },
   "source": [
    "#### <b style='color:#C71585'>Question Set: Fundamentals</b>"
   ]
  },
  {
   "cell_type": "markdown",
   "metadata": {
    "heading_collapsed": true,
    "hidden": true,
    "jp-MarkdownHeadingCollapsed": true
   },
   "source": [
    "#### Find the first common ancestor of two nodes in a binary tree."
   ]
  },
  {
   "cell_type": "markdown",
   "metadata": {
    "hidden": true
   },
   "source": [
    "- **NOTE**: \n",
    "    -   Avoid storing additional nodes in a data structure. \n",
    "    -   This is not necessarily a binary search tree. - [EPI: 9.3, EPI: 9.4, EPI: 12.4, EPI: 14.4]."
   ]
  },
  {
   "cell_type": "code",
   "execution_count": 18,
   "metadata": {
    "hidden": true
   },
   "outputs": [],
   "source": [
    "# compute the LCW of Binary Tree from ROOT.\n",
    "def lowest_common_ancestor(x, n1, n2):\n",
    "    if not x: return None\n",
    "    if x._key == n1._key or x._key == n2._key: return x\n",
    "    \n",
    "    left_result = lowest_common_ancestor(x._left, n1, n2)\n",
    "    right_result = lowest_common_ancestor(x._right, n1, n2)\n",
    "    \n",
    "    if left_result and right_result: return x\n",
    "    if left_result: return left_result\n",
    "    if right_result: return right_result\n",
    "        \n",
    "    return None\n",
    "\n",
    "\n",
    "# compute the LCW of BST of distinct keys from top.\n",
    "# Input nodes are nonempty and the key at s is less than or equal to that at b.\n",
    "def find_LCA(x, s, b):\n",
    "    '''\n",
    "    x: the root of a binary search tree.\n",
    "    s: smaller one of two nodes whose LWC is to find.\n",
    "    b: bigger one of two nodes whose LWC is to find.\n",
    "    '''\n",
    "\n",
    "    # Keep searching since tree is outside of [s, b].\n",
    "    while x._key < s._key or x._key > b._key:\n",
    "        while x._key < s._key: x = x._right # LCW must be in x's right subtree\n",
    "        while x._key > b._key: x = x._left  # LCW must be in x's left subtree\n",
    "        \n",
    "        # Now, s.data <= tree.data && tree.data <= b.data.\n",
    "        return x\n",
    "\n",
    "\n",
    "def lca_close_ancestor_with_parent_pntr(x, y):\n",
    "\n",
    "    n1, n2 = x, y\n",
    "    nodes_on_path_to_root = set()\n",
    "\n",
    "    while n1 or n2:\n",
    "        # Ascend tree in tandem for these two nodes.\n",
    "        if n1:\n",
    "            if n1 in nodes_on_path_to_root: return n1\n",
    "            nodes_on_path_to_root.add(n1)\n",
    "            n1 = n1.parent\n",
    "        if n2:\n",
    "            if n2 in nodes_on_path_to_root: return n2\n",
    "            nodes_on_path_to_root.add(n2)\n",
    "            n2 = n2.parent\n",
    "\n",
    "    raise ValueError('x and y are not in the same tree')\n",
    "\n",
    "\n",
    "def lca_with_parent_pntr(x, y):\n",
    "    def get_depth(node):\n",
    "        depth = 0\n",
    "        while node:\n",
    "            depth += 1\n",
    "            node = node.parent\n",
    "        return depth\n",
    "\n",
    "    depth_x, depth_y = map(get_depth, (x, y))\n",
    "    \n",
    "    # Makes x as the deeper node in order to simplify the code.\n",
    "    if depth_y > depth_x: x, y = y, x\n",
    "\n",
    "    # Ascends from the deeper node.\n",
    "    depth_diff = abs(depth_x - depth_y)\n",
    "    while depth_diff:\n",
    "        x = x.parent\n",
    "        depth_diff -= 1\n",
    "\n",
    "    # Now ascends both nodes until we reach the LCA.\n",
    "    while x is not y: x, y = x.parent, y.parent\n",
    "    \n",
    "    return x\n",
    "\n",
    "\n",
    "def _test_lowest_common_ancestor():\n",
    "\n",
    "    L = [randrange(10, 100) for _ in range(15)]\n",
    "    bst = gen_bst(L)\n",
    "    n1 = get_subtree(bst, choice(L))\n",
    "    n2 = get_subtree(bst, choice(L))\n",
    "    lcw = lowest_common_ancestor(bst, n1, n2)\n",
    "\n",
    "    lcw2 = find_LCA(bst, n1, n2)\n",
    "\n",
    "    print(bst, '\\n', '*'*20)\n",
    "    print('key of Node1: ', n1._key, '\\nkey of Node2: ', n2._key)\n",
    "    print('Their lowest common ancestor: ', lcw._key)"
   ]
  },
  {
   "cell_type": "code",
   "execution_count": 19,
   "metadata": {
    "hidden": true
   },
   "outputs": [
    {
     "name": "stdout",
     "output_type": "stream",
     "text": [
      "     ......81.....   \n",
      "    /             \\  \n",
      "  .25..           87 \n",
      " /     \\         /  \\\n",
      "16    ..63.     86   \n",
      "/\\   /     \\    / \\  \n",
      "    31     74  84 86 \n",
      "    / \\    /\\  /\\ /\\ \n",
      "   28  53     82     \n",
      "   /\\ / \\     /\\     \n",
      "        62           \n",
      "        /\\           \n",
      "       55            \n",
      "       /\\             \n",
      " ********************\n",
      "key of Node1:  62 \n",
      "key of Node2:  86\n",
      "Their lowest common ancestor:  81\n"
     ]
    }
   ],
   "source": [
    "_test_lowest_common_ancestor()"
   ]
  },
  {
   "cell_type": "markdown",
   "metadata": {
    "heading_collapsed": true,
    "hidden": true,
    "jp-MarkdownHeadingCollapsed": true
   },
   "source": [
    "#### Implement a function to check if a binary tree is a Binary Search Tree."
   ]
  },
  {
   "cell_type": "code",
   "execution_count": 25,
   "metadata": {
    "hidden": true
   },
   "outputs": [],
   "source": [
    "def is_BST(x):\n",
    "    def _is_BST(x, smaller, larger):\n",
    "        if not x: return True\n",
    "        elif smaller and x._key < smaller: return False\n",
    "        elif larger and x._key  > larger: return False\n",
    "        return _is_BST(x._left, x._key, smaller) and _is_BST(x._right, larger, x._key)\n",
    "    \n",
    "    return _is_BST(x, None, None)"
   ]
  },
  {
   "cell_type": "code",
   "execution_count": 26,
   "metadata": {
    "code_folding": [],
    "hidden": true
   },
   "outputs": [],
   "source": [
    "def _test_is_BST():\n",
    "    for i in range(5):\n",
    "        L = [randrange(-10, 10) for _ in range(8)]\n",
    "        bst, bt = gen_bt(sorted(L)), gen_bt(L)\n",
    "        res1 = is_BST(bst)\n",
    "        res2 = is_BST(bt)\n",
    "\n",
    "        assert res1 and not res2\n",
    "\n",
    "        if not res1: print(bst)\n",
    "        if res2: print(bt)\n",
    "\n",
    "        # print(bst, '\\n************')\n",
    "\n",
    "        print(f\"\"\"{i+1}. is_BST(gen_bt({sorted(L)})) -> {res1}\"\"\")\n",
    "        print(f\"\"\"{i+1}. is_BST(gen_bt({L})) -> {res2}\"\"\")\n",
    "\n",
    "_test_is_BST()"
   ]
  },
  {
   "cell_type": "markdown",
   "metadata": {
    "heading_collapsed": true,
    "hidden": true,
    "jp-MarkdownHeadingCollapsed": true
   },
   "source": [
    "#### Implement a function to check if a binary tree is height balanced. - [EPI: 9.1]."
   ]
  },
  {
   "cell_type": "code",
   "execution_count": 22,
   "metadata": {
    "code_folding": [
     0,
     4,
     23,
     27
    ],
    "hidden": true
   },
   "outputs": [],
   "source": [
    "def is_balanced_BT_1(x):\n",
    "    return _is_balanced_BT_1(x) != -1\n",
    "\n",
    "\n",
    "def _is_balanced_BT_1(x):\n",
    "    if x is None:\n",
    "        return 0\n",
    "\n",
    "    left_res = _is_balanced_BT_1(x._left)\n",
    "    if left_res == -1:\n",
    "        return -1\n",
    "\n",
    "    right_res = _is_balanced_BT_1(x._right)\n",
    "    if right_res == -1:\n",
    "        return -1\n",
    "\n",
    "    height_diff = left_res - right_res\n",
    "\n",
    "    if abs(height_diff) > 1:\n",
    "        return -1\n",
    "    return max(left_res, right_res) + 1\n",
    "\n",
    "\n",
    "def is_balanced_BT_2(x):\n",
    "    return _is_balanced_BT_2(x)[1]\n",
    "\n",
    "\n",
    "def _is_balanced_BT_2(x):\n",
    "    if x is None:\n",
    "        return (0, True)\n",
    "\n",
    "    left_res = _is_balanced_BT_2(x._left)\n",
    "    if not left_res[1]:\n",
    "        return left_res\n",
    "\n",
    "    right_res = _is_balanced_BT_2(x._right)\n",
    "    if not right_res[1]:\n",
    "        return right_res\n",
    "\n",
    "    is_balanced = abs(left_res[0] - right_res[0]) <= 1\n",
    "\n",
    "    return (max(left_res[0], right_res[0]) + 1, is_balanced)\n",
    "\n",
    "\n",
    "def _test_is_balanced_BT():\n",
    "    L1 = [randint(-20, 20) for i in range(10)]\n",
    "    L2 = [randint(-20, 20) for i in range(10)]\n",
    "    bst = gen_bst(L1)            # generate unbalanced BST\n",
    "    print(is_balanced_BT_1(bst))\n",
    "\n",
    "    st1 = gen_bst_st(L1, type=AVLTreeST)  # generates a balanced BST\n",
    "    assert is_balanced_BT_1(st1)\n",
    "\n",
    "    bst2 = gen_bst(L2)           # generate unbalanced BST\n",
    "    print(is_balanced_BT_2(bst2))\n",
    "\n",
    "    st2 = gen_bst_st(L2, type=AVLTreeST)  # generates a balanced BST\n",
    "    assert is_balanced_BT_2(st2)"
   ]
  },
  {
   "cell_type": "code",
   "execution_count": 23,
   "metadata": {
    "hidden": true
   },
   "outputs": [
    {
     "name": "stdout",
     "output_type": "stream",
     "text": [
      "False\n",
      "False\n"
     ]
    }
   ],
   "source": [
    "_test_is_balanced_BT()"
   ]
  },
  {
   "cell_type": "markdown",
   "metadata": {
    "heading_collapsed": true,
    "hidden": true,
    "jp-MarkdownHeadingCollapsed": true
   },
   "source": [
    "#### Compute the Diameter of the given Binary Search Tree."
   ]
  },
  {
   "cell_type": "code",
   "execution_count": 24,
   "metadata": {
    "hidden": true
   },
   "outputs": [],
   "source": [
    "def diameter_BST1(x):\n",
    "    if x is None: return 0\n",
    "    left_height = height_A(x._left)\n",
    "    right_height = height_A(x._right)\n",
    "\n",
    "    left_diameter = diameter_BST1(x._left)\n",
    "    ritht_diameter = diameter_BST1(x._right)\n",
    "\n",
    "    return max(left_height + right_height + 3, max(left_diameter, right_height))\n",
    "\n",
    "\n",
    "def diameter_BST2(x):\n",
    "    if x is None: return 0\n",
    "    left_diameter = diameter_BST2(x._left)\n",
    "    ritht_diameter = diameter_BST2(x._right)\n",
    "    left_height = height_B(x._left)\n",
    "    right_height = height_B(x._right)\n",
    "    return max(left_height + right_height + 1, max(left_diameter, right_height))\n",
    "\n",
    "\n",
    "def _test_diameter_BST():\n",
    "    bst = gen_bst()\n",
    "    print(bst)\n",
    "\n",
    "    diameter1 = diameter_BST1(bst._root)\n",
    "    diameter2 = diameter_BST2(bst._root)\n",
    "    assert diameter1 == diameter2\n",
    "    print('diameter of BST by diameter_BST1: ', diameter1)\n",
    "    print('diameter of BST by diameter_BST2: ', diameter2)"
   ]
  },
  {
   "cell_type": "markdown",
   "metadata": {
    "heading_collapsed": true,
    "hidden": true,
    "jp-MarkdownHeadingCollapsed": true
   },
   "source": [
    "#### Create a BST with minimal height from a increasing order sorted array."
   ]
  },
  {
   "cell_type": "code",
   "execution_count": 25,
   "metadata": {
    "hidden": true
   },
   "outputs": [],
   "source": [
    "def min_height_bst(L):\n",
    "    return _min_height_bst(L, 0, len(L)-1)\n",
    "\n",
    "\n",
    "def _min_height_bst(L, low, high):\n",
    "    if low > high:\n",
    "        return None\n",
    "    mid = (low + high) // 2\n",
    "    x = BSTNode(L[mid])\n",
    "    x._left = _min_height_bst(L, low, mid - 1)\n",
    "    x._right = _min_height_bst(L, mid + 1, high)\n",
    "    return x\n",
    "\n",
    "\n",
    "def _test_min_height_bst():\n",
    "    N = randint(50, 500)\n",
    "    # N = 3\n",
    "    L = sorted([randint(-20, 21) for i in range(N)], reverse=True)\n",
    "    mht = min_height_bst(L)\n",
    "    heit = height_B(mht)\n",
    "    print('Length of L: ', len(L), '\\nHeight of built tree: ', heit)\n",
    "    print(floor(log2(len(L))), ceil(log2(len(L))))\n",
    "    assert heit >= floor(log2(len(L))) and heit <= ceil(log2(len(L)))"
   ]
  },
  {
   "cell_type": "markdown",
   "metadata": {
    "heading_collapsed": true,
    "hidden": true,
    "jp-MarkdownHeadingCollapsed": true
   },
   "source": [
    "#### Create Linked Lists of all the nodes at each depth of a BT."
   ]
  },
  {
   "cell_type": "code",
   "execution_count": 26,
   "metadata": {
    "hidden": true
   },
   "outputs": [],
   "source": [
    "def linkedlist_from_BT(x):\n",
    "    lists = []\n",
    "    _linkedlist_from_BT(x, lists)\n",
    "    return lists\n",
    "\n",
    "\n",
    "def _linkedlist_from_BT(x, lists):\n",
    "    q = []\n",
    "    if x is not None:\n",
    "        q.append(x)\n",
    "    while len(q) != 0:\n",
    "        current = deque()\n",
    "        level_size = len(q)\n",
    "\n",
    "        while level_size > 0:\n",
    "            temp = q.pop(0)\n",
    "            current.append(temp._key)\n",
    "\n",
    "            if temp._left is not None:\n",
    "                q.append(temp._left)\n",
    "            if temp._right is not None:\n",
    "                q.append(temp._right)\n",
    "\n",
    "            level_size -= 1\n",
    "\n",
    "        lists.append(tuple(current))\n",
    "        current.clear()\n",
    "\n",
    "\n",
    "def _test_linkedlist_from_BT():\n",
    "    bst = gen_bst()\n",
    "    print(bst)\n",
    "    list_of_Linkedlist = linkedlist_from_BT(bst._root)\n",
    "\n",
    "    for linkedlist in list_of_Linkedlist:\n",
    "        print(linkedlist)"
   ]
  },
  {
   "cell_type": "markdown",
   "metadata": {
    "heading_collapsed": true,
    "hidden": true,
    "jp-MarkdownHeadingCollapsed": true
   },
   "source": [
    "#### Write an algorithm to find the 'next' node (i.e., in-order successor) of a given node in a binary search tree. You may assume that each node has a link to its parent. - [CtCI: 4.6]."
   ]
  },
  {
   "cell_type": "code",
   "execution_count": 17,
   "metadata": {
    "hidden": true
   },
   "outputs": [],
   "source": [
    "def next_larger(root, key):\n",
    "    if root is None:\n",
    "        return\n",
    "    key_node = _get_key_node(root, key)\n",
    "    if key_node is None:\n",
    "        return\n",
    "    if key_node._right is not None:\n",
    "        return _min(key_node._right)\n",
    "\n",
    "    successor = None\n",
    "    x = root\n",
    "\n",
    "    while x is not None:\n",
    "        if key < x._key:\n",
    "            successor = x\n",
    "            x = x._left\n",
    "        elif key > x._key:\n",
    "            x = x._right\n",
    "        else:\n",
    "            return successor\n",
    "\n",
    "\n",
    "def _get_key_node(x, key):\n",
    "    if x is None:\n",
    "        return\n",
    "    if key < x._key:\n",
    "        return _get_key_node(x._left, key)\n",
    "    elif key > x._key:\n",
    "        return _get_key_node(x._right, key)\n",
    "    else:\n",
    "        return x\n",
    "\n",
    "\n",
    "def _min(x):\n",
    "    if x is None:\n",
    "        return\n",
    "    if x._left is None:\n",
    "        return x\n",
    "    else:\n",
    "        return _min(x._left)\n",
    "\n",
    "\n",
    "def _test_next_larger():\n",
    "    L = [randint(0, 999) for _ in range(20)]\n",
    "    key = choice(L)\n",
    "    bst = gen_bst(L)\n",
    "    print(bst._root)\n",
    "    # print(L)\n",
    "    print(key)\n",
    "    res = next_larger(bst._root, key)\n",
    "    if res is not None:\n",
    "        print(res._key)"
   ]
  },
  {
   "cell_type": "markdown",
   "metadata": {
    "heading_collapsed": true,
    "hidden": true,
    "jp-MarkdownHeadingCollapsed": true
   },
   "source": [
    "#### Print the path starting from root whose sum is equal to a given number. - [CtCI: 4.7]."
   ]
  },
  {
   "cell_type": "code",
   "execution_count": 18,
   "metadata": {
    "hidden": true
   },
   "outputs": [],
   "source": [
    "def sum_path(x, sum):\n",
    "    paths = []\n",
    "    _sum_path(x, sum, paths)\n",
    "    return paths\n",
    "\n",
    "\n",
    "def _sum_path(x, sum, paths, path=[]):\n",
    "    if x is None:\n",
    "        return\n",
    "    path.append(x._key)\n",
    "    sum = sum - x._key\n",
    "    if sum == 0:\n",
    "        paths.append(\" -> \".join([str(i) for i in path]))\n",
    "    _sum_path(x._left, sum, paths, path)\n",
    "    _sum_path(x._right, sum, paths, path)\n",
    "    path.pop()\n",
    "\n",
    "\n",
    "def _test_sum_path():\n",
    "\n",
    "    def _find_path(x, key, path=[]):\n",
    "        if x is None:\n",
    "            raise ValueError(\"The specified key is not in the tree.\")\n",
    "        path.append(x._key)\n",
    "        if key < x._key:\n",
    "            return _find_path(x._left, key, path)\n",
    "        elif key > x._key:\n",
    "            return _find_path(x._right, key, path)\n",
    "        else:\n",
    "            return path\n",
    "\n",
    "    L = [randint(0, 999) for _ in range(20)]\n",
    "    bst = gen_bst(L)\n",
    "    key = choice(L)\n",
    "    path = _find_path(bst._root, key)\n",
    "    _sum = sum(path)\n",
    "    print(path, \"\\nSum: \", _sum, '\\n', bst._root)\n",
    "\n",
    "    print(sum_path(bst._root, _sum))"
   ]
  },
  {
   "cell_type": "markdown",
   "metadata": {
    "heading_collapsed": true,
    "hidden": true,
    "jp-MarkdownHeadingCollapsed": true
   },
   "source": [
    "####  Print the nodes of K distance from ROOT."
   ]
  },
  {
   "cell_type": "code",
   "execution_count": 19,
   "metadata": {
    "hidden": true
   },
   "outputs": [],
   "source": [
    "def nodes_distant_k(x, k):\n",
    "    '''Print the nodes at kth distant of one-based indexing'''\n",
    "    if x is None:\n",
    "        return\n",
    "    if k == 1:\n",
    "        print(x._key)\n",
    "    nodes_distant_k(x._left, k-1)\n",
    "    nodes_distant_k(x._right, k-1)\n",
    "\n",
    "\n",
    "def _test_nodes_distant_k():\n",
    "    L = [randint(0, 999) for _ in range(10)]\n",
    "    avl = gen_bst(L)\n",
    "    print(avl._root)\n",
    "    nodes_distant_k(avl._root, 6)"
   ]
  },
  {
   "cell_type": "markdown",
   "metadata": {
    "heading_collapsed": true,
    "hidden": true,
    "jp-MarkdownHeadingCollapsed": true
   },
   "source": [
    "####  Print the nodes of K distance from LEAF."
   ]
  },
  {
   "cell_type": "code",
   "execution_count": 20,
   "metadata": {
    "hidden": true
   },
   "outputs": [],
   "source": [
    "# NOT WORKING !!\n",
    "def nodes_distant_k_from_leaf(x, k):\n",
    "    '''Print the nodes at kth distant of one-based indexing'''\n",
    "    if x is None:\n",
    "        return 0\n",
    "    left_res = nodes_distant_k_from_leaf(x._left, k-1)\n",
    "    if left_res == k:\n",
    "        print(x._key)\n",
    "    right_res = nodes_distant_k_from_leaf(x._right, k-1)\n",
    "    if right_res == k:\n",
    "        print(x._key)\n",
    "\n",
    "\n",
    "def _test_nodes_distant_k_from_leaf():\n",
    "    L = [randint(0, 999) for _ in range(10)]\n",
    "    bst = gen_bst(L)\n",
    "    print(bst._root)\n",
    "    nodes_distant_k_from_leaf(bst._root, 3)"
   ]
  },
  {
   "cell_type": "markdown",
   "metadata": {
    "heading_collapsed": true,
    "hidden": true,
    "jp-MarkdownHeadingCollapsed": true
   },
   "source": [
    "#### Print the nodes of having K leaves in its subtree."
   ]
  },
  {
   "cell_type": "code",
   "execution_count": 21,
   "metadata": {
    "hidden": true
   },
   "outputs": [],
   "source": [
    "def nodes_of_k_leaves(x, k):\n",
    "    if x is None:\n",
    "        return 0\n",
    "    if x._left is None and x._right is None:\n",
    "        return 1\n",
    "\n",
    "    left_leaves = nodes_of_k_leaves(x._left, k)\n",
    "    right_leaves = nodes_of_k_leaves(x._right, k)\n",
    "\n",
    "    total_leaves = left_leaves + right_leaves\n",
    "\n",
    "    if total_leaves == k:\n",
    "        print(x._key)\n",
    "\n",
    "    return total_leaves\n",
    "\n",
    "\n",
    "def _test_nodes_of_k_leaves():\n",
    "    L = [randint(1, 999) for _ in range(20)]\n",
    "    bst = gen_bst(L)\n",
    "    print(bst._root)\n",
    "    nodes_of_k_leaves(bst._root, 4)"
   ]
  },
  {
   "cell_type": "markdown",
   "metadata": {
    "heading_collapsed": true,
    "hidden": true,
    "jp-MarkdownHeadingCollapsed": true
   },
   "source": [
    "#### Find the distance of two nodes of a Binary Tree."
   ]
  },
  {
   "cell_type": "code",
   "execution_count": 22,
   "metadata": {
    "hidden": true
   },
   "outputs": [],
   "source": [
    "def get_distance(x, s1, s2):\n",
    "    lca = lowest_common_ancestor(x, s1, s2)\n",
    "    dist_lca_s1 = path_length(lca, s1)\n",
    "    dist_lca_s2 = path_length(lca, s2)\n",
    "    return dist_lca_s1 + dist_lca_s2\n",
    "\n",
    "def path_length(x, s1):\n",
    "    if x is None or s1 is None: return -1\n",
    "    if x._key == s1._key: return 0\n",
    "    \n",
    "    left_res = path_length(x._left, s1)\n",
    "    if left_res != -1: return 1 + left_res\n",
    "    \n",
    "    right_res = path_length(x._right, s1)\n",
    "    if right_res != -1: return 1 + right_res\n",
    "    \n",
    "    return -1\n",
    "\n",
    "def _test_get_distance():\n",
    "    L = [randrange(10, 100) for _ in range(20)]    \n",
    "    bst = gen_bst(L)\n",
    "    n1 = get_subtree(bst._root, choice(L))\n",
    "    n2 = get_subtree(bst._root, choice(L))\n",
    "    lca = lowest_common_ancestor(bst._root, n1, n2)\n",
    "    print(lca, '\\n'*2, n1, n2)\n",
    "    print(get_distance(bst._root, n1, n2))"
   ]
  },
  {
   "cell_type": "markdown",
   "metadata": {
    "heading_collapsed": true,
    "hidden": true,
    "jp-MarkdownHeadingCollapsed": true
   },
   "source": [
    "#### Check if one tree is a subtree of another tree."
   ]
  },
  {
   "cell_type": "code",
   "execution_count": 23,
   "metadata": {
    "hidden": true
   },
   "outputs": [],
   "source": [
    "def is_subtree(x, s):\n",
    "    if s is None:\n",
    "        return True\n",
    "    if x is None:\n",
    "        return False\n",
    "    if is_identical(x, s):\n",
    "        return True\n",
    "    left_res = is_subtree(x._left, s)\n",
    "    right_res = is_subtree(x._right, s)\n",
    "    return left_res or right_res\n",
    "\n",
    "\n",
    "def is_identical(s1, s2):\n",
    "    if s1 is None and s2 is None:\n",
    "        return True\n",
    "    if s1 is None or s2 is None:\n",
    "        return False\n",
    "\n",
    "    if s1._key == s2._key:\n",
    "        left_res = is_identical(s1._left, s2._left)\n",
    "        right_res = is_identical(s1._right, s2._right)\n",
    "        return left_res and right_res\n",
    "    else:\n",
    "        return False\n",
    "\n",
    "\n",
    "def _test_is_subtree():\n",
    "\n",
    "    M = [randint(0, 999) for _ in range(20)]\n",
    "    key = choice(M)\n",
    "    main_tree = gen_avl(M)\n",
    "    sub_tree = get_subtree(main_tree._root, key)\n",
    "    print(main_tree, '\\n'*2, sub_tree)\n",
    "    print(is_subtree(main_tree._root, sub_tree))"
   ]
  },
  {
   "cell_type": "markdown",
   "metadata": {
    "heading_collapsed": true,
    "hidden": true,
    "jp-MarkdownHeadingCollapsed": true
   },
   "source": [
    "#### Convert a Binary Tree into its SumTree."
   ]
  },
  {
   "cell_type": "code",
   "execution_count": 24,
   "metadata": {
    "hidden": true
   },
   "outputs": [],
   "source": [
    "def convert_to_sumtree(x):\n",
    "    if x is None:\n",
    "        return 0\n",
    "    left_res = convert_to_sumtree(x._left)\n",
    "    right_res = convert_to_sumtree(x._right)\n",
    "    x._key = x._key + left_res + right_res\n",
    "    return x._key\n",
    "\n",
    "\n",
    "def _test_convert_to_sumtree():\n",
    "    bst = gen_bst()\n",
    "    print(bst)\n",
    "    sum_tree = convert_to_sumtree(bst._root)\n",
    "    print(sum_tree)\n",
    "    print(bst._root)"
   ]
  },
  {
   "cell_type": "markdown",
   "metadata": {
    "heading_collapsed": true,
    "hidden": true,
    "jp-MarkdownHeadingCollapsed": true
   },
   "source": [
    "#### Check if the given tree is sum tree."
   ]
  },
  {
   "cell_type": "code",
   "execution_count": 25,
   "metadata": {
    "hidden": true
   },
   "outputs": [],
   "source": [
    "# NOT WORKING !!\n",
    "def is_sum_Tree(x):\n",
    "    if x is None:\n",
    "        return True\n",
    "    if x._left is None and x._right is None:\n",
    "        return True\n",
    "    if x._key == _add_subtree(x._left) + _add_subtree(x._right):\n",
    "        if is_sum_Tree(x._left) and is_sum_Tree(x._right):\n",
    "            return True\n",
    "    return False\n",
    "\n",
    "\n",
    "def _add_subtree(x):\n",
    "    if x is None:\n",
    "        return 0\n",
    "    else:\n",
    "        return x._key + _add_subtree(x._left) + _add_subtree(x._right)\n",
    "\n",
    "\n",
    "def _test_is_sum_tree():\n",
    "    L = [randrange(10, 100) for _ in range(20)]\n",
    "    bst = gen_bst(L)\n",
    "\n",
    "    # convert bst into the sum tree\n",
    "    convert_to_sumtree(bst._root)\n",
    "\n",
    "    assert is_sum_Tree(bst._root)"
   ]
  },
  {
   "cell_type": "markdown",
   "metadata": {
    "heading_collapsed": true,
    "hidden": true,
    "jp-MarkdownHeadingCollapsed": true
   },
   "source": [
    "#### Check if one tree is a mirror of another tree. Alternatively, Test if binary is symmetric. - [EPI: 9.2]."
   ]
  },
  {
   "cell_type": "code",
   "execution_count": 37,
   "metadata": {
    "hidden": true
   },
   "outputs": [
    {
     "ename": "NameError",
     "evalue": "name 'BSTNode' is not defined",
     "output_type": "error",
     "traceback": [
      "\u001b[0;31m-------------------------------------------------------\u001b[0m",
      "\u001b[0;31mNameError\u001b[0m             Traceback (most recent call last)",
      "\u001b[0;32m<ipython-input-37-746174a96c7f>\u001b[0m in \u001b[0;36m<module>\u001b[0;34m\u001b[0m\n\u001b[0;32m----> 1\u001b[0;31m \u001b[0;32mdef\u001b[0m \u001b[0mis_mirror\u001b[0m\u001b[0;34m(\u001b[0m\u001b[0mx\u001b[0m\u001b[0;34m:\u001b[0m \u001b[0mBSTNode\u001b[0m\u001b[0;34m,\u001b[0m \u001b[0my\u001b[0m\u001b[0;34m:\u001b[0m \u001b[0mBSTNode\u001b[0m\u001b[0;34m)\u001b[0m\u001b[0;34m:\u001b[0m\u001b[0;34m\u001b[0m\u001b[0;34m\u001b[0m\u001b[0m\n\u001b[0m\u001b[1;32m      2\u001b[0m     \"\"\"\n\u001b[1;32m      3\u001b[0m     \u001b[0mArgs\u001b[0m\u001b[0;34m:\u001b[0m\u001b[0;34m\u001b[0m\u001b[0;34m\u001b[0m\u001b[0m\n\u001b[1;32m      4\u001b[0m         \u001b[0mx\u001b[0m\u001b[0;34m:\u001b[0m \u001b[0ma\u001b[0m \u001b[0mbinary\u001b[0m \u001b[0mtree\u001b[0m\u001b[0;34m\u001b[0m\u001b[0;34m\u001b[0m\u001b[0m\n\u001b[1;32m      5\u001b[0m         \u001b[0my\u001b[0m\u001b[0;34m:\u001b[0m \u001b[0ma\u001b[0m \u001b[0mbinary\u001b[0m \u001b[0mtree\u001b[0m\u001b[0;34m\u001b[0m\u001b[0;34m\u001b[0m\u001b[0m\n",
      "\u001b[0;31mNameError\u001b[0m: name 'BSTNode' is not defined"
     ]
    }
   ],
   "source": [
    "def is_mirror(x: BSTNode, y: BSTNode):\n",
    "    \"\"\"\n",
    "    Args:\n",
    "        x: a binary tree\n",
    "        y: a binary tree\n",
    "    \"\"\"\n",
    "    if not x and not y: return True\n",
    "    if not x or not y : return False\n",
    "    if x._key == y._key:\n",
    "        left_right = is_mirror(x._left, y._right)\n",
    "        right_left = is_mirror(x._right, y._left)\n",
    "        return left_right and right_left\n",
    "    return False  \n",
    "\n",
    "\n",
    "def is_symmetric(tree: BSTNode):\n",
    "    \n",
    "    def check_symmetric(x: BSTNode, y: BSTNode):\n",
    "        '''\n",
    "        Args:\n",
    "            x: the left subtree.\n",
    "            y: the right subtree.\n",
    "        '''\n",
    "        if not x and not y:\n",
    "            return True\n",
    "        elif x and y:\n",
    "            return (x._key == y._key\n",
    "                    and check_symmetric(x._left, y._right)\n",
    "                    and check_symmetric(x._right, y._left))\n",
    "        # One subtree is empty, and the other is not.\n",
    "        return False\n",
    "\n",
    "    return not tree or check_symmetric(tree._left, tree._right)\n",
    "\n",
    "\n",
    "def _test_is_mirror():\n",
    "    L = [randrange(10, 100) for _ in range(20)]\n",
    "    bst1 = gen_bst(L)\n",
    "    bst2 = invert_binary_tree(gen_bst(L)._root)\n",
    "    print(bst1, '\\n'*2, bst2)\n",
    "\n",
    "    assert is_mirror(bst1._root, bst2)"
   ]
  },
  {
   "cell_type": "markdown",
   "metadata": {
    "heading_collapsed": true,
    "hidden": true,
    "jp-MarkdownHeadingCollapsed": true
   },
   "source": [
    "#### Invert a Binary tree."
   ]
  },
  {
   "cell_type": "code",
   "execution_count": 27,
   "metadata": {
    "hidden": true
   },
   "outputs": [],
   "source": [
    "def invert_binary_tree(x):\n",
    "    if x is None: return\n",
    "    left_res = invert_binary_tree(x._left)\n",
    "    right_res = invert_binary_tree(x._right)\n",
    "    x._left = right_res\n",
    "    x._right = left_res\n",
    "    return x\n",
    "\n",
    "\n",
    "def _test_invert_binary_tree():\n",
    "    L = [randrange(1, 1000) for _ in range(20)]\n",
    "    bst = gen_bst(L)\n",
    "    print(bst)\n",
    "    invert_binary_tree(bst._root)\n",
    "    print(bst)"
   ]
  },
  {
   "cell_type": "markdown",
   "metadata": {
    "heading_collapsed": true,
    "hidden": true,
    "jp-MarkdownHeadingCollapsed": true
   },
   "source": [
    "#### Print the Vertical Sum in binary Tree."
   ]
  },
  {
   "cell_type": "code",
   "execution_count": 28,
   "metadata": {
    "hidden": true
   },
   "outputs": [],
   "source": [
    "def vertical_sum(x):\n",
    "    ht = {}\n",
    "    _vertical_sum(x, ht, 0)\n",
    "    return ht\n",
    "\n",
    "\n",
    "def _vertical_sum(x, ht, hd):\n",
    "    '''\n",
    "    args:\n",
    "        x (:obj: _Node): binary tree\n",
    "        ht (:obj: dict): a hash table\n",
    "        hd (int): horizontal distance\n",
    "    '''\n",
    "    if x is None:\n",
    "        return\n",
    "    _vertical_sum(x._left, ht, hd-1)\n",
    "\n",
    "    if ht.get(hd) is None:\n",
    "        ht[hd] = x._key\n",
    "    else:\n",
    "        ht[hd] = ht[hd] + x._key\n",
    "\n",
    "    return _vertical_sum(x._right, ht, hd+1)\n",
    "\n",
    "\n",
    "def _test_vertical_sum():\n",
    "    L = [randint(0, 999) for _ in range(20)]\n",
    "    bst = gen_avl(L)\n",
    "    print(bst)\n",
    "    d = vertical_sum(bst._root)\n",
    "    for item in d.items():\n",
    "        print(item)"
   ]
  },
  {
   "cell_type": "markdown",
   "metadata": {
    "heading_collapsed": true,
    "hidden": true,
    "jp-MarkdownHeadingCollapsed": true
   },
   "source": [
    "#### Make a Binary Tree from Given INORDER and PREORDER Traversal."
   ]
  },
  {
   "cell_type": "code",
   "execution_count": 29,
   "metadata": {
    "hidden": true
   },
   "outputs": [],
   "source": [
    "def inorder_preorder_tree():\n",
    "    pass\n",
    "\n",
    "\n",
    "def _test_inorder_preorder_tree():\n",
    "    pass"
   ]
  },
  {
   "cell_type": "markdown",
   "metadata": {
    "heading_collapsed": true,
    "hidden": true,
    "jp-MarkdownHeadingCollapsed": true
   },
   "source": [
    "#### Make a Binary Tree from Given INORDER and POSTORDER Traversal."
   ]
  },
  {
   "cell_type": "code",
   "execution_count": 30,
   "metadata": {
    "hidden": true
   },
   "outputs": [],
   "source": [
    "def inorder_postorder_tree():\n",
    "    pass\n",
    "\n",
    "\n",
    "def _test_inorder_postorder_tree():\n",
    "    pass"
   ]
  },
  {
   "cell_type": "markdown",
   "metadata": {
    "heading_collapsed": true,
    "jp-MarkdownHeadingCollapsed": true
   },
   "source": [
    "## Question Set: Views of Tree"
   ]
  },
  {
   "cell_type": "markdown",
   "metadata": {
    "heading_collapsed": true,
    "hidden": true,
    "jp-MarkdownHeadingCollapsed": true
   },
   "source": [
    "##### Print the left view of the given tree."
   ]
  },
  {
   "cell_type": "markdown",
   "metadata": {
    "heading_collapsed": true,
    "hidden": true,
    "jp-MarkdownHeadingCollapsed": true
   },
   "source": [
    "#### Print the right view of the given tree."
   ]
  },
  {
   "cell_type": "markdown",
   "metadata": {
    "heading_collapsed": true,
    "hidden": true,
    "jp-MarkdownHeadingCollapsed": true
   },
   "source": [
    "#### Print the top view of the given tree."
   ]
  },
  {
   "cell_type": "markdown",
   "metadata": {
    "heading_collapsed": true,
    "hidden": true,
    "jp-MarkdownHeadingCollapsed": true
   },
   "source": [
    "#### Print the bottom view of the given tree."
   ]
  },
  {
   "cell_type": "code",
   "execution_count": null,
   "metadata": {
    "hidden": true
   },
   "outputs": [],
   "source": []
  },
  {
   "cell_type": "code",
   "execution_count": null,
   "metadata": {
    "hidden": true
   },
   "outputs": [],
   "source": []
  },
  {
   "cell_type": "markdown",
   "metadata": {
    "heading_collapsed": true,
    "jp-MarkdownHeadingCollapsed": true
   },
   "source": [
    "## Collection:"
   ]
  },
  {
   "cell_type": "markdown",
   "metadata": {
    "heading_collapsed": true,
    "hidden": true,
    "jp-MarkdownHeadingCollapsed": true
   },
   "source": [
    "#### [All Elements in Two Binary Search Trees](https://leetcode.com/problems/all-elements-in-two-binary-search-trees/)\n",
    "\n",
    "Given two binary search trees root1 and root2, return a list containing all the integers from both trees sorted in ascending order.\n"
   ]
  },
  {
   "cell_type": "code",
   "execution_count": null,
   "metadata": {
    "hidden": true
   },
   "outputs": [],
   "source": []
  },
  {
   "cell_type": "code",
   "execution_count": null,
   "metadata": {
    "hidden": true
   },
   "outputs": [],
   "source": []
  },
  {
   "cell_type": "code",
   "execution_count": null,
   "metadata": {
    "hidden": true
   },
   "outputs": [],
   "source": []
  }
 ],
 "metadata": {
  "kernelspec": {
   "display_name": "Python 3 (ipykernel)",
   "language": "python",
   "name": "python3"
  },
  "language_info": {
   "codemirror_mode": {
    "name": "ipython",
    "version": 3
   },
   "file_extension": ".py",
   "mimetype": "text/x-python",
   "name": "python",
   "nbconvert_exporter": "python",
   "pygments_lexer": "ipython3",
   "version": "3.9.6"
  },
  "toc": {
   "base_numbering": 1,
   "nav_menu": {},
   "number_sections": false,
   "sideBar": true,
   "skip_h1_title": true,
   "title_cell": "Table of Contents",
   "title_sidebar": "Contents",
   "toc_cell": true,
   "toc_position": {},
   "toc_section_display": true,
   "toc_window_display": false
  }
 },
 "nbformat": 4,
 "nbformat_minor": 4
}
