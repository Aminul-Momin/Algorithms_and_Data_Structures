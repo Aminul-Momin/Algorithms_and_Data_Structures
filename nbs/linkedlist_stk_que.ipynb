{
 "cells": [
  {
   "cell_type": "markdown",
   "id": "41d6d0b8",
   "metadata": {
    "toc": true
   },
   "source": [
    "<h1>Table of Contents<span class=\"tocSkip\"></span></h1>\n",
    "<div class=\"toc\"><ul class=\"toc-item\"><li><ul class=\"toc-item\"><li><ul class=\"toc-item\"><li><span><a href=\"#Monotonic-Non-Strictly-Decreasing/Increasing-Stack\" data-toc-modified-id=\"Monotonic-Non-Strictly-Decreasing/Increasing-Stack-0.0.1\"><b style=\"color: #c71585\">Monotonic Non-Strictly Decreasing/Increasing Stack</b></a></span></li></ul></li></ul></li><li><span><a href=\"#Linked-List-Problems:\" data-toc-modified-id=\"Linked-List-Problems:-1\"><b style=\"color: #ff4500\">Linked List Problems</b>:</a></span><ul class=\"toc-item\"><li><ul class=\"toc-item\"><li><span><a href=\"#Write-a-program-to-find-the-n-th-to-last-element-of-a-Singly-Linked-List.---[CtCI:-2.2].\" data-toc-modified-id=\"Write-a-program-to-find-the-n-th-to-last-element-of-a-Singly-Linked-List.---[CtCI:-2.2].-1.0.1\">Write a program to find the n-th to last element of a Singly Linked List. - [CtCI: 2.2].</a></span></li><li><span><a href=\"#Reverse-a-Linked-list.\" data-toc-modified-id=\"Reverse-a-Linked-list.-1.0.2\">Reverse a Linked list.</a></span></li><li><span><a href=\"#Check-if-the-given-linked-list-is-cyclic-[EPI:7.3]\" data-toc-modified-id=\"Check-if-the-given-linked-list-is-cyclic-[EPI:7.3]-1.0.3\">Check if the given linked list is cyclic [EPI:7.3]</a></span></li><li><span><a href=\"#Delete-N-Nodes-After-M-Nodes-in-a-Singly-Linked-List.\" data-toc-modified-id=\"Delete-N-Nodes-After-M-Nodes-in-a-Singly-Linked-List.-1.0.4\">Delete N Nodes After M Nodes in a Singly Linked List.</a></span></li><li><span><a href=\"#Merge-or-Combine-Two-Sorted-Linked-Lists.-[EPI:7.1]\" data-toc-modified-id=\"Merge-or-Combine-Two-Sorted-Linked-Lists.-[EPI:7.1]-1.0.5\">Merge or Combine Two Sorted Linked Lists. [EPI:7.1]</a></span></li><li><span><a href=\"#Reverse-a-single-sublist.-[EPI:7.2]\" data-toc-modified-id=\"Reverse-a-single-sublist.-[EPI:7.2]-1.0.6\">Reverse a single sublist. [EPI:7.2]</a></span></li><li><span><a href=\"#Check-if-the-given-linked-list-is-cyclic-[EPI:7.3]\" data-toc-modified-id=\"Check-if-the-given-linked-list-is-cyclic-[EPI:7.3]-1.0.7\">Check if the given linked list is cyclic [EPI:7.3]</a></span></li><li><span><a href=\"#Test-for-overlapping-lists---lists-are-cycle-free.-[EPI:7.4]\" data-toc-modified-id=\"Test-for-overlapping-lists---lists-are-cycle-free.-[EPI:7.4]-1.0.8\">Test for overlapping lists - lists are cycle free. [EPI:7.4]</a></span></li><li><span><a href=\"#Test-for-overlapping-lists---lists-MAY-NOT-BE-cycle-free.-[EPI:7.5]\" data-toc-modified-id=\"Test-for-overlapping-lists---lists-MAY-NOT-BE-cycle-free.-[EPI:7.5]-1.0.9\">Test for overlapping lists - lists MAY NOT BE cycle free. [EPI:7.5]</a></span></li><li><span><a href=\"#Write-code-to-remove-duplicated-from-a-SORTED-linked-list.-[EPI:7.8]\" data-toc-modified-id=\"Write-code-to-remove-duplicated-from-a-SORTED-linked-list.-[EPI:7.8]-1.0.10\">Write code to remove duplicated from a SORTED linked list. [EPI:7.8]</a></span></li><li><span><a href=\"#Write-code-to-remove-duplicated-from-a-UNSORTED-linked-list-if-temporary-buffer-is-allowed-and-not-allowed.\" data-toc-modified-id=\"Write-code-to-remove-duplicated-from-a-UNSORTED-linked-list-if-temporary-buffer-is-allowed-and-not-allowed.-1.0.11\">Write code to remove duplicated from a <b style=\"color: red\">UNSORTED</b> linked list if temporary buffer is allowed and not allowed.</a></span></li><li><span><a href=\"#Implement-cyclic-right-shift.-[EPI:7.9]\" data-toc-modified-id=\"Implement-cyclic-right-shift.-[EPI:7.9]-1.0.12\">Implement cyclic right shift. [EPI:7.9]</a></span></li><li><span><a href=\"#Implement-even-odd-merge.-[EPI:7.10]\" data-toc-modified-id=\"Implement-even-odd-merge.-[EPI:7.10]-1.0.13\">Implement even-odd merge. [EPI:7.10]</a></span></li><li><span><a href=\"#Implement-list-pivoting.-[EPI:7.12]\" data-toc-modified-id=\"Implement-list-pivoting.-[EPI:7.12]-1.0.14\">Implement list pivoting. [EPI:7.12]</a></span></li><li><span><a href=\"#Add-list-based-integers---I.-[EPI:7.13]\" data-toc-modified-id=\"Add-list-based-integers---I.-[EPI:7.13]-1.0.15\">Add list-based integers - I. [EPI:7.13]</a></span></li><li><span><a href=\"#Add-list-based-integers---II.-[EPI:7.13]\" data-toc-modified-id=\"Add-list-based-integers---II.-[EPI:7.13]-1.0.16\">Add list-based integers - II. [EPI:7.13]</a></span></li></ul></li><li><span><a href=\"#Collected-Linked-List-Problems\" data-toc-modified-id=\"Collected-Linked-List-Problems-1.1\"><b style=\"color: #c71585\">Collected Linked List Problems</b></a></span><ul class=\"toc-item\"><li><span><a href=\"#Merge-k-Sorted-Lists\" data-toc-modified-id=\"Merge-k-Sorted-Lists-1.1.1\">Merge k Sorted Lists</a></span></li><li><span><a href=\"#Write-code-to-partition-linked-list-around-a-value-x,-such-that-all-nodes-less-than-x-come-before-all-nodes-greater-than-or-equal-to-x.\" data-toc-modified-id=\"Write-code-to-partition-linked-list-around-a-value-x,-such-that-all-nodes-less-than-x-come-before-all-nodes-greater-than-or-equal-to-x.-1.1.2\">Write code to partition linked list around a value x, such that all nodes less than x come before all nodes greater than or equal to x.</a></span></li><li><span><a href=\"#Given-a-circular-linked-list,-implement-an-algorithm-which-returns-the-node-at-the-beginning-of-the-loop.\" data-toc-modified-id=\"Given-a-circular-linked-list,-implement-an-algorithm-which-returns-the-node-at-the-beginning-of-the-loop.-1.1.3\">Given a circular linked list, implement an algorithm which returns the node at the beginning of the loop.</a></span></li><li><span><a href=\"#Reverse-Alternative-k-nodes-in-a-Linked-List.\" data-toc-modified-id=\"Reverse-Alternative-k-nodes-in-a-Linked-List.-1.1.4\">Reverse Alternative <code>k</code> nodes in a Linked List.</a></span></li><li><span><a href=\"#Alternate-Splitting-of-a-given-Linked-List.\" data-toc-modified-id=\"Alternate-Splitting-of-a-given-Linked-List.-1.1.5\">Alternate Splitting of a given Linked List.</a></span></li><li><span><a href=\"#Swap-Kth-Node-from-the-front-with-the-Kth-Node-from-the-End.\" data-toc-modified-id=\"Swap-Kth-Node-from-the-front-with-the-Kth-Node-from-the-End.-1.1.6\">Swap Kth Node from the front with the Kth Node from the End.</a></span></li><li><span><a href=\"#Merge-a-linked-list-into-another-linked-list-at-alternate-p-ositions.\" data-toc-modified-id=\"Merge-a-linked-list-into-another-linked-list-at-alternate-p-ositions.-1.1.7\">Merge a linked list into another linked list at alternate p ositions.</a></span></li></ul></li></ul></li><li><span><a href=\"#Stack-and-Queue:\" data-toc-modified-id=\"Stack-and-Queue:-2\"><b style=\"color: #ff4500\">Stack and Queue</b>:</a></span><ul class=\"toc-item\"><li><span><a href=\"#EPI\" data-toc-modified-id=\"EPI-2.1\"><b style=\"color: #c71585\">EPI</b></a></span><ul class=\"toc-item\"><li><span><a href=\"#Implement-a-stack-with-max-API.-[EPI:-8.01]\" data-toc-modified-id=\"Implement-a-stack-with-max-API.-[EPI:-8.01]-2.1.1\">Implement a stack with max API. [EPI: 8.01]</a></span></li><li><span><a href=\"#Evaluate-RPN-(Reverse-Polish-Notation)-expressions.-[EPI:-8.02]\" data-toc-modified-id=\"Evaluate-RPN-(Reverse-Polish-Notation)-expressions.-[EPI:-8.02]-2.1.2\">Evaluate RPN (Reverse Polish Notation) expressions. [EPI: 8.02]</a></span></li><li><span><a href=\"#Test-a-string-over-''{,-},-(,),-[,-]''-for-well-formedness.-[EPI:-8.03]\" data-toc-modified-id=\"Test-a-string-over-''{,-},-(,),-[,-]''-for-well-formedness.-[EPI:-8.03]-2.1.3\">Test a string over ''{, }, (,), [, ]'' for well-formedness. [EPI: 8.03]</a></span></li><li><span><a href=\"#Normalize-pathnames.-[EPI:-8.04]\" data-toc-modified-id=\"Normalize-pathnames.-[EPI:-8.04]-2.1.4\">Normalize pathnames. [EPI: 8.04]</a></span></li><li><span><a href=\"#Compute-buildings-with-a-sunset-view.-[EPI:-06]\" data-toc-modified-id=\"Compute-buildings-with-a-sunset-view.-[EPI:-06]-2.1.5\">Compute buildings with a sunset view. [EPI: 06]</a></span></li><li><span><a href=\"#Implement-a-circular-queue.-[EPI:-07]\" data-toc-modified-id=\"Implement-a-circular-queue.-[EPI:-07]-2.1.6\">Implement a circular queue. [EPI: 07]</a></span></li><li><span><a href=\"#Implement-a-queue-using-stacks.-[EPI:-08]\" data-toc-modified-id=\"Implement-a-queue-using-stacks.-[EPI:-08]-2.1.7\">Implement a queue using stacks. [EPI: 08]</a></span></li><li><span><a href=\"#Implement-a-queue-with-max-API.-[EPI:-09]\" data-toc-modified-id=\"Implement-a-queue-with-max-API.-[EPI:-09]-2.1.8\">Implement a queue with max API. [EPI: 09]</a></span></li></ul></li><li><span><a href=\"#LeetCode-Problems\" data-toc-modified-id=\"LeetCode-Problems-2.2\"><b style=\"color: #c71585\">LeetCode Problems</b></a></span><ul class=\"toc-item\"><li><span><a href=\"#Next-Greater-Element\" data-toc-modified-id=\"Next-Greater-Element-2.2.1\">Next Greater Element</a></span></li><li><span><a href=\"#496.-Next-Greater-Element-with-ConstraintI-|-neetcode\" data-toc-modified-id=\"496.-Next-Greater-Element-with-ConstraintI-|-neetcode-2.2.2\"><a href=\"https://leetcode.com/problems/next-greater-element-i/description/\" target=\"_blank\">496. Next Greater Element with ConstraintI</a> | <a href=\"https://www.youtube.com/watch?v=68a1Dc_qVq4&amp;list=PLot-Xpze53lfxD6l5pAGvCD4nPvWKU8Qo&amp;index=15\" target=\"_blank\">neetcode</a></a></span></li><li><span><a href=\"#739.-Daily-Temperatures-|-neetcode\" data-toc-modified-id=\"739.-Daily-Temperatures-|-neetcode-2.2.3\"><a href=\"https://leetcode.com/problems/daily-temperatures/description/\" target=\"_blank\">739. Daily Temperatures</a> | <a href=\"https://www.youtube.com/watch?v=cTBiBSnjO3c&amp;list=PLot-Xpze53lfxD6l5pAGvCD4nPvWKU8Qo&amp;index=6\" target=\"_blank\">neetcode</a></a></span></li><li><span><a href=\"#735.-Asteroid-Collision-|-neetcode\" data-toc-modified-id=\"735.-Asteroid-Collision-|-neetcode-2.2.4\"><a href=\"https://leetcode.com/problems/asteroid-collision/description/\" target=\"_blank\">735. Asteroid Collision</a> | <a href=\"https://www.youtube.com/watch?v=LN7KjRszjk4&amp;list=PLot-Xpze53lfxD6l5pAGvCD4nPvWKU8Qo&amp;index=7\" target=\"_blank\">neetcode</a></a></span></li><li><span><a href=\"#The-largest-rectangle-contained-in-this-skyline.---[EPI-17.8]-|-neatcode\" data-toc-modified-id=\"The-largest-rectangle-contained-in-this-skyline.---[EPI-17.8]-|-neatcode-2.2.5\">The largest rectangle contained in this skyline. - [EPI-17.8] | <a href=\"https://www.youtube.com/watch?v=zx5Sw9130L0&amp;list=PLot-Xpze53lfxD6l5pAGvCD4nPvWKU8Qo&amp;index=3\" target=\"_blank\">neatcode</a></a></span></li><li><span><a href=\"#853.-Car-Fleet-|-neetcode\" data-toc-modified-id=\"853.-Car-Fleet-|-neetcode-2.2.6\"><a href=\"https://leetcode.com/problems/car-fleet/description/\" target=\"_blank\">853. Car Fleet</a> | <a href=\"https://www.youtube.com/watch?v=Pr6T-3yB9RM&amp;t=1s\" target=\"_blank\">neetcode</a></a></span></li><li><span><a href=\"#901.-Online-Stock-Span-|-neetcode\" data-toc-modified-id=\"901.-Online-Stock-Span-|-neetcode-2.2.7\"><a href=\"https://leetcode.com/problems/online-stock-span/description/\" target=\"_blank\">901. Online Stock Span</a> | <a href=\"https://www.youtube.com/watch?v=slYh0ZNEqSw&amp;list=PLot-Xpze53lfxD6l5pAGvCD4nPvWKU8Qo&amp;index=11\" target=\"_blank\">neetcode</a></a></span></li><li><span><a href=\"#394.-Decode-String-|-neetcode\" data-toc-modified-id=\"394.-Decode-String-|-neetcode-2.2.8\"><a href=\"https://leetcode.com/problems/decode-string/description/\" target=\"_blank\">394. Decode String</a> | <a href=\"https://www.youtube.com/watch?v=qB0zZpBJlh8\" target=\"_blank\">neetcode</a></a></span></li><li><span><a href=\"#Given-a-stack,-reverse-the-items-of-the-stack-without-using-of-any-aditional-data-structures.-ByteByByte\" data-toc-modified-id=\"Given-a-stack,-reverse-the-items-of-the-stack-without-using-of-any-aditional-data-structures.-ByteByByte-2.2.9\">Given a stack, reverse the items of the stack without using of any aditional data structures. <a href=\"https://www.youtube.com/watch?v=dQsZP8UvHVk\" target=\"_blank\">ByteByByte</a></a></span></li><li><span><a href=\"#-|-neetcode\" data-toc-modified-id=\"-|-neetcode-2.2.10\"><a href=\"\" target=\"_blank\"></a> | <a href=\"\" target=\"_blank\">neetcode</a></a></span></li></ul></li><li><span><a href=\"#CtCI\" data-toc-modified-id=\"CtCI-2.3\"><b style=\"color: #c71585\">CtCI</b></a></span><ul class=\"toc-item\"><li><span><a href=\"#Describe-how-you-could-use-a-single-array-to-implement-three-stacks.-[CtCI:3.1]\" data-toc-modified-id=\"Describe-how-you-could-use-a-single-array-to-implement-three-stacks.-[CtCI:3.1]-2.3.1\">Describe how you could use a single array to implement three stacks. [CtCI:3.1]</a></span></li><li><span><a href=\"#Implement-a-stack-with-min-API.-[CtCI:3.2]\" data-toc-modified-id=\"Implement-a-stack-with-min-API.-[CtCI:3.2]-2.3.2\">Implement a stack with min API. [CtCI:3.2]</a></span></li><li><span><a href=\"#The-literal-stack-of-plates.\" data-toc-modified-id=\"The-literal-stack-of-plates.-2.3.3\">The literal stack of plates.</a></span></li><li><span><a href=\"#The-Towers-of-Hanoi\" data-toc-modified-id=\"The-Towers-of-Hanoi-2.3.4\">The Towers of Hanoi</a></span></li><li><span><a href=\"#Implement-a-MyQueue-class-which-implements-a-queue-using-two-stacks.-[CtCI:-3.5]-.\" data-toc-modified-id=\"Implement-a-MyQueue-class-which-implements-a-queue-using-two-stacks.-[CtCI:-3.5]-.-2.3.5\">Implement a MyQueue class which implements a queue using two stacks. [CtCI: 3.5] .</a></span></li><li><span><a href=\"#Sort-a-stack-in-ascending-order\" data-toc-modified-id=\"Sort-a-stack-in-ascending-order-2.3.6\">Sort a stack in ascending order</a></span></li><li><span><a href=\"#Animal-Shelter\" data-toc-modified-id=\"Animal-Shelter-2.3.7\">Animal Shelter</a></span></li></ul></li></ul></li></ul></div>"
   ]
  },
  {
   "cell_type": "code",
   "execution_count": 1,
   "id": "e0c78d30",
   "metadata": {},
   "outputs": [],
   "source": [
    "from collections import deque, namedtuple, Counter\n",
    "from random import randint, randrange, sample, choices, shuffle\n",
    "import heapq, os, sys, time\n",
    "from collections import deque\n",
    "from ads.fundamentals import SLLNode as Node, SLL\n",
    "from ads.utils import *"
   ]
  },
  {
   "cell_type": "markdown",
   "id": "136c752a",
   "metadata": {},
   "source": [
    "- [NeetCode](https://neetcode.io/)\n",
    "- [Linked Lists for Technical Interviews - Full Course](https://www.youtube.com/watch?v=Hj_rA0dhr2I)"
   ]
  },
  {
   "cell_type": "markdown",
   "id": "e83dc40a",
   "metadata": {
    "heading_collapsed": true
   },
   "source": [
    "##### <b style=\"color:#C71585\">Monotonic Non-Strictly Decreasing/Increasing Stack</b>"
   ]
  },
  {
   "cell_type": "markdown",
   "id": "3e9a064e",
   "metadata": {
    "hidden": true
   },
   "source": [
    "A monotonic non-strictly decreasing/increasing stack is a data structure used to maintain a sequence of elements such that each element is greater than or equal to the element that was added before it. This type of stack is useful in various algorithmic problems, especially those involving finding the next greater or smaller element, stock span problems, or histogram area calculations.\n",
    "\n",
    "-   **Key Characteristics**:\n",
    "    -   `Monotonic`: The elements in the stack are maintained in a specific order (non-strictly decreasing/increasing in this case).\n",
    "    -   `Non-strictly decreasing/increasing`: Each element in the stack is greater than or equal to the one that comes after it.\n",
    "\n",
    "-   **Operations**:\n",
    "    -   `Push`: Add an element to the stack while maintaining the monotonic property.\n",
    "    -   `Pop`: Remove the top element from the stack if it violates the monotonic property.\n",
    "    -   `Peek/Top`: Access the top element without removing it.\n",
    "\n",
    "-   **Example Use Cases**:\n",
    "    -   `Next Greater Element`: Finding the next greater element for each element in an array.\n",
    "    -   `Histogram Area`: Calculating the largest rectangle in a histogram.\n",
    "    -   `Stock Span`: Finding the number of consecutive days with a stock price less than or equal to the current day's price."
   ]
  },
  {
   "cell_type": "markdown",
   "id": "fe3e3dbe",
   "metadata": {
    "heading_collapsed": true
   },
   "source": [
    "### <b style='color:#FF4500'>Linked List Problems</b>:"
   ]
  },
  {
   "cell_type": "markdown",
   "id": "c6774434",
   "metadata": {
    "heading_collapsed": true,
    "hidden": true
   },
   "source": [
    "##### Write a program to find the n-th to last element of a Singly Linked List. - [CtCI: 2.2]."
   ]
  },
  {
   "cell_type": "markdown",
   "id": "47b990c5",
   "metadata": {
    "hidden": true
   },
   "source": [
    "Example:\n",
    "```python\n",
    "1. nth_last(SLL([]).head, 0) -> None\n",
    "2. nth_last(SLL([7]).head, 1) -> Node(7)\n",
    "3. nth_last(SLL([-15, -9]).head, 2) -> Node(-15)\n",
    "4. nth_last(SLL([-14, -7, -12]).head, 0) -> None\n",
    "5. nth_last(SLL([11, 0, -8, 5]).head, 1) -> Node(5)\n",
    "6. nth_last(SLL([-2, -10, 0, 7, 11]).head, 2) -> Node(7)\n",
    "7. nth_last(SLL([-2, -6, 11, 8, 6, 13]).head, 1) -> Node(13)\n",
    "```"
   ]
  },
  {
   "cell_type": "code",
   "execution_count": null,
   "id": "c9712389",
   "metadata": {
    "hidden": true
   },
   "outputs": [],
   "source": [
    "def nth_last_iter_v1(x: Node, n: int) -> Node:\n",
    "    \"\"\"Find the nth node from last\n",
    "\n",
    "    Args:\n",
    "        x (Node): The head of singly linked list\n",
    "        n (int): Index of the list in 1-based numbering.\n",
    "\n",
    "    Returns:\n",
    "        Node: The nth node of this linked list from the last.\n",
    "    \"\"\"\n",
    "\n",
    "    if n == 0 or not x: return None\n",
    "\n",
    "    current = x\n",
    "    nth_node = x\n",
    "    while current is not None and n > 1:\n",
    "        current = current._next\n",
    "        n -= 1\n",
    "\n",
    "    if not current: return None\n",
    "\n",
    "    while current._next:\n",
    "        current = current._next\n",
    "        nth_node = nth_node._next\n",
    "\n",
    "    return nth_node"
   ]
  },
  {
   "cell_type": "code",
   "execution_count": null,
   "id": "d1c634da",
   "metadata": {
    "hidden": true
   },
   "outputs": [],
   "source": [
    "def nth_last_iter_v2(x: Node, n: int):\n",
    "    \"\"\"Find the nth node from last\n",
    "\n",
    "    Args:\n",
    "        x (Node): The head of singly linked list\n",
    "        n (int): Index of the list in 1-based numbering.\n",
    "\n",
    "    Returns:\n",
    "        Node: The nth node of this linked list from the last.\n",
    "    \"\"\"\n",
    "    current = x\n",
    "    size = 0\n",
    "    while current:\n",
    "        size += 1\n",
    "        current = current._next\n",
    "\n",
    "    current = x\n",
    "    k = size - n\n",
    "    if k < 0: return None\n",
    "    for i in range(k): current = current._next\n",
    "    \n",
    "    return current"
   ]
  },
  {
   "cell_type": "code",
   "execution_count": null,
   "id": "e0d62adb",
   "metadata": {
    "hidden": true
   },
   "outputs": [],
   "source": [
    "def nth_last_rec_v1(x: Node, n: int):\n",
    "    \"\"\"Find the nth node from last\n",
    "\n",
    "    Args:\n",
    "        x (Node): The head of singly linked list\n",
    "        n (int): Index of the list in 1-based numbering.\n",
    "\n",
    "    Returns:\n",
    "        Node: The nth node of this linked list from the last.\n",
    "    \"\"\"\n",
    "\n",
    "    def _nth_from_last(x: Node, n):\n",
    "        if not x or n == 0: return [0, None]\n",
    "        idx_node = _nth_from_last(x._next, n)\n",
    "        if not idx_node[1]:\n",
    "            idx_node[0] += 1\n",
    "            if idx_node[0] == n: idx_node[1] = x\n",
    "            return idx_node\n",
    "        else: return idx_node\n",
    "\n",
    "    return _nth_from_last(x, n)[1]"
   ]
  },
  {
   "cell_type": "code",
   "execution_count": null,
   "id": "a2b90b2a",
   "metadata": {
    "hidden": true
   },
   "outputs": [],
   "source": [
    "def nth_last_rec_v2(x: Node, n: int):\n",
    "    \"\"\"Find the nth node from last\n",
    "\n",
    "    Args:\n",
    "        x (Node): The head of singly linked list\n",
    "        n (int): Index of the list in 1-based numbering.\n",
    "\n",
    "    Returns:\n",
    "        Node: The nth node of this linked list from the last.\n",
    "    \"\"\"\n",
    "\n",
    "    def _nth_from_last(x: Node, n):\n",
    "        if n == 0 or not x: return [0, None]\n",
    "        idx_node = _nth_from_last(x._next, n)\n",
    "        idx_node[0] += 1 \n",
    "        if idx_node[0] == n: idx_node[1] = x\n",
    "        return idx_node\n",
    "\n",
    "    return _nth_from_last(x, n)[1]"
   ]
  },
  {
   "cell_type": "code",
   "execution_count": null,
   "id": "d3088f6c",
   "metadata": {
    "hidden": true
   },
   "outputs": [],
   "source": [
    "def nth_last_rec(x: Node, n: int):\n",
    "    '''It JUST PRINT the n-th node from last, but CAN'T RETURN it.'''\n",
    "\n",
    "    if n == 0 or not x: return 0\n",
    "    n_from_last = 1 + nth_last_rec_v2(x._next, n)\n",
    "    if n_from_last == n:\n",
    "        print(f\"{n}-th node from the last: {x}\")\n",
    "    return n_from_last"
   ]
  },
  {
   "cell_type": "code",
   "execution_count": null,
   "id": "327b88de",
   "metadata": {
    "hidden": true
   },
   "outputs": [],
   "source": [
    "def _test_nth_node_from_last():\n",
    "    functions = [\n",
    "        nth_last_iter_v1, nth_last_iter_v2, nth_last_rec_v1, nth_last_rec_v2\n",
    "    ]\n",
    "\n",
    "    for f in functions:\n",
    "        print(f\"\"\"{'*'*15} Running: {f.__name__} {'*'*15}\"\"\")\n",
    "        for i in range(2, 7):\n",
    "            given_a = [randint(-15, 15) for _ in range(i)]\n",
    "            given_idx = randint(0, len(given_a))\n",
    "            expected = given_a[-given_idx] if given_idx else None\n",
    "\n",
    "            sll = SLL(given_a)\n",
    "            res = f(sll._head, given_idx)\n",
    "            returned = res._key if res and given_idx else None\n",
    "            print(expected, returned)\n",
    "            assert returned == expected\n",
    "\n",
    "            # returned = f\"\"\"Node({returned})\"\"\" if returned else None\n",
    "            # exmample = f\"\"\"{i+1}. {f.__name__}(SLL({given_a}).head, {given_idx}) -> {returned}\"\"\"\n",
    "            # print(exmample)\n",
    "\n",
    "        \n",
    "\n",
    "_test_nth_node_from_last()"
   ]
  },
  {
   "cell_type": "markdown",
   "id": "87b567c0",
   "metadata": {
    "heading_collapsed": true,
    "hidden": true
   },
   "source": [
    "##### Reverse a Linked list."
   ]
  },
  {
   "cell_type": "markdown",
   "id": "5a0203cb",
   "metadata": {
    "hidden": true
   },
   "source": [
    "Example:\n",
    "```python\n",
    "reverse_sll_v2(SLL([]).head) -> SLL([]).head\n",
    "reverse_sll_v2(SLL([8]).head) -> SLL([8]).head\n",
    "reverse_sll_v2(SLL([-7, -10]).head) -> SLL([-10, -7]).head\n",
    "reverse_sll_v2(SLL([-2, 8, 12]).head) -> SLL([12, 8, -2]).head\n",
    "reverse_sll_v2(SLL([5, 6, -8, 13]).head) -> SLL([13, -8, 6, 5]).head\n",
    "reverse_sll_v2(SLL([-5, 3, 7, -3, 7]).head) -> SLL([7, -3, 7, 3, -5]).head\n",
    "```"
   ]
  },
  {
   "cell_type": "code",
   "execution_count": null,
   "id": "7c45dcc2",
   "metadata": {
    "code_folding": [],
    "hidden": true
   },
   "outputs": [],
   "source": [
    "def reverse_sll_itr(x: Node) -> Node:\n",
    "    \"\"\"Reverse the given singly linked list recursively\n",
    "\n",
    "    Args:\n",
    "        x (Node): the head of the linked list.\n",
    "\n",
    "    Returns:\n",
    "        Node: the head of the reversed linked list.\n",
    "    \"\"\"\n",
    "    if not x: return x\n",
    "    current = x\n",
    "    prev = None\n",
    "    while current:\n",
    "        second = current._next\n",
    "        current._next = prev\n",
    "        prev = current\n",
    "        current = second\n",
    "    return prev"
   ]
  },
  {
   "cell_type": "code",
   "execution_count": null,
   "id": "117fca04",
   "metadata": {
    "code_folding": [],
    "hidden": true
   },
   "outputs": [],
   "source": [
    "def reverse_sll_itr_v2(x: Node) -> Node:\n",
    "    \"\"\"Reverse the given singly linked list recursively\n",
    "\n",
    "    Args:\n",
    "        x (Node): the head of the linked list.\n",
    "\n",
    "    Returns:\n",
    "        Node: the head of the reversed linked list.\n",
    "    \"\"\"\n",
    "    if not x: return x\n",
    "    current = x\n",
    "    prev = None\n",
    "    while True:\n",
    "        second = current._next\n",
    "        current._next = prev\n",
    "        prev = current\n",
    "\n",
    "        if not second: break\n",
    "        current = second\n",
    "\n",
    "    return current"
   ]
  },
  {
   "cell_type": "code",
   "execution_count": null,
   "id": "505ad934",
   "metadata": {
    "code_folding": [
     0
    ],
    "hidden": true
   },
   "outputs": [],
   "source": [
    "def reverse_sll(x: Node) -> Node:\n",
    "    \"\"\"Reverse the given singly linked list recursively\n",
    "\n",
    "    Args:\n",
    "        x (Node): the head of the linked list.\n",
    "\n",
    "    Returns:\n",
    "        Node: the head of the reversed linked list.\n",
    "    \"\"\"\n",
    "    if x is None or x._next is None: return x\n",
    "    new_head = reverse_sll(x._next)\n",
    "    x._next._next = x\n",
    "    x._next = None\n",
    "    return new_head"
   ]
  },
  {
   "cell_type": "code",
   "execution_count": null,
   "id": "07e63058",
   "metadata": {
    "code_folding": [
     0
    ],
    "hidden": true
   },
   "outputs": [],
   "source": [
    "def reverse_sll_v2(x: Node) -> Node:\n",
    "    \"\"\"Reverse the given singly linked list recursively\n",
    "\n",
    "    Args:\n",
    "        x (Node): the head of the linked list.\n",
    "\n",
    "    Returns:\n",
    "        Node: the head of the reversed linked list.\n",
    "    \"\"\"\n",
    "    if x is None or x._next is None: return x\n",
    "    second = x._next\n",
    "    x._next = None\n",
    "    rest = reverse_sll_v2(second)\n",
    "    second._next = x\n",
    "    return rest"
   ]
  },
  {
   "cell_type": "code",
   "execution_count": null,
   "id": "858db52c",
   "metadata": {
    "code_folding": [],
    "hidden": true
   },
   "outputs": [],
   "source": [
    "def _test_reverse_sll():\n",
    "    functions = [\n",
    "        reverse_sll, reverse_sll_v2, reverse_sll_itr, reverse_sll_itr_v2\n",
    "    ]\n",
    "\n",
    "    for f in functions:\n",
    "        print(f\"\"\"{'*'*15} Running: {f.__name__} {'*'*15}\"\"\")\n",
    "        for i in range(700):\n",
    "            a = [randint(-15, 15) for _ in range(i)]\n",
    "            a_reversed = [*reversed(a)]\n",
    "            sll = SLL(a)\n",
    "            sll._head = f(sll._head)\n",
    "            rev = sll.keys()\n",
    "\n",
    "            assert a_reversed == rev\n",
    "\n",
    "            # exmample = f\"\"\"{i+1}. {f.__name__}(SLL({a}).head) -> SLL({rev}).head)\"\"\"\n",
    "            # print(exmample)"
   ]
  },
  {
   "cell_type": "code",
   "execution_count": null,
   "id": "1f4cc531",
   "metadata": {
    "hidden": true
   },
   "outputs": [],
   "source": [
    "_test_reverse_sll()"
   ]
  },
  {
   "cell_type": "markdown",
   "id": "61329761",
   "metadata": {
    "heading_collapsed": true,
    "hidden": true
   },
   "source": [
    "##### Check if the given linked list is cyclic [EPI:7.3] "
   ]
  },
  {
   "cell_type": "markdown",
   "id": "c83f042b",
   "metadata": {
    "hidden": true
   },
   "source": [
    "\n",
    "[HackerRank](https://www.youtube.com/watch?v=MFOAbpfrJ8g)\n",
    "\n",
    "Write a function `has_cycle(head: Node)` which takes the head of a singly linked list and returns the node at the start of the cycle, if a cycle is present and `None` if there does not exist a cycle.\n",
    "\n",
    "NOTE: You don not know the length of the list in advance."
   ]
  },
  {
   "cell_type": "code",
   "execution_count": null,
   "id": "10ba8a03",
   "metadata": {
    "hidden": true
   },
   "outputs": [],
   "source": [
    "def has_cycle(head: Node) -> Node:\n",
    "    \"\"\"Finds the head of the cycle in the given linked list.\n",
    "\n",
    "    Args:\n",
    "        head (Node): The head of the given linked list.\n",
    "\n",
    "    Returns:\n",
    "        Node: Head of the cycle if there is one, None otherwise.\n",
    "    \"\"\"\n",
    "    def count_cycle_len(cycle_head: Node) -> int:\n",
    "        \"\"\"Count the number of nodes in the given cycle\n",
    "\n",
    "        Args:\n",
    "            cycle_head (Node): The head node of the cycle\n",
    "\n",
    "        Returns:\n",
    "            int: The total number of nodes int the given cycle.\n",
    "        \"\"\"\n",
    "        current, counter = cycle_head, 0\n",
    "        while True:\n",
    "            counter += 1\n",
    "            current = current._next\n",
    "            if current is cycle_head:\n",
    "                return counter\n",
    "\n",
    "    fast = slow = head\n",
    "\n",
    "    while fast and fast._next and fast._next._next:\n",
    "        slow, fast = slow._next, fast._next._next\n",
    "\n",
    "        if slow is fast:\n",
    "            # Finds the starting node of the cycle:\n",
    "            # (step-1): place second pointer at `length-of-cycle` steps ahead of head.\n",
    "            second = head\n",
    "            for _ in range(count_cycle_len(slow)):\n",
    "                second = second._next\n",
    "\n",
    "            first = head\n",
    "            # (step-2): now make first and second pointers iterate in tendem.\n",
    "            # second pointer is 'length-of-cycle' steps ahead of first pointer.\n",
    "            while first is not second:\n",
    "                first = first._next\n",
    "                second = second._next\n",
    "            \n",
    "            return first  # since now first pointer at the starting of cycle.\n",
    "\n",
    "    return None  # No cycle."
   ]
  },
  {
   "cell_type": "code",
   "execution_count": null,
   "id": "25d87ef7",
   "metadata": {
    "hidden": true
   },
   "outputs": [],
   "source": [
    "def test_has_cycle():\n",
    "    functions = [has_cycle]\n",
    "    L = []\n",
    "\n",
    "    for f in functions:\n",
    "        print(f\"\"\"{'*'*15} {yellow('Running')}: {f.__name__} {'*'*15}\"\"\")\n",
    "        for i in range(70):\n",
    "            a = [randint(-15, 15) for _ in range(i)]\n",
    "\n",
    "            expected = None\n",
    "\n",
    "            sll = SLL(a)\n",
    "            sll._head = f(sll._head)\n",
    "            returned = None if not sll.keys() else sll.keys()\n",
    "            assert expected == returned\n",
    "\n",
    "            # returned = f\"\"\"SLL({returned}).head\"\"\" if returned else None\n",
    "            # ex = f\"\"\"{i}. {f.__name__}(SLL({a}).head, {m}, {n}) -> {returned}\"\"\"\n",
    "            # print(ex)\n",
    "            # L.append([a, m, n, returned])\n",
    "\n",
    "    # print(L)"
   ]
  },
  {
   "cell_type": "code",
   "execution_count": null,
   "id": "ddc83842",
   "metadata": {
    "hidden": true
   },
   "outputs": [],
   "source": [
    "test_has_cycle()"
   ]
  },
  {
   "cell_type": "code",
   "execution_count": null,
   "id": "702c1aa9",
   "metadata": {
    "hidden": true
   },
   "outputs": [],
   "source": []
  },
  {
   "cell_type": "markdown",
   "id": "2a03236c",
   "metadata": {
    "heading_collapsed": true,
    "hidden": true
   },
   "source": [
    "##### Delete N Nodes After M Nodes in a Singly Linked List."
   ]
  },
  {
   "cell_type": "markdown",
   "id": "60dfaa95",
   "metadata": {
    "hidden": true
   },
   "source": [
    "\n",
    "- Example:\n",
    "\n",
    "```python\n",
    "delete_n_after_m(SLL([2]).head, 0, 0) -> None\n",
    "delete_n_after_m(SLL([4, -3]).head, 1, 0) -> SLL([4, -3]).head\n",
    "delete_n_after_m(SLL([-5, 5, -9]).head, 0, 2) -> None\n",
    "delete_n_after_m(SLL([-2, -15, -11, -15]).head, 1, 1) -> SLL([-2, -11, -15]).head\n",
    "delete_n_after_m(SLL([6, -1, -5, -9, -1]).head, 1, 2) -> SLL([6, -9, -1]).head\n",
    "```"
   ]
  },
  {
   "cell_type": "code",
   "execution_count": null,
   "id": "1807b971",
   "metadata": {
    "hidden": true
   },
   "outputs": [],
   "source": [
    "def delete_n_after_m(head: Node, M: int, N: int) -> Node:\n",
    "    \"\"\"Deletes 'N' nodes after 'M' starting from head.\n",
    "\n",
    "    Args:\n",
    "        head (Node): The head of the given singly linked list.\n",
    "        M (int): Number of nodes after which 'N' nodes to be deleted.\n",
    "        N (int): Number of nodes to be deleted.\n",
    "\n",
    "    Returns:\n",
    "        Node: The head of the linked list.\n",
    "    \"\"\"\n",
    "    if not head or M < 0 or N <= 0: return head\n",
    "\n",
    "    dummy_head = Node(None, head)\n",
    "    current = dummy_head\n",
    "\n",
    "    while M > 0 and current:\n",
    "        current = current._next\n",
    "        M -= 1\n",
    "\n",
    "    if not current: return dummy_head._next\n",
    "\n",
    "    mth = current\n",
    "    current = current._next\n",
    "    mth._next = None\n",
    "\n",
    "    while current and N > 1:\n",
    "        current = current._next\n",
    "        N -= 1\n",
    "\n",
    "    if not current:\n",
    "        return current\n",
    "    mth._next = current._next\n",
    "    current._next = None\n",
    "    return dummy_head._next\n",
    "\n",
    "\n",
    "def delete_n_after_m_v2(head: Node, M: int, N: int) -> Node:\n",
    "    \"\"\"Deletes 'N' nodes after 'M' starting from head.\n",
    "\n",
    "    Args:\n",
    "        head (Node): The head of the given singly linked list.\n",
    "        M (int): Number of nodes ( M > 0)\n",
    "        N (int): Number of nodes to be deleted.\n",
    "\n",
    "    Returns:\n",
    "        Node: The head of the linked list.\n",
    "    \"\"\"\n",
    "    def size(head):\n",
    "        sz = 0\n",
    "        while head:\n",
    "            sz += 1\n",
    "            head = head._next\n",
    "        return sz\n",
    "\n",
    "    sz = size(head)\n",
    "\n",
    "    if not head or sz < M or M <= 0 or N <= 0: return head\n",
    "    # if N > sz - M: return head # another variant of implementaions\n",
    "\n",
    "    current = head\n",
    "    while current and M > 1:\n",
    "        current = current._next\n",
    "        M -= 1\n",
    "\n",
    "    Mth = current\n",
    "\n",
    "    while current and N >= 1:\n",
    "        current = current._next\n",
    "        N -= 1\n",
    "\n",
    "    if not current:\n",
    "        Mth._next = None\n",
    "        return head\n",
    "    else:\n",
    "        Mth._next = current._next\n",
    "        current._next = None\n",
    "        return head"
   ]
  },
  {
   "cell_type": "markdown",
   "id": "bca18e91",
   "metadata": {
    "heading_collapsed": true,
    "hidden": true
   },
   "source": [
    "##### Merge or Combine Two Sorted Linked Lists. [EPI:7.1]"
   ]
  },
  {
   "cell_type": "markdown",
   "id": "f4a66cba",
   "metadata": {
    "hidden": true
   },
   "source": [
    "\n",
    "- Examples:\n",
    "\n",
    "```python\n",
    "merge_two_sorted_sll(SLL([]).head, SLL([]).head) -> None\n",
    "merge_two_sorted_sll(SLL([1]).head, SLL([6]).head) -> SLL([1, 6]).head\n",
    "merge_two_sorted_sll(SLL([7, 9]).head, SLL([-11, 11]).head) -> SLL([-11, 7, 9, 11]).head\n",
    "```"
   ]
  },
  {
   "cell_type": "code",
   "execution_count": null,
   "id": "1d31892b",
   "metadata": {
    "hidden": true
   },
   "outputs": [],
   "source": [
    "def merge_sorted_sll_iter(x: Node, y: Node):\n",
    "    current = Node(None)\n",
    "    head = current._next\n",
    "    p1 = x\n",
    "    p2 = y\n",
    "\n",
    "    while p1 and p2:\n",
    "        if p1._key < p2._key:\n",
    "            current._next = p1\n",
    "            p1 = p1._next\n",
    "        else:\n",
    "            current._next = p2\n",
    "            p2 = p2._next\n",
    "        current = current._next\n",
    "\n",
    "    current._next = p1 if not p2 else p2\n",
    "    return head"
   ]
  },
  {
   "cell_type": "code",
   "execution_count": null,
   "id": "7a1780b0",
   "metadata": {
    "hidden": true
   },
   "outputs": [],
   "source": [
    "def merge_sorted_sll_rec(n1: Node, n2: Node):\n",
    "    if not n1: return n2\n",
    "    if not n2: return n1\n",
    "\n",
    "    if n1._key < n2._key:\n",
    "        n1._next = merge_two_sorted_sll(n1._next, n2)\n",
    "        return n1\n",
    "    else:\n",
    "        n2._next = merge_two_sorted_sll(n1, n2._next)\n",
    "        return n2"
   ]
  },
  {
   "cell_type": "code",
   "execution_count": null,
   "id": "6b08eecf",
   "metadata": {
    "hidden": true
   },
   "outputs": [],
   "source": [
    "def merge_linkedlists_A(x, y):\n",
    "    if x is None: return y\n",
    "    if y is None: return x\n",
    "\n",
    "    result = None\n",
    "    if x._key < y._key:\n",
    "        result = x\n",
    "        result._next = merge_linkedlists_A(x._next, y)\n",
    "    else:\n",
    "        result = y\n",
    "        result._next = merge_linkedlists_A(x, y._next)\n",
    "\n",
    "    return result"
   ]
  },
  {
   "cell_type": "markdown",
   "id": "96a9b5fa",
   "metadata": {
    "heading_collapsed": true,
    "hidden": true
   },
   "source": [
    "##### Reverse a single sublist. [EPI:7.2]"
   ]
  },
  {
   "cell_type": "markdown",
   "id": "73eada92",
   "metadata": {
    "hidden": true
   },
   "source": [
    "\n",
    "Write a program which takes a singly linked list and two integers `m` and `n` as arguments, and reverses the nodes of the list between the `m`th and `n`th nodes inclusive. The numbering begins at 1, i.e., the head node is node 1. Do not allocate extra space for additional nodes."
   ]
  },
  {
   "cell_type": "code",
   "execution_count": null,
   "id": "7626c233",
   "metadata": {
    "hidden": true
   },
   "outputs": [],
   "source": [
    "def reverse_sublist(L, start, finish):\n",
    "\n",
    "    dummy_head = sublist_head = ListNode(0, L)\n",
    "    for _ in range(1, start):\n",
    "        sublist_head = sublist_head.next\n",
    "\n",
    "    # Reverses sublist.\n",
    "    sublist_iter = sublist_head.next\n",
    "    for _ in range(finish - start):\n",
    "        temp = sublist_iter.next\n",
    "        \n",
    "        sublist_iter.next, \n",
    "        temp.next, \n",
    "        sublist_head.next = (temp.next, \n",
    "                             sublist_head.next, \n",
    "                             temp)\n",
    "    return dummy_head.next"
   ]
  },
  {
   "cell_type": "markdown",
   "id": "13f47c15",
   "metadata": {
    "heading_collapsed": true,
    "hidden": true
   },
   "source": [
    "##### Check if the given linked list is cyclic [EPI:7.3]"
   ]
  },
  {
   "cell_type": "markdown",
   "id": "d9830a13",
   "metadata": {
    "hidden": true
   },
   "source": [
    "Write a function `has_cycle(head: Node)` which takes the head of a singly linked list and returns `None` if there does not exist a cycle, and the node at the start of the cycle, if a cycle is present.\n",
    "\n",
    "NOTE: You don not know the length of the list in advance."
   ]
  },
  {
   "cell_type": "code",
   "execution_count": null,
   "id": "3afeebbc",
   "metadata": {
    "hidden": true
   },
   "outputs": [],
   "source": [
    "def has_cycle(head: Node) -> Node:\n",
    "    \"\"\"Finds the head of the cycle in the given linked list.\n",
    "\n",
    "    Args:\n",
    "        head (Node): The head of the given linked list.\n",
    "\n",
    "    Returns:\n",
    "        Node: Head of the cycle if there is one, None otherwise.\n",
    "    \"\"\"\n",
    "    def count_cycle_len(cycle_head: Node) -> int:\n",
    "        \"\"\"Count the number of nodes in the given cycle\n",
    "\n",
    "        Args:\n",
    "            cycle_head (Node): The head node of the cycle\n",
    "\n",
    "        Returns:\n",
    "            int: The total number of nodes int the given cycle.\n",
    "        \"\"\"\n",
    "        current, counter = cycle_head, 0\n",
    "        while True:\n",
    "            counter += 1\n",
    "            current = current._next\n",
    "            if current is cycle_head:\n",
    "                return counter\n",
    "\n",
    "    fast = slow = head\n",
    "\n",
    "    while fast and fast._next and fast._next._next:\n",
    "        slow, fast = slow._next, fast._next._next\n",
    "\n",
    "        if slow is fast:\n",
    "            # Finds the starting node of the cycle:\n",
    "            # (step-1): place second pointer at `length-of-cycle` steps ahead of head.\n",
    "            second = head\n",
    "            for _ in range(count_cycle_len(slow)):\n",
    "                second = second._next\n",
    "\n",
    "            first = head\n",
    "            # (step-2): now make first and second pointers iterate in tendem.\n",
    "            # second pointer is 'length-of-cycle' steps ahead of first pointer.\n",
    "            while first is not second:\n",
    "                first = first._next\n",
    "                second = second._next\n",
    "\n",
    "            return first  # since now first pointer at the starting of cycle.\n",
    "\n",
    "    return None  # No cycle."
   ]
  },
  {
   "cell_type": "code",
   "execution_count": null,
   "id": "8a906da3",
   "metadata": {
    "hidden": true
   },
   "outputs": [],
   "source": [
    "def test_has_cycle():\n",
    "    functions = [has_cycle]\n",
    "    L = []\n",
    "\n",
    "    for f in functions:\n",
    "        # print(f\"\"\"{'*'*15} {yellow('Running')}: {f.__name__} {'*'*15}\"\"\")\n",
    "        for i in range(70):\n",
    "            a = [randint(-15, 15) for _ in range(i)]\n",
    "\n",
    "            expected = None\n",
    "\n",
    "            sll = SLL(a)\n",
    "            sll._head = f(sll._head)\n",
    "            returned = None if not sll.keys() else sll.keys()\n",
    "            assert expected == returned\n",
    "\n",
    "            # returned = f\"\"\"SLL({returned}).head\"\"\" if returned else None\n",
    "            # ex = f\"\"\"{i}. {f.__name__}(SLL({a}).head, {m}, {n}) -> {returned}\"\"\"\n",
    "            # print(ex)\n",
    "            # L.append([a, m, n, returned])\n",
    "\n",
    "    # print(L)"
   ]
  },
  {
   "cell_type": "markdown",
   "id": "603fd09f",
   "metadata": {
    "heading_collapsed": true,
    "hidden": true
   },
   "source": [
    "##### Test for overlapping lists - lists are cycle free. [EPI:7.4]"
   ]
  },
  {
   "cell_type": "code",
   "execution_count": null,
   "id": "31149c36",
   "metadata": {
    "hidden": true
   },
   "outputs": [],
   "source": [
    "def overlapping_cyclefree_lists(l1: Node, l2: Node) -> bool:\n",
    "    \"\"\"Checks if the given two lists are overlapping.\n",
    "\n",
    "    Args:\n",
    "        l1 (Node): The head of the first list.\n",
    "        l2 (Node): The head of the second list.\n",
    "\n",
    "    Returns:\n",
    "        bool: True if the two lists are overlapping, False otherwise.\n",
    "    \"\"\"\n",
    "    pass\n",
    "\n",
    "\n",
    "def overlapping_no_cycle_lists(l0: Node, l1: Node) -> Node:\n",
    "    def length(L):\n",
    "        length = 0\n",
    "        while L:\n",
    "            length += 1\n",
    "            L = L.next\n",
    "        return length\n",
    "\n",
    "    l0_len, l1_len = length(l0), length(l1)\n",
    "    if l0_len > l1_len:\n",
    "        l0, l1 = l1, l0  # l1 is the longer list\n",
    "    # Advances the longer list to get equal length lists.\n",
    "    for _ in range(abs(l0_len - l1_len)):\n",
    "        l1 = l1.next\n",
    "\n",
    "    while l0 and l1 and l0 is not l1:\n",
    "        l0, l1 = l0.next, l1.next\n",
    "    return l0  # None implies there is no overlap between l0 and l1."
   ]
  },
  {
   "cell_type": "markdown",
   "id": "fd7b8a54",
   "metadata": {
    "heading_collapsed": true,
    "hidden": true
   },
   "source": [
    "##### Test for overlapping lists - lists MAY NOT BE cycle free. [EPI:7.5]"
   ]
  },
  {
   "cell_type": "markdown",
   "id": "5312ac5a",
   "metadata": {
    "hidden": true
   },
   "source": [
    "\n",
    "In the case where two lists with cycles overlap, the algorithm returns ONE merge point on THE LOOP it may not be THE FIRST MERGE POINT. NOTE: All the points on the loop are merge points if two lists merge."
   ]
  },
  {
   "cell_type": "code",
   "execution_count": null,
   "id": "aca96f57",
   "metadata": {
    "hidden": true
   },
   "outputs": [],
   "source": [
    "def overlapping_cycle_lists(l1: Node, l2: Node) -> bool:\n",
    "    \"\"\"Checks if the given two lists are overlapping.\n",
    "\n",
    "    Args:\n",
    "        l1 (Node): The head of the first list.\n",
    "        l2 (Node): The head of the second list.\n",
    "\n",
    "    Returns:\n",
    "        bool: True if the two lists are overlapping, False otherwise.\n",
    "    \"\"\"\n",
    "    pass\n",
    "\n",
    "\n",
    "\n",
    "def overlapping_lists(l0, l1):\n",
    "\n",
    "    # Store the start of cycle if any.\n",
    "    root0, root1 = has_cycle(l0), has_cycle(l1)\n",
    "\n",
    "    if not root0 and not root1:\n",
    "        # Both lists don't have cycles.\n",
    "        return overlapping_no_cycle_lists(l0, l1)\n",
    "    elif (root0 and not root1) or (not root0 and root1):\n",
    "        # One list has cycle, one list has no cycle.\n",
    "        return None\n",
    "\n",
    "    # Both lists have cycles.\n",
    "    temp = root1\n",
    "    while True:\n",
    "        temp = temp.next\n",
    "        if temp is root0 or temp is root1:\n",
    "            break\n",
    "\n",
    "    # l0 and l1 do not end in the same cycle.\n",
    "    if temp is not root0:\n",
    "        return None  # Cycles are disjoint.\n",
    "\n",
    "    # Calculates the distance between a and b.\n",
    "    def distance(a, b):\n",
    "        dis = 0\n",
    "        while a is not b:\n",
    "            a = a.next\n",
    "            dis += 1\n",
    "        return dis\n",
    "\n",
    "    # l0 and l1 end in the same cycle, locate the overlapping node if they\n",
    "    # first overlap before cycle starts.\n",
    "    stem0_length, stem1_length = distance(l0, root0), distance(l1, root1)\n",
    "    if stem0_length > stem1_length:\n",
    "        l1, l0 = l0, l1\n",
    "        root0, root1 = root1, root0\n",
    "    for _ in range(abs(stem0_length - stem1_length)):\n",
    "        l1 = l1.next\n",
    "    while l0 is not l1 and l0 is not root0 and l1 is not root1:\n",
    "        l0, l1 = l0.next, l1.next\n",
    "\n",
    "    # If l0 == l1 before reaching root0, it means the overlap first occurs\n",
    "    # before the cycle starts; otherwise, the first overlapping node is not\n",
    "    # unique, we can return any node on the cycle.\n",
    "    return l0 if l0 is l1 else root0"
   ]
  },
  {
   "cell_type": "markdown",
   "id": "08fce55c",
   "metadata": {
    "heading_collapsed": true,
    "hidden": true
   },
   "source": [
    "##### Write code to remove duplicated from a SORTED linked list. [EPI:7.8]"
   ]
  },
  {
   "cell_type": "code",
   "execution_count": null,
   "id": "f0a68ea5",
   "metadata": {
    "hidden": true
   },
   "outputs": [],
   "source": [
    "def remove_duplicates(L):\n",
    "\n",
    "    current = L\n",
    "    while current:\n",
    "        # Uses next_distinct to find the next distinct value.\n",
    "        next_distinct = current._next\n",
    "        while next_distinct and next_distinct._key == current._key:\n",
    "            next_distinct = next_distinct._next\n",
    "        current._next = next_distinct\n",
    "        current = next_distinct\n",
    "    return L\n",
    "\n",
    "\n",
    "def remove_dup(L):\n",
    "    if not L or not L._next: return L\n",
    "    prev = L\n",
    "    current = L._next\n",
    "\n",
    "    while current:\n",
    "        if prev._key != current._key:\n",
    "            prev._next = current\n",
    "            prev = current\n",
    "        current = current._next\n",
    "\n",
    "    prev._next = None\n",
    "\n",
    "    return L"
   ]
  },
  {
   "cell_type": "markdown",
   "id": "223ec4c5",
   "metadata": {
    "heading_collapsed": true,
    "hidden": true
   },
   "source": [
    "##### Write code to remove duplicated from a <b style=\"color:red\">UNSORTED</b> linked list if temporary buffer is allowed and not allowed."
   ]
  },
  {
   "cell_type": "code",
   "execution_count": null,
   "id": "6cd23e71",
   "metadata": {
    "hidden": true
   },
   "outputs": [],
   "source": []
  },
  {
   "cell_type": "markdown",
   "id": "944ed5cd",
   "metadata": {
    "heading_collapsed": true,
    "hidden": true
   },
   "source": [
    "##### Implement cyclic right shift. [EPI:7.9]"
   ]
  },
  {
   "cell_type": "markdown",
   "id": "5e913b50",
   "metadata": {
    "hidden": true
   },
   "source": [
    "\n",
    "Write a program that takes as input a singly linked list and a non negative number k, and returns the list cyclically shifted to right by k."
   ]
  },
  {
   "cell_type": "code",
   "execution_count": null,
   "id": "dd10e46b",
   "metadata": {
    "hidden": true
   },
   "outputs": [],
   "source": [
    "def cyclically_right_shift_list(L, k):\n",
    "\n",
    "    if not L:\n",
    "        return L\n",
    "\n",
    "    # Computes the length of L and the tail.\n",
    "    tail, n = L, 1\n",
    "    while tail.next:\n",
    "        n += 1\n",
    "        tail = tail.next\n",
    "\n",
    "    k %= n\n",
    "    if k == 0:\n",
    "        return L\n",
    "\n",
    "    tail.next = L  # Makes a cycle by connecting the tail to the head.\n",
    "    steps_to_new_head, new_tail = n - k, tail\n",
    "    while steps_to_new_head:\n",
    "        steps_to_new_head -= 1\n",
    "        new_tail = new_tail.next\n",
    "\n",
    "    new_head = new_tail.next\n",
    "    new_tail.next = None\n",
    "    return new_head"
   ]
  },
  {
   "cell_type": "markdown",
   "id": "ceba57f8",
   "metadata": {
    "heading_collapsed": true,
    "hidden": true
   },
   "source": [
    "##### Implement even-odd merge. [EPI:7.10]"
   ]
  },
  {
   "cell_type": "code",
   "execution_count": null,
   "id": "a3daba73",
   "metadata": {
    "hidden": true
   },
   "outputs": [],
   "source": [
    "def even_odd_merge(L):\n",
    "\n",
    "    if not L:\n",
    "        return L\n",
    "\n",
    "    even_dummy_head, odd_dummy_head = Node(0), Node(0)\n",
    "    tails, turn = [even_dummy_head, odd_dummy_head], 0\n",
    "    while L:\n",
    "        tails[turn].next = L\n",
    "        L = L.next\n",
    "        tails[turn] = tails[turn].next\n",
    "        turn ^= 1  # Alternate between even and odd.\n",
    "    tails[1].next = None\n",
    "    tails[0].next = odd_dummy_head.next\n",
    "    return even_dummy_head.next\n",
    "\n",
    "\n",
    "\"\"\"Implement a function to check if a linked list is a Palindrome. [EPI:7.11]\"\"\"\n",
    "\n",
    "def is_palindrome(head: Node) -> bool:\n",
    "    pass"
   ]
  },
  {
   "cell_type": "markdown",
   "id": "d7093def",
   "metadata": {
    "heading_collapsed": true,
    "hidden": true
   },
   "source": [
    "##### Implement list pivoting. [EPI:7.12]"
   ]
  },
  {
   "cell_type": "code",
   "execution_count": null,
   "id": "8df05660",
   "metadata": {
    "hidden": true
   },
   "outputs": [],
   "source": [
    "def list_pivoting(l, x):\n",
    "\n",
    "    less_head = less_iter = Node()\n",
    "    equal_head = equal_iter = Node()\n",
    "    greater_head = greater_iter = Node()\n",
    "    # Populates the three lists.\n",
    "    while l:\n",
    "        if l.data < x:\n",
    "            less_iter.next = l\n",
    "            less_iter = less_iter.next\n",
    "        elif l.data == x:\n",
    "            equal_iter.next = l\n",
    "            equal_iter = equal_iter.next\n",
    "        else:  # l.data > x.\n",
    "            greater_iter.next = l\n",
    "            greater_iter = greater_iter.next\n",
    "        l = l.next\n",
    "    # Combines the three lists.\n",
    "    greater_iter.next = None\n",
    "    equal_iter.next = greater_head.next\n",
    "    less_iter.next = equal_head.next\n",
    "    return less_head.next\n",
    "\n",
    "\n",
    "def linked_to_list(l):\n",
    "    v = list()\n",
    "    while l is not None:\n",
    "        v.append(l.data)\n",
    "        l = l.next\n",
    "    return v"
   ]
  },
  {
   "cell_type": "markdown",
   "id": "43b101d2",
   "metadata": {
    "heading_collapsed": true,
    "hidden": true
   },
   "source": [
    "##### Add list-based integers - I. [EPI:7.13]"
   ]
  },
  {
   "cell_type": "markdown",
   "id": "0e6751c2",
   "metadata": {
    "hidden": true
   },
   "source": [
    "\n",
    "Add two numbers represented by a LL, digits are Stored in REVERSE order."
   ]
  },
  {
   "cell_type": "code",
   "execution_count": null,
   "id": "1023fb25",
   "metadata": {
    "hidden": true
   },
   "outputs": [],
   "source": [
    "def add_list_integers_v1(l1: Node, l2: Node) -> Node:\n",
    "    pass"
   ]
  },
  {
   "cell_type": "markdown",
   "id": "8d66e5cf",
   "metadata": {
    "heading_collapsed": true,
    "hidden": true
   },
   "source": [
    "##### Add list-based integers - II. [EPI:7.13]"
   ]
  },
  {
   "cell_type": "markdown",
   "id": "d38feb35",
   "metadata": {
    "hidden": true
   },
   "source": [
    "Add two numbers represented by a LL, digits are Stored in FORWARD order."
   ]
  },
  {
   "cell_type": "markdown",
   "id": "00ff79b2",
   "metadata": {
    "hidden": true
   },
   "source": [
    "You are given two non-empty linked lists representing two non-negative integers. The digits are stored in reverse order, and each of their nodes contains a single digit. Add the two numbers and return the sum as a linked list.\n",
    "\n",
    "You may assume the two numbers do not contain any leading zero, except the number 0 itself.\n",
    "\n",
    "- Example 1:\n",
    "    - Input: l1 = [2,4,3], l2 = [5,6,4]\n",
    "    - Output: [7,0,8]\n",
    "    - Explanation: 342 + 465 = 807.\n",
    "\n",
    "- Example 2:\n",
    "    - Input: l1 = [0], l2 = [0]\n",
    "    - Output: [0]\n",
    " \n",
    "- Example 3:\n",
    "    - Input: l1 = [9,9,9,9,9,9,9], l2 = [9,9,9,9]\n",
    "    - Output: [8,9,9,9,0,0,0,1]\n",
    " \n",
    "\n",
    "- Constraints:\n",
    "    - The number of nodes in each linked list is in the range [1, 100].\n",
    "    - 0 <= Node.val <= 9\n",
    "    - It is guaranteed that the list represents a number that does not have leading zeros."
   ]
  },
  {
   "cell_type": "code",
   "execution_count": null,
   "id": "a452831a",
   "metadata": {
    "hidden": true
   },
   "outputs": [],
   "source": [
    "\n",
    "   \n",
    "# Definition for singly-linked list.\n",
    "# class ListNode:\n",
    "#     def __init__(self, val=0, next=None):\n",
    "#         self.val = val\n",
    "#         self.next = next\n",
    "class Solution:\n",
    "    def addTwoNumbers(self, l1: ListNode, l2: ListNode) -> ListNode:\n",
    "        dummy = ListNode()\n",
    "        cur = dummy\n",
    "        \n",
    "        carry = 0\n",
    "        while l1 or l2 or carry:\n",
    "            v1 = l1.val if l1 else 0\n",
    "            v2 = l2.val if l2 else 0\n",
    "            \n",
    "            # new digit\n",
    "            val = v1 + v2 + carry\n",
    "            carry = val // 10\n",
    "            val = val % 10\n",
    "            cur.next = ListNode(val)\n",
    "            \n",
    "            # update ptrs\n",
    "            cur = cur.next\n",
    "            l1 = l1.next if l1 else None\n",
    "            l2 = l2.next if l2 else None\n",
    "\n",
    "        return dummy.next"
   ]
  },
  {
   "cell_type": "code",
   "execution_count": null,
   "id": "65e24c1d",
   "metadata": {
    "hidden": true
   },
   "outputs": [],
   "source": [
    "def add_list_integers_v2(l1: Node, l2: Node) -> Node:\n",
    "    pass"
   ]
  },
  {
   "cell_type": "markdown",
   "id": "2ff9dbed",
   "metadata": {
    "heading_collapsed": true,
    "hidden": true
   },
   "source": [
    "####  <b style='color:#C71585'>Collected Linked List Problems</b>"
   ]
  },
  {
   "cell_type": "markdown",
   "id": "6faf0de4",
   "metadata": {
    "heading_collapsed": true,
    "hidden": true
   },
   "source": [
    "##### Merge k Sorted Lists"
   ]
  },
  {
   "cell_type": "markdown",
   "id": "9ff7a3ea",
   "metadata": {
    "hidden": true
   },
   "source": [
    "You are given an array of k linked-lists lists, each linked-list is sorted in\n",
    "ascending order. Merge all the linked-lists into one sorted linked-list and return it."
   ]
  },
  {
   "cell_type": "markdown",
   "id": "171b854a",
   "metadata": {
    "hidden": true
   },
   "source": [
    "Example 1:\n",
    "\n",
    "    Input: lists = [[1,4,5],[1,3,4],[2,6]]\n",
    "    Output: [1,1,2,3,4,4,5,6]\n",
    "    Explanation: The linked-lists are:\n",
    "        [ 1->4->5, 1->3->4, 2->6 ]\n",
    "    merging them into one sorted list:\n",
    "        1->1->2->3->4->4->5->6\n",
    "\n",
    "\n",
    "Example 2:\n",
    "\n",
    "    Input: lists = []\n",
    "    Output: []\n",
    "    Example 3:\n",
    "\n",
    "    Input: lists = [[]]\n",
    "    Output: []\n",
    " \n",
    "\n",
    "Constraints:\n",
    "\n",
    "    1) k == lists.length\n",
    "    2) 0 <= k <= 10^4\n",
    "    3) 0 <= lists[i].length <= 500\n",
    "    4) -10^4 <= lists[i][j] <= 10^4\n",
    "    5) lists[i] is sorted in ascending order.\n",
    "    6) The sum of lists[i].length won't exceed 10^4."
   ]
  },
  {
   "cell_type": "markdown",
   "id": "b8e2f927",
   "metadata": {
    "hidden": true
   },
   "source": [
    "Approach 1: Brute Force:\n",
    "- Traverse all the linked lists and collect the values of the nodes into an array.\n",
    "- Sort and iterate over this array to get the proper value of nodes.\n",
    "- Create a new sorted linked list and extend it with the new nodes.\n",
    "\n",
    "Complexity Analysis:\n",
    "- Time complexity : O(N logN) where N is the total number of nodes.\n",
    "    - Collecting all the values costs O(N) time.\n",
    "    - A stable sorting algorithm costs O(NlogN) time.\n",
    "    - Iterating for creating the linked list costs O(N) time.\n",
    "    \n",
    "- Space complexity : O(N):\n",
    "    - Sorting cost O(N) space (depends on the algorithm you choose).\n",
    "    - Creating a new linked list costs O(N) space."
   ]
  },
  {
   "cell_type": "code",
   "execution_count": null,
   "id": "051b00dc",
   "metadata": {
    "hidden": true
   },
   "outputs": [],
   "source": [
    "def mergeKLists(lists: List[SLL]) -> Node:\n",
    "\n",
    "    nodes = []\n",
    "    head = point = Node(0)\n",
    "    for sll in lists:\n",
    "        while sll:\n",
    "            nodes.append(sll._key)\n",
    "            sll = sll._next\n",
    "    for x in sorted(nodes):\n",
    "        point._next = Node(x)\n",
    "        point = point._next\n",
    "    return head._next"
   ]
  },
  {
   "cell_type": "markdown",
   "id": "8cf08fbc",
   "metadata": {
    "hidden": true
   },
   "source": [
    "Approach 2: Compare one by one\n",
    "- Compare every k nodes (head of every linked list) and get the node with the smallest value.\n",
    "- Extend the final sorted linked list with the selected nodes.\n",
    "\n",
    "Time complexity : O(kN) where k is the number of linked lists.\n",
    "- Almost every selection of node in final linked costs O(k) (k-1 times comparison).\n",
    "- There are N nodes in the final linked list.\n",
    "\n",
    "Space complexity :\n",
    "- O(n) Creating a new linked list costs O(n) space.\n",
    "- O(1) It's not hard to apply in-place method - connect selected nodes instead of creating new nodes to fill the new linked list."
   ]
  },
  {
   "cell_type": "markdown",
   "id": "11294fcb",
   "metadata": {
    "hidden": true
   },
   "source": [
    "Approach 3: Optimize Approach 2 by Priority Queue\n",
    "\n",
    "Time complexity : O(Nlogk) where k is the number of linked lists.\n",
    "- The comparison cost will be reduced to O(logk) for every pop and insertion to priority queue. But finding the node with the smallest value just costs O(1) time.\n",
    "- There are N nodes in the final linked list.\n",
    "        \n",
    "Space complexity :\n",
    "- O(n) Creating a new linked list costs O(n) space.\n",
    "- O(k) The code above present applies in-place method which cost O(1) space. And the queue (often implemented with heaps) costs O(k) space (it's far less than N in most situations)."
   ]
  },
  {
   "cell_type": "code",
   "execution_count": null,
   "id": "f6b2327d",
   "metadata": {
    "hidden": true
   },
   "outputs": [],
   "source": [
    "def merge_k_lists_v2(lists: List[SLL]) -> Node:\n",
    "    head = point = Node(0)\n",
    "    q = PriorityQueue()\n",
    "    for sll in lists:\n",
    "        if sll: q.put((sll._key, sll))\n",
    "\n",
    "    while not q.empty():\n",
    "        val, node = q.get()\n",
    "        point._next = Node(val)\n",
    "        point = point._next\n",
    "        node = node._next\n",
    "        if node:\n",
    "            q.put((node._key, node))\n",
    "    return head._next"
   ]
  },
  {
   "cell_type": "markdown",
   "id": "bbe37e06",
   "metadata": {
    "hidden": true
   },
   "source": [
    "Approach 5: Merge with Divide And Conquer\n",
    "- This approach walks alongside the one above but is improved a lot. We don't need to traverse most nodes many times repeatedly.\n",
    "- Pair up k lists and merge each pair.\n",
    "- After the first pairing, k lists are merged into k/2 lists with average 2N/k length, then k/4, k/8 and so on.\n",
    "- Repeat this procedure until we get the final sorted linked list.\n",
    "- Thus, we'll traverse almost N nodes per pairing and merging, and repeat this procedure about log2k times.\n",
    "\n",
    "Time complexity : O(Nlogk) where k is the number of linked lists.\n",
    "- We can merge two sorted linked list in O(n) time where n is the total number of nodes in two lists.\n",
    "- Sum up the merge process and we can get: O(Nlogk)\n",
    "\n",
    "Space complexity :\n",
    "- We can merge two sorted linked lists in O(1) space."
   ]
  },
  {
   "cell_type": "code",
   "execution_count": null,
   "id": "842d24b3",
   "metadata": {
    "hidden": true
   },
   "outputs": [],
   "source": [
    "def merge_k_lists_v3(lists: List[SLL]) -> Node:\n",
    "    def _merge2Lists(l1, l2):\n",
    "        head = point = Node(0)\n",
    "\n",
    "        while l1 and l2:\n",
    "            if l1._key <= l2._key:\n",
    "                point._next = l1\n",
    "                l1 = l1._next\n",
    "            else:\n",
    "                point._next = l2\n",
    "                l2 = l1\n",
    "                l1 = point._next._next\n",
    "            point = point._next\n",
    "\n",
    "        if not l1: point._next = l2\n",
    "\n",
    "    amount = len(lists)\n",
    "    interval = 1\n",
    "    while interval < amount:\n",
    "        for i in range(0, amount - interval, interval * 2):\n",
    "            lists[i] = _merge2Lists(lists[i], lists[i + interval])\n",
    "        interval *= 2\n",
    "    return lists[0] if amount > 0 else None"
   ]
  },
  {
   "cell_type": "code",
   "execution_count": null,
   "id": "98189758",
   "metadata": {
    "hidden": true
   },
   "outputs": [],
   "source": [
    "def _test_merge_k_lists():\n",
    "    pass"
   ]
  },
  {
   "cell_type": "code",
   "execution_count": null,
   "id": "38a363bb",
   "metadata": {
    "hidden": true
   },
   "outputs": [],
   "source": []
  },
  {
   "cell_type": "markdown",
   "id": "9fcc2242",
   "metadata": {
    "heading_collapsed": true,
    "hidden": true
   },
   "source": [
    "##### Write code to partition linked list around a value x, such that all nodes less than x come before all nodes greater than or equal to x."
   ]
  },
  {
   "cell_type": "markdown",
   "id": "c077dab9",
   "metadata": {
    "heading_collapsed": true,
    "hidden": true
   },
   "source": [
    "##### Given a circular linked list, implement an algorithm which returns the node at the beginning of the loop."
   ]
  },
  {
   "cell_type": "markdown",
   "id": "9d5d154a",
   "metadata": {
    "heading_collapsed": true,
    "hidden": true
   },
   "source": [
    "##### Reverse Alternative `k` nodes in a Linked List."
   ]
  },
  {
   "cell_type": "markdown",
   "id": "0b34982d",
   "metadata": {
    "heading_collapsed": true,
    "hidden": true
   },
   "source": [
    "##### Alternate Splitting of a given Linked List."
   ]
  },
  {
   "cell_type": "markdown",
   "id": "eca4cdca",
   "metadata": {
    "heading_collapsed": true,
    "hidden": true
   },
   "source": [
    "##### Swap Kth Node from the front with the Kth Node from the End."
   ]
  },
  {
   "cell_type": "markdown",
   "id": "40625db4",
   "metadata": {
    "heading_collapsed": true,
    "hidden": true
   },
   "source": [
    "##### Merge a linked list into another linked list at alternate p ositions."
   ]
  },
  {
   "cell_type": "markdown",
   "id": "d8f4ec67",
   "metadata": {
    "heading_collapsed": true
   },
   "source": [
    "### <b style='color:#FF4500'>Stack and Queue</b>:"
   ]
  },
  {
   "cell_type": "markdown",
   "id": "787ef2bc",
   "metadata": {
    "heading_collapsed": true,
    "hidden": true
   },
   "source": [
    "####  <b style='color:#C71585'>EPI</b>"
   ]
  },
  {
   "cell_type": "markdown",
   "id": "10989569",
   "metadata": {},
   "source": [
    "##### [2390. Removing Stars From a String](https://leetcode.com/problems/removing-stars-from-a-string/description/?envType=study-plan-v2&envId=leetcode-75)"
   ]
  },
  {
   "cell_type": "markdown",
   "id": "315dfa93",
   "metadata": {},
   "source": [
    "You are given a string s, which contains stars *.\n",
    "\n",
    "In one operation, you can:\n",
    "\n",
    "Choose a star in s.\n",
    "Remove the closest non-star character to its left, as well as remove the star itself.\n",
    "Return the string after all stars have been removed.\n",
    "\n",
    "Note:\n",
    "\n",
    "The input will be generated such that the operation is always possible.\n",
    "It can be shown that the resulting string will always be unique.\n",
    " \n",
    "\n",
    "\n",
    "-   **Example 1**:\n",
    "\n",
    "    -   `Input`: s = \"leet**cod*e\"\n",
    "    -   `Output`: \"lecoe\"\n",
    "    -   `Explanation`: Performing the removals from left to right:\n",
    "        - The closest character to the 1st star is 't' in \"leet**cod*e\". s becomes \"lee*cod*e\".\n",
    "        - The closest character to the 2nd star is 'e' in \"lee*cod*e\". s becomes \"lecod*e\".\n",
    "        - The closest character to the 3rd star is 'd' in \"lecod*e\". s becomes \"lecoe\".\n",
    "        -   There are no more stars, so we return \"lecoe\".\n",
    "\n",
    "-   **Example 2**:\n",
    "\n",
    "    -   `Input`: s = \"erase*****\"\n",
    "    -   `Output`: \"\"\n",
    "    -   `Explanation`: The entire string is removed, so we return an empty string.\n",
    " \n",
    "\n",
    "-   **Constraints**:\n",
    "\n",
    "    -   $1 <= s.length <= 10^5$\n",
    "    -   s consists of lowercase English letters and stars *.\n",
    "    -   The operation above can be performed on s."
   ]
  },
  {
   "cell_type": "code",
   "execution_count": null,
   "id": "df3dddc8",
   "metadata": {},
   "outputs": [
    {
     "name": "stdout",
     "output_type": "stream",
     "text": [
      "\n"
     ]
    }
   ],
   "source": [
    "def remove_stars(s):\n",
    "    stk = []\n",
    "    for i, char in enumerate(s):\n",
    "        if char == \"*\":\n",
    "            if stk: stk.pop()\n",
    "        else:stk.append(char)\n",
    "    return \"\".join(stk)\n"
   ]
  },
  {
   "cell_type": "code",
   "execution_count": null,
   "id": "8db35754",
   "metadata": {},
   "outputs": [
    {
     "name": "stdout",
     "output_type": "stream",
     "text": [
      "lecoe\n",
      "\n"
     ]
    }
   ],
   "source": [
    "print(remove_stars(\"leet**cod*e\"))\n",
    "print(remove_stars(\"erase*****\"))"
   ]
  },
  {
   "cell_type": "markdown",
   "id": "c9250c5f",
   "metadata": {
    "heading_collapsed": true,
    "hidden": true
   },
   "source": [
    "##### Evaluate RPN (Reverse Polish Notation) expressions. [EPI: 8.02]"
   ]
  },
  {
   "cell_type": "markdown",
   "id": "9abe17c8",
   "metadata": {
    "hidden": true
   },
   "source": [
    "**Reverse Polish Notation** (RPN), also known as **postfix notation**, is a mathematical notation in which every operator follows its operands. This notation eliminates the need for parentheses to indicate the order of operations. RPN expressions are commonly used in calculators and computer programs for efficient and unambiguous evaluation of mathematical expressions. \n",
    "\n",
    "Exampl 1:\n",
    "- Infix: `3 + 4 * 5`\n",
    "- Postfix (RPN): `3 4 5 * +`\n",
    "    - RPN Evaluation Steps: Push 3, Push 4, Push 5, Multiply (4 * 5), Add (3 + 20), Result: 23\n",
    "\n",
    "Example 2:\n",
    "- Infix: `(7 - 2) / 3`\n",
    "- Postfix (RPN): `7 2 - 3 /`\n",
    "    - RPN Evaluation: Push 7, Push 2, Subtract (7 - 2), Push 3, Divide (5 / 3), Result: 1.666"
   ]
  },
  {
   "cell_type": "code",
   "execution_count": null,
   "id": "21b18d5d",
   "metadata": {
    "code_folding": [],
    "hidden": true
   },
   "outputs": [],
   "source": [
    "def evaluate_rpn(expression):\n",
    "\n",
    "    stk = []\n",
    "    OPERATORS = {\n",
    "        '+': lambda Y, x: x + Y,\n",
    "        '-': lambda Y, x: x - Y,\n",
    "        '*': lambda Y, x: x * Y,\n",
    "        '/': lambda Y, x: int(x / Y)\n",
    "    }\n",
    "\n",
    "    for token in expression.split():\n",
    "        if token in OPERATORS:\n",
    "            stk.append(OPERATORS[token](stk.pop(), stk.pop()))\n",
    "        else:  # token is a number.\n",
    "            stk.append(int(token))\n",
    "\n",
    "    return stk[-1]"
   ]
  },
  {
   "cell_type": "code",
   "execution_count": null,
   "id": "84a3d3bb",
   "metadata": {
    "code_folding": [],
    "hidden": true
   },
   "outputs": [],
   "source": [
    "def _test_evaluate_rpn():\n",
    "    test_cases = [\n",
    "        [\"0 1 /\", 0],\n",
    "        [\"3 4 5 * +\", 23],\n",
    "        [\"7 2 - 3 /\", 1],\n",
    "        [\"3 4 + 2 * 7 /\", 2]\n",
    "    ]\n",
    "    \n",
    "    for test_case, expected in test_cases:\n",
    "        try:\n",
    "            returned = evaluate_rpn(test_case)\n",
    "            assert returned == expected\n",
    "        except:\n",
    "            print(f\"\"\"\n",
    "                TestCase: {test_case}\n",
    "                Returned: {returned}\n",
    "                Expected: {expected}\n",
    "            \"\"\")\n",
    "# =======================================================\n",
    "_test_evaluate_rpn()"
   ]
  },
  {
   "cell_type": "markdown",
   "id": "d0a7fd7c",
   "metadata": {
    "heading_collapsed": true,
    "hidden": true
   },
   "source": [
    "##### Test a string over ''{, }, (,), [, ]'' for well-formedness. [EPI: 8.03]"
   ]
  },
  {
   "cell_type": "markdown",
   "id": "ada99329",
   "metadata": {
    "hidden": true
   },
   "source": [
    "A string over the characters `{,},(,),[,]` is said to be well-formed if the different types of brackets match in the correct order.\n",
    "For example, `([]){()}` is well-formed, as is `[()[]{()()}]`. However, `{)` and `[()[]{()()` are not well-formed,"
   ]
  },
  {
   "cell_type": "markdown",
   "id": "7687b8bb",
   "metadata": {
    "hidden": true
   },
   "source": [
    "Write a program that tests if a string made up of the characters `(`, `)`, `[`, `]`, `{` and `}` is well-formed."
   ]
  },
  {
   "cell_type": "code",
   "execution_count": null,
   "id": "be1600b0",
   "metadata": {
    "code_folding": [],
    "hidden": true
   },
   "outputs": [],
   "source": [
    "def is_well_formed(s):\n",
    "\n",
    "    stk, PAIRS = [], {'(': ')', '{': '}', '[': ']'}\n",
    "    for char in s:\n",
    "        if char in PAIRS: \n",
    "            stk.append(char)\n",
    "        elif not stk or PAIRS[stk.pop()] != char:\n",
    "            # Unmatched right char or mismatched chars.\n",
    "            return False\n",
    "\n",
    "    return not stk"
   ]
  },
  {
   "cell_type": "code",
   "execution_count": null,
   "id": "ffdfc8f8",
   "metadata": {
    "code_folding": [
     0
    ],
    "hidden": true
   },
   "outputs": [],
   "source": [
    "def _test_is_well_formed():\n",
    "    test_cases = [\n",
    "        [\"{[()]}\", True],\n",
    "        [\"{[()}\", False],\n",
    "        [\"({[}])\", False],\n",
    "        [\"()\", True],\n",
    "        [\"[[[]]]\", True],\n",
    "        [\"[\", False],\n",
    "        [\"}\", False],\n",
    "        [\"\", True]\n",
    "    ]\n",
    "\n",
    "    for test_case, expected in test_cases:\n",
    "        try:\n",
    "            returned = is_well_formed(test_case)\n",
    "            assert returned == expected\n",
    "            # print(f\"\"\"Given: {test_case} \\n Returned: {returned} \\n Expected: {expected}\"\"\")\n",
    "        except AssertionError:\n",
    "            print(f\"\"\"\n",
    "                  Given: {test_case}' \n",
    "                  Returned: {returned}\n",
    "                  Expected: {expected}\n",
    "            \"\"\")\n",
    "# ===============================================================\n",
    "_test_is_well_formed()"
   ]
  },
  {
   "cell_type": "code",
   "execution_count": null,
   "id": "d43e848b",
   "metadata": {
    "code_folding": [
     0
    ],
    "hidden": true
   },
   "outputs": [],
   "source": [
    "def is_balanced(paren_string):\n",
    "    stck =[]\n",
    "    for char in paren_string:\n",
    "        if (char == \"(\"): stck.append(char)\n",
    "        elif (char == \")\"):\n",
    "            try: \n",
    "                if char == stck.pop(): return False\n",
    "            except: return False\n",
    "    \n",
    "    if len(stck) == 0: return True\n",
    "    else: return False  \n",
    "            \n",
    "print (is_balanced(\"(())(())\"))"
   ]
  },
  {
   "cell_type": "markdown",
   "id": "2a913aed",
   "metadata": {
    "heading_collapsed": true,
    "hidden": true
   },
   "source": [
    "##### Normalize pathnames. [EPI: 8.04]"
   ]
  },
  {
   "cell_type": "markdown",
   "id": "83ea855e",
   "metadata": {
    "hidden": true
   },
   "source": [
    "Pathname normalization is the process of converting a given pathname to its canonical or normalized form. This involves **resolving references** to current directory (`.`) and parent directory (`..`) and removing redundant separators. "
   ]
  },
  {
   "cell_type": "markdown",
   "id": "77fbdc58",
   "metadata": {
    "hidden": true
   },
   "source": [
    "A file or directory can be specified via a string called the pathname. This string may specify an absolute path, starting from the root, e.g., `/usr/bin/gcc`, or a path relative to the current working directory, e.g., `scripts/awkscripts`. The same directory may be specified by multiple directory paths. For example, `/usr/lib/../bin/gcc` and `scripts//./../scripts/awkscripts/././` specify equivalent absolute and relative pathnames respectively."
   ]
  },
  {
   "cell_type": "markdown",
   "id": "2476c17d",
   "metadata": {
    "hidden": true
   },
   "source": [
    "Write a program which takes a pathname, and returns the `shortest` equivalent pathname. Assume individual directories and files have names that use only alphanumeric characters. Subdirectory names may be combined using forward slashes (`/`), the current directory (`.`), and parent directory (`..`)."
   ]
  },
  {
   "cell_type": "markdown",
   "id": "c6951fe8",
   "metadata": {
    "hidden": true
   },
   "source": [
    "- ChatGPT solution"
   ]
  },
  {
   "cell_type": "code",
   "execution_count": null,
   "id": "544d742b",
   "metadata": {
    "code_folding": [],
    "hidden": true
   },
   "outputs": [],
   "source": [
    "def shortest_pathname(path):\n",
    "    stk = []\n",
    "    path_parts = path.split('/')\n",
    "    \n",
    "    for path_element in path_parts:\n",
    "        if not path_element or path_element == \".\": continue\n",
    "        if path_element == \"..\":\n",
    "            if not stk or stk[-1] == \"..\": stk.append(path_element)\n",
    "            else: stk.pop()\n",
    "        else:\n",
    "            stk.append(path_element)\n",
    "    \n",
    "    return \"/\" + \"/\".join(stk)"
   ]
  },
  {
   "cell_type": "code",
   "execution_count": null,
   "id": "dc93588e",
   "metadata": {
    "code_folding": [],
    "hidden": true
   },
   "outputs": [],
   "source": [
    "def normalize_pathname(path):\n",
    "    parts = path.split('/')\n",
    "    stack = []\n",
    "\n",
    "    for part in parts:\n",
    "        if part == '..':\n",
    "            if stack and stack[-1] != '..': stack.pop()\n",
    "            else: stack.append(part)\n",
    "        elif part and part != '.':\n",
    "            stack.append(part)\n",
    "\n",
    "    normalized_path = '/' + '/'.join(stack)\n",
    "    return normalized_path"
   ]
  },
  {
   "cell_type": "code",
   "execution_count": null,
   "id": "33f6e761",
   "metadata": {
    "code_folding": [],
    "hidden": true
   },
   "outputs": [],
   "source": [
    "def _test_normalize_pathname():\n",
    "    test_cases = [\n",
    "        [\"/usr/bin/../bin/./scripts/../\", '/usr/bin'],\n",
    "        [\"/usr/bin/../../bin/./scripts/\", '/bin/scripts'],\n",
    "        [\"/usr/bin/sbin/../../.././scripts/\", '/scripts'],\n",
    "        [\"/home/user/documents/../pictures\", '/home/user/pictures'],\n",
    "        [\"/////var//www///html/index.html\", '/var/www/html/index.html'],\n",
    "        [\"../\", '/..'],\n",
    "        [\"../..\", '/../..'],\n",
    "        [\"/home/../user/../\", '/']\n",
    "    ]\n",
    "\n",
    "    for test_case, expected in test_cases:\n",
    "        try:\n",
    "            returned = shortest_pathname(test_case)\n",
    "            # print(f\"\"\"Given: {test_case} \\n Returned: {returned} \\n Expected: {expected}\"\"\")\n",
    "            assert returned == expected\n",
    "#             assert returned == shortest_pathname(test_case)\n",
    "        except AssertionError:\n",
    "            print(f\"\"\"\n",
    "                  Given: {test_case}' \n",
    "                  Returned: {returned}\n",
    "                  Expected: {expected}\n",
    "            \"\"\")\n",
    "# ===============================================================\n",
    "_test_normalize_pathname()"
   ]
  },
  {
   "cell_type": "markdown",
   "id": "5aca7911",
   "metadata": {
    "heading_collapsed": true,
    "hidden": true
   },
   "source": [
    "##### Compute buildings with a sunset view. [EPI: 8.06]"
   ]
  },
  {
   "cell_type": "markdown",
   "id": "4971c4fd",
   "metadata": {
    "hidden": true
   },
   "source": [
    "You are given with a series of buildings that have windows facing west. The buildings are in a straight line, and any building which is to the east of a building of **equal or greater height cannot view the sunset**.\n",
    "\n",
    "Design an algorithm that processes buildings in <b style=\"color:red\">east-to-west order</b> and returns the set of buildings which view the sunset. Each building is specified by its height.\n"
   ]
  },
  {
   "cell_type": "code",
   "execution_count": null,
   "id": "b18b4710",
   "metadata": {
    "code_folding": [],
    "hidden": true
   },
   "outputs": [],
   "source": [
    "def examine_buildings_with_sunset(sequence):\n",
    "\n",
    "    BuildingWithHeight = namedtuple('BuildingWithHeight', ('id', 'height'))\n",
    "    candidates = []\n",
    "    \n",
    "    for building_idx, building_height in enumerate(sequence):\n",
    "        while candidates and building_height >= candidates[-1].height:\n",
    "            candidates.pop()\n",
    "        \n",
    "        candidates.append(BuildingWithHeight(building_idx, building_height))\n",
    "    \n",
    "    return [c.id for c in reversed(candidates)]\n"
   ]
  },
  {
   "cell_type": "code",
   "execution_count": null,
   "id": "e535a9f9",
   "metadata": {
    "code_folding": [],
    "hidden": true
   },
   "outputs": [],
   "source": [
    "def examine_buildings_with_sunset(sequence):\n",
    "\n",
    "    candidates = []\n",
    "    \n",
    "    for building_height in sequence:\n",
    "        while candidates and building_height >= candidates[-1]:\n",
    "            candidates.pop()\n",
    "        \n",
    "        candidates.append(building_height)\n",
    "    \n",
    "    return candidates"
   ]
  },
  {
   "cell_type": "markdown",
   "id": "cba3a384",
   "metadata": {
    "hidden": true
   },
   "source": [
    "Design an algorithm that processes buildings in <b style=\"color:red\">west-to-east order</b> and returns the set of buildings which view the sunset."
   ]
  },
  {
   "cell_type": "code",
   "execution_count": null,
   "id": "a48d4d00",
   "metadata": {
    "code_folding": [],
    "hidden": true
   },
   "outputs": [],
   "source": [
    "def sunset_view_west_to_east(heights):\n",
    "    if not heights: return []\n",
    "    buildings = [heights[-1]]\n",
    "\n",
    "    for height in reversed(heights[:-1]):\n",
    "        if height > buildings[-1]:\n",
    "            buildings.append(height)\n",
    "\n",
    "    return buildings"
   ]
  },
  {
   "cell_type": "code",
   "execution_count": null,
   "id": "64f86d08",
   "metadata": {
    "code_folding": [
     0
    ],
    "hidden": true
   },
   "outputs": [],
   "source": [
    "def _test_examine_buildings_with_sunset():\n",
    "    test_cases = [\n",
    "        [[3, 7, 8, 1, 4, 2, 5, 6], [8, 6]],\n",
    "        [[5, 5, 5, 5], [5]],\n",
    "        [[9, 7, 5, 3, 1], [9, 7, 5, 3, 1]],\n",
    "        [[1, 3, 5, 7, 9], [9]],\n",
    "        [[4, 3, 6, 8, 2, 1, 5, 7], [8, 7]],\n",
    "        [[], []],\n",
    "        [[5], [5]],\n",
    "        [[4, 4], [4]]\n",
    "    ]\n",
    "\n",
    "    for test_case, expected in test_cases:\n",
    "        try:\n",
    "            returned = sunset_view_west_to_east(test_case)\n",
    "            assert returned == examine_buildings_with_sunset(test_case)\n",
    "            # assert returned == expected\n",
    "        except:\n",
    "            print(f\"{test_case}, {expected}, {returned}\")\n",
    "# =================================================================\n",
    "_test_examine_buildings_with_sunset()"
   ]
  },
  {
   "cell_type": "markdown",
   "id": "5409f4aa",
   "metadata": {
    "heading_collapsed": true,
    "hidden": true
   },
   "source": [
    "####  <b style='color:#C71585'>LeetCode Problems</b>"
   ]
  },
  {
   "cell_type": "markdown",
   "id": "7b27f805",
   "metadata": {},
   "source": [
    "##### [1209. Remove All Adjacent Duplicates in String II](https://leetcode.com/problems/remove-all-adjacent-duplicates-in-string-ii/description/) |<b style=\"color:red\">***</b>| [neetcode](https://www.youtube.com/watch?v=w6LcypDgC4w&t=9s)"
   ]
  },
  {
   "cell_type": "markdown",
   "id": "9725aa8d",
   "metadata": {},
   "source": [
    "You are given a string `s` and an integer `k`, a `k` duplicate removal consists of choosing `k` adjacent and equal letters from `s` and removing them, causing the left and the right side of the deleted substring to concatenate together.\n",
    "\n",
    "We repeatedly make `k` duplicate removals on `s` until we no longer can.\n",
    "\n",
    "Return the final string after all such duplicate removals have been made. It is guaranteed that the answer is unique.\n",
    "\n",
    "\n",
    "-   `Example 1`:\n",
    "\n",
    "    -   `Input`: s = \"abcd\", k = 2\n",
    "    -   `Output`: \"abcd\"\n",
    "    -   `Explanation`: There's nothing to delete.\n",
    "\n",
    "-   `Example 2`:\n",
    "\n",
    "    -   `Input`: s = \"deeedbbcccbdaa\", k = 3\n",
    "    -   `Output`: \"aa\"\n",
    "    -   `Explanation`: \n",
    "        -   First delete \"eee\" and \"ccc\", get \"ddbbbdaa\"\n",
    "        -   Then delete \"bbb\", get \"dddaa\"\n",
    "        -   Finally delete \"ddd\", get \"aa\"\n",
    "\n",
    "-   `Example 3`:\n",
    "\n",
    "    -   `Input`: s = \"pbbcggttciiippooaais\", k = 2\n",
    "    -   `Output`: \"ps\"\n",
    "\n",
    "-   `Constraints`:\n",
    "\n",
    "    -   1 <= s.length <= 105\n",
    "    -   2 <= k <= 104\n",
    "    -   s only contains lowercase English letters."
   ]
  },
  {
   "cell_type": "code",
   "execution_count": null,
   "id": "01b0bd48",
   "metadata": {},
   "outputs": [],
   "source": [
    "def remove_duplicates(s: str, k: int) -> str:\n",
    "    stk = []  # [char, count]\n",
    "\n",
    "    for c in s:\n",
    "        if stk and stk[-1][0] == c: stk[-1][1] += 1\n",
    "        else                      : stk.append([c, 1])\n",
    "\n",
    "        if stk[-1][1] == k: stk.pop()\n",
    "\n",
    "    return \"\".join([char*count for char, count in stk])"
   ]
  },
  {
   "cell_type": "code",
   "execution_count": null,
   "id": "a036f2db",
   "metadata": {},
   "outputs": [],
   "source": []
  },
  {
   "cell_type": "markdown",
   "id": "1d7fb454",
   "metadata": {},
   "source": [
    "##### [394. Decode String](https://leetcode.com/problems/decode-string/description/) |<b style=\"color:red\">***</b>| [neetcode](https://www.youtube.com/watch?v=qB0zZpBJlh8)"
   ]
  },
  {
   "cell_type": "markdown",
   "id": "357b5a1d",
   "metadata": {},
   "source": [
    "Given an encoded string, return its decoded string.\n",
    "\n",
    "The encoding rule is: `k[encoded_string]`, where the `encoded_string` inside the square brackets is being repeated exactly `k` times. Note that `k` is guaranteed to be a positive integer.\n",
    "\n",
    "You may assume that the input string is always valid; there are no extra white spaces, square brackets are well-formed, etc. Furthermore, you may assume that the original data does not contain any digits and that digits are only for those repeat numbers, `k`. For example, there will not be input like `3a` or `2[4]`.\n",
    "\n",
    "The test cases are generated so that the length of the output will never exceed 105.\n",
    "\n",
    " \n",
    "\n",
    "-   **Example 1**:\n",
    "\n",
    "    -   **Input**: s = \"3[a]2[bc]\"\n",
    "    -   **Output**: \"aaabcbc\"\n",
    "-   **Example 2**:\n",
    "\n",
    "    -   **Input**: s = \"3[a2[c]]\"\n",
    "    -   **Output**: \"accaccacc\"\n",
    "-   **Example 3**:\n",
    "\n",
    "    -   **Input**: s = \"2[abc]3[cd]ef\"\n",
    "    -   **Output**: \"abcabccdcdcdef\"\n",
    " \n",
    "\n",
    "-   **Constraints**:\n",
    "\n",
    "    -   `1 <= s.length <= 30`\n",
    "    -   `s` consists of lowercase English letters, digits, and square brackets '[]'.\n",
    "    -   `s` is guaranteed to be a valid input.\n",
    "    -   All the integers in `s` are in the range [1, 300]."
   ]
  },
  {
   "cell_type": "code",
   "execution_count": null,
   "id": "ba02d311",
   "metadata": {},
   "outputs": [],
   "source": [
    "def decode_encoded_str(s):\n",
    "    stk = []\n",
    "\n",
    "    for cur_char in s:\n",
    "        if cur_char == \"]\":\n",
    "            cur_str = \"\"\n",
    "            while stk[-1] != \"[\": \n",
    "                cur_str = stk.pop() + cur_str\n",
    "            \n",
    "            stk.pop()\n",
    "\n",
    "            cur_count = \"\"\n",
    "            while stk and stk[-1].isdigit(): cur_count = stk.pop() + cur_count\n",
    "            \n",
    "            stk.append(cur_str*int(cur_count))\n",
    "\n",
    "        else: stk.append(cur_char)\n",
    "\n",
    "    return \"\".join(stk)"
   ]
  },
  {
   "cell_type": "code",
   "execution_count": 2,
   "id": "c9456754",
   "metadata": {},
   "outputs": [],
   "source": [
    "def decode_encoded_str_v2(s):\n",
    "    stk = []\n",
    "\n",
    "    for char in s:\n",
    "        if char == \"]\":\n",
    "            chars = []\n",
    "            counts = []\n",
    "\n",
    "            while stk and stk[-1].isalpha(): chars.append(stk.pop())\n",
    "\n",
    "            stk.pop()\n",
    "\n",
    "            while stk and stk[-1].isdigit(): counts.append(stk.pop())\n",
    "\n",
    "            stk.append(\"\".join(reversed(chars))*int(\"\".join(reversed(counts))))\n",
    "        \n",
    "        else: stk.append(char)\n",
    "\n",
    "    return \"\".join(stk)"
   ]
  },
  {
   "cell_type": "code",
   "execution_count": 3,
   "id": "af3d92ff",
   "metadata": {},
   "outputs": [],
   "source": [
    "def _test_decode_encoded_str():\n",
    "\n",
    "    test_cases = [\n",
    "        (\"\", \"\"),\n",
    "        (\"a\", \"a\"),\n",
    "        (\"1[a]\", \"a\"),\n",
    "        (\"3[a]2[bc]\", \"aaabcbc\"), \n",
    "        (\"3[a2[c]]\", \"accaccacc\"), \n",
    "        (\"2[abc]3[cd]ef\", \"abcabccdcdcdef\")\n",
    "    ]\n",
    "\n",
    "    for test_case, expected in test_cases:\n",
    "        returned1 = decode_encoded_str_v2(test_case)\n",
    "        try:\n",
    "            assert returned1 == expected\n",
    "        except:\n",
    "            print(f\"Given: {test_case} \\n\\tReturned:{returned1} \\n\\tExpected: {expected}\")\n",
    "#==================================================================================\n",
    "_test_decode_encoded_str()"
   ]
  },
  {
   "cell_type": "code",
   "execution_count": null,
   "id": "03a14a08",
   "metadata": {},
   "outputs": [],
   "source": []
  },
  {
   "cell_type": "markdown",
   "id": "586952d5",
   "metadata": {},
   "source": [
    "##### [402. Remove K Digits](https://leetcode.com/problems/remove-k-digits/description/) | [neetcode](https://www.youtube.com/watch?v=cFabMOnJaq0&t=24s)"
   ]
  },
  {
   "cell_type": "markdown",
   "id": "b6285fe8",
   "metadata": {},
   "source": [
    "Given a string `num` representing a non-negative integer number, and an integer `k`, return the smallest possible integer after removing `k` digits from num.\n",
    "\n",
    " \n",
    "-   `Example 1`:\n",
    "\n",
    "    -   `Input`: num = \"1432219\", k = 3\n",
    "    -   `Output`: \"1219\"\n",
    "    -   `Explanation`: Remove the three digits 4, 3, and 2 to form the new number 1219 which is the smallest.\n",
    "\n",
    "-   `Example 2`:\n",
    "\n",
    "    -   `Input`: num = \"10200\", k = 1\n",
    "    -   `Output`: \"200\"\n",
    "    -   `Explanation`: Remove the leading 1 and the number is 200. Note that the output must not contain leading zeroes.\n",
    "\n",
    "-   `Example 3`:\n",
    "\n",
    "    -   `Input`: num = \"10\", k = 2\n",
    "    -   `Output`: \"0\"\n",
    "    -   `Explanation`: Remove all the digits from the number and it is left with nothing which is 0.\n",
    " \n",
    "\n",
    "-   `Constraints`:\n",
    "\n",
    "    -   $1 <= k <= num.length <= 10^5$\n",
    "    -   num consists of only digits.\n",
    "    -   num does not have any leading zeros except for the zero itself."
   ]
  },
  {
   "cell_type": "code",
   "execution_count": null,
   "id": "885df3e5",
   "metadata": {},
   "outputs": [],
   "source": [
    "def remove_k_digits(num: str, k: int) -> str:\n",
    "    stk = []\n",
    "    for digit in num:\n",
    "        while stk and stk[-1] > digit and k > 0:\n",
    "            k -= 1\n",
    "            stk.pop()\n",
    "\n",
    "        if digit == \"0\" and not stk: continue\n",
    "        else: stk.append(digit)\n",
    "\n",
    "    while stk and k > 0: stk.pop()\n",
    "\n",
    "    return ''.join(stk) or '0'"
   ]
  },
  {
   "cell_type": "code",
   "execution_count": null,
   "metadata": {},
   "outputs": [],
   "source": [
    "def remove_k_digits_v2(num: str, k: int) -> str:\n",
    "    stk = []\n",
    "    for digit in num:\n",
    "        while stk and stk[-1] > digit and k > 0:\n",
    "            k -= 1\n",
    "            stk.pop()\n",
    "\n",
    "        if stk or digit is not \"0\": stk.append(digit)\n",
    "\n",
    "    if k: stk = stk[:-k]\n",
    "\n",
    "    return ''.join(stk) or '0'"
   ]
  },
  {
   "cell_type": "markdown",
   "id": "826f3d82",
   "metadata": {
    "heading_collapsed": true,
    "hidden": true
   },
   "source": [
    "##### Next Greater Element"
   ]
  },
  {
   "cell_type": "markdown",
   "id": "d2b62b04",
   "metadata": {
    "hidden": true
   },
   "source": [
    "Given an array `nums`, find the next greater element for each element in the array. The next greater element of a number \"x\" is the first greater number to the right of \"x\" in the array. If there is no such number, output -1 for that number."
   ]
  },
  {
   "cell_type": "code",
   "execution_count": null,
   "id": "7e49eaa3",
   "metadata": {},
   "outputs": [],
   "source": [
    "def next_greater_element(nums):\n",
    "    stack = []\n",
    "    result = [-1] * len(nums)\n",
    "    \n",
    "    for i, num in enumerate(nums):\n",
    "        while stack and num > nums[stack[-1]]: \n",
    "            result[stack.pop()] = num\n",
    "\n",
    "        stack.append(i)\n",
    "    \n",
    "    return result"
   ]
  },
  {
   "cell_type": "code",
   "execution_count": null,
   "id": "cf82c2d3",
   "metadata": {
    "hidden": true
   },
   "outputs": [],
   "source": [
    "def next_greater_element_v1(nums):\n",
    "    stack = []\n",
    "    result = [-1] * len(nums)\n",
    "\n",
    "    for i, num in reversed(list(enumerate(nums))):\n",
    "        # Ensure the stack maintains the non-strictly decreasing property\n",
    "        while stack and num >= stack[-1]: stack.pop()\n",
    "\n",
    "        if stack: result[i] = stack[-1]\n",
    "        stack.append(num)\n",
    "\n",
    "    return result"
   ]
  },
  {
   "cell_type": "code",
   "execution_count": 13,
   "id": "82338238",
   "metadata": {
    "code_folding": [
     0
    ],
    "hidden": true
   },
   "outputs": [],
   "source": [
    "def next_greater_element_v2(nums):\n",
    "    stack = []\n",
    "    result = [-1] * len(nums)\n",
    "\n",
    "    for i in range(len(nums)-1, -1, -1):\n",
    "        # Ensure the stack maintains the non-strictly decreasing property\n",
    "        while stack and nums[i] >= stack[-1]: stack.pop()\n",
    "\n",
    "        if stack: result[i] = stack[-1]\n",
    "\n",
    "        stack.append(nums[i])\n",
    "\n",
    "    return result"
   ]
  },
  {
   "cell_type": "code",
   "execution_count": null,
   "id": "18a85e0c",
   "metadata": {},
   "outputs": [],
   "source": [
    "def _test_next_greater_element():\n",
    "    inputs_expecteds = [\n",
    "        ([2, 1, 2, 4, 3], [4, 2, 4, -1, -1],),\n",
    "        ([5, 4, 3, 2, 1], [-1, -1, -1, -1, -1],),\n",
    "        ([1, 2, 3, 4, 5], [2, 3, 4, 5, -1],),\n",
    "        ([1, 3, 2, 4, 3, 5], [3, 4, 4, 5, 5, -1],),\n",
    "        ([2, 2, 2, 2], [-1, -1, -1, -1],),\n",
    "        ([1, 3, 2, 1, 2, 3, 1], [3, -1, 3, 2, 3, -1, -1],),\n",
    "        ([10], [-1],),\n",
    "        ([4, 2], [-1, -1],),\n",
    "        ([2, 4], [4, -1],),\n",
    "        ([1, 5, 1, 5, 1, 5], [5, -1, 5, -1, 5, -1],),\n",
    "        ([7, 7, 7, 7], [-1, -1, -1, -1],),\n",
    "        ([8, 3, 6, 5, 2, 7], [-1, 6, 7, 7, 7, -1],),\n",
    "        ([1, 2, 3, 4, 5, 6, 10], [2, 3, 4, 5, 6, 10, -1])\n",
    "    ]\n",
    "    callables = [next_greater_element, next_greater_element_v1, next_greater_element_v2]\n",
    "\n",
    "    for (input, expected) in inputs_expecteds:\n",
    "        for f in callables:\n",
    "            returned = f(input)\n",
    "            try:\n",
    "                # print(returned)\n",
    "                assert returned == expected\n",
    "            except:\n",
    "                print(f.__name__)\n",
    "                print(f\"Input: {input}\\n\\t Expected: {expected}\\n\\t Returned: {returned}\\n\\t\")\n",
    "#================================================================================\n",
    "\n",
    "_test_next_greater_element()"
   ]
  },
  {
   "cell_type": "markdown",
   "id": "4ce0ab89",
   "metadata": {
    "heading_collapsed": true,
    "hidden": true
   },
   "source": [
    "##### [496. Next Greater Element with Constraint](https://leetcode.com/problems/next-greater-element-i/description/) |<b style=\"color:red\">***</b>| [neetcode](https://www.youtube.com/watch?v=68a1Dc_qVq4&list=PLot-Xpze53lfxD6l5pAGvCD4nPvWKU8Qo&index=15)"
   ]
  },
  {
   "cell_type": "markdown",
   "id": "f13bdc99",
   "metadata": {
    "hidden": true
   },
   "source": [
    "The next greater element of some element x in an array is the first greater element that is to the right of x in the same array.\n",
    "\n",
    "You are given two distinct 0-indexed integer arrays `nums1` and `nums2`, where `nums1` is a subset of `nums2`.\n",
    "\n",
    "For each `0 <= i < nums1.length`, find the index `j` such that `nums1[i] == nums2[j]` and determine the next greater element of `nums2[j]` in `nums2`. If there is no next greater element, then the answer for this query is `-1`.\n",
    "\n",
    "Return an array `ans` of length `nums1.length` such that `ans[i]` is the next greater element as described above."
   ]
  },
  {
   "cell_type": "code",
   "execution_count": null,
   "id": "e20ddc34",
   "metadata": {
    "hidden": true
   },
   "outputs": [],
   "source": [
    "# Brute-force solution\n",
    "def next_greater_elm(nums1, nums2):\n",
    "    ans = [-1]*len(nums1)\n",
    "    val_idx = {n:i for i,n in enumerate(nums1)}\n",
    "\n",
    "    for cur_idx, cur_num in enumerate(nums2):\n",
    "        if cur_num in val_idx:\n",
    "            for next_num in nums2[cur_idx+1:]:\n",
    "                if next_num > cur_num:\n",
    "                    ans[val_idx[cur_num]] = next_num\n",
    "                    break\n",
    "    return ans"
   ]
  },
  {
   "cell_type": "markdown",
   "id": "7720b587",
   "metadata": {
    "hidden": true
   },
   "source": [
    "**Follow up**: Could you find an $O(nums1.length + nums2.length)$ solution?"
   ]
  },
  {
   "cell_type": "code",
   "execution_count": null,
   "id": "19713621",
   "metadata": {
    "hidden": true
   },
   "outputs": [],
   "source": [
    "def next_greater_elm_v2(nums1, nums2):\n",
    "    ans = [-1]*len(nums1)\n",
    "    val_idx = {v:i for i,v in enumerate(nums1)}\n",
    "    stk = []\n",
    "\n",
    "    for cur_num in nums2:\n",
    "\n",
    "        while stk and cur_num > stk[-1]:\n",
    "            ans[val_idx[stk.pop()]] = cur_num\n",
    "        \n",
    "        if cur_num in val_idx: stk.append(cur_num)\n",
    "\n",
    "    return ans   \n",
    "    "
   ]
  },
  {
   "cell_type": "code",
   "execution_count": 1,
   "id": "98e4c5fa",
   "metadata": {},
   "outputs": [
    {
     "data": {
      "text/plain": [
       "False"
      ]
     },
     "execution_count": 1,
     "metadata": {},
     "output_type": "execute_result"
    }
   ],
   "source": []
  },
  {
   "cell_type": "markdown",
   "id": "188ef708",
   "metadata": {
    "heading_collapsed": true,
    "hidden": true
   },
   "source": [
    "##### [739. Daily Temperatures](https://leetcode.com/problems/daily-temperatures/description/) | [neetcode](https://www.youtube.com/watch?v=cTBiBSnjO3c&list=PLot-Xpze53lfxD6l5pAGvCD4nPvWKU8Qo&index=6)"
   ]
  },
  {
   "cell_type": "markdown",
   "id": "168908ca",
   "metadata": {
    "hidden": true
   },
   "source": [
    "Given an array of integers `temperatures` represents the daily temperatures, return an array `answer` such that `answer[i]` is the number of days you have to wait after the $i^{th}$ day to get a warmer temperature. If there is no future day for which this is possible, keep `answer[i] == 0` instead.\n",
    "\n",
    "-   **Example 1**:\n",
    "\n",
    "    -   `Input``: temperatures = [73,74,75,71,69,72,76,73]\n",
    "    -   `Output``: [1,1,4,2,1,1,0,0]\n",
    "\n",
    "-   **Example 2**:\n",
    "\n",
    "    -   `Input``: temperatures = [30,40,50,60]\n",
    "    -   `Output``: [1,1,1,0]\n",
    "\n",
    "-   **Example 3**:\n",
    "\n",
    "    -   `Input``: temperatures = [30,60,90]\n",
    "    -   `Output``: [1,1,0]"
   ]
  },
  {
   "cell_type": "code",
   "execution_count": null,
   "id": "7620ef0c",
   "metadata": {
    "hidden": true
   },
   "outputs": [],
   "source": [
    "def larger_temperature(temperatures):\n",
    "    answer = [0]*len(temperatures)\n",
    "    stk = [] # pair: (index, value)\n",
    "    \n",
    "    for idx, cur_temp in enumerate(temperatures):\n",
    "        while stk and cur_temp > stk[-1][1]:\n",
    "            i,val = stk.pop()\n",
    "            answer[i] = idx-i\n",
    "        \n",
    "        stk.append((idx, cur_temp))\n",
    "    \n",
    "    return answer\n",
    "    "
   ]
  },
  {
   "cell_type": "code",
   "execution_count": null,
   "id": "7ee32fd0",
   "metadata": {
    "hidden": true
   },
   "outputs": [],
   "source": [
    "def larger_temperature_v2(temperatures):\n",
    "    stk, ans = [], [0]*len(temperatures)\n",
    "    \n",
    "    for i, temperature in reversed(list(enumerate(temperatures))):\n",
    "        \n",
    "        while stk and temperature >= stk[-1][1]: stk.pop()\n",
    "        \n",
    "        if stk: ans[i] = stk[-1][0] - i\n",
    "        \n",
    "        stk.append((i, temperature))\n",
    "\n",
    "    return ans"
   ]
  },
  {
   "cell_type": "code",
   "execution_count": null,
   "id": "cb79821b",
   "metadata": {},
   "outputs": [],
   "source": [
    "def larger_temperature_v3(temperatures):\n",
    "    answer = [0]*len(temperatures)\n",
    "    stk = [] # pair: (index, value)\n",
    "    \n",
    "    for idx, cur_temp in enumerate(temperatures):\n",
    "        while stk and cur_temp > temperatures[stk[-1]]:\n",
    "            i = stk.pop()\n",
    "            answer[i] = idx-i\n",
    "        \n",
    "        stk.append(idx)\n",
    "    \n",
    "    return answer\n",
    "    "
   ]
  },
  {
   "cell_type": "markdown",
   "id": "60427080",
   "metadata": {
    "heading_collapsed": true,
    "hidden": true
   },
   "source": [
    "##### [735. Asteroid Collision](https://leetcode.com/problems/asteroid-collision/description/) | [neetcode](https://www.youtube.com/watch?v=LN7KjRszjk4&list=PLot-Xpze53lfxD6l5pAGvCD4nPvWKU8Qo&index=7)"
   ]
  },
  {
   "cell_type": "markdown",
   "id": "aa6b964c",
   "metadata": {
    "hidden": true
   },
   "source": [
    "We are given an array of integers, `asteroids`, representing asteroids in a row.\n",
    "\n",
    "For each asteroid, the absolute value represents its size, and the sign represents its direction (`positive` meaning `right`, `negative` meaning `left`). Each asteroid moves at the same speed.\n",
    "\n",
    "Find out the state of the asteroids after all collisions. If two asteroids meet, the smaller one will explode. If both are the same size, both will explode. Two asteroids moving in the same direction will never meet.\n",
    "\n",
    " \n",
    "- **Example 1**:\n",
    "\n",
    "    - **Input**: asteroids = [5,10,-5]\n",
    "    - **Output**: [5,10]\n",
    "    - **Explanation**: The 10 and -5 collide resulting in 10. The 5 and 10 never collide.\n",
    "\n",
    "- **Example 2**:\n",
    "\n",
    "    - **Input**: asteroids = [8,-8]\n",
    "    - **Output**: []\n",
    "    - **Explanation**: The 8 and -8 collide exploding each other."
   ]
  },
  {
   "cell_type": "code",
   "execution_count": 2,
   "id": "b9343872",
   "metadata": {
    "hidden": true
   },
   "outputs": [],
   "source": [
    "def asteroid_collision(asteroids):\n",
    "    \n",
    "    # survived asteroid stack\n",
    "    stk = []\n",
    "\n",
    "    for asteroid in asteroids:\n",
    "\n",
    "        while stk and asteroid < 0 and stk[-1] > 0:\n",
    "            diff = asteroid + stk[-1]\n",
    "            if   diff < 0: stk.pop()\n",
    "            elif diff > 0: asteroid = 0\n",
    "            else: # diff == 0\n",
    "                stk.pop()\n",
    "                asteroid = 0\n",
    "\n",
    "        if asteroid: stk.append(asteroid)\n",
    "\n",
    "    return stk"
   ]
  },
  {
   "cell_type": "code",
   "execution_count": null,
   "id": "52281ac2",
   "metadata": {},
   "outputs": [],
   "source": [
    "def asteroid_collision_v2(asteroids):\n",
    "    \n",
    "    # survived asteroid stack\n",
    "    stk = []\n",
    "\n",
    "    for asteroid in asteroids:\n",
    "\n",
    "        while stk and stk[-1] > 0:\n",
    "            if asteroid < 0:\n",
    "                asteroid2 = stk.pop()\n",
    "                if abs(asteroid) < asteroid2: \n",
    "                    asteroid = asteroid2\n",
    "                    break\n",
    "                elif abs(asteroid) > asteroid2:\n",
    "                    asteroid = asteroid\n",
    "                    continue\n",
    "                else: \n",
    "                    asteroid = 0\n",
    "                    break\n",
    "\n",
    "            else: break\n",
    "\n",
    "        if asteroid: stk.append(asteroid)\n",
    "\n",
    "    return stk"
   ]
  },
  {
   "cell_type": "code",
   "execution_count": 17,
   "id": "6d105b39",
   "metadata": {
    "hidden": true
   },
   "outputs": [
    {
     "name": "stdout",
     "output_type": "stream",
     "text": [
      "[]\n",
      "[]\n"
     ]
    }
   ],
   "source": [
    "def _test_asteroid_collision():\n",
    "    print(asteroid_collision([8, -8]))\n",
    "    print(asteroid_collision_v2([8,-8]))\n",
    "    # assert asteroid_collision([5,10,-5]) == asteroid_collision_v2([5,10,-5])\n",
    "\n",
    "#================================================================================\n",
    "\n",
    "_test_asteroid_collision()"
   ]
  },
  {
   "cell_type": "markdown",
   "id": "5e506189",
   "metadata": {
    "heading_collapsed": true,
    "hidden": true
   },
   "source": [
    "##### The largest rectangle contained in this skyline. [EPI-17.8] | [neetcode](https://www.youtube.com/watch?v=zx5Sw9130L0&list=PLot-Xpze53lfxD6l5pAGvCD4nPvWKU8Qo&index=3)"
   ]
  },
  {
   "cell_type": "markdown",
   "id": "6b8387af",
   "metadata": {
    "hidden": true
   },
   "source": [
    "You are given a sequence of adjacent buildings. Each has unit width and an integer height. These buildings form the skyline of a city. An architect wants to know the area of a largest rectangle contained in this skyline. \n",
    "\n",
    "Let A be an array representing the heights of adjacent buildings of unit width. Design an algorithm to compute the area of the largest rectangle contained in this skyline.\n",
    "\n",
    "Hint: How would you efficiently find the largest rectangle which includes the i-th building, and has height A[i]?"
   ]
  },
  {
   "cell_type": "markdown",
   "id": "4c3f07ba",
   "metadata": {
    "hidden": true
   },
   "source": [
    "<div style=\"text-align:center\" ><img src=\"../assets/largest-rectangular-area.png\" width=\"500\" height=\"200\" /></div>"
   ]
  },
  {
   "cell_type": "markdown",
   "id": "beeb9a54",
   "metadata": {
    "hidden": true
   },
   "source": [
    "<div style=\"text-align:center\" ><img src=\"../assets/largest_ractangle.png\" width=\"600\" height=\"300\" /></div>"
   ]
  },
  {
   "cell_type": "code",
   "execution_count": null,
   "id": "d02fac29",
   "metadata": {
    "hidden": true
   },
   "outputs": [],
   "source": [
    "def calculate_largest_rectangle(heights):\n",
    "    # Stack to store indices of the histogram bars\n",
    "    idx_stk = []\n",
    "    # Variable to keep track of the maximum rectangle area found\n",
    "    max_area = 0\n",
    "\n",
    "    # Append a zero height to handle remaining bars in the stack uniformly\n",
    "    for cur_idx, current_height in enumerate(heights + [0]):\n",
    "        \n",
    "        # Process bars in the stack until the current bar is taller than the stack's top bar\n",
    "        while idx_stk and current_height <= heights[idx_stk[-1]]:\n",
    "\n",
    "            # Pop the top index from the stack and calculate the height of the rectangle\n",
    "            height = heights[idx_stk.pop()]\n",
    "            \n",
    "            # Calculate the width of the rectangle\n",
    "            width = (cur_idx-1)-idx_stk[-1] if idx_stk else cur_idx\n",
    "            # width = (cur_idx-1)-idx_stk[-1] if idx_stk else (cur_idx-1)-(-1)\n",
    "            \n",
    "            # Update the maximum area if a larger area is found\n",
    "            max_area = max(max_area, height * width)\n",
    "        \n",
    "        # Push the current index onto the stack\n",
    "        idx_stk.append(cur_idx)\n",
    "    \n",
    "    return max_area"
   ]
  },
  {
   "cell_type": "code",
   "execution_count": null,
   "id": "1f3e30ec",
   "metadata": {
    "hidden": true
   },
   "outputs": [],
   "source": [
    "def calculate_largest_rectangle_compact(heights):\n",
    "\n",
    "    idx_stk, max_rectangle_area = [], 0\n",
    "    \n",
    "    # By appending [0] to heights, we can uniformly handle the computation for rectangle area here.\n",
    "    for i, h in enumerate(heights + [0]):\n",
    "        while idx_stk and heights[idx_stk[-1]] >= h:\n",
    "            height = heights[idx_stk.pop()]\n",
    "            width = i if not idx_stk else i-1 - idx_stk[-1] # idx_stk[-1] is new Top\n",
    "            max_rectangle_area = max(max_rectangle_area, height * width)\n",
    "        \n",
    "        idx_stk.append(i)\n",
    "    \n",
    "    return max_rectangle_area"
   ]
  },
  {
   "cell_type": "markdown",
   "id": "ec7256a4",
   "metadata": {
    "hidden": true
   },
   "source": [
    "\n",
    "1. **Stack Usage**:\n",
    "   - The algorithm uses a stack (`idx_stk`) to keep track of the indices of the bars in the histogram.\n",
    "   - The stack ensures that the indices of the bars are stored in increasing order of their heights.\n",
    "\n",
    "2. **Iterating Through Bars**:\n",
    "   - The loop iterates through each bar in the histogram. An additional bar of height `0` is appended to the end of the histogram. This ensures that all bars are processed and any remaining bars in the stack are handled at the end of the iteration.\n",
    "\n",
    "3. **Processing Each Bar**:\n",
    "   - For each bar, if the current bar's height (`current_height`) is less than the height of the bar at the top of the stack, it indicates the end of a potential rectangle that can extend as far as the current index.\n",
    "   - The algorithm pops indices from the stack and calculates the area of the rectangles that end at the current bar.\n",
    "\n",
    "4. **Calculating the Height and Width of the Rectangle**:\n",
    "   - **Height**: The height of the rectangle is determined by the height of the bar whose index was popped from the stack.\n",
    "   - **Width**: The width of the rectangle depends on the current index and the index of the new top of the stack:\n",
    "     - If the stack is empty after popping, it means the popped bar was the smallest so far, and the rectangle can extend all the way back to the start. Thus, the width is simply `cur_idx`.\n",
    "     - If the stack is not empty, the width is the distance between the current index and the new top of the stack minus one (`(cur_idx-1)-idx_stk[-1]`).\n",
    "     - `cur_idx-1` --> Index of the Right-Edge-Bar of currently calculating ractangle.\n",
    "     - `idx_stk[-1]` --> Index of the new Top after popping off the current Top"
   ]
  },
  {
   "cell_type": "code",
   "execution_count": null,
   "id": "280b7544",
   "metadata": {
    "hidden": true
   },
   "outputs": [],
   "source": []
  },
  {
   "cell_type": "code",
   "execution_count": 1,
   "id": "09b874fa",
   "metadata": {
    "hidden": true
   },
   "outputs": [],
   "source": [
    "## ChatGPT Solution\n",
    "def largest_rectangle_area_gpt(heights):\n",
    "    stk = []\n",
    "    max_area = 0\n",
    "    idx = 0\n",
    "    \n",
    "    while idx < len(heights):\n",
    "        # If this bar is higher than the bar at stack top, push it to the stack\n",
    "        if not stk or heights[idx] >= heights[stk[-1]]:\n",
    "            stk.append(idx)\n",
    "            idx += 1\n",
    "        else:\n",
    "            # Pop the top\n",
    "            top_of_stack = stk.pop()\n",
    "            # Calculate the area with heights[top_of_stack] as the smallest (or minimum height) bar\n",
    "            area = (heights[top_of_stack] * ((idx - stk[-1] - 1) if stk else idx))\n",
    "            # Update max_area, if needed\n",
    "            max_area = max(max_area, area)\n",
    "    \n",
    "    # Now, pop the remaining bars from stack and calculate area\n",
    "    while stk:\n",
    "        top_of_stack = stk.pop()\n",
    "        area = (heights[top_of_stack] *\n",
    "               ((idx - stk[-1] - 1) if stk else idx))\n",
    "        max_area = max(max_area, area)\n",
    "    \n",
    "    return max_area"
   ]
  },
  {
   "cell_type": "code",
   "execution_count": null,
   "id": "28bb4e82",
   "metadata": {
    "hidden": true
   },
   "outputs": [],
   "source": [
    "def _test_calculate_largest_rectangle():\n",
    "    test_cases = [[0],[1],[1,2],[2,1],[2,3,3,3,2],[6,2,5,4,5,1,6],[2, 1, 5, 6, 2, 3]]\n",
    "    expecteds = [0,1,2,2,10,12,10]\n",
    "    \n",
    "    for test_case, expected in zip(test_cases, expecteds):\n",
    "        returned1 = calculate_largest_rectangle(test_case)\n",
    "        returned2 = largest_rectangle_area_gpt(test_case)\n",
    "        try:\n",
    "            assert returned1 == expected == returned2\n",
    "        except Exceptions as e:\n",
    "            print(f\"Given: {test_case}\\nReturned: {returned1}\\nExpected: {expected}\")\n",
    "#===================================================================================\n",
    "_test_calculate_largest_rectangle()"
   ]
  },
  {
   "cell_type": "markdown",
   "id": "1d138979",
   "metadata": {
    "heading_collapsed": true,
    "hidden": true
   },
   "source": [
    "##### [853. Car Fleet](https://leetcode.com/problems/car-fleet/description/) | [neetcode](https://www.youtube.com/watch?v=Pr6T-3yB9RM&t=1s)"
   ]
  },
  {
   "cell_type": "markdown",
   "id": "4b137fbb",
   "metadata": {},
   "source": [
    "There are `n` cars at given miles away from the starting mile 0, traveling to reach the mile target.\n",
    "\n",
    "You are given two integer array `position` and `speed`, both of length `n`, where `position[i]` is the starting mile of the i'th car and `speed[i]` is the speed of the i'th car in miles per hour.\n",
    "\n",
    "A car cannot pass another car, but it can catch up and then travel next to it at the speed of the slower car.\n",
    "\n",
    "A car fleet is a car or cars driving next to each other. The speed of the car fleet is the minimum speed of any car in the fleet.\n",
    "\n",
    "If a car catches up to a car fleet at the mile target, it will still be considered as part of the car fleet.\n",
    "\n",
    "Return the number of car fleets that will arrive at the destination.\n"
   ]
  },
  {
   "cell_type": "markdown",
   "id": "74acc246",
   "metadata": {},
   "source": [
    "\n",
    "-   **Example 1**:\n",
    "\n",
    "    -   `Input`: target = 12, position = [10,8,0,5,3], speed = [2,4,1,1,3]\n",
    "    -   `Output`: 3\n",
    "    -   `Explanation`:\n",
    "\n",
    "        -   The cars starting at 10 (speed 2) and 8 (speed 4) become a fleet, meeting each other at 12. The fleet forms at target.\n",
    "        -   The car starting at 0 (speed 1) does not catch up to any other car, so it is a fleet by itself.\n",
    "        -   The cars starting at 5 (speed 1) and 3 (speed 3) become a fleet, meeting each other at 6. The fleet moves at speed 1 until it reaches target.\n"
   ]
  },
  {
   "cell_type": "markdown",
   "id": "8a042f1c",
   "metadata": {},
   "source": [
    "\n",
    "-   **Example 2**:\n",
    "\n",
    "    -   `Input`: target = 10, position = [3], speed = [3]\n",
    "    -   `Output`: 1\n",
    "    -   `Explanation`:\n",
    "        -   There is only one car, hence there is only one fleet.\n",
    "\n",
    "-   **Example 3**:\n",
    "\n",
    "    -   `Input`: target = 100, position = [0,2,4], speed = [4,2,1]\n",
    "    -   `Output`: 1\n",
    "    -   `Explanation`:\n",
    "\n",
    "        -   The cars starting at 0 (speed 4) and 2 (speed 2) become a fleet, meeting each other at 4. The car starting at 4 (speed 1) travels to 5.\n",
    "        -   Then, the fleet at 4 (speed 2) and the car at position 5 (speed 1) become one fleet, meeting each other at 6. The fleet moves at speed 1 until it reaches target.\n"
   ]
  },
  {
   "cell_type": "markdown",
   "id": "7a7089e9",
   "metadata": {},
   "source": [
    "\n",
    "1. **Calculate Time**: For each car, compute the time it will take to reach the target using the formula $\\frac{\\text{target} - \\text{position}}{\\text{speed}}$.\n",
    "2. **Sort by Position**: Sort the cars in descending order of their positions.\n",
    "3. **Iterate and Count Fleets**:\n",
    "   - Start with no fleets and the time to reach target as zero.\n",
    "   - For each car (starting from the closest to the target):\n",
    "     - Calculate its time to reach the target.\n",
    "     - If this time is greater than the time to reach target of the current fleet, it means this car will form a new fleet.\n",
    "     - Update the fleet count and the time to reach target for the current fleet.\n",
    "     \n",
    "This approach ensures that we account for cars merging into fleets correctly and efficiently. The time complexity of this approach is $O(n \\log n)$ due to the sorting step, and the space complexity is $O(n)$."
   ]
  },
  {
   "cell_type": "code",
   "execution_count": 20,
   "id": "46814a3b",
   "metadata": {},
   "outputs": [],
   "source": [
    "def car_fleet(target, position, speed):\n",
    "    pos_speed = list(zip(position, speed))\n",
    "    pos_speed.sort()\n",
    "\n",
    "    md_stk = [] # Monotonic decreasing Stack\n",
    "\n",
    "    for pos, spd in pos_speed:\n",
    "        tm = (target-pos) / spd\n",
    "        while md_stk and tm >= md_stk[-1]: md_stk.pop()\n",
    "        md_stk.append(tm)\n",
    "\n",
    "    return len(md_stk)"
   ]
  },
  {
   "cell_type": "code",
   "execution_count": 21,
   "id": "c0643a20",
   "metadata": {},
   "outputs": [],
   "source": [
    "def car_fleet_v2(target, position, speed):\n",
    "    pos_spd = list(zip(position, speed))\n",
    "    pos_spd.sort()\n",
    "\n",
    "    # Monotonic increasing Stack\n",
    "    mi_stk = [(target-pos_spd[-1][0])/pos_spd[-1][1]]\n",
    "\n",
    "    for pos, spd in reversed(pos_spd[:-1]):\n",
    "        tm = (target-pos)/spd\n",
    "\n",
    "        if tm > mi_stk[-1]: mi_stk.append(tm)\n",
    "\n",
    "    return len(mi_stk)"
   ]
  },
  {
   "cell_type": "code",
   "execution_count": 22,
   "id": "3ec7ee93",
   "metadata": {},
   "outputs": [],
   "source": [
    "def car_fleet_v3(target, position, speed):\n",
    "    pos_speed = list(zip(position, speed))\n",
    "    pos_speed.sort()\n",
    "    stk = []\n",
    "\n",
    "    for pos, spd in pos_speed[::-1]:\n",
    "        tm = (target-pos)/spd\n",
    "        stk.append(tm)\n",
    "        if len(stk) >= 2 and stk[-1] <= stk[-2]: stk.pop()\n",
    "\n",
    "    return len(stk)"
   ]
  },
  {
   "cell_type": "code",
   "execution_count": 23,
   "id": "8ee34c17",
   "metadata": {},
   "outputs": [],
   "source": [
    "def car_fleet_v4(target, position, speed):\n",
    "    # Pair each car's position with its speed\n",
    "    cars = list(zip(position, speed))\n",
    "\n",
    "    # Sort the cars by their starting position in descending order\n",
    "    cars.sort(reverse=True, key=lambda x: x[0])\n",
    "\n",
    "    fleets = 0\n",
    "    time_to_reach_target = 0\n",
    "\n",
    "    for pos, spd in cars:\n",
    "        # Calculate the time required for this car to reach the target\n",
    "        time = (target - pos) / spd\n",
    "\n",
    "        # If this car's time to reach target is greater than the current known\n",
    "        # fleet's time, it forms a new fleet\n",
    "        if time > time_to_reach_target:\n",
    "            fleets += 1\n",
    "            time_to_reach_target = time\n",
    "\n",
    "    return fleets"
   ]
  },
  {
   "cell_type": "code",
   "execution_count": 24,
   "id": "f845c799",
   "metadata": {},
   "outputs": [],
   "source": [
    "def _test_car_fleets():\n",
    "\n",
    "    # Example Usage\n",
    "    inputs = [\n",
    "        (12, [10, 8, 0, 5, 3], [2, 4, 1, 1, 3]), \n",
    "        (10, [3], [3]), \n",
    "        (100, [0,2,4], [4,2,1])\n",
    "    ]\n",
    "    expecteds = [3, 1, 1]\n",
    "    callables = [car_fleet, car_fleet_v2, car_fleet_v3, car_fleet_v4]\n",
    "\n",
    "    for (target, position, speed), expected in zip(inputs, expecteds):\n",
    "        for func in callables:\n",
    "            returned = func(target, position, speed)\n",
    "            try:\n",
    "                assert returned == expected\n",
    "                # print(returned)\n",
    "            except:\n",
    "                print(f\"target{target}\\nposition: {position}\\speed: {speed} \\n\\tExpected: {expected} \\n\\t Returned {returned}\")\n",
    "\n",
    "#===============================================================================\n",
    "_test_car_fleets()"
   ]
  },
  {
   "cell_type": "markdown",
   "id": "b80bf4c4",
   "metadata": {
    "hidden": true
   },
   "source": [
    "<div style=\"text-align:center\"><img src=\"../assets/leetcode/car_fleet.png\" ></div>"
   ]
  },
  {
   "cell_type": "markdown",
   "id": "0902db7d",
   "metadata": {
    "heading_collapsed": true,
    "hidden": true
   },
   "source": [
    "##### [901. Online Stock Span](https://leetcode.com/problems/online-stock-span/description/) | [neetcode](https://www.youtube.com/watch?v=slYh0ZNEqSw&list=PLot-Xpze53lfxD6l5pAGvCD4nPvWKU8Qo&index=11)"
   ]
  },
  {
   "cell_type": "markdown",
   "id": "5acc58e0",
   "metadata": {
    "hidden": true
   },
   "source": [
    "Design an algorithm that collects daily price quotes for some stock and returns the span of that stock's price for the current day.\n",
    "\n",
    "The span of the stock's price in one day is the maximum number of consecutive days (starting from that day and going backward) for which the stock price was less than or equal to the price of that day.\n",
    "\n",
    "For example, if the prices of the stock in the last four days is [7,2,1,2] and the price of the stock today is 2, then the span of today is 4 because starting from today, the price of the stock was less than or equal 2 for 4 consecutive days.\n",
    "Also, if the prices of the stock in the last four days is [7,34,1,2] and the price of the stock today is 8, then the span of today is 3 because starting from today, the price of the stock was less than or equal 8 for 3 consecutive days.\n",
    "\n",
    "Implement the StockSpanner class: `StockSpanner()` Initializes the object of the class. `int next(int price)` Returns the span of the stock's price given that today's price is price.\n",
    " \n",
    "\n",
    "-   **Example 1**:\n",
    "\n",
    "    -   Input: \n",
    "        -   `[\"StockSpanner\", \"next\", \"next\", \"next\", \"next\", \"next\", \"next\", \"next\"]`\n",
    "        -   `[[], [100], [80], [60], [70], [60], [75], [85]]`\n",
    "\n",
    "    -   Output: \n",
    "        -   `[null, 1, 1, 1, 2, 1, 4, 6]`\n",
    "\n",
    "    -   **Explanation**:\n",
    "        -   `StockSpanner stockSpanner = new StockSpanner();`\n",
    "        -   `stockSpanner.next(100);` // return 1\n",
    "        -   `stockSpanner.next(80);`  // return 1\n",
    "        -   `stockSpanner.next(60);`  // return 1\n",
    "        -   `stockSpanner.next(70);`  // return 2\n",
    "        -   `stockSpanner.next(60);`  // return 1\n",
    "        -   `stockSpanner.next(75);`  // return 4 (last 4 prices including today's price of 75 were less than or equal to today's price.)\n",
    "        -   `stockSpanner.next(85);`  // return 6\n",
    " \n",
    "\n",
    "-   **Constraints**:\n",
    "\n",
    "    -   `1 <= price <= 105`\n",
    "    -   At most 104 calls will be made to next."
   ]
  },
  {
   "cell_type": "code",
   "execution_count": null,
   "id": "e6379ceb",
   "metadata": {
    "hidden": true
   },
   "outputs": [],
   "source": [
    "class StockSpanner:\n",
    "\n",
    "    def __init__(self):\n",
    "        self.stk = [] # pair: (price, span)\n",
    "\n",
    "    def next(self, price: int) -> int:\n",
    "        span = 1\n",
    "        while self.stk and self.stk[-1][0] <= price:\n",
    "            _, prev_span = self.stk.pop()\n",
    "            span += prev_span\n",
    "\n",
    "        self.stk.append((price, span))\n",
    "\n",
    "        return span\n",
    "\n",
    "\n",
    "# Your StockSpanner object will be instantiated and called as such:\n",
    "# obj = StockSpanner()\n",
    "# param_1 = obj.next(price)"
   ]
  },
  {
   "cell_type": "code",
   "execution_count": null,
   "id": "6e211cdd",
   "metadata": {
    "hidden": true
   },
   "outputs": [],
   "source": []
  },
  {
   "cell_type": "markdown",
   "id": "3c6f6fb4",
   "metadata": {
    "heading_collapsed": true,
    "hidden": true
   },
   "source": [
    "##### Given a stack, reverse the items of the stack without using of any aditional data structures. [ByteByByte](https://www.youtube.com/watch?v=dQsZP8UvHVk)"
   ]
  },
  {
   "cell_type": "code",
   "execution_count": 3,
   "id": "5341c319",
   "metadata": {
    "hidden": true
   },
   "outputs": [],
   "source": [
    "def reverse_stk(stk: deque):\n",
    "    if len(stk) == 0: return stk\n",
    "    temp = stk.pop()\n",
    "    reverse_stk(stk)\n",
    "    insert_at_buttom(stk, temp)\n",
    "    return stk\n",
    "\n",
    "def insert_at_buttom(stk: deque, item: int):\n",
    "    if len(stk) == 0:\n",
    "        stk.append(item)\n",
    "        return None\n",
    "    temp = stk.pop()\n",
    "    insert_at_buttom(stk, item)\n",
    "    stk.append(temp)"
   ]
  },
  {
   "cell_type": "code",
   "execution_count": null,
   "id": "2c03b89d",
   "metadata": {
    "hidden": true
   },
   "outputs": [],
   "source": [
    "def _test_reverse_stack():\n",
    "    L = [[[], []], [[1], [1]], [[1,1], [1,1]], [[1,2], [2,1]], [[1,2,3], [3,2,1]],]\n",
    "    for stk, rev_stk in L:\n",
    "        assert reverse_stk(deque(stk)) == deque(rev_stk)"
   ]
  },
  {
   "cell_type": "markdown",
   "id": "f39a23d0",
   "metadata": {
    "heading_collapsed": true,
    "hidden": true
   },
   "source": [
    "####  <b style='color:#C71585'>CtCI</b>"
   ]
  },
  {
   "cell_type": "markdown",
   "id": "5b1007ed",
   "metadata": {
    "heading_collapsed": true,
    "hidden": true
   },
   "source": [
    "##### Describe how you could use a single array to implement three stacks. [CtCI:3.1]"
   ]
  },
  {
   "cell_type": "code",
   "execution_count": null,
   "id": "6613d6a3",
   "metadata": {
    "hidden": true
   },
   "outputs": [],
   "source": []
  },
  {
   "cell_type": "markdown",
   "id": "306cb768",
   "metadata": {
    "heading_collapsed": true,
    "hidden": true
   },
   "source": [
    "##### Implement a stack with min API. [CtCI:3.2]"
   ]
  },
  {
   "cell_type": "markdown",
   "id": "9753f9d1",
   "metadata": {
    "hidden": true
   },
   "source": [
    "How would you design a stack which, in addition to `push()` and `pop()`, also has a function `min()` which returns the minimum element? `push()`, `pop()` and `min()` should all operate in $O(1)$ time"
   ]
  },
  {
   "cell_type": "code",
   "execution_count": null,
   "id": "517d9aaa",
   "metadata": {
    "hidden": true
   },
   "outputs": [],
   "source": []
  },
  {
   "cell_type": "markdown",
   "id": "be70c004",
   "metadata": {
    "heading_collapsed": true,
    "hidden": true
   },
   "source": [
    "##### The literal stack of plates."
   ]
  },
  {
   "cell_type": "markdown",
   "id": "e8616bdd",
   "metadata": {
    "hidden": true
   },
   "source": [
    "Imagine a (literal) stack of plates. If the stack gets too high, it might topple. Therefore, in real life, we would likely start a new stack when the previous stack exceeds some threshold. Implement a data structureSetOf Stacks that mimics this. SetOf Stacks should be composed of several stacks and should create a new stack once the previous one exceeds capacity. `SetOfStacks.push()` and `SetOfStacks.pop()` should behave identically to a single stack (that is, `pop()` should return the same values as it would if there were just a single stack).\n",
    "\n",
    "FOLLOW UP: Implement a function `popAt(int index)` which performs a pop operation on a specific sub-stack. [CtCI:3.3]"
   ]
  },
  {
   "cell_type": "code",
   "execution_count": null,
   "id": "2b8e4ee7",
   "metadata": {
    "hidden": true
   },
   "outputs": [],
   "source": [
    "## ChatGPT Implementation, NOT throoghly tested !!\n",
    "class SetOfStacks:\n",
    "    def __init__(self, capacity):\n",
    "        self.capacity = capacity\n",
    "        self.stacks = [[]]\n",
    "\n",
    "    def push(self, value):\n",
    "        # Check if the last stack is full\n",
    "        if len(self.stacks[-1]) >= self.capacity:\n",
    "            # Start a new stack\n",
    "            self.stacks.append([])\n",
    "        # Push the value onto the last stack\n",
    "        self.stacks[-1].append(value)\n",
    "\n",
    "    def pop(self):\n",
    "        # If there are no stacks, raise an error\n",
    "        if not self.stacks or not self.stacks[-1]:\n",
    "            raise IndexError(\"pop from empty stack\")\n",
    "        # Pop the value from the last stack\n",
    "        value = self.stacks[-1].pop()\n",
    "        # If the last stack is empty after popping, remove it\n",
    "        if not self.stacks[-1]:\n",
    "            self.stacks.pop()\n",
    "        return value\n",
    "\n",
    "    def pop_at(self, index):\n",
    "        # Check if the index is valid\n",
    "        if index < 0 or index >= len(self.stacks):\n",
    "            raise IndexError(\"index out of range\")\n",
    "        # Pop the value from the specified stack\n",
    "        value = self.stacks[index].pop()\n",
    "        # If the stack is empty after popping, remove it\n",
    "        if not self.stacks[index]:\n",
    "            self.stacks.pop(index)\n",
    "        return value\n",
    "\n",
    "    def is_empty(self):\n",
    "        return not self.stacks or all(not stack for stack in self.stacks)"
   ]
  },
  {
   "cell_type": "code",
   "execution_count": null,
   "id": "2eff8db5",
   "metadata": {
    "hidden": true
   },
   "outputs": [],
   "source": [
    "# Example usage\n",
    "sos = SetOfStacks(capacity=3)\n",
    "\n",
    "# Pushing values\n",
    "sos.push(1)\n",
    "sos.push(2)\n",
    "sos.push(3)\n",
    "sos.push(4)\n",
    "sos.push(5)\n",
    "\n",
    "# Popping values\n",
    "print(sos.pop())  # 5\n",
    "print(sos.pop())  # 4\n",
    "print(sos.pop())  # 3\n",
    "\n",
    "# Pushing and popping from specific stack\n",
    "sos.push(6)\n",
    "sos.push(7)\n",
    "sos.push(8)\n",
    "sos.push(9)\n",
    "print(sos.pop_at(0))  # 2\n",
    "print(sos.pop_at(0))  # 1\n",
    "print(sos.pop_at(0))  # 9\n",
    "\n",
    "# Check if empty\n",
    "print(sos.is_empty())  # False"
   ]
  },
  {
   "cell_type": "markdown",
   "id": "edba72b6",
   "metadata": {
    "heading_collapsed": true,
    "hidden": true
   },
   "source": [
    "##### The Towers of Hanoi"
   ]
  },
  {
   "cell_type": "markdown",
   "id": "2644cbb4",
   "metadata": {
    "hidden": true
   },
   "source": [
    "In the classic problem of the Towers of Hanoi, you have 3 towers and Ndisks of different sizes which can slide onto any tower. The puzzle starts with disks sorted in ascending order of size from top to bottom (i.e., each disk sits on top of an even larger one). You have the following constraints:\n",
    "- Only one disk can be moved at a time.\n",
    "- A disk is slid off the top of one tower onto the next tower.\n",
    "- A disk can only be placed on top of a larger disk.\n",
    "\n",
    "Write a program to move the disksfrom the first tower to the last using stacks. [CtCI: 3.4]"
   ]
  },
  {
   "cell_type": "markdown",
   "id": "e4355638",
   "metadata": {
    "heading_collapsed": true,
    "hidden": true
   },
   "source": [
    "##### Implement a MyQueue class which implements a queue using two stacks. [CtCI: 3.5] ."
   ]
  },
  {
   "cell_type": "code",
   "execution_count": null,
   "id": "b4cc41ba",
   "metadata": {},
   "outputs": [],
   "source": []
  },
  {
   "cell_type": "markdown",
   "id": "cc73d4d1",
   "metadata": {
    "heading_collapsed": true,
    "hidden": true
   },
   "source": [
    "##### Sort a stack in ascending order"
   ]
  },
  {
   "cell_type": "markdown",
   "id": "d00b26e7",
   "metadata": {
    "hidden": true
   },
   "source": [
    "You may use at most one additional stack to hold items, but you may not copy the elements into any other data structure (such as an array). The stack supports the following operations: `push()`, `pop()`, `peek()`, and `isEmpty()`. [CtCI: 3.6]."
   ]
  },
  {
   "cell_type": "code",
   "execution_count": null,
   "id": "b2ab52cf",
   "metadata": {
    "hidden": true
   },
   "outputs": [],
   "source": [
    "def sort_stack(stack):\n",
    "    # Create an auxiliary stack\n",
    "    aux_stack = []\n",
    "\n",
    "    while stack:\n",
    "        # Pop the top element from the original stack\n",
    "        temp = stack.pop()\n",
    "\n",
    "        # Move elements from the auxiliary stack to the original stack\n",
    "        while aux_stack and aux_stack[-1] > temp:\n",
    "            stack.append(aux_stack.pop())\n",
    "\n",
    "        # Push the current element onto the auxiliary stack\n",
    "        aux_stack.append(temp)\n",
    "\n",
    "    # The sorted elements are now in the auxiliary stack\n",
    "    return aux_stack"
   ]
  },
  {
   "cell_type": "code",
   "execution_count": null,
   "id": "a8a85548",
   "metadata": {
    "hidden": true
   },
   "outputs": [],
   "source": [
    "# Example usage:\n",
    "original_stack = [4, 2, 8, 5, 1, 7]\n",
    "sorted_stack = sort_stack(original_stack.copy())\n",
    "\n",
    "print(\"Original Stack:\", original_stack)\n",
    "print(\"Sorted Stack:\", sorted_stack)"
   ]
  },
  {
   "cell_type": "markdown",
   "id": "51fe56c3",
   "metadata": {
    "hidden": true
   },
   "source": [
    "- In the worst case, for each element in the original stack, we may need to pop elements from the auxiliary stack until we find the correct position to insert the current element.\n",
    "\n",
    "- This results in nested loops, leading to a quadratic time complexity.\n",
    "\n",
    "- The space complexity is $O(n)$, where n is the number of elements in the original stack."
   ]
  },
  {
   "cell_type": "markdown",
   "id": "2195c596",
   "metadata": {
    "heading_collapsed": true,
    "hidden": true
   },
   "source": [
    "##### Animal Shelter"
   ]
  },
  {
   "cell_type": "markdown",
   "id": "dc08af27",
   "metadata": {
    "hidden": true
   },
   "source": [
    "An animal shelter holds only dogs and cats, and operates on a strictly \"first in, first out\" basis. People must adopt either the \"oldest\" (based on arrival time) of all animals at the shelter, or they can select whether theywould prefer a dog or a cat (and will receive the oldest animal of that type). They cannot select which specific animal they would like. Create the data structures to maintain this system and implement operations such as enqueue,  dequeueAny, dequeueDog and dequeueCat.You may use the built-in LinkedListdata structure.[CtCI:3.7]."
   ]
  }
 ],
 "metadata": {
  "kernelspec": {
   "display_name": "dsnb",
   "language": "python",
   "name": "python3"
  },
  "language_info": {
   "codemirror_mode": {
    "name": "ipython",
    "version": 3
   },
   "file_extension": ".py",
   "mimetype": "text/x-python",
   "name": "python",
   "nbconvert_exporter": "python",
   "pygments_lexer": "ipython3",
   "version": "3.9.6"
  },
  "toc": {
   "base_numbering": 1,
   "nav_menu": {},
   "number_sections": false,
   "sideBar": true,
   "skip_h1_title": true,
   "title_cell": "Table of Contents",
   "title_sidebar": "Contents",
   "toc_cell": true,
   "toc_position": {},
   "toc_section_display": true,
   "toc_window_display": false
  }
 },
 "nbformat": 4,
 "nbformat_minor": 5
}
