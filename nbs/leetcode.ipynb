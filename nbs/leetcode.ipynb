{
 "cells": [
  {
   "cell_type": "code",
   "execution_count": 7,
   "metadata": {},
   "outputs": [],
   "source": [
    "from collections import deque, Counter, namedtuple, defaultdict, OrderedDict\n",
    "from typing import List\n",
    "from random import choice"
   ]
  },
  {
   "cell_type": "markdown",
   "metadata": {},
   "source": [
    "#### Interview Preparations"
   ]
  },
  {
   "cell_type": "markdown",
   "metadata": {},
   "source": [
    "-   [neetcode.io/practice](https://neetcode.io/practice)\n",
    "-   [Neetcode Medium - 194 Questions](https://www.youtube.com/playlist?list=PLot-Xpze53lfOdF3KwpMSFEyfE77zIwiP)\n",
    "-   [Neetcode Easy - 64 Questions](https://www.youtube.com/playlist?list=PLot-Xpze53lfOdF3KwpMSFEyfE77zIwiP)\n",
    "-   [Neetcode Github CODE](https://github.com/neetcode-gh/leetcode/tree/main/python)\n",
    "-   [LeetCode 75](https://leetcode.com/studyplan/leetcode-75/)\n",
    "-   [LintCode]()\n",
    "-   [How to Use LeetCode Effectively (2024)](https://www.youtube.com/watch?v=S8HWd668Pk4)\n",
    "-   [Cracking the Coding Assessment for Software Engineers](https://www.youtube.com/watch?v=N2QsXu_aKG4&t=285s)\n",
    "-   [The Complete Guide to Software Engineering Interviews](https://www.youtube.com/watch?v=Kh0KVaCVXY8)\n",
    "-   [LeetCode was HARD until I Learned these 15 Patterns](https://www.youtube.com/watch?v=DjYZk8nrXVY)"
   ]
  },
  {
   "cell_type": "markdown",
   "metadata": {},
   "source": [
    "#### [14 Patterns to Ace Any Coding Interview Question](https://hackernoon.com/14-patterns-to-ace-any-coding-interview-question-c5bb3357f6ed)"
   ]
  },
  {
   "cell_type": "markdown",
   "metadata": {},
   "source": [
    "#### [LeetCode 75](https://leetcode.com/studyplan/leetcode-75/) | [Blind 75](https://neetcode.io/practice)"
   ]
  },
  {
   "cell_type": "markdown",
   "metadata": {},
   "source": [
    "## <a style=\"color:#FF4500\" href=\"https://neetcode.io/practice\">NeetCode 150</a>"
   ]
  },
  {
   "cell_type": "markdown",
   "metadata": {},
   "source": [
    "##### Metting Rooms  | [neetcode](https://www.youtube.com/watch?v=FdzJmTCVyJU&list=PLot-Xpze53lfOdF3KwpMSFEyfE77zIwiP&index=43)"
   ]
  },
  {
   "cell_type": "code",
   "execution_count": null,
   "metadata": {},
   "outputs": [],
   "source": [
    "def minMeetingRooms(self, intervals: List[List[int]]) -> int:\n",
    "\n",
    "    time = []\n",
    "    for start, end in intervals:\n",
    "        time.append((start, 1))\n",
    "        time.append((end, -1))\n",
    "\n",
    "    time.sort(key=lambda x: (x[0], x[1]))\n",
    "\n",
    "    count = 0\n",
    "    max_count = 0\n",
    "    for t in time:\n",
    "        count += t[1]\n",
    "        max_count = max(max_count, count)\n",
    "    return max_count"
   ]
  },
  {
   "cell_type": "code",
   "execution_count": null,
   "metadata": {},
   "outputs": [],
   "source": []
  },
  {
   "cell_type": "markdown",
   "metadata": {},
   "source": [
    "#### <b style=\"color:#C71585\">Array & Hashing</b>"
   ]
  },
  {
   "cell_type": "markdown",
   "metadata": {},
   "source": [
    "##### [String Encode and Decode](https://neetcode.io/problems/string-encode-and-decode)"
   ]
  },
  {
   "cell_type": "markdown",
   "metadata": {},
   "source": [
    "Design an algorithm to encode a list of strings to a single string. The encoded string is then decoded back to the original list of strings.\n",
    "\n",
    "Please implement encode and decode\n",
    "\n",
    "-   **Example 1**:\n",
    "\n",
    "    -   `Input`: [\"neet\",\"code\",\"love\",\"you\"]\n",
    "\n",
    "    -   `Output`:[\"neet\",\"code\",\"love\",\"you\"]\n",
    "-   **Example 2**:\n",
    "\n",
    "    -   `Input`: [\"we\",\"say\",\":\",\"yes\"]\n",
    "\n",
    "    -   `Output`: [\"we\",\"say\",\":\",\"yes\"]\n",
    "\n",
    "-   **Constraints**:\n",
    "\n",
    "    -   `0 <= strs.length < 100`\n",
    "    -   `0 <= strs[i].length < 200`\n",
    "    -   strs[i] contains only UTF-8 characters."
   ]
  },
  {
   "cell_type": "code",
   "execution_count": null,
   "metadata": {},
   "outputs": [],
   "source": [
    "def encode(strs):\n",
    "    \"\"\"Encodes a list of strings to a single string.\"\"\"\n",
    "    encoded_string = \"\"\n",
    "    for s in strs:\n",
    "        encoded_string += str(len(s)) + \"#\" + s\n",
    "    return encoded_string\n",
    "\n",
    "def decode(s):\n",
    "    \"\"\"Decodes a single string to a list of strings.\"\"\"\n",
    "    decoded_strings = []\n",
    "    i = 0\n",
    "    while i < len(s):\n",
    "        # Find the position of the delimiter\n",
    "        j = i\n",
    "        while s[j] != \"#\":\n",
    "            j += 1\n",
    "        # Length of the next string\n",
    "        length = int(s[i:j])\n",
    "        # Extract the string\n",
    "        decoded_strings.append(s[j + 1:j + 1 + length])\n",
    "        # Move to the start of the next encoded string\n",
    "        i = j + 1 + length\n",
    "    return decoded_strings\n"
   ]
  },
  {
   "cell_type": "code",
   "execution_count": null,
   "metadata": {},
   "outputs": [],
   "source": [
    "\n",
    "# Example usage:\n",
    "input1 = [\"neet\", \"code\", \"love\", \"you\"]\n",
    "encoded1 = encode(input1)\n",
    "print(f\"Encoded: {encoded1}\")\n",
    "decoded1 = decode(encoded1)\n",
    "print(f\"Decoded: {decoded1}\")\n",
    "\n",
    "input2 = [\"we\", \"say\", \":\", \"yes\"]\n",
    "encoded2 = encode(input2)\n",
    "print(f\"Encoded: {encoded2}\")\n",
    "decoded2 = decode(encoded2)\n",
    "print(f\"Decoded: {decoded2}\")\n"
   ]
  },
  {
   "cell_type": "markdown",
   "metadata": {},
   "source": [
    "##### [Product of array excluding self](https://neetcode.io/problems/products-of-array-discluding-self)"
   ]
  },
  {
   "cell_type": "markdown",
   "metadata": {},
   "source": [
    "Given an integer array nums, return an array output where output[i] is the product of all the elements of nums except nums[i].\n",
    "\n",
    "Each product is guaranteed to fit in a 32-bit integer.\n",
    "\n",
    "Follow-up: Could you solve it in $𝑂(𝑛)$ time without using the division operation?\n",
    "\n",
    "-   **Example 1**:\n",
    "\n",
    "    -   `Input`: nums = [1,2,4,6]\n",
    "\n",
    "    -   `Output`: [48,24,12,8]\n",
    "-   **Example 2**:\n",
    "\n",
    "    -   `Input`: nums = [-1,0,1,2,3]\n",
    "\n",
    "    -   `Output`: [0,-6,0,0,0]\n",
    "\n",
    "-   **Constraints**:\n",
    "\n",
    "    -   `2 <= nums.length <= 1000`\n",
    "    -   `-20 <= nums[i] <= 20`\n"
   ]
  },
  {
   "cell_type": "code",
   "execution_count": null,
   "metadata": {},
   "outputs": [],
   "source": [
    "def productExceptSelf(nums):\n",
    "    n = len(nums)\n",
    "    output = [1] * n\n",
    "\n",
    "    # First pass: calculate the left products\n",
    "    left_product = 1\n",
    "    for i in range(n):\n",
    "        output[i] = left_product\n",
    "        left_product *= nums[i]\n",
    "    \n",
    "    # Second pass: calculate the right products and multiply\n",
    "    right_product = 1\n",
    "    for i in range(n - 1, -1, -1):\n",
    "        output[i] *= right_product\n",
    "        right_product *= nums[i]\n",
    "    \n",
    "    return output"
   ]
  },
  {
   "cell_type": "code",
   "execution_count": null,
   "metadata": {},
   "outputs": [],
   "source": [
    "\n",
    "# Example usage:\n",
    "nums1 = [1, 2, 4, 6]\n",
    "print(productExceptSelf(nums1))  # Output: [48, 24, 12, 8]\n",
    "\n",
    "nums2 = [-1, 0, 1, 2, 3]\n",
    "print(productExceptSelf(nums2))  # Output: [0, -6, 0, 0, 0]\n"
   ]
  },
  {
   "cell_type": "markdown",
   "metadata": {},
   "source": [
    "## <a style=\"color:#FF4500\" href=\"https://neetcode.io/practice\">LeetCode</a>"
   ]
  },
  {
   "cell_type": "markdown",
   "metadata": {},
   "source": [
    "### Easy"
   ]
  },
  {
   "cell_type": "markdown",
   "metadata": {},
   "source": [
    "##### [1952. Three Divisors](https://leetcode.com/problems/three-divisors/description/)"
   ]
  },
  {
   "cell_type": "markdown",
   "metadata": {},
   "source": [
    "Given an integer `n`, return true if `n` has exactly three positive divisors. Otherwise, return false.\n",
    "\n",
    "An integer `m` is a divisor of `n` if there exists an integer `k` such that $n = k * m$.\n",
    "\n",
    "-   **Example 1**:\n",
    "\n",
    "    -   `Input`: n = 2\n",
    "    -   `Output`: false\n",
    "    -   `Explantion`: 2 has only two divisors: 1 and 2.\n",
    "\n",
    "-   **Example 2**:\n",
    "\n",
    "    -   `Input`: n = 4\n",
    "    -   `Output`: true\n",
    "    -   `Explantion`: 4 has three divisors: 1, 2, and 4.\n",
    " \n",
    "\n",
    "-   **Constraints**:\n",
    "\n",
    "    -   1 <= n <= 104"
   ]
  },
  {
   "cell_type": "markdown",
   "metadata": {},
   "source": [
    "-   For a number `n` to have exactly three divisors, those divisors must be {1, k, $k^2$} (where $k^2 = n$). This means:\n",
    "    -   `n` must be a perfect square, because only then can the middle divisor (`k`) exist as a distinct number.\n",
    "    -   `k` itself must be a prime number, because if `k` has any divisors other than 1 and itself, `n` would have more than three divisors."
   ]
  },
  {
   "cell_type": "markdown",
   "metadata": {},
   "source": [
    "-   If the square root of a given number is prime than the number contains three divisors.\n",
    "    -   `example1`: `4` -> its square root is 2 where 2 is a prime no. its divisors are 1,2,4.\n",
    "    -   `example2`: `9` -> its square root is 3 where 3 is a prime no . the 9 has exactly three divisors 1,3,9\n",
    "    -   `example3`: `12` -> it is not a perfect square so return False\n",
    "-   if the given number is not a perfect square root then return False."
   ]
  },
  {
   "cell_type": "code",
   "execution_count": null,
   "metadata": {},
   "outputs": [],
   "source": [
    "def is_prime(x):\n",
    "    if x <= 1: return False\n",
    "    if x <= 3: return True\n",
    "    if x % 2 == 0 or x % 3 == 0: return False\n",
    "\n",
    "    i = 5\n",
    "    while i * i <= x:\n",
    "        if x % i == 0 or x % (i + 2) == 0: return False\n",
    "        i += 6\n",
    "    return True\n",
    "\n",
    "def has_three_divisors(n):\n",
    "    if n < 4: return False  # 1, 2, and 3 cannot have exactly three divisors\n",
    "    root = int(n**0.5)\n",
    "    if root * root != n: return False\n",
    "    return is_prime(root)"
   ]
  },
  {
   "cell_type": "code",
   "execution_count": null,
   "metadata": {},
   "outputs": [],
   "source": [
    "\n",
    "# Example usage:\n",
    "print(has_three_divisors(2))  # Output: False\n",
    "print(has_three_divisors(4))  # Output: True\n"
   ]
  },
  {
   "cell_type": "markdown",
   "metadata": {},
   "source": [
    "#### <b style=\"color:#C71585\">String</b>"
   ]
  },
  {
   "cell_type": "markdown",
   "metadata": {},
   "source": [
    "##### [14. Longest Common Prefix](https://leetcode.com/problems/longest-common-prefix/description/)"
   ]
  },
  {
   "cell_type": "markdown",
   "metadata": {},
   "source": [
    "Write a function to find the longest common prefix string amongst an array of strings. \n",
    "\n",
    "If there is no common prefix, return an empty string \"\".\n",
    "\n",
    " \n",
    "\n",
    "-   **Example 1**:\n",
    "\n",
    "    -   `Input`: strs = [\"flower\",\"flow\",\"flight\"]\n",
    "    -   `Output`: \"fl\"\n",
    "\n",
    "-   **Example 2**:\n",
    "\n",
    "    -   `Input`: strs = [\"dog\",\"racecar\",\"car\"]\n",
    "    -   `Output`: \"\"\n",
    "    -   `Explanation`: There is no common prefix among the input strings."
   ]
  },
  {
   "cell_type": "code",
   "execution_count": null,
   "metadata": {},
   "outputs": [],
   "source": [
    "def longestCommonPrefix(strs):\n",
    "    if not strs: return \"\"\n",
    "    \n",
    "    # Sort the array\n",
    "    strs.sort()\n",
    "    \n",
    "    # Compare the first and the last string in the sorted array\n",
    "    first = strs[0]\n",
    "    last = strs[-1]\n",
    "    \n",
    "    i = 0\n",
    "    while i < len(first) and i < len(last) and first[i] == last[i]:\n",
    "        i += 1\n",
    "    \n",
    "    # The common prefix of the entire array is the common prefix of the first and last string\n",
    "    return first[:i]\n"
   ]
  },
  {
   "cell_type": "code",
   "execution_count": null,
   "metadata": {},
   "outputs": [],
   "source": [
    "# Example usage:\n",
    "print(longestCommonPrefix([\"flower\",\"flow\",\"flight\"]))  # Output: \"fl\"\n",
    "print(longestCommonPrefix([\"dog\",\"racecar\",\"car\"]))    # Output: \"\""
   ]
  },
  {
   "cell_type": "markdown",
   "metadata": {},
   "source": [
    "##### [67. Add Binary](https://leetcode.com/problems/add-binary/description/)"
   ]
  },
  {
   "cell_type": "markdown",
   "metadata": {},
   "source": [
    "Given two binary strings `a` and `b`, return their sum as a binary string.\n",
    "\n",
    "-   **Example 1**:\n",
    "\n",
    "    -   `Input`: a = \"11\", b = \"1\"\n",
    "    -   `Output`: \"100\"\n",
    "\n",
    "-   **Example 2**:\n",
    "\n",
    "    -   `Input`: a = \"1010\", b = \"1011\"\n",
    "    -   `Output`: \"10101\""
   ]
  },
  {
   "cell_type": "code",
   "execution_count": null,
   "metadata": {},
   "outputs": [],
   "source": [
    "def addBinary(a, b):\n",
    "    \"\"\"\n",
    "    Adds two binary strings and returns the result as a binary string.\n",
    "\n",
    "    Args:\n",
    "        a: The first binary string.\n",
    "        b: The second binary string.\n",
    "\n",
    "    Returns:\n",
    "        The sum of the two binary strings as a binary string.\n",
    "    \"\"\"\n",
    "\n",
    "    carry = 0\n",
    "    result = \"\"\n",
    "    i, j = len(a) - 1, len(b) - 1\n",
    "\n",
    "    while i >= 0 or j >= 0 or carry:\n",
    "        sum = carry\n",
    "        if i >= 0:\n",
    "            sum += int(a[i])\n",
    "            i -= 1\n",
    "        if j >= 0:\n",
    "            sum += int(b[j])\n",
    "            j -= 1\n",
    "        carry = sum // 2\n",
    "        result = str(sum % 2) + result\n",
    "\n",
    "    return result\n"
   ]
  },
  {
   "cell_type": "markdown",
   "metadata": {},
   "source": [
    "##### [290. Word Pattern](https://leetcode.com/problems/word-pattern/description/)"
   ]
  },
  {
   "cell_type": "markdown",
   "metadata": {},
   "source": [
    "Given a pattern and a string `s`, find if `s` follows the same pattern.\n",
    "\n",
    "Here follow means a full match, such that there is a bijection between a letter in pattern and a non-empty word in s.\n",
    "\n",
    "-   **Example 1**:\n",
    "\n",
    "    -   `Input`: pattern = \"abba\", s = \"dog cat cat dog\"\n",
    "    -   `Output`: true\n",
    "\n",
    "-   **Example 2**:\n",
    "\n",
    "    -   `Input`: pattern = \"abba\", s = \"dog cat cat fish\"\n",
    "    -   `Output`: false\n",
    "\n",
    "-   **Example 3**:\n",
    "\n",
    "    -   `Input`: pattern = \"aaaa\", s = \"dog cat cat dog\"\n",
    "    -   `Output`: false"
   ]
  },
  {
   "cell_type": "code",
   "execution_count": null,
   "metadata": {},
   "outputs": [],
   "source": [
    "def word_pattern(pattern, s):\n",
    "    \"\"\"\n",
    "    Determines if a string follows a given pattern.\n",
    "\n",
    "    Args:\n",
    "        pattern: The pattern string.\n",
    "        s: The input string.\n",
    "\n",
    "    Returns:\n",
    "        True if the string follows the pattern, False otherwise.\n",
    "    \"\"\"\n",
    "\n",
    "    words = s.split()\n",
    "\n",
    "    if len(pattern) != len(words): return False\n",
    "\n",
    "    pattern_to_word = {}\n",
    "    word_to_pattern = {}\n",
    "\n",
    "    for p, w in zip(pattern, words):\n",
    "        if p not in pattern_to_word: pattern_to_word[p] = w\n",
    "        elif pattern_to_word[p] != w: return False\n",
    "\n",
    "        if w not in word_to_pattern: word_to_pattern[w] = p\n",
    "        elif word_to_pattern[w] != p: return False\n",
    "\n",
    "    return True\n"
   ]
  },
  {
   "cell_type": "code",
   "execution_count": null,
   "metadata": {},
   "outputs": [],
   "source": [
    "\n",
    "# Example usage:\n",
    "pattern = \"abba\"\n",
    "s = \"dog cat cat dog\"\n",
    "print(word_pattern(pattern, s))  # Output: True\n",
    "\n",
    "pattern = \"abba\"\n",
    "s = \"dog cat cat fish\"\n",
    "print(word_pattern(pattern, s))  # Output: False\n",
    "\n",
    "pattern = \"aaaa\"\n",
    "s = \"dog cat cat dog\"\n",
    "print(word_pattern(pattern, s))  # Output: False\n",
    "\n",
    "pattern = \"aaaa\"\n",
    "s = \"dog dog dog dog\"\n",
    "print(word_pattern(pattern, s))  # Output: True\n"
   ]
  },
  {
   "cell_type": "markdown",
   "metadata": {},
   "source": [
    "##### [389. Find the Difference](https://leetcode.com/problems/find-the-difference/description/)"
   ]
  },
  {
   "cell_type": "markdown",
   "metadata": {},
   "source": [
    "You are given two strings `s` and `t`.\n",
    "\n",
    "String `t` is generated by random shuffling string `s` and then add one more letter at a random position.\n",
    "\n",
    "Return the letter that was added to `t`.\n",
    "\n",
    "-   **Example 1:**\n",
    "\n",
    "    -   `Input`: s = \"abcd\", t = \"abcde\"\n",
    "    -   `Output`: \"e\"\n",
    "    -   `Explanation`: 'e' is the letter that was added.\n",
    "\n",
    "-   **Example 2:**\n",
    "\n",
    "    -   `Input`: s = \"\", t = \"y\"\n",
    "    -   `Output`: \"y\""
   ]
  },
  {
   "cell_type": "markdown",
   "metadata": {},
   "source": [
    "##### [392. Is Subsequence](https://leetcode.com/problems/is-subsequence/description/)"
   ]
  },
  {
   "cell_type": "markdown",
   "metadata": {},
   "source": [
    "Given two strings `s` and `t`, return true if `s` is a subsequence of `t`, or false otherwise.\n",
    "\n",
    "A subsequence of a string is a new string that is formed from the original string by deleting some (can be none) of the characters without disturbing the relative positions of the remaining characters. (i.e., \"ace\" is a subsequence of \"abcde\" while \"aec\" is not).\n",
    "\n",
    "-   **Example 1**:\n",
    "\n",
    "    -   `Input`: s = \"abc\", t = \"ahbgdc\"\n",
    "    -   `Output`: true\n",
    "\n",
    "-   **Example 2**:\n",
    "\n",
    "    -   `Input`: s = \"axc\", t = \"ahbgdc\"\n",
    "    -   `Output`: false"
   ]
  },
  {
   "cell_type": "code",
   "execution_count": null,
   "metadata": {},
   "outputs": [],
   "source": [
    "# INCORRECT\n",
    "def is_subsequence(s: str, t: str) -> bool:\n",
    "    if (not s) or (not t): return False\n",
    "\n",
    "    if len(s) == len(t) == 1  and s[0] != t[0]: return False\n",
    "\n",
    "    t_chr_idx = {v:i for i,v in enumerate(t)}\n",
    "\n",
    "    for i, char in enumerate(s[1:], 1):\n",
    "\n",
    "        if char not  in t_chr_idx: return False\n",
    "        if t_chr_idx[char] < t_chr_idx[s[i-1]]: return False\n",
    "\n",
    "    return True\n",
    "\n",
    "print(is_subsequence(\"\", \"ahbgdc\"))"
   ]
  },
  {
   "cell_type": "code",
   "execution_count": null,
   "metadata": {},
   "outputs": [],
   "source": [
    "def is_subsequence(s: str, t: str) -> bool:\n",
    "\n",
    "    i = 0\n",
    "    for char in t:\n",
    "        if i < len(s) and char == s[i]: \n",
    "            i += 1\n",
    "\n",
    "    return i == len(s)"
   ]
  },
  {
   "cell_type": "code",
   "execution_count": null,
   "metadata": {},
   "outputs": [],
   "source": [
    "def _test_is_subsequence():\n",
    "    inputs_expecteds = [([\"\", \"ahbgdc\"], True), ([\"aaaaaa\", \"bbaaaa\"], False), ([\"abc\", \"ahbgdc\"], True), ([\"axc\", \"ahbgdc\"], False)]\n",
    "\n",
    "    for [s, t], expected in inputs_expecteds:\n",
    "        returned = is_subsequence(s, t)\n",
    "        try:\n",
    "            assert returned == expected\n",
    "        except:\n",
    "            print(f\"{s}\\n\\t{t}\\n\\t{expected}\\n\\t{returned}\")\n",
    "#==================================================================\n",
    "_test_is_subsequence()"
   ]
  },
  {
   "cell_type": "markdown",
   "metadata": {},
   "source": [
    "##### [409. Len Longest Possible Palindrome](https://leetcode.com/problems/longest-palindrome/description/)"
   ]
  },
  {
   "cell_type": "markdown",
   "metadata": {},
   "source": [
    "Given a string `s` which consists of lowercase or uppercase letters, return the length of the longest palindrome that can be built with those letters.\n",
    "\n",
    "Letters are case sensitive, for example, \"Aa\" is not considered a palindrome.\n",
    "\n",
    "-   **Example 1**:\n",
    "\n",
    "    -   `Input`: s = \"abccccdd\"\n",
    "    -   `Output`: 7\n",
    "    -   `Explanation`: One longest palindrome that can be built is \"dccaccd\", whose length is 7.\n",
    "\n",
    "-   **Example 2**:\n",
    "\n",
    "    -   `Input`: s = \"a\"\n",
    "    -   `Output`: 1\n",
    "    -   `Explanation`: The longest palindrome that can be built is \"a\", whose length is 1.\n"
   ]
  },
  {
   "cell_type": "code",
   "execution_count": null,
   "metadata": {},
   "outputs": [],
   "source": [
    "def longest_palindrome(s):\n",
    "    \"\"\"\n",
    "    Finds the length of the longest palindrome that can be built from the given string.\n",
    "\n",
    "    Args:\n",
    "        s: The input string.\n",
    "\n",
    "    Returns:\n",
    "        The length of the longest palindrome.\n",
    "    \"\"\"\n",
    "\n",
    "    char_counts = Counter(s)\n",
    "    length = 0\n",
    "    odd_char_found = False\n",
    "\n",
    "    for count in char_counts.values():\n",
    "        if count % 2 == 0: length += count\n",
    "        else:\n",
    "            length += count - 1\n",
    "            odd_char_found = True\n",
    "\n",
    "    if odd_char_found:\n",
    "        length += 1\n",
    "\n",
    "    return length\n"
   ]
  },
  {
   "cell_type": "code",
   "execution_count": null,
   "metadata": {},
   "outputs": [],
   "source": [
    "def longest_palindrome(s):\n",
    "    char_counts = Counter(s)\n",
    "    even_cnt = sum([val for val in char_counts.values() if val%2 == 0])\n",
    "    odd_cnt = sum([val-1 for val in char_counts.values() if val%2 != 0])\n",
    "    have_odd = sum([val%2 != 0 for val in char_counts.values()])\n",
    "\n",
    "    return even_cnt + odd_cnt + (1 if have_odd >= 1 else 0)"
   ]
  },
  {
   "cell_type": "code",
   "execution_count": null,
   "metadata": {},
   "outputs": [],
   "source": [
    "def len_longest_palindrom(s: str):\n",
    "\n",
    "    char_count = {}\n",
    "    for char in s:\n",
    "        char_count[char] = char_count[char] + 1 if char in char_count else 1\n",
    "\n",
    "    is_odd = False\n",
    "    length = 0\n",
    "    for char, count in char_count.items():\n",
    "        if count % 2 == 0: length += count\n",
    "        else:\n",
    "            is_odd = True\n",
    "            length += count - 1\n",
    "    if is_odd: length += 1\n",
    "    return length"
   ]
  },
  {
   "cell_type": "code",
   "execution_count": null,
   "metadata": {},
   "outputs": [],
   "source": [
    "def len_longest_palindrom(s: str):\n",
    "    char_counts = Counter(s)\n",
    "    total_even_chars = sum(val for val in char_counts.values() if val%2 == 0)\n",
    "    total_odd_cahrs = sum(val-1 for val in char_counts.values()  if val%2 == 1)\n",
    "    a_odd_char = sum(1 for val in char_counts.values() if val%2 == 1)\n",
    "\n",
    "    return total_even_chars + total_odd_cahrs + (1 if a_odd_char else 0)"
   ]
  },
  {
   "cell_type": "code",
   "execution_count": null,
   "metadata": {},
   "outputs": [],
   "source": [
    "def test_longest_palindrome():\n",
    "    \"\"\"Tests the longest_palindrome function.\"\"\"\n",
    "\n",
    "    test_cases = [\n",
    "        (\"abccccdd\", 7),\n",
    "        (\"a\", 1),\n",
    "        (\"bb\", 2),\n",
    "        (\"racecar\", 7),\n",
    "        (\"cbbd\", 3),\n",
    "    ]\n",
    "\n",
    "    for s, expected in test_cases:\n",
    "        result = longest_palindrome(s)\n",
    "        assert result == expected, f\"Test failed for input '{s}': expected {expected}, got {result}\"\n",
    "\n",
    "    print(\"All tests passed!\")\n",
    "\n",
    "test_longest_palindrome()\n"
   ]
  },
  {
   "cell_type": "markdown",
   "metadata": {},
   "source": [
    "##### [459. Repeated Substring Pattern](https://leetcode.com/problems/repeated-substring-pattern/description/)"
   ]
  },
  {
   "cell_type": "markdown",
   "metadata": {},
   "source": [
    "Given a string `s`, check if it can be constructed by taking a substring of it and appending multiple copies of the substring together.\n",
    "\n",
    "-   **Example 1**:\n",
    "\n",
    "    -   `Input`: s = \"abab\"\n",
    "    -   `Output`: true \n",
    "    -   `Explanation`: It is the substring \"ab\" twice.\n",
    "\n",
    "-   **Example 2**:\n",
    "\n",
    "    -   `Input`: s = \"aba\"\n",
    "    -   `Output`: false\n",
    "\n",
    "-   **Example 3**:\n",
    "\n",
    "    -   `Input`: s = \"abcabcabcabc\"\n",
    "    -   `Output`: true\n",
    "    -   `Explanation`: It is the substring \"abc\" four times or the substring \"abcabc\" twice.\n"
   ]
  },
  {
   "cell_type": "code",
   "execution_count": null,
   "metadata": {},
   "outputs": [],
   "source": [
    "def repeatedSubstringPattern(s: str) -> bool:\n",
    "\n",
    "    # Concatenate the string with itself and remove the first and last character\n",
    "    t = (s + s)[1:-1]\n",
    "    print(s, t, sep=\"\\n\")\n",
    "\n",
    "    # Check if the original string is in the modified concatenated string\n",
    "    return s in t"
   ]
  },
  {
   "cell_type": "markdown",
   "metadata": {},
   "source": [
    "The reasoning behind this approach is based on the properties of repeating substrings. If `s` can be constructed by repeating a substring, then after doubling `s` and modifying it, the original string `s` should appear somewhere in the middle of the new string `t`.\n",
    "\n",
    "When `s` is repeated to form a new string, its possible repeating substring must fit within the new string after removing the first and last character. If `s` can indeed be formed by repeating a smaller substring, then `s` should show up as a substring in this newly formed string `t`."
   ]
  },
  {
   "cell_type": "code",
   "execution_count": null,
   "metadata": {},
   "outputs": [],
   "source": [
    "# Example usage:\n",
    "# print(repeatedSubstringPattern(\"shah\"))          # Output: False\n",
    "# print(repeatedSubstringPattern(\"abab\"))          # Output: True\n",
    "print(repeatedSubstringPattern(\"aba\"))            # Output: False\n",
    "print(repeatedSubstringPattern(\"abcabcabcabc\"))   # Output: True"
   ]
  },
  {
   "cell_type": "markdown",
   "metadata": {},
   "source": [
    "##### [482. License Key Formatting](https://leetcode.com/problems/license-key-formatting/description/)"
   ]
  },
  {
   "cell_type": "markdown",
   "metadata": {},
   "source": [
    "You are given a license key represented as a string `s` that consists of only alphanumeric characters and dashes. The string is separated into `n + 1` groups by `n` dashes. You are also given an integer `k`.\n",
    "\n",
    "We want to reformat the string `s` as follows: \n",
    "\n",
    "1. Each group contains exactly `k` characters, except for the first group, which could be shorter than `k` but still must contain at least one character. \n",
    "2. There must be a dash inserted between two groups,\n",
    "3. Lowercase letters converted to uppercase.\n",
    "\n",
    "Return the reformatted license key.\n",
    "\n",
    "-   **Examples**:\n",
    "\n",
    "    -   `Input`: s = \"5F3Z-2e-9-w\", k = 4\n",
    "    -   `Output`: \"5F3Z-2E9W\"\n",
    "\n",
    "    -   `Input`: s = \"2-5g-3-J\", k = 2\n",
    "    -   `Output`: \"2-5G-3J\""
   ]
  },
  {
   "cell_type": "code",
   "execution_count": null,
   "metadata": {},
   "outputs": [],
   "source": [
    "def reformat_license_key(s: str, k: int) -> str:\n",
    "    # Step 1: Remove all dashes\n",
    "    s = s.replace('-', '')\n",
    "    \n",
    "    # Step 2: Convert all characters to uppercase\n",
    "    s = s.upper()\n",
    "    \n",
    "    # Step 3: Determine the length of the first group\n",
    "    n = len(s)\n",
    "    first_group_length = n % k if n % k != 0 else k\n",
    "    \n",
    "    # Step 4: Initialize result with the first group\n",
    "    result = [s[:first_group_length]]\n",
    "    \n",
    "    # Step 5: Process the rest of the string\n",
    "    for i in range(first_group_length, n, k):\n",
    "        result.append(s[i: i+k])\n",
    "    \n",
    "    # Step 6: Join all groups with dashes\n",
    "    return '-'.join(result)"
   ]
  },
  {
   "cell_type": "code",
   "execution_count": null,
   "metadata": {},
   "outputs": [],
   "source": [
    "# Example usage:\n",
    "print(reformat_license_key(\"5F3Z-2e-9-w\", 4))  # Output: \"5F3Z-2E9W\"\n",
    "print(reformat_license_key(\"2-5g-3-J\", 2))     # Output: \"2-5G-3J\""
   ]
  },
  {
   "cell_type": "code",
   "execution_count": null,
   "metadata": {},
   "outputs": [],
   "source": []
  },
  {
   "cell_type": "markdown",
   "metadata": {},
   "source": [
    "##### [2937. Make Three Strings Equal](https://leetcode.com/problems/make-three-strings-equal/description/)"
   ]
  },
  {
   "cell_type": "code",
   "execution_count": null,
   "metadata": {},
   "outputs": [],
   "source": [
    "## NOT CORRECTLY WORKING!!\n",
    "def min_operations(s1, s2, s3):\n",
    "    \"\"\"\n",
    "    Finds the minimum number of operations to make three strings equal by deleting\n",
    "    rightmost characters.\n",
    "\n",
    "    Args:\n",
    "      s1: The first string.\n",
    "      s2: The second string.\n",
    "      s3: The third string.\n",
    "\n",
    "    Returns:\n",
    "      The minimum number of operations required, or -1 if impossible.\n",
    "    \"\"\"\n",
    "\n",
    "    def is_equal(s1, s2, s3):\n",
    "        return s1 == s2 and s2 == s3\n",
    "\n",
    "    def backtrack(s1, s2, s3, count):\n",
    "        if is_equal(s1, s2, s3): return count\n",
    "\n",
    "        if len(s1) == 1 and len(s2) == 1 and len(s3) == 1 and not is_equal(s1, s2, s3): return -1\n",
    "\n",
    "        min_ops = float('inf')\n",
    "        if len(s1) > 1: min_ops = min(min_ops, backtrack(s1[:-1], s2, s3, count + 1))\n",
    "        if len(s2) > 1: min_ops = min(min_ops, backtrack(s1, s2[:-1], s3, count + 1))\n",
    "        if len(s3) > 1: min_ops = min(min_ops, backtrack(s1, s2, s3[:-1], count + 1))\n",
    "\n",
    "        return min_ops\n",
    "\n",
    "    return backtrack(s1, s2, s3, 0)\n",
    "\n"
   ]
  },
  {
   "cell_type": "code",
   "execution_count": null,
   "metadata": {},
   "outputs": [],
   "source": [
    "def min_operations_iterative(s1, s2, s3):\n",
    "    \"\"\"\n",
    "    Finds the minimum number of operations to make three strings equal by deleting\n",
    "    rightmost characters iteratively.\n",
    "\n",
    "    Args:\n",
    "      s1: The first string.\n",
    "      s2: The second string.\n",
    "      s3: The third string.\n",
    "\n",
    "    Returns:\n",
    "      The minimum number of operations required, or -1 if impossible.\n",
    "    \"\"\"\n",
    "\n",
    "    queue = deque([(s1, s2, s3, 0)])\n",
    "    visited = set()\n",
    "\n",
    "    while queue:\n",
    "        s1, s2, s3, count = queue.popleft()\n",
    "\n",
    "        if s1 == s2 == s3: return count\n",
    "\n",
    "        if (s1, s2, s3) in visited: continue\n",
    "\n",
    "        visited.add((s1, s2, s3))\n",
    "\n",
    "        if len(s1) > 1: queue.append((s1[:-1], s2, s3, count + 1))\n",
    "        if len(s2) > 1: queue.append((s1, s2[:-1], s3, count + 1))\n",
    "        if len(s3) > 1: queue.append((s1, s2, s3[:-1], count + 1))\n",
    "\n",
    "    return -1\n"
   ]
  },
  {
   "cell_type": "code",
   "execution_count": null,
   "metadata": {},
   "outputs": [],
   "source": [
    "\n",
    "# Example usage:\n",
    "s1 = \"abc\"\n",
    "s2 = \"abb\"\n",
    "s3 = \"ab\"\n",
    "print(min_operations(s1, s2, s3))  # Output: 2\n",
    "\n",
    "s1 = \"dac\"\n",
    "s2 = \"bac\"\n",
    "s3 = \"cac\"\n",
    "print(min_operations(s1, s2, s3))  # Output: -1\n",
    "\n",
    "s1 = \"unrihpggbowfxhmphxmsgfgtcrdjaehzqxolnaivimazvqrdijmvluylxuxbxdpawjqqzimpcirtttkasi\"\n",
    "s2 = \"unrihpggbowfxhmphxmsgfgtcrdjaehzqxolnaipycsbjohlqvirqvusnqidelpyjqkkmrjykr\"\n",
    "s3 = \"unrihpggbowfxhmphxmsgfgtcrdjaehzqxolnainvfvqjpodzlhmlrrlfftdoqu\"\n",
    "print(min_operations(s1, s2, s3))  # Output: -1\n"
   ]
  },
  {
   "cell_type": "markdown",
   "metadata": {},
   "source": [
    "##### [1880. Check if Word Equals Summation of Two Words](https://leetcode.com/problems/check-if-word-equals-summation-of-two-words/description/)"
   ]
  },
  {
   "cell_type": "markdown",
   "metadata": {},
   "source": [
    "The letter value of a letter is its position in the alphabet starting from 0 (i.e. 'a' -> 0, 'b' -> 1, 'c' -> 2, etc.).\n",
    "\n",
    "The numerical value of some string of lowercase English letters `s` is the concatenation of the letter values of each letter in `s`, which is then converted into an integer.\n",
    "\n",
    "For example, if s = \"acb\", we concatenate each letter's letter value, resulting in \"021\". After converting it, we get 21.\n",
    "You are given three strings `first_word`, `second_word`, and `target_word`, each consisting of lowercase English letters 'a' through 'j' inclusive.\n",
    "\n",
    "Return true if the summation of the numerical values of firstWord and secondWord equals the numerical value of targetWord, or false otherwise."
   ]
  },
  {
   "cell_type": "code",
   "execution_count": null,
   "metadata": {},
   "outputs": [],
   "source": [
    "from functools import reduce\n",
    "\n",
    "def is_sumEqual(first_word: str, second_word: str, target_word: str) -> bool:\n",
    "\n",
    "    first_int_str = reduce(lambda x, y: x + str(ord(y) - ord('a')), first_word, \"\")\n",
    "    second_int_str = reduce(lambda x, y: x + str(ord(y) - ord('a')), second_word, \"\")\n",
    "    target_int_str = reduce(lambda x, y: x + str(ord(y) - ord('a')), target_word, \"\")\n",
    "\n",
    "    return int(first_int_str) + int(second_int_str) == int(target_int_str)"
   ]
  },
  {
   "cell_type": "code",
   "execution_count": null,
   "metadata": {},
   "outputs": [],
   "source": [
    "\n",
    "# Example usage:\n",
    "print(is_sumEqual(\"acb\", \"cba\", \"cdb\"))  # Output: True\n",
    "print(is_sumEqual(\"aaa\", \"a\", \"aab\"))    # Output: False\n",
    "print(is_sumEqual(\"aaa\", \"a\", \"aaaa\"))   # Output: True\n"
   ]
  },
  {
   "cell_type": "markdown",
   "metadata": {},
   "source": [
    "#### <b style=\"color:#C71585\">Array</b>"
   ]
  },
  {
   "cell_type": "markdown",
   "metadata": {},
   "source": [
    "##### [136. Single Number](https://leetcode.com/problems/single-number/description/)"
   ]
  },
  {
   "cell_type": "code",
   "execution_count": null,
   "metadata": {},
   "outputs": [],
   "source": [
    "def singleNumber(nums):\n",
    "    result = 0\n",
    "    for num in nums:\n",
    "        result ^= num\n",
    "    return result"
   ]
  },
  {
   "cell_type": "code",
   "execution_count": null,
   "metadata": {},
   "outputs": [],
   "source": [
    "\n",
    "# Example usage:\n",
    "print(singleNumber([2, 2, 1]))      # Output: 1\n",
    "print(singleNumber([4, 1, 2, 1, 2])) # Output: 4\n",
    "print(singleNumber([1]))             # Output: 1\n"
   ]
  },
  {
   "cell_type": "markdown",
   "metadata": {},
   "source": [
    "##### [219. Contains Duplicate II](https://leetcode.com/problems/contains-duplicate-ii/description/)"
   ]
  },
  {
   "cell_type": "markdown",
   "metadata": {},
   "source": [
    "Given an integer array `nums` and an integer `k`, return true if there are two distinct indices `i` and `j` in the array such that `nums[i] == nums[j]` and `abs(i - j) <= k`.\n",
    "\n",
    " \n",
    "-   **Example 1**:\n",
    "\n",
    "    -   `Input`: nums = [1,2,3,1], k = 3\n",
    "    -   `Output`: true\n",
    "\n",
    "-   **Example 2**:\n",
    "\n",
    "    -   `Input`: nums = [1,0,1,1], k = 1\n",
    "    -   `Output`: true\n",
    "\n",
    "-   **Example 3**:\n",
    "\n",
    "    -   `Input`: nums = [1,2,3,1,2,3], k = 2\n",
    "    -   `Output`: false\n"
   ]
  },
  {
   "cell_type": "code",
   "execution_count": null,
   "metadata": {},
   "outputs": [],
   "source": [
    "def containsNearbyDuplicate(nums, k):\n",
    "    index_map = {}\n",
    "\n",
    "    for i, num in enumerate(nums):\n",
    "        if num in index_map and i - index_map[num] <= k: return True\n",
    "        index_map[num] = i\n",
    "\n",
    "    return False\n",
    "\n",
    "# Example usage:\n",
    "print(containsNearbyDuplicate([1, 2, 3, 1], 3))  # Output: True\n",
    "print(containsNearbyDuplicate([1, 0, 1, 1], 1))  # Output: True\n",
    "print(containsNearbyDuplicate([1, 2, 3, 1, 2, 3], 2))  # Output: False\n"
   ]
  },
  {
   "cell_type": "markdown",
   "metadata": {},
   "source": [
    "##### [228. Summary Ranges](https://leetcode.com/problems/summary-ranges/description/) <b style=\"color:green\">***</b>"
   ]
  },
  {
   "cell_type": "markdown",
   "metadata": {},
   "source": [
    "You are given a sorted unique integer array `nums`. \n",
    "\n",
    "A range `[a,b]` is the set of all integers from a to b (inclusive).\n",
    "\n",
    "Return the smallest sorted list of ranges that cover all the numbers in the array exactly. That is, each element of nums is covered by exactly one of the ranges, and there is no integer x such that x is in one of the ranges but not in nums.\n",
    "\n",
    "-   Each range `[a,b]` in the list should be output as:\n",
    "\n",
    "    -   \"a->b\" if a != b\n",
    "    -   \"a\" if a == b\n",
    " \n",
    "\n",
    "-   **Example 1**:\n",
    "\n",
    "    -   `Input`: nums = [0,1,2,4,5,7]\n",
    "    -   `Output`: [\"0->2\",\"4->5\",\"7\"]\n",
    "    -   `Explanation`: The ranges are:\n",
    "        [0,2] --> \"0->2\"\n",
    "        [4,5] --> \"4->5\"\n",
    "        [7,7] --> \"7\"\n",
    "\n",
    "-   **Example 2**:\n",
    "\n",
    "    -   `Input`: nums = [0,2,3,4,6,8,9]\n",
    "    -   `Output`: [\"0\",\"2->4\",\"6\",\"8->9\"]\n",
    "    -   `Explanation`: The ranges are:\n",
    "        [0,0] --> \"0\"\n",
    "        [2,4] --> \"2->4\"\n",
    "        [6,6] --> \"6\"\n",
    "        [8,9] --> \"8->9\"\n"
   ]
  },
  {
   "cell_type": "code",
   "execution_count": null,
   "metadata": {},
   "outputs": [],
   "source": [
    "def summaryRanges(nums):\n",
    "    if not nums:\n",
    "        return []\n",
    "    \n",
    "    ranges = []\n",
    "    start = end = nums[0]\n",
    "    \n",
    "    for i in range(1, len(nums)):\n",
    "        if nums[i] == end + 1: end = nums[i]\n",
    "        else:\n",
    "            if start == end: ranges.append(f\"{start}\")\n",
    "            else           : ranges.append(f\"{start}->{end}\")\n",
    "\n",
    "            start = end = nums[i]\n",
    "    \n",
    "    # Add the last range\n",
    "    if start == end: ranges.append(f\"{start}\")\n",
    "    else           : ranges.append(f\"{start}->{end}\")\n",
    "    \n",
    "    return ranges\n"
   ]
  },
  {
   "cell_type": "code",
   "execution_count": null,
   "metadata": {},
   "outputs": [],
   "source": [
    "\n",
    "# Example usage:\n",
    "print(summaryRanges([0, 1, 2, 4, 5, 7]))  # Output: [\"0->2\", \"4->5\", \"7\"]\n",
    "print(summaryRanges([0, 2, 3, 4, 6, 8, 9]))  # Output: [\"0\", \"2->4\", \"6\", \"8->9\"]\n"
   ]
  },
  {
   "cell_type": "markdown",
   "metadata": {},
   "source": [
    "##### [977. Squares of a Sorted Array](https://leetcode.com/problems/squares-of-a-sorted-array/description/) | [neetcode](https://www.youtube.com/watch?v=FPCZsG_AkUg)"
   ]
  },
  {
   "cell_type": "markdown",
   "metadata": {},
   "source": [
    "Given an integer array nums sorted in non-decreasing order, return an array of the squares of each number sorted in non-decreasing order.\n",
    "\n",
    " \n",
    "\n",
    "Example 1:\n",
    "\n",
    "Input: nums = [-4,-1,0,3,10]\n",
    "Output: [0,1,9,16,100]\n",
    "Explanation: After squaring, the array becomes [16,1,0,9,100].\n",
    "After sorting, it becomes [0,1,9,16,100].\n",
    "Example 2:\n",
    "\n",
    "Input: nums = [-7,-3,2,3,11]\n",
    "Output: [4,9,9,49,121]"
   ]
  },
  {
   "cell_type": "code",
   "execution_count": null,
   "metadata": {},
   "outputs": [],
   "source": [
    "# Time: O(n), one pass using two pointers.\n",
    "# Space: O(1), output array is not considered for space complexity.\n",
    "\n",
    "def sorted_squares(nums: List[int]) -> List[int]:\n",
    "    n = len(nums)\n",
    "    res = [0] * n\n",
    "    l, r = 0, n - 1\n",
    "    \n",
    "    while l <= r:\n",
    "        left, right = abs(nums[l]), abs(nums[r])\n",
    "        if left > right:\n",
    "            res[r - l] = left * left\n",
    "            l += 1\n",
    "        else:\n",
    "            res[r - l] = right * right\n",
    "            r -= 1\n",
    "    return res"
   ]
  },
  {
   "cell_type": "code",
   "execution_count": null,
   "metadata": {},
   "outputs": [],
   "source": [
    "# Time: O(n), one pass using two pointers.\n",
    "# Space: O(1), output array is not considered for space complexity.\n",
    "\n",
    "def sorted_squares_v2(nums: List[int]) -> List[int]:\n",
    "    n = len(nums)\n",
    "    res = [0] * n\n",
    "    l, r = 0, n - 1\n",
    "    \n",
    "    while l <= r:\n",
    "        left, right = abs(nums[l]), abs(nums[r])\n",
    "        if left < right:\n",
    "            res[r - l] = right * right\n",
    "            r -= 1\n",
    "        else:\n",
    "            res[r - l] = left * left\n",
    "            l += 1\n",
    "    return res"
   ]
  },
  {
   "cell_type": "code",
   "execution_count": null,
   "metadata": {},
   "outputs": [],
   "source": []
  },
  {
   "cell_type": "markdown",
   "metadata": {},
   "source": [
    "##### [1013. Partition Array Into Three Parts With Equal Sum](https://leetcode.com/problems/partition-array-into-three-parts-with-equal-sum/description/)"
   ]
  },
  {
   "cell_type": "markdown",
   "metadata": {},
   "source": [
    "Given an array of integers `arr`, return true if we can partition the array into three non-empty parts with equal sums.\n",
    "\n",
    "Formally, we can partition the array if we can find indexes `i + 1 < j` with (`arr[0] + arr[1] + ... + arr[i] == arr[i + 1] + arr[i + 2] + ... + arr[j - 1] == arr[j] + arr[j + 1] + ... + arr[arr.length - 1]`)\n",
    "\n",
    " \n",
    "\n",
    "-   **Example 1**:\n",
    "\n",
    "    -   `Input`: arr = [0,2,1,-6,6,-7,9,1,2,0,1]\n",
    "    -   `Output`: true\n",
    "    -   `Explanation`: 0 + 2 + 1 = -6 + 6 - 7 + 9 + 1 = 2 + 0 + 1\n",
    "\n",
    "-   **Example 2**:\n",
    "\n",
    "    -   `Input`: arr = [0,2,1,-6,6,7,9,-1,2,0,1]\n",
    "    -   `Output`: false\n",
    "\n",
    "-   **Example 3**:\n",
    "\n",
    "    -   `Input`: arr = [3,3,6,5,-2,2,5,1,-9,4]\n",
    "    -   `Output`: true\n",
    "    -   `Explanation`: 3 + 3 = 6 = 5 - 2 + 2 + 5 + 1 - 9 + 4"
   ]
  },
  {
   "cell_type": "code",
   "execution_count": null,
   "metadata": {},
   "outputs": [],
   "source": [
    "def can_three_parts_equal_sum(arr):\n",
    "    total_sum = sum(arr)\n",
    "    \n",
    "    # If total_sum is not divisible by 3, we can't partition the array into 3 parts with equal sum\n",
    "    if total_sum % 3 != 0: return False\n",
    "    \n",
    "    target = total_sum // 3\n",
    "\n",
    "    n = len(arr)\n",
    "    current_sum, parts = 0, 0\n",
    "    \n",
    "    for i in range(n):\n",
    "        current_sum += arr[i]\n",
    "        # When we find a part that matches the target sum\n",
    "        if current_sum == target:\n",
    "            parts += 1\n",
    "            current_sum = 0\n",
    "        \n",
    "        # If we've found 2 parts and there are still elements left, we can assume the rest forms the third part\n",
    "        if parts == 2 and i < n - 1:\n",
    "            return True\n",
    "    \n",
    "    return False\n"
   ]
  },
  {
   "cell_type": "code",
   "execution_count": null,
   "metadata": {},
   "outputs": [],
   "source": [
    "\n",
    "# Example 1\n",
    "arr1 = [0, 2, 1, -6, 6, -7, 9, 1, 2, 0, 1]\n",
    "print(can_three_parts_equal_sum(arr1))  # Output: true\n",
    "\n",
    "# Example 2\n",
    "arr2 = [0, 2, 1, -6, 6, 7, 9, -1, 2, 0, 1]\n",
    "print(can_three_parts_equal_sum(arr2))  # Output: false\n",
    "\n",
    "# Example 3\n",
    "arr3 = [3, 3, 6, 5, -2, 2, 5, 1, -9, 4]\n",
    "print(can_three_parts_equal_sum(arr3))  # Output: true\n"
   ]
  },
  {
   "cell_type": "markdown",
   "metadata": {},
   "source": [
    "##### [2570. Merge Two 2D Arrays by Summing Values](https://leetcode.com/problems/merge-two-2d-arrays-by-summing-values/description/)"
   ]
  },
  {
   "cell_type": "markdown",
   "metadata": {},
   "source": [
    "You are given two 2D integer arrays `nums1` and `nums2`.\n",
    "\n",
    "-   `nums1[i] = [idi, vali]` indicate that the number with the id `idi` has a value equal to `vali`.\n",
    "-   `nums2[i] = [idi, vali]` indicate that the number with the id `idi` has a value equal to vali.\n",
    "\n",
    "Each array contains unique ids and is sorted in ascending order by id.\n",
    "\n",
    "Merge the two arrays into one array that is sorted in ascending order by id, respecting the following conditions:\n",
    "\n",
    "1. Only ids that appear in at least one of the two arrays should be included in the resulting array.\n",
    "2. Each id should be included only once and its value should be the sum of the values of this id in the two arrays. If the id does not exist in one of the two arrays then its value in that array is considered to be 0.\n",
    "3. The returned array must be sorted in ascending order by id.\n",
    "\n",
    " \n",
    "\n",
    "-   **Example 1**:\n",
    "\n",
    "    -   `Input`: nums1 = [[1,2],[2,3],[4,5]], nums2 = [[1,4],[3,2],[4,1]]\n",
    "    -   `Output`: [[1,6],[2,3],[3,2],[4,6]]\n",
    "    -   `Explanation`: The resulting array contains the following:\n",
    "        -   id = 1, the value of this id is 2 + 4 = 6.\n",
    "        -   id = 2, the value of this id is 3.\n",
    "        -   id = 3, the value of this id is 2.\n",
    "        -   id = 4, the value of this id is 5 + 1 = 6.\n",
    "\n",
    "-   **Example 2**:\n",
    "\n",
    "    -   `Input`: nums1 = [[2,4],[3,6],[5,5]], nums2 = [[1,3],[4,3]]\n",
    "    -   `Output`: [[1,3],[2,4],[3,6],[4,3],[5,5]]\n",
    "    -   `Explanation`: There are no common ids, so we just include each id with its value in the resulting list."
   ]
  },
  {
   "cell_type": "code",
   "execution_count": null,
   "metadata": {},
   "outputs": [],
   "source": [
    "def merge_arrays(nums1: List[List[int]], nums2: List[List[int]]) -> List[List[int]]:\n",
    "    res = []\n",
    "    i,j = 0,0\n",
    "\n",
    "    while i < len(nums1) and j < len(nums2):\n",
    "        if nums1[i][0] < nums2[j][0]:\n",
    "            res.append([nums1[i][0], nums1[i][1]])\n",
    "            i += 1\n",
    "        elif nums1[i][0] > nums2[j][0]:\n",
    "            res.append([nums2[j][0], nums2[j][1]])\n",
    "            j += 1\n",
    "        else:\n",
    "            res.append([nums1[i][0], nums1[i][1] + nums2[j][1]])\n",
    "            i += 1\n",
    "            j += 1\n",
    "    \n",
    "    while i < len(nums1):\n",
    "        res.append([nums1[i][0], nums1[i][1]])\n",
    "        i += 1\n",
    "    \n",
    "    while j < len(nums2):\n",
    "        res.append([nums2[j][0], nums2[j][1]])\n",
    "        j += 1\n",
    "\n",
    "    return res"
   ]
  },
  {
   "cell_type": "code",
   "execution_count": null,
   "metadata": {},
   "outputs": [],
   "source": [
    "\n",
    "# Example usage:\n",
    "\n",
    "print(merge_arrays([[1,2],[2,3],[4,5]], [[1,4],[3,2],[4,1]]))  # Output: [[1,6],[2,3],[3,2],[4,6]]\n",
    "print(merge_arrays([[2,4],[3,6],[5,5]], [[1,3],[4,3]]))       # Output: [[1,3],[2,4],[3,6],[4,3],[5,5]]"
   ]
  },
  {
   "cell_type": "markdown",
   "metadata": {},
   "source": [
    "##### [1588. Sum of All Odd Length Subarrays](https://leetcode.com/problems/sum-of-all-odd-length-subarrays/description/)"
   ]
  },
  {
   "cell_type": "markdown",
   "metadata": {},
   "source": [
    "Given an array of positive integers `arr`, return the sum of all possible odd-length subarrays of `arr`.\n",
    "\n",
    "A subarray is a contiguous subsequence of the array."
   ]
  },
  {
   "cell_type": "code",
   "execution_count": null,
   "metadata": {},
   "outputs": [],
   "source": [
    "def sum_odd_length_subarrays(arr):\n",
    "    total_sum = 0\n",
    "    n = len(arr)\n",
    "    \n",
    "    # Iterate over all possible starting points of subarrays\n",
    "    for start in range(n):\n",
    "        # Iterate over all possible lengths of subarrays\n",
    "        for length in range(1, n - start + 1, 2):  # Step by 2 to get only odd lengths\n",
    "            subarray_sum = sum(arr[start:start + length])\n",
    "            total_sum += subarray_sum\n",
    "    \n",
    "    return total_sum"
   ]
  },
  {
   "cell_type": "code",
   "execution_count": null,
   "metadata": {},
   "outputs": [],
   "source": [
    "\n",
    "# Test cases\n",
    "print(sum_odd_length_subarrays([1, 4, 2, 5, 3]))  # Output: 58\n",
    "print(sum_odd_length_subarrays([1, 2]))           # Output: 3\n",
    "print(sum_odd_length_subarrays([10, 11, 12]))     # Output: 66\n"
   ]
  },
  {
   "cell_type": "markdown",
   "metadata": {},
   "source": [
    "**Follow up**: Could you solve this problem in $O(n)$ time complexity?"
   ]
  },
  {
   "cell_type": "code",
   "execution_count": null,
   "metadata": {},
   "outputs": [],
   "source": [
    "def sum_odd_length_subarrays_v2(arr):\n",
    "    total_sum = 0\n",
    "    n = len(arr)\n",
    "    \n",
    "    for i in range(n):\n",
    "        end_count = i + 1\n",
    "        start_count = n - i\n",
    "        total_subarrays = end_count * start_count\n",
    "        odd_length_subarrays = (total_subarrays + 1) // 2\n",
    "        \n",
    "        total_sum += arr[i] * odd_length_subarrays\n",
    "    \n",
    "    return total_sum"
   ]
  },
  {
   "cell_type": "markdown",
   "metadata": {},
   "source": [
    "To solve the problem of finding the sum of all possible odd-length subarrays of an array `arr`, we need to consider every subarray of the array that has an odd length and calculate its sum. We can approach this problem using a brute-force method, iterating through all possible odd-length subarrays and summing their elements. However, a more efficient approach is to consider the contribution of each element in the array to the sum of all odd-length subarrays directly.\n",
    "\n",
    "- **Detailed Explanation**\n",
    "\n",
    "    1. **Identify Subarrays**: Each element in the array `arr` will be part of multiple subarrays. Specifically, for each element at index `i`:\n",
    "       - It will be the start of some subarrays.\n",
    "       - It will be the end of some subarrays.\n",
    "       - The length of the subarrays will vary.\n",
    "\n",
    "    2. **Calculate Contribution of Each Element**:\n",
    "       - For an element at index `i`, it contributes to subarrays starting from any previous index `j` to the current index `i` where `(i - j + 1)` is odd.\n",
    "       - Count the total number of subarrays in which the element at index `i` participates and is of odd length.\n",
    "\n",
    "    3. **Mathematical Insight**:\n",
    "       - If an element at position `i` is part of an odd-length subarray, we need to consider all subarrays which have lengths `1, 3, 5, ...` and so on.\n",
    "       - Instead of explicitly generating subarrays, we can count how many such odd-length subarrays an element is part of.\n",
    "\n",
    "- **Efficient Approach**: To achieve this efficiently, we calculate the total number of subarrays that include each element at index `i` and then filter out the odd-length ones. Here's a simple mathematical approach:\n",
    "    - For an element at index `i` in an array of length `n`:\n",
    "        - The number of subarrays that include `arr[i]` is given by `(i + 1) * (n - i)` since it can start from any index `0` to `i` and end from any index `i` to `n-1`.\n",
    "        - Among these subarrays, the number of odd-length subarrays can be derived by counting the odd-length subarrays specifically.\n"
   ]
  },
  {
   "cell_type": "code",
   "execution_count": null,
   "metadata": {},
   "outputs": [],
   "source": []
  },
  {
   "cell_type": "code",
   "execution_count": null,
   "metadata": {},
   "outputs": [],
   "source": []
  },
  {
   "cell_type": "markdown",
   "metadata": {},
   "source": [
    "### Medium"
   ]
  },
  {
   "cell_type": "markdown",
   "metadata": {},
   "source": [
    "##### [2. Add two numbers represented as linked list]() | [neetcode](https://www.youtube.com/watch?v=wgFPrzTjm7s&list=PLot-Xpze53lfOdF3KwpMSFEyfE77zIwiP&index=7)"
   ]
  },
  {
   "cell_type": "markdown",
   "metadata": {},
   "source": [
    "<div style=\"text-align:center\"><img src=\"../assets/leetcode/add_two_num.png\" length=\"500\", width=\"500\"/></div>"
   ]
  },
  {
   "cell_type": "code",
   "execution_count": null,
   "metadata": {},
   "outputs": [],
   "source": []
  },
  {
   "cell_type": "code",
   "execution_count": null,
   "metadata": {},
   "outputs": [],
   "source": []
  },
  {
   "cell_type": "code",
   "execution_count": null,
   "metadata": {},
   "outputs": [],
   "source": []
  }
 ],
 "metadata": {
  "kernelspec": {
   "display_name": "dsnb",
   "language": "python",
   "name": "python3"
  },
  "language_info": {
   "codemirror_mode": {
    "name": "ipython",
    "version": 3
   },
   "file_extension": ".py",
   "mimetype": "text/x-python",
   "name": "python",
   "nbconvert_exporter": "python",
   "pygments_lexer": "ipython3",
   "version": "3.9.6"
  },
  "toc": {
   "base_numbering": 1,
   "nav_menu": {},
   "number_sections": true,
   "sideBar": true,
   "skip_h1_title": false,
   "title_cell": "Table of Contents",
   "title_sidebar": "Contents",
   "toc_cell": false,
   "toc_position": {},
   "toc_section_display": true,
   "toc_window_display": false
  }
 },
 "nbformat": 4,
 "nbformat_minor": 2
}
