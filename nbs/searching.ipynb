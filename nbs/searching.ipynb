{
 "cells": [
  {
   "cell_type": "markdown",
   "metadata": {
    "toc": true
   },
   "source": [
    "<h1>Table of Contents<span class=\"tocSkip\"></span></h1>\n",
    "<div class=\"toc\"><ul class=\"toc-item\"><li><span><a href=\"#EPI\" data-toc-modified-id=\"EPI-1\">EPI</a></span><ul class=\"toc-item\"><li><ul class=\"toc-item\"><li><span><a href=\"#Search-a-sorted-array-for-first-/-closest-occurrence-of-k.-[EPI:-11.1]\" data-toc-modified-id=\"Search-a-sorted-array-for-first-/-closest-occurrence-of-k.-[EPI:-11.1]-1.0.1\">Search a sorted array for <b style=\"color: magenta\">first</b> / <b style=\"color: magenta\">closest</b> occurrence of k. [EPI: 11.1]</a></span></li><li><span><a href=\"#Search-a-sorted-array--in-ascending-order-of-repeatable-integer-for---any-/-first-entry-equal-to-its-index.-[EPI:-11.2,-CtCI:-9.3]\" data-toc-modified-id=\"Search-a-sorted-array--in-ascending-order-of-repeatable-integer-for---any-/-first-entry-equal-to-its-index.-[EPI:-11.2,-CtCI:-9.3]-1.0.2\">Search a <b style=\"color: magenta\">sorted</b> array <b style=\"color: magenta\"> in ascending order of repeatable</b> integer for   <b style=\"color: magenta\">any</b> / <b style=\"color: magenta\">first</b> entry equal to its index. [EPI: 11.2, CtCI: 9.3]</a></span></li><li><span><a href=\"#Find-the-position-of-the-SMALLEST-element-in-a-CYCLICALLY-SORTED-array-of-DISTINCT-elements.---[EPI:-11.3]\" data-toc-modified-id=\"Find-the-position-of-the-SMALLEST-element-in-a-CYCLICALLY-SORTED-array-of-DISTINCT-elements.---[EPI:-11.3]-1.0.3\">Find the position of the SMALLEST element in a CYCLICALLY SORTED array of DISTINCT elements. - [EPI: 11.3]</a></span></li><li><span><a href=\"#Given-a-sorted-array-of-n-integers-that-has-been-rotated-an-unknown-number-of-times,-write-code-to-find-an-element-in-the-array.-You-may-assume-that-the-array-was-originally-sorted-in-increasing-order.---[EPI:-11.3-Variant,-CtCI:-11.3]\" data-toc-modified-id=\"Given-a-sorted-array-of-n-integers-that-has-been-rotated-an-unknown-number-of-times,-write-code-to-find-an-element-in-the-array.-You-may-assume-that-the-array-was-originally-sorted-in-increasing-order.---[EPI:-11.3-Variant,-CtCI:-11.3]-1.0.4\">Given a sorted array of n integers that has been rotated an unknown number of times, write code to find an element in the array. You may assume that the array was originally sorted in increasing order. - [EPI: 11.3-Variant, CtCI: 11.3]</a></span></li><li><span><a href=\"#Given-a-sorted-array-of-strings-which-is-interspersed-with-empty-strings,-write-a-method-to-find-the-location-of-a-given-string.-[CtCI:-11.5]\" data-toc-modified-id=\"Given-a-sorted-array-of-strings-which-is-interspersed-with-empty-strings,-write-a-method-to-find-the-location-of-a-given-string.-[CtCI:-11.5]-1.0.5\">Given a sorted array of strings which is interspersed with empty strings, write a method to find the location of a given string. [CtCI: 11.5]</a></span></li><li><span><a href=\"#Compute-the-integer-square-root.-[EPI:-11.4]\" data-toc-modified-id=\"Compute-the-integer-square-root.-[EPI:-11.4]-1.0.6\">Compute the integer square root. [EPI: 11.4]</a></span></li><li><span><a href=\"#Compute-the-real-square-root.-[EPI:-11.5]\" data-toc-modified-id=\"Compute-the-real-square-root.-[EPI:-11.5]-1.0.7\">Compute the real square root. [EPI: 11.5]</a></span></li><li><span><a href=\"#Search-in-a-2D-sorted-array.-[EPI:-11.6]\" data-toc-modified-id=\"Search-in-a-2D-sorted-array.-[EPI:-11.6]-1.0.8\">Search in a 2D sorted array. [EPI: 11.6]</a></span></li><li><span><a href=\"#Find-the-min-and-max-simultaneously.-[EPI:-11.7]\" data-toc-modified-id=\"Find-the-min-and-max-simultaneously.-[EPI:-11.7]-1.0.9\">Find the min and max simultaneously. [EPI: 11.7]</a></span></li><li><span><a href=\"#Find-the-kth-largest-element.-[EPI:-11.8]\" data-toc-modified-id=\"Find-the-kth-largest-element.-[EPI:-11.8]-1.0.10\">Find the kth largest element. [EPI: 11.8]</a></span><ul class=\"toc-item\"><li><span><a href=\"#Design-an-algorithm-for-finding-the-kth-largest-element-of-A-in-the-presence-of-duplicates.-The-kth-largest-element-is-defined-to-be-A[k-1]-after-A-has-been-sorted-in-a-stable-manner,-i.e.,-if-A[i]-=-A[j]-and-i-<-j-then-A[i]-must-appear-before-A[j]-after-stable-sorting.\" data-toc-modified-id=\"Design-an-algorithm-for-finding-the-kth-largest-element-of-A-in-the-presence-of-duplicates.-The-kth-largest-element-is-defined-to-be-A[k-1]-after-A-has-been-sorted-in-a-stable-manner,-i.e.,-if-A[i]-=-A[j]-and-i-<-j-then-A[i]-must-appear-before-A[j]-after-stable-sorting.-1.0.10.1\">Design an algorithm for finding the kth largest element of A in the presence of duplicates. The kth largest element is defined to be A[k-1] after A has been sorted in a stable manner, i.e., if A[i] = A[j] and i &lt; j then A[i] must appear before A[j] after stable sorting.</a></span></li></ul></li><li><span><a href=\"#Find-the-missing-IP-address.-[EPI:-11.9]\" data-toc-modified-id=\"Find-the-missing-IP-address.-[EPI:-11.9]-1.0.11\"><b style=\"color: red\">Find the missing IP address. [EPI: 11.9]</b></a></span></li><li><span><a href=\"#Find-the-duplicate-and-missing-elements.-[EPI:-11.10]\" data-toc-modified-id=\"Find-the-duplicate-and-missing-elements.-[EPI:-11.10]-1.0.12\"><b style=\"color: red\">Find the duplicate and missing elements. [EPI: 11.10]</b></a></span><ul class=\"toc-item\"><li><span><a href=\"#Missing-Number-Leetcode\" data-toc-modified-id=\"Missing-Number-Leetcode-1.0.12.1\">Missing Number <a href=\"https://leetcode.com/problems/missing-number/\" target=\"_blank\">Leetcode</a></a></span></li><li><span><a href=\"#Find-The-Duplicates-in-an-Array-Leetcode\" data-toc-modified-id=\"Find-The-Duplicates-in-an-Array-Leetcode-1.0.12.2\">Find The Duplicates in an Array <a href=\"https://leetcode.com/problems/find-the-duplicate-number/\" target=\"_blank\">Leetcode</a></a></span></li><li><span><a href=\"#Find-All-Duplicates-in-an-Array-Leetcode\" data-toc-modified-id=\"Find-All-Duplicates-in-an-Array-Leetcode-1.0.12.3\">Find All Duplicates in an Array <a href=\"https://leetcode.com/problems/find-all-duplicates-in-an-array/\" target=\"_blank\">Leetcode</a></a></span></li></ul></li><li><span><a href=\"#Find-the-root-of-a-given-function--using-Successive-Approximation-(Newton's-Method).-[MIT6.00SC:-PS2]\" data-toc-modified-id=\"Find-the-root-of-a-given-function--using-Successive-Approximation-(Newton's-Method).-[MIT6.00SC:-PS2]-1.0.13\">Find the root of a given function  using Successive Approximation (Newton's Method). [MIT6.00SC: PS2]</a></span></li></ul></li></ul></li><li><span><a href=\"#Collected\" data-toc-modified-id=\"Collected-2\">Collected</a></span><ul class=\"toc-item\"><li><ul class=\"toc-item\"><li><span><a href=\"#Write-a-Program-to-match-a-string-that-has-the-letter-‘a’-followed-by-4-to-8-'b’s.\" data-toc-modified-id=\"Write-a-Program-to-match-a-string-that-has-the-letter-‘a’-followed-by-4-to-8-'b’s.-2.0.1\">Write a Program to match a string that has the letter ‘a’ followed by 4 to 8 'b’s.</a></span></li></ul></li></ul></li></ul></div>"
   ]
  },
  {
   "cell_type": "code",
   "execution_count": 9,
   "metadata": {},
   "outputs": [],
   "source": [
    "from random import randrange, randint, choice, choices, shuffle, seed\n",
    "import bisect, math, collections, operator, itertools, heapq\n",
    "from collections import namedtuple\n",
    "from typing import Union, List, Container\n",
    "from functools import reduce\n",
    "import sys\n",
    "import unittest"
   ]
  },
  {
   "cell_type": "code",
   "execution_count": 10,
   "metadata": {},
   "outputs": [],
   "source": [
    "from ads.utils import *\n",
    "DATA_PATH = os.environ['ADS']\n",
    "DATA = load_json_data('searching', dir_name=DATA_PATH+'/data/')"
   ]
  },
  {
   "cell_type": "markdown",
   "metadata": {},
   "source": [
    "-   [neetcode - Binary Search](https://www.youtube.com/playlist?list=PLot-Xpze53leNZQd0iINpD-MAhMOMzWvO)"
   ]
  },
  {
   "cell_type": "markdown",
   "metadata": {},
   "source": [
    "## EPI"
   ]
  },
  {
   "cell_type": "markdown",
   "metadata": {
    "heading_collapsed": true
   },
   "source": [
    "##### Search a sorted array for <b style='color:magenta'>first</b> / <b style='color:magenta'>closest</b> occurrence of k. [EPI: 11.1]"
   ]
  },
  {
   "cell_type": "code",
   "execution_count": 42,
   "metadata": {
    "code_folding": [],
    "hidden": true
   },
   "outputs": [],
   "source": [
    "def idx_of_k_itr(A, k):\n",
    "    '''Return the index of any occurance of k in A'''\n",
    "    \n",
    "    if (len(A) == 0) or (A is None) or (k is None): return -1\n",
    "\n",
    "    low, high = 0, len(A)-1\n",
    "    \n",
    "    while low <= high:\n",
    "        mid = (low + high) // 2\n",
    "        if   k < A[mid]: high = mid-1\n",
    "        elif k > A[mid]: low  = mid+1\n",
    "        else           : return mid\n",
    "    \n",
    "    return -1\n",
    "# ========================================================================\n",
    "def _test_idx_of_k():\n",
    "    for A,k,expected in DATA['idx_of_k_itr']:\n",
    "        try:\n",
    "            returned_itr = idx_of_k_itr(A,k)\n",
    "            assert returned_itr == expected\n",
    "        except:\n",
    "            print(A,k,expected, returned_itr)\n",
    "# ========================================================================\n",
    "_test_idx_of_k()"
   ]
  },
  {
   "cell_type": "code",
   "execution_count": 47,
   "metadata": {
    "code_folding": [],
    "hidden": true
   },
   "outputs": [],
   "source": [
    "def idx_of_k_rec(L,k,low,high):\n",
    "    '''Return the index of any occurance of k in A'''\n",
    "\n",
    "    if (len(L) == 0) or (L is None) or (k is None) or (low > high): \n",
    "        return -1\n",
    "    \n",
    "    mid = (low + high) // 2\n",
    "\n",
    "    if    L[mid] < k: return idx_of_k_rec(L, k, mid+1, high)\n",
    "    elif  L[mid] > k: return idx_of_k_rec(L, k, low, mid-1)\n",
    "    else:             return mid\n",
    "# ========================================================================\n",
    "def _test_idx_of_k():\n",
    "    for A,k,expected in DATA['idx_of_k_itr']:\n",
    "        try:\n",
    "            returned_rec = idx_of_k_rec(A,k,0,len(A)-1)\n",
    "            assert returned_rec == expected\n",
    "        except:\n",
    "            print(A,k,expected, returned_rec)\n",
    "# ========================================================================\n",
    "_test_idx_of_k()"
   ]
  },
  {
   "cell_type": "markdown",
   "metadata": {
    "hidden": true
   },
   "source": [
    "- **Index of FIRST OCCURANCE**"
   ]
  },
  {
   "cell_type": "code",
   "execution_count": 50,
   "metadata": {
    "code_folding": [],
    "hidden": true
   },
   "outputs": [],
   "source": [
    "def first_idx_of_k_itr(A, k, low, high):\n",
    "    '''Return the index of FIRST OCCURANCE of k in A'''\n",
    "    \n",
    "    if (len(A) == 0) or (A is None) or (k is None): return -1\n",
    "\n",
    "    result = -1\n",
    "    \n",
    "    while low <= high:\n",
    "        mid = (low + high) // 2\n",
    "                \n",
    "        if   k < A[mid]: high = mid-1\n",
    "        elif k > A[mid]: low  = mid+1\n",
    "        else:  \n",
    "            result = mid\n",
    "            high = mid-1\n",
    "            \n",
    "    return result\n",
    "# ========================================================================\n",
    "def _test_first_idx_of_k_itr():\n",
    "    for A,k,expected in DATA['first_idx_of_k_itr']:\n",
    "        try:\n",
    "            returned_itr = first_idx_of_k_itr(A,k,0,len(A)-1)\n",
    "            assert returned_itr == expected\n",
    "        except:\n",
    "            print(A,k,expected, returned_itr)\n",
    "# ========================================================================\n",
    "_test_idx_of_k()"
   ]
  },
  {
   "cell_type": "code",
   "execution_count": 51,
   "metadata": {
    "code_folding": [],
    "hidden": true
   },
   "outputs": [],
   "source": [
    "def search_first_of_k_pythonic(A, k):\n",
    "    i = bisect.bisect_low(A, k)\n",
    "    return i if i < len(A) and A[i] == k else -1\n",
    "# ========================================================================\n",
    "def _test_search_first_of_k_pythonic():\n",
    "    for A,k,expected in DATA['first_idx_of_k_itr']:\n",
    "        assert search_first_of_k_pythonic(A,k) == expected\n",
    "# ========================================================================\n",
    "_test_nearest_idx_of_k()"
   ]
  },
  {
   "cell_type": "markdown",
   "metadata": {
    "hidden": true
   },
   "source": [
    "- **Nearnest Index**"
   ]
  },
  {
   "cell_type": "code",
   "execution_count": 52,
   "metadata": {
    "code_folding": [],
    "hidden": true
   },
   "outputs": [],
   "source": [
    "def nearest_idx_of_k_itr(A, k):\n",
    "    if (len(A) == 0) or (A is None) or (k is None): return -1\n",
    "    \n",
    "    low, high = 0, len(A)-1\n",
    "    \n",
    "    while low <= high:\n",
    "        mid = (low + high) // 2\n",
    "                \n",
    "        if   k < A[mid]: high = mid-1\n",
    "        elif k > A[mid]: low  = mid+1\n",
    "        else           : return mid          \n",
    "    \n",
    "     # At this point k & low greater than high\n",
    "    if low >= len(A): return len(A)-1\n",
    "    elif high < 0: return 0\n",
    "    else:\n",
    "        dist_from_high = k - A[high]\n",
    "        dist_from_low = A[low] - k\n",
    "        return high if dist_from_high < dist_from_low else low\n",
    "# ========================================================================\n",
    "def _test_nearest_idx_of_k():\n",
    "    for A,k,expected in DATA['nearest_idx_of_k_itr']:\n",
    "        assert nearest_idx_of_k_itr(A,k) == expected\n",
    "# ========================================================================\n",
    "_test_nearest_idx_of_k()"
   ]
  },
  {
   "cell_type": "code",
   "execution_count": 10,
   "metadata": {
    "code_folding": [],
    "hidden": true
   },
   "outputs": [],
   "source": [
    "def nearest_idx_of_k_rec(L,k,low,high):\n",
    "    pass"
   ]
  },
  {
   "cell_type": "code",
   "execution_count": null,
   "metadata": {
    "hidden": true
   },
   "outputs": [],
   "source": []
  },
  {
   "cell_type": "markdown",
   "metadata": {
    "heading_collapsed": true,
    "hidden": true
   },
   "source": [
    "###### Given a sorted array of integer, `a`,  and a integer, `target`. Find the indexes of first and last occurances of the `target` in the given array."
   ]
  },
  {
   "cell_type": "code",
   "execution_count": null,
   "metadata": {
    "hidden": true
   },
   "outputs": [],
   "source": []
  },
  {
   "cell_type": "markdown",
   "metadata": {
    "heading_collapsed": true
   },
   "source": [
    "##### Search a <b style='color:magenta'>sorted</b> array <b style='color:magenta'> in ascending order of repeatable</b> integer for   <b style='color:magenta'>any</b> / <b style='color:magenta'>first</b> entry equal to its index. [EPI: 11.2, CtCI: 9.3]"
   ]
  },
  {
   "cell_type": "markdown",
   "metadata": {
    "hidden": true
   },
   "source": [
    "- Variation: Search a <b style='color:red'>sorted</b> array in ascending order of <b style='color:red'>distinct</b> integer for the entry equal to its index. "
   ]
  },
  {
   "cell_type": "code",
   "execution_count": 24,
   "metadata": {
    "code_folding": [
     0
    ],
    "hidden": true
   },
   "outputs": [],
   "source": [
    "def magic_index_itr(L: Container[int]) -> int:\n",
    "    \"\"\"Finds the index in 'L' where L[index] == index.\n",
    "    Args:\n",
    "        L: A SORTED array of DISTINCT integer.\n",
    "\n",
    "    Returns:\n",
    "        The index in 'L' where L[index] == index.\n",
    "    \"\"\"\n",
    "\n",
    "    left, right = 0, len(L) - 1\n",
    "\n",
    "    while left <= right:\n",
    "\n",
    "        mid = (left + right) // 2\n",
    "\n",
    "        if L[mid] < mid: left = mid + 1\n",
    "        elif L[mid] > mid: right = mid - 1\n",
    "        else: return mid  # L[mid] == mid\n",
    "\n",
    "    return -1\n",
    "# ========================================================================\n",
    "def _test_magic_index_itr():\n",
    "    for A,expected in DATA['magic_index_itr']:\n",
    "        try:\n",
    "            returned_itr = magic_index_itr(A)\n",
    "            # print(A, returned_itr, \"==\"*20, sep='\\n')\n",
    "            assert returned_itr == expected\n",
    "        except:\n",
    "            print(A,expected, returned_itr)\n",
    "# ========================================================================\n",
    "_test_magic_index_itr()"
   ]
  },
  {
   "cell_type": "code",
   "execution_count": 41,
   "metadata": {
    "code_folding": [],
    "hidden": true
   },
   "outputs": [],
   "source": [
    "def first_magic_index(A):\n",
    "    \"\"\"Finds the index in 'L' where L[index] == index.\n",
    "\n",
    "    Args:\n",
    "        L: A SORTED array of DISTINCT integer.\n",
    "\n",
    "    Returns:\n",
    "        The index in 'L' where L[index] == index.\n",
    "    \"\"\"\n",
    "\n",
    "    left, right, result = 0, len(A)-1, -1\n",
    "    \n",
    "    while left <= right:\n",
    "        mid = (left + right) // 2\n",
    "\n",
    "        if    A[mid] < mid : left = mid + 1\n",
    "        elif  A[mid] > mid : right = mid - 1\n",
    "        else               :\n",
    "            result = mid\n",
    "            right  = mid-1 # Change to 'left = mid+1' for last_elm_eql_idx(A)\n",
    "            \n",
    "    return result\n",
    "# ========================================================================\n",
    "def _test_first_magic_index():\n",
    "    for A,expected in DATA['first_magic_index']:\n",
    "        try:\n",
    "            returned = first_magic_index(A)\n",
    "            # print(A, returned, \"==\"*20, sep='\\n')\n",
    "            assert returned == expected\n",
    "        except:\n",
    "            print(A,expected, returned)\n",
    "# ========================================================================\n",
    "_test_first_magic_index()"
   ]
  },
  {
   "cell_type": "markdown",
   "metadata": {
    "hidden": true
   },
   "source": [
    "- Variation: Search a <b style='color:red'>sorted</b> array in ascending order of <b style='color:red'>repeatable</b> integer for the entry equal to its index. "
   ]
  },
  {
   "cell_type": "code",
   "execution_count": 9,
   "metadata": {
    "code_folding": [],
    "hidden": true
   },
   "outputs": [],
   "source": [
    "def magic_index_repeatable(L: Container[int]) -> int:\n",
    "    \"\"\"Finds the index in 'L' where L[index] == index.\n",
    "\n",
    "    Args:\n",
    "        L: A SORTED array of REPEATABLE integer.\n",
    "\n",
    "    Returns:\n",
    "        The index in 'L' where L[index] == index.\n",
    "    \"\"\"\n",
    "    def magic_idx_v2(L, low, high):\n",
    "        if not L: return -1\n",
    "        if low > high: return -1\n",
    "\n",
    "        mid = (low + high) // 2\n",
    "\n",
    "        if L[mid] == mid: return mid\n",
    "        else:\n",
    "            left = magic_idx_v2(L, low, min(L[mid], mid - 1))\n",
    "            if left != -1: return left\n",
    "            else: return magic_idx_v2(L, max(L[mid], mid + 1), high)\n",
    "\n",
    "    return magic_idx_v2(L, 0, len(L) - 1)"
   ]
  },
  {
   "cell_type": "code",
   "execution_count": 15,
   "metadata": {
    "code_folding": [],
    "hidden": true
   },
   "outputs": [
    {
     "name": "stdout",
     "output_type": "stream",
     "text": [
      "[3, 3, 3, 3] 3 -1\n",
      "[0, 1, 1, 2, 3] 0 -1\n",
      "[0, 0, 2, 2] 0 2\n"
     ]
    }
   ],
   "source": [
    "# ========================================================================\n",
    "def _test_magic_index_repeatable():\n",
    "    for A,expected in DATA['magic_index_v2']:\n",
    "        try:\n",
    "            returned = magic_index_repeatable(A)\n",
    "            # print(A, returned, \"==\"*20, sep='\\n')\n",
    "            assert returned == expected\n",
    "        except:\n",
    "            print(A,expected, returned)\n",
    "# ========================================================================\n",
    "_test_magic_index_repeatable()"
   ]
  },
  {
   "cell_type": "markdown",
   "metadata": {
    "heading_collapsed": true
   },
   "source": [
    "##### Find the position of the <b style='color:magenta'>SMALLEST</b> element in a CYCLICALLY SORTED array of DISTINCT elements. - [EPI: 11.3]"
   ]
  },
  {
   "cell_type": "markdown",
   "metadata": {
    "hidden": true
   },
   "source": [
    "Ex: [20, 30, 0, 1, 2, 3, 4] ==>> 2"
   ]
  },
  {
   "cell_type": "code",
   "execution_count": null,
   "metadata": {
    "hidden": true
   },
   "outputs": [],
   "source": [
    "def search_smallest(A):\n",
    "\n",
    "    left, right = 0, len(A) - 1\n",
    "    while left < right:\n",
    "        mid = (left + right) // 2\n",
    "        if A[mid] > A[right]:\n",
    "            # Minimum must be in A[mid+1 : right].\n",
    "            left = mid + 1\n",
    "        else:  # A[mid] < A[right].\n",
    "            # Minimum cannot be in A[mid+1 : right] so it must be in A[left : mid].\n",
    "            right = mid\n",
    "\n",
    "    # Loop ends when left == right == index of the smallest item.\n",
    "    return left"
   ]
  },
  {
   "cell_type": "markdown",
   "metadata": {
    "hidden": true
   },
   "source": [
    "**Variant**: A sequence is strictly ascending if each element is greater than its predecessor. Suppose it is known that an array A consists of a strictly ascending sequence followed by a strictly descending sequence. Design an algorithm for finding the maximum element in A."
   ]
  },
  {
   "cell_type": "code",
   "execution_count": 47,
   "metadata": {
    "hidden": true
   },
   "outputs": [],
   "source": [
    "def find_maximum_element(arr):\n",
    "    low, high = 0, len(arr) - 1\n",
    "\n",
    "    while low <= high:\n",
    "        mid = (low + high) // 2\n",
    "\n",
    "        # Compare the middle element with its adjacent elements\n",
    "        if arr[mid - 1] < arr[mid] > arr[mid + 1]:\n",
    "            return arr[mid]\n",
    "        elif arr[mid - 1] < arr[mid] < arr[mid + 1]:\n",
    "            low = mid + 1\n",
    "        else:\n",
    "            high = mid - 1"
   ]
  },
  {
   "cell_type": "code",
   "execution_count": 48,
   "metadata": {
    "hidden": true
   },
   "outputs": [
    {
     "name": "stdout",
     "output_type": "stream",
     "text": [
      "The maximum element in the array is: 7\n"
     ]
    }
   ],
   "source": [
    "# Example usage:\n",
    "arr = [1, 3, 5, 7, 6, 4, 2]\n",
    "maximum_element = find_maximum_element(arr)\n",
    "\n",
    "print(f\"The maximum element in the array is: {maximum_element}\")"
   ]
  },
  {
   "cell_type": "code",
   "execution_count": null,
   "metadata": {
    "hidden": true
   },
   "outputs": [],
   "source": []
  },
  {
   "cell_type": "markdown",
   "metadata": {},
   "source": [
    "##### Search a sorted and rotated array of integer for a integer. - [EPI: 11.3-Variant, CtCI: 11.3]"
   ]
  },
  {
   "cell_type": "markdown",
   "metadata": {
    "heading_collapsed": true
   },
   "source": [
    "Given a sorted array of n integers that has been rotated an unknown number of times, write code to find an element in the array. You may assume that the array was originally sorted in increasing order."
   ]
  },
  {
   "cell_type": "markdown",
   "metadata": {
    "hidden": true
   },
   "source": [
    "This code will run in $O(log_2{n})$ if all the elements are unique. However, with many duplicates, the algorithm is actually <b style=\"color:red\">$O(n)$</b>. This is because with many duplicates, we will often have to search both the left and right sides of the array (or subarrays)."
   ]
  },
  {
   "cell_type": "markdown",
   "metadata": {
    "hidden": true
   },
   "source": [
    "- **ChatGPT**:"
   ]
  },
  {
   "cell_type": "code",
   "execution_count": 6,
   "metadata": {
    "hidden": true
   },
   "outputs": [],
   "source": [
    "def find_element_position(arr, k):\n",
    "    low, high = 0, len(arr) - 1\n",
    "\n",
    "    while low <= high:\n",
    "        mid = (low + high) // 2\n",
    "\n",
    "        if arr[mid] == k: return mid\n",
    "\n",
    "        # Case-01: Check if the left half is sorted\n",
    "        if arr[low] <= arr[mid]:\n",
    "            if arr[low] <= k < arr[mid]: high = mid - 1\n",
    "            else: low = mid + 1 # Since it must be on the other half.\n",
    "        \n",
    "        # Case-02: The right half is sorted since the left half is not.\n",
    "        else:\n",
    "            if arr[mid] < k <= arr[high]: low = mid + 1\n",
    "            else: high = mid - 1\n",
    "\n",
    "    return -1  # Element not found"
   ]
  },
  {
   "cell_type": "markdown",
   "metadata": {
    "hidden": true
   },
   "source": [
    "- **CtCI**:"
   ]
  },
  {
   "cell_type": "code",
   "execution_count": 7,
   "metadata": {
    "hidden": true
   },
   "outputs": [],
   "source": [
    "def search_roated_sorted(a: list, k: int, low: int, high: int) -> None:\n",
    "    if not a and low > high: return -1\n",
    "    mid = (high + low) // 2\n",
    "    \n",
    "    if k == a[mid]: return mid\n",
    "    else:\n",
    "        if a[mid] < a[high] and a[mid] < k <= a[high]:\n",
    "            return search_roated_sorted(a, k, mid+1, high)\n",
    "        if a[mid] > a[high] and a[low] <= k < a[mid]:\n",
    "            return search_roated_sorted(a, k, low, mid-1)\n",
    "            \n",
    "        else: # a[mid] == a[high] or a[mid] < k <= a[high] or a[low] <= k < a[mid]\n",
    "            res = search_roated_sorted(a, k, low, mid-1)\n",
    "            if res == -1: return search_roated_sorted(a, mid+1, high)\n",
    "            return res"
   ]
  },
  {
   "cell_type": "markdown",
   "metadata": {
    "hidden": true
   },
   "source": [
    "- **TEST**"
   ]
  },
  {
   "cell_type": "code",
   "execution_count": 8,
   "metadata": {
    "hidden": true
   },
   "outputs": [
    {
     "name": "stdout",
     "output_type": "stream",
     "text": [
      "All test have\u001b[01;5m  \u001b[01;32m PASSED \u001b[m  \u001b[m\n"
     ]
    }
   ],
   "source": [
    "def test_search_rotated_sorted():\n",
    "    for _ in range(1000):\n",
    "        N = randint(0, 2)\n",
    "        L = sorted([randint(5, 10) for _ in range(N)])\n",
    "        \n",
    "        key = choice(L) if L else None\n",
    "        returned = search_roated_sorted(L, key, 0, len(L)-1)\n",
    "        returned2 = find_element_position(L, key)\n",
    "        # assert returned == returned2\n",
    "        \n",
    "        try:\n",
    "            # print(f\"Given: {L}, {key}\", f\"Returned: {returned}\", \"==\"*20, sep='\\n')\n",
    "            if returned != -1: \n",
    "                assert key == L[returned2]\n",
    "            else:\n",
    "                # print(f\"Given: {L}, {key}\", f\"Returned: {returned}\", \"==\"*20, sep='\\n')\n",
    "                assert key not in L\n",
    "        except:\n",
    "            print(f\"Given: {L}, {key}\", f\"Returned: {returned}\", \"==\"*20, sep='\\n')\n",
    "    print(f\"\"\"All test have{green(\"PASSED\")}\"\"\")\n",
    "# ======================================================================\n",
    "\n",
    "test_search_rotated_sorted()"
   ]
  },
  {
   "cell_type": "markdown",
   "metadata": {},
   "source": [
    "##### Given a sorted array of strings which is interspersed with empty strings, write a method to find the location of a given string. [CtCI: 11.5]"
   ]
  },
  {
   "cell_type": "code",
   "execution_count": 3,
   "metadata": {
    "code_folding": []
   },
   "outputs": [],
   "source": [
    "def find_string(arr, target):\n",
    "    if not arr or not target: return -1\n",
    "    \n",
    "    left, right = 0, len(arr) - 1\n",
    "\n",
    "    while left <= right:\n",
    "        mid = (left + right) // 2\n",
    "\n",
    "        # If mid is empty, find the closest non-empty string\n",
    "        if arr[mid] == \"\":\n",
    "            left_mid = mid - 1\n",
    "            right_mid = mid + 1\n",
    "            while True:\n",
    "                if left_mid < left and right_mid > right: return -1\n",
    "                if left_mid >= left and arr[left_mid] != \"\": \n",
    "                    mid = left_mid\n",
    "                    break\n",
    "                if right_mid <= right and arr[right_mid] != \"\":\n",
    "                    mid = right_mid\n",
    "                    break\n",
    "                left_mid -= 1\n",
    "                right_mid += 1\n",
    "\n",
    "        if arr[mid] == target: return mid\n",
    "        elif arr[mid] < target: left = mid + 1\n",
    "        else: right = mid - 1\n",
    "\n",
    "    return -1\n"
   ]
  },
  {
   "cell_type": "code",
   "execution_count": 6,
   "metadata": {
    "code_folding": [
     1
    ]
   },
   "outputs": [],
   "source": [
    "def test_():\n",
    "    test_cases = [\n",
    "        ([\"\", \"\", \"apple\", \"\", \"\", \"banana\", \"\", \"\", \"carrot\", \"\", \"\", \"date\", \"\"], \"apple\", 2),\n",
    "        ([\"\", \"\", \"apple\", \"\", \"\", \"banana\", \"\", \"\", \"carrot\", \"\", \"\", \"date\", \"\"], \"banana\", 5),\n",
    "        ([\"\", \"\", \"apple\", \"\", \"\", \"banana\", \"\", \"\", \"carrot\", \"\", \"\", \"date\", \"\"], \"carrot\", 8),\n",
    "        ([\"\", \"\", \"apple\", \"\", \"\", \"banana\", \"\", \"\", \"carrot\", \"\", \"\", \"date\", \"\"], \"date\", 11),\n",
    "        ([\"\", \"\", \"apple\", \"\", \"\", \"banana\", \"\", \"\", \"carrot\", \"\", \"\", \"date\", \"\"], \"elephant\", -1),\n",
    "        ([\"\", \"\", \"\", \"\", \"\", \"\", \"\", \"\", \"\", \"\", \"\", \"\", \"\"], \"apple\", -1),\n",
    "        ([\"\", \"\", \"apple\", \"\", \"\", \"\", \"\", \"banana\", \"\", \"\", \"\", \"\", \"carrot\"], \"banana\", 7),\n",
    "        ([\"apple\", \"banana\", \"carrot\", \"date\"], \"banana\", 1),\n",
    "        ([\"\", \"banana\", \"\", \"\", \"date\"], \"banana\", 1),\n",
    "        ([\"apple\", \"banana\", \"carrot\", \"date\"], \"date\", 3),\n",
    "        ([\"apple\", \"\", \"\", \"banana\", \"\", \"carrot\", \"date\"], \"banana\", 3),\n",
    "        ([\"apple\", \"banana\", \"carrot\", \"date\", \"\", \"\", \"\"], \"date\", 3),\n",
    "        ([\"\", \"\", \"apple\", \"\", \"\", \"banana\", \"\", \"\", \"carrot\", \"\", \"\", \"date\", \"\"], \"\", -1), # Searching for an empty string\n",
    "        ([\"\", \"\", \"apple\", \"\", \"\", \"banana\", \"\", \"\", \"carrot\", \"\", \"\", \"date\", \"\"], \"apple\", 2), # Edge case: first element found\n",
    "        ([\"\", \"\", \"apple\", \"\", \"\", \"banana\", \"\", \"\", \"carrot\", \"\", \"\", \"date\", \"\"], \"date\", 11), # Edge case: last element found\n",
    "    ]\n",
    "    \n",
    "    for test_case, given, expected in test_cases:\n",
    "        returned = find_string(test_case, given)\n",
    "        try:\n",
    "            assert returned == expected\n",
    "        except AssertionError:\n",
    "            print(f\"{test_case}, \\n{returned} \\n {expected}\")\n",
    "#======================================================================================\n",
    "test_()"
   ]
  },
  {
   "cell_type": "markdown",
   "metadata": {
    "heading_collapsed": true
   },
   "source": [
    "##### [69. Sqrt(x)](https://leetcode.com/problems/sqrtx/description/) (the integer square root - [EPI: 11.4]) | [neetcode](https://www.youtube.com/watch?v=zdMhGxRWutQ&list=PLQpVsaqBj4RIJdYW6Y-iAswxCZeocfoRW)"
   ]
  },
  {
   "cell_type": "markdown",
   "metadata": {},
   "source": []
  },
  {
   "cell_type": "markdown",
   "metadata": {},
   "source": [
    "Given a non-negative integer `x`, return the square root of `x` rounded down to the nearest integer. The returned integer should be non-negative as well.\n",
    "\n",
    "You must not use any built-in exponent function or operator.\n",
    "\n",
    "For example, do not use `pow(x, 0.5)` in c++ or `x ** 0.5` in python.\n",
    " \n",
    "\n",
    "\n",
    "-   `Example 1`:\n",
    "\n",
    "    -   `Input`: x = 4\n",
    "    -   `Output`: 2\n",
    "    -   `Explanation`: The square root of 4 is 2, so we return 2.\n",
    "\n",
    "-   `Example 2`:\n",
    "\n",
    "    -   `Input`: x = 8\n",
    "    -   `Output`: 2\n",
    "    -   `Explanation`: The square root of 8 is 2.82842..., and since we round it down to the nearest integer, 2 is returned."
   ]
  },
  {
   "cell_type": "markdown",
   "metadata": {},
   "source": [
    "-   Observations:\n",
    "    -   The integer square root of `𝑘` is the largest integer `x` such that $x^2 <= k$.\n",
    "    -   Integer multiplied by another integer is always an integer (`mid = (low + high) // 2`)"
   ]
  },
  {
   "cell_type": "code",
   "execution_count": 30,
   "metadata": {},
   "outputs": [],
   "source": [
    "def integer_square_root(k):\n",
    "\n",
    "    low, high = 0, k\n",
    "    # Candidate interval [low, high] where everything before low has \n",
    "    # square <= k, everything after high has square > k.\n",
    "    while low <= high:\n",
    "        mid = (low + high) // 2\n",
    "        mid_squared = mid * mid\n",
    "        if mid_squared <= k: low = mid + 1\n",
    "        else               : high = mid - 1\n",
    "    return low - 1"
   ]
  },
  {
   "cell_type": "code",
   "execution_count": 31,
   "metadata": {},
   "outputs": [],
   "source": [
    "def integer_square_root_v1(k):\n",
    "\n",
    "    low, high = 0, k\n",
    "    # Candidate interval [low, high] where everything before low has \n",
    "    # square <= k, everything after high has square > k.\n",
    "    while low <= high:\n",
    "        mid = (low + high) // 2\n",
    "        mid_squared = mid * mid\n",
    "        if   mid_squared < k: low = mid + 1\n",
    "        elif mid_squared > k: high = mid - 1\n",
    "        else               : return mid\n",
    "\n",
    "    return high"
   ]
  },
  {
   "cell_type": "markdown",
   "metadata": {},
   "source": [
    "- Time Complexity:\n",
    "    - $O(log_{2}k)$, Binary Search over the intervel [0, k]"
   ]
  },
  {
   "cell_type": "code",
   "execution_count": 33,
   "metadata": {},
   "outputs": [],
   "source": [
    "def _test_integer_square_root():\n",
    "    test_cases = [0, 1, 2, 3, 4, 7, 9, 12, 14, 19, 25, 45, 49]\n",
    "    callables = [integer_square_root, integer_square_root_v1]\n",
    "\n",
    "    for test_case in test_cases:\n",
    "        for f in callables:\n",
    "            returned1 = f(test_case)\n",
    "            expected = math.floor(math.sqrt(test_case))\n",
    "\n",
    "            try:\n",
    "                assert returned1 == expected\n",
    "            except:\n",
    "                print(f\"{f.__name__}({test_case}), {returned1}, {expected}\")\n",
    "            \n",
    "_test_integer_square_root()"
   ]
  },
  {
   "cell_type": "markdown",
   "metadata": {
    "heading_collapsed": true
   },
   "source": [
    "##### Compute the real square root. [EPI: 11.5]"
   ]
  },
  {
   "cell_type": "markdown",
   "metadata": {
    "hidden": true
   },
   "source": [
    "- Time Complexity:\n",
    "    - $O(log_{2}\\frac{x}{s})$\n",
    "    - s is the tolarance"
   ]
  },
  {
   "cell_type": "markdown",
   "metadata": {},
   "source": [
    "-   Observations:\n",
    "    -   The Real square root of `𝑘` is the largest floot `x` such that $x^2 <= k$.\n",
    "    -   Proper Fration multiplied by another Proper Fraction is even smaller Proper Fraction (`0 < k < 1`)."
   ]
  },
  {
   "cell_type": "code",
   "execution_count": null,
   "metadata": {},
   "outputs": [],
   "source": [
    "def real_square_root(k):\n",
    "\n",
    "    # Decides the search range according to k's value relative to 1.0.\n",
    "    left, right = (k, 1.0) if k < 1.0 else (1.0, k)\n",
    "\n",
    "    # Keeps searching as long as left != right.\n",
    "    while not math.isclose(left, right):\n",
    "        mid = (left + right)/2\n",
    "        mid_squared = mid * mid\n",
    "        \n",
    "        if mid_squared <= k : left = mid\n",
    "        else                : right = mid\n",
    "    return left"
   ]
  },
  {
   "cell_type": "code",
   "execution_count": 28,
   "metadata": {},
   "outputs": [],
   "source": [
    "def square_root(k):\n",
    "    # Decides the search range according to k's value relative to 1.0.\n",
    "    left, right = (k, 1.0) if k < 1.0 else (1.0, k)\n",
    "    # Keeps searching as long as left != right.\n",
    "    while not math.isclose(left, right):\n",
    "        mid = 0.5 * (left + right)\n",
    "        mid_squared = mid * mid\n",
    "        if mid_squared > k: right = mid\n",
    "        else              : left = mid\n",
    "    return left"
   ]
  },
  {
   "cell_type": "code",
   "execution_count": 38,
   "metadata": {
    "hidden": true
   },
   "outputs": [],
   "source": [
    "def _test_real_square_root():\n",
    "    test_cases = [1, 2, 4, 9, 16, 25, 49, 50]\n",
    "    callables = [square_root] + [real_square_root]\n",
    "\n",
    "    for test_case in test_cases:\n",
    "        for f in callables:\n",
    "            returned1 = f(test_case)\n",
    "            try:\n",
    "                expected = math.sqrt(test_case)\n",
    "                # print(f\"{f.__name__}({test_case}), {returned1}, {expected}\")\n",
    "                assert round(returned1) == round(expected)\n",
    "            except:\n",
    "                print(f\"{f.__name__}({test_case}), {returned1}, {expected}\")\n",
    "            \n",
    "_test_real_square_root()"
   ]
  },
  {
   "cell_type": "markdown",
   "metadata": {
    "heading_collapsed": true
   },
   "source": [
    "##### Search in a 2D sorted array. [EPI: 11.6]"
   ]
  },
  {
   "cell_type": "code",
   "execution_count": null,
   "metadata": {
    "hidden": true
   },
   "outputs": [],
   "source": [
    "def matrix_search(A, x):\n",
    "\n",
    "    row, col = 0, len(A[0]) - 1  # Start from the top-right corner.\n",
    "\n",
    "    # Keeps searching while there are unclassified rows and columns.\n",
    "    while row < len(A) and col >= 0:\n",
    "        if   A[row][col] < x: row += 1  # Eliminate this row.\n",
    "        elif A[row][col] > x: col -= 1  # Eliminate this column.\n",
    "        else                : return True\n",
    "\n",
    "    return False"
   ]
  },
  {
   "cell_type": "markdown",
   "metadata": {
    "heading_collapsed": true
   },
   "source": [
    "##### Find the min and max simultaneously. [EPI: 11.7]"
   ]
  },
  {
   "cell_type": "code",
   "execution_count": null,
   "metadata": {
    "hidden": true
   },
   "outputs": [],
   "source": [
    "MinMax = collections.namedtuple('MinMax', ('smallest', 'largest'))\n",
    "\n",
    "def find_min_max(A, MinMax):\n",
    "    def min_max(a, b):\n",
    "        return MinMax(a, b) if a < b else MinMax(b, a)\n",
    "\n",
    "    if len(A) <= 1:\n",
    "        return MinMax(A[0], A[0])\n",
    "\n",
    "    global_min_max = min_max(A[0], A[1])\n",
    "    # Process two elements at a time.\n",
    "    for i in range(2, len(A) - 1, 2):\n",
    "        local_min_max = min_max(A[i], A[i + 1])\n",
    "        global_min_max = MinMax(\n",
    "            min(global_min_max.smallest, local_min_max.smallest),\n",
    "            max(global_min_max.largest, local_min_max.largest))\n",
    "    # If there is odd number of elements in the array, we still need to\n",
    "    # compare the last element with the existing answer.\n",
    "    if len(A) % 2:\n",
    "        global_min_max = MinMax(\n",
    "            min(global_min_max.smallest, A[-1]),\n",
    "            max(global_min_max.largest, A[-1]))\n",
    "    return global_min_max\n",
    "\n",
    "def _test_find_min_max():\n",
    "    A = []\n",
    "    MinMax = collections.namedtuple('MinMax', ('smallest', 'largest'))\n",
    "    find_min_max(A, MinMax)"
   ]
  },
  {
   "cell_type": "markdown",
   "metadata": {
    "heading_collapsed": true
   },
   "source": [
    "##### Find the kth largest element. [EPI: 11.8]"
   ]
  },
  {
   "cell_type": "markdown",
   "metadata": {
    "hidden": true
   },
   "source": [
    "Design an algorithm for computing the kth largest element in an array. <b style=\"color:red\">Assume entries are distinct</b>.\n",
    "\n",
    "`Hint`: Use divide and conquer in conjunction with randomization."
   ]
  },
  {
   "cell_type": "code",
   "execution_count": 1,
   "metadata": {
    "hidden": true
   },
   "outputs": [],
   "source": [
    "def find_kth_largest(nums, k):\n",
    "    min_heap = nums[:k]      # Initialize a min heap with the first k elements\n",
    "    heapq.heapify(min_heap)  # Convert the list into a min heap\n",
    "\n",
    "    for num in nums[k:]:\n",
    "        if num > min_heap[0]:\n",
    "            heapq.heappop(min_heap)\n",
    "            heapq.heappush(min_heap, num)\n",
    "\n",
    "    return min_heap[0]  # The root of the heap is the kth largest element"
   ]
  },
  {
   "cell_type": "markdown",
   "metadata": {
    "hidden": true
   },
   "source": [
    "- The time complexity of finding the kth largest element using Heap is $O(n \\cdot log_2 k)$\n",
    "- The space complexity is $O(k)$"
   ]
  },
  {
   "cell_type": "code",
   "execution_count": 14,
   "metadata": {
    "code_folding": [
     5
    ],
    "hidden": true
   },
   "outputs": [],
   "source": [
    "def find_kth_largest(A, k):\n",
    "    def find_kth(comp):\n",
    "        def partition_around_pivot(left, right, pivot_idx):\n",
    "            pivot_value = A[pivot_idx]\n",
    "            new_pivot_idx = left\n",
    "            A[pivot_idx], A[right] = A[right], A[pivot_idx]\n",
    "            \n",
    "            for i in range(left, right):\n",
    "                if comp(A[i], pivot_value):\n",
    "                    A[i], A[new_pivot_idx] = A[new_pivot_idx], A[i]\n",
    "                    new_pivot_idx += 1\n",
    "            A[right], A[new_pivot_idx] = A[new_pivot_idx], A[right]\n",
    "            \n",
    "            return new_pivot_idx\n",
    "\n",
    "\n",
    "        left, right = 0, len(A) - 1\n",
    "        while left <= right:\n",
    "            # Generates a random integer in [left, right].\n",
    "            pivot_idx = randint(left, right)\n",
    "            new_pivot_idx = partition_around_pivot(left, right, pivot_idx)\n",
    "\n",
    "            if new_pivot_idx   < k - 1: left = new_pivot_idx + 1\n",
    "            elif new_pivot_idx > k - 1: right = new_pivot_idx - 1\n",
    "            else                      : return A[new_pivot_idx]\n",
    "                \n",
    "\n",
    "        raise IndexError('no k-th node in array A')\n",
    "\n",
    "    return find_kth(operator.gt)"
   ]
  },
  {
   "cell_type": "code",
   "execution_count": 15,
   "metadata": {
    "hidden": true
   },
   "outputs": [
    {
     "name": "stdout",
     "output_type": "stream",
     "text": [
      "The 3th largest element is: 5\n"
     ]
    }
   ],
   "source": [
    "# Example usage\n",
    "nums = [3, 1, 4, 1, 5, 9, 2, 6]\n",
    "k = 3\n",
    "kth_largest = find_kth_largest(nums, k)\n",
    "print(f\"The {k}th largest element is: {kth_largest}\")"
   ]
  },
  {
   "cell_type": "code",
   "execution_count": null,
   "metadata": {
    "code_folding": [],
    "hidden": true
   },
   "outputs": [],
   "source": [
    "def find_kth_smallest(k, A):\n",
    "    def find_kth(comp):\n",
    "        def partition_around_pivot(left, right, pivot_idx):\n",
    "            pivot_value = A[pivot_idx]\n",
    "            new_pivot_idx = left\n",
    "            \n",
    "            A[pivot_idx], A[right] = A[right], A[pivot_idx]\n",
    "            \n",
    "            for i in range(left, right):\n",
    "                if comp(A[i], pivot_value):\n",
    "                    A[i], A[new_pivot_idx] = A[new_pivot_idx], A[i]\n",
    "                    new_pivot_idx += 1\n",
    "            \n",
    "            A[right], A[new_pivot_idx] = A[new_pivot_idx], A[right]\n",
    "            return new_pivot_idx\n",
    "\n",
    "        left, right = 0, len(A) - 1\n",
    "        while left <= right:\n",
    "            # Generates a random integer in [left, right].\n",
    "            pivot_idx = randint(left, right)\n",
    "            new_pivot_idx = partition_around_pivot(left, right, pivot_idx)\n",
    "            if   new_pivot_idx < k - 1: left = new_pivot_idx + 1\n",
    "            elif new_pivot_idx > k - 1: right = new_pivot_idx - 1\n",
    "            else                      : return A[new_pivot_idx] # new_pivot_idx == k - 1.\n",
    "        \n",
    "        raise IndexError('no k-th node in array A')\n",
    "\n",
    "    return find_kth(operator.lt)"
   ]
  },
  {
   "cell_type": "markdown",
   "metadata": {
    "hidden": true
   },
   "source": [
    "Since we expect to reduce the number of elements to process by roughly half, the average time complexity $T(n)$ satisfies $T(n) = 0(n) + T(n/2)$. This solves to $T(n) = 0(n)$. The space complexity is $O(1)$. The worst-case time complexity is $O(n^2)$, which occurs when the randomly selected pivot is the smallest or largest element in the current subarray. The probability of the worst-case reduces exponentially with the length of the input array, and the worst-case is a nonissue in practice. For this reason, the randomize selection algorithm is sometimes said to have almost certain $O(n)$ time complexity."
   ]
  },
  {
   "cell_type": "markdown",
   "metadata": {
    "heading_collapsed": true,
    "hidden": true
   },
   "source": [
    "###### Design an algorithm for finding the kth largest element of A in the presence of <b style=\"color:red\">duplicates</b>. The kth largest element is defined to be `A[k-1]` after A has been sorted in a stable manner, i.e., if `A[i] = A[j]` and `i < j` then `A[i]` must appear before `A[j]` after stable sorting."
   ]
  },
  {
   "cell_type": "code",
   "execution_count": 16,
   "metadata": {
    "hidden": true
   },
   "outputs": [],
   "source": [
    "def partition(arr, low, high):\n",
    "    pivot_index = randint(low, high)\n",
    "    pivot = arr[pivot_index]\n",
    "    \n",
    "    # Move pivot to end\n",
    "    arr[pivot_index], arr[high] = arr[high], arr[pivot_index]\n",
    "    store_index = low\n",
    "    \n",
    "    for i in range(low, high):\n",
    "        if arr[i] > pivot:\n",
    "            arr[store_index], arr[i] = arr[i], arr[store_index]\n",
    "            store_index += 1\n",
    "    \n",
    "    # Move pivot to its final place\n",
    "    arr[store_index], arr[high] = arr[high], arr[store_index]\n",
    "    \n",
    "    return store_index\n",
    "\n",
    "def quickselect(arr, low, high, k):\n",
    "    if low == high: return arr[low]\n",
    "    \n",
    "    pivot_index = partition(arr, low, high)\n",
    "    \n",
    "    if k == pivot_index: return arr[k]\n",
    "    elif k < pivot_index: return quickselect(arr, low, pivot_index - 1, k)\n",
    "    else: return quickselect(arr, pivot_index + 1, high, k)\n",
    "\n",
    "def find_kth_largest(arr, k):\n",
    "    return quickselect(arr, 0, len(arr) - 1, k - 1)"
   ]
  },
  {
   "cell_type": "code",
   "execution_count": 19,
   "metadata": {
    "hidden": true
   },
   "outputs": [
    {
     "name": "stdout",
     "output_type": "stream",
     "text": [
      "5\n",
      "4\n"
     ]
    }
   ],
   "source": [
    "# Test cases\n",
    "arr1 = [3, 2, 1, 5, 6, 4]\n",
    "k1 = 2\n",
    "print(find_kth_largest(arr1, k1))  # Output: 5\n",
    "\n",
    "arr2 = [3,2,3,1,2,4,5,5,6]\n",
    "k2 = 4\n",
    "print(find_kth_largest(arr2, k2))  # Output: 4"
   ]
  },
  {
   "cell_type": "code",
   "execution_count": 12,
   "metadata": {
    "hidden": true
   },
   "outputs": [
    {
     "name": "stdout",
     "output_type": "stream",
     "text": [
      "6\n"
     ]
    }
   ],
   "source": [
    "def find_kth_largest(A, k):\n",
    "    # Step 1: Sort the array in descending order using a stable sorting algorithm\n",
    "    sorted_A = sorted(A, reverse=True)\n",
    "    \n",
    "    # Step 2: Return the k-th largest element (1-based index, so access k-1)\n",
    "    return sorted_A[k-1]\n",
    "\n",
    "# Example Usage\n",
    "A = [3, 2, 1, 5, 6, 4, 5, 6]\n",
    "k = 2\n",
    "print(find_kth_largest(A, k))  # Output: 5\n"
   ]
  },
  {
   "cell_type": "markdown",
   "metadata": {
    "heading_collapsed": true
   },
   "source": [
    "##### <b style='color:red'>Find the missing IP address. [EPI: 11.9]</b>"
   ]
  },
  {
   "cell_type": "code",
   "execution_count": null,
   "metadata": {
    "hidden": true
   },
   "outputs": [],
   "source": [
    "def find_missing_element(stream):\n",
    "\n",
    "    NUM_BUCKET = 1 << 16\n",
    "    counter = [0] * NUM_BUCKET\n",
    "    stream, stream_copy = itertools.tee(stream)\n",
    "    for x in stream:\n",
    "        upper_part_x = x >> 16\n",
    "        counter[upper_part_x] += 1\n",
    "\n",
    "    # Look for a bucket that contains less than (1 << 16) elements.\n",
    "    BUCKET_CAPACITY = 1 << 16\n",
    "    candidate_bucket = next(\n",
    "        i for i, c in enumerate(counter) if c < BUCKET_CAPACITY)\n",
    "\n",
    "    # Finds all IP addresses in the stream whose first 16 bits are equal to\n",
    "    # candidate_bucket.\n",
    "    candidates = [0] * BUCKET_CAPACITY\n",
    "    stream = stream_copy\n",
    "    for x in stream_copy:\n",
    "        upper_part_x = x >> 16\n",
    "        if candidate_bucket == upper_part_x:\n",
    "            # Records the presence of 16 LSB of x.\n",
    "            lower_part_x = ((1 << 16) - 1) & x\n",
    "            candidates[lower_part_x] = 1\n",
    "\n",
    "    # At least one of the LSB combinations is absent, find it.\n",
    "    for i, v in enumerate(candidates):\n",
    "        if v == 0:\n",
    "            return (candidate_bucket << 16) | i\n",
    "\n",
    "    raise ValueError('no missing element')"
   ]
  },
  {
   "cell_type": "markdown",
   "metadata": {
    "heading_collapsed": true
   },
   "source": [
    "##### <b style='color:red'>Find the duplicate and missing elements. [EPI: 11.10]</b>"
   ]
  },
  {
   "cell_type": "markdown",
   "metadata": {
    "hidden": true
   },
   "source": [
    "You are given an array of `n` integers, each between `0` and `n-1`, inclusive. Exactly one element appears twice, implying that exactly one number between `0` and `n-1` is missing from the array. How would you compute the duplicate and missing numbers."
   ]
  },
  {
   "cell_type": "code",
   "execution_count": 27,
   "metadata": {
    "code_folding": [],
    "hidden": true
   },
   "outputs": [],
   "source": [
    "def find_duplicate_missing(A, DuplicateAndMissing):\n",
    "\n",
    "    # Compute the XOR of all numbers from 0 to |A| - 1 and all entries in A.\n",
    "    miss_XOR_dup = reduce(lambda v, i: v ^ i[0] ^ i[1], enumerate(A),\n",
    "                                    0)\n",
    "\n",
    "    # We need to find a bit that's set to 1 in miss_XOR_dup. Such a bit must\n",
    "    # exist if there is a single missing number and a single duplicated number\n",
    "    # in A.\n",
    "    #\n",
    "    # The bit-fiddling assignment below sets all of bits in differ_bit\n",
    "    # to 0 except for the least significant bit in miss_XOR_dup that's 1.\n",
    "    differ_bit, miss_or_dup = miss_XOR_dup & (~(miss_XOR_dup - 1)), 0\n",
    "    for i, a in enumerate(A):\n",
    "        # Focus on entries and numbers in which the differ_bit-th bit is 1.\n",
    "        if i & differ_bit:\n",
    "            miss_or_dup ^= i\n",
    "        if a & differ_bit:\n",
    "            miss_or_dup ^= a\n",
    "\n",
    "    # miss_or_dup is either the missing value or the duplicated entry.\n",
    "    # If miss_or_dup is in A, miss_or_dup is the duplicate;\n",
    "    # otherwise, miss_or_dup is the missing value.\n",
    "    return (DuplicateAndMissing(miss_or_dup, miss_or_dup ^ miss_XOR_dup)\n",
    "            if miss_or_dup in A else DuplicateAndMissing(\n",
    "                miss_or_dup ^ miss_XOR_dup, miss_or_dup))"
   ]
  },
  {
   "cell_type": "code",
   "execution_count": 28,
   "metadata": {
    "hidden": true
   },
   "outputs": [],
   "source": [
    "def _test_find_duplicate_missing():\n",
    "    A = []\n",
    "    DupAndMissing = namedtuple('DuplicateAndMissing', ('duplicate', 'missing'))\n",
    "    find_duplicate_missing(A, DupAndMissing)"
   ]
  },
  {
   "cell_type": "code",
   "execution_count": 29,
   "metadata": {
    "hidden": true
   },
   "outputs": [],
   "source": [
    "_test_find_duplicate_missing()"
   ]
  },
  {
   "cell_type": "markdown",
   "metadata": {},
   "source": [
    "## Collected"
   ]
  },
  {
   "cell_type": "markdown",
   "metadata": {
    "heading_collapsed": true,
    "hidden": true
   },
   "source": [
    "##### [268. Missing Number](https://leetcode.com/problems/missing-number/) [E]"
   ]
  },
  {
   "cell_type": "markdown",
   "metadata": {
    "hidden": true
   },
   "source": [
    "Given an array nums containing n distinct numbers in the range [0, n], return the only number in the range that is missing from the array.\n",
    "\n",
    " \n",
    "\n",
    "- Example 1:\n",
    "    - Input: nums = [3,0,1]\n",
    "    - Output: 2\n",
    "    - Explanation: n = 3 since there are 3 numbers, so all numbers are in the range [0,3]. 2 is the missing number in the range since it does not appear in nums.\n",
    "\n",
    "- Example 2:\n",
    "    - Input: nums = [0,1]\n",
    "    - Output: 2\n",
    "    - Explanation: n = 2 since there are 2 numbers, so all numbers are in the range [0,2]. 2 is the missing number in the range since it does not appear in nums.\n",
    "    \n",
    "- Example 3:\n",
    "    - Input: nums = [9,6,4,2,3,5,7,0,1]\n",
    "    - Output: 8\n",
    "    - Explanation: n = 9 since there are 9 numbers, so all numbers are in the range [0,9]. 8 is the missing number in the range since it does not appear in nums."
   ]
  },
  {
   "cell_type": "markdown",
   "metadata": {
    "heading_collapsed": true,
    "hidden": true
   },
   "source": [
    "##### [287. Find the Duplicate Number](https://leetcode.com/problems/find-the-duplicate-number/) [M] | [neetcode](https://www.youtube.com/watch?v=wjYnzkAhcNk)"
   ]
  },
  {
   "cell_type": "markdown",
   "metadata": {
    "hidden": true
   },
   "source": [
    "Given an array of integers `nums` containing `n + 1` integers where each integer is in the range `[1, n]` inclusive.\n",
    "\n",
    "There is only one repeated number in nums, return this repeated number.\n",
    "\n",
    "You must solve the problem without modifying the array nums and uses only constant extra space.\n",
    "\n",
    " \n",
    "\n",
    "- Example 1:\n",
    "    - Input: nums = [1,3,4,2,2]\n",
    "    - Output: 2\n",
    "- Example 2:\n",
    "    - Input: nums = [3,1,3,4,2]\n",
    "    - Output: 3\n",
    " \n",
    "\n",
    "- Constraints:\n",
    "    - 1 <= n <= 105\n",
    "    - nums.length == n + 1\n",
    "    - 1 <= nums[i] <= n\n",
    "    - All the integers in nums appear only once except for precisely one integer which appears two or more times.\n",
    " \n",
    "\n",
    "Follow up:\n",
    "\n",
    "How can we prove that at least one duplicate number must exist in nums?\n",
    "Can you solve the problem in linear runtime complexity?"
   ]
  },
  {
   "cell_type": "code",
   "execution_count": null,
   "metadata": {
    "hidden": true
   },
   "outputs": [],
   "source": [
    "# NOT PASSED!!\n",
    "def find_the_duplicate(a):\n",
    "    N = len(a)\n",
    "    i = 0\n",
    "    \n",
    "    while i < N:\n",
    "        if a[i] == i+1: i += 1\n",
    "        else:\n",
    "            if a[i] == a[a[i]-1]: return a[i]\n",
    "            else: \n",
    "                swap(a, i, a[i]-1)\n",
    "                i += 1\n",
    "    return -1"
   ]
  },
  {
   "cell_type": "code",
   "execution_count": null,
   "metadata": {},
   "outputs": [],
   "source": [
    "def find_duplicate(nums: List[int]) -> int:\n",
    "    slow, fast = 0, 0\n",
    "    while True:\n",
    "        slow = nums[slow]\n",
    "        fast = nums[nums[fast]]\n",
    "        if slow == fast:\n",
    "            break\n",
    "\n",
    "    slow2 = 0\n",
    "    while True:\n",
    "        slow = nums[slow]\n",
    "        slow2 = nums[slow2]\n",
    "        if slow == slow2:\n",
    "            return slow"
   ]
  },
  {
   "cell_type": "markdown",
   "metadata": {
    "heading_collapsed": true,
    "hidden": true
   },
   "source": [
    "##### [442. Find All Duplicates in an Array](https://leetcode.com/problems/find-all-duplicates-in-an-array/) [M] | [neetcode](https://www.youtube.com/watch?v=Y8x0iAVEITo)"
   ]
  },
  {
   "cell_type": "markdown",
   "metadata": {
    "hidden": true
   },
   "source": [
    "Given an integer array `nums` of length `n` where all the integers of `nums` are in the range [1, n] and each integer appears once or twice, return an array of all the integers that appears twice.\n",
    "\n",
    "You must write an algorithm that runs in $O(n)$ time and uses only constant extra space.\n",
    "\n",
    "- Example 1:\n",
    "    - Input: nums = [4,3,2,7,8,2,3,1]\n",
    "    - Output: [2,3]\n",
    "- Example 2:\n",
    "    - Input: nums = [1,1,2]\n",
    "    - Output: [1]\n",
    "- Example 3:\n",
    "    - Input: nums = [1]\n",
    "    - Output: []\n",
    " \n",
    "- Constraints:\n",
    "    - n == nums.length\n",
    "    - 1 <= n <= 105\n",
    "    - 1 <= nums[i] <= n\n",
    "    - Each element in nums appears once or twice."
   ]
  },
  {
   "cell_type": "code",
   "execution_count": null,
   "metadata": {
    "hidden": true
   },
   "outputs": [],
   "source": [
    "# EXCEEDS TIME LIMITS !!\n",
    "def find_all_duplicates(a):\n",
    "    N = len(a)\n",
    "    i = 0\n",
    "    while i < N:\n",
    "        if a[i] == a[a[i]-1]: i += 1\n",
    "        else: \n",
    "            swap(a, i, a[i]-1)\n",
    "            i += 1\n",
    "            \n",
    "    return [x for i, x in enumerate(nums) if x != i + 1]"
   ]
  },
  {
   "cell_type": "code",
   "execution_count": 25,
   "metadata": {
    "hidden": true
   },
   "outputs": [],
   "source": [
    "def find_duplicates(nums: List[int]) -> List[int]:\n",
    "    for i in range(len(nums)):\n",
    "        while nums[i] != nums[nums[i] - 1]:\n",
    "            j = nums[i] - 1\n",
    "            nums[i], nums[j] = nums[j], nums[i]\n",
    "    \n",
    "    return [x for i, x in enumerate(nums) if x != i + 1]"
   ]
  },
  {
   "cell_type": "code",
   "execution_count": null,
   "metadata": {},
   "outputs": [],
   "source": [
    "class Solution:\n",
    "    def findDuplicates(self, nums: List[int]) -> List[int]:\n",
    "        res = []\n",
    "\n",
    "        for n in nums:\n",
    "            n = abs(n)\n",
    "            if nums[n - 1] < 0: res.append(n)\n",
    "            nums[n - 1] = -nums[n - 1]\n",
    "        \n",
    "        return res"
   ]
  },
  {
   "cell_type": "code",
   "execution_count": null,
   "metadata": {
    "hidden": true
   },
   "outputs": [],
   "source": [
    "def _test_find_duplicates():\n",
    "    for _ in range(10):\n",
    "        "
   ]
  },
  {
   "cell_type": "markdown",
   "metadata": {},
   "source": [
    "##### [875. Koko Eating Bananas](https://leetcode.com/problems/koko-eating-bananas/description/) [M] | [neetcode](https://www.youtube.com/watch?v=U2SozAs9RzA)"
   ]
  },
  {
   "cell_type": "markdown",
   "metadata": {},
   "source": [
    "Koko loves to eat bananas. There are `n` piles of bananas, the ith pile has `piles[i]` bananas. The guards have gone and will come back in `h` hours.\n",
    "\n",
    "Koko can decide her bananas-per-hour eating speed of `k`. Each hour, she chooses some pile of bananas and eats `k` bananas from that pile. If the pile has less than `k` bananas, she eats all of them instead and will not eat any more bananas during this hour.\n",
    "\n",
    "Koko likes to eat slowly but still wants to finish eating all the bananas before the guards return.\n",
    "\n",
    "Return the minimum integer `k` such that she can eat all the bananas within `h` hours.\n",
    "\n",
    " \n",
    "\n",
    "\n",
    "-   `Example 1`:\n",
    "\n",
    "    -   `Input`: piles = [3,6,7,11], h = 8\n",
    "    -   `Output`: 4\n",
    "\n",
    "-   `Example 2`:\n",
    "\n",
    "    -   `Input`: piles = [30,11,23,4,20], h = 5\n",
    "    -   `Output`: 30\n",
    "\n",
    "-   `Example 3`:\n",
    "\n",
    "    -   `Input`: piles = [30,11,23,4,20], h = 6\n",
    "    -   `Output`: 23\n",
    " \n",
    "\n",
    "-   `Constraints`:\n",
    "\n",
    "    -   $1 <= piles.length <= 10^4$\n",
    "    -   $piles.length <= h <= 10^9$\n",
    "    -   $1 <= piles[i] <= 10^9$"
   ]
  },
  {
   "cell_type": "markdown",
   "metadata": {},
   "source": [
    "<b style=\"color:red\">NOTE</b>: $piles.length <= h$"
   ]
  },
  {
   "cell_type": "code",
   "execution_count": 78,
   "metadata": {},
   "outputs": [],
   "source": [
    "# PASSED IN LEETCODE TEST.\n",
    "def min_eating_speed(piles: List[int], h: int) -> int:\n",
    "    l, r = 1, max(piles)\n",
    "    res = r\n",
    "\n",
    "    while l <= r:\n",
    "        k = (l + r) // 2\n",
    "\n",
    "        totalTime = 0\n",
    "        for p in piles:\n",
    "            totalTime += math.ceil(float(p) / k)\n",
    "        \n",
    "        if totalTime <= h:\n",
    "            res = k\n",
    "            r = k - 1\n",
    "        else:\n",
    "            l = k + 1\n",
    "    return res"
   ]
  },
  {
   "cell_type": "code",
   "execution_count": 84,
   "metadata": {},
   "outputs": [],
   "source": [
    "def min_eating_speed_brute_force(piles: List[int], h: int) -> int:\n",
    "\n",
    "    for k in range(1, max(piles)+1):\n",
    "        total_time = 0\n",
    "        for p in piles:\n",
    "            total_time += math.ceil(float(p) / k)\n",
    "            if total_time > h: break\n",
    "        \n",
    "        if total_time <= h: return k\n",
    "    \n",
    "    return -1"
   ]
  },
  {
   "cell_type": "code",
   "execution_count": 85,
   "metadata": {},
   "outputs": [
    {
     "name": "stdout",
     "output_type": "stream",
     "text": [
      "min_eating_speed([17, 8]), 4, 4\n",
      "min_eating_speed([3]), 3, 3\n",
      "min_eating_speed([0, 9, 13, 4, 12]), 7, 7\n",
      "min_eating_speed([1, 15, 6, 17, 12, 8, 19, 19]), 12, 12\n",
      "min_eating_speed([7, 20, 3, 6, 20, 18]), 10, 10\n",
      "min_eating_speed([7, 8, 1, 14, 20, 3, 15, 3, 1, 0]), 7, 7\n",
      "min_eating_speed([6]), 1, 1\n",
      "min_eating_speed([10, 12, 5]), 5, 5\n",
      "min_eating_speed([14, 14, 11, 18, 1, 6, 8, 3]), 11, 11\n",
      "min_eating_speed([19]), 7, 7\n",
      "min_eating_speed([7]), 4, 4\n",
      "min_eating_speed([9, 14, 2, 20, 9, 10, 11, 12, 11]), 11, 11\n",
      "min_eating_speed([3, 20]), 5, 5\n",
      "min_eating_speed([5, 13, 14, 16, 19, 5]), 10, 10\n",
      "min_eating_speed([7, 20, 8, 4, 20, 16, 0, 16, 9]), 10, 10\n",
      "min_eating_speed([2, 1, 0, 18, 15, 10, 18]), 18, 18\n",
      "min_eating_speed([3, 0]), 1, 1\n",
      "min_eating_speed([1, 0]), 1, 1\n",
      "min_eating_speed([16, 2, 5, 12, 8]), 6, 6\n",
      "min_eating_speed([12, 10, 2, 16, 17, 8, 7, 12, 3]), 10, 10\n"
     ]
    }
   ],
   "source": [
    "def _test_real_square_root():\n",
    "\n",
    "    for _ in range(20):\n",
    "        piles = [randint(0, 20) for _ in range(randint(1, 10))]\n",
    "        h = randint(len(piles), len(piles)+5)\n",
    "\n",
    "        expected = min_eating_speed(piles, h)\n",
    "        returned2 = min_eating_speed_brute_force(piles, h)\n",
    "        # print(f\"{min_eating_speed.__name__}({piles}), {expected}, {returned2}\")\n",
    "        # test_cases.append((piles, h))\n",
    "        # expecteds.append(expected)\n",
    "\n",
    "        try:\n",
    "\n",
    "            assert expected == min_eating_speed_brute_force(piles, h)\n",
    "            print(f\"{min_eating_speed.__name__}({piles}), {expected}, {returned2}\")\n",
    "        except:\n",
    "            print(f\"{min_eating_speed.__name__}({piles}), {expected}, {returned2}\")\n",
    "            \n",
    "_test_real_square_root()\n"
   ]
  },
  {
   "cell_type": "markdown",
   "metadata": {},
   "source": [
    "##### [981. Time Based Key-Value Store](https://leetcode.com/problems/time-based-key-value-store/description/) | [neetcode](https://www.youtube.com/watch?v=fu2cD_6E8Hw)"
   ]
  },
  {
   "cell_type": "markdown",
   "metadata": {},
   "source": [
    "Design a time-based key-value data structure that can store multiple values for the same key at different time stamps and retrieve the key's value at a certain timestamp.\n",
    "\n",
    "-   Implement the `TimeMap` class:\n",
    "\n",
    "    -   `TimeMap()` -> Initializes the object of the data structure.\n",
    "    -   `void set(String key, String value, int timestamp)` -> Stores the key `key` with the value `value` at the given time timestamp.\n",
    "    -   `String get(String key, int timestamp)` -> Returns a value such that `set` was called previously, with `timestamp_prev <= timestamp`. If there are multiple such values, it returns the value associated with the largest `timestamp_prev`. If there are no values, it returns `\"\"`.\n",
    " \n",
    "\n",
    "-   `Example 1`:\n",
    "\n",
    "    -   `Input`\n",
    "        -   [\"TimeMap\", \"set\", \"get\", \"get\", \"set\", \"get\", \"get\"]\n",
    "        -   [[], [\"foo\", \"bar\", 1], [\"foo\", 1], [\"foo\", 3], [\"foo\", \"bar2\", 4], [\"foo\", 4], [\"foo\", 5]]\n",
    "    -   `Output`\n",
    "        -   [null, null, \"bar\", \"bar\", null, \"bar2\", \"bar2\"]\n",
    "\n",
    "    -   `Explanation`\n",
    "        -   `TimeMap timeMap = new TimeMap();`\n",
    "        -   `timeMap.set(\"foo\", \"bar\", 1);`  // store the key \"foo\" and value \"bar\" along with timestamp = 1.\n",
    "        -   `timeMap.get(\"foo\", 1);`         // return \"bar\"\n",
    "        -   `timeMap.get(\"foo\", 3);`         // return \"bar\", since there is no value corresponding to foo at timestamp 3 and timestamp 2, then the only value is at timestamp 1 is \"bar\".\n",
    "        -   `timeMap.set(\"foo\", \"bar2\", 4);` // store the key \"foo\" and value \"bar2\" along with timestamp = 4.\n",
    "        -   `timeMap.get(\"foo\", 4);`         // return \"bar2\"\n",
    "        -   `timeMap.get(\"foo\", 5);`         // return \"bar2\"\n",
    " \n",
    "\n",
    "-   `Constraints`:\n",
    "\n",
    "    -   $1 <= key.length, value.length <= 100$\n",
    "    -   `key` and `value` consist of lowercase English letters and digits.\n",
    "    -   $1 <= timestamp <= 10^7$\n",
    "    -   All the timestamps `timestamp` of `set` are strictly increasing.\n",
    "    -   At most $2 * 10^5$ calls will be made to `set` and `get`."
   ]
  },
  {
   "cell_type": "code",
   "execution_count": null,
   "metadata": {},
   "outputs": [],
   "source": [
    "class TimeMap:\n",
    "    def __init__(self):\n",
    "        \"\"\"\n",
    "        Initialize your data structure here.\n",
    "        \"\"\"\n",
    "        self.keyStore = {}  # key : list of [val, timestamp]\n",
    "\n",
    "    def set(self, key: str, value: str, timestamp: int) -> None:\n",
    "        if key not in self.keyStore: self.keyStore[key] = []\n",
    "        self.keyStore[key].append([value, timestamp])\n",
    "\n",
    "    def get(self, key: str, timestamp: int) -> str:\n",
    "        res, values = \"\", self.keyStore.get(key, [])\n",
    "        l, r = 0, len(values)-1\n",
    "        \n",
    "        while l <= r:\n",
    "            m = (l + r) // 2\n",
    "            if values[m][1] <= timestamp:\n",
    "                res = values[m][0]\n",
    "                l = m + 1\n",
    "            else:\n",
    "                r = m - 1\n",
    "        return res"
   ]
  },
  {
   "cell_type": "markdown",
   "metadata": {
    "heading_collapsed": true
   },
   "source": [
    "##### Find the root of a given function  using Successive Approximation (Newton's Method). [MIT6.00SC: PS2]"
   ]
  },
  {
   "cell_type": "code",
   "execution_count": 19,
   "metadata": {
    "hidden": true
   },
   "outputs": [],
   "source": [
    "   \n",
    "def evaluate_poly(poly: list, x: Union[int, float]) -> float:\n",
    "    '''Computes the value of the polynomial (poly) function at given value x.\n",
    "    \n",
    "    Args:\n",
    "        poly:    list of numbers, (len(poly) > 0).\n",
    "        x:       number\n",
    "    Returns:\n",
    "        f(x): the value of the specified polynomial at x.\n",
    "    '''\n",
    "    f_of_x = 0.0  #  --> f(x), the value of 'poly' at x.\n",
    "    for i in range(len(poly)):\n",
    "        f_of_x += poly[i] * (x ** i)\n",
    "    return f_of_x"
   ]
  },
  {
   "cell_type": "code",
   "execution_count": 20,
   "metadata": {
    "hidden": true
   },
   "outputs": [],
   "source": [
    "def compute_deriv(poly) -> List[Union[int, float]]:\n",
    "    '''Computes and returns the derivative of a polynomial function. If the\n",
    "       derivative is 0, returns [0.0].\n",
    "    \n",
    "    Args:\n",
    "        poly: list of numbers, (len(poly) > 0).\n",
    "    '''\n",
    "    f_prime_of_x = []\n",
    "    if len(poly) < 2:\n",
    "        return [0.0]\n",
    "    for j in range(1, len(poly)):\n",
    "        f_prime_of_x.append(float(j * poly[j]))\n",
    "    return f_prime_of_x"
   ]
  },
  {
   "cell_type": "code",
   "execution_count": 21,
   "metadata": {
    "hidden": true
   },
   "outputs": [],
   "source": [
    "def compute_root(poly: list, x_0: float, epsilon: float) -> list:\n",
    "    '''Uses Newton's method to find and return a root of a polynomial function.\n",
    "       Returns a list containing the root and the number of iterations required\n",
    "       to get to the root.\n",
    "       \n",
    "    Args:\n",
    "        poly: list of numbers, (len(poly) > 1). Represents a polynomialfunction \n",
    "            containing at least one real root. The derivative of this polynomial \n",
    "            function at x_0 is not 0.\n",
    "        x_0: initial guss.\n",
    "        epsilon: ecceptable erros.\n",
    "    '''\n",
    "    root = x_0\n",
    "    counter = 1\n",
    "    while abs(evaluate_poly(poly, root)) >= epsilon:\n",
    "        root = (root - evaluate_poly(poly, root) / evaluate_poly(compute_deriv(poly), root))\n",
    "        counter += 1\n",
    "    return root"
   ]
  },
  {
   "cell_type": "code",
   "execution_count": 22,
   "metadata": {
    "hidden": true
   },
   "outputs": [],
   "source": [
    "def _test_compute_root():\n",
    "    def random_polynomial(degree):\n",
    "        poly = [None]*(degree+1)\n",
    "        for i in range(degree+1):\n",
    "            coefficient = randint(0, 6)\n",
    "            poly[i] = coefficient\n",
    "        return poly\n",
    "    N = randint(1, 4)\n",
    "    P = random_polynomial(N); print(P)\n",
    "    p = [5, 2]              # --> f(x) = 5x^0 + 2x^1 = 2x + 5\n",
    "    rt = compute_root(p, 10, 0.0001)\n",
    "    print('Root of f(x): ', rt)"
   ]
  },
  {
   "cell_type": "code",
   "execution_count": 23,
   "metadata": {
    "hidden": true
   },
   "outputs": [
    {
     "name": "stdout",
     "output_type": "stream",
     "text": [
      "[2, 1, 3, 1]\n",
      "Root of f(x):  -2.5\n"
     ]
    }
   ],
   "source": [
    "_test_compute_root()"
   ]
  },
  {
   "cell_type": "markdown",
   "metadata": {},
   "source": []
  },
  {
   "cell_type": "markdown",
   "metadata": {
    "heading_collapsed": true
   },
   "source": [
    "##### Write a Program to match a string that has the letter ‘a’ followed by 4 to 8 'b’s."
   ]
  },
  {
   "cell_type": "code",
   "execution_count": null,
   "metadata": {
    "hidden": true
   },
   "outputs": [],
   "source": [
    "import re\n",
    "def match_text(txt_data):\n",
    "       pattern = 'ab{4,8}'\n",
    "       if re.search(pattern,  txt_data):    #search for pattern in txt_data\n",
    "           return 'Match found'\n",
    "       else:\n",
    "           return('Match not found')"
   ]
  },
  {
   "cell_type": "code",
   "execution_count": 2,
   "metadata": {
    "hidden": true
   },
   "outputs": [
    {
     "name": "stdout",
     "output_type": "stream",
     "text": [
      "Match not found\n",
      "Match found\n"
     ]
    }
   ],
   "source": [
    "print(match_text(\"abc\"))         #prints Match not found\n",
    "print(match_text(\"aabbbbbc\"))    #prints Match found"
   ]
  },
  {
   "cell_type": "code",
   "execution_count": null,
   "metadata": {
    "hidden": true
   },
   "outputs": [],
   "source": []
  }
 ],
 "metadata": {
  "interpreter": {
   "hash": "57c97982dc8b4e37b241b12152be6019ac0f9ec1ea520ea4f1c6961014ac575f"
  },
  "kernelspec": {
   "display_name": "Python 3 (ipykernel)",
   "language": "python",
   "name": "python3"
  },
  "language_info": {
   "codemirror_mode": {
    "name": "ipython",
    "version": 3
   },
   "file_extension": ".py",
   "mimetype": "text/x-python",
   "name": "python",
   "nbconvert_exporter": "python",
   "pygments_lexer": "ipython3",
   "version": "3.9.6"
  },
  "metadata": {
   "interpreter": {
    "hash": "31f2aee4e71d21fbe5cf8b01ff0e069b9275f58929596ceb00d14d90e3e16cd6"
   }
  },
  "toc": {
   "base_numbering": 1,
   "nav_menu": {},
   "number_sections": false,
   "sideBar": true,
   "skip_h1_title": true,
   "title_cell": "Table of Contents",
   "title_sidebar": "Contents",
   "toc_cell": true,
   "toc_position": {},
   "toc_section_display": true,
   "toc_window_display": false
  }
 },
 "nbformat": 4,
 "nbformat_minor": 4
}
