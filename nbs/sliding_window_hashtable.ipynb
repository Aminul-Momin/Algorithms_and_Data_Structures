{
 "cells": [
  {
   "cell_type": "markdown",
   "id": "b05feb46",
   "metadata": {
    "slideshow": {
     "slide_type": ""
    },
    "tags": [],
    "toc": true
   },
   "source": [
    "<h1>Table of Contents<span class=\"tocSkip\"></span></h1>\n",
    "<div class=\"toc\"><ul class=\"toc-item\"><li><ul class=\"toc-item\"><li><span><a href=\"#Warm-Up-on-Sliding-Window-Technique:\" data-toc-modified-id=\"Warm-Up-on-Sliding-Window-Technique:-0.1\"><b style=\"color: #c71585\">Warm Up on Sliding Window Technique:</b></a></span><ul class=\"toc-item\"><li><span><a href=\"#Find-the-maximum-sum-of--k-sized-subarrays-of-a-given-array.-Youtube\" data-toc-modified-id=\"Find-the-maximum-sum-of--k-sized-subarrays-of-a-given-array.-Youtube-0.1.1\">Find the maximum sum of  <code>k</code> sized subarrays of a given array. <a href=\"https://www.youtube.com/watch?v=MK-NZ4hN7rs\" target=\"_blank\">Youtube</a></a></span></li><li><span><a href=\"#Given-an-array,-find-the-averages-of-all-contegious-subarray-of-size-k.-Youtube:-CoderByte\" data-toc-modified-id=\"Given-an-array,-find-the-averages-of-all-contegious-subarray-of-size-k.-Youtube:-CoderByte-0.1.2\">Given an array, find the averages of all contegious subarray of size <code>k</code>. <a href=\"https://www.youtube.com/watch?v=BM0mhAlvyQc&amp;t=0s\" target=\"_blank\">Youtube: CoderByte</a></a></span></li><li><span><a href=\"#Length-of-smallest-subarray-of-an-array-of-positive-numbers-whose-sum-≥-target.---Youtube:-CoderByte\" data-toc-modified-id=\"Length-of-smallest-subarray-of-an-array-of-positive-numbers-whose-sum-≥-target.---Youtube:-CoderByte-0.1.3\">Length of smallest subarray of an array of <code>positive numbers</code> whose sum ≥ <code>target</code>. - <a href=\"https://www.youtube.com/watch?v=mBbU-6cxj3w\" target=\"_blank\">Youtube: CoderByte</a></a></span></li><li><span><a href=\"#Length-of-longest-subarray-of-an-array-of-positive-numbers-whose-sum-≤-target.---stackoverflow\" data-toc-modified-id=\"Length-of-longest-subarray-of-an-array-of-positive-numbers-whose-sum-≤-target.---stackoverflow-0.1.4\">Length of longest subarray of an array of <code>positive numbers</code> whose sum ≤ <code>target</code>. - <a href=\"https://stackoverflow.com/questions/40391500/length-of-longest-subarray-of-sum-less-than-or-equal-to-k\" target=\"_blank\">stackoverflow</a></a></span></li><li><span><a href=\"#Length-of-longest-contegious-increasing-subarray.-[EPI:-24.05]-Youtube:-NickWhite-Leetcode:-674\" data-toc-modified-id=\"Length-of-longest-contegious-increasing-subarray.-[EPI:-24.05]-Youtube:-NickWhite-Leetcode:-674-0.1.5\">Length of longest contegious increasing subarray. [EPI: 24.05] <a href=\"https://www.youtube.com/watch?v=jSvoE-_Yhs4\" target=\"_blank\">Youtube: NickWhite</a> <a href=\"https://leetcode.com/problems/longest-continuous-increasing-subsequence/\" target=\"_blank\">Leetcode: 674</a></a></span></li><li><span><a href=\"#Is-reachable-to-the-end-of-list-?---[EPI:-5.4].\" data-toc-modified-id=\"Is-reachable-to-the-end-of-list-?---[EPI:-5.4].-0.1.6\">Is reachable to the end of list ? - [EPI: 5.4].</a></span></li><li><span><a href=\"#Write-a-program-that-takes-an-array-denoting-the-daily-stock-price,-and-returns-the-maximum-profit-that-could-be-made-by-buying-and-then-selling-one-share-of-that-stock.---[EPI:-5.6].\" data-toc-modified-id=\"Write-a-program-that-takes-an-array-denoting-the-daily-stock-price,-and-returns-the-maximum-profit-that-could-be-made-by-buying-and-then-selling-one-share-of-that-stock.---[EPI:-5.6].-0.1.7\">Write a program that takes an array denoting the daily stock price, and returns the maximum profit that could be made by buying and then selling one share of that stock. - [EPI: 5.6].</a></span></li><li><span><a href=\"#Given-a-string,-find-the-length-of-the-longest-substring-that-contains-no-more-than-k-distinct-characters.---Youtube:-CoderByte-|-Youtube:-ML-Tech-Track-|-Techie-Delight\" data-toc-modified-id=\"Given-a-string,-find-the-length-of-the-longest-substring-that-contains-no-more-than-k-distinct-characters.---Youtube:-CoderByte-|-Youtube:-ML-Tech-Track-|-Techie-Delight-0.1.8\">Given a string, find the length of the longest substring that contains no more than <code>k</code> distinct characters. - <a href=\"https://www.youtube.com/watch?v=BgK4IDBEXro&amp;t=230s\" target=\"_blank\">Youtube: CoderByte</a> | <a href=\"https://www.youtube.com/watch?v=V1gF8FCHz60\" target=\"_blank\">Youtube: ML Tech Track</a> | <a href=\"https://www.techiedelight.com/find-longest-substring-containing-k-distinct-characters/\" target=\"_blank\">Techie Delight</a></a></span></li></ul></li></ul></li><li><span><a href=\"#EPI:-Sliding-Window-Technique\" data-toc-modified-id=\"EPI:-Sliding-Window-Technique-1\"><b style=\"color: #ff4500\">EPI: Sliding Window Technique</b></a></span><ul class=\"toc-item\"><li><ul class=\"toc-item\"><li><span><a href=\"#Minimum-Window-Substring---[EPI:-12.07]\" data-toc-modified-id=\"Minimum-Window-Substring---[EPI:-12.07]-1.0.1\">Minimum Window Substring - [EPI: 12.07]</a></span></li><li><span><a href=\"#Find-the-smallest-subarray-covering-all-values---[EPI:12.7]\" data-toc-modified-id=\"Find-the-smallest-subarray-covering-all-values---[EPI:12.7]-1.0.2\">Find the smallest subarray covering all values - [EPI:12.7]</a></span></li><li><span><a href=\"#Find-smallest-subarray-sequentially-covering-all-values.---[EPI:12.8]-interview\" data-toc-modified-id=\"Find-smallest-subarray-sequentially-covering-all-values.---[EPI:12.8]-interview-1.0.3\">Find smallest subarray sequentially covering all values. - [EPI:12.8] <a href=\"https://www.youtube.com/watch?v=10WnvBk9sZc&amp;t=1087s\" target=\"_blank\">interview</a></a></span></li><li><span><a href=\"#Find-the-longest-subarray-with-distinct-entries.---[EPI:12.9].\" data-toc-modified-id=\"Find-the-longest-subarray-with-distinct-entries.---[EPI:12.9].-1.0.4\">Find the longest subarray with distinct entries. - [EPI:12.9].</a></span></li><li><span><a href=\"#Find-the-length-of-a-longest-contained-interval.---[EPI:12.10].-interview\" data-toc-modified-id=\"Find-the-length-of-a-longest-contained-interval.---[EPI:12.10].-interview-1.0.5\">Find the length of a longest contained interval. - [EPI:12.10]. <a href=\"https://www.youtube.com/watch?v=XXLVi2y2GrY\" target=\"_blank\">interview</a></a></span><ul class=\"toc-item\"><li><span><a href=\"#128.Longest-Consecutive-Sequence\" data-toc-modified-id=\"128.Longest-Consecutive-Sequence-1.0.5.1\"><a href=\"https://leetcode.com/problems/longest-consecutive-sequence/\" target=\"_blank\">128.Longest Consecutive Sequence</a></a></span></li></ul></li><li><span><a href=\"#Length-of-longest-subarray-of-array-of-integers-(positive-or-negative)-whose-sum-≤-target.---[EPI:-24.38]\" data-toc-modified-id=\"Length-of-longest-subarray-of-array-of-integers-(positive-or-negative)-whose-sum-≤-target.---[EPI:-24.38]-1.0.6\">Length of longest subarray of array of integers (<code>positive</code> or <code>negative</code>) whose sum ≤ <code>target</code>. - [EPI: 24.38]</a></span></li><li><span><a href=\"#Find-the-subarray-that-sums-up-to-zero-from-the-array-of-integers.---zero-sum-subarray\" data-toc-modified-id=\"Find-the-subarray-that-sums-up-to-zero-from-the-array-of-integers.---zero-sum-subarray-1.0.7\">Find the subarray that sums up to zero from the array of integers. - <a href=\"https://www.youtube.com/watch?v=hLcYp67wCcM&amp;list=PLNmW52ef0uwsjnM06LweaYEZr-wjPKBnj&amp;index=17\" target=\"_blank\">zero sum subarray</a></a></span></li><li><span><a href=\"#Maximum-of-a-Sliding-Window.---[EPI:-24.12]\" data-toc-modified-id=\"Maximum-of-a-Sliding-Window.---[EPI:-24.12]-1.0.8\">Maximum of a Sliding Window. - [EPI: 24.12]</a></span></li></ul></li><li><span><a href=\"#Collected\" data-toc-modified-id=\"Collected-1.1\"><b style=\"color: #c71585\">Collected</b></a></span><ul class=\"toc-item\"><li><span><a href=\"#713.-Subarray-Product-Less-Than-K-|-neetcode\" data-toc-modified-id=\"713.-Subarray-Product-Less-Than-K-|-neetcode-1.1.1\"><a href=\"https://leetcode.com/problems/subarray-product-less-than-k/description/\" target=\"_blank\">713. Subarray Product Less Than K</a> | <a href=\"https://www.youtube.com/watch?v=Cg6_nF7YIks\" target=\"_blank\">neetcode</a></a></span></li><li><span><a href=\"#424.-Longest-Repeating-Character-Replacement-|-neatcode\" data-toc-modified-id=\"424.-Longest-Repeating-Character-Replacement-|-neatcode-1.1.2\"><a href=\"https://leetcode.com/problems/longest-repeating-character-replacement/description/\" target=\"_blank\">424. Longest Repeating Character Replacement</a> | <a href=\"https://www.youtube.com/watch?v=gqXU1UyA8pk&amp;list=PLot-Xpze53leOBgcVsJBEGrHPd_7x_koV&amp;index=4\" target=\"_blank\">neatcode</a></a></span></li><li><span><a href=\"#567.Permutation-in-String\" data-toc-modified-id=\"567.Permutation-in-String-1.1.3\"><a href=\"https://leetcode.com/problems/permutation-in-string/description/\" target=\"_blank\">567.Permutation in String</a></a></span></li><li><span><a href=\"#438.-Find-All-Anagrams-in-a-String-|-neatcode\" data-toc-modified-id=\"438.-Find-All-Anagrams-in-a-String-|-neatcode-1.1.4\"><a href=\"https://leetcode.com/problems/find-all-anagrams-in-a-string/description/\" target=\"_blank\">438. Find All Anagrams in a String</a> | <a href=\"https://www.youtube.com/watch?v=G8xtZy0fDKg&amp;list=PLot-Xpze53leOBgcVsJBEGrHPd_7x_koV&amp;index=5\" target=\"_blank\">neatcode</a></a></span></li><li><span><a href=\"#1423.-Maximum-Points-You-Can-Obtain-from-Cards\" data-toc-modified-id=\"1423.-Maximum-Points-You-Can-Obtain-from-Cards-1.1.5\"><a href=\"https://leetcode.com/problems/maximum-points-you-can-obtain-from-cards/description/\" target=\"_blank\">1423. Maximum Points You Can Obtain from Cards</a></a></span></li><li><span><a href=\"#1838.-Frequency-of-the-Most-Frequent-Element-|-neatcode\" data-toc-modified-id=\"1838.-Frequency-of-the-Most-Frequent-Element-|-neatcode-1.1.6\"><a href=\"https://leetcode.com/problems/frequency-of-the-most-frequent-element/description/\" target=\"_blank\">1838. Frequency of the Most Frequent Element</a> | <a href=\"https://www.youtube.com/watch?v=vgBrQ0NM5vE&amp;list=PLot-Xpze53leOBgcVsJBEGrHPd_7x_koV&amp;index=7\" target=\"_blank\">neatcode</a></a></span></li><li><span><a href=\"#1888.-Minimum-Number-of-Flips-to-Make-the-Binary-String-Alternating-|-neatcode\" data-toc-modified-id=\"1888.-Minimum-Number-of-Flips-to-Make-the-Binary-String-Alternating-|-neatcode-1.1.7\"><a href=\"https://leetcode.com/problems/minimum-number-of-flips-to-make-the-binary-string-alternating/description/\" target=\"_blank\">1888. Minimum Number of Flips to Make the Binary String Alternating</a> | <a href=\"https://www.youtube.com/watch?v=MOeuK6gaC2A&amp;list=PLot-Xpze53leOBgcVsJBEGrHPd_7x_koV&amp;index=9\" target=\"_blank\">neatcode</a></a></span></li><li><span><a href=\"#187.-Repeated-DNA-Sequences-|-neatcode\" data-toc-modified-id=\"187.-Repeated-DNA-Sequences-|-neatcode-1.1.8\"><a href=\"https://leetcode.com/problems/repeated-dna-sequences/description/\" target=\"_blank\">187. Repeated DNA Sequences</a> | <a href=\"https://www.youtube.com/watch?v=FzTYfsmtOso&amp;list=PLot-Xpze53leOBgcVsJBEGrHPd_7x_koV&amp;index=11\" target=\"_blank\">neatcode</a></a></span></li><li><span><a href=\"#239.-Sliding-Window-Maximum-|-neatcode\" data-toc-modified-id=\"239.-Sliding-Window-Maximum-|-neatcode-1.1.9\"><a href=\"https://leetcode.com/problems/sliding-window-maximum/description/\" target=\"_blank\">239. Sliding Window Maximum</a> | <a href=\"https://www.youtube.com/watch?v=DfljaUwZsOk&amp;list=PLot-Xpze53leOBgcVsJBEGrHPd_7x_koV&amp;index=6\" target=\"_blank\">neatcode</a></a></span></li></ul></li></ul></li><li><span><a href=\"#EPI:-Hash-Table-(chapter-12)\" data-toc-modified-id=\"EPI:-Hash-Table-(chapter-12)-2\"><b style=\"color: #ff4500\">EPI: Hash Table (chapter-12)</b></a></span><ul class=\"toc-item\"><li><ul class=\"toc-item\"><li><span><a href=\"#Group-Anagram---[CtCI:-11.2].\" data-toc-modified-id=\"Group-Anagram---[CtCI:-11.2].-2.0.1\">Group Anagram - [CtCI: 11.2].</a></span></li><li><span><a href=\"#Given-a-string,-write-a-function-first_unique(s)-that-returns-index-of-the-first-unique-charater-of-the-given-string.\" data-toc-modified-id=\"Given-a-string,-write-a-function-first_unique(s)-that-returns-index-of-the-first-unique-charater-of-the-given-string.-2.0.2\">Given a string, write a function <code>first_unique(s)</code> that returns index of the first unique charater of the given string.</a></span></li><li><span><a href=\"#Partitioning-and-sorting-an-array-with-many-repeated-entries.---[EPI:13.8].\" data-toc-modified-id=\"Partitioning-and-sorting-an-array-with-many-repeated-entries.---[EPI:13.8].-2.0.3\">Partitioning and sorting an array with many repeated entries. - [EPI:13.8].</a></span></li><li><span><a href=\"#Test-for-palindromic-permutations.---[EPI:12.1]\" data-toc-modified-id=\"Test-for-palindromic-permutations.---[EPI:12.1]-2.0.4\">Test for palindromic permutations. - [EPI:12.1]</a></span></li><li><span><a href=\"#Is-an-anonymous-letter-constructible?---[EPI:12.2]\" data-toc-modified-id=\"Is-an-anonymous-letter-constructible?---[EPI:12.2]-2.0.5\">Is an anonymous letter constructible? - [EPI:12.2]</a></span></li><li><span><a href=\"#Implement-an-ISBN-cache---[EPI:12.3]\" data-toc-modified-id=\"Implement-an-ISBN-cache---[EPI:12.3]-2.0.6\">Implement an ISBN cache - [EPI:12.3]</a></span></li><li><span><a href=\"#146.-LRU-Cache-|-neetcode\" data-toc-modified-id=\"146.-LRU-Cache-|-neetcode-2.0.7\"><a href=\"https://leetcode.com/problems/lru-cache/description/\" target=\"_blank\">146. LRU Cache</a> | <a href=\"https://www.youtube.com/watch?v=7ABFKPK2hD4&amp;list=PLot-Xpze53lfOdF3KwpMSFEyfE77zIwiP&amp;index=27\" target=\"_blank\">neetcode</a></a></span></li><li><span><a href=\"#Compute-the-LCA-(lowest-common-anchestor),-optimizing-for-close-ancestors---[EPI:12.4]\" data-toc-modified-id=\"Compute-the-LCA-(lowest-common-anchestor),-optimizing-for-close-ancestors---[EPI:12.4]-2.0.8\">Compute the LCA (lowest common anchestor), optimizing for close ancestors - [EPI:12.4]</a></span></li><li><span><a href=\"#Find-the-k-most-frequent-queries.---[EPI:-12.5]-Leetcode\" data-toc-modified-id=\"Find-the-k-most-frequent-queries.---[EPI:-12.5]-Leetcode-2.0.9\">Find the k most frequent queries. - [EPI: 12.5] <a href=\"https://leetcode.com/problems/top-k-frequent-words/\" target=\"_blank\">Leetcode</a></a></span></li><li><span><a href=\"#Find-the-nearest-repeated-entries-in-an-array.----[EPI:12.6].\" data-toc-modified-id=\"Find-the-nearest-repeated-entries-in-an-array.----[EPI:12.6].-2.0.10\">Find the nearest repeated entries in an array.  - [EPI:12.6].</a></span></li></ul></li><li><span><a href=\"#Two-Pointers\" data-toc-modified-id=\"Two-Pointers-2.1\"><b style=\"color: #c71585\">Two Pointers</b></a></span><ul class=\"toc-item\"><li><span><a href=\"#978.-Longest-Turbulent-Subarray-|-neetcode\" data-toc-modified-id=\"978.-Longest-Turbulent-Subarray-|-neetcode-2.1.1\"><a href=\"https://leetcode.com/problems/longest-turbulent-subarray/description/\" target=\"_blank\">978. Longest Turbulent Subarray</a> | <a href=\"https://www.youtube.com/watch?v=V_iHUhR8Dek&amp;t=326s\" target=\"_blank\">neetcode</a></a></span></li><li><span><a href=\"#Trap-Water-(with-a-pair-of-verticl-lines)---[EPI-17.7]\" data-toc-modified-id=\"Trap-Water-(with-a-pair-of-verticl-lines)---[EPI-17.7]-2.1.2\"><a href=\"https://leetcode.com/problems/container-with-most-water/\" target=\"_blank\">Trap Water (with a pair of verticl lines)</a> - [EPI-17.7]</a></span></li><li><span><a href=\"#Trapping-Total-Rain-Water\" data-toc-modified-id=\"Trapping-Total-Rain-Water-2.1.3\"><a href=\"https://leetcode.com/problems/trapping-rain-water/\" target=\"_blank\">Trapping Total Rain Water</a></a></span></li></ul></li></ul></li></ul></div>"
   ]
  },
  {
   "cell_type": "code",
   "execution_count": 1,
   "id": "67c28adf",
   "metadata": {
    "tags": []
   },
   "outputs": [],
   "source": [
    "import sys, os, string, heapq\n",
    "from random import randint, randrange, choices, sample\n",
    "from collections import Counter, namedtuple, defaultdict, deque, OrderedDict\n",
    "from itertools import accumulate\n",
    "from functools import reduce\n",
    "from typing import List, Set, Deque, Any, DefaultDict"
   ]
  },
  {
   "cell_type": "code",
   "execution_count": 2,
   "id": "2ddda1b8",
   "metadata": {},
   "outputs": [],
   "source": [
    "from ads.utils import load_json_data, dirpy, gen_list_of_words, green, red, yellow #, bold_pink\n",
    "DATA_PATH = os.environ['ADS']\n",
    "DATA = load_json_data('sliding_window', dir_name=DATA_PATH+'/data/')\n",
    "# from ads.fundamentals.queue_with_max import QueueWithMax\n",
    "Subarray = namedtuple('Subarray', ('start', 'end'))"
   ]
  },
  {
   "cell_type": "markdown",
   "id": "42f79d20",
   "metadata": {},
   "source": [
    "-   [neetcode - Sliding Window](https://www.youtube.com/playlist?list=PLot-Xpze53leOBgcVsJBEGrHPd_7x_koV)"
   ]
  },
  {
   "cell_type": "markdown",
   "id": "cbc77e0c",
   "metadata": {
    "tags": []
   },
   "source": [
    "#### <b style='color:#C71585'>Two Pointers:</b>"
   ]
  },
  {
   "cell_type": "markdown",
   "id": "3c9bcd6e",
   "metadata": {
    "heading_collapsed": true,
    "jp-MarkdownHeadingCollapsed": true,
    "tags": []
   },
   "source": [
    "##### Find the maximum sum of  `k` sized subarrays of a given array. [YT](https://www.youtube.com/watch?v=MK-NZ4hN7rs)"
   ]
  },
  {
   "cell_type": "markdown",
   "id": "e1e335a0",
   "metadata": {
    "hidden": true
   },
   "source": [
    "Find the maximum sum of  `k` sized subarrays of a given array.\n",
    "- example:\n",
    "    - input: [4, 2, 1, 7, 8, 1, 2, 8, 1, 0], 3\n",
    "    - output: 16 ([7, 8, 1])"
   ]
  },
  {
   "cell_type": "code",
   "execution_count": 34,
   "id": "b83d9c29",
   "metadata": {
    "code_folding": [],
    "hidden": true,
    "tags": []
   },
   "outputs": [],
   "source": [
    "def find_max_sum(L: List[int], k: int):\n",
    "    max_sum = float('-inf')\n",
    "    current_max = 0\n",
    "\n",
    "    for right, val in enumerate(L):\n",
    "        current_max += val\n",
    "        if right >= k-1:\n",
    "            max_sum = max(current_max, max_sum)\n",
    "            current_max -= L[right - (k-1)]\n",
    "\n",
    "    return max_sum"
   ]
  },
  {
   "cell_type": "code",
   "execution_count": 35,
   "id": "144123ac",
   "metadata": {
    "hidden": true
   },
   "outputs": [],
   "source": [
    "def find_max_sum_v2(L: List[int], k: int):\n",
    "    if k > len(L): return float('-inf')\n",
    "    cur_sum = sum(L[:k])\n",
    "    max_sum = sum(L[:k])\n",
    "    \n",
    "    for i, val in enumerate(L[k:], k):\n",
    "        cur_sum -= L[i-k]\n",
    "        cur_sum += val\n",
    "        max_sum = max(max_sum, cur_sum)\n",
    "\n",
    "    return max_sum\n",
    "\n",
    "# find_max_sum_v2([4, 2, 1, 7, 8, 1, 2, 8, 1, 0], 3)"
   ]
  },
  {
   "cell_type": "code",
   "execution_count": 36,
   "id": "814f1649",
   "metadata": {
    "code_folding": [],
    "hidden": true
   },
   "outputs": [],
   "source": [
    "def max_sum_k_subarray(arr, k):\n",
    "    if k > len(arr): return float('-inf')    \n",
    "\n",
    "    # Compute the sum of the first window of size k\n",
    "    cur_sum = max_sum\n",
    "    max_sum = sum(arr[:k])\n",
    "    \n",
    "    # Compute sums of remaining windows by removing the first element of the previous window\n",
    "    # and adding the last element of the current window\n",
    "    for i in range(k, len(arr)):\n",
    "        cur_sum += arr[i] - arr[i - k]\n",
    "        max_sum = max(max_sum, cur_sum)\n",
    "    \n",
    "    return max_sum"
   ]
  },
  {
   "cell_type": "code",
   "execution_count": 37,
   "id": "6bab7043",
   "metadata": {
    "code_folding": [
     0
    ],
    "hidden": true,
    "tags": []
   },
   "outputs": [],
   "source": [
    "def _test_find_max_sum():\n",
    "    test_cases = [\n",
    "        # Basic test cases\n",
    "        ([4, 2, 1, 7, 8, 1, 2, 8, 1, 0], 3, 16),  # subarray [7, 8, 1]\n",
    "        ([4, 2, 1, 7, 8, 1, 2, 8, 1, 0], 4, 19),  # subarray [8, 1, 2, 8]\n",
    "        ([4, 2, 1, 7, 8, 1, 2, 8, 1, 0], 2, 15),  # subarray [7, 8]\n",
    "        \n",
    "        # Edge cases\n",
    "        ([1, 2, 3, 4, 5], 1, 5),                 # subarray [5]\n",
    "        ([1, 2, 3, 4, 5], 5, 15),                # subarray [1, 2, 3, 4, 5]\n",
    "        ([1, 2, 3, 4, 5], 6, float('-inf')),                # k > len(array)\n",
    "        \n",
    "        # Single element array\n",
    "        ([5], 1, 5),                             # subarray [5]\n",
    "        ([5], 2, float('-inf')),                            # k > len(array)\n",
    "        \n",
    "        # All elements are the same\n",
    "        ([5, 5, 5, 5, 5], 3, 15),                # subarray [5, 5, 5]\n",
    "        \n",
    "        # Array with negative numbers\n",
    "        ([-1, -2, -3, -4, -5], 2, -3),           # subarray [-1, -2]\n",
    "        ([-1, -2, -3, -4, -5], 3, -6),           # subarray [-1, -2, -3]\n",
    "        \n",
    "        # Mixed positive and negative numbers\n",
    "        ([3, -1, 2, 1, -5, 4, 3, -2], 3, 5),     # subarray [4, 3, -2]\n",
    "        ([3, -1, 2, 1, -5, 4, 3, -2], 4, 5),     # subarray [4, 3, -2, 0]\n",
    "    ]\n",
    "\n",
    "    max_sum_funcs = [find_max_sum, find_max_sum_v2, max_sum_k_subarray]\n",
    "\n",
    "    for max_sum_func in max_sum_funcs:\n",
    "\n",
    "        for arr, k, expected in test_cases:\n",
    "            returned = max_sum_func(arr, k)\n",
    "            try:\n",
    "                assert returned == expected\n",
    "            except AssertionError:\n",
    "                print(f\"{max_sum_func.__name__}(...), \\n Input: {arr}, \\n k={k} => \\n Expected: {expected}, \\n Returned: {returned}\")\n",
    "\n",
    "#===============================================================================\n",
    "_test_find_max_sum()"
   ]
  },
  {
   "cell_type": "markdown",
   "id": "12f3ed26",
   "metadata": {
    "heading_collapsed": true,
    "jp-MarkdownHeadingCollapsed": true,
    "tags": []
   },
   "source": [
    "##### Given an array, find the averages of all contegious subarray of size `k`. [YT: CoderByte](https://www.youtube.com/watch?v=BM0mhAlvyQc&t=0s)"
   ]
  },
  {
   "cell_type": "code",
   "execution_count": null,
   "id": "4e997d74",
   "metadata": {
    "hidden": true,
    "tags": []
   },
   "outputs": [],
   "source": [
    "def averages(nums: List[int], k: int):\n",
    "    avgs = []\n",
    "    cur_sum = 0\n",
    "    \n",
    "    for right_idx, val in enumerate(nums):\n",
    "        cur_sum += val\n",
    "        if right_idx >= k-1:\n",
    "            avgs.append(round(cur_sum/k, 3))\n",
    "            cur_sum -= nums[right_idx - (k-1)]\n",
    "    return avgs\n",
    "    "
   ]
  },
  {
   "cell_type": "code",
   "execution_count": null,
   "id": "bc517499",
   "metadata": {
    "hidden": true,
    "tags": []
   },
   "outputs": [],
   "source": [
    "def _test_averages():\n",
    "    avgs = averages([4, 2, 1, 7, 8, 1, 2, 8, 1, 0], 2)\n",
    "    print(avgs)\n",
    "_test_averages()"
   ]
  },
  {
   "cell_type": "code",
   "execution_count": null,
   "id": "11a78bdd",
   "metadata": {
    "hidden": true,
    "tags": []
   },
   "outputs": [],
   "source": [
    "round(10/3, 2)"
   ]
  },
  {
   "cell_type": "markdown",
   "id": "271eea01",
   "metadata": {},
   "source": [
    "##### [713. Subarray Product Less Than K](https://leetcode.com/problems/subarray-product-less-than-k/description/) | [neetcode](https://www.youtube.com/watch?v=Cg6_nF7YIks)"
   ]
  },
  {
   "cell_type": "markdown",
   "id": "36a36814",
   "metadata": {},
   "source": [
    "Given an array of integers `nums` and an integer `k`, return the number of contiguous subarrays where the product of all the elements in the subarray is strictly less than `k`.\n",
    "\n",
    "-   `Example 1`:\n",
    "\n",
    "    -   `Input`: nums = [10,5,2,6], k = 100\n",
    "    -   `Output`: 8\n",
    "    -   `Explanation`: The 8 subarrays that have product less than 100 are: [10], [5], [2], [6], [10, 5], [5, 2], [2, 6], [5, 2, 6]\n",
    "        -   Note that [10, 5, 2] is not included as the product of 100 is not strictly less than k.\n",
    "\n",
    "-   `Example 2`:\n",
    "\n",
    "    -   `Input`: nums = [1,2,3], k = 0\n",
    "    -   `Output`: 0\n",
    " \n",
    "\n",
    "-   `Constraints`:\n",
    "\n",
    "    -   $1 <= nums.length <= 3 * 10^4$\n",
    "    -   $1 <= nums[i] <= 1000$\n",
    "    -   $0 <= k <= 10^6$"
   ]
  },
  {
   "cell_type": "code",
   "execution_count": null,
   "id": "d8e9f3f5",
   "metadata": {},
   "outputs": [],
   "source": [
    "def num_subarray_prod(nums, k):\n",
    "    pass"
   ]
  },
  {
   "cell_type": "markdown",
   "id": "bdaf16f8",
   "metadata": {},
   "source": [
    "<div style=\"text-align:center\" ><img src=\"../assets/leetcode/num_subarray_product_lessthan_k.png\" width=\"600\" height=\"300\" /></div>"
   ]
  },
  {
   "cell_type": "markdown",
   "id": "6a661777",
   "metadata": {
    "heading_collapsed": true,
    "jp-MarkdownHeadingCollapsed": true,
    "tags": []
   },
   "source": [
    "##### Length of smallest subarray of an array of `positive numbers` whose sum ≥ `target`. - [YT: CoderByte](https://www.youtube.com/watch?v=mBbU-6cxj3w)"
   ]
  },
  {
   "cell_type": "markdown",
   "id": "5d2d144e",
   "metadata": {
    "hidden": true
   },
   "source": [
    "Given an array of positive numbers `nums` and a positive number `target`, find the length of the smallest contegious subarray whose sum is `greater than or equal` to `target`. \n",
    "- Return 0 if no such subarray exists.\n",
    "\n",
    "- Keywords:\n",
    "    - All `possitive` Numbers\n",
    "    - Find `Smallest`, and `Contegious` subarray\n",
    "    - Sum of the subarray `Greater than` or `Equal to` the given target"
   ]
  },
  {
   "cell_type": "code",
   "execution_count": 38,
   "id": "db33dddb",
   "metadata": {
    "hidden": true,
    "tags": []
   },
   "outputs": [],
   "source": [
    "def len_smallest_subarray(L: int, target: int):\n",
    "    min_len = float('inf') # len_and_idx = (sys.maxsize,-1,-1)\n",
    "    cur_sum = 0\n",
    "    left = 0\n",
    "    \n",
    "    for right, cur_elm in enumerate(L):\n",
    "        cur_sum += cur_elm\n",
    "        \n",
    "        while cur_sum >= target:\n",
    "            min_len = min(min_len, right-left + 1)\n",
    "            cur_sum -= L[left]\n",
    "            left += 1\n",
    "    \n",
    "    return 0 if min_len == float('inf') else min_len"
   ]
  },
  {
   "cell_type": "code",
   "execution_count": 58,
   "id": "e665e1fa",
   "metadata": {
    "hidden": true
   },
   "outputs": [],
   "source": [
    "def len_smallest_subarray_v2(L: int, target: int):\n",
    "    if not L: return 0\n",
    "    min_len = float('inf')\n",
    "    cur_sum = 0\n",
    "    left  = 0\n",
    "    \n",
    "    for right, cur_elm in enumerate(L):\n",
    "    \n",
    "        while cur_sum >= target:\n",
    "            min_len = min(min_len, right-left + 1)\n",
    "            cur_sum -= L[left]\n",
    "            left += 1\n",
    "\n",
    "        cur_sum += cur_elm\n",
    "\n",
    "    while cur_sum >= target:\n",
    "        min_len = min(min_len, right-left + 1)\n",
    "        cur_sum -= L[left]\n",
    "        left += 1\n",
    "\n",
    "    return 0 if min_len == float('inf') else min_len"
   ]
  },
  {
   "cell_type": "code",
   "execution_count": 60,
   "id": "fb9b5505",
   "metadata": {
    "hidden": true
   },
   "outputs": [],
   "source": [
    "def test_len_contegious_subarray():\n",
    "    testcases = [[[], 0], [[1,3,2,2,4,5], 6], [[2,1,5,2,8], 7]]\n",
    "    expectations = [0, 2, 1]\n",
    "\n",
    "    for [nums, target], expected in zip(testcases, expectations):\n",
    "        try:\n",
    "            returned1 = len_smallest_subarray(nums, target)\n",
    "            returned2 = len_smallest_subarray_v2(nums, target)\n",
    "            assert returned1 == returned2\n",
    "        except AssertionError:\n",
    "            print(returned2, nums, target, expected)\n",
    "#         assert returned == expected  \n",
    "# ========================================================================\n",
    "test_len_contegious_subarray()"
   ]
  },
  {
   "cell_type": "markdown",
   "id": "4b542208",
   "metadata": {
    "heading_collapsed": true,
    "jp-MarkdownHeadingCollapsed": true,
    "tags": []
   },
   "source": [
    "##### Length of longest subarray of an array of `positive numbers` whose sum ≤ `target`. - [stackoverflow](https://stackoverflow.com/questions/40391500/length-of-longest-subarray-of-sum-less-than-or-equal-to-k)"
   ]
  },
  {
   "cell_type": "markdown",
   "id": "69196260",
   "metadata": {
    "hidden": true
   },
   "source": [
    "Given an array of positive numbers `nums` and a positive number `target`, find the length of the longest contegious subarray whose sum is `less than or equal` to `target`. \n",
    "- Return 0 if no such subarray exists.\n",
    "\n",
    "- Keywords:\n",
    "    - All `possitive` Numbers\n",
    "    - Find `longest`, and `Contegious` subarray\n",
    "    - Sum of the subarray `less than` or `equal to` the given target"
   ]
  },
  {
   "cell_type": "code",
   "execution_count": 69,
   "id": "3e44bac4",
   "metadata": {
    "code_folding": [],
    "hidden": true
   },
   "outputs": [],
   "source": [
    "def len_longest_subarray(L: int, target: int):\n",
    "    max_len = 0\n",
    "    cur_sum = 0\n",
    "    left = 0\n",
    "    \n",
    "    for right, cur_elm in enumerate(L):\n",
    "        cur_sum += cur_elm\n",
    "        \n",
    "        while cur_sum > target:\n",
    "            cur_sum -= L[left]\n",
    "            left += 1\n",
    "        \n",
    "        max_len = max(max_len, right-left+1)\n",
    "\n",
    "    return max_len"
   ]
  },
  {
   "cell_type": "code",
   "execution_count": 73,
   "id": "9cdb7b1c",
   "metadata": {
    "code_folding": [],
    "hidden": true
   },
   "outputs": [],
   "source": [
    "def max_length(nums, target):\n",
    "    current = []\n",
    "    max_len = 0\n",
    "\n",
    "    for i in nums:\n",
    "        current.append(i)\n",
    "\n",
    "        # Shrink the array from the left, until the sum is <= k.\n",
    "        while sum(current) > target:\n",
    "            current = current[1:]\n",
    "\n",
    "        if sum(current) <= target:\n",
    "            max_len = max(max_len, len(current))\n",
    "\n",
    "    return max_len"
   ]
  },
  {
   "cell_type": "markdown",
   "id": "0e6d057b",
   "metadata": {
    "hidden": true
   },
   "source": [
    "- ChatGPT Solution"
   ]
  },
  {
   "cell_type": "code",
   "execution_count": 74,
   "id": "fabd486f",
   "metadata": {
    "code_folding": [],
    "hidden": true
   },
   "outputs": [],
   "source": [
    "def longest_subarray(A, k):\n",
    "    left = right = sum = 0\n",
    "    n = len(A)\n",
    "    max_length = 0\n",
    "\n",
    "    while right < n:\n",
    "        if sum + A[right] <= k:\n",
    "            sum += A[right]\n",
    "            right += 1\n",
    "        else:\n",
    "            sum -= A[left]\n",
    "            left += 1\n",
    "        \n",
    "        max_length = max(max_length, right - left)\n",
    "\n",
    "    return max_length"
   ]
  },
  {
   "cell_type": "code",
   "execution_count": 75,
   "id": "8fae894e",
   "metadata": {
    "hidden": true
   },
   "outputs": [],
   "source": [
    "def test_longest_subarray():\n",
    "    testcases = [[[], 0], [[1,3,2,2,4,5], 6], [[1,0,1,2,1,5,2,8], 5]]\n",
    "    expectations = [0, 3, 5]\n",
    "\n",
    "    max_length_funcs = [len_longest_subarray, max_length, longest_subarray]\n",
    "    for max_length_func in max_length_funcs:\n",
    "\n",
    "        for [arr, k], expected in zip(testcases, expectations):\n",
    "            returned = max_length_func(arr, k)\n",
    "            try:\n",
    "                assert returned == expected\n",
    "            except AssertionError:\n",
    "                print(f\"{max_length_func.__name__}(...), \\n Input: {arr}, \\n k={k} => \\n Expected: {expected}, \\n Returned: {returned}\")\n",
    "\n",
    "\n",
    "# ========================================================================\n",
    "test_longest_subarray()"
   ]
  },
  {
   "cell_type": "markdown",
   "id": "798f6aca",
   "metadata": {
    "heading_collapsed": true,
    "jp-MarkdownHeadingCollapsed": true,
    "tags": []
   },
   "source": [
    "##### Length of longest contegious increasing subarray. [EPI: 24.05] [YT: NickWhite](https://www.youtube.com/watch?v=jSvoE-_Yhs4) || [Leetcode: 674](https://leetcode.com/problems/longest-continuous-increasing-subsequence/)"
   ]
  },
  {
   "cell_type": "markdown",
   "id": "8ed7ffe8",
   "metadata": {
    "hidden": true
   },
   "source": [
    "Given an unsorted array of integers nums, return the length of the longest\n",
    "continuous increasing subsequence (i.e. subarray). \n",
    "- The subsequence must be strictly increasing.\n",
    "- A continuous increasing subsequence is defined by two indices `l` and `r` (l < r)\n",
    "such that it is `[nums[l], nums[l+1], ..., nums[r-1], nums[r]]` and for each\n",
    "`l <= i < r`, `nums[i] < nums[i+1]`.\n",
    "\n",
    "- Example 1:\n",
    "    - Input: nums = [1,3,5,4,7]\n",
    "    - Output: 3\n",
    "    - Explanation: The longest continuous increasing subsequence is [1,3,5] with\n",
    "    length 3. Even though [1,3,5,7] is an increasing subsequence, it is not\n",
    "    continuous as elements 5 and 7 are separated by element 4.\n",
    "- Example 2:\n",
    "    - Input: nums = [2,2,2,2,2]\n",
    "    - Output: 1\n",
    "    - Explanation: The longest continuous increasing subsequence is [2] with\n",
    "    length 1. Note that it must be strictly increasing.\n",
    "- Constraints:\n",
    "    - 1 <= len(nums) <= 104\n",
    "    - -109 <= nums[i] <= 109"
   ]
  },
  {
   "cell_type": "code",
   "execution_count": 26,
   "id": "bbd1ebd7",
   "metadata": {
    "hidden": true
   },
   "outputs": [],
   "source": [
    "def longest_increasing_subarray(nums):\n",
    "    if not nums: return 0\n",
    "    if len(nums) == 1: 1\n",
    "    max_len, left = 1, 0\n",
    "\n",
    "    for idx, cur_item in enumerate(nums[1:], 1):\n",
    "        # if not nums[idx-1] < cur_item:\n",
    "        if cur_item <= nums[idx-1]:\n",
    "            max_len = max(max_len, idx-left)\n",
    "            left = idx\n",
    "\n",
    "    return max(max_len, len(nums) - left)"
   ]
  },
  {
   "cell_type": "code",
   "execution_count": null,
   "id": "0343e351",
   "metadata": {},
   "outputs": [],
   "source": [
    "def longest_increasing_subarray_v2(nums):\n",
    "    if not nums: return (0, 0, 0)\n",
    "    result = (0, -1, -1)\n",
    "    left = 0\n",
    "    \n",
    "    for right, cur_elm in enumerate(nums):\n",
    "        if right > 0 and cur_elm <= nums[right-1]: left = right\n",
    "        if result[0] < right-left+1: result = (max(result[0], right-left + 1), left, right)\n",
    "    \n",
    "    return result[0]"
   ]
  },
  {
   "cell_type": "code",
   "execution_count": 40,
   "id": "10135a14",
   "metadata": {},
   "outputs": [],
   "source": [
    "def longest_increasing_subarray_v3(A: list[int]) -> Subarray:\n",
    "\n",
    "    result = Subarray(-1, -1)\n",
    "    left, max_length = 0, 1\n",
    "    \n",
    "    while left < len(A) - max_length:\n",
    "        \n",
    "        # Backward check and skip if A[right] >= A[right + 1].\n",
    "        for right in range(left + max_length, left, -1):\n",
    "            if A[right-1] >= A[right]:\n",
    "                left = right\n",
    "                break\n",
    "            else:  # Forward check if it is not skippable (the loop ended normally)\n",
    "                left += max_length\n",
    "                while left < len(A) and A[left-1] < A[left]:\n",
    "                    left, max_length = left + 1, max_length + 1\n",
    "\n",
    "                result = Subarray(left - max_length, left - 1)\n",
    "\n",
    "    return result[1]-result[0]+1"
   ]
  },
  {
   "cell_type": "code",
   "execution_count": 41,
   "id": "3e200436",
   "metadata": {
    "code_folding": [
     0
    ],
    "hidden": true
   },
   "outputs": [
    {
     "name": "stdout",
     "output_type": "stream",
     "text": [
      "longest_increasing_subarray_v3([3, 3, 4, 5, 5, 6, 6, 7]) | expected: 3 | result: 4\n"
     ]
    }
   ],
   "source": [
    "def test_len_longest_inc_subarray():\n",
    "    test_cases = [\n",
    "        ([1, 3, 5, 4, 7], 3),           # Explanation: The longest continuous increasing subsequence is [1, 3, 5].\n",
    "        ([2, 2, 2, 2, 2], 1),           # Explanation: All elements are the same, so the longest sequence is any single element.\n",
    "        ([10, 9, 8, 7, 6, 5, 4, 3, 2, 1], 1),  # Explanation: No increasing subsequences, longest sequence is any single element.\n",
    "        ([1, 2, 3, 4, 5, 6, 7, 8, 9, 10], 10), # Explanation: The entire array is an increasing sequence.\n",
    "        ([1, 2, 1, 2, 1, 2, 1, 2], 2),        # Explanation: Several sequences of length 2: [1, 2].\n",
    "        ([1], 1),                             # Explanation: Only one element.\n",
    "        ([5, 6, 7, 8, 1, 2, 3, 4], 4),        # Explanation: Two sequences [5, 6, 7, 8] and [1, 2, 3, 4], both of length 4.\n",
    "        ([3, 3, 4, 5, 5, 6, 6, 7], 3),        # Explanation: Longest sequence [4, 5, 6, 7] with length 3.\n",
    "        ([8, 9, 1, 2, 3, 4, 0], 4),           # Explanation: The longest continuous increasing subsequence is [1, 2, 3, 4].\n",
    "        ([1, 2, 3, 2, 3, 4, 5, 6], 5),        # Explanation: The longest continuous increasing subsequence is [2, 3, 4, 5, 6].\n",
    "    ]\n",
    "\n",
    "    funcs = [longest_increasing_subarray, longest_increasing_subarray_v2, longest_increasing_subarray_v3]\n",
    "    for func in funcs:\n",
    "        # You can iterate through the test cases to test the function\n",
    "        for nums, expected in test_cases:\n",
    "            result1 = func(nums)\n",
    "            try:\n",
    "                assert result1 == expected\n",
    "            except AssertionError:\n",
    "                print(f\"{func.__name__}({nums}) | expected: {expected} | result: {result1}\")\n",
    "#=============================================================================\n",
    "test_len_longest_inc_subarray()"
   ]
  },
  {
   "cell_type": "markdown",
   "id": "4703c5e6",
   "metadata": {
    "heading_collapsed": true,
    "jp-MarkdownHeadingCollapsed": true,
    "tags": []
   },
   "source": [
    "##### Is reachable to the end of list ? - [EPI: 5.4] || [55. Jump Game](https://leetcode.com/problems/jump-game/description/) || [neetcode](https://www.youtube.com/watch?v=Yan0cv2cLy8)"
   ]
  },
  {
   "cell_type": "markdown",
   "id": "1fde7f1c",
   "metadata": {
    "hidden": true
   },
   "source": [
    "Write a program that takes an array of integers, where `A[i]` denotes the maximum you can advance from index `i`, and returns wheather it is possible to advance to the last index starting from the beginning of the array.\n",
    "\n",
    "You are given an integer array `nums`. You are initially positioned at the array's first index, and each element in the array represents your maximum jump length at that position. Return true if you can reach the last index, or false otherwise.\n",
    "\n",
    " \n",
    "-   `Example 1`:\n",
    "\n",
    "    -   `Input`: nums = [2,3,1,1,4]\n",
    "    -   `Output`: true\n",
    "    -   `Explanation`: Jump 1 step from index 0 to 1, then 3 steps to the last index.\n",
    "\n",
    "-   `Example 2`:\n",
    "\n",
    "    -   `Input`: nums = [3,2,1,0,4]\n",
    "    -   `Output`: false\n",
    "    -   `Explanation`: You will always arrive at index 3 no matter what. Its maximum jump length is 0, which makes it impossible to reach the last index.\n",
    " \n",
    "\n",
    "-   `Constraints`:\n",
    "\n",
    "    -   $1 <= nums.length <= 10^4$\n",
    "    -   $0 <= nums[i] <= 10^5$"
   ]
  },
  {
   "cell_type": "code",
   "execution_count": 43,
   "id": "597aa7f3",
   "metadata": {
    "hidden": true
   },
   "outputs": [],
   "source": [
    "def can_reach_end(steps):\n",
    "        \n",
    "    right, last_idx = 0, len(steps)-1\n",
    "    \n",
    "    for left, cur_item in enumerate(steps):\n",
    "        if right < left or right >= last_idx: break\n",
    "        right = max(right, left + cur_item)\n",
    "\n",
    "    return right >= last_idx"
   ]
  },
  {
   "cell_type": "code",
   "execution_count": 44,
   "id": "9edd4715",
   "metadata": {
    "hidden": true
   },
   "outputs": [],
   "source": [
    "def can_reach_end_v2(A):\n",
    "    right_reachable, last_index = 0, len(A) - 1\n",
    "    left = 0\n",
    "    \n",
    "    while left <= right_reachable and right_reachable < last_index:\n",
    "        right_reachable = max(right_reachable, A[left] + left)\n",
    "        left += 1\n",
    "\n",
    "    return right_reachable >= last_index"
   ]
  },
  {
   "cell_type": "code",
   "execution_count": 45,
   "id": "8971fe6b",
   "metadata": {
    "hidden": true
   },
   "outputs": [],
   "source": [
    "def _test_can_reach_end():\n",
    "    # for _ in range(1000):\n",
    "    #     list_size = randint(1,10)\n",
    "    #     test_case = [randrange(0, list_size) for _ in range(list_size)]\n",
    "    #     try:\n",
    "    #         returned1 = can_reach_end(test_case)\n",
    "    #         returned2 = can_reach_end_v2(test_case)\n",
    "    #         returned3 = can_reach_end_v3(test_case)\n",
    "    #         assert returned1 == returned2 == returned3\n",
    "    #     except AssertionError:\n",
    "    #         print(returned1, returned2, returned3, test_case, sep='\\n')\n",
    "\n",
    "    testcases = [[[0, 4, 1, 3, 0], False], [[2,3,1,1,4], True], [[3,2,1,0,4], False]]\n",
    "\n",
    "    funcs = [can_reach_end, can_reach_end_v2]\n",
    "    for func in funcs:\n",
    "        for testcase, expected in testcases:\n",
    "            returned = func(testcase)\n",
    "            try:\n",
    "                assert returned == expected\n",
    "            except:\n",
    "                print(f\"{func.__name__} \\n\\t Input: {testcase} \\n\\t Expected: {expected} \\n\\t Returned: {returned}\")\n",
    "    \n",
    "# =====================================================================================\n",
    "_test_can_reach_end()"
   ]
  },
  {
   "cell_type": "markdown",
   "id": "71dd25dd",
   "metadata": {
    "heading_collapsed": true,
    "jp-MarkdownHeadingCollapsed": true,
    "tags": []
   },
   "source": [
    "##### Maximum stock selling profit. - [EPI: 5.6]."
   ]
  },
  {
   "cell_type": "markdown",
   "id": "4166c8dc",
   "metadata": {
    "hidden": true
   },
   "source": [
    "Write a program that takes an array denoting the daily stock price, and returns the maximum profit that could be made by buying and then selling one share of that stock\n",
    "\n",
    "`Note`: Subject to the constraint that the buy and the sell have to take place at the start of the day."
   ]
  },
  {
   "cell_type": "code",
   "execution_count": null,
   "id": "47d253fe",
   "metadata": {
    "code_folding": [],
    "hidden": true
   },
   "outputs": [],
   "source": [
    "def max_profit(prices: List[int]) -> int:\n",
    "    def func(): pass\n",
    "    \n",
    "    N = len(prices)\n",
    "    left = 0\n",
    "    max_prft = 0\n",
    "    \n",
    "    for right in range(1, N):\n",
    "        if prices[left] < prices[right]:\n",
    "            price_diff = prices[right] - prices[left]\n",
    "            max_prft = max(max_prft, price_diff)\n",
    "        else: left = right\n",
    "    return max_prft"
   ]
  },
  {
   "cell_type": "code",
   "execution_count": null,
   "id": "9a8b22ab",
   "metadata": {
    "hidden": true
   },
   "outputs": [],
   "source": [
    "def test_buy_and_sell_k_times(verbose=False):\n",
    "    P = [randrange(0, 9) for _ in range(15)]\n",
    "    k = 1\n",
    "    prof_1_c = max_profit(P)\n",
    "\n",
    "for _ in range(1): \n",
    "    test_buy_and_sell_k_times()"
   ]
  },
  {
   "cell_type": "markdown",
   "id": "ce101cab",
   "metadata": {},
   "source": [
    "##### [978. Longest Turbulent Subarray](https://leetcode.com/problems/longest-turbulent-subarray/description/) | [neetcode](https://www.youtube.com/watch?v=V_iHUhR8Dek&t=326s)"
   ]
  },
  {
   "cell_type": "markdown",
   "id": "1980bc75",
   "metadata": {},
   "source": [
    "Given an integer array `arr`, return the length of a maximum size turbulent subarray of `arr`.\n",
    "\n",
    "A subarray is turbulent if the comparison sign flips between each adjacent pair of elements in the subarray.\n",
    "\n",
    "More formally, a subarray `[arr[i], arr[i + 1], ..., arr[j]]` of arr is said to be turbulent if and only if:\n",
    "\n",
    "-   For `i <= k < j`:\n",
    "    -   `arr[k] > arr[k + 1]` when k is odd, and\n",
    "    -   `arr[k] < arr[k + 1]` when k is even.\n",
    "-   Or, for `i <= k < j`:\n",
    "    -   `arr[k] > arr[k + 1]` when k is even, and\n",
    "    -   `arr[k] < arr[k + 1]` when k is odd.\n",
    " \n",
    "\n",
    "\n",
    "-   `Example 1`:\n",
    "\n",
    "    -   `Input`: arr = [9,4,2,10,7,8,8,1,9]\n",
    "    -   `Output`: 5\n",
    "    -   `Explanation`: arr[1] > arr[2] < arr[3] > arr[4] < arr[5]\n",
    "\n",
    "-   `Example 2`:\n",
    "\n",
    "    -   `Input`: arr = [4,8,12,16]\n",
    "    -   `Output`: 2\n",
    "\n",
    "-   `Example 3`:\n",
    "\n",
    "    -   `Input`: arr = [100]\n",
    "    -   `Output`: 1\n",
    "    \n",
    "\n",
    "-   `Constraints`:\n",
    "\n",
    "    -   $1 <= arr.length <= 4 * 10^4$\n",
    "    -   $0 <= arr[i] <= 10^9$"
   ]
  },
  {
   "cell_type": "code",
   "execution_count": null,
   "id": "76d67f68",
   "metadata": {},
   "outputs": [],
   "source": [
    "class Solution:\n",
    "    def maxTurbulenceSize(self, arr: List[int]) -> int:\n",
    "        l, r = 0, 1\n",
    "        res, prev = 1, \"\"\n",
    "\n",
    "        while r < len(arr):\n",
    "            if arr[r - 1] > arr[r] and prev != \">\":\n",
    "                res = max(res, r - l + 1)\n",
    "                r += 1\n",
    "                prev = \">\"\n",
    "            elif arr[r - 1] < arr[r] and prev != \"<\":\n",
    "                res = max(res, r - l + 1)\n",
    "                r += 1\n",
    "                prev = \"<\"\n",
    "            else:\n",
    "                r = r + 1 if arr[r] == arr[r - 1] else r\n",
    "                l = r - 1\n",
    "                prev = \"\"\n",
    "        return res"
   ]
  },
  {
   "cell_type": "markdown",
   "id": "6ed43844",
   "metadata": {},
   "source": [
    "##### [Trap Water (with a pair of verticl lines)](https://leetcode.com/problems/container-with-most-water/) - [EPI-17.7]"
   ]
  },
  {
   "cell_type": "markdown",
   "id": "52704283",
   "metadata": {},
   "source": [
    "<div style=\"text-align:center\" ><img src=\"../assets/most_water_container.jpg\" width=\"400\" height=\"200\" /></div>"
   ]
  },
  {
   "cell_type": "markdown",
   "id": "8141cc7c",
   "metadata": {},
   "source": [
    "You are given an integer array `height` of length n. There are n vertical lines drawn such that the two endpoints of the $i^{th}$ line are `(i, 0)` and `(i, height[i])` on X-Y plan.\n",
    "\n",
    "Find two lines that together with the x-axis form a container, such that `the container` contains the most water.\n",
    "\n",
    "Return the maximum amount of water a container can store.\n",
    "\n",
    "Notice that you may not slant the container.\n",
    "\n",
    "- Example 1:\n",
    "\n",
    "    - Input: height = [1,8,6,2,5,4,8,3,7]\n",
    "    - Output: 49\n",
    "    - Explanation: The above vertical lines are represented by array [1,8,6,2,5,4,8,3,7]. In this case, the max area of water (blue section) the container can contain is 49.\n",
    "\n",
    "- Example 2:\n",
    "    - Input: height = [1,1]\n",
    "    - Output: 1\n",
    " \n",
    "\n",
    "- Constraints:\n",
    "\n",
    "    - n == height.length\n",
    "    - 2 <= n <= 10^5\n",
    "    - 0 <= height[i] <= 10^4"
   ]
  },
  {
   "cell_type": "code",
   "execution_count": null,
   "id": "f312db12",
   "metadata": {},
   "outputs": [],
   "source": [
    "def get_max_trapped_water(height: List[int]) -> int:\n",
    "    left, right, max_water = 0, len(height) - 1, 0\n",
    "\n",
    "    while left < right:\n",
    "        width = right - left\n",
    "        max_water = max(max_water, min(height[left], height[right]) * width)\n",
    "        \n",
    "        if height[left] < height[right]: left += 1\n",
    "        else: right -= 1 # height[left] >= height[right]\n",
    "    \n",
    "    return max_water"
   ]
  },
  {
   "cell_type": "code",
   "execution_count": null,
   "id": "94498405",
   "metadata": {},
   "outputs": [],
   "source": []
  },
  {
   "cell_type": "markdown",
   "id": "c27798c2",
   "metadata": {},
   "source": [
    "##### [Trapping Total Rain Water](https://leetcode.com/problems/trapping-rain-water/)"
   ]
  },
  {
   "cell_type": "markdown",
   "id": "aeb34c2b",
   "metadata": {},
   "source": [
    "Given `n` non-negative integers representing an elevation map where the width of each bar is 1, compute how much water it can trap after raining.\n",
    "\n",
    "- Example 1:\n",
    "    - Input: height = [0,1,0,2,1,0,1,3,2,1,2,1]\n",
    "    - Output: 6\n",
    "    - Explanation: The above elevation map (black section) is represented by array [0,1,0,2,1,0,1,3,2,1,2,1]. In this case, 6 units of rain water (blue section) are being trapped.\n",
    "\n",
    "- Example 2:\n",
    "    - Input: height = [4,2,0,3,2,5]\n",
    "    - Output: 9\n",
    " \n",
    "\n",
    "- Constraints:\n",
    "    - n == height.length\n",
    "    - 1 <= n <= 2 * 104\n",
    "    - 0 <= height[i] <= 105"
   ]
  },
  {
   "cell_type": "markdown",
   "id": "23e3eb86",
   "metadata": {},
   "source": [
    "<div style=\"text-align:center\" ><img src=\"../assets/rainwatertrap.png\" width=\"400\" height=\"200\" /></div>"
   ]
  },
  {
   "cell_type": "code",
   "execution_count": null,
   "id": "8016bb1f",
   "metadata": {},
   "outputs": [],
   "source": [
    "def trap(height: List[int]) -> int: \n",
    "    if not height: return 0\n",
    "\n",
    "    l, r = 0, len(height) - 1\n",
    "    leftMax, rightMax = height[l], height[r]\n",
    "    res = 0\n",
    "    while l < r:\n",
    "        if leftMax < rightMax:\n",
    "            l += 1\n",
    "            leftMax = max(leftMax, height[l])\n",
    "            res += leftMax - height[l]\n",
    "        else:\n",
    "            r -= 1\n",
    "            rightMax = max(rightMax, height[r])\n",
    "            res += rightMax - height[r]\n",
    "    return res"
   ]
  },
  {
   "cell_type": "markdown",
   "id": "abce1662",
   "metadata": {},
   "source": [
    "- ChatGPT Solution"
   ]
  },
  {
   "cell_type": "markdown",
   "id": "a42db0e5",
   "metadata": {},
   "source": [
    "To solve this problem, you can use the concept of finding the maximum height from the left and right sides of each bar, and then subtract the height of the bar itself to find the amount of water that can be trapped. Here's a step by step explanation of the algorithm:\n",
    "\n",
    "1. Initialize two arrays, left and right, of the same size as the input elevation map, with all values set to 0.\n",
    "\n",
    "2. Fill the left array with the maximum height from the left for each bar. To do this, loop through the elevation map from left to right and keep track of the maximum height seen so far. At each step, update the current element in the left array with the maximum height seen so far.\n",
    "\n",
    "3. Fill the right array with the maximum height from the right for each bar. To do this, loop through the elevation map from right to left and keep track of the maximum height seen so far. At each step, update the current element in the right array with the maximum height seen so far.\n",
    "\n",
    "4. Calculate the amount of trapped water for each bar by subtracting the height of the bar from the minimum of the two maximum heights (from left and right) and adding it to a total sum.\n",
    "\n",
    "5. Return the total sum as the result.\n",
    "\n",
    "This algorithm has a time complexity of O(n) and space complexity of O(n), where n is the number of bars in the elevation map."
   ]
  },
  {
   "cell_type": "code",
   "execution_count": null,
   "id": "64b604dc",
   "metadata": {},
   "outputs": [],
   "source": []
  },
  {
   "cell_type": "code",
   "execution_count": null,
   "id": "c5a6abcd",
   "metadata": {},
   "outputs": [],
   "source": [
    "def trap(height):\n",
    "    n = len(height)\n",
    "    left = [0] * n\n",
    "    right = [0] * n\n",
    "    \n",
    "    # Fill the left array\n",
    "    left_max = 0\n",
    "    for i in range(n):\n",
    "        left[i] = left_max\n",
    "        left_max = max(left_max, height[i])\n",
    "    \n",
    "    # Fill the right array\n",
    "    right_max = 0\n",
    "    for i in range(n - 1, -1, -1):\n",
    "        right[i] = right_max\n",
    "        right_max = max(right_max, height[i])\n",
    "    \n",
    "    # Calculate the trapped water\n",
    "    trapped_water = 0\n",
    "    for i in range(n):\n",
    "        trapped_water += max(0, min(left[i], right[i]) - height[i])\n",
    "    \n",
    "    return trapped_water\n"
   ]
  },
  {
   "cell_type": "code",
   "execution_count": null,
   "id": "809bc225",
   "metadata": {},
   "outputs": [],
   "source": []
  },
  {
   "cell_type": "markdown",
   "id": "5d2af7a5",
   "metadata": {
    "tags": []
   },
   "source": [
    "### <b style='color:#FF4500'>EPI: Sliding Window Technique</b>"
   ]
  },
  {
   "cell_type": "markdown",
   "id": "15c5ae83",
   "metadata": {
    "heading_collapsed": true,
    "jp-MarkdownHeadingCollapsed": true,
    "tags": []
   },
   "source": [
    "##### Minimum Window Substring - [EPI: 12.07]"
   ]
  },
  {
   "cell_type": "markdown",
   "id": "4579ccc0",
   "metadata": {
    "hidden": true,
    "jp-MarkdownHeadingCollapsed": true,
    "tags": []
   },
   "source": [
    "[LeetcodeSol: 76](https://leetcode.com/problems/minimum-window-substring/) | [CoderByte](https://coderbyte.com/video/min-window-substring-solution) | [BackToBack](https://www.youtube.com/watch?v=eS6PZLjoaq8)"
   ]
  },
  {
   "cell_type": "markdown",
   "id": "7e9c2927",
   "metadata": {
    "hidden": true
   },
   "source": [
    "Given two strings `s` and `t` of lengths `m` and `n` respectively, return the minimum window \n",
    "substring of `s` such that every character in `t` (including duplicates) is included in the window. If there is no such substring, return the empty string \"\"."
   ]
  },
  {
   "cell_type": "markdown",
   "id": "cb6844db",
   "metadata": {
    "hidden": true
   },
   "source": [
    "<div style=\"text-align:center\" ><img src=\"../assets/min_window_substring.png\" width=\"800\" height=\"500\" /></div>\n",
    "<div style=\"text-align:center\" ><img src=\"../assets/min_window_scenario_breakdown.png\" width=\"800\" height=\"500\" /></div>"
   ]
  },
  {
   "cell_type": "markdown",
   "id": "746e7767",
   "metadata": {
    "hidden": true
   },
   "source": [
    "**Brute Force Approch**:"
   ]
  },
  {
   "cell_type": "code",
   "execution_count": 99,
   "id": "cf7fbe21",
   "metadata": {
    "code_folding": [],
    "hidden": true,
    "tags": []
   },
   "outputs": [],
   "source": [
    "def min_window_substring(s, t):\n",
    "\n",
    "    frequency_t = Counter(t)\n",
    "    options = []\n",
    "\n",
    "    for i in range(len(s)):\n",
    "        curr = Counter()\n",
    "        for j in range(i, len(s)):\n",
    "            curr[s[j]] += 1\n",
    "            # if not frequency_t - curr: # if Empyt counter\n",
    "            if len(frequency_t - curr) == 0 :\n",
    "                options.append(s[i: j+1])\n",
    "\n",
    "    return min(options, key=len) if options else \"\""
   ]
  },
  {
   "cell_type": "code",
   "execution_count": 100,
   "id": "d3f467f4",
   "metadata": {
    "hidden": true,
    "tags": []
   },
   "outputs": [],
   "source": [
    "def test_min_window():\n",
    "    test_cases = [[\"ADOBECODEBANC\", \"ABC\", \"BANC\"], [\"bbcccccaaaa\", \"bccaa\", \"bcccccaa\"], [\"aa\", \"aa\", \"aa\"], [\"a\", \"aa\", \"\"]]\n",
    "    for text, pattern, expected in test_cases:\n",
    "        returned = min_window_substring(text, pattern)\n",
    "        try:\n",
    "            assert returned == expected\n",
    "            # print(green('PASSED'))\n",
    "        except:\n",
    "            print(red('FAILED'))\n",
    "            print(text, pattern, expected, returned)\n",
    "\n",
    "test_min_window()"
   ]
  },
  {
   "cell_type": "markdown",
   "id": "c5e0e341",
   "metadata": {
    "hidden": true
   },
   "source": [
    "**Leetcode Solutions**:"
   ]
  },
  {
   "cell_type": "markdown",
   "id": "5c1bf4cd",
   "metadata": {
    "hidden": true
   },
   "source": [
    "Given two strings `s` and `t` of lengths `m` and `n` respectively, return the minimum window substring of `s` such that every character in `t` (including duplicates) is included in the window substring. If there is no such substring, return the empty string `\"\"`.\n",
    "\n",
    "- The testcases will be generated such that the answer is unique.\n",
    "\n",
    "- A substring is a contiguous sequence of characters within the string.\n",
    "\n",
    " \n",
    "\n",
    "- Example 1:\n",
    "    - Input: s = \"ADOBECODEBANC\", t = \"ABC\"\n",
    "    - Output: \"BANC\"\n",
    "    - Explanation: The minimum window substring \"BANC\" includes 'A', 'B', and 'C' from string t.\n",
    "- Example 2:\n",
    "    - Input: s = \"a\", t = \"a\"\n",
    "    - Output: \"a\"\n",
    "    - Explanation: The entire string s is the minimum window.\n",
    "- Example 3:\n",
    "    - Input: s = \"a\", t = \"aa\"\n",
    "    - Output: \"\"\n",
    "    - Explanation: Both 'a's from t must be included in the window. Since the largest window of s only has one 'a', return empty string.\n",
    " \n",
    "\n",
    "- Constraints:\n",
    "    - m == len(s)\n",
    "    - n == len(t)\n",
    "    - 1 <= m, n <= 105\n",
    "    - `s` and `t` consist of uppercase and lowercase English letters.\n",
    " \n",
    "\n",
    "- **Follow up**: Could you find an algorithm that runs in O(m + n) time?"
   ]
  },
  {
   "cell_type": "markdown",
   "id": "730c85a8",
   "metadata": {
    "hidden": true
   },
   "source": [
    "<div style=\"text-align:center\" ><img src=\"../assets/min_win_substring.png\" width=\"500\" height=\"300\" /></div>"
   ]
  },
  {
   "cell_type": "code",
   "execution_count": 101,
   "id": "57a893b3",
   "metadata": {
    "code_folding": [],
    "hidden": true
   },
   "outputs": [],
   "source": [
    "def min_window_v1(s: str, t: str):\n",
    "\n",
    "    res = (float('inf'), -1, -1) # (length, left_idx, right_idx)\n",
    "    chars_count = Counter(t)\n",
    "    remaining_to_cover = len(t)\n",
    "    left = 0\n",
    "\n",
    "    for right, right_char in enumerate(s):\n",
    "        if right_char in t:\n",
    "            chars_count[right_char] -= 1\n",
    "\n",
    "            # Note the effects of `>=` vs `==`.\n",
    "            if chars_count[right_char] >= 0: remaining_to_cover -= 1\n",
    "\n",
    "        while remaining_to_cover == 0:\n",
    "            if right-left + 1 < res[0]:\n",
    "                res = (right-left + 1, left, right)\n",
    "\n",
    "            left_char = s[left]\n",
    "            if left_char in t:\n",
    "                chars_count[left_char] += 1\n",
    "                if chars_count[left_char] > 0: remaining_to_cover += 1\n",
    "            left += 1\n",
    "\n",
    "    return \"\" if res[0] == float('inf') else s[res[1] : res[2]+1]"
   ]
  },
  {
   "cell_type": "code",
   "execution_count": 102,
   "id": "08f5687d",
   "metadata": {
    "code_folding": [],
    "hidden": true
   },
   "outputs": [],
   "source": [
    "def min_window_v2(s: str, t: str):\n",
    "\n",
    "    chars_count = Counter(t)\n",
    "    res = (-1, -1)\n",
    "    remaining_to_cover = len(t)\n",
    "    left = 0\n",
    "\n",
    "    for right, right_char in enumerate(s):\n",
    "        if right_char in t:\n",
    "            chars_count[right_char] -= 1\n",
    "            if chars_count[right_char] >= 0: remaining_to_cover -= 1\n",
    "\n",
    "        while remaining_to_cover == 0:\n",
    "            cur_len = res[1] - res[0]\n",
    "            if cur_len == 0 or cur_len > right - left:\n",
    "                res = (left, right)\n",
    "\n",
    "            left_char = s[left]\n",
    "            if left_char in t:\n",
    "                chars_count[left_char] += 1\n",
    "                if chars_count[left_char] > 0: remaining_to_cover += 1\n",
    "            left += 1\n",
    "\n",
    "    return \"\" if res == (-1, -1) else s[res[0] : res[1]+1]"
   ]
  },
  {
   "cell_type": "code",
   "execution_count": 103,
   "id": "d5607653",
   "metadata": {
    "code_folding": [],
    "hidden": true
   },
   "outputs": [],
   "source": [
    "def min_window(s: str, t: str):\n",
    "    if not t or not s: return \"\"\n",
    "    cnt_ptrn_chrs = Counter(t)  # Counts of Pattern Characters\n",
    "    req_len = len(cnt_ptrn_chrs)  # Number of required lenght\n",
    "\n",
    "    left, right = 0, 0  # left and right pointer\n",
    "    curr_len = 0\n",
    "    cnt_win_chrs = {}  # Counts of Window Characters\n",
    "\n",
    "    # ans tuple of the form (window length, left, right)\n",
    "    ans = float(\"inf\"), None, None\n",
    "\n",
    "    for right, char in enumerate(s):\n",
    "\n",
    "        # Add one character from the right to the window\n",
    "        cnt_win_chrs[char] = cnt_win_chrs.get(char, 0) + 1\n",
    "\n",
    "        if char in cnt_ptrn_chrs and cnt_win_chrs[char] == cnt_ptrn_chrs[char]:\n",
    "            curr_len += 1\n",
    "\n",
    "        # Try and contract the window till it ceases to be 'desirable'.\n",
    "        while (left <= right) and (curr_len == req_len):\n",
    "            char = s[left]\n",
    "\n",
    "            # Save the smallest window until now.\n",
    "            if right-left + 1 < ans[0]: ans = (right-left + 1, left, right)\n",
    "\n",
    "            # s[left] is no longer a part of the window.\n",
    "            cnt_win_chrs[char] -= 1\n",
    "            if char in cnt_ptrn_chrs and cnt_win_chrs[char] < cnt_ptrn_chrs[char]:\n",
    "                curr_len -= 1\n",
    "\n",
    "            # increment left pointer to look for a new shrunk window.\n",
    "            left += 1\n",
    "\n",
    "    return \"\" if ans[0] == float(\"inf\") else s[ans[1]:ans[2] + 1]"
   ]
  },
  {
   "cell_type": "markdown",
   "id": "1399b3be",
   "metadata": {
    "hidden": true
   },
   "source": [
    "ChatGPT Solution:"
   ]
  },
  {
   "cell_type": "code",
   "execution_count": 104,
   "id": "3a58cf88",
   "metadata": {
    "code_folding": [],
    "hidden": true,
    "tags": []
   },
   "outputs": [],
   "source": [
    "def min_window_substring(s, t):\n",
    "    if not s or not t: return \"\"\n",
    "\n",
    "    t_counts = Counter(t)\n",
    "    required = len(t_counts)\n",
    "    left, right = 0, 0\n",
    "    min_len = float(\"inf\")\n",
    "    min_start = 0\n",
    "    window_counts = {}\n",
    "    formed = 0\n",
    "\n",
    "    while right < len(s):\n",
    "        character = s[right]\n",
    "        window_counts[character] = window_counts.get(character, 0) + 1\n",
    "        if character in t_counts and window_counts[character] == t_counts[character]:\n",
    "            formed += 1\n",
    "\n",
    "        while left <= right and formed == required:\n",
    "            character = s[left]\n",
    "            if right - left + 1 < min_len:\n",
    "                min_len = right - left + 1\n",
    "                min_start = left\n",
    "            window_counts[character] -= 1\n",
    "            if character in t_counts and window_counts[character] < t_counts[character]:\n",
    "                formed -= 1\n",
    "            left += 1\n",
    "\n",
    "        right += 1\n",
    "\n",
    "    return \"\" if min_len == float(\"inf\") else s[min_start : min_start + min_len]\n"
   ]
  },
  {
   "cell_type": "markdown",
   "id": "489cdc40",
   "metadata": {
    "hidden": true
   },
   "source": [
    "This code uses a sliding window approach to find the minimum window substring. It uses two pointers, left and right, to expand and contract the window until all the characters in `t` are included in the window. The variable `formed` keeps track of how many unique characters in `t` are present in the window, and `min_len` and `min_start` keep track of the minimum length and starting index of the window. The code runs in `O(n)` time, where `n` is the length of the string s."
   ]
  },
  {
   "cell_type": "code",
   "execution_count": null,
   "id": "636455b3",
   "metadata": {
    "code_folding": [
     0
    ],
    "hidden": true
   },
   "outputs": [],
   "source": [
    "def test_min_window():\n",
    "    test_cases = [[\"ADOBAEECODEBANC\", \"ABC\", \"BANC\"], [\"bbcccccaaaa\", \"bccaa\", \"bcccccaa\"], [\"aa\", \"aa\", \"aa\"], [\"a\", \"aa\", \"\"]]\n",
    "    for text, pattern, expected in test_cases:\n",
    "        returned = min_window_v2(text, pattern)\n",
    "        try:\n",
    "            assert returned == expected == min_window(text, pattern) == min_window_v1(text, pattern)\n",
    "            print(green('PASSED'))\n",
    "        except:\n",
    "            print(red('FAILED'))\n",
    "            print(text, pattern, expected, returned)\n",
    "# ==================================================================================\n",
    "test_min_window()"
   ]
  },
  {
   "cell_type": "markdown",
   "id": "2da261af",
   "metadata": {
    "heading_collapsed": true,
    "jp-MarkdownHeadingCollapsed": true,
    "tags": []
   },
   "source": [
    "##### Find the smallest subarray covering all values - [EPI:12.7]"
   ]
  },
  {
   "cell_type": "markdown",
   "id": "6cca61e7",
   "metadata": {
    "hidden": true
   },
   "source": [
    "Write a program which takes an array of strings `paragraph` and a set/list of strings `words`, and return the indices of the starting and ending index of a shortest subarray of the given array `paragraph` that \"covers\" the other given set/list, i.e., contains all strings in the set/list.\n",
    "\n",
    "`NOTE`: According to the problem statement sequential order is not needed to maintain.\n",
    "\n",
    "`Hint`: What is the maximum number of minimal subarrays that can cover the query?\n"
   ]
  },
  {
   "cell_type": "code",
   "execution_count": 26,
   "id": "c1a00bf2",
   "metadata": {
    "hidden": true
   },
   "outputs": [],
   "source": [
    "def smallest_subarray(paragraph: str, keywords: str):\n",
    "    kwcount = Counter(keywords)\n",
    "    have = len(keywords)\n",
    "\n",
    "    left, min_len, idxs = 0, float('inf'), [-1, -1]\n",
    "\n",
    "    for right, char in enumerate(paragraph):\n",
    "        if char in kwcount: \n",
    "            kwcount[char] -= 1\n",
    "            if kwcount[char] >= 0: have -= 1\n",
    "\n",
    "        while have == 0:\n",
    "            cur_len = right-left + 1\n",
    "            if cur_len < min_len:\n",
    "                min_len = cur_len\n",
    "                idxs[0] = left\n",
    "                idxs[1] = right\n",
    "            \n",
    "            left_char = paragraph[left]\n",
    "            \n",
    "            if left_char in kwcount: \n",
    "                kwcount[left_char] += 1\n",
    "                if kwcount[left_char] > 0: have += 1\n",
    "            left += 1\n",
    "\n",
    "    return \"\" if min_len == float('inf') else paragraph[idxs[0]: idxs[1]+1]"
   ]
  },
  {
   "cell_type": "code",
   "execution_count": 27,
   "id": "65ebcf36",
   "metadata": {},
   "outputs": [],
   "source": [
    "def smallest_subarray_v2(s, t):\n",
    "    need_to_cover = len(t)\n",
    "    t_count = Counter(t)\n",
    "    left = 0\n",
    "    res = float('inf'),-1,-1\n",
    "\n",
    "    for right, right_char in enumerate(s):\n",
    "        if right_char in t_count:\n",
    "            t_count[right_char] -= 1\n",
    "            if t_count[right_char] >= 0: need_to_cover -= 1\n",
    "        \n",
    "        while need_to_cover == 0:\n",
    "            if right-left+1 < res[0]: res = right+left+1, left, right\n",
    "            if s[left] in t_count: t_count[s[left]] += 1\n",
    "            if t_count[s[left]] > 0: need_to_cover += 1\n",
    "            left += 1\n",
    "    print(res)\n",
    "    return \"\" if res[0] == float('inf') else s[res[1]: res[2]+1]"
   ]
  },
  {
   "cell_type": "code",
   "execution_count": 28,
   "id": "961068fe",
   "metadata": {
    "code_folding": [],
    "hidden": true
   },
   "outputs": [],
   "source": [
    "def smallest_subarray_v3(paragraph: str, keywords: str):\n",
    "\n",
    "    keywords_to_cover = Counter(keywords)\n",
    "    res = (float('inf'), -1, -1)\n",
    "    remaining_to_cover = len(keywords)\n",
    "    left = 0\n",
    "\n",
    "    for right, right_word in enumerate(paragraph):\n",
    "        if right_word in keywords:\n",
    "            keywords_to_cover[right_word] -= 1\n",
    "            \n",
    "            # NOTE: Differentiate the effect of `>=` vs `==`.\n",
    "            if keywords_to_cover[right_word] >= 0: remaining_to_cover -= 1\n",
    "\n",
    "        while remaining_to_cover == 0:\n",
    "            if right - left + 1 < res[0]:\n",
    "                res = (right - left + 1, left, right)\n",
    "\n",
    "            left_word = paragraph[left]\n",
    "            if left_word in keywords:\n",
    "                keywords_to_cover[left_word] += 1\n",
    "                if keywords_to_cover[left_word] > 0: remaining_to_cover += 1\n",
    "            left += 1\n",
    "\n",
    "    return \"\" if res[0] == float('inf') else paragraph[res[1] : res[2]+1]"
   ]
  },
  {
   "cell_type": "code",
   "execution_count": 29,
   "id": "862413e1",
   "metadata": {
    "code_folding": [],
    "hidden": true
   },
   "outputs": [],
   "source": [
    "# It returns subarray rather than indices unlike previous function.\n",
    "def min_window(s: str, t: str):\n",
    "    chars_count = Counter(t)\n",
    "    res = (float('inf'), -1, -1)\n",
    "    remaining_to_cover = len(t)\n",
    "    left = 0\n",
    "\n",
    "    for right, right_char in enumerate(s):\n",
    "        if right_char in t:\n",
    "            chars_count[right_char] -= 1\n",
    "            \n",
    "            # Note the effects of `>=` vs `==`.\n",
    "            if chars_count[right_char] >= 0: remaining_to_cover -= 1\n",
    "\n",
    "        while remaining_to_cover == 0:\n",
    "            if right-left +1 < res[0]:\n",
    "                res = (right-left+1, left, right)\n",
    "\n",
    "            left_char = s[left]\n",
    "            if left_char in t:\n",
    "                chars_count[left_char] += 1\n",
    "                if chars_count[left_char] > 0: remaining_to_cover += 1\n",
    "            left += 1\n",
    "\n",
    "    return \"\" if res[0] == float('inf') else s[res[1] : res[2]+1]"
   ]
  },
  {
   "cell_type": "code",
   "execution_count": null,
   "id": "dc360628",
   "metadata": {},
   "outputs": [],
   "source": [
    "def smallest_subarray(t, p):\n",
    "    if len(p) > len(t) or t\n",
    "    p_count = Counter(p)\n",
    "    p_length = len(p)\n",
    "    result = 0, -1, -1\n",
    "    left = 0\n",
    "\n",
    "    for i, char in enumerate(t):\n",
    "        if char in p_count:\n",
    "            p_count[char] -= 1\n",
    "            if p_count[char] >= 0: p_length -= 1\n",
    "        \n",
    "        while p_length == 0:\n",
    "            if result[0] < i-left+1:\n",
    "                result = i-left+1, left, i\n",
    "            left_char = t[left]\n",
    "            if left_char in p_count:\n",
    "                p_count[left_char] += 1\n",
    "                if p_count[left_char] > 0:\n",
    "                    p_length += 1\n",
    "            left += 1\n",
    "\n",
    "    return t[result[1]: result[2]+1]"
   ]
  },
  {
   "cell_type": "code",
   "execution_count": null,
   "id": "fcfa4c34",
   "metadata": {
    "hidden": true
   },
   "outputs": [],
   "source": [
    "def test_min_window():\n",
    "    test_cases = [[\"ADOBECODEBANC\", \"ABC\", \"BANC\"], [\"bbcccccaaaa\", \"bccaa\", \"bcccccaa\"], [\"aa\", \"aa\", \"aa\"], [\"a\", \"aa\", \"\"]]\n",
    "    callable = [smallest_subarray, smallest_subarray_v2, min_window]\n",
    "    for text, pattern, expected in test_cases:\n",
    "        for func in callable:\n",
    "            returned = func(text, pattern)\n",
    "            try:\n",
    "                assert returned == expected\n",
    "            except:\n",
    "                print(f\"{func.__name__}\")\n",
    "                print(f\"Pattern: {pattern}\\n Text:{text} \\n Expected: {expected} \\n Returned: {returned}\")\n",
    "\n",
    "test_min_window()"
   ]
  },
  {
   "cell_type": "markdown",
   "id": "7da261e3",
   "metadata": {},
   "source": [
    "- **Time Complexity:** $ O(n) $, where $ n $ is the length of `paragraph`.\n",
    "- **Space Complexity:** $ O(m) $, where $ m $ is the number of unique characters in `keywords`."
   ]
  },
  {
   "cell_type": "code",
   "execution_count": null,
   "id": "857e0ab7",
   "metadata": {},
   "outputs": [],
   "source": []
  },
  {
   "cell_type": "markdown",
   "id": "a9131c11",
   "metadata": {},
   "source": [
    "##### Length of longest substring containing no more than `k` distinct characters. - [YT: CoderByte](https://www.youtube.com/watch?v=BgK4IDBEXro&t=230s) | [YT: ML Tech Track](https://www.youtube.com/watch?v=V1gF8FCHz60) | [Techie Delight](https://www.techiedelight.com/find-longest-substring-containing-k-distinct-characters/)"
   ]
  },
  {
   "cell_type": "markdown",
   "id": "d1472ef0",
   "metadata": {},
   "source": [
    "Given a string, find the length of the longest substring that contains no more than `k` distinct characters."
   ]
  },
  {
   "cell_type": "markdown",
   "id": "4b117320",
   "metadata": {},
   "source": [
    "- Method 1:"
   ]
  },
  {
   "cell_type": "code",
   "execution_count": null,
   "id": "ea6651bc",
   "metadata": {},
   "outputs": [],
   "source": [
    "def len_longest_substring(text: str, k: int):\n",
    "    char_count = {}\n",
    "    left = 0\n",
    "    max_len = [0, -1, -1] # [length, left_idx, right_idx]\n",
    "\n",
    "    for right, right_char in enumerate(text):\n",
    "        char_count[right_char] = char_count.get(right_char, 0) + 1\n",
    "\n",
    "        while len(char_count) > k:\n",
    "            left_char = text[left]\n",
    "            char_count[left_char] -= 1\n",
    "            if char_count[left_char] <= 0: del char_count[left_char]\n",
    "            left += 1\n",
    "\n",
    "        cur_win_len = right-left + 1\n",
    "        if cur_win_len > max_len[0]:\n",
    "            max_len[0], max_len[1], max_len[2]  = cur_win_len, left, right\n",
    "\n",
    "    return max_len[0]"
   ]
  },
  {
   "cell_type": "markdown",
   "id": "1b78ab6a",
   "metadata": {},
   "source": [
    "- Method 2:"
   ]
  },
  {
   "cell_type": "code",
   "execution_count": null,
   "id": "8c310fbc",
   "metadata": {},
   "outputs": [],
   "source": [
    "def longest_substring(s: str, k: int) -> int:\n",
    "    if len(s) == 0 or k == 0: return 0\n",
    "    max_len = 0\n",
    "    left = 0\n",
    "    seen = dict()\n",
    "    \n",
    "    for right, right_char in enumerate(s):\n",
    "        if right_char not in seen: k -= 1\n",
    "        seen[right_char] = right\n",
    "        \n",
    "        while k < 0: # k+ characters in seen\n",
    "            left_char = s[left]\n",
    "            if seen[left_char] == left:\n",
    "                k += 1\n",
    "                del seen[left_char]\n",
    "            left += 1\n",
    "            \n",
    "        max_len = max(max_len, right-left + 1)\n",
    "    return max_len"
   ]
  },
  {
   "cell_type": "code",
   "execution_count": null,
   "id": "248a229f",
   "metadata": {},
   "outputs": [],
   "source": [
    "def _test_longest_substring():\n",
    "    test_cases = [[\"acccpbbebi\", 3, 6], [\"aaaabbcccd\", 1, 4], \n",
    "                  [\"abcdefg\", 10, 7], ['', 3, 0]]\n",
    "\n",
    "    for text, k, expected in test_cases:\n",
    "        result = len_longest_substring(text, k)\n",
    "        # print(result[0])\n",
    "        assert result == expected == longest_substring(text, k)\n",
    "\n",
    "\n",
    "    test_size = 10\n",
    "    test_cases = [''.join(choices(list(string.ascii_uppercase), k=randint(10, 20))) \n",
    "                  for _ in range(test_size)]\n",
    "    ks = [randint(1, 5) for _ in range(test_size)]\n",
    "\n",
    "    for s, k in zip(test_cases, ks):\n",
    "        # print(f\"Input: {s}, k: {k}, Output: {longest_substring(s,k)}\")\n",
    "        assert len_longest_substring(text, k) == longest_substring(text, k)\n",
    "\n",
    "# ==========================================================================\n",
    "_test_longest_substring()"
   ]
  },
  {
   "cell_type": "markdown",
   "id": "0092261e",
   "metadata": {
    "heading_collapsed": true,
    "jp-MarkdownHeadingCollapsed": true,
    "tags": []
   },
   "source": [
    "##### Find smallest subarray sequentially covering all values. - [EPI:12.8] [interviewing.io](https://www.youtube.com/watch?v=10WnvBk9sZc&t=1087s)"
   ]
  },
  {
   "cell_type": "markdown",
   "id": "27199858",
   "metadata": {
    "hidden": true
   },
   "source": [
    "Write a program that takes two arrays of strings, and return the indices of\n",
    "the starting and ending index of a shortest subarray of the first array\n",
    "(`paragraph`) that \"sequentially covers\" the second array (`keywords`), i.e.,\n",
    "contains all the strings in the second array (`keywords`), in the order in which\n",
    "they appear in the (`keywords`) array.\n",
    "\n",
    "- Example:\n",
    "    - paragraph: [apple, banana, cat, apple]\n",
    "    - keywords: [banana, apple]\n",
    "    - You can assume all keywords are distinct.\n",
    "    - The paragraph subarray starting at index `0` and ending at index `1` does not fulfill the requirements , eventhough it contains all the keywords, since they do not appear in the specified order.\n",
    "    - the subarray starting at index `1` and ending at index `3` does fulfill the specification.\n",
    "\n",
    "`NOTE`: According to the problem statement, sequential order needs to be maintained.\n",
    "\n",
    "`Hint`: For each index in the paragraph array, compute the shortest subarray\n",
    "ending at that index which fulfillsthe specification."
   ]
  },
  {
   "cell_type": "markdown",
   "id": "7cc6cb19",
   "metadata": {
    "hidden": true
   },
   "source": [
    "<font color='magenta'> Outline of the Algorithm: </font>\n",
    "\n",
    "- Four Variables:\n",
    "    - `keyword_to_idx`: `dict`\n",
    "        - keep track of index of each keyword in `keywords` list:\n",
    "        - identifier of each keyword (each keyword is identified by its index)\n",
    "    - `latest_occurrence`: `list`:\n",
    "        - keep track of last occurance of each keyword in the `paragraph`.\n",
    "    - `shorest_lengths`: `list`\n",
    "        - collection of shortest length.\n",
    "        - For each keyword (identified by its index), the length of the shortest subarray ending at the most recent occurrence of that keyword that sequentially cover all keywords up to that keyword.\n",
    "    - `shortest_len`: `int`\n",
    "        - the best shortest length.\n",
    "\n",
    "- for `right`, `word` in enumerate(paragraph):\n",
    "    - Case-1: if `word` in the `keywords`:\n",
    "        - Subcase-1: if the `word` is the $1^{st}$ keyword of the `keywords` list:\n",
    "            - set the length upto the first keyword is 1.\n",
    "        - Subcase-2: if the `word` is the intermediate keyword of the `keywords` list:\n",
    "            - shorest_lengths[`word`] = shortest length upto `the keyword right before this keyword` + length of `the keyword right before this keyword` to this keyword\n",
    "        - Subcase-3: if the `word` is the last keyword of the `keywords` list:\n",
    "            - update the shortest length computed so far\n",
    "            - update the result\n",
    "    - Case-2: if `word` not in the `keywords`:\n",
    "        - Do Nothing"
   ]
  },
  {
   "cell_type": "code",
   "execution_count": null,
   "id": "c61f2d0f",
   "metadata": {
    "code_folding": [],
    "hidden": true
   },
   "outputs": [],
   "source": [
    "def smallest_sequentially_covering_subset(paragraph, keywords) -> Subarray:\n",
    "\n",
    "    keyword_to_idx = {k: i for i, k in enumerate(keywords)}\n",
    "    latest_occurrence = [-1] * len(keywords)\n",
    "    shortest_lengths = [float('inf')] * len(keywords)\n",
    "    shortest_len = float('inf')\n",
    "    result = (-1, -1)\n",
    "\n",
    "    for right, word in enumerate(paragraph):\n",
    "\n",
    "        if word in keyword_to_idx:\n",
    "            keyword_idx = keyword_to_idx[word]\n",
    "\n",
    "            # Case-1: if `word` is first keyword in `keywords` list\n",
    "            if keyword_idx == 0: shortest_lengths[keyword_idx] = 1\n",
    "\n",
    "            # Case-2: `word` is not the first/last keyword in `keywords` list\n",
    "            elif shortest_lengths[keyword_idx - 1] != float('inf'):\n",
    "\n",
    "                # distance upto the imidiate previous keyword\n",
    "                dist_upto_prev = shortest_lengths[keyword_idx - 1]\n",
    "\n",
    "                # distance from the imidiate previous keyword to this `word`\n",
    "                dist_from_prev = (right - latest_occurrence[keyword_idx - 1])\n",
    "\n",
    "                # distance upto this keyword\n",
    "                shortest_lengths[keyword_idx] = dist_upto_prev + dist_from_prev\n",
    "\n",
    "            latest_occurrence[keyword_idx] = right\n",
    "\n",
    "\n",
    "            # Case-3: if the `word` is last keyword in `keywords` list\n",
    "            is_last_keyword = keyword_idx == len(keywords) - 1\n",
    "            if (is_last_keyword and shortest_lengths[-1] < shortest_len):\n",
    "\n",
    "                shortest_len = shortest_lengths[-1]\n",
    "                result = (right - shortest_len + 1, right)\n",
    "\n",
    "    return result[1] - result[0] + 1"
   ]
  },
  {
   "cell_type": "markdown",
   "id": "23333ecd",
   "metadata": {
    "heading_collapsed": true,
    "jp-MarkdownHeadingCollapsed": true,
    "tags": []
   },
   "source": [
    "##### Find the longest subarray with distinct entries. - [EPI:12.9]."
   ]
  },
  {
   "cell_type": "markdown",
   "id": "e24e730d",
   "metadata": {
    "hidden": true
   },
   "source": [
    "Write a program that takes an array and returns the length of a longest\n",
    "subarray with the property that all its elements are distinct.\n",
    "\n",
    "- Example\n",
    "    - Input: [f,s,f,e,t,w,e,n,w,e]\n",
    "    - Output: 5; a longest subarray is [s,f,e,t,w].\n",
    "\n",
    "`Hint`: What should you do if the subarray from indices `i` to `j` satisfies the\n",
    "property, but the subarray from `i` to `j+1` does not?"
   ]
  },
  {
   "cell_type": "code",
   "execution_count": 65,
   "id": "67d82a80",
   "metadata": {
    "hidden": true
   },
   "outputs": [],
   "source": [
    "def len_lon_subarr_with_distinct_entries(items):\n",
    "    max_len = 0\n",
    "    left = 0\n",
    "    unique_items = set()\n",
    "\n",
    "    for right, num in enumerate(items):\n",
    "        while num in unique_items:\n",
    "            unique_items.remove(items[left])\n",
    "            left += 1\n",
    "        unique_items.add(num)\n",
    "\n",
    "        max_len = max(max_len, right-left+1)\n",
    "    return max_len"
   ]
  },
  {
   "cell_type": "code",
   "execution_count": 66,
   "id": "b323ca6b",
   "metadata": {
    "code_folding": [],
    "hidden": true
   },
   "outputs": [],
   "source": [
    "def len_lon_subarr_with_distinct_entries_v1(A):\n",
    "\n",
    "    # Records the most recent occurrences of each entry.\n",
    "    most_recent_occurrence = {}\n",
    "\n",
    "    left = 0  # longest_dup_free_subarray_start_idx\n",
    "    result = 0\n",
    "\n",
    "    for right, cur_elm in enumerate(A):\n",
    "\n",
    "        # Defer updating `prev_occurance_idx` until we see a duplicate.\n",
    "        if cur_elm in most_recent_occurrence:\n",
    "            prev_occurance_idx = most_recent_occurrence[cur_elm]\n",
    "\n",
    "            # if `cur_elm` appears in the current duplicate free subarray?\n",
    "            if prev_occurance_idx >= left:\n",
    "                result = max(result, right - left)\n",
    "                left = prev_occurance_idx + 1\n",
    "\n",
    "        most_recent_occurrence[cur_elm] = right\n",
    "\n",
    "    return max(result, len(A) - left)"
   ]
  },
  {
   "cell_type": "code",
   "execution_count": 70,
   "id": "63f4e60d",
   "metadata": {
    "code_folding": [
     0
    ],
    "hidden": true
   },
   "outputs": [],
   "source": [
    "def len_lon_subarr_with_distinct_entries_v2(A):\n",
    "    char_idx = {}\n",
    "    max_len, left_idx, right_idx = 0, -1, -1\n",
    "    left = 0\n",
    "    \n",
    "    for right, right_char in enumerate(A):\n",
    "        if right_char in char_idx and left <= char_idx[right_char]:\n",
    "            # cur_len = right - char_idx[right_char] => ERROR!\n",
    "            cur_len = right - left\n",
    "            if cur_len > max_len:\n",
    "                max_len, left_idx, right_idx = cur_len, left, right\n",
    "            left = char_idx[right_char] + 1\n",
    "        \n",
    "        char_idx[right_char] = right\n",
    "    \n",
    "    if len(A)-left > max_len:\n",
    "        max_len, left_idx, right_idx = len(A)-left, left, len(A)\n",
    "\n",
    "    return max_len"
   ]
  },
  {
   "cell_type": "code",
   "execution_count": 71,
   "id": "1012f88c",
   "metadata": {},
   "outputs": [],
   "source": [
    "def len_lon_subarr_with_distinct_entries_v3(items):\n",
    "    max_len, left_idx, right_idx = 0, -1, -1\n",
    "    item_idx = {}\n",
    "    left = 0\n",
    "\n",
    "    for right, item in enumerate(items):\n",
    "        while item in item_idx and left <= item_idx[item]:\n",
    "            left += 1\n",
    "\n",
    "        if max_len < right-left+1:\n",
    "            max_len, left_idx, right_idx = right-left+1, left, right+1\n",
    "\n",
    "        item_idx[item] = right\n",
    "\n",
    "    return max_len"
   ]
  },
  {
   "cell_type": "code",
   "execution_count": 72,
   "id": "881312f0",
   "metadata": {
    "code_folding": [
     0
    ],
    "hidden": true
   },
   "outputs": [],
   "source": [
    "def test_len_longest_subarray_with_distinct_entries():\n",
    "    funcs = [len_lon_subarr_with_distinct_entries, len_lon_subarr_with_distinct_entries_v1, len_lon_subarr_with_distinct_entries_v2, len_lon_subarr_with_distinct_entries_v3]\n",
    "    for func in funcs:\n",
    "        for nums, expected in DATA['len_lon_subarr_with_distinct_entries']:\n",
    "            returned = func(nums)\n",
    "            try:\n",
    "                assert returned == expected\n",
    "                # print(green('PASSED'))\n",
    "            except:\n",
    "                print(red('FAILED'))\n",
    "                print(f\"{func.__name__}({nums}) -> {returned}\")\n",
    "                print(f\"Expected: {expected}\")\n",
    "# ===========================================================================================\n",
    "test_len_longest_subarray_with_distinct_entries()"
   ]
  },
  {
   "cell_type": "markdown",
   "id": "cabc4b7e",
   "metadata": {
    "heading_collapsed": true,
    "jp-MarkdownHeadingCollapsed": true,
    "tags": []
   },
   "source": [
    "##### Find the length of a longest contained interval. - [EPI:12.10]. [interviewing.io](https://www.youtube.com/watch?v=XXLVi2y2GrY)"
   ]
  },
  {
   "cell_type": "markdown",
   "id": "6fc3c76a",
   "metadata": {
    "hidden": true
   },
   "source": [
    "Write a program which takes as input an array of integers and returns the size of a largest subset of integers in the array having the property that if two integers are in the subset, then so are all integers between them.\n",
    "\n",
    "For example, if the input is `[3, -2, 7, 9, 8, 7, 2, 0, -1, 5, 8]`, the largest such subset is `[-2, -1, 0, 1, 2, 3]`, so you should return 6.\n",
    "\n",
    "`Hint`: Do you really need a total ordering on the input?"
   ]
  },
  {
   "cell_type": "code",
   "execution_count": null,
   "id": "ad6d353f",
   "metadata": {
    "code_folding": [
     0
    ],
    "hidden": true
   },
   "outputs": [],
   "source": [
    "def longest_contained_range(nums):\n",
    "\n",
    "    # unprocessed_entries records the existence of each entry in nums.\n",
    "    unprocessed_entries, max_len = set(nums), 0\n",
    "    \n",
    "    while unprocessed_entries:\n",
    "        a = unprocessed_entries.pop()\n",
    "\n",
    "        # Finds the lower bound of the largest range containing a.\n",
    "        lower_bound = a - 1\n",
    "        while lower_bound in unprocessed_entries:\n",
    "            unprocessed_entries.remove(lower_bound)\n",
    "            lower_bound -= 1\n",
    "\n",
    "        # Finds the upper bound of the largest range containing a.\n",
    "        upper_bound = a + 1\n",
    "        while upper_bound in unprocessed_entries:\n",
    "            unprocessed_entries.remove(upper_bound)\n",
    "            upper_bound += 1\n",
    "\n",
    "        max_len = max(max_len, upper_bound - lower_bound - 1)\n",
    "    return max_len"
   ]
  },
  {
   "cell_type": "markdown",
   "id": "b5400878",
   "metadata": {
    "heading_collapsed": true,
    "hidden": true
   },
   "source": [
    "###### [128.Longest Consecutive Sequence](https://leetcode.com/problems/longest-consecutive-sequence/)"
   ]
  },
  {
   "cell_type": "markdown",
   "id": "2f6307af",
   "metadata": {
    "hidden": true
   },
   "source": [
    "Given an unsorted array of integers nums, return the length of the longest consecutive elements sequence.\n",
    "\n",
    "- You must write an algorithm that runs in O(n) time.\n",
    "\n",
    " \n",
    "\n",
    "- Example 1:\n",
    "\n",
    "    - Input: \n",
    "        - nums = [100,4,200,1,3,2]\n",
    "        - Output: 4\n",
    "    - Explanation: The longest consecutive elements sequence is [1, 2, 3, 4]. Therefore its length is 4.\n",
    "\n",
    "\n",
    "- Example 2:\n",
    "\n",
    "    - Input: nums = [0,3,7,2,5,8,4,6,0,1]\n",
    "    - Output: 9\n",
    " \n",
    "\n",
    "- Constraints:\n",
    "\n",
    "    - 0 <= nums.length <= $10^5$\n",
    "    - $-10^9$ <= nums[i] <= $10^9$"
   ]
  },
  {
   "cell_type": "code",
   "execution_count": null,
   "id": "298ebe26",
   "metadata": {
    "hidden": true
   },
   "outputs": [],
   "source": [
    "def len_longest_consecutive(nums: List[int]) -> int:\n",
    "    num_set = set(nums)\n",
    "    longest = 0\n",
    "    \n",
    "    for num in nums:\n",
    "        # check if its the start of a sequence\n",
    "        if (num - 1) not in num_set:\n",
    "            length = 1\n",
    "            while (num + length) in num_set: length += 1\n",
    "            longest = max(length, longest)\n",
    "\n",
    "    return longest"
   ]
  },
  {
   "cell_type": "code",
   "execution_count": null,
   "id": "d2176fee",
   "metadata": {
    "hidden": true
   },
   "outputs": [],
   "source": []
  },
  {
   "cell_type": "markdown",
   "id": "9fd25f14",
   "metadata": {
    "heading_collapsed": true,
    "jp-MarkdownHeadingCollapsed": true,
    "tags": []
   },
   "source": [
    "##### Find the subarray that sums up to zero from the array of integers. - [zero sum subarray](https://www.youtube.com/watch?v=hLcYp67wCcM&list=PLNmW52ef0uwsjnM06LweaYEZr-wjPKBnj&index=17) || <b style=\"color:red\">***</b>"
   ]
  },
  {
   "cell_type": "markdown",
   "id": "43250fd2",
   "metadata": {
    "hidden": true
   },
   "source": [
    "Given an array of integers (`positive` and `negative`), find the subarray that sums up to zero."
   ]
  },
  {
   "cell_type": "code",
   "execution_count": 11,
   "id": "40f9a11d",
   "metadata": {
    "hidden": true
   },
   "outputs": [],
   "source": [
    "def find_subarray_with_sum_zero(arr):\n",
    "    # Create a dictionary to store the cumulative sum and its corresponding index\n",
    "    cumulative_sum_map = {}\n",
    "    # Initialize the cumulative sum to 0\n",
    "    cumulative_sum = 0\n",
    "    \n",
    "    # Iterate over the array\n",
    "    for idx, value in enumerate(arr):\n",
    "        # Add the current value to the cumulative sum\n",
    "        cumulative_sum += value\n",
    "        \n",
    "        # If the cumulative sum is zero, we found a subarray from the beginning to the current index\n",
    "        if cumulative_sum == 0:\n",
    "            return arr[:idx+1]\n",
    "        \n",
    "        # If the cumulative sum has been seen before, we found a subarray with sum zero\n",
    "        if cumulative_sum in cumulative_sum_map:\n",
    "            start_idx = cumulative_sum_map[cumulative_sum] + 1\n",
    "            return arr[start_idx:idx+1]\n",
    "        \n",
    "        # Store the cumulative sum and its idx in the map\n",
    "        cumulative_sum_map[cumulative_sum] = idx\n",
    "    \n",
    "    # If no subarray with sum zero is found, return an empty list\n",
    "    return []"
   ]
  },
  {
   "cell_type": "markdown",
   "id": "db6fc1e9",
   "metadata": {
    "hidden": true
   },
   "source": [
    "- **Cumulative Sum**:\n",
    "\n",
    "    - The cumulative sum at a given index is the sum of all elements from the start of the array up to that index. For example, if the array is [2, 1, -3, 4], the cumulative sums are [2, 3, 0, 4].\n",
    "\n",
    "- **Hash Map for Cumulative Sums**:\n",
    "\n",
    "    - We use a hash map to store the cumulative sums as keys and their corresponding indices as values. This helps us quickly check if a cumulative sum has been seen before.\n",
    "\n",
    "- **Why It Works**:\n",
    "    - **Zero Sum from Start**: If at any point the cumulative sum is zero, it means that the subarray from the start of the array to the current index has a sum of zero.\n",
    "\n",
    "    - **Repeated Cumulative Sum**: If a cumulative sum is repeated, it means the elements between the two occurrences of this sum have a sum of zero. This is because the difference between the two sums is zero, indicating a subarray with a zero sum."
   ]
  },
  {
   "cell_type": "code",
   "execution_count": 12,
   "id": "3b7acfcb",
   "metadata": {
    "hidden": true
   },
   "outputs": [],
   "source": [
    "def find_subarray_with_sum_zero_v2(nums):\n",
    "    sum_dict = {0: -1}  # Initialize the sum dictionary with a dummy value\n",
    "    current_sum = 0\n",
    "\n",
    "    for i in range(len(nums)):\n",
    "        current_sum += nums[i]\n",
    "\n",
    "        if current_sum == 0:\n",
    "            return nums[:i+1]\n",
    "\n",
    "        if current_sum in sum_dict:\n",
    "            start_index = sum_dict[current_sum] + 1\n",
    "            return nums[start_index : i+1]\n",
    "\n",
    "        sum_dict[current_sum] = i\n",
    "\n",
    "    return []"
   ]
  },
  {
   "cell_type": "code",
   "execution_count": 28,
   "id": "8523894e",
   "metadata": {
    "hidden": true
   },
   "outputs": [],
   "source": [
    "# Function to print all sublists with a zero-sum present in a given list\n",
    "def find_subarray_with_sum_zero_v3(nums):\n",
    " \n",
    "    # consider all sublists starting from `i`\n",
    "    for i in range(len(nums)):\n",
    "        total = 0\n",
    "        # consider all sublists ending at `j`\n",
    "        for j in range(i, len(nums)):\n",
    "            # sum of elements so far\n",
    "            total += nums[j]\n",
    "            # if the sum is seen before, we have found a sublist with zero-sum\n",
    "            if total == 0:\n",
    "                return nums[i:j+1]\n",
    "    return []"
   ]
  },
  {
   "cell_type": "code",
   "execution_count": null,
   "id": "af395ec8",
   "metadata": {
    "hidden": true,
    "scrolled": true
   },
   "outputs": [],
   "source": [
    "def _test_subarray_sum_zero():\n",
    "    L = [[[], []], [[0], [0]], [[2,-1,1,3], [-1,1]], [[2,-1,1,1,-1], [-1,1]], \n",
    "         [[-1,-1,2], [-1,-1,2]], [[1,1,4,-2,-2, 5], [4,-2,-2]], [[4, 2, -3, 1, 6, -7], [2, -3, 1]]]\n",
    "    \n",
    "    for test_case, expected in L:\n",
    "        try:\n",
    "            returned1 = find_subarray_with_sum_zero(test_case)\n",
    "            assert returned1 == expected\n",
    "            returned2 = find_subarray_with_sum_zero_v2(test_case)\n",
    "            assert returned2 == expected\n",
    "            returned3 = find_subarray_with_sum_zero_v3(test_case)\n",
    "            assert returned3 == expected            \n",
    "            print(returned3, expected, green('PASSED'))\n",
    "        except:\n",
    "            print(returned3, expected, red('FAILED'))\n",
    "\n",
    "_test_subarray_sum_zero()"
   ]
  },
  {
   "cell_type": "code",
   "execution_count": null,
   "id": "af8efc47",
   "metadata": {
    "hidden": true
   },
   "outputs": [],
   "source": []
  },
  {
   "cell_type": "markdown",
   "id": "59f4b8c0",
   "metadata": {
    "heading_collapsed": true,
    "jp-MarkdownHeadingCollapsed": true,
    "tags": []
   },
   "source": [
    "##### Maximum of a Sliding Window. - [EPI: 24.12]"
   ]
  },
  {
   "cell_type": "markdown",
   "id": "418b1fe5",
   "metadata": {
    "hidden": true
   },
   "source": [
    "You are given traffic at various time stamps and a window length. Compute for\n",
    "each input times-tamp, the maximum traffic over the window length time interval\n",
    "which ends at that timestamp.\n",
    "\n",
    "`Hint`: You need to be able to identify the maximum element in a queue quickly."
   ]
  },
  {
   "cell_type": "code",
   "execution_count": null,
   "id": "7d6d922c",
   "metadata": {
    "code_folding": [
     0
    ],
    "hidden": true
   },
   "outputs": [],
   "source": [
    "class QueueWithMax:\n",
    "    def __init__(self):\n",
    "        self._entries: Deque[Any] = deque()\n",
    "        self._candidates_for_max: Deque[Any] = deque()\n",
    "\n",
    "    def enqueue(self, x):\n",
    "        self._entries.append(x)\n",
    "        # Eliminate dominated elements in _candidates_for_max.\n",
    "        while self._candidates_for_max and self._candidates_for_max[-1] < x:\n",
    "            self._candidates_for_max.pop()\n",
    "        self._candidates_for_max.append(x)\n",
    "\n",
    "    def dequeue(self):\n",
    "        result = self._entries.popleft()\n",
    "        if result == self._candidates_for_max[0]:\n",
    "            self._candidates_for_max.popleft()\n",
    "        return result\n",
    "\n",
    "    def max(self):\n",
    "        return self._candidates_for_max[0]\n",
    "\n",
    "    def head(self):\n",
    "        return self._entries[0]"
   ]
  },
  {
   "cell_type": "code",
   "execution_count": null,
   "id": "54e94268",
   "metadata": {
    "code_folding": [
     0
    ],
    "hidden": true
   },
   "outputs": [],
   "source": [
    "class TrafficElement:\n",
    "    def __init__(self, time: int, volume: float) -> None:\n",
    "        self.time = time\n",
    "        self.volume = volume\n",
    "\n",
    "    # Following operators are needed for QueueWithMax with maximum.\n",
    "    def __lt__(self, other):\n",
    "        return self.volume < other.volume\n",
    "\n",
    "    def __eq__(self, other):\n",
    "        return self.time == other.time and self.volume == other.volume"
   ]
  },
  {
   "cell_type": "code",
   "execution_count": null,
   "id": "c530a545",
   "metadata": {
    "code_folding": [
     0
    ],
    "hidden": true
   },
   "outputs": [],
   "source": [
    "def calculate_traffic_volumes(A: List[TrafficElement], w: int) -> List[TrafficElement]:\n",
    "\n",
    "    sliding_window = QueueWithMax()\n",
    "    maximum_volumes = []\n",
    "    for traffic_info in A:\n",
    "        sliding_window.enqueue(traffic_info)\n",
    "        while traffic_info.time - sliding_window.head().time > w:\n",
    "            sliding_window.dequeue()\n",
    "        maximum_volumes.append(TrafficElement(traffic_info.time, sliding_window.max().volume))\n",
    "    return maximum_volumes"
   ]
  },
  {
   "cell_type": "markdown",
   "id": "d27dfb49",
   "metadata": {
    "hidden": true
   },
   "source": [
    "- ChatGPT"
   ]
  },
  {
   "cell_type": "code",
   "execution_count": null,
   "id": "f9cee442",
   "metadata": {
    "code_folding": [
     0
    ],
    "hidden": true
   },
   "outputs": [],
   "source": [
    "def compute_maximum_traffic(timestamps, traffic, window_length):\n",
    "    n = len(timestamps)\n",
    "    max_traffic = []\n",
    "\n",
    "    for i in range(n):\n",
    "        current_timestamp = timestamps[i]\n",
    "        window_start = current_timestamp - window_length + 1\n",
    "        max_traffic_in_window = 0\n",
    "\n",
    "        for j in range(n):\n",
    "            if timestamps[j] >= window_start and timestamps[j] <= current_timestamp:\n",
    "                max_traffic_in_window = max(max_traffic_in_window, traffic[j])\n",
    "\n",
    "        max_traffic.append(max_traffic_in_window)\n",
    "\n",
    "    return max_traffic"
   ]
  },
  {
   "cell_type": "code",
   "execution_count": null,
   "id": "824c5243",
   "metadata": {
    "hidden": true
   },
   "outputs": [],
   "source": [
    "timestamps = [1, 2, 3, 4, 5, 6]\n",
    "traffic = [10, 20, 15, 30, 25, 40]\n",
    "window_length = 3\n",
    "\n",
    "max_traffic = compute_maximum_traffic(timestamps, traffic, window_length)\n",
    "print(max_traffic)"
   ]
  },
  {
   "cell_type": "markdown",
   "id": "36fbd6d9",
   "metadata": {},
   "source": [
    "##### Length of longest subarray of array of integers (`positive` or `negative`) whose sum ≤ `target`. - [EPI: 24.38]"
   ]
  },
  {
   "cell_type": "markdown",
   "id": "bef2f65f",
   "metadata": {},
   "source": [
    "Design an algorithm that takes as input an array `A` of n integers and a key\n",
    "`target`, and retuns the length of a longest subarray of `A` for which the subarray\n",
    "sum is less than or equal to `target`.\n",
    "\n",
    "- Keywords:\n",
    "    - Given numbers are `positive` or `negative`\n",
    "    - `Longest` `subarray`\n",
    "    - `Less` or `Equal`\n",
    "\n",
    "`Hint`: When can you be sure that an index `i` cannot be the starting point of a\n",
    "subarray with the desired property, without looking past i?"
   ]
  },
  {
   "cell_type": "markdown",
   "id": "301257f5",
   "metadata": {},
   "source": [
    "Let,\n",
    "\n",
    "- $ \\text{prefix_sum} = P \\text{ be an array ,where, } P[i] = \\sum\\limits_{k=0}^{i}{A[k]} $\n",
    "    - Notes: the sum of the elements of the subarray $ A[i,j] \\text{ is } P[j]-P[i-1] .$\n",
    "    - Suppose: $t ≤ u < v$ and $P[u] ≥ P[v]$. Then $u$ will never be the ending poin of the desiring subarray because $A[t,v]$ is longer than $A[t,u]$ and if $A[t,u]$ satisfies the sum constraint (the subarray\n",
    "sum is less than or equal to `k`), so must $A[t,v]$.\n",
    "\n",
    "- min_prefix_sum = be an array ,where, $Q[i] = min(P[i], Q[i+1])$  for $i < n-1$ and $Q[n-1] = P[n-1]$\n",
    "\n",
    "- $ M_{a,b}$ to be the minimum possible sum of the subarray beginning at `a` and extending to `b` or beyond for $ a ≤ b $\n",
    "\n",
    "    - Notes: $ M_{0,b} = Q[b]$ and $ M_{a,b} = Q[b] - P[a-1]$ when $a > 0$\n",
    "    - if $M_{a,b} > target$, not subarray starting at `a` that includes `b` can satisfy the sum constraint, so we can increment `a`.\n",
    "    - if $M_{a,b} ≤ target$, then we are assured there exists a subarray of length $b-a+1$ satisfying the sum constraint.\n",
    "    "
   ]
  },
  {
   "cell_type": "code",
   "execution_count": null,
   "id": "22437663",
   "metadata": {},
   "outputs": [],
   "source": [
    "def find_longest_subarray_less_equal_k(A: List[int], k: int) -> int:\n",
    "\n",
    "    # Builds the prefix sum according to A.\n",
    "    prefix_sum = list(accumulate(A))\n",
    "\n",
    "    # Early returns if the sum of A is smaller than or equal to k.\n",
    "    if prefix_sum[-1] <= k: return len(A)\n",
    "\n",
    "    # Builds min_prefix_sum.\n",
    "    min_prefix_sum = prefix_sum.copy()\n",
    "\n",
    "    for i in reversed(range(len(min_prefix_sum) - 1)):\n",
    "        min_prefix_sum[i] = min(min_prefix_sum[i], min_prefix_sum[i + 1])\n",
    "\n",
    "    left = right = max_length = 0\n",
    "    while left < len(A) and right < len(A):\n",
    "        min_curr_sum = (min_prefix_sum[right] - prefix_sum[left-1] if left > 0 else min_prefix_sum[right])\n",
    "        if min_curr_sum <= k:\n",
    "            curr_length = right-left + 1\n",
    "            if curr_length > max_length:\n",
    "                max_length = curr_length\n",
    "            right += 1\n",
    "        else:  # min_curr_sum > k.\n",
    "            left += 1\n",
    "    return max_length"
   ]
  },
  {
   "cell_type": "code",
   "execution_count": null,
   "id": "3ae3fc5f",
   "metadata": {},
   "outputs": [],
   "source": [
    "A = [431, -15, 639, 342, -14, 565, -924, 635, 167, -70]\n",
    "k = 184\n",
    "find_longest_subarray_less_equal_k(A,k)"
   ]
  },
  {
   "cell_type": "markdown",
   "id": "d9f11133",
   "metadata": {},
   "source": [
    "- ChatGPT Solution"
   ]
  },
  {
   "cell_type": "code",
   "execution_count": null,
   "id": "27971f0e",
   "metadata": {},
   "outputs": [],
   "source": [
    "def find_longest_subarray_less_equal_k(A, k):\n",
    "    left = right = sum = 0\n",
    "    n = len(A)\n",
    "    max_length = 0\n",
    "    sum_count = {0: 1}\n",
    "\n",
    "    while right < n:\n",
    "        sum += A[right]\n",
    "        if sum <= k:\n",
    "            max_length = max(max_length, right - left + 1)\n",
    "        if sum - k in sum_count:\n",
    "            max_length = max(max_length, right - left + 1)\n",
    "        if sum in sum_count:\n",
    "            sum_count[sum] += 1\n",
    "        else:\n",
    "            sum_count[sum] = 1\n",
    "        while sum > k:\n",
    "            sum_count[sum - A[left]] -= 1\n",
    "            if sum_count[sum - A[left]] == 0:\n",
    "                del sum_count[sum - A[left]]\n",
    "            sum -= A[left]\n",
    "            left += 1\n",
    "        right += 1\n",
    "\n",
    "    return max_length"
   ]
  },
  {
   "cell_type": "code",
   "execution_count": null,
   "id": "95fb9ef5",
   "metadata": {},
   "outputs": [],
   "source": []
  },
  {
   "cell_type": "markdown",
   "id": "54c85339",
   "metadata": {},
   "source": [
    "#### <b style='color:#C71585'>Collected</b>"
   ]
  },
  {
   "cell_type": "markdown",
   "id": "d0a36234",
   "metadata": {
    "heading_collapsed": true
   },
   "source": [
    "##### [1423. Maximum Points You Can Obtain from Cards](https://leetcode.com/problems/maximum-points-you-can-obtain-from-cards/description/) || [neetcode](https://www.youtube.com/watch?v=TsA4vbtfCvo)"
   ]
  },
  {
   "cell_type": "markdown",
   "id": "111cdc2e",
   "metadata": {
    "hidden": true
   },
   "source": [
    "There are several cards arranged in a row, and each card has an associated number of points. The points are given in the integer array `card_points`.\n",
    "\n",
    "In one step, you can take one card from the beginning or from the end of the row. You have to take exactly `k` cards.\n",
    "\n",
    "Your score is the sum of the points of the cards you have taken.\n",
    "\n",
    "Given the integer array `card_points` and the integer `k`, return the maximum score you can obtain.\n",
    "\n",
    "-   `Example 1`:\n",
    "\n",
    "    -   `Input`: cardoints = [1,2,3,4,5,6,1], k = 3\n",
    "    -   `Output`: 12\n",
    "    -   `Explanation`: After the first step, your score will always be 1. However, choosing the rightmost card first will maximize your total score. The optimal strategy is to take the three cards on the right, giving a final score of 1 + 6 + 5 = 12.\n",
    "\n",
    "-   `Example 2`:\n",
    "\n",
    "    -   `Input`: cardoints = [2,2,2], k = 2\n",
    "    -   `Output`: 4\n",
    "    -   `Explanation`: Regardless of which two cards you take, your score will always be 4.\n",
    "\n",
    "-   `Example 3`:\n",
    "\n",
    "    -   `Input`: cardoints = [9,7,7,9,7,7,9], k = 7\n",
    "    -   `Output`: 55\n",
    "    -   `Explanation`: You have to take all the cards. Your score is the sum of points of all cards.\n",
    " \n",
    "\n",
    "-   `Constraints`:\n",
    "\n",
    "    -   $1 <= cardoints.length <= 10^5$\n",
    "    -   $1 <= cardoints[i] <= 10^4$\n",
    "    -   $1 <= k <= cardoints.length$"
   ]
  },
  {
   "cell_type": "markdown",
   "id": "1ee16362",
   "metadata": {
    "hidden": true
   },
   "source": [
    "<div style=\"text-align:center\" ><img src=\"../assets/leetcode/maximum_points_to_obtain.png\" width=\"500\" height=\"300\" /></div>"
   ]
  },
  {
   "cell_type": "markdown",
   "id": "9ea10232",
   "metadata": {},
   "source": [
    "- Explaination:\n",
    "    - Initially:\n",
    "      -  sliding-window: `a[0: len(a)-k]`\n",
    "      -  optimal-sum-window: `sum(a[len(a)-k: ])`, sum of the `a` outside of the sliding window\n",
    "    - Start sliding the window from left to right:\n",
    "        - subtract left-most element of optimal-sum-window\n",
    "        - add left most element of the sliding window\n",
    "        - take max(max-so-for, current-max)"
   ]
  },
  {
   "cell_type": "code",
   "execution_count": null,
   "id": "f50049d8",
   "metadata": {
    "hidden": true
   },
   "outputs": [],
   "source": []
  },
  {
   "cell_type": "markdown",
   "id": "c21b58b9",
   "metadata": {},
   "source": [
    "##### [424. Longest Repeating Character after certain operations.](https://leetcode.com/problems/longest-repeating-character-replacement/description/) | [neetcode](https://www.youtube.com/watch?v=gqXU1UyA8pk&list=PLot-Xpze53leOBgcVsJBEGrHPd_7x_koV&index=4)"
   ]
  },
  {
   "cell_type": "markdown",
   "id": "aabb5665",
   "metadata": {},
   "source": [
    "You are given a string `s` and an integer `k`. You can choose any character of the string and change it to any other uppercase English character. You can perform this operation at most `k` times.\n",
    "\n",
    "Return the length of the longest substring containing the same letter you can get after performing the above operations.\n",
    "\n",
    "\n",
    "-   `Example 1`:\n",
    "\n",
    "    -   `Input`: s = \"ABAB\", k = 2\n",
    "    -   `Output`: 4\n",
    "    -   `Explanation`: Replace the two 'A's with two 'B's or vice versa.\n",
    "\n",
    "-   `Example 2`:\n",
    "\n",
    "    -   `Input`: s = \"AABABBA\", k = 1\n",
    "    -   `Output`: 4\n",
    "    -   `Explanation`: \n",
    "        -   Replace the one 'A' in the middle with 'B' and form \"AABBBBA\".\n",
    "        -   The substring \"BBBB\" has the longest repeating letters, which is 4.\n",
    "        -   There may exists other ways to achieve this answer too.\n",
    " \n",
    "\n",
    "-   `Constraints`:\n",
    "\n",
    "    -   $1 <= s.length <= 10^5$\n",
    "    -   `s` consists of only uppercase English letters.\n",
    "    -   $0 <= k <= s.length$"
   ]
  },
  {
   "cell_type": "code",
   "execution_count": null,
   "id": "621903cc",
   "metadata": {},
   "outputs": [],
   "source": [
    "def longest_repeating_char_with_replacement(s,k):\n",
    "    left, res, char_count = 0, 0, {}\n",
    "\n",
    "    for right, char in enumerate(s):\n",
    "        char_count[char] = 1 + char_count.get(char, 0)\n",
    "\n",
    "        while right-left+1 - max(char_count.values()) > k:\n",
    "            char_count[s[left]] -= 1\n",
    "            left += 1\n",
    "        res = max(res, right-left+1)\n",
    "\n",
    "    return res"
   ]
  },
  {
   "cell_type": "code",
   "execution_count": null,
   "id": "4be21ad5",
   "metadata": {},
   "outputs": [],
   "source": [
    "def longest_repeating_char_with_replacement_v2(s,k):\n",
    "    left, max_freq, res, char_count = 0, 0, 0, {}\n",
    "\n",
    "    for right, char in enumerate(s):\n",
    "        char_count[char] = 1 + char_count.get(char, 0)\n",
    "        max_freq = max(max_freq, char_count[char])\n",
    "\n",
    "        while right-left+1 - max_freq > k:\n",
    "            char_count[s[left]] -= 1\n",
    "            left += 1\n",
    "        res = max(res, right-left+1)\n",
    "\n",
    "    return res"
   ]
  },
  {
   "cell_type": "markdown",
   "id": "1c55e203",
   "metadata": {},
   "source": [
    "##### [1838. Frequency of the most frequent element after certain operations](https://leetcode.com/problems/frequency-of-the-most-frequent-element/description/) | [neatcode](https://www.youtube.com/watch?v=vgBrQ0NM5vE&list=PLot-Xpze53leOBgcVsJBEGrHPd_7x_koV&index=7)"
   ]
  },
  {
   "cell_type": "markdown",
   "id": "935ee883",
   "metadata": {},
   "source": [
    "The frequency of an element is the number of times it occurs in an array.\n",
    "\n",
    "You are given an integer array `nums` and an integer `k`. In one operation, you can choose an index of `nums` and increment the element at that index by `1`.\n",
    "\n",
    "Return the maximum possible frequency of an element after performing at most `k` operations.\n",
    "\n",
    "\n",
    "-   **Example 1**:\n",
    "\n",
    "    -   `Input`: nums = [1,2,4], k = 5\n",
    "    -   `Output`: 3\n",
    "    -   `Explanation`: Increment the first element three times and the second element two times to make nums = [4,4,4].\n",
    "4 has a frequency of 3.\n",
    "\n",
    "-   **Example 2**:\n",
    "\n",
    "    -   `Input`: nums = [1,4,8,13], k = 5\n",
    "    -   `Output`: 2\n",
    "    -   `Explanation`: There are multiple optimal solutions:\n",
    "        - Increment the first element three times to make nums = [4,4,8,13]. 4 has a frequency of 2.\n",
    "        - Increment the second element four times to make nums = [1,8,8,13]. 8 has a frequency of 2.\n",
    "        - Increment the third element five times to make nums = [1,4,13,13]. 13 has a frequency of 2.\n",
    "\n",
    "-   **Example 3**:\n",
    "\n",
    "    -   `Input`: nums = [3,9,6], k = 2\n",
    "    -   `Output`: 1"
   ]
  },
  {
   "cell_type": "code",
   "execution_count": null,
   "id": "a5bf5073",
   "metadata": {},
   "outputs": [],
   "source": [
    "def max_frequency(nums, k):\n",
    "    \n",
    "    nums.sort()\n",
    "    left,res,total = 0,0,0\n",
    "    \n",
    "    for right, cur_num in enumerate(nums):\n",
    "        total += cur_num\n",
    "        while cur_num * (right-left + 1) > total + k:\n",
    "            total -= nums[left]\n",
    "            left += 1\n",
    "        res = max(res, right-left + 1)\n",
    "\n",
    "    return res"
   ]
  },
  {
   "cell_type": "markdown",
   "id": "6c1c623a",
   "metadata": {
    "heading_collapsed": true
   },
   "source": [
    "##### [1888. Minimum Number of Flips to Make the Binary String Alternating](https://leetcode.com/problems/minimum-number-of-flips-to-make-the-binary-string-alternating/description/) | [neatcode](https://www.youtube.com/watch?v=MOeuK6gaC2A&list=PLot-Xpze53leOBgcVsJBEGrHPd_7x_koV&index=9)"
   ]
  },
  {
   "cell_type": "markdown",
   "id": "54991ee6",
   "metadata": {
    "hidden": true
   },
   "source": [
    "You are given a binary string s. You are allowed to perform two types of operations on the string in any sequence:\n",
    "\n",
    "-   `Type-1`: Remove the character at the start of the string `s` and append it to the end of the string.\n",
    "-   `Type-2`: Pick any character in `s` and flip its value, i.e., if its value is `0` it becomes `1` and vice-versa.\n",
    "\n",
    "Return the minimum number of `type-2` operations you need to perform such that `s` becomes alternating.\n",
    "\n",
    "The string is called alternating if no two adjacent characters are equal. For example, the strings \"010\" and \"1010\" are alternating, while the string \"0100\" is not.\n",
    " \n",
    "\n",
    "\n",
    "-   **Example 1**:\n",
    "\n",
    "    -   `Input`: s = \"111000\"\n",
    "    -   `Output`: 2\n",
    "    -   `Explanation`: Use the first operation two times to make s = \"100011\".\n",
    "        -   Then, use the second operation on the third and sixth elements to make s = \"101010\".\n",
    "\n",
    "-   **Example 2**:\n",
    "\n",
    "    -   `Input`: s = \"010\"\n",
    "    -   `Output`: 0\n",
    "    -   `Explanation`: The string is already alternating.\n",
    "\n",
    "-   **Example 3**:\n",
    "\n",
    "    -   `Input`: s = \"1110\"\n",
    "    -   `Output`: 1\n",
    "    -   `Explanation`: Use the second operation on the second element to make s = \"1010\".\n",
    " \n",
    "\n",
    "-   `Constraints`:\n",
    "\n",
    "    -   $1 <= s.length <= 10^5$\n",
    "    -   s[i] is either 0 or 1"
   ]
  },
  {
   "cell_type": "code",
   "execution_count": 39,
   "id": "97412f84",
   "metadata": {
    "hidden": true
   },
   "outputs": [],
   "source": [
    "def min_num_flips(s):\n",
    "    n = len(s)\n",
    "    s = s+s\n",
    "    alt_bin_str1 = \"\".join(['0' if i%2 == 0 else '1' for i in range(len(s))])\n",
    "    alt_bin_str2 = \"\".join(['1' if i%2 == 0 else '0' for i in range(len(s))])\n",
    "    \n",
    "    flip_count1, flip_count2 = 0, 0\n",
    "    left, res = 0, len(s)\n",
    "\n",
    "    for right, char in enumerate(s):\n",
    "        if char != alt_bin_str1[right]: flip_count1 += 1\n",
    "        if char != alt_bin_str2[right]: flip_count2 += 1\n",
    "\n",
    "        if right - left > n - 1:\n",
    "            if s[left] != alt_bin_str1[left]: flip_count1 -= 1\n",
    "            if s[left] != alt_bin_str2[left]: flip_count2 -= 1\n",
    "            left += 1\n",
    "\n",
    "        if right - left == n - 1:\n",
    "            res = min(res, flip_count1, flip_count2)\n",
    "\n",
    "    return res"
   ]
  },
  {
   "cell_type": "markdown",
   "id": "e731be5f",
   "metadata": {
    "hidden": true
   },
   "source": [
    "<div style=\"text-align:center\" ><img src=\"../assets/MinimumNumberOfFlips.png\" width=\"500\" height=\"600\" /></div>\n"
   ]
  },
  {
   "cell_type": "code",
   "execution_count": null,
   "id": "fe08fd40",
   "metadata": {
    "hidden": true
   },
   "outputs": [],
   "source": []
  },
  {
   "cell_type": "code",
   "execution_count": null,
   "id": "f6933049",
   "metadata": {
    "hidden": true
   },
   "outputs": [],
   "source": []
  },
  {
   "cell_type": "markdown",
   "id": "d7fac145",
   "metadata": {
    "heading_collapsed": true,
    "jp-MarkdownHeadingCollapsed": true,
    "tags": []
   },
   "source": [
    "##### [239. Sliding Window Maximum](https://leetcode.com/problems/sliding-window-maximum/description/) | [neatcode](https://www.youtube.com/watch?v=DfljaUwZsOk&list=PLot-Xpze53leOBgcVsJBEGrHPd_7x_koV&index=6)"
   ]
  },
  {
   "cell_type": "markdown",
   "id": "a19a8465",
   "metadata": {
    "hidden": true
   },
   "source": [
    "\n",
    "You are given an array of integers nums, there is a sliding window of size k which is moving from the very left of the array to the very right. You can only see the k numbers in the window. Each time the sliding window moves right by one position.\n",
    "\n",
    "Return the max sliding window."
   ]
  },
  {
   "cell_type": "markdown",
   "id": "d43b911f",
   "metadata": {
    "hidden": true
   },
   "source": [
    "- Example \n",
    "    - nums = [1,3,-1,-3,5,3,6,7]\n",
    "    - k = 3\n",
    "    - Output: [3,3,5,5,6,7]\n",
    "- Explanation: \n",
    "\n",
    "|Window position|                Max|\n",
    "|---------------|:----------------:|\n",
    "[1  3  -1] -3  5  3  6  7    |  3\n",
    " 1 [3  -1  -3] 5  3  6  7    |  3\n",
    " 1  3 [-1  -3  5] 3  6  7    |  5\n",
    " 1  3  -1 [-3  5  3] 6  7    |  5\n",
    " 1  3  -1  -3 [5  3  6] 7    |  6\n",
    " 1  3  -1  -3  5 [3  6  7]   |  7"
   ]
  },
  {
   "cell_type": "code",
   "execution_count": 19,
   "id": "a2fc8f2f",
   "metadata": {
    "hidden": true
   },
   "outputs": [],
   "source": [
    "def max_sliding_window(nums: List[int], k: int) -> List[int]:\n",
    "    left, dq, result = 0, deque(), []\n",
    "\n",
    "    for right, num in enumerate(nums):\n",
    "\n",
    "        while dq and num > nums[dq[-1]]: dq.pop()\n",
    "        dq.append(right)\n",
    "\n",
    "        if left > dq[0]: dq.popleft()\n",
    "\n",
    "        if right >= k-1: \n",
    "            result.append(nums[dq[0]])\n",
    "            left += 1\n",
    "    \n",
    "    return result"
   ]
  },
  {
   "cell_type": "code",
   "execution_count": 20,
   "id": "9ae17ed5",
   "metadata": {
    "hidden": true
   },
   "outputs": [],
   "source": [
    "def max_sliding_window_v2(nums, k):\n",
    "    deq = deque()\n",
    "    maxes = []\n",
    "\n",
    "    for right, right_val in enumerate(nums):\n",
    "        \n",
    "        while deq and deq[-1][0] < right_val: deq.pop()\n",
    "        deq.append((right_val, right))\n",
    "\n",
    "        while right - deq[0][1] > k - 1: deq.popleftop()\n",
    "        \n",
    "        if right >= k-1: maxes.append(deq[0][0])\n",
    "\n",
    "    return maxes"
   ]
  },
  {
   "cell_type": "code",
   "execution_count": 30,
   "id": "024d38ed",
   "metadata": {
    "hidden": true
   },
   "outputs": [],
   "source": [
    "def max_sliding_window_v3(nums, k):\n",
    "    indexQ = deque()\n",
    "    valQ = deque()\n",
    "\n",
    "    res = []\n",
    "    for i, n in enumerate(nums):\n",
    "        while valQ and n > valQ[-1]:\n",
    "            valQ.pop()\n",
    "            indexQ.pop()\n",
    "        \n",
    "        valQ.append(n)\n",
    "        indexQ.append(i)\n",
    "\n",
    "        while i - indexQ[0] + 1 > k:\n",
    "            valQ.popleft()\n",
    "            indexQ.popleft()\n",
    "        if i + 1 >= k:\n",
    "            res.append(valQ[0])\n",
    "    return res"
   ]
  },
  {
   "cell_type": "code",
   "execution_count": 23,
   "id": "c9d7b7eb",
   "metadata": {
    "hidden": true
   },
   "outputs": [],
   "source": [
    "def max_sliding_window_naive(nums, k):\n",
    "    maxs = []\n",
    "    \n",
    "    for i in range(k, len(nums)):\n",
    "        maxs.append(max(nums[i-k:i]))            \n",
    "    maxs.append(max(nums[-k:]))\n",
    "    \n",
    "    return maxs"
   ]
  },
  {
   "cell_type": "code",
   "execution_count": 28,
   "id": "07821431",
   "metadata": {
    "hidden": true
   },
   "outputs": [],
   "source": [
    "def _test_max_sliding_window():\n",
    "    callables = [max_sliding_window, max_sliding_window_v2, max_sliding_window_v3, max_sliding_window_naive]\n",
    "    test_cases = [([], 2), ([2,2], 2), ([1,3,-1,-3,5,3,6,7], 3)]\n",
    "    expecteds = [[], [2], [3,3,5,5,6,7]]\n",
    "\n",
    "    for func, (nums,k),expected in zip(callables, test_cases, expecteds):\n",
    "        returned = func(nums, k)\n",
    "        try:\n",
    "            assert returned == expected\n",
    "        except:\n",
    "            print(f\"{func}: \\n\\tnums:{nums} \\n\\tk:{k} \\n\\tExpected:{expected} \\n\\treturned:{returned}\")\n",
    "\n",
    "_test_max_sliding_window()"
   ]
  },
  {
   "cell_type": "markdown",
   "id": "f75a8382",
   "metadata": {
    "heading_collapsed": true,
    "jp-MarkdownHeadingCollapsed": true,
    "tags": []
   },
   "source": [
    "### <b style='color:#FF4500'>EPI: Hash Table (chapter-12)</b>"
   ]
  },
  {
   "cell_type": "markdown",
   "id": "5fef3cf3",
   "metadata": {
    "heading_collapsed": true,
    "hidden": true
   },
   "source": [
    "##### Group Anagram - [CtCI: 11.2]."
   ]
  },
  {
   "cell_type": "markdown",
   "id": "d04970b8",
   "metadata": {
    "hidden": true
   },
   "source": [
    "Write a method to sort an array of strings so that all the anagrams are next to each other - "
   ]
  },
  {
   "cell_type": "code",
   "execution_count": null,
   "id": "d551419c",
   "metadata": {
    "code_folding": [],
    "hidden": true
   },
   "outputs": [],
   "source": [
    "def group_anagrams(words: List[str]) -> List[List[str]]:\n",
    "\n",
    "    sorted_string_to_anagrams: DefaultDict[str, List[str]] = defaultdict(list)\n",
    "\n",
    "    for s in words:\n",
    "        sorted_string_to_anagrams[''.join(sorted(s))].append(s)\n",
    "\n",
    "    return sorted_string_to_anagrams.values()"
   ]
  },
  {
   "cell_type": "code",
   "execution_count": null,
   "id": "13b37c01",
   "metadata": {
    "hidden": true
   },
   "outputs": [],
   "source": [
    "## INCORRECT ALGORITHM\n",
    "def group_anagrams_v3(strs: list[str]):\n",
    "    anagrams = {}\n",
    "    \n",
    "    for string in strs:\n",
    "        cur_str = ''.join(sorted(string))\n",
    "        anagrams.get(cur_str, []).append(string) ## INCORRECT!!!\n",
    "        print(anagrams)\n",
    "    \n",
    "    return list(anagrams.values())\n",
    "    "
   ]
  },
  {
   "cell_type": "code",
   "execution_count": null,
   "id": "1552cde3",
   "metadata": {
    "hidden": true
   },
   "outputs": [],
   "source": [
    "L = [\"eat\",\"tea\",\"tan\",\"ate\",\"nat\",\"bat\"]\n",
    "print(list(group_anagrams(L)))"
   ]
  },
  {
   "cell_type": "markdown",
   "id": "9f093873",
   "metadata": {
    "heading_collapsed": true,
    "hidden": true
   },
   "source": [
    "##### Given a string, write a function `first_unique(s)` that returns index of the first unique charater of the given string."
   ]
  },
  {
   "cell_type": "markdown",
   "id": "24f509da",
   "metadata": {
    "hidden": true
   },
   "source": [
    "- Examples:\n",
    "    - `first_unique(\"AABCDEE\")` ==> 2\n",
    "    - `first_unique(\"ABCDEE\")` ==> 0\n",
    "    - `first_unique(\"\")` ==> -1\n",
    "    - `first_unique(\"AABBCC\")` ==> -1"
   ]
  },
  {
   "cell_type": "code",
   "execution_count": null,
   "id": "1717a438",
   "metadata": {},
   "outputs": [],
   "source": [
    "def idx_unique_char(s):\n",
    "    counter = Counter(s)\n",
    "    for i, char in enumerate(s):\n",
    "        if counter[char] == 1: return i\n",
    "    return -1"
   ]
  },
  {
   "cell_type": "code",
   "execution_count": null,
   "id": "689f9b80",
   "metadata": {
    "hidden": true
   },
   "outputs": [],
   "source": [
    "def unique_char(s):\n",
    "    d = dict() # It maintain the order of element appending\n",
    "    \n",
    "    for elm in s:\n",
    "        if elm in d: d[elm] += 1\n",
    "        else       : d[elm] = 1\n",
    "\n",
    "    for k, v in d.items():\n",
    "        if v == 1: return s.index(k)\n",
    "    return -1"
   ]
  },
  {
   "cell_type": "code",
   "execution_count": null,
   "id": "385dbaca",
   "metadata": {
    "hidden": true
   },
   "outputs": [],
   "source": [
    "def unique_char_iter(s):\n",
    "    for i, char1 in enumerate(s):\n",
    "\n",
    "        is_unique = True\n",
    "\n",
    "        for j, char2 in enumerate(s):\n",
    "            if i != j and char1 == char2:\n",
    "                is_unique = False\n",
    "\n",
    "        if is_unique: return i\n",
    "\n",
    "    return -1"
   ]
  },
  {
   "cell_type": "code",
   "execution_count": null,
   "id": "b149d446",
   "metadata": {
    "hidden": true
   },
   "outputs": [],
   "source": [
    "def idx_runique_char(s):\n",
    "    for i, char in enumerate(s):\n",
    "\n",
    "        is_unique = True\n",
    "\n",
    "        for j in range(i+1, len(s)):\n",
    "            if char == s[j]: is_unique = False\n",
    "\n",
    "        if is_unique: return i\n",
    "\n",
    "    return -1\n",
    "            "
   ]
  },
  {
   "cell_type": "markdown",
   "id": "df7a31b0",
   "metadata": {
    "heading_collapsed": true,
    "hidden": true
   },
   "source": [
    "##### Partitioning and sorting an array with many repeated entries. - [EPI:13.8]."
   ]
  },
  {
   "cell_type": "markdown",
   "id": "441b1bf3",
   "metadata": {
    "hidden": true
   },
   "source": [
    "You'r given an array of student objects. Each student has an integer-valued age field that is to be treated as key. rearrange the elements of the array so that students of equal age appear together. The order in which different age appear is not important.\n",
    "\n",
    "How would your solution change if ages have to appear in sorted order?"
   ]
  },
  {
   "cell_type": "markdown",
   "id": "8a683a30",
   "metadata": {
    "hidden": true
   },
   "source": [
    "- **ChatGPT**:"
   ]
  },
  {
   "cell_type": "code",
   "execution_count": null,
   "id": "89a4def6",
   "metadata": {
    "code_folding": [],
    "hidden": true
   },
   "outputs": [],
   "source": [
    "# class Student:\n",
    "#     def __init__(self, name, age):\n",
    "#         self.name = name\n",
    "#         self.age = age\n",
    "\n",
    "Student = namedtuple('Student', ('age', 'name'))"
   ]
  },
  {
   "cell_type": "code",
   "execution_count": null,
   "id": "921b7e6e",
   "metadata": {
    "code_folding": [],
    "hidden": true
   },
   "outputs": [],
   "source": [
    "def rearrange_students_by_age(students):\n",
    "    # Create a dictionary to group students by age\n",
    "    age_groups = defaultdict(list)\n",
    "\n",
    "    # Group students by age\n",
    "    for student in students:\n",
    "        age_groups[student.age].append(student)\n",
    "\n",
    "    # Flatten the dictionary values to get the rearranged list of students\n",
    "    rearranged_students = [student for age_group in age_groups.values() for student in age_group]\n",
    "\n",
    "\n",
    "    return rearranged_students"
   ]
  },
  {
   "cell_type": "markdown",
   "id": "6a52d48b",
   "metadata": {
    "hidden": true
   },
   "source": [
    "- Time complexity: $O(n)$\n",
    "- Space complexity: $O(m)$; $O(n)$ in case of all different ages"
   ]
  },
  {
   "cell_type": "code",
   "execution_count": null,
   "id": "8924835e",
   "metadata": {
    "code_folding": [],
    "hidden": true
   },
   "outputs": [],
   "source": [
    "# Example usage:\n",
    "students = [\n",
    "    Student(20, \"Alice\"),\n",
    "    Student(22, \"Bob\"),\n",
    "    Student(20, \"Charlie\"),\n",
    "    Student(22, \"David\"),\n",
    "    Student(21, \"Eve\"),\n",
    "    Student(20, \"Frank\"),\n",
    "]\n",
    "\n",
    "rearranged_students = rearrange_students_by_age(students)\n",
    "rearranged_students_expected = sorted(students, key=lambda x: x.age)\n",
    "\n",
    "# Display the rearranged students\n",
    "for student in rearranged_students:\n",
    "    print(f\"{student.name}, Age: {student.age}\")\n",
    "print(\"=============\")\n",
    "for student in rearranged_students_expected:\n",
    "    print(f\"{student.name}, Age: {student.age}\")\n",
    "\n",
    "# assert rearranged_students == rearranged_students_expected"
   ]
  },
  {
   "cell_type": "markdown",
   "id": "e310cdd3",
   "metadata": {
    "heading_collapsed": true,
    "hidden": true
   },
   "source": [
    "##### Test for rearangeable palindromic string. - [EPI:12.1]"
   ]
  },
  {
   "cell_type": "markdown",
   "id": "f28f01c8",
   "metadata": {
    "hidden": true
   },
   "source": [
    "A palindrome is a string that reads the same forwards and backwards, e.g., \"level\", \"rotator\", and\"foobaraboof\".\n",
    "\n",
    "Write a program to test whether the letters forming a string can be permuted to form a palindrome.For example, \"edified\" can be permuted to form \"deified\".\n",
    "\n",
    "Hint: Find a simple characterization of strings that can be permuted to form\n",
    "a palindrome."
   ]
  },
  {
   "cell_type": "code",
   "execution_count": null,
   "id": "045ff317",
   "metadata": {
    "code_folding": [],
    "hidden": true
   },
   "outputs": [],
   "source": [
    "def can_form_palindrome(s):\n",
    "    # A string can be permuted to form a palindrome if and only if the number\n",
    "    # of chars whose frequencies is odd is at most 1.\n",
    "    return sum(v % 2 for v in Counter(s).values()) <= 1"
   ]
  },
  {
   "cell_type": "markdown",
   "id": "02169b8a",
   "metadata": {
    "heading_collapsed": true,
    "hidden": true
   },
   "source": [
    "##### Is an anonymous letter constructible? - [EPI:12.2]"
   ]
  },
  {
   "cell_type": "markdown",
   "id": "720f85bb",
   "metadata": {
    "hidden": true
   },
   "source": [
    "Write a program which takes text for an anonymous letter and text for a magazine and determines if it is possible to write the anonymous letter using the magazine. \n",
    "\n",
    "The anonymous letter can be written using the magazine if for each character in the anonymous letter, the number of times it appears in the anonymous letter is no more than the number of times it appears in the magazine.\n",
    "\n",
    "Hint: Count the number of distinct characters appearing in the letter."
   ]
  },
  {
   "cell_type": "code",
   "execution_count": 4,
   "id": "ee8e8694",
   "metadata": {
    "hidden": true
   },
   "outputs": [],
   "source": [
    "def is_letter_constructible(letter_text, magazine_text):\n",
    "\n",
    "    # Compute the frequencies for all chars in letter_text.\n",
    "    letter_counter = Counter(letter_text)\n",
    "\n",
    "    # Checks if characters in magazine_text can cover characters in\n",
    "    # letter_counter.\n",
    "    for c in magazine_text:\n",
    "        if c in letter_counter:\n",
    "            \n",
    "            letter_counter[c] -= 1\n",
    "            \n",
    "            if letter_counter[c] == 0:\n",
    "                del letter_counter[c]\n",
    "                if not letter_counter: return True\n",
    "\n",
    "    return not letter_counter"
   ]
  },
  {
   "cell_type": "code",
   "execution_count": 5,
   "id": "ab954481",
   "metadata": {
    "hidden": true
   },
   "outputs": [],
   "source": [
    "def is_letter_constructible_v2(letter_text, magazine_text):\n",
    "    magazine_count = Counter(magazine_text)\n",
    "    letter_count = Counter(letter_text)\n",
    "    \n",
    "    for k,v in letter_count.items():\n",
    "        if (k not in magazine_count or v > magazine_count[k]): return False\n",
    "    return True"
   ]
  },
  {
   "cell_type": "code",
   "execution_count": 12,
   "id": "c7db34b6",
   "metadata": {},
   "outputs": [],
   "source": [
    "def is_letter_constructible_v3(letter_text, magazine_text):\n",
    "    magazine_count = Counter(magazine_text)\n",
    "    letter_count = Counter(letter_text)\n",
    "\n",
    "    return True if not letter_count-magazine_count else False"
   ]
  },
  {
   "cell_type": "code",
   "execution_count": 6,
   "id": "946b1182",
   "metadata": {
    "hidden": true
   },
   "outputs": [],
   "source": [
    "assert is_letter_constructible_v2(\"Pythoni\", \"Pythonic\") == is_letter_constructible(\"Pythoni\", \"Pythonic\")"
   ]
  },
  {
   "cell_type": "code",
   "execution_count": 7,
   "id": "6060cfdd",
   "metadata": {
    "hidden": true
   },
   "outputs": [],
   "source": [
    "assert is_letter_constructible_v2(\"Pythonic\", \"Pythoni\") == is_letter_constructible_v2(\"Pythonic\", \"Pythoni\")"
   ]
  },
  {
   "cell_type": "code",
   "execution_count": null,
   "id": "3dc41723",
   "metadata": {
    "hidden": true
   },
   "outputs": [],
   "source": [
    "is_letter_constructible_v2(\"Pythonic\", \"Pythonic\")"
   ]
  },
  {
   "cell_type": "code",
   "execution_count": 13,
   "id": "cd7a5c6c",
   "metadata": {},
   "outputs": [],
   "source": [
    "assert is_letter_constructible_v2(\"Pythoni\", \"Pythonic\") == is_letter_constructible_v3(\"Pythoni\", \"Pythonic\")"
   ]
  },
  {
   "cell_type": "code",
   "execution_count": null,
   "id": "3df49142",
   "metadata": {
    "hidden": true
   },
   "outputs": [],
   "source": [
    "d2 = Counter('Pythonicc')\n",
    "d1 = Counter('Pythonic')\n",
    "print(d2 - d1, d1 - d2, d1-d1)"
   ]
  },
  {
   "cell_type": "code",
   "execution_count": null,
   "id": "6fc1e3a8",
   "metadata": {
    "hidden": true
   },
   "outputs": [],
   "source": [
    "d1 = {}\n",
    "d2 = {'a':-2}\n",
    "c1 = Counter(d1)\n",
    "c2 = Counter()\n",
    "not d1, not d2, not c1, not c2"
   ]
  },
  {
   "cell_type": "code",
   "execution_count": 1,
   "id": "6d7a6f7a",
   "metadata": {
    "hidden": true
   },
   "outputs": [],
   "source": [
    "d1 = {'a':2, 'b':1}\n",
    "d2 = {'a':2, 'b':1}\n",
    "\n",
    "# d2-d1  # ERROR !"
   ]
  },
  {
   "cell_type": "markdown",
   "id": "ce50cd27",
   "metadata": {
    "heading_collapsed": true,
    "hidden": true
   },
   "source": [
    "##### Compute the LCA (lowest common anchestor), optimizing for close ancestors - [EPI:12.4]"
   ]
  },
  {
   "cell_type": "markdown",
   "id": "1c927142",
   "metadata": {
    "hidden": true
   },
   "source": [
    "\n",
    "Design an algorithm for computing the LCA of two nodes in a binary tree. The\n",
    "algorithm's time complexity should depend only on the distance from the nodes\n",
    "to the LCA.\n",
    "\n",
    "Hint: Focus on the extreme case described in the problem introduction."
   ]
  },
  {
   "cell_type": "code",
   "execution_count": null,
   "id": "03fe21af",
   "metadata": {
    "hidden": true
   },
   "outputs": [],
   "source": [
    "def lca(node0, node1):\n",
    "\n",
    "    iter0, iter1 = node0, node1\n",
    "    nodes_on_path_to_root = set()\n",
    "    while iter0 or iter1:\n",
    "        # Ascend tree in tandem for these two nodes.\n",
    "        if iter0:\n",
    "            if iter0 in nodes_on_path_to_root: return iter0\n",
    "            nodes_on_path_to_root.add(iter0)\n",
    "            iter0 = iter0.parent\n",
    "        if iter1:\n",
    "            if iter1 in nodes_on_path_to_root:return iter1\n",
    "            nodes_on_path_to_root.add(iter1)\n",
    "            iter1 = iter1.parent\n",
    "    raise ValueError('node0 and node1 are not in the same tree')"
   ]
  },
  {
   "cell_type": "code",
   "execution_count": null,
   "id": "8ec8b854",
   "metadata": {
    "hidden": true
   },
   "outputs": [],
   "source": [
    "def lca_v2(x, y):\n",
    "\n",
    "    n1, n2 = x, y\n",
    "    nodes_on_path_to_root = set()\n",
    "\n",
    "    while n1 or n2:\n",
    "        # Ascend tree in tandem for these two nodes.\n",
    "        if n1:\n",
    "            if n1 in nodes_on_path_to_root: return n1\n",
    "            nodes_on_path_to_root.add(n1)\n",
    "            n1 = n1.parent\n",
    "        if n2:\n",
    "            if n2 in nodes_on_path_to_root: return n2\n",
    "            nodes_on_path_to_root.add(n2)\n",
    "            n2 = n2.parent\n",
    "\n",
    "    raise ValueError('x and y are not in the same tree')"
   ]
  },
  {
   "cell_type": "markdown",
   "id": "d9f6c3c6",
   "metadata": {
    "heading_collapsed": true,
    "hidden": true
   },
   "source": [
    "##### Find the k most frequent queries. - [EPI: 12.5] [Leetcode](https://leetcode.com/problems/top-k-frequent-words/)"
   ]
  },
  {
   "cell_type": "markdown",
   "id": "f35914c3",
   "metadata": {
    "hidden": true
   },
   "source": [
    "Given a non-empty list of words, return the k most frequent elements.\n",
    "\n",
    "Your answer should be sorted by frequency from highest to lowest. If two words have the same frequency, then the word with the lower alphabetical order comes first.\n",
    "\n",
    "- **Example 1**:\n",
    "  - `Input`: [\"i\", \"love\", \"leetcode\", \"i\", \"love\", \"coding\"], k = 2\n",
    "  - `Output`: [\"i\", \"love\"]\n",
    "  - `Explanation`: \"i\" and \"love\" are the two most frequent words. Note that \"i\" comes before \"love\" due to a lower alphabetical order.\n",
    "\n",
    "- **Example 2**:\n",
    "  - `Input`: [\"the\", \"day\", \"is\", \"sunny\", \"the\", \"the\", \"the\", \"sunny\", \"is\", \"is\"], k = 4\n",
    "  - `Output`: [\"the\", \"is\", \"sunny\", \"day\"]\n",
    "  - `Explanation`: \"the\", \"is\", \"sunny\" and \"day\" are the four most frequent words, with the number of occurrence being 4, 3, 2 and 1 respectively.\n",
    "\n",
    "- `Note`:\n",
    "  - You may assume k is always valid, 1 ≤ k ≤ number of unique elements.\n",
    "  - Input words contain only lowercase letters.\n",
    "\n",
    "- `Follow up`:\n",
    "  - Try to solve it in $O(n log k)$ time and $O(n)$ extra space."
   ]
  },
  {
   "cell_type": "code",
   "execution_count": 27,
   "id": "a04e1e3c",
   "metadata": {
    "hidden": true
   },
   "outputs": [],
   "source": [
    "def top_k_frequent_words(words, k):\n",
    "    \"\"\" Returns the top k frequent words in a list of words.\n",
    "\n",
    "    Args:\n",
    "        words (list[str]): List of words.\n",
    "        k (int): Number of top frequent words to return.\n",
    "\n",
    "    Returns:\n",
    "        list[str]: List of top k frequent words.\n",
    "    \"\"\"\n",
    "    # Create a dictionary of word counts.\n",
    "    word_counts = Counter(words)\n",
    "    if k > len(words): return []\n",
    "    word_count_tuples = sorted(word_counts.items(), key=lambda x: (x[1], x[0]), reverse=True)\n",
    "    return [word for word, count in word_count_tuples[:k]]"
   ]
  },
  {
   "cell_type": "code",
   "execution_count": 28,
   "id": "50dec8d0",
   "metadata": {},
   "outputs": [],
   "source": [
    "def top_k_frequent_words_v2(words, k):\n",
    "    \"\"\" Returns the top k frequent words in a list of words.\n",
    "\n",
    "    Args:\n",
    "        words (list[str]): List of words.\n",
    "        k (int): Number of top frequent words to return.\n",
    "\n",
    "    Returns:\n",
    "        list[str]: List of top k frequent words.\n",
    "    \"\"\"\n",
    "\n",
    "    max_heap = []\n",
    "    heapq.heapify(max_heap)\n",
    "\n",
    "    #store the frequencies in max_heap which automatically stores it in lexicographic order\n",
    "    for word, freq in Counter(words).items():\n",
    "        heapq.heappush(max_heap, (-freq, word))\n",
    "    res = []\n",
    "\n",
    "    # everytime you pop it will pop based on freq first then on lexicographic order\n",
    "    for i in range(k):\n",
    "        if max_heap:\n",
    "            res.append(heapq.heappop(max_heap)[1])\n",
    "        else:\n",
    "            break\n",
    "    return res"
   ]
  },
  {
   "cell_type": "code",
   "execution_count": 29,
   "id": "62ec7817",
   "metadata": {
    "hidden": true
   },
   "outputs": [
    {
     "name": "stdout",
     "output_type": "stream",
     "text": [
      "['pickled', 'of', 'a', 'works', 'wasn’t']\n",
      "['a', 'of', 'pickled', 'be', 'better']\n",
      "['a', 'peck', 'Piper', 'wood', 'to']\n",
      "['a', 'Piper', 'peck', 'A', 'Wuzzy']\n",
      "['would']\n",
      "['would']\n",
      "['Peter', 'But', 'would', 'wasn’t']\n",
      "['But', 'Peter', 'He', 'Piper']\n",
      "['woodchuck']\n",
      "['a']\n",
      "['a', 'my']\n",
      "['a', 'my']\n",
      "['woodchuck', 'some', 'sits']\n",
      "['woodchuck', 'Betty', 'I']\n",
      "['woodchuck', 'shoeshine']\n",
      "['woodchuck', 'Can']\n",
      "['a', 'can', 'will']\n",
      "['a', 'can', 'Betty']\n",
      "['the', 'you', 'woodchuck', 'wood']\n",
      "['the', 'Botter', 'How', 'Peter']\n"
     ]
    }
   ],
   "source": [
    "dir_name = os.environ['ADS'] + '/data/'\n",
    "def _test_k_frequent_queries():\n",
    "    test_cases = [\n",
    "        gen_list_of_words(randint(10, 20), dir_name=dir_name, word_file_name='tongue_twisters.txt') for _ in range(10)\n",
    "    ]\n",
    "\n",
    "    for test_case in test_cases:\n",
    "        # print(test_case)\n",
    "        k = randint(1, 5)\n",
    "        print(top_k_frequent_words(test_case, k=k))\n",
    "        print(top_k_frequent_words_v2(test_case, k=k))\n",
    "        # assert top_k_frequent_words(test_case, k=k) == top_k_frequent_words_v2(test_case, k=k)\n",
    "        \n",
    "_test_k_frequent_queries()"
   ]
  },
  {
   "cell_type": "markdown",
   "id": "8d7b88f1",
   "metadata": {
    "heading_collapsed": true,
    "hidden": true
   },
   "source": [
    "##### Find the nearest repeated entries in an array.  - [EPI:12.6]. || <b style=\"color:red\">***</b>"
   ]
  },
  {
   "cell_type": "markdown",
   "id": "dd63d7f3",
   "metadata": {
    "hidden": true
   },
   "source": [
    "\n",
    "People do not like reading text in which a word is used multiple times in a\n",
    "short paragraph. You are to write a program which helps identify such a problem.\n",
    "\n",
    "Write a program which takes as input an array and finds the distance between\n",
    "a closest pair of equal entries.\n",
    "\n",
    "For example, if s = [\"All\", \"work\", \"and\", \"no\", \"play\", \"makes\", \"for\", \"no\",\n",
    "\"work\", \"no\", \"fun\", \"and\" no\", \"result\" ], then the second and third\n",
    "occurrences of \"no\" is the closest pair.\n",
    "\n",
    "`Hint`: Each entry in the array is a candidate."
   ]
  },
  {
   "cell_type": "code",
   "execution_count": null,
   "id": "c961c110",
   "metadata": {
    "hidden": true
   },
   "outputs": [],
   "source": [
    "def find_nearest_repetition(paragraph):\n",
    "\n",
    "    word_to_idx, nearest_distance = {}, float('inf')\n",
    "    for i, word in enumerate(paragraph):\n",
    "        if word in word_to_idx:\n",
    "            idx_last_occurance = word_to_idx[word]\n",
    "            nearest_distance = min(nearest_distance, i - idx_last_occurance)\n",
    "        word_to_idx[word] = i\n",
    "\n",
    "    return nearest_distance if nearest_distance != float('inf') else -1"
   ]
  },
  {
   "cell_type": "code",
   "execution_count": null,
   "id": "a1ab133f",
   "metadata": {
    "hidden": true
   },
   "outputs": [],
   "source": []
  },
  {
   "cell_type": "markdown",
   "id": "3333f4e2",
   "metadata": {},
   "source": [
    "##### [205. Isomorphic Strings](https://leetcode.com/problems/isomorphic-strings/description/) <b style=\"color:green\">***</b>"
   ]
  },
  {
   "cell_type": "markdown",
   "id": "30fabc67",
   "metadata": {},
   "source": [
    "Given two strings `s` and `t`, determine if they are isomorphic.\n",
    "\n",
    "Two strings `s` and `t` are isomorphic if the characters in `s` can be replaced to get `t`.\n",
    "\n",
    "All occurrences of a character must be replaced with another character while preserving the order of characters. No two characters may map to the same character, but a character may map to itself.\n",
    "\n",
    "-   **Example 1**:\n",
    "\n",
    "    -   `Input`: s = \"egg\", t = \"add\"\n",
    "    -   `Output`: true\n",
    "\n",
    "-   **Example 2**:\n",
    "\n",
    "    -   `Input`: s = \"foo\", t = \"bar\"\n",
    "    -   `Output`: false\n",
    "\n",
    "-   **Example 3**:\n",
    "\n",
    "    -   `Input`: s = \"paper\", t = \"title\"\n",
    "    -   `Output`: true"
   ]
  },
  {
   "cell_type": "code",
   "execution_count": null,
   "id": "fc6b99d8",
   "metadata": {},
   "outputs": [],
   "source": [
    "def is_isomorphic(s, t):\n",
    "    \"\"\"\n",
    "    Determines if two strings are isomorphic.\n",
    "\n",
    "    Args:\n",
    "        s: The first string.\n",
    "        t: The second string.\n",
    "\n",
    "    Returns:\n",
    "        True if the strings are isomorphic, False otherwise.\n",
    "    \"\"\"\n",
    "\n",
    "    if len(s) != len(t): return False\n",
    "\n",
    "    s_to_t = {}\n",
    "    t_to_s = {}\n",
    "\n",
    "    for i in range(len(s)):\n",
    "        s_char = s[i]\n",
    "        t_char = t[i]\n",
    "\n",
    "        if s_char not in s_to_t: s_to_t[s_char] = t_char\n",
    "        elif s_to_t[s_char] != t_char: return False\n",
    "\n",
    "        if t_char not in t_to_s: t_to_s[t_char] = s_char\n",
    "        elif t_to_s[t_char] != s_char: return False\n",
    "\n",
    "    return True"
   ]
  },
  {
   "cell_type": "code",
   "execution_count": null,
   "id": "331c1f77",
   "metadata": {},
   "outputs": [],
   "source": [
    "def is_isomorphic(s, t):\n",
    "    if len(s) != len(t): return False\n",
    "    schr_tchar = {}\n",
    "\n",
    "    for i, char in enumerate(s):\n",
    "        if char in schr_tchar:\n",
    "            if schr_tchar[char] != t[i]: return False\n",
    "        else:\n",
    "            if t[i] in schr_tchar.values(): return False\n",
    "            schr_tchar[char] = t[i]\n",
    "\n",
    "    return True"
   ]
  },
  {
   "cell_type": "code",
   "execution_count": null,
   "id": "9ce420d7",
   "metadata": {},
   "outputs": [],
   "source": [
    "def _test_is_isomorphic():\n",
    "    inputs_expecteds = [([\"badc\", \"baba\"], False), ([\"badc\", \"baba\"], False), ([\"paper\", \"title\"], True), ([\"foo\", \"bar\"], False), ([\"egg\", \"add\"], True)]\n",
    "\n",
    "    for [s, t], expected in inputs_expecteds:\n",
    "        returned = is_isomorphic(s, t)\n",
    "        try:\n",
    "            assert returned == expected\n",
    "        except:\n",
    "            print(f\"{s}\\n\\t{t}\\n\\t{expected}\\n\\t{returned}\")\n",
    "#==================================================================\n",
    "_test_is_isomorphic()"
   ]
  },
  {
   "cell_type": "markdown",
   "id": "f34ae5c8",
   "metadata": {},
   "source": [
    "##### [1657. Determine if Two Strings Are Close](https://leetcode.com/problems/determine-if-two-strings-are-close/description/?envType=study-plan-v2&envId=leetcode-75)"
   ]
  },
  {
   "cell_type": "markdown",
   "id": "d04cf157",
   "metadata": {},
   "source": [
    "Two strings are considered close if you can attain one from the other using the following operations:\n",
    "\n",
    "-   `Operation 1`: Swap any two existing characters. For example, abcde -> aecdb\n",
    "-   `Operation 2`: Transform every occurrence of one existing character into another existing character, and do the same with the other character. For example, aacabb -> bbcbaa (all a's turn into b's, and all b's turn into a's)\n",
    "\n",
    "You can use the operations on either string as many times as necessary.\n",
    "\n",
    "Given two strings, word1 and word2, return true if word1 and word2 are close, and false otherwise.\n",
    "\n",
    " \n",
    "\n",
    "\n",
    "-   **Example 1**:\n",
    "\n",
    "    -   `Input`: word1 = \"abc\", word2 = \"bca\"\n",
    "    -   `Output`: true\n",
    "    -   `Explanation`: You can attain word2 from word1 in 2 operations.\n",
    "        -   Apply Operation 1: \"abc\" -> \"acb\"\n",
    "        -   Apply Operation 1: \"acb\" -> \"bca\"\n",
    "\n",
    "-   **Example 2**:\n",
    "\n",
    "    -   `Input`: word1 = \"a\", word2 = \"aa\"\n",
    "    -   `Output`: false\n",
    "    -   `Explanation`: It is impossible to attain word2 from word1, or vice versa, in any number of operations.\n",
    "\n",
    "-   **Example 3**:\n",
    "\n",
    "    -   `Input`: word1 = \"cabbba\", word2 = \"abbccc\"\n",
    "    -   `Output`: true\n",
    "    -   `Explanation`: You can attain word2 from word1 in 3 operations.\n",
    "        -   Apply Operation 1: \"cabbba\" -> \"caabbb\"\n",
    "        -   Apply Operation 2: \"caabbb\" -> \"baaccc\"\n",
    "        -   Apply Operation 2: \"baaccc\" -> \"abbccc\"\n",
    " \n",
    "\n",
    "-   **Constraints**:\n",
    "\n",
    "    -   $1 <= word1.length, word2.length <= 10^5$\n",
    "    -   word1 and word2 contain only lowercase English letters."
   ]
  },
  {
   "cell_type": "code",
   "execution_count": null,
   "id": "60e27870",
   "metadata": {
    "hidden": true
   },
   "outputs": [],
   "source": [
    "def close_strings(word1, word2):\n",
    "    # Check if both strings have the same set of characters\n",
    "    if set(word1) != set(word2):\n",
    "        return False\n",
    "    \n",
    "    # Count the frequencies of characters\n",
    "    freq1 = Counter(word1)\n",
    "    freq2 = Counter(word2)\n",
    "    \n",
    "    # Check if the sorted frequency values are the same\n",
    "    return sorted(freq1.values()) == sorted(freq2.values())\n"
   ]
  },
  {
   "cell_type": "markdown",
   "id": "b00d332a",
   "metadata": {},
   "source": [
    "##### [567.Permutations of a string in another string](https://leetcode.com/problems/permutation-in-string/description/)"
   ]
  },
  {
   "cell_type": "markdown",
   "id": "59afc5ca",
   "metadata": {},
   "source": [
    "Given two strings `s1` and `s2`, write a function that return true if `s2` contains a permutation of `s1`, or false otherwise. In other words, return true if one of `s1`'s permutations is the substring of `s2`."
   ]
  },
  {
   "cell_type": "code",
   "execution_count": null,
   "id": "ffb893fe",
   "metadata": {},
   "outputs": [],
   "source": [
    "def is_permutation(s1, s2):\n",
    "    s1_counter = Counter(s1)\n",
    "    k = len(s1)\n",
    "    if k > len(s2): return False\n",
    "    \n",
    "    for i in range(k, len(s2)+1):\n",
    "        s2_counter = Counter(s2[i-k: i])\n",
    "        if s1_counter == s2_counter: return True\n",
    "\n",
    "    return False"
   ]
  },
  {
   "cell_type": "code",
   "execution_count": null,
   "id": "52a0c893",
   "metadata": {},
   "outputs": [],
   "source": [
    "def check_inclusion(s1: str, s2: str) -> bool:\n",
    "    \n",
    "    m, n = len(s1), len(s2)\n",
    "    if m > n: return False\n",
    "\n",
    "    s1_count = Counter(s1)\n",
    "    window_count = Counter(s2[:m])\n",
    "\n",
    "    if s1_count == window_count: return True\n",
    "\n",
    "    # Slide the window over s2\n",
    "    for right, char in enumerate(s2[m:], m):\n",
    "\n",
    "        window_count[char] += 1\n",
    "        window_count[s2[right - m]] -= 1\n",
    "\n",
    "        # If the count goes to zero, remove it from the counter\n",
    "        if window_count[s2[right - m]] == 0: del window_count[s2[right - m]]\n",
    "\n",
    "        if s1_count == window_count: return True\n",
    "\n",
    "    return False"
   ]
  },
  {
   "cell_type": "code",
   "execution_count": null,
   "id": "5ef2facf",
   "metadata": {},
   "outputs": [],
   "source": [
    "def check_inclusion_v2(s1: str, s2: str) -> bool:\n",
    "    \n",
    "    len1, len2 = len(s1), len(s2)\n",
    "    if len1 > len2: return False\n",
    "\n",
    "    s1_count = Counter(s1)\n",
    "    window_count = Counter(s2[:len1])\n",
    "\n",
    "    if s1_count == window_count: return True\n",
    "\n",
    "    # Slide the window over s2\n",
    "    for i in range(len1, len2):\n",
    "\n",
    "        window_count[s2[i]] += 1\n",
    "        window_count[s2[i - len1]] -= 1\n",
    "\n",
    "        # If the count goes to zero, remove it from the counter\n",
    "        if window_count[s2[i - len1]] == 0: del window_count[s2[i - len1]]\n",
    "\n",
    "        if s1_count == window_count: return True\n",
    "\n",
    "    return False"
   ]
  },
  {
   "cell_type": "code",
   "execution_count": null,
   "id": "0249c5d8",
   "metadata": {},
   "outputs": [],
   "source": [
    "def test_check_inclusion():\n",
    "    test_cases = [\n",
    "        (\"ab\", \"eidbaooo\", True),  # \"ba\" is a permutation of \"ab\"\n",
    "        (\"ab\", \"eidboaoo\", False), # No permutation of \"ab\" in \"eidboaoo\"\n",
    "        (\"adc\", \"dcda\", True),     # \"dca\" or \"cad\" is a permutation of \"adc\"\n",
    "        (\"hello\", \"ooolleoooleh\", False), # No permutation of \"hello\" in \"ooolleoooleh\"\n",
    "        (\"a\", \"a\", True),          # \"a\" is trivially a permutation of \"a\"\n",
    "        (\"abc\", \"bbbca\", True),    # \"bca\" is a permutation of \"abc\"\n",
    "        (\"abc\", \"bbbab\", False),   # No permutation of \"abc\" in \"bbbab\"\n",
    "        (\"\", \"anything\", True),    # Empty string is trivially a permutation\n",
    "        (\"anything\", \"\", False),   # Non-empty string cannot be found in an empty string\n",
    "        (\"xyz\", \"zyxwvutsrqponmlkjihgfedcba\", True),  # \"xyz\" is a permutation of \"zyx\"\n",
    "        (\"aaa\", \"aaaaaa\", True),   # \"aaa\" is trivially a permutation of \"aaa\"\n",
    "        (\"xyz\", \"axyzxyzxyz\", True), # \"xyz\" is a permutation of itself, appearing multiple times\n",
    "        (\"longstring\", \"thisisaverylongstringexample\", True), # \"longstring\" is a permutation of \"longstring\"\n",
    "        (\"short\", \"longstringexample\", False), # No permutation of \"short\" in \"longstringexample\"\n",
    "        (\"123\", \"321\", True),      # \"321\" is a permutation of \"123\"\n",
    "    ]\n",
    "\n",
    "    # Example usage to test the function\n",
    "    for s1, s2, expected in test_cases:\n",
    "        try:\n",
    "            result1 = is_permutation(s1, s2)\n",
    "            result2 = check_inclusion(s1, s2)\n",
    "            assert result1 == expected == result2\n",
    "        except AssertionError:\n",
    "            print(f\"check_inclusion('{s1}', '{s2}') = {result1}, expected: {expected}\")\n",
    "#=================================================================\n",
    "test_check_inclusion()"
   ]
  },
  {
   "cell_type": "markdown",
   "id": "c771de2c",
   "metadata": {},
   "source": [
    "##### [438. Find All Anagrams of a word in a string](https://leetcode.com/problems/find-all-anagrams-in-a-string/description/) | [neetcode](https://www.youtube.com/watch?v=G8xtZy0fDKg&list=PLot-Xpze53leOBgcVsJBEGrHPd_7x_koV&index=5)"
   ]
  },
  {
   "cell_type": "markdown",
   "id": "92d15ec9",
   "metadata": {},
   "source": [
    "Given two strings `s` and `p`, return an array of all the start indices of `p`'s anagrams in `s`. You may return the answer in any order.\n",
    "\n",
    "An Anagram is a word or phrase formed by rearranging the letters of a different word or phrase, typically using all the original letters exactly once.\n"
   ]
  },
  {
   "cell_type": "markdown",
   "id": "193f6f47",
   "metadata": {},
   "source": [
    "-   `Example 1`:\n",
    "\n",
    "    `Input`: s = \"cbaebabacd\", p = \"abc\"\n",
    "    `Output`: [0,6]\n",
    "    `Explanation`:\n",
    "        -   The substring with start index = 0 is \"cba\", which is an anagram of \"abc\".\n",
    "        -   The substring with start index = 6 is \"bac\", which is an anagram of \"abc\".\n",
    "\n",
    "-   `Example 2`:\n",
    "\n",
    "    -   `Input`: s = \"abab\", p = \"ab\"\n",
    "    -   `Output`: [0,1,2]\n",
    "    -   `Explanation`:\n",
    "        -   The substring with start index = 0 is \"ab\", which is an anagram of \"ab\".\n",
    "        -   The substring with start index = 1 is \"ba\", which is an anagram of \"ab\".\n",
    "        -   The substring with start index = 2 is \"ab\", which is an anagram of \"ab\".\n",
    " \n",
    "\n",
    "-   `Constraints`:\n",
    "\n",
    "    -   $1 <= s.length, p.length <= 3 * 10^4$\n",
    "    -   `s` and `p` consist of lowercase English letters."
   ]
  },
  {
   "cell_type": "code",
   "execution_count": null,
   "id": "4f2235e7",
   "metadata": {},
   "outputs": [],
   "source": [
    "# NOT TESTED!\n",
    "def check_inclusion(s: str, p: str) -> bool:\n",
    "    \n",
    "    m, n = len(p), len(s)\n",
    "    if m > n: return []\n",
    "\n",
    "    p_count = Counter(p)\n",
    "    window_count = Counter(s[:m])\n",
    "    anagrams = []\n",
    "\n",
    "    if p_count == window_count: anagrams.append(0)\n",
    "\n",
    "    # Slide the window over s\n",
    "    for right, char in enumerate(s[m:], m):\n",
    "\n",
    "        window_count[char] += 1\n",
    "        window_count[s[right - m]] -= 1\n",
    "\n",
    "        # If the count goes to zero, remove it from the counter\n",
    "        if window_count[s[right - m]] == 0: del window_count[s[right - m]]\n",
    "\n",
    "        if p_count == window_count: anagrams.append(right-m+1)\n",
    "\n",
    "    return anagrams"
   ]
  },
  {
   "cell_type": "code",
   "execution_count": null,
   "id": "91c47d9d",
   "metadata": {},
   "outputs": [],
   "source": [
    "print(check_inclusion(\"aaaaaaaaaa\", \"aaaaaaaaaaaaa\"))"
   ]
  },
  {
   "cell_type": "code",
   "execution_count": null,
   "id": "8f621db8",
   "metadata": {},
   "outputs": [],
   "source": [
    "def findAnagrams(s: str, p: str) -> List[int]:\n",
    "    \n",
    "    start_idx = 0\n",
    "    p_map, s_map = {}, {}\n",
    "    res = []\n",
    "    \n",
    "    for char in p:\n",
    "        p_map[char] = 1 + p_map.get(char, 0)\n",
    "    \n",
    "    for i in range(len(s)):\n",
    "        s_map[s[i]] = 1 + s_map.get(s[i], 0)\n",
    "\n",
    "        if i >= len(p) - 1:\n",
    "            if s_map == p_map:\n",
    "                res.append(start_idx)\n",
    "            \n",
    "            # If current character is in s_map, remove it and re-update the map.\n",
    "            if s[start_idx] in s_map:\n",
    "                s_map[s[start_idx]] -= 1\n",
    "                if s_map[s[start_idx]] == 0:\n",
    "                    del s_map[s[start_idx]]\n",
    "            start_idx += 1\n",
    "    \n",
    "    return res"
   ]
  },
  {
   "cell_type": "markdown",
   "id": "02b34d1b",
   "metadata": {},
   "source": [
    "##### [187. Repeated DNA Sequences](https://leetcode.com/problems/repeated-dna-sequences/description/) | [neatcode](https://www.youtube.com/watch?v=FzTYfsmtOso&list=PLot-Xpze53leOBgcVsJBEGrHPd_7x_koV&index=11)"
   ]
  },
  {
   "cell_type": "markdown",
   "id": "17ea41d8",
   "metadata": {},
   "source": [
    "The DNA sequence is composed of a series of nucleotides abbreviated as 'A', 'C', 'G', and 'T'. For example, \"ACGAATTCCG\" is a DNA sequence. When studying DNA, it is useful to identify repeated sequences within the DNA.\n",
    "\n",
    "Given a string `s` that represents a DNA sequence, return all the 10-letter-long sequences (substrings) that occur more than once in a DNA molecule. You may return the answer in any order.\n",
    "\n",
    " \n",
    "-   **Example 1**:\n",
    "\n",
    "    -   **Input**: s = \"AAAAACCCCCAAAAACCCCCCAAAAAGGGTTT\"\n",
    "    -   **Output**: [\"AAAAACCCCC\",\"CCCCCAAAAA\"]\n",
    "\n",
    "-   **Example 2**:\n",
    "\n",
    "    -   **Input**: s = \"AAAAAAAAAAAAA\"\n",
    "    -   **Output**: [\"AAAAAAAAAA\"]\n",
    " \n",
    "\n",
    "-   **Constraints**:\n",
    "\n",
    "    -   `1 <= s.length <= 105``\n",
    "    -   s[i] is either 'A', 'C', 'G', or 'T'."
   ]
  },
  {
   "cell_type": "code",
   "execution_count": null,
   "id": "920867b4",
   "metadata": {},
   "outputs": [],
   "source": [
    "def repeated_dna_seq(s):\n",
    "    seen, res = set(), set()\n",
    "    \n",
    "    for idx in range(len(s)-9):\n",
    "        cur_sub_str = s[idx: idx+10]\n",
    "        if cur_sub_str in seen: res.add(cur_sub_str)\n",
    "        seen.add(cur_sub_str)\n",
    "    \n",
    "    return list(res)"
   ]
  },
  {
   "cell_type": "markdown",
   "id": "d2323f60",
   "metadata": {},
   "source": [
    "##### [2352. Equal Row and Column Pairs](https://leetcode.com/problems/equal-row-and-column-pairs/description/?envType=study-plan-v2&envId=leetcode-75)"
   ]
  },
  {
   "cell_type": "markdown",
   "id": "51316668",
   "metadata": {},
   "source": [
    "Given a 0-indexed n x n integer matrix grid, return the number of pairs ($r_i$, $c_j$) such that row $r_i$ and column $c_j$ are equal.\n",
    "\n",
    "A row and column pair is considered equal if they contain the same elements in the same order (i.e., an equal array).\n",
    "\n",
    " \n",
    "\n",
    "-   **Example 1**:\n",
    "\n",
    "\n",
    "    -   `Input`: grid = [[3,2,1],[1,7,6],[2,7,7]]\n",
    "    -   `Output`: 1\n",
    "    -   `Explanation`: There is 1 equal row and column pair:\n",
    "        - (Row 2, Column 1): [2,7,7]\n",
    "\n",
    "-   **Example 2**:\n",
    "\n",
    "\n",
    "    -   `Input`: grid = [[3,1,2,2],[1,4,4,5],[2,4,2,2],[2,4,2,2]]\n",
    "    -   `Output`: 3\n",
    "    -   `Explanation`: There are 3 equal row and column pairs:\n",
    "        - (Row 0, Column 0): [3,1,2,2]\n",
    "        - (Row 2, Column 2): [2,4,2,2]\n",
    "        - (Row 3, Column 2): [2,4,2,2]\n",
    " \n",
    "\n",
    "-   **Constraints**:\n",
    "\n",
    "    -   $n == grid.length == grid[i].length$\n",
    "    -   $1 <= n <= 200$\n",
    "    -   $1 <= grid[i][j] <= 10^5$"
   ]
  },
  {
   "cell_type": "code",
   "execution_count": null,
   "id": "821c84a8",
   "metadata": {},
   "outputs": [],
   "source": [
    "def equal_row_column_pairs(grid):\n",
    "    n = len(grid)\n",
    "    row_count = Counter(tuple(row) for row in grid)  # Count each row as a tuple\n",
    "    result = 0\n",
    "\n",
    "    for col_idx in range(n):\n",
    "        column = tuple(grid[row_idx][col_idx] for row_idx in range(n))  # Extract column as a tuple\n",
    "        result += row_count[column]  # Add the number of matching rows\n",
    "\n",
    "    return result\n"
   ]
  }
 ],
 "metadata": {
  "kernelspec": {
   "display_name": "dsnb",
   "language": "python",
   "name": "python3"
  },
  "language_info": {
   "codemirror_mode": {
    "name": "ipython",
    "version": 3
   },
   "file_extension": ".py",
   "mimetype": "text/x-python",
   "name": "python",
   "nbconvert_exporter": "python",
   "pygments_lexer": "ipython3",
   "version": "3.9.6"
  },
  "toc": {
   "base_numbering": 1,
   "nav_menu": {},
   "number_sections": false,
   "sideBar": true,
   "skip_h1_title": true,
   "title_cell": "Table of Contents",
   "title_sidebar": "Contents",
   "toc_cell": true,
   "toc_position": {},
   "toc_section_display": true,
   "toc_window_display": false
  },
  "toc-autonumbering": false,
  "toc-showmarkdowntxt": false,
  "toc-showtags": false
 },
 "nbformat": 4,
 "nbformat_minor": 5
}
