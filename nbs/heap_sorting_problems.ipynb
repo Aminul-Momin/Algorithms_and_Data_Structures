{
 "cells": [
  {
   "cell_type": "markdown",
   "id": "40bf633c",
   "metadata": {
    "toc": true
   },
   "source": [
    "<h1>Table of Contents<span class=\"tocSkip\"></span></h1>\n",
    "<div class=\"toc\"><ul class=\"toc-item\"><li><ul class=\"toc-item\"><li><ul class=\"toc-item\"><li><span><a href=\"#PDFs\" data-toc-modified-id=\"PDFs-0.0.1\"><span class=\"toc-item-num\">0.0.1&nbsp;&nbsp;</span>PDFs</a></span></li></ul></li></ul></li><li><span><a href=\"#Heap\" data-toc-modified-id=\"Heap-1\"><span class=\"toc-item-num\">1&nbsp;&nbsp;</span><b style=\"color: #ff4500\">Heap</b></a></span><ul class=\"toc-item\"><li><ul class=\"toc-item\"><li><span><a href=\"#Heapq-API\" data-toc-modified-id=\"Heapq-API-1.0.1\"><span class=\"toc-item-num\">1.0.1&nbsp;&nbsp;</span>Heapq API</a></span></li><li><span><a href=\"#Min-Priority-Queue\" data-toc-modified-id=\"Min-Priority-Queue-1.0.2\"><span class=\"toc-item-num\">1.0.2&nbsp;&nbsp;</span>Min Priority Queue</a></span></li><li><span><a href=\"#Max-Priority-Queue-out-of-Min-Priority-Queue:\" data-toc-modified-id=\"Max-Priority-Queue-out-of-Min-Priority-Queue:-1.0.3\"><span class=\"toc-item-num\">1.0.3&nbsp;&nbsp;</span>Max Priority Queue out of Min Priority Queue:</a></span></li></ul></li><li><span><a href=\"#EPI\" data-toc-modified-id=\"EPI-1.1\"><span class=\"toc-item-num\">1.1&nbsp;&nbsp;</span><b style=\"color: #c71585\">EPI</b></a></span><ul class=\"toc-item\"><li><span><a href=\"#Merg-Sorted-Files.----[EPI:-10.1]--ByteByByte\" data-toc-modified-id=\"Merg-Sorted-Files.----[EPI:-10.1]--ByteByByte-1.1.1\"><span class=\"toc-item-num\">1.1.1&nbsp;&nbsp;</span>Merg Sorted Files.  - [EPI: 10.1]  <a href=\"https://www.youtube.com/watch?v=6bvnZzwiKzs&amp;t=1335s\" target=\"_blank\">ByteByByte</a></a></span></li><li><span><a href=\"#Sort-an-Increasing-Decreasing-array.---[EPI:-10.2]\" data-toc-modified-id=\"Sort-an-Increasing-Decreasing-array.---[EPI:-10.2]-1.1.2\"><span class=\"toc-item-num\">1.1.2&nbsp;&nbsp;</span>Sort an Increasing-Decreasing array. - [EPI: 10.2]</a></span></li><li><span><a href=\"#Sort-an-almost-sorted-array.---[EPI:-10.3]\" data-toc-modified-id=\"Sort-an-almost-sorted-array.---[EPI:-10.3]-1.1.3\"><span class=\"toc-item-num\">1.1.3&nbsp;&nbsp;</span>Sort an almost sorted array. - [EPI: 10.3]</a></span></li><li><span><a href=\"#Computes-the-k-closest-stars.---[EPI:-10.4]\" data-toc-modified-id=\"Computes-the-k-closest-stars.---[EPI:-10.4]-1.1.4\"><span class=\"toc-item-num\">1.1.4&nbsp;&nbsp;</span>Computes the k-closest stars. - [EPI: 10.4]</a></span></li><li><span><a href=\"#Compute-the-median-of-online-data.---[EPI:-10.5]-NeetCode\" data-toc-modified-id=\"Compute-the-median-of-online-data.---[EPI:-10.5]-NeetCode-1.1.5\"><span class=\"toc-item-num\">1.1.5&nbsp;&nbsp;</span>Compute the median of online data. - [EPI: 10.5] <a href=\"https://www.youtube.com/watch?v=itmhHWaHupI\" target=\"_blank\">NeetCode</a></a></span></li><li><span><a href=\"#Find-the-k-most-frequent-queries.---Leetcode\" data-toc-modified-id=\"Find-the-k-most-frequent-queries.---Leetcode-1.1.6\"><span class=\"toc-item-num\">1.1.6&nbsp;&nbsp;</span>Find the k most frequent queries. - <a href=\"https://leetcode.com/problems/top-k-frequent-words/\" target=\"_blank\">Leetcode</a></a></span></li><li><span><a href=\"#Computes-the-k'th-largest-elements-in-a-max-heap-without-modifying-it.---[EPI:-10.6]\" data-toc-modified-id=\"Computes-the-k'th-largest-elements-in-a-max-heap-without-modifying-it.---[EPI:-10.6]-1.1.7\"><span class=\"toc-item-num\">1.1.7&nbsp;&nbsp;</span>Computes the k'th largest elements in a max heap without modifying it. - [EPI: 10.6]</a></span></li><li><span><a href=\"#Find-the-k'th-largest-element-in-a-list.-[EPI:-11.8]\" data-toc-modified-id=\"Find-the-k'th-largest-element-in-a-list.-[EPI:-11.8]-1.1.8\"><span class=\"toc-item-num\">1.1.8&nbsp;&nbsp;</span>Find the k'th largest element in a list. [EPI: 11.8]</a></span></li></ul></li><li><span><a href=\"#Collected-Heap-Problems:\" data-toc-modified-id=\"Collected-Heap-Problems:-1.2\"><span class=\"toc-item-num\">1.2&nbsp;&nbsp;</span><b style=\"color: #c71585\">Collected Heap Problems:</b></a></span><ul class=\"toc-item\"><li><span><a href=\"#Merge-k-Sorted-LinkedLists\" data-toc-modified-id=\"Merge-k-Sorted-LinkedLists-1.2.1\"><span class=\"toc-item-num\">1.2.1&nbsp;&nbsp;</span>Merge k Sorted LinkedLists</a></span></li></ul></li></ul></li><li><span><a href=\"#Fundamental-Sorting-Algorithms:\" data-toc-modified-id=\"Fundamental-Sorting-Algorithms:-2\"><span class=\"toc-item-num\">2&nbsp;&nbsp;</span><b style=\"color: #ff4500\">Fundamental Sorting Algorithms:</b></a></span><ul class=\"toc-item\"><li><ul class=\"toc-item\"><li><span><a href=\"#Mergsort-Algorithms:\" data-toc-modified-id=\"Mergsort-Algorithms:-2.0.1\"><span class=\"toc-item-num\">2.0.1&nbsp;&nbsp;</span>Mergsort Algorithms:</a></span></li><li><span><a href=\"#Quicksort-Algorithms:\" data-toc-modified-id=\"Quicksort-Algorithms:-2.0.2\"><span class=\"toc-item-num\">2.0.2&nbsp;&nbsp;</span>Quicksort Algorithms:</a></span></li></ul></li></ul></li><li><span><a href=\"#Sortings-Problems\" data-toc-modified-id=\"Sortings-Problems-3\"><span class=\"toc-item-num\">3&nbsp;&nbsp;</span><b style=\"color: #ff4500\">Sortings Problems</b></a></span><ul class=\"toc-item\"><li><span><a href=\"#Collected-Problems:\" data-toc-modified-id=\"Collected-Problems:-3.1\"><span class=\"toc-item-num\">3.1&nbsp;&nbsp;</span><b style=\"color: #c71585\">Collected Problems:</b></a></span><ul class=\"toc-item\"><li><span><a href=\"#Implement-Cyclic-Sort-Youtube\" data-toc-modified-id=\"Implement-Cyclic-Sort-Youtube-3.1.1\"><span class=\"toc-item-num\">3.1.1&nbsp;&nbsp;</span>Implement Cyclic Sort <a href=\"https://www.youtube.com/watch?v=JfinxytTYFQ&amp;t=4267s\" target=\"_blank\">Youtube</a></a></span></li><li><span><a href=\"#Missing-Number-Leetcode\" data-toc-modified-id=\"Missing-Number-Leetcode-3.1.2\"><span class=\"toc-item-num\">3.1.2&nbsp;&nbsp;</span>Missing Number <a href=\"https://leetcode.com/problems/missing-number/\" target=\"_blank\">Leetcode</a></a></span></li><li><span><a href=\"#Find-The-Duplicate-in-an-Array-Leetcode\" data-toc-modified-id=\"Find-The-Duplicate-in-an-Array-Leetcode-3.1.3\"><span class=\"toc-item-num\">3.1.3&nbsp;&nbsp;</span>Find The Duplicate in an Array <a href=\"https://leetcode.com/problems/find-the-duplicate-number/\" target=\"_blank\">Leetcode</a></a></span></li><li><span><a href=\"#Find-All-Duplicates-in-an-Array-Leetcode\" data-toc-modified-id=\"Find-All-Duplicates-in-an-Array-Leetcode-3.1.4\"><span class=\"toc-item-num\">3.1.4&nbsp;&nbsp;</span>Find All Duplicates in an Array <a href=\"https://leetcode.com/problems/find-all-duplicates-in-an-array/\" target=\"_blank\">Leetcode</a></a></span></li><li><span><a href=\"#Two-Sum-II---Input-Array-Is-Sorted---Leetcode\" data-toc-modified-id=\"Two-Sum-II---Input-Array-Is-Sorted---Leetcode-3.1.5\"><span class=\"toc-item-num\">3.1.5&nbsp;&nbsp;</span>Two Sum II - Input Array Is Sorted - <a href=\"https://leetcode.com/problems/two-sum-ii-input-array-is-sorted/\" target=\"_blank\">Leetcode</a></a></span></li><li><span><a href=\"#Computing-the-h-index.--[EPI:13.3].\" data-toc-modified-id=\"Computing-the-h-index.--[EPI:13.3].-3.1.6\"><span class=\"toc-item-num\">3.1.6&nbsp;&nbsp;</span>Computing the h-index.- [EPI:13.3].</a></span></li></ul></li><li><span><a href=\"#EPI:\" data-toc-modified-id=\"EPI:-3.2\"><span class=\"toc-item-num\">3.2&nbsp;&nbsp;</span><b style=\"color: #c71585\">EPI:</b></a></span><ul class=\"toc-item\"><li><span><a href=\"#Delete-duplicates-from-sorted-Array.---[EPI:5.5].\" data-toc-modified-id=\"Delete-duplicates-from-sorted-Array.---[EPI:5.5].-3.2.1\"><span class=\"toc-item-num\">3.2.1&nbsp;&nbsp;</span>Delete duplicates from sorted Array. - [EPI:5.5].</a></span></li><li><span><a href=\"#Compute-the-intersection-of-two-sorted-arrays.---[EPI:13.1].\" data-toc-modified-id=\"Compute-the-intersection-of-two-sorted-arrays.---[EPI:13.1].-3.2.2\"><span class=\"toc-item-num\">3.2.2&nbsp;&nbsp;</span>Compute the intersection of two sorted arrays. - [EPI:13.1].</a></span></li><li><span><a href=\"#Given-three-sorted-(in-ascending-order)-arrays-of-integers,-find-out-all-the-com­mon-ele­ments-in-them.\" data-toc-modified-id=\"Given-three-sorted-(in-ascending-order)-arrays-of-integers,-find-out-all-the-com­mon-ele­ments-in-them.-3.2.3\"><span class=\"toc-item-num\">3.2.3&nbsp;&nbsp;</span>Given three sorted (in ascending order) arrays of integers, find out all the com­mon ele­ments in them.</a></span></li><li><span><a href=\"#Find-intersection-POINT-between-Two-Sorted-Arrays.\" data-toc-modified-id=\"Find-intersection-POINT-between-Two-Sorted-Arrays.-3.2.4\"><span class=\"toc-item-num\">3.2.4&nbsp;&nbsp;</span>Find intersection-POINT between Two Sorted Arrays.</a></span></li><li><span><a href=\"#You-are-given-two-sorted-arrays,-A-and-B,-where-A-has-a-large-enough-buffer-at-the-end-to-hold-B.-Write-a-method-to-merge-B-into-A-in-sorted-order---[EPI:13.2,-CtCI:-11.1].\" data-toc-modified-id=\"You-are-given-two-sorted-arrays,-A-and-B,-where-A-has-a-large-enough-buffer-at-the-end-to-hold-B.-Write-a-method-to-merge-B-into-A-in-sorted-order---[EPI:13.2,-CtCI:-11.1].-3.2.5\"><span class=\"toc-item-num\">3.2.5&nbsp;&nbsp;</span>You are given two sorted arrays, <code>A</code> and <code>B</code>, where <code>A</code> has a large enough buffer at the end to hold <code>B</code>. Write a method to merge <code>B</code> into <code>A</code> in sorted order - [EPI:13.2, CtCI: 11.1].</a></span></li><li><span><a href=\"#Remove-first-name-duplicates-from-sorted-list.---[EPI:13.3].\" data-toc-modified-id=\"Remove-first-name-duplicates-from-sorted-list.---[EPI:13.3].-3.2.6\"><span class=\"toc-item-num\">3.2.6&nbsp;&nbsp;</span>Remove first-name duplicates from sorted list. - [EPI:13.3].</a></span></li><li><span><a href=\"#Smallest-nonconstructible-value.---[EPI:13.4].\" data-toc-modified-id=\"Smallest-nonconstructible-value.---[EPI:13.4].-3.2.7\"><span class=\"toc-item-num\">3.2.7&nbsp;&nbsp;</span>Smallest nonconstructible value. - [EPI:13.4].</a></span></li><li><span><a href=\"#Render-a-calendar.---[EPI:13.5].\" data-toc-modified-id=\"Render-a-calendar.---[EPI:13.5].-3.2.8\"><span class=\"toc-item-num\">3.2.8&nbsp;&nbsp;</span>Render a calendar. - [EPI:13.5].</a></span></li><li><span><a href=\"#You-are-given-a-set-of-closed-intervals-to-design-an-efficient-algorithm-for-finding-a-minimum-sized-set-of-numbers-that-covers-all-the-intervals.---[ChatGPT]\" data-toc-modified-id=\"You-are-given-a-set-of-closed-intervals-to-design-an-efficient-algorithm-for-finding-a-minimum-sized-set-of-numbers-that-covers-all-the-intervals.---[ChatGPT]-3.2.9\"><span class=\"toc-item-num\">3.2.9&nbsp;&nbsp;</span>You are given a set of closed intervals to design an efficient algorithm for finding a minimum sized set of numbers that covers all the intervals. - [ChatGPT]</a></span></li><li><span><a href=\"#Merging-intervals.---[EPI:13.6].\" data-toc-modified-id=\"Merging-intervals.---[EPI:13.6].-3.2.10\"><span class=\"toc-item-num\">3.2.10&nbsp;&nbsp;</span>Merging intervals. - [EPI:13.6].</a></span></li><li><span><a href=\"#Compute-the-union-of-open-and/or-closed-intervals.---[EPI:13.8].\" data-toc-modified-id=\"Compute-the-union-of-open-and/or-closed-intervals.---[EPI:13.8].-3.2.11\"><span class=\"toc-item-num\">3.2.11&nbsp;&nbsp;</span>Compute the union of open <code>and</code>/<code>or</code> closed intervals. - [EPI:13.8].</a></span><ul class=\"toc-item\"><li><span><a href=\"#Compute-the-union-of--closed-intervals.---[Easier-variant-of-EPI:13.8].\" data-toc-modified-id=\"Compute-the-union-of--closed-intervals.---[Easier-variant-of-EPI:13.8].-3.2.11.1\"><span class=\"toc-item-num\">3.2.11.1&nbsp;&nbsp;</span>Compute the union of  closed intervals. - [Easier variant of EPI:13.8].</a></span></li></ul></li><li><span><a href=\"#Partitioning-and-sorting-an-array-with-many-repeated-entries.---[EPI:13.8].\" data-toc-modified-id=\"Partitioning-and-sorting-an-array-with-many-repeated-entries.---[EPI:13.8].-3.2.12\"><span class=\"toc-item-num\">3.2.12&nbsp;&nbsp;</span>Partitioning and sorting an array with many repeated entries. - [EPI:13.8].</a></span><ul class=\"toc-item\"><li><span><a href=\"#Group-Anagram---[CtCI:-11.2].\" data-toc-modified-id=\"Group-Anagram---[CtCI:-11.2].-3.2.12.1\"><span class=\"toc-item-num\">3.2.12.1&nbsp;&nbsp;</span>Group Anagram - [CtCI: 11.2].</a></span></li></ul></li><li><span><a href=\"#Team-photo-day---1.---[EPI:13.9].\" data-toc-modified-id=\"Team-photo-day---1.---[EPI:13.9].-3.2.13\"><span class=\"toc-item-num\">3.2.13&nbsp;&nbsp;</span>Team photo day - 1. - [EPI:13.9].</a></span></li><li><span><a href=\"#Implement-a-fast-sorting-algorithm-for-lists-(LinkedList).---[EPI:13.10].\" data-toc-modified-id=\"Implement-a-fast-sorting-algorithm-for-lists-(LinkedList).---[EPI:13.10].-3.2.14\"><span class=\"toc-item-num\">3.2.14&nbsp;&nbsp;</span>Implement a fast sorting algorithm for lists (LinkedList). - [EPI:13.10].</a></span></li><li><span><a href=\"#Compute-a-salary-threshold.---[EPI:13.11].\" data-toc-modified-id=\"Compute-a-salary-threshold.---[EPI:13.11].-3.2.15\"><span class=\"toc-item-num\">3.2.15&nbsp;&nbsp;</span>Compute a salary threshold. - [EPI:13.11].</a></span></li></ul></li></ul></li></ul></div>"
   ]
  },
  {
   "cell_type": "code",
   "execution_count": 2,
   "id": "d334f34f",
   "metadata": {
    "slideshow": {
     "slide_type": ""
    },
    "tags": []
   },
   "outputs": [],
   "source": [
    "from collections import namedtuple, Counter, deque, defaultdict\n",
    "import os, itertools, functools, heapq, random, math, statistics\n",
    "from random import randint, randrange, seed, choices, sample\n",
    "import numpy as np\n",
    "from numpy import random as r\n",
    "from typing import List, DefaultDict\n",
    "from IPython.display import IFrame"
   ]
  },
  {
   "cell_type": "code",
   "execution_count": 3,
   "id": "c1f9138b",
   "metadata": {},
   "outputs": [],
   "source": [
    "import ads\n",
    "from ads.utils import *\n",
    "DATA_DIR = os.environ['ADS']+'/data/'"
   ]
  },
  {
   "cell_type": "markdown",
   "id": "9b2484b7",
   "metadata": {
    "heading_collapsed": true,
    "jp-MarkdownHeadingCollapsed": true
   },
   "source": [
    "##### PDFs"
   ]
  },
  {
   "cell_type": "code",
   "execution_count": null,
   "id": "eecbef4b",
   "metadata": {
    "hidden": true
   },
   "outputs": [],
   "source": [
    "# # DON'T run in VSCode!!\n",
    "# pdf_path = \"../complexity_analysis_pvt/ADS_CHEATSHEET.pdf\"\n",
    "# IFrame(src=pdf_path, width=\"100%\", height=\"600px\")"
   ]
  },
  {
   "cell_type": "markdown",
   "id": "493717d0",
   "metadata": {},
   "source": [
    "##### <b style=\"color:#C71585\">Sorting prerequisit</b>"
   ]
  },
  {
   "cell_type": "code",
   "execution_count": null,
   "id": "39d066cd",
   "metadata": {},
   "outputs": [],
   "source": []
  },
  {
   "cell_type": "markdown",
   "id": "87b9869f",
   "metadata": {
    "hidden": true
   },
   "source": [
    "##### <b style=\"color:#C71585\"> What is stability in sorting algorithm?</b>"
   ]
  },
  {
   "cell_type": "markdown",
   "id": "076c2a6a",
   "metadata": {
    "hidden": true
   },
   "source": [
    "if A[i] = A[j] and i < j then A[i] must appear before A[j] after stable sorting. Suppose you have a list of tuples representing people with their names and ages:\n",
    "\n",
    "```python\n",
    "[(\"Charlie\", 25), (\"Bob\", 30), (\"Alice\", 25), (\"David\", 22)]\n",
    "```\n",
    "If you sort this list based on the ages using a stable sorting algorithm, the relative order of people with the same age will be maintained in the sorted output. After sorting, the result might look like:\n",
    "\n",
    "```python\n",
    "[(\"David\", 22), (\"Charlie\", 25), (\"Alice\", 25), (\"Bob\", 30)]\n",
    "```\n",
    "In this example, Alice and Charlie both have the same age (25), and in the sorted list, Charlie appears before Alice, maintaining their original order.\n",
    "\n",
    "- **List of Stable Sort**:\n",
    "    -   Merge Sort\n",
    "    -   Bubble Sort\n",
    "    -   Insertion Sort\n"
   ]
  },
  {
   "cell_type": "markdown",
   "id": "00e52e37",
   "metadata": {
    "heading_collapsed": true,
    "jp-MarkdownHeadingCollapsed": true
   },
   "source": [
    "### <b style='color:#FF4500'>Heap</b>"
   ]
  },
  {
   "cell_type": "markdown",
   "id": "97a9c89f",
   "metadata": {
    "hidden": true
   },
   "source": [
    "- **heapq**: a min priority queue\n",
    "    - `heapq.heapify(pq_list)`\n",
    "    - `heapq.heappop(pq_list)`\n",
    "    - `heapq.heappush(pq_list)`\n",
    "    - `heapq.heappushpop(pq_list, item)`: it  is equivalent to `heappush()` followed by `heappop()`\n",
    "    - `heapq.heapreplace(pq_list, item)`: it  is equivalent to `heappop()` followed by `heappush()`\n",
    "    - `merge(*iterables, key=None, reverse=False)`: Merge multiple sorted inputs into a single sorted output. but returns a generator, and assumes that each of the input streams is already sorted (smallest to largest). key specifies a key function of one argument that is used to extract a comparison key from each input element. The default value is None (compare the elements directly).\n",
    "        - `heapq.merge(list1, list2, ... listn)`\n",
    "    - `nlargest(n, iterable, key=None)`: Return a list with the n largest elements from the dataset defined by iterable. key, if provided, specifies a function of one argument that is used to extract a comparison key from each element in iterable (for example, key=str.lower). Equivalent to: sorted(iterable, key=key, reverse=True)[:n].\n",
    "    - `nsmallest(n, iterable, key=None)`"
   ]
  },
  {
   "cell_type": "markdown",
   "id": "34f577a5",
   "metadata": {
    "heading_collapsed": true,
    "hidden": true
   },
   "source": [
    "##### Heapq API"
   ]
  },
  {
   "cell_type": "markdown",
   "id": "afa6da78",
   "metadata": {
    "hidden": true
   },
   "source": [
    "The `heapq` module in Python provides an implementation of the heap queue algorithm, also known as the priority queue algorithm. Here's a demonstration of all the key functions in the `heapq` module:"
   ]
  },
  {
   "cell_type": "markdown",
   "id": "a7510d60",
   "metadata": {
    "hidden": true
   },
   "source": [
    "-   1.  **heapq.heappush(heap, item)**: Push the value `item` onto the heap, maintaining the heap invariant."
   ]
  },
  {
   "cell_type": "code",
   "execution_count": null,
   "id": "b7857adb",
   "metadata": {},
   "outputs": [],
   "source": [
    "print([item for item in dir(heapq) if not item.startswith(\"__\")])"
   ]
  },
  {
   "cell_type": "code",
   "execution_count": null,
   "id": "eab4506b",
   "metadata": {
    "hidden": true
   },
   "outputs": [],
   "source": [
    "import heapq\n",
    "\n",
    "# Create an empty heap\n",
    "heap = []\n",
    "\n",
    "# Push items onto the heap\n",
    "heapq.heappush(heap, 5)\n",
    "heapq.heappush(heap, 1)\n",
    "heapq.heappush(heap, 3)\n",
    "\n",
    "print(\"Heap after pushing 5, 1, 3:\", heap)"
   ]
  },
  {
   "cell_type": "markdown",
   "id": "dca95694",
   "metadata": {},
   "source": [
    "-   1. **heapq.heapify(x)**: Transform list `x` into a heap, in-place, in linear time."
   ]
  },
  {
   "cell_type": "code",
   "execution_count": null,
   "id": "5ba3c5bc",
   "metadata": {},
   "outputs": [],
   "source": [
    "# Create a list\n",
    "list_items = [9, 6, 8, 2, 4, 5]\n",
    "\n",
    "# Heapify the list\n",
    "heapq.heapify(list_items)\n",
    "print(\"List after heapify:\", list_items)"
   ]
  },
  {
   "cell_type": "markdown",
   "id": "d9989f93",
   "metadata": {
    "hidden": true
   },
   "source": [
    "-   2.  **heapq.heappop(heap)**: Pop and return the smallest item from the heap, maintaining the heap invariant."
   ]
  },
  {
   "cell_type": "code",
   "execution_count": null,
   "id": "d180ff79",
   "metadata": {
    "hidden": true
   },
   "outputs": [],
   "source": [
    "smallest = heapq.heappop(heap)\n",
    "print(\"Smallest item popped from heap:\", smallest)\n",
    "print(\"Heap after popping the smallest item:\", heap)"
   ]
  },
  {
   "cell_type": "markdown",
   "id": "84d3ae09",
   "metadata": {
    "hidden": true
   },
   "source": [
    "-   3. **heapq.heappushpop(heap, item)**: Push `item` on the heap, then pop and return the smallest item from the heap. The combined action runs more efficiently than `heappush` followed by a separate call to `heappop`."
   ]
  },
  {
   "cell_type": "code",
   "execution_count": null,
   "id": "cffa2aa9",
   "metadata": {
    "hidden": true
   },
   "outputs": [],
   "source": [
    "result = heapq.heappushpop(heap, 2)\n",
    "print(\"Result of heappushpop with item 2:\", result)\n",
    "print(\"Heap after heappushpop:\", heap)"
   ]
  },
  {
   "cell_type": "markdown",
   "id": "79454ecc",
   "metadata": {
    "hidden": true
   },
   "source": [
    "-   4. **heapq.heapreplace(heap, item)**: Pop and return the smallest item from the heap, and also push the new item. The heap size is unchanged. This is more efficient than `heappop` followed by `heappush`."
   ]
  },
  {
   "cell_type": "code",
   "execution_count": null,
   "id": "9594bcbf",
   "metadata": {
    "hidden": true
   },
   "outputs": [],
   "source": [
    "result = heapq.heapreplace(heap, 4)\n",
    "print(\"Result of heapreplace with item 4:\", result)\n",
    "print(\"Heap after heapreplace:\", heap)"
   ]
  },
  {
   "cell_type": "markdown",
   "id": "7ec4faea",
   "metadata": {
    "hidden": true
   },
   "source": [
    "-   6. **heapq.nlargest(n, iterable, key=None)**: Return a list with the `n` largest elements from the dataset defined by `iterable`. If `key` is provided, it specifies a function of one argument that is used to extract a comparison key from each element in the iterable."
   ]
  },
  {
   "cell_type": "code",
   "execution_count": 5,
   "id": "7c83d7b7",
   "metadata": {
    "hidden": true
   },
   "outputs": [
    {
     "name": "stdout",
     "output_type": "stream",
     "text": [
      "Three largest items: [6, 6, 5]\n"
     ]
    }
   ],
   "source": [
    "largest_three = heapq.nlargest(3, [4,6,1,5,3,6])\n",
    "print(\"Three largest items:\", largest_three)"
   ]
  },
  {
   "cell_type": "markdown",
   "id": "d485ed50",
   "metadata": {
    "hidden": true
   },
   "source": [
    "-   7. **heapq.nsmallest(n, iterable, key=None)**: Return a list with the `n` smallest elements from the dataset defined by `iterable`. If `key` is provided, it specifies a function of one argument that is used to extract a comparison key from each element in the iterable."
   ]
  },
  {
   "cell_type": "code",
   "execution_count": 6,
   "id": "3fc2cd5e",
   "metadata": {
    "hidden": true
   },
   "outputs": [
    {
     "name": "stdout",
     "output_type": "stream",
     "text": [
      "Three smallest items: [1, 3, 4]\n"
     ]
    }
   ],
   "source": [
    "smallest_three = heapq.nsmallest(3, [4,6,1,5,3,6])\n",
    "print(\"Three smallest items:\", smallest_three)"
   ]
  },
  {
   "cell_type": "markdown",
   "id": "3c5f66df",
   "metadata": {
    "hidden": true
   },
   "source": [
    "-   8. **heapq.merge(*iterables, key=None, reverse=False)**: Merge multiple sorted inputs into a single sorted output (for example, merge timestamped entries from multiple log files). Returns an iterator over the sorted values."
   ]
  },
  {
   "cell_type": "code",
   "execution_count": 8,
   "id": "6f514ebf",
   "metadata": {
    "hidden": true
   },
   "outputs": [
    {
     "name": "stdout",
     "output_type": "stream",
     "text": [
      "Merged sorted iterables: [1, 2, 3, 4, 5, 6, 6]\n"
     ]
    }
   ],
   "source": [
    "iter1 = [1, 3, 5, 6]\n",
    "iter2 = [2, 4, 6]\n",
    "merged = list(heapq.merge(iter1, iter2))\n",
    "print(\"Merged sorted iterables:\", merged)"
   ]
  },
  {
   "cell_type": "markdown",
   "id": "0ec66d20",
   "metadata": {
    "hidden": true
   },
   "source": [
    "-   9. **heapq.\\_heappop_max(heap)**: Pop and return the largest item from the heap, maintaining the heap invariant."
   ]
  },
  {
   "cell_type": "code",
   "execution_count": null,
   "id": "0a53a2a4",
   "metadata": {
    "hidden": true
   },
   "outputs": [],
   "source": [
    "heap_max = [1, 3, 5, 7, 9]\n",
    "heapq._heapify_max(heap_max)\n",
    "largest_item = heapq._heappop_max(heap_max)\n",
    "print(\"Largest item popped from max-heap:\", largest_item)\n",
    "print(\"Max-heap after popping largest item:\", heap_max)"
   ]
  },
  {
   "cell_type": "markdown",
   "id": "3b68fc15",
   "metadata": {
    "hidden": true
   },
   "source": [
    "-   10. **heapq.\\_heapreplace_max(heap, item)**: Pop and return the largest item from the heap, and also push the new item. The heap size is unchanged."
   ]
  },
  {
   "cell_type": "code",
   "execution_count": null,
   "id": "c91e2f1a",
   "metadata": {
    "hidden": true
   },
   "outputs": [],
   "source": [
    "heapq._heapreplace_max(heap_max, 2)\n",
    "print(\"Max-heap after heapreplace with item 2:\", heap_max)"
   ]
  },
  {
   "cell_type": "markdown",
   "id": "52da2481",
   "metadata": {
    "hidden": true
   },
   "source": [
    "-   11. **heapq._heapify_max(heap)**\n",
    "Transform list `heap` into a max-heap, in-place, in linear time."
   ]
  },
  {
   "cell_type": "code",
   "execution_count": null,
   "id": "8f512d6d",
   "metadata": {
    "hidden": true
   },
   "outputs": [],
   "source": [
    "# Create a list\n",
    "list_items_max = [2, 4, 1, 7, 5, 3]\n",
    "\n",
    "# Heapify the list as max-heap\n",
    "heapq._heapify_max(list_items_max)\n",
    "print(\"List after _heapify_max:\", list_items_max)"
   ]
  },
  {
   "cell_type": "markdown",
   "id": "c4d70ad9",
   "metadata": {
    "heading_collapsed": true,
    "hidden": true,
    "jp-MarkdownHeadingCollapsed": true
   },
   "source": [
    "##### Min Priority Queue"
   ]
  },
  {
   "cell_type": "code",
   "execution_count": 9,
   "id": "1c64616f",
   "metadata": {
    "hidden": true,
    "scrolled": true
   },
   "outputs": [
    {
     "name": "stdout",
     "output_type": "stream",
     "text": [
      "(-4, 14)\n",
      "(-3, 36)\n",
      "(-2, 44)\n",
      "(1, 37)\n",
      "(2, 46)\n",
      "(4, 14)\n",
      "(4, 16)\n"
     ]
    }
   ],
   "source": [
    "pq = []\n",
    "heapq.heapify(pq)\n",
    "\n",
    "for i in range(7): \n",
    "    priority = randrange(-5,5)\n",
    "    element = randrange(50)\n",
    "    heapq.heappush(pq, (priority, element))\n",
    "\n",
    "for i in range(len(pq)):\n",
    "    print(heapq.heappop(pq))"
   ]
  },
  {
   "cell_type": "code",
   "execution_count": 10,
   "id": "35382d78",
   "metadata": {
    "hidden": true
   },
   "outputs": [
    {
     "data": {
      "text/plain": [
       "[-13, -5, 6, -3, 2, 11, 10, 6, 7, 3]"
      ]
     },
     "execution_count": 10,
     "metadata": {},
     "output_type": "execute_result"
    }
   ],
   "source": [
    "pq = [randint(-20,20) for _ in range(10)]\n",
    "heapq.heapify(pq)\n",
    "pq"
   ]
  },
  {
   "cell_type": "markdown",
   "id": "69fb9dee",
   "metadata": {
    "hidden": true
   },
   "source": [
    "- `heapq.merge(list1, list2, ... listn)`"
   ]
  },
  {
   "cell_type": "code",
   "execution_count": 12,
   "id": "5627efe5",
   "metadata": {
    "hidden": true
   },
   "outputs": [],
   "source": [
    "list_of_sorted_lists = [sorted([randint(-99, 99) for _ in range(randint(0, 5))]) for _ in range(randint(2, 5))]"
   ]
  },
  {
   "cell_type": "code",
   "execution_count": 13,
   "id": "5097b3d3",
   "metadata": {
    "hidden": true
   },
   "outputs": [
    {
     "data": {
      "text/plain": [
       "[[-62, -44, 58, 93], [-47, 12, 37], [], [69], [-74]]"
      ]
     },
     "execution_count": 13,
     "metadata": {},
     "output_type": "execute_result"
    }
   ],
   "source": [
    "list_of_sorted_lists"
   ]
  },
  {
   "cell_type": "code",
   "execution_count": 17,
   "id": "e4039fc2",
   "metadata": {
    "hidden": true
   },
   "outputs": [
    {
     "data": {
      "text/plain": [
       "[69, -47, 12, 37, -62, -44, 58, 93, -74]"
      ]
     },
     "execution_count": 17,
     "metadata": {},
     "output_type": "execute_result"
    }
   ],
   "source": [
    "[*heapq.merge(*list_of_sorted_lists, key=lambda x: -x)]"
   ]
  },
  {
   "cell_type": "markdown",
   "id": "e803d860",
   "metadata": {
    "heading_collapsed": true,
    "hidden": true,
    "jp-MarkdownHeadingCollapsed": true
   },
   "source": [
    "##### Max Priority Queue out of Min Priority Queue:"
   ]
  },
  {
   "cell_type": "code",
   "execution_count": 18,
   "id": "21a24470",
   "metadata": {
    "hidden": true,
    "scrolled": true
   },
   "outputs": [
    {
     "name": "stdout",
     "output_type": "stream",
     "text": [
      "9 12\n",
      "9 37\n",
      "7 8\n",
      "6 25\n",
      "4 15\n",
      "3 13\n",
      "-1 35\n"
     ]
    }
   ],
   "source": [
    "pq = []\n",
    "heapq.heapify(pq)\n",
    "L = []\n",
    "\n",
    "for i in range(7): \n",
    "    priority = randrange(-2, 10)\n",
    "    element = randrange(50)\n",
    "    L.append((priority, element))\n",
    "    heapq.heappush(pq, (-priority, element))\n",
    "\n",
    "for i in range(len(pq)):\n",
    "    item = heapq.heappop(pq)\n",
    "    priority, element = -item[0],item[1]\n",
    "    print(priority, element)"
   ]
  },
  {
   "cell_type": "markdown",
   "id": "10a5a98e",
   "metadata": {
    "heading_collapsed": true,
    "hidden": true
   },
   "source": [
    "#### <b style='color:#C71585'>EPI"
   ]
  },
  {
   "cell_type": "markdown",
   "id": "ea2010a0",
   "metadata": {
    "heading_collapsed": true,
    "hidden": true
   },
   "source": [
    "##### Merg Sorted Files.  - [EPI: 10.1]  [ByteByByte](https://www.youtube.com/watch?v=6bvnZzwiKzs&t=1335s)"
   ]
  },
  {
   "cell_type": "markdown",
   "id": "b7584761",
   "metadata": {
    "hidden": true
   },
   "source": [
    "Write a program that takes as input a set of sorted sequences and computes the union of these sequences as a sorted sequence. For example, if the input is (3, 5, 7), (0, 6), and (0, 6, 28), then the output is (0, 0, 3, 5, 6, 6, 7, 28).\n"
   ]
  },
  {
   "cell_type": "markdown",
   "id": "4c92aaa8",
   "metadata": {
    "hidden": true
   },
   "source": [
    "\n",
    "Given k sorted arrays, merge them into one sorted array."
   ]
  },
  {
   "cell_type": "code",
   "execution_count": null,
   "id": "78b62297",
   "metadata": {},
   "outputs": [],
   "source": [
    "def merge_sorted_arrays(sorted_arrays):\n",
    "\n",
    "    min_heap = []\n",
    "    # Builds a list of iterators for each array in sorted_arrays.\n",
    "    sorted_arrays_iters = [iter(x) for x in sorted_arrays]\n",
    "\n",
    "    # Puts first element from each iterator in min_heap.\n",
    "    for i, it in enumerate(sorted_arrays_iters):\n",
    "        first_element = next(it, None)\n",
    "        if first_element is not None:\n",
    "            heapq.heappush(min_heap, (first_element, i))\n",
    "\n",
    "    result = []\n",
    "    while min_heap:\n",
    "        smallest_entry, smallest_array_i = heapq.heappop(min_heap)\n",
    "        smallest_array_iter = sorted_arrays_iters[smallest_array_i]\n",
    "        result.append(smallest_entry)\n",
    "        next_element = next(smallest_array_iter, None)\n",
    "        \n",
    "        if next_element is not None:\n",
    "            heapq.heappush(min_heap, (next_element, smallest_array_i))\n",
    "    \n",
    "    return result"
   ]
  },
  {
   "cell_type": "code",
   "execution_count": null,
   "id": "591296f3",
   "metadata": {
    "code_folding": [
     1,
     7,
     10
    ],
    "hidden": true
   },
   "outputs": [],
   "source": [
    "class PQNode:\n",
    "    def __init__(self, value: int, list_idx: int, item_idx: int):\n",
    "        self.value = value\n",
    "        self.list_idx = list_idx\n",
    "        self.item_idx = item_idx\n",
    "\n",
    "    def __lt__(self, other_pq_node):\n",
    "        return self.value < other_pq_node.value\n",
    "\n",
    "    def __gt__(self, other_pq_node):\n",
    "        return self.value > other_pq_node.value"
   ]
  },
  {
   "cell_type": "code",
   "execution_count": null,
   "id": "6667f742",
   "metadata": {
    "hidden": true
   },
   "outputs": [],
   "source": [
    "PQNode = namedtuple('PQNode', ('value', 'list_idx', 'item_idx'))"
   ]
  },
  {
   "cell_type": "code",
   "execution_count": null,
   "id": "b6c831da",
   "metadata": {
    "hidden": true
   },
   "outputs": [],
   "source": [
    "def merge_k_lists(lists):\n",
    "    PQNode = namedtuple(\"PQNode\", (\"value\", \"idx\", \"ith_list\"))\n",
    "    resultant_list = []\n",
    "    min_heap = [PQNode(arr[0], 0, i) for i, arr in enumerate(lists) if arr]\n",
    "    heapq.heapify(min_heap)\n",
    "\n",
    "    while min_heap:\n",
    "        current_val, idx, ith_list = heapq.heappop(min_heap)\n",
    "        if idx+1 < len(lists[ith_list]):\n",
    "            heapq.heappush(min_heap, PQNode(lists[ith_list][idx+1], idx+1, ith_list))\n",
    "        \n",
    "        resultant_list.append(current_val)\n",
    "\n",
    "    return resultant_list"
   ]
  },
  {
   "cell_type": "code",
   "execution_count": null,
   "id": "011618f6",
   "metadata": {
    "code_folding": [],
    "hidden": true
   },
   "outputs": [],
   "source": [
    "def merge_k_lists(lists):\n",
    "    pq = []\n",
    "    heapq.heapify(pq)\n",
    "\n",
    "    for i, arr in enumerate(lists):\n",
    "        if len(arr) > 0: heapq.heappush(pq, PQNode(arr[0], i, 0))\n",
    "\n",
    "    res_list = []\n",
    "    \n",
    "    while pq:\n",
    "        value, list_idx, item_idx = heapq.heappop(pq)\n",
    "        res_list.append(value)\n",
    "        next_idx = item_idx + 1\n",
    "        \n",
    "        if next_idx < len(lists[list_idx]):\n",
    "            heapq.heappush(pq, PQNode(lists[list_idx][next_idx], list_idx, next_idx))        \n",
    "    \n",
    "    return res_list"
   ]
  },
  {
   "cell_type": "code",
   "execution_count": null,
   "id": "cd7cd856",
   "metadata": {
    "code_folding": [],
    "hidden": true
   },
   "outputs": [],
   "source": [
    "def merge_k_lists_v2(arrays: List[List]):\n",
    "    \n",
    "    size = 0\n",
    "    pq = []\n",
    "    heapq.heapify(pq)\n",
    "\n",
    "    for i, array in enumerate(arrays):\n",
    "        size += len(array)\n",
    "        if len(array) > 0: heapq.heappush(pq, PQNode(array[0], i, 0))\n",
    "\n",
    "    idx = 0\n",
    "    res_array = [None]*size\n",
    "    len_pq = len(pq)\n",
    "\n",
    "    while pq:\n",
    "        \n",
    "        node = heapq.heappop(pq)\n",
    "        res_array[idx] = node.value\n",
    "        next_idx = node.item_idx + 1\n",
    "        \n",
    "        if next_idx < len(arrays[node.list_idx]):\n",
    "            heapq.heappush(pq,PQNode(arrays[node.list_idx][next_idx], node.list_idx, next_idx))\n",
    "            len_pq += 1\n",
    "        \n",
    "        idx += 1\n",
    "    \n",
    "    return res_array"
   ]
  },
  {
   "cell_type": "code",
   "execution_count": null,
   "id": "d8227049",
   "metadata": {
    "code_folding": [],
    "hidden": true
   },
   "outputs": [],
   "source": [
    "# Pythonic solution, uses the heapq.merge() method which takes multiple inputs.\n",
    "def merge_sorted_arrays_pythonic(sorted_arrays):\n",
    "    return list(heapq.merge(*sorted_arrays))"
   ]
  },
  {
   "cell_type": "code",
   "execution_count": null,
   "id": "0b5803d7",
   "metadata": {
    "hidden": true
   },
   "outputs": [],
   "source": []
  },
  {
   "cell_type": "code",
   "execution_count": null,
   "id": "e8c9c7d3",
   "metadata": {
    "code_folding": [],
    "hidden": true
   },
   "outputs": [],
   "source": [
    "def _test_merge_sorted_arrays():\n",
    "    \n",
    "    for _ in range(1000):\n",
    "        P = [sorted([randrange(1, 150) for _ in range(randrange(0, 10))]) for _ in range(10)]\n",
    "        try:\n",
    "            returned1 = merge_k_lists(P)\n",
    "            returned2 = merge_k_lists_v2(P)\n",
    "            expected = [*heapq.merge(*P)]\n",
    "            assert returned1 == returned2 == expected\n",
    "        \n",
    "        except:\n",
    "            print(red('FAILED'))\n",
    "            print(P, returned1, returned2)\n",
    "# =========================================================================\n",
    "\n",
    "_test_merge_sorted_arrays()"
   ]
  },
  {
   "cell_type": "markdown",
   "id": "cd796917",
   "metadata": {
    "heading_collapsed": true,
    "hidden": true
   },
   "source": [
    "##### Sort an Increasing-Decreasing array. - [EPI: 10.2]"
   ]
  },
  {
   "cell_type": "markdown",
   "id": "e2551d49",
   "metadata": {
    "hidden": true
   },
   "source": [
    "An array is said to be k-increasing-decreasing if elements repeatedly increase up to a certain index after which they decrease, then again increase, a total of k times."
   ]
  },
  {
   "cell_type": "code",
   "execution_count": null,
   "id": "37536eb1",
   "metadata": {
    "code_folding": [],
    "hidden": true
   },
   "outputs": [],
   "source": [
    "def sort_k_increasing_decreasing_array(A):\n",
    "\n",
    "    # Decomposes A into a set of sorted arrays.\n",
    "    sorted_subarrays = []\n",
    "    INCREASING, DECREASING = range(2)\n",
    "    subarray_type = INCREASING\n",
    "    start_idx = 0\n",
    "    for i in range(1, len(A) + 1):\n",
    "        if (i == len(A) or (A[i-1] < A[i] and subarray_type == DECREASING) or (A[i - 1] >= A[i] and subarray_type == INCREASING)):\n",
    "            \n",
    "            sorted_subarrays.append(A[start_idx:i] if subarray_type == INCREASING else A[i-1 : start_idx-1 : -1])\n",
    "            start_idx = i\n",
    "            subarray_type = (DECREASING if subarray_type == INCREASING else INCREASING)\n",
    "    \n",
    "    return merge_sorted_arrays(sorted_subarrays)"
   ]
  },
  {
   "cell_type": "code",
   "execution_count": null,
   "id": "8565b145",
   "metadata": {
    "code_folding": [
     1
    ],
    "hidden": true
   },
   "outputs": [],
   "source": [
    "# Not been testet\n",
    "def sort_k_increasing_decreasing_array(A):\n",
    "\n",
    "    # Decomposes A into a set of sorted arrays.\n",
    "    sorted_subarrays = []\n",
    "    INCREASING, DECREASING = range(2)\n",
    "    subarray_type = INCREASING\n",
    "    start_idx = 0\n",
    "    for i in range(1, len(A) + 1):\n",
    "        if (i == len(A):\n",
    "            sorted_subarrays.append(A[start_idx:i] if subarray_type == INCREASING else A[i-1 : start_idx-1 : -1])\n",
    "            start_idx = i\n",
    "            subarray_type = (DECREASING if subarray_type == INCREASING else INCREASING)\n",
    "    \n",
    "        if (A[i-1] < A[i] and subarray_type == DECREASING):\n",
    "            sorted_subarrays.append(A[i-1 : start_idx-1 : -1])\n",
    "            start_idx = i\n",
    "            subarray_type = INCREASING\n",
    "    \n",
    "        if (A[i - 1] >= A[i] and subarray_type == INCREASING)):\n",
    "            \n",
    "            sorted_subarrays.append(A[start_idx:i])\n",
    "            start_idx = i\n",
    "            subarray_type = DECREASING\n",
    "    \n",
    "    return merge_sorted_arrays(sorted_subarrays)"
   ]
  },
  {
   "cell_type": "code",
   "execution_count": null,
   "id": "cb078f2f",
   "metadata": {
    "code_folding": [
     1
    ],
    "hidden": true
   },
   "outputs": [],
   "source": [
    "# Pythonic solution, uses a stateful object to trace the monotonic subarrays.\n",
    "def sort_k_increasing_decreasing_array_pythonic(A):\n",
    "    class Monotonic:\n",
    "        def __init__(self):\n",
    "            self._last = float('-inf')\n",
    "\n",
    "        def __call__(self, curr):\n",
    "            result = curr < self._last\n",
    "            self._last = curr\n",
    "            return result\n",
    "\n",
    "    return merge_sorted_arrays([\n",
    "        list(group)[::-1 if is_decreasing else 1]\n",
    "        for is_decreasing, group in itertools.groupby(A, Monotonic())\n",
    "    ])"
   ]
  },
  {
   "cell_type": "code",
   "execution_count": null,
   "id": "4aaf83a7",
   "metadata": {
    "hidden": true
   },
   "outputs": [],
   "source": []
  },
  {
   "cell_type": "markdown",
   "id": "2e41a2a0",
   "metadata": {
    "heading_collapsed": true,
    "hidden": true
   },
   "source": [
    "##### Sort an almost sorted array. - [EPI: 10.3]"
   ]
  },
  {
   "cell_type": "markdown",
   "id": "74a0e0f5",
   "metadata": {
    "hidden": true
   },
   "source": [
    "Write a program which takes as input a very long sequence of numbers and prints the numbers in sorted order. Each number is at most k away from its correctly sorted position. (Such an array is some times referred to as being `k-sorted`.) \n",
    "\n",
    "For example, no number in the sequence (3, -1,2,6,4,5,8) is more than 2 (`k==2`) away from its final sorted position. Specificly, after we have read `k+1` numbers, the smallest number in that group must be smaller than all the following numbers. \n",
    "\n",
    "So for the given example, after we have read the first 3 numbers, (3, -1, 2), the smallest, (-1), must be globally the smallest. This is because the sequence was specified to have the property tht every number is at most 2 (`k==2`) away from its final sorted location and the smallest number is at index 0 in sorted order. After we read in the 4, the second smallest number must be the minimum of 3,2,4, i.e., 2.\n",
    "\n",
    "`Hint`: How many numbers must you read after reading the ith number to be sure you can place it in the correct location?"
   ]
  },
  {
   "cell_type": "code",
   "execution_count": null,
   "id": "724095d5",
   "metadata": {
    "code_folding": [
     0
    ],
    "hidden": true
   },
   "outputs": [],
   "source": [
    "def sort_almost_sorted(seq, k):\n",
    "    min_heap = []\n",
    "    sorted_seq = []\n",
    "    \n",
    "    for item in seq:\n",
    "        heapq.heappush(min_heap, item)\n",
    "        \n",
    "        if len(min_heap) == k+1:\n",
    "            sorted_seq.append(heapq.heappop(min_heap))\n",
    "    \n",
    "    while min_heap:\n",
    "        sorted_seq.append(heapq.heappop(min_heap))\n",
    "    \n",
    "    return sorted_seq   "
   ]
  },
  {
   "cell_type": "code",
   "execution_count": null,
   "id": "3b3c7cdf",
   "metadata": {
    "code_folding": [
     0
    ],
    "hidden": true
   },
   "outputs": [],
   "source": [
    "def sort_almost_sorted(seq, k):\n",
    "    min_heap = seq[:k]\n",
    "    result = []\n",
    "    heapq.heapify(min_heap)\n",
    "    \n",
    "    for item in seq[k:]:\n",
    "        result.append(heapq.heappushpop(min_heap, item))\n",
    "    \n",
    "    while min_heap:\n",
    "        result.append(heapq.heappop(min_heap))\n",
    "    \n",
    "    return result"
   ]
  },
  {
   "cell_type": "code",
   "execution_count": null,
   "id": "82de624d",
   "metadata": {
    "code_folding": [
     0
    ],
    "hidden": true
   },
   "outputs": [],
   "source": [
    "def _test_sort_almost_sorted():\n",
    "    test_cases_with_expected = [\n",
    "        [[], 0],\n",
    "        [[1, 2, 3, 4], 0],\n",
    "        [[1, 2, 4, 6], 2],\n",
    "        [[3, 2, 4, 2, 5, 4], 2],\n",
    "        [[3, 2, -1,6,4,5,8], 2],\n",
    "    ]\n",
    "    \n",
    "    # for array, k in test_cases_with_expected:\n",
    "    for _ in range(300):\n",
    "        k = random.randint(0, 5)\n",
    "        array = [random.randint(i-k//2, i+k//2) for i in range(100)]\n",
    "        try:\n",
    "            returned = sort_almost_sorted(array, k)\n",
    "            expected = sorted(array)\n",
    "            # print(f\"Given: {array}, {k}\", f\"Returned: {returned}\", f\"==\"*30, sep=\"\\n\")\n",
    "            assert returned == expected\n",
    "        except:\n",
    "            print(f\"Given: {array}, {k}\", f\"Returned: {returned}\", f\"Expected: {expected}\", f\"==\"*30, sep=\"\\n\")\n",
    "#========================================================\n",
    "_test_sort_almost_sorted()"
   ]
  },
  {
   "cell_type": "markdown",
   "id": "43126854",
   "metadata": {
    "heading_collapsed": true,
    "hidden": true
   },
   "source": [
    "##### Computes the k-closest stars. - [EPI: 10.4]"
   ]
  },
  {
   "cell_type": "markdown",
   "id": "937dc532",
   "metadata": {
    "hidden": true
   },
   "source": [
    "Consider a coordinate system for the Milky Way, in which Earth is at `(0,0,0)`. Model stars as points, and assume distances are in light years. The Milky Way consists of approximately $10^{12}$ stars, and their coordinates are stored in a file.\n",
    "\n",
    "How would you compute the `k` stars which are closest to Earth?\n",
    "\n",
    "`Hint`: Suppose you know the `k` closest stars in the first `n` stars. If the $(n + 1)^{th}$ star is to be added to the set of `k` closest stars, which element in that set should be evicted?"
   ]
  },
  {
   "cell_type": "code",
   "execution_count": null,
   "id": "27980be9",
   "metadata": {
    "code_folding": [],
    "hidden": true
   },
   "outputs": [],
   "source": [
    "class Star:\n",
    "    def __init__(self, x, y, z): self.x, self.y, self.z = x, y, z\n",
    "    @property\n",
    "    def distance(self): return math.sqrt(self.x**2 + self.y**2 + self.z**2)\n",
    "    def __lt__(self, rhs): return self.distance < rhs.distance\n",
    "    def __eq__(self, rhs): return math.isclose(self.distance, rhs.distance)\n",
    "    def __repr__(self): return str(self.distance)\n",
    "    def __str__(self): return self.__repr__()"
   ]
  },
  {
   "cell_type": "code",
   "execution_count": null,
   "id": "38fe9fed",
   "metadata": {
    "hidden": true
   },
   "outputs": [],
   "source": [
    "def find_closest_k_stars(stars, k):\n",
    "    max_heap = [-star.distance for star in stars[:k]]\n",
    "    max_heap.heapify(max_heap)\n",
    "    closest_stars = []\n",
    "    \n",
    "    for star in stars[k:]:\n",
    "        heapq.heappushpop(max_heap, -star)\n",
    "    \n",
    "    while max_heap:\n",
    "        closest_stars.append(-heapq.heappop(max_heap))\n",
    "    \n",
    "    return closest_stars"
   ]
  },
  {
   "cell_type": "code",
   "execution_count": null,
   "id": "59af9125",
   "metadata": {
    "code_folding": [],
    "hidden": true
   },
   "outputs": [],
   "source": [
    "def find_closest_k_stars(stars, k):\n",
    "\n",
    "    min_heap = []\n",
    "\n",
    "    for star in stars:\n",
    "        heapq.heappush(min_heap, (-star.distance, star))\n",
    "\n",
    "        if len(min_heap) == k+1:\n",
    "            heapq.heappop(min_heap)\n",
    "\n",
    "    return [s[1] for s in heapq.nlargest(k, min_heap)]"
   ]
  },
  {
   "cell_type": "markdown",
   "id": "59579821",
   "metadata": {
    "hidden": true
   },
   "source": [
    "- The time complexity is $O(n \\cdot log_2 k)$\n",
    "- The space complexity is $O(k)$"
   ]
  },
  {
   "cell_type": "code",
   "execution_count": null,
   "id": "94b217c4",
   "metadata": {
    "hidden": true
   },
   "outputs": [],
   "source": [
    "def _test_find_closest_k_stars():\n",
    "    pass"
   ]
  },
  {
   "cell_type": "markdown",
   "id": "30c2a410",
   "metadata": {
    "heading_collapsed": true,
    "hidden": true
   },
   "source": [
    "##### Compute the median of online data. - [EPI: 10.5] [neetcode](https://www.youtube.com/watch?v=itmhHWaHupI)"
   ]
  },
  {
   "cell_type": "markdown",
   "id": "0720affc",
   "metadata": {
    "hidden": true
   },
   "source": [
    "You want to compute the running median of a sequence of numbers. The sequence is presented to you in a streaming fashion, you cannot back up to read an earlier value, and you need to output the median after reading in each new element.\n",
    "- Example\n",
    "    - Input: [1, 0, 3, 5, 2, 0, 1]\n",
    "    - Output: [1, 0.5, 1, 2, 2, 1.5, 1]\n",
    "\n",
    "Design an algorithm for computing the running median of a sequence.\n",
    "\n",
    "`Hint`: Avoid looking at all values each time you read a new value."
   ]
  },
  {
   "cell_type": "markdown",
   "id": "74e21679",
   "metadata": {
    "hidden": true
   },
   "source": [
    "**Medians**:\n",
    "- The median is the middle value of a dataset when it is ordered from smallest to largest.\n",
    "- In statistics, the median is a measure of central tendency, which is a value that represents the center or typical value of a dataset.\n",
    "- It divides the data into two equal halves, with half of the data points falling below it and half above it."
   ]
  },
  {
   "cell_type": "code",
   "execution_count": 14,
   "id": "ddeb23de",
   "metadata": {
    "code_folding": [],
    "hidden": true
   },
   "outputs": [
    {
     "name": "stdout",
     "output_type": "stream",
     "text": [
      "[0]\n"
     ]
    }
   ],
   "source": [
    "def online_median(sequence):\n",
    "\n",
    "    # min_heap stores the larger half seen so far.\n",
    "    min_heap = []\n",
    "    \n",
    "    # max_heap stores the smaller half seen so far. Values in max_heap are negative\n",
    "    max_heap = []\n",
    "    result = []\n",
    "\n",
    "    for x in sequence:\n",
    "        heapq.heappush(max_heap, -heapq.heappushpop(min_heap, x))\n",
    "        \n",
    "        # Ensure min_heap and max_heap have equal number of elements if an even\n",
    "        # number of elements is read; otherwise, min_heap must have one more\n",
    "        # element than max_heap.\n",
    "        if len(max_heap) > len(min_heap):\n",
    "            heapq.heappush(min_heap, -heapq.heappop(max_heap))\n",
    "\n",
    "    if len(min_heap) > len(max_heap): result.append(min_heap[0])\n",
    "    else: result.append(0.5 * (min_heap[0] + (-max_heap[0])))\n",
    "\n",
    "    return result\n",
    "\n",
    "print(online_median([0]))"
   ]
  },
  {
   "cell_type": "code",
   "execution_count": 19,
   "id": "e7d8289f",
   "metadata": {},
   "outputs": [
    {
     "data": {
      "text/plain": [
       "['PASSED', 'PASSED', 'PASSED', 'PASSED']"
      ]
     },
     "execution_count": 19,
     "metadata": {},
     "output_type": "execute_result"
    }
   ],
   "source": [
    "# Example list\n",
    "lists = [[1], [1, 2], [1, 2, 3], [1, 2, 3, 4]]\n",
    "\n",
    "['PASSED' if statistics.median(arr) == online_median(arr)[-1] else 'FAILED' for arr in lists]\n"
   ]
  },
  {
   "cell_type": "markdown",
   "id": "6452c99b",
   "metadata": {
    "heading_collapsed": true,
    "hidden": true
   },
   "source": [
    "##### Find the k most frequent queries. - [leetcode](https://leetcode.com/problems/top-k-frequent-words/)"
   ]
  },
  {
   "cell_type": "markdown",
   "id": "3d28b6ae",
   "metadata": {
    "hidden": true
   },
   "source": [
    "Given a non-empty list of words, return the k most frequent elements.\n",
    "\n",
    "- `Notes`: \n",
    "    - Your answer should be sorted by frequency from `highest to lowest`. \n",
    "    - If two words have the same frequency, then the word with `the lower alphabetical order comes first`."
   ]
  },
  {
   "cell_type": "markdown",
   "id": "25e8a27f",
   "metadata": {
    "hidden": true
   },
   "source": [
    "- Example 1:\n",
    "  - Input: [\"i\", \"love\", \"leetcode\", \"i\", \"love\", \"coding\"], k = 2\n",
    "  - Output: [\"i\", \"love\"]\n",
    "  - Explanation: `i` and `love` are the two most frequent words. \n",
    "  - Note: `i` comes before `love` due to a lower alphabetical order.\n",
    "- Example 2:\n",
    "  - Input: [\"the\", \"day\", \"is\", \"sunny\", \"the\", \"the\", \"the\", \"sunny\", \"is\", \"is\"], k = 4\n",
    "  - Output: [\"the\", \"is\", \"sunny\", \"day\"]\n",
    "  - Explanation: `the`, `is`, `sunny` and `day` are the four most frequent words, with the number of occurrence being 4, 3, 2 and 1 respectively.\n",
    "- Note:\n",
    "  - You may assume k is always valid, 1 ≤ k ≤ number of unique elements.\n",
    "  - Input words contain only lowercase letters.\n",
    "\n",
    "- <b style=\"color:#C71585\">Follow up</b>:\n",
    "  - Try to solve it in O(n log k) time and O(n) extra space."
   ]
  },
  {
   "cell_type": "code",
   "execution_count": null,
   "id": "69b47bad",
   "metadata": {
    "hidden": true
   },
   "outputs": [],
   "source": [
    "def k_most_frequent(words, k):\n",
    "    \"\"\" Returns the top k frequent words in a list of words.\n",
    "\n",
    "    Args:\n",
    "        words (list[str]): List of words.\n",
    "        k (int): Number of top frequent words to return.\n",
    "\n",
    "    Returns:\n",
    "        list[str]: List of top k frequent words.\n",
    "    \"\"\"\n",
    "    \n",
    "    word_counts = Counter(words)\n",
    "    \n",
    "    # This is incorrect !!!\n",
    "    # word_count_tuples = sorted(word_counts.items(), key=lambda x: (x[1], x[0]), reverse=True)\n",
    "    \n",
    "    word_count_tuples = sorted(word_counts.items(), key=lambda x: (-x[1], x[0]))\n",
    "    return word_count_tuples[:k]"
   ]
  },
  {
   "cell_type": "code",
   "execution_count": null,
   "id": "2341e0ed",
   "metadata": {
    "hidden": true
   },
   "outputs": [],
   "source": [
    "# help(heapq)"
   ]
  },
  {
   "cell_type": "code",
   "execution_count": null,
   "id": "0727b33a",
   "metadata": {
    "hidden": true
   },
   "outputs": [],
   "source": [
    "def k_most_frequent_v2(words, k):\n",
    "    \"\"\" Returns the top k frequent words in a list of words.\n",
    "\n",
    "    Args:\n",
    "        words (list[str]): List of words.\n",
    "        k (int): Number of top frequent words to return.\n",
    "\n",
    "    Returns:\n",
    "        list[str]: List of top k frequent words.\n",
    "    \"\"\"\n",
    "    \n",
    "    word_counts = Counter(words)\n",
    "    max_heap = [(-v, k) for k,v in word_counts.items()]\n",
    "    heapq.heapify(max_heap)\n",
    "    res = [heapq.heappop(max_heap) for _ in range(k)]\n",
    "    return [(k,-v) for v, k in res]"
   ]
  },
  {
   "cell_type": "code",
   "execution_count": null,
   "id": "a1a89de7",
   "metadata": {
    "hidden": true
   },
   "outputs": [],
   "source": [
    "def k_frequent_queries(a, k):\n",
    "    word_count = Counter(a)\n",
    "    print(word_count)"
   ]
  },
  {
   "cell_type": "code",
   "execution_count": null,
   "id": "41d046a8",
   "metadata": {
    "hidden": true
   },
   "outputs": [],
   "source": [
    "def _test_k_frequent_queries():\n",
    "    \n",
    "    test_cases = [\n",
    "        gen_list_of_words(randint(10, 20), dir_name=DATA_DIR, word_file_name='shellsST.txt') \\\n",
    "        for _ in range(10)\n",
    "    ]\n",
    "    \n",
    "    for test_case in test_cases:\n",
    "        try:\n",
    "            # print(test_case)\n",
    "            N = randint(1, 5)\n",
    "            returned1 = k_most_frequent(test_case, N)\n",
    "            returned2 = k_most_frequent_v2(test_case, N)\n",
    "            assert returned1 == returned2\n",
    "        except:\n",
    "            \n",
    "            print(returned1, returned2, \"===\"*20, sep=\"\\n\"+'-'*30+'\\n')\n",
    "\n",
    "# ==========================================================================\n",
    "\n",
    "_test_k_frequent_queries()"
   ]
  },
  {
   "cell_type": "markdown",
   "id": "4ef64433",
   "metadata": {
    "heading_collapsed": true,
    "hidden": true
   },
   "source": [
    "##### Computes the k'th largest elements in a max heap without modifying it. - [EPI: 10.6] "
   ]
  },
  {
   "cell_type": "markdown",
   "id": "9c28603f",
   "metadata": {
    "hidden": true
   },
   "source": [
    "Given a max-heap, represented as an array A, disign an algorithm that computes the k largest elements stored in the max-heap. You cannot modify the heap."
   ]
  },
  {
   "cell_type": "code",
   "execution_count": null,
   "id": "7cc97b46",
   "metadata": {
    "hidden": true
   },
   "outputs": [],
   "source": [
    "def k_largest_in_binary_heap(A, k):\n",
    "    \"\"\"Compute the `k` largest elements from max-heap without modifying it.\n",
    "    \n",
    "    Args:\n",
    "        A (max-meap): The given max heap.\n",
    "        k (int): The number of elements to extract from max-heap.\n",
    "    \"\"\"\n",
    "\n",
    "    if k <= 0: return []\n",
    "\n",
    "    # Stores the (-value, index)-pair in candidate_max_heap. This heap is ordered by\n",
    "    # value field. Uses the negative of value to get the effect of a max heap.\n",
    "    candidate_max_heap = []\n",
    "    \n",
    "    # The largest element in A is at index 0.\n",
    "    candidate_max_heap.append((-A[0], 0))\n",
    "    \n",
    "    result = []\n",
    "    \n",
    "    for _ in range(k):\n",
    "        candidate_idx = candidate_max_heap[0][1]\n",
    "        result.append(-heapq.heappop(candidate_max_heap)[0])\n",
    "\n",
    "        left_child_idx = 2 * candidate_idx + 1\n",
    "        if left_child_idx < len(A):\n",
    "            heapq.heappush(candidate_max_heap, (-A[left_child_idx], left_child_idx))\n",
    "        \n",
    "        right_child_idx = 2 * candidate_idx + 2\n",
    "        if right_child_idx < len(A):\n",
    "            heapq.heappush(candidate_max_heap, (-A[right_child_idx], right_child_idx))\n",
    "    \n",
    "    return result"
   ]
  },
  {
   "cell_type": "code",
   "execution_count": null,
   "id": "ef16b255",
   "metadata": {
    "hidden": true
   },
   "outputs": [],
   "source": [
    "def k_largest_in_binary_heap(A, k):\n",
    "\n",
    "    if k <= 0:\n",
    "        return []\n",
    "\n",
    "    # Stores the (-value, index)-pair in candidate_max_heap. This heap is\n",
    "    # ordered by value field. Uses the negative of value to get the effect of\n",
    "    # a max heap.\n",
    "    candidate_max_heap = []\n",
    "    # The largest element in A is at index 0.\n",
    "    candidate_max_heap.append((-A[0], 0))\n",
    "    result = []\n",
    "    for _ in range(k):\n",
    "        candidate_idx = candidate_max_heap[0][1]\n",
    "        result.append(-heapq.heappop(candidate_max_heap)[0])\n",
    "\n",
    "        left_child_idx = 2 * candidate_idx + 1\n",
    "        if left_child_idx < len(A):\n",
    "                heapq.heappush(candidate_max_heap, (-A[left_child_idx], left_child_idx))\n",
    "        right_child_idx = 2 * candidate_idx + 2\n",
    "        if right_child_idx < len(A):\n",
    "            heapq.heappush(candidate_max_heap, (-A[right_child_idx], right_child_idx))\n",
    "    return result"
   ]
  },
  {
   "cell_type": "markdown",
   "id": "7f0c5c95",
   "metadata": {
    "heading_collapsed": true,
    "hidden": true
   },
   "source": [
    "##### Find the k'th largest element in a list. [EPI: 11.8]"
   ]
  },
  {
   "cell_type": "code",
   "execution_count": null,
   "id": "f3e9b43d",
   "metadata": {
    "code_folding": [],
    "hidden": true
   },
   "outputs": [],
   "source": [
    "def find_kth_largest(nums, k):\n",
    "    min_heap = nums[:k]         # Initialize a min heap with the first k elements\n",
    "    heapq.heapify(min_heap)     # Convert the list into a min heap\n",
    "\n",
    "    for num in nums[k:]:\n",
    "        if num > min_heap[0]:\n",
    "            heapq.heappop(min_heap)\n",
    "            heapq.heappush(min_heap, num)\n",
    "\n",
    "    return min_heap[0]          # The root of the heap is the kth largest element"
   ]
  },
  {
   "cell_type": "markdown",
   "id": "94a411b6",
   "metadata": {
    "hidden": true
   },
   "source": [
    "- The time complexity is $O(n \\cdot log_2 k)$\n",
    "- The space complexity is $O(k)$"
   ]
  },
  {
   "cell_type": "code",
   "execution_count": null,
   "id": "2437d15d",
   "metadata": {
    "hidden": true
   },
   "outputs": [],
   "source": []
  },
  {
   "cell_type": "markdown",
   "id": "a5e2f16c",
   "metadata": {
    "heading_collapsed": true,
    "hidden": true
   },
   "source": [
    "#### <b style='color:#C71585'>Collected Heap Problems:"
   ]
  },
  {
   "cell_type": "markdown",
   "id": "9956b55d",
   "metadata": {},
   "source": [
    "##### [621. Task Scheduler](https://leetcode.com/problems/task-scheduler/description/) |<b style=\"color:red\">***</b>| [neetcode](https://www.youtube.com/watch?v=s8p8ukTyA2I) | (Greedy Algorithm)"
   ]
  },
  {
   "cell_type": "markdown",
   "id": "2d764aca",
   "metadata": {},
   "source": [
    "You are given an array of CPU `tasks`, each represented by letters A to Z, and a cooling time, `n`. Each cycle or interval allows the completion of one task. Tasks can be completed in any order, but there's a constraint: identical tasks must be separated by at least `n` intervals due to cooling time.\n",
    "\n",
    "​Return the minimum number of intervals required to complete all tasks.\n",
    "\n",
    "-   `Example 1`:\n",
    "\n",
    "    -   `Input`: tasks = [\"A\",\"A\",\"A\",\"B\",\"B\",\"B\"], n = 2\n",
    "    -   `Output`: 8\n",
    "    -   `Explanation`: A possible sequence is: A -> B -> idle -> A -> B -> idle -> A -> B.\n",
    "        -   After completing task A, you must wait two cycles before doing A again. The same applies to task B. In the 3rd interval, neither A nor B can be done, so you idle. By the 4th cycle, you can do A again as 2 intervals have passed.\n",
    "\n",
    "-   `Example 2`:\n",
    "\n",
    "    -   `Input`: tasks = [\"A\",\"C\",\"A\",\"B\",\"D\",\"B\"], n = 1\n",
    "    -   `Output`: 6\n",
    "    -   `Explanation`: A possible sequence is: A -> B -> C -> D -> A -> B.\n",
    "        -   With a cooling interval of 1, you can repeat a task after just one other task.\n",
    "\n",
    "-   `Example 3`:\n",
    "\n",
    "    -   `Input`: tasks = [\"A\",\"A\",\"A\", \"B\",\"B\",\"B\"], n = 3\n",
    "    -   `Output`: 10\n",
    "    -   `Explanation`: A possible sequence is: A -> B -> idle -> idle -> A -> B -> idle -> idle -> A -> B.\n",
    "        -   There are only two types of tasks, A and B, which need to be separated by 3 intervals. This leads to idling twice between repetitions of these tasks.\n",
    "\n",
    " \n",
    "\n",
    "-   `Constraints`:\n",
    "\n",
    "    -   $1 <= tasks.length <= 10^4$\n",
    "    -   tasks[i] is an uppercase English letter.\n",
    "    -   $0 <= n <= 100$"
   ]
  },
  {
   "cell_type": "code",
   "execution_count": 11,
   "id": "27b3cf73",
   "metadata": {},
   "outputs": [],
   "source": [
    "def least_interval(tasks: List[str], n: int) -> int:\n",
    "    count = Counter(tasks)\n",
    "    maxHeap = [-cnt for cnt in count.values()]\n",
    "    heapq.heapify(maxHeap)\n",
    "\n",
    "    time_unit = 0\n",
    "    dq = deque()  # pairs of [-cnt, idleTime]\n",
    "    while maxHeap or dq:\n",
    "        time_unit += 1\n",
    "\n",
    "        if not maxHeap: time_unit = dq[0][1]\n",
    "        else:\n",
    "            cnt = 1 + heapq.heappop(maxHeap)\n",
    "            if cnt: dq.append([cnt, time_unit + n])\n",
    "\n",
    "        if dq and dq[0][1] == time_unit: heapq.heappush(maxHeap, dq.popleft()[0])\n",
    "\n",
    "    return time_unit"
   ]
  },
  {
   "cell_type": "code",
   "execution_count": 14,
   "id": "a065f268",
   "metadata": {},
   "outputs": [],
   "source": [
    "# Greedy algorithm\n",
    "def least_interval_greedy(tasks: List[str], n: int) -> int:\n",
    "    counter = Counter(tasks)\n",
    "    max_count = max(counter.values())\n",
    "    min_time = (max_count - 1) * (n + 1) + \\\n",
    "                sum(map(lambda count: count == max_count, counter.values()))\n",
    "\n",
    "    return max(min_time, len(tasks))"
   ]
  },
  {
   "cell_type": "code",
   "execution_count": 18,
   "id": "1da9e296",
   "metadata": {},
   "outputs": [],
   "source": [
    "## NOT PASSED\n",
    "def least_interval_v2(tasks: List[str], n: int) -> int:\n",
    "    count = Counter(tasks)\n",
    "    maxHeap = [-cnt for cnt in count.values()]\n",
    "    heapq.heapify(maxHeap)\n",
    "\n",
    "    time_unit = 0\n",
    "    dq = deque()  # pairs of [-cnt, idleTime]\n",
    "    while maxHeap:\n",
    "\n",
    "        if dq and dq[0][1] == time_unit: \n",
    "            heapq.heappush(maxHeap, dq.popleft()[0])\n",
    "\n",
    "        time_unit += 1\n",
    "\n",
    "        cnt = 1 + heapq.heappop(maxHeap)\n",
    "        if cnt: dq.append([cnt, time_unit + n])\n",
    "    while dq:\n",
    "        time_unit = dq[-1][1]\n",
    "\n",
    "    return time_unit\n"
   ]
  },
  {
   "cell_type": "code",
   "execution_count": 20,
   "id": "eacb2ebe",
   "metadata": {},
   "outputs": [
    {
     "name": "stdout",
     "output_type": "stream",
     "text": [
      "Failed\n",
      "Failed\n"
     ]
    }
   ],
   "source": [
    "def _test_least_interval():\n",
    "    testcases_expecteds = [\n",
    "        ([\"A\",\"A\",\"A\",\"B\",\"B\",\"B\"], 2, 8),\n",
    "        ([\"A\",\"C\",\"A\",\"B\",\"D\",\"B\"], 1, 6),\n",
    "        ([\"A\",\"A\",\"A\", \"B\",\"B\",\"B\"], 3, 10)\n",
    "    ]\n",
    "\n",
    "    for tasks, n, expected in testcases_expecteds:\n",
    "        returned1 = least_interval(tasks, n)\n",
    "        returned2 = least_interval_v2(tasks, n)\n",
    "        try:\n",
    "            assert returned2 == expected\n",
    "        except:\n",
    "            print(\"Failed\")\n",
    "#=================================================================\n",
    "_test_least_interval()"
   ]
  },
  {
   "cell_type": "markdown",
   "id": "20631030",
   "metadata": {},
   "source": [
    "##### [846. Hand of Straights](https://leetcode.com/problems/hand-of-straights/description/) |<b style=\"color:red\">***</b>| [neetcode](https://www.youtube.com/watch?v=amnrMCVd2YI)"
   ]
  },
  {
   "cell_type": "markdown",
   "id": "eb9d76cf",
   "metadata": {},
   "source": [
    "This Question is same as [1296. Divide Array in Sets of K Consecutive Numbers](https://leetcode.com/problems/divide-array-in-sets-of-k-consecutive-numbers/description/)"
   ]
  },
  {
   "cell_type": "markdown",
   "id": "47ccb99e",
   "metadata": {},
   "source": [
    "Alice has some number of cards and she wants to rearrange the cards into groups so that each group is of size `group_size`, and consists of `group_size` consecutive cards.\n",
    "\n",
    "Given an integer array `hand` where `hand[i]` is the value written on the $i^{th}$ card and an integer `group_size`, return true if she can rearrange the cards, or false otherwise.\n",
    "\n",
    "-   `Example 1`:\n",
    "\n",
    "    -   `Input`: hand = [1,2,3,6,2,3,4,7,8], groupSize = 3\n",
    "    -   `Output`: true\n",
    "    -   `Explanation`: Alice's hand can be rearranged as [1,2,3],[2,3,4],[6,7,8]\n",
    "\n",
    "-   `Example 2`:\n",
    "\n",
    "    -   `Input`: hand = [1,2,3,4,5], groupSize = 4\n",
    "    -   `Output`: false\n",
    "    -   `Explanation`: Alice's hand can not be rearranged into groups of 4.\n",
    "\n",
    "-   `Constraints`:\n",
    "\n",
    "    -   $1 <= hand.length <= 10^4$\n",
    "    -   $0 <= hand[i] <= 10^9$\n",
    "    -   $1 <= groupSize <= hand.length$"
   ]
  },
  {
   "cell_type": "code",
   "execution_count": 3,
   "id": "1eb6e4d8",
   "metadata": {},
   "outputs": [],
   "source": [
    "def is_n_straight_hand(hand: List[int], group_size: int) -> bool:\n",
    "    if len(hand) % group_size: return False\n",
    "\n",
    "    count = Counter(hand)\n",
    "\n",
    "    min_heap = list(count.keys())\n",
    "    heapq.heapify(min_heap)\n",
    "\n",
    "    while min_heap:\n",
    "        first_card_val = min_heap[0]\n",
    "        for card_val in range(first_card_val, first_card_val + group_size):\n",
    "            if card_val not in count: return False\n",
    "            \n",
    "            count[card_val] -= 1\n",
    "\n",
    "            if count[card_val] == 0:\n",
    "                if card_val != min_heap[0]: return False\n",
    "                heapq.heappop(min_heap)\n",
    "\n",
    "    return True"
   ]
  },
  {
   "cell_type": "code",
   "execution_count": 9,
   "id": "0ae1591c",
   "metadata": {},
   "outputs": [
    {
     "name": "stdout",
     "output_type": "stream",
     "text": [
      "True\n",
      "True\n",
      "FAILED!!\n"
     ]
    }
   ],
   "source": [
    "def _test_is_n_straight_hand():\n",
    "    testcases_expecteds = [([], 1, True), ([1,2,3,6,2,3,4,7,8], 3, True), ([1,2,3,4,5], 4, True)]\n",
    "\n",
    "    for cards, group, expected in testcases_expecteds:\n",
    "        returned = is_n_straight_hand(cards, group)\n",
    "        try:\n",
    "            assert returned == expected\n",
    "            print(returned)\n",
    "        except:\n",
    "            print(\"FAILED!!\")\n",
    "#===============================================================\n",
    "_test_is_n_straight_hand()"
   ]
  },
  {
   "cell_type": "markdown",
   "id": "60b5ad62",
   "metadata": {},
   "source": [
    "##### [1834. Single-Threaded CPU](https://leetcode.com/problems/single-threaded-cpu/description/) |<b style=\"color:red\">***</b>| [leetcode](https://www.youtube.com/watch?v=RR1n-d4oYqE&t=43s)"
   ]
  },
  {
   "cell_type": "markdown",
   "id": "94c11c51",
   "metadata": {},
   "source": [
    "You are given n​​​​​​ tasks labeled from `0` to `n-1` represented by a 2D integer array tasks, where $tasks[i] = [enqueueTime_i, processingTime_i]$ means that the $i​​​​​^{​th​​​​}$ task will be available to process at $enqueueTime_i$ and will take $processingTime_i$ to finish processing.\n",
    "\n",
    "You have a single-threaded CPU that can process at most one task at a time and will act in the following way:\n",
    "\n",
    "-   If the CPU is idle and there are no available tasks to process, the CPU remains idle.\n",
    "-   If the CPU is idle and there are available tasks, the CPU will choose the one with the shortest processing time. If multiple tasks have the same shortest processing time, it will choose the task with the smallest index.\n",
    "-   Once a task is started, the CPU will process the entire task without stopping.\n",
    "-   The CPU can finish a task then start a new one instantly.\n",
    "\n",
    "Return the order in which the CPU will process the tasks.\n",
    "\n",
    "\n",
    "-   `Example 1`:\n",
    "\n",
    "    -   `Input`: tasks = [[1,2],[2,4],[3,2],[4,1]]\n",
    "    -   `Output`: [0,2,3,1]\n",
    "    -   `Explanation`: The events go as follows: \n",
    "        -   At time = 1, task 0 is available to process. Available tasks = {0}.\n",
    "        -   Also at time = 1, the idle CPU starts processing task 0. Available tasks = {}.\n",
    "        -   At time = 2, task 1 is available to process. Available tasks = {1}.\n",
    "        -   At time = 3, task 2 is available to process. Available tasks = {1, 2}.\n",
    "        -   Also at time = 3, the CPU finishes task 0 and starts processing task 2 as it is the shortest. Available tasks = {1}.\n",
    "        -   At time = 4, task 3 is available to process. Available tasks = {1, 3}.\n",
    "        -   At time = 5, the CPU finishes task 2 and starts processing task 3 as it is the shortest. Available tasks = {1}.\n",
    "        -   At time = 6, the CPU finishes task 3 and starts processing task 1. Available tasks = {}.\n",
    "        -   At time = 10, the CPU finishes task 1 and becomes idle.\n",
    "\n",
    "-   `Example 2`:\n",
    "\n",
    "    -   `Input`: tasks = [[7,10],[7,12],[7,5],[7,4],[7,2]]\n",
    "    -   `Output`: [4,3,2,0,1]\n",
    "    -   `Explanation`: The events go as follows:\n",
    "        -   At time = 7, all the tasks become available. Available tasks = {0,1,2,3,4}.\n",
    "        -   Also at time = 7, the idle CPU starts processing task 4. Available tasks = {0,1,2,3}.\n",
    "        -   At time = 9, the CPU finishes task 4 and starts processing task 3. Available tasks = {0,1,2}.\n",
    "        -   At time = 13, the CPU finishes task 3 and starts processing task 2. Available tasks = {0,1}.\n",
    "        -   At time = 18, the CPU finishes task 2 and starts processing task 0. Available tasks = {1}.\n",
    "        -   At time = 28, the CPU finishes task 0 and starts processing task 1. Available tasks = {}.\n",
    "        -   At time = 40, the CPU finishes task 1 and becomes idle.\n",
    " \n",
    "\n",
    "-   `Constraints`:\n",
    "\n",
    "    -   $tasks.length == n$\n",
    "    -   $1 <= n <= 10^5$\n",
    "    -   $1 <= enqueueTime_i, processingTime_i <= 10^9$"
   ]
  },
  {
   "cell_type": "code",
   "execution_count": 21,
   "id": "8e6f66ee",
   "metadata": {},
   "outputs": [],
   "source": [
    "def get_processing_order(tasks: List[List[int]]) -> List[int]:\n",
    "    tasks = sorted([(t[0], t[1], i) for i, t in enumerate(tasks)])\n",
    "    result, heap = [], []\n",
    "    task_idx = 0\n",
    "    cur_time = tasks[0][0]\n",
    "    \n",
    "    while len(result) < len(tasks):\n",
    "        while (task_idx < len(tasks)) and (tasks[task_idx][0] <= cur_time):\n",
    "            heapq.heappush(heap, (tasks[task_idx][1], tasks[task_idx][2]))\n",
    "            task_idx += 1\n",
    "\n",
    "        if heap:\n",
    "            time_delta, original_index = heapq.heappop(heap)\n",
    "            cur_time += time_delta\n",
    "            result.append(original_index)\n",
    "        elif task_idx < len(tasks):\n",
    "            cur_time = tasks[task_idx][0]\n",
    "            \n",
    "    return result"
   ]
  },
  {
   "cell_type": "code",
   "execution_count": 22,
   "id": "f65c213b",
   "metadata": {},
   "outputs": [
    {
     "name": "stdout",
     "output_type": "stream",
     "text": [
      "[0, 2, 3, 1]\n",
      "[4, 3, 2, 0, 1]\n"
     ]
    }
   ],
   "source": [
    "def _test_get_processing_order():\n",
    "    testcases_expecteds = [([[1,2],[2,4],[3,2],[4,1]], [0,2,3,1]), ([[7,10],[7,12],[7,5],[7,4],[7,2]], [4,3,2,0,1])]\n",
    "\n",
    "    for task, expected in testcases_expecteds:\n",
    "        returned = get_processing_order(task)\n",
    "        try:\n",
    "            assert returned == expected\n",
    "            print(returned)\n",
    "        except:\n",
    "            print(\"FAILED!!\")\n",
    "#===============================================================\n",
    "_test_get_processing_order()"
   ]
  },
  {
   "cell_type": "code",
   "execution_count": null,
   "id": "1da5d85e",
   "metadata": {},
   "outputs": [],
   "source": []
  },
  {
   "cell_type": "markdown",
   "id": "bf8160ee",
   "metadata": {},
   "source": [
    "##### [1882. Process Tasks Using Servers](https://leetcode.com/problems/process-tasks-using-servers/description/) | [leetcode](https://www.youtube.com/watch?v=XKA22PecuMQ)"
   ]
  },
  {
   "cell_type": "markdown",
   "id": "a4424bb2",
   "metadata": {},
   "source": [
    "You are given two 0-indexed integer arrays `servers` and `tasks` of lengths `n​​​​​​` and `m​​​​​​` respectively. `servers[i]` is the weight of the i​​​​$​^{​th​​​​}$ server, and `tasks[j]` is the time needed to process the j​​​​$​^{​th}$​​​​ task in seconds.\n",
    "\n",
    "Tasks are assigned to the `servers` using a task queue. Initially, all servers are free, and the queue is empty.\n",
    "\n",
    "At second `j`, the $j^{th}$ task is inserted into the queue (starting with the $0^{th}$ task being inserted at second `0`). As long as there are free `servers` and the queue is not empty, the task in the front of the queue will be assigned to a free server with the smallest weight, and in case of a tie, it is assigned to a free server with the smallest index.\n",
    "\n",
    "If there are no free `servers` and the queue is not empty, we wait until a server becomes free and immediately assign the next task. If multiple `servers` become free at the same time, then multiple tasks from the queue will be assigned in order of insertion following the weight and index priorities above.\n",
    "\n",
    "A server that is assigned task `j` at second `t` will be free again at second `t + tasks[j]`.\n",
    "\n",
    "Build an array `ans​​​​` of length `m`, where `ans[j]` is the index of the server the $j^{th}$ task will be assigned to.\n",
    "\n",
    "Return the array ans​​​​.\n",
    "\n",
    "\n",
    "-   Example 1:\n",
    "\n",
    "    -   `Input`: servers = [3,3,2], tasks = [1,2,3,2,1,2]\n",
    "    -   `Output`: [2,2,0,2,1,2]\n",
    "    -   `Explanation`: Events in chronological order go as follows:\n",
    "        - At second 0, task 0 is added and processed using server 2 until second 1.\n",
    "        - At second 1, server 2 becomes free. Task 1 is added and processed using server 2 until second 3.\n",
    "        - At second 2, task 2 is added and processed using server 0 until second 5.\n",
    "        - At second 3, server 2 becomes free. Task 3 is added and processed using server 2 until second 5.\n",
    "        - At second 4, task 4 is added and processed using server 1 until second 5.\n",
    "        - At second 5, all servers become free. Task 5 is added and processed using server 2 until second 7.\n",
    "\n",
    "-   Example 2:\n",
    "\n",
    "    -   `Input`: servers = [5,1,4,3,2], tasks = [2,1,2,4,5,2,1]\n",
    "    -   `Output`: [1,4,1,4,1,3,2]\n",
    "    -   `Explanation`: Events in chronological order go as follows: \n",
    "        - At second 0, task 0 is added and processed using server 1 until second 2.\n",
    "        - At second 1, task 1 is added and processed using server 4 until second 2.\n",
    "        - At second 2, servers 1 and 4 become free. Task 2 is added and processed using server 1 until second 4. \n",
    "        - At second 3, task 3 is added and processed using server 4 until second 7.\n",
    "        - At second 4, server 1 becomes free. Task 4 is added and processed using server 1 until second 9. \n",
    "        - At second 5, task 5 is added and processed using server 3 until second 7.\n",
    "        - At second 6, task 6 is added and processed using server 2 until second 7.\n",
    " \n",
    "\n",
    "-   `Constraints`:\n",
    "\n",
    "    -   $servers.length == n$\n",
    "    -   $tasks.length == m$\n",
    "    -   $1 <= n, m <= 2 * 10^5$\n",
    "    -   $1 <= servers[i], tasks[j] <= 2 * 10^5$"
   ]
  },
  {
   "cell_type": "markdown",
   "id": "107c203f",
   "metadata": {},
   "source": [
    "<div style=\"text-align:center\" ><img src=\"../assets/leetcode/process_task_using_server.png\" width=\"500\" height=\"300\" /></div>"
   ]
  },
  {
   "cell_type": "code",
   "execution_count": null,
   "id": "ae8303fa",
   "metadata": {},
   "outputs": [],
   "source": []
  },
  {
   "cell_type": "markdown",
   "id": "c2bdae90",
   "metadata": {
    "hidden": true
   },
   "source": [
    "##### Merge k Sorted LinkedLists"
   ]
  },
  {
   "cell_type": "markdown",
   "id": "ddcef784",
   "metadata": {},
   "source": [
    "You are given an array of k linked-lists lists, each linked-list is sorted in\n",
    "ascending order. Merge all the linked-lists into one sorted linked-list and return it."
   ]
  },
  {
   "cell_type": "markdown",
   "id": "bc5ef6fe",
   "metadata": {
    "hidden": true
   },
   "source": [
    "\n",
    "-   `Example 1`:\n",
    "    -   `Input`: lists = [[1,4,5],[1,3,4],[2,6]]\n",
    "    -   `Output`: [1,1,2,3,4,4,5,6]\n",
    "    -   `Explanation`: \n",
    "        -   The linked-lists are: [ 1->4->5, 1->3->4, 2->6 ]\n",
    "        -   Merging them into one sorted list: 1->1->2->3->4->4->5->6\n",
    "\n",
    "\n",
    "-   `Example 2`:\n",
    "    -   `Input`: lists = []\n",
    "    -   `Output`: []\n",
    "\n",
    "-   `Example 3`:\n",
    "    -   `Input`: lists = [[]]\n",
    "    -   `Output`: []\n",
    "\n",
    "-   `Constraints`:\n",
    "\n",
    "    1) k == lists.length\n",
    "    2) 0 <= k <= 10^4\n",
    "    3) 0 <= lists[i].length <= 500\n",
    "    4) -10^4 <= lists[i][j] <= 10^4\n",
    "    5) lists[i] is sorted in ascending order.\n",
    "    6) The sum of lists[i].length won't exceed 10^4."
   ]
  },
  {
   "cell_type": "code",
   "execution_count": null,
   "id": "161e3acc",
   "metadata": {
    "hidden": true
   },
   "outputs": [],
   "source": []
  },
  {
   "cell_type": "markdown",
   "id": "d2797080",
   "metadata": {
    "hidden": true
   },
   "source": [
    "-   `Time complexity` : $O(N*logk)$ where k is the number of linked lists.\n",
    "    - The comparison cost will be reduced to $O(logk)$ for every pop and insertion to priority queue. But finding the node with the smallest value just costs $O(1)$ time.\n",
    "    - There are N nodes in the final linked list.\n",
    "        \n",
    "-   `Space complexity`:\n",
    "    - $O(n)$ Creating a new linked list costs $O(n)$ space.\n",
    "    - $O(k)$ The code above present applies in-place method which cost $O(1)$ space. And the queue (often implemented with heaps) costs $O(k)$ space (it's far less than N in most situations)."
   ]
  },
  {
   "cell_type": "code",
   "execution_count": null,
   "id": "0c33b625",
   "metadata": {
    "hidden": true
   },
   "outputs": [],
   "source": [
    "def merge_k_sorted_sll(lists: List[SLL]) -> Node:\n",
    "    head = point = Node(0)\n",
    "    pq = []\n",
    "    heapq.heapify(pq)\n",
    "    \n",
    "    for sll in lists:\n",
    "        if sll: heapq.heappush(pq, (sll._key, sll))\n",
    "\n",
    "    while pq:\n",
    "        val, node = heapq.heappop(pq)\n",
    "        point._next = Node(val)\n",
    "        point = point._next\n",
    "        node = node._next\n",
    "        if node:\n",
    "            heapq.heappush(pq, (node._key, node))\n",
    "    return head._next"
   ]
  },
  {
   "cell_type": "code",
   "execution_count": null,
   "id": "4f24c583",
   "metadata": {
    "hidden": true
   },
   "outputs": [],
   "source": [
    "# Not completed !\n",
    "def _test_merge_k_sll():\n",
    "    list_of_sorted_sll = [SLL(sorted([randint(-99, 99) for _ in range(randint(0, 50))]))._head\n",
    "                            for _ in range(randint(0, 500))]\n",
    "    returned = merge_k_sorted_sll(list_of_sorted_sll)\n",
    "    expected = [*heapq.merge(*list_of_sorted_sll)]\n",
    "    assert merge_k_lists(list_of_sorted_sll) == merge_k_arrays(list_of_sorted_sll)\n",
    "    assert is_sorted(returned)\n",
    "    assert returned == expected\n",
    "\n",
    "# _test_merge_k_sll()"
   ]
  },
  {
   "cell_type": "markdown",
   "id": "8f4e5ff0",
   "metadata": {
    "heading_collapsed": true,
    "jp-MarkdownHeadingCollapsed": true
   },
   "source": [
    "### <b style='color:#FF4500'>Fundamental Sorting Algorithms:</b>"
   ]
  },
  {
   "cell_type": "markdown",
   "id": "0fc975d9",
   "metadata": {
    "heading_collapsed": true,
    "hidden": true
   },
   "source": [
    "##### Mergsort Algorithms:"
   ]
  },
  {
   "cell_type": "code",
   "execution_count": null,
   "id": "11b2a642",
   "metadata": {
    "code_folding": [],
    "hidden": true
   },
   "outputs": [],
   "source": [
    "def merge_sort(L: List) -> List:\n",
    "    \"\"\"Sorts and returns the specified list using merge-sort algorithm.\n",
    "\n",
    "    Args:\n",
    "        L: the list to be sorted\n",
    "    Returns:\n",
    "        a sorted list containing all elements of the given list, L\n",
    "    \"\"\"\n",
    "    def merge(L1: List, L2: List) -> List:\n",
    "        \"\"\"It returns a sorted list after stably merging L1 with L2.\n",
    "\n",
    "        Args:\n",
    "            L1: sorted list to be merged with L2 into a new list\n",
    "            L2: sorted list to be merged with L1 into a new list\n",
    "        Returns:\n",
    "            a sorted list containing all elements of both list - L1 and L2.\n",
    "        \"\"\"\n",
    "        L = L1 + L2\n",
    "        left_index, right_index = 0, 0\n",
    "\n",
    "        for i in range(len(L)):\n",
    "            if left_index >= len(L1):\n",
    "                L[i] = L2[right_index]\n",
    "                right_index += 1\n",
    "            elif right_index >= len(L2):\n",
    "                L[i] = L1[left_index]\n",
    "                left_index += 1\n",
    "            elif L2[right_index] < L1[left_index]:  # ensure stability\n",
    "                L[i] = L2[right_index]\n",
    "                right_index += 1\n",
    "            else:\n",
    "                L[i] = L1[left_index]\n",
    "                left_index += 1\n",
    "        return L\n",
    "\n",
    "    N = len(L)\n",
    "    if N <= 1: return L\n",
    "\n",
    "    mid = N // 2\n",
    "    left = merge_sort(L[0:mid])\n",
    "    right = merge_sort(L[mid:])\n",
    "    return merge(left, right)"
   ]
  },
  {
   "cell_type": "code",
   "execution_count": null,
   "id": "4b220548",
   "metadata": {
    "code_folding": [],
    "hidden": true
   },
   "outputs": [],
   "source": [
    "def merge_sort_v2(a: List) -> None:\n",
    "    \"\"\"Sorts the  specified list using merge-sort algorithm.\n",
    "\n",
    "    Args:\n",
    "        a: the list to be sorted\n",
    "    \"\"\"\n",
    "    \n",
    "    def merge_v2(a: List, low: int, mid: int, high: int):\n",
    "        \"\"\"It stably merges a[low ... mid] with a[mid+1 ... high] using an\n",
    "        auxilary array, aux[low ... high]\n",
    "\n",
    "        Args:\n",
    "            a   : the array is being sorted\n",
    "            low : initial index of first half of the array, a[low ... mid]\n",
    "            mid : last index of first half of the array, a[low ... mid]\n",
    "            high: last index of second half of the array, a[mid+1 ... high]\n",
    "        \"\"\"\n",
    "\n",
    "        aux = [item for item in a]\n",
    "        left, right, i = low, mid + 1, low\n",
    "\n",
    "        while left <= mid and right <= high:\n",
    "            if aux[left] <= aux[right]:  # ensures stability\n",
    "                a[i] = aux[left]\n",
    "                left += 1\n",
    "                i += 1\n",
    "            else:\n",
    "                a[i] = aux[right]\n",
    "                right += 1\n",
    "                i += 1\n",
    "\n",
    "        while left <= mid:\n",
    "            a[i] = aux[left]\n",
    "            i += 1\n",
    "            left += 1\n",
    "    \n",
    "    def _merge_sort_v2(a: List, low: int, high: int) -> None:\n",
    "        \"\"\"It sorts a[low ... high] by first deviding it into a[low ... mid] and\n",
    "        a[mid+1 ... high] and then merging them\n",
    "\n",
    "        Args:\n",
    "            a   : the array to be sorted\n",
    "            low : first index of first half of the array, a[low ... mid]\n",
    "            high: last index of second half of the array, a[mid+1 ... high]\n",
    "        \"\"\"\n",
    "        if low >= high: return\n",
    "        mid = (low + high) // 2\n",
    "\n",
    "        # sorts first half of the array, a[low ... mid]\n",
    "        _merge_sort_v2(a, low, mid)\n",
    "\n",
    "        # sorts first half of the array, a[mid+1 ... high]\n",
    "        _merge_sort_v2(a, mid + 1, high)\n",
    "\n",
    "        # merges a[low ... mid] and a[mid+1 ... high], two halves of the array\n",
    "        merge_v2(a, low, mid, high)\n",
    "\n",
    "    _merge_sort_v2(a, 0, len(a)-1)"
   ]
  },
  {
   "cell_type": "code",
   "execution_count": null,
   "id": "e4595310",
   "metadata": {
    "code_folding": [
     31
    ],
    "hidden": true
   },
   "outputs": [],
   "source": [
    "def merge_sort_v3(a):\n",
    "    \"\"\"Sorts the  specified list using merge-sort algorithm.\n",
    "\n",
    "    Args:\n",
    "        a: the list to be sorted\n",
    "    \"\"\"\n",
    "    def _merge_sort_v3(a: List, low: int, high: int, aux: List) -> None:\n",
    "        \"\"\"It sorts a[low ... high] by first deviding it into a[low ... mid] and\n",
    "        a[mid+1 ... high] and then merging them\n",
    "\n",
    "        Args:\n",
    "            a   : the array to be sorted\n",
    "            low : first index of first half of the array, a[low ... mid]\n",
    "            high: last index of second half of the array, a[mid+1 ... high]\n",
    "            aux : the auxilary array for recycling\n",
    "        \"\"\"\n",
    "        if low >= high: return\n",
    "        mid = (low + high) // 2\n",
    "\n",
    "        # sorts first half of the array, a[low ... mid]\n",
    "        _merge_sort_v3(a, low, mid, aux)\n",
    "\n",
    "        # sorts first half of the array, a[mid+1 ... high]\n",
    "        _merge_sort_v3(a, mid + 1, high, aux)\n",
    "\n",
    "        # merges a[low ... mid] and a[mid+1 ... high], two halves of a[low...high]\n",
    "        merge_v3(a, low, mid, high, aux)\n",
    "\n",
    "    aux = [None] * len(a)\n",
    "    _merge_sort_v3(a, 0, len(a) - 1, aux)\n",
    "\n",
    "def merge_v3(a: List, low: int, mid: int, high: int, aux: List) -> None:\n",
    "    \"\"\"It stably merges a[low ... mid] with a[mid+1 ... high] using an\n",
    "    auxilary array, aux[low ... high]\n",
    "\n",
    "    Args:\n",
    "        a   : the array is being sorted\n",
    "        low : first index of first half of the array, a[low ... mid]\n",
    "        mid : last index of first half of the array, a[low ... mid]\n",
    "        high: last index of second half of the array, a[mid+1 ... high]\n",
    "        aux : the auxilary array for recycling\n",
    "    \"\"\"\n",
    "    for i in range(low, high + 1):\n",
    "        aux[i] = a[i]\n",
    "\n",
    "    left_index, right_index = low, mid + 1\n",
    "\n",
    "    for i in range(low, high + 1):\n",
    "        if left_index > mid:\n",
    "            a[i] = aux[right_index]\n",
    "            left_index += 1\n",
    "        elif right_index > high:\n",
    "            a[i] = aux[left_index]\n",
    "            right_index += 1\n",
    "        elif aux[right_index] < aux[left_index]:  # ensures stability\n",
    "            a[i] = aux[right_index]\n",
    "            right_index += 1\n",
    "        else:\n",
    "            a[i] = aux[left_index]\n",
    "            left_index += 1"
   ]
  },
  {
   "cell_type": "code",
   "execution_count": null,
   "id": "8d5a309c",
   "metadata": {
    "hidden": true
   },
   "outputs": [],
   "source": [
    "def _test_merge_sort():\n",
    "    for _ in range(1000):\n",
    "        for sort in [merge_sort, merge_sort_v2, merge_sort_v3]:\n",
    "            P = [randrange(1, 150) for _ in range(randrange(1, 15))]\n",
    "            try:\n",
    "                returned = sort(P)\n",
    "                expected = sorted(P)\n",
    "                \n",
    "                if sort.__name__ == 'merge_sort':\n",
    "                    assert returned == expected\n",
    "                else:\n",
    "                    #print(sort.__name__)\n",
    "                    assert P == expected\n",
    "            except:\n",
    "                print(f\"FunctionName:\\t{sort.__name__} ==> {red('AssertionError')}\")\n",
    "                print(P, returned, expected)\n",
    "                break\n",
    "\n",
    "# ================================================================\n",
    "_test_merge_sort()"
   ]
  },
  {
   "cell_type": "markdown",
   "id": "6d44f9f6",
   "metadata": {
    "heading_collapsed": true,
    "hidden": true
   },
   "source": [
    "##### Quicksort Algorithms:"
   ]
  },
  {
   "cell_type": "code",
   "execution_count": null,
   "id": "5454e4ad",
   "metadata": {
    "code_folding": [],
    "hidden": true
   },
   "outputs": [],
   "source": [
    "def quick_sort(a):\n",
    "    \"\"\"Sorts given list using Quicksort algorithm.\n",
    "\n",
    "    Args:\n",
    "        a (list): The list to be sorted\n",
    "    \"\"\"\n",
    "    def _quick_sort(a, low, high):\n",
    "        if low >= high: return\n",
    "        pivot_idx = partition(a, low, high)\n",
    "        _quick_sort(a, low, pivot_idx - 1)\n",
    "        _quick_sort(a, pivot_idx + 1, high)\n",
    "\n",
    "    def partition(a, low, high):\n",
    "        \"\"\"partition the subarray a[low, ..., high].\n",
    "\n",
    "        Partitions the subarray a[low, ..., high] so that a[low..j-1]\n",
    "        <= a[j] <= a[j+1..high] and return the index j.\n",
    "\n",
    "        Args:\n",
    "            a   : the array to be partioned.\n",
    "            low : the lower index into the specified array.\n",
    "            high: the upper index into the specified array.\n",
    "        \"\"\"\n",
    "        pivot, idx = a[high], low\n",
    "\n",
    "        for i in range(low, high):\n",
    "            if a[i] < pivot:\n",
    "                swap(a, idx, i)\n",
    "                idx = idx + 1\n",
    "\n",
    "        swap(a, idx, high)\n",
    "        return idx\n",
    "\n",
    "    # called the quicksort procedure\n",
    "    _quick_sort(a, 0, len(a)-1)"
   ]
  },
  {
   "cell_type": "code",
   "execution_count": null,
   "id": "b5a4f134",
   "metadata": {
    "code_folding": [],
    "hidden": true
   },
   "outputs": [],
   "source": [
    "def quick_sort_v2(a):\n",
    "    \"\"\"Sorts given list using Quicksort algorithm.\n",
    "\n",
    "    Args:\n",
    "        a (list): The list to be sorted\n",
    "    \"\"\"\n",
    "    def _quick_sort_v2(a, low, high):\n",
    "        if low >= high:\n",
    "            return\n",
    "        pi = partition_v2(a, low, high)  # pi -> Pivot Index\n",
    "        _quick_sort_v2(a, low, pi - 1)\n",
    "        _quick_sort_v2(a, pi + 1, high)\n",
    "\n",
    "    def partition_v2(a, low, high):\n",
    "        \"\"\"partition the subarray a[low, ..., high].\n",
    "\n",
    "        Partitions the subarray a[low, ..., high] so that a[low..j-1]\n",
    "        <= a[j] <= a[j+1..high] and return the index j.\n",
    "\n",
    "        Args:\n",
    "            a   : the array to be partioned.\n",
    "            low : the lower index into the specified array.\n",
    "            high: the upper index into the specified array.\n",
    "        \"\"\"\n",
    "\n",
    "        pivot, i, j = a[low], low + 1, high\n",
    "        while True:\n",
    "            while a[i] < pivot:  # find item on low to swap\n",
    "                if i == high:\n",
    "                    break\n",
    "                i += 1\n",
    "\n",
    "            while a[j] >= pivot:  # find item on high to swap\n",
    "                if j == low:\n",
    "                    break  # redundant since a[low] acts as sentinel\n",
    "                j -= 1\n",
    "\n",
    "            if i >= j:\n",
    "                break  # check if pointers cross\n",
    "\n",
    "            swap(a, i, j)\n",
    "\n",
    "        swap(a, low, j)  # put partitioning item pivot at a[j]\n",
    "\n",
    "        # now, a[low ... j-1] <= a[j] <= a[j+1 ... high]\n",
    "        return j\n",
    "\n",
    "    # called the quicksort procedure\n",
    "    _quick_sort_v2(a, 0, len(a) - 1)"
   ]
  },
  {
   "cell_type": "code",
   "execution_count": null,
   "id": "ca9ce66f",
   "metadata": {
    "code_folding": [],
    "hidden": true
   },
   "outputs": [],
   "source": [
    "def quick_sort_v3(arr):\n",
    "    if len(arr) <= 1: return arr\n",
    "    pivot = arr[len(arr) // 2]\n",
    "    left = [x for x in arr if x < pivot]\n",
    "    middle = [x for x in arr if x == pivot]\n",
    "    right = [x for x in arr if x > pivot]\n",
    "    return quick_sort_v3(left) + middle + quick_sort_v3(right)"
   ]
  },
  {
   "cell_type": "markdown",
   "id": "ee881a71",
   "metadata": {
    "hidden": true
   },
   "source": [
    "- **ChatGPT**: Iterative implementation of QuickSort"
   ]
  },
  {
   "cell_type": "code",
   "execution_count": null,
   "id": "1e56bb62",
   "metadata": {
    "hidden": true
   },
   "outputs": [],
   "source": [
    "def iterative_quicksort(arr):\n",
    "    \n",
    "    def partition(arr, low, high):\n",
    "        pivot = arr[high]\n",
    "        i = low - 1\n",
    "\n",
    "        for j in range(low, high):\n",
    "            if arr[j] <= pivot:\n",
    "                i += 1\n",
    "                arr[i], arr[j] = arr[j], arr[i]\n",
    "\n",
    "        arr[i + 1], arr[high] = arr[high], arr[i + 1]\n",
    "        return i + 1\n",
    "    \n",
    "    if len(arr) <= 1: return arr\n",
    "    stack = [(0, len(arr) - 1)]\n",
    "\n",
    "    while stack:\n",
    "        low, high = stack.pop()\n",
    "\n",
    "        if low < high:\n",
    "            pivot_index = partition(arr, low, high)\n",
    "            stack.append((low, pivot_index - 1))\n",
    "            stack.append((pivot_index + 1, high))\n",
    "\n",
    "    return arr"
   ]
  },
  {
   "cell_type": "code",
   "execution_count": null,
   "id": "aae457b8",
   "metadata": {
    "hidden": true
   },
   "outputs": [],
   "source": [
    "def _test_quick_sort():\n",
    "    for _ in range(1000):\n",
    "        for sort in [quick_sort, quick_sort_v2, quick_sort_v3, iterative_quicksort]:\n",
    "            P = [randrange(1, 150) for _ in range(randrange(1, 15))]\n",
    "            try:\n",
    "                returned = sort(P)\n",
    "                expected = sorted(P)\n",
    "                \n",
    "                if sort.__name__ == 'quick_sort_v3':\n",
    "                    assert returned == expected\n",
    "                else:\n",
    "                    # print(sort.__name__)\n",
    "                    assert P == expected\n",
    "            except AssertionError:\n",
    "                print(f\"FunctionName:\\t{sort.__name__} ==> {red('AssertionError')}\")\n",
    "                print(P, returned, expected)\n",
    "                break\n",
    "\n",
    "# ================================================================\n",
    "_test_quick_sort()"
   ]
  },
  {
   "cell_type": "markdown",
   "id": "fa87c310",
   "metadata": {},
   "source": [
    "### <b style='color:#FF4500'>Sortings Problems</b>"
   ]
  },
  {
   "cell_type": "markdown",
   "id": "b6940848",
   "metadata": {
    "jp-MarkdownHeadingCollapsed": true
   },
   "source": [
    "#### <b style='color:#C71585'>Collected Problems:</b>"
   ]
  },
  {
   "cell_type": "markdown",
   "id": "0ad36745",
   "metadata": {},
   "source": [
    "##### [179. Largest Number](https://leetcode.com/problems/largest-number/description/) | [leetcode](https://www.youtube.com/watch?v=WDx6Y4i4xJ8)"
   ]
  },
  {
   "cell_type": "markdown",
   "id": "0162598a",
   "metadata": {},
   "source": [
    "Given a list of non-negative integers `nums`, arrange them such that they form the largest number and return it.\n",
    "\n",
    "Since the result may be very large, so you need to return a string instead of an integer.\n",
    "\n",
    "-   `Example 1`:\n",
    "\n",
    "    -   `Input`: nums = [10,2]\n",
    "    -   `Output`: \"210\"\n",
    "\n",
    "-   `Example 2`:\n",
    "\n",
    "    -   `Input`: nums = [3,30,34,5,9]\n",
    "    -   `Output`: \"9534330\"\n",
    " \n",
    "\n",
    "-   `Constraints`:\n",
    "\n",
    "    -   $1 <= nums.length <= 100$\n",
    "    -   $0 <= nums[i] <= 10^9$\n"
   ]
  },
  {
   "cell_type": "code",
   "execution_count": 13,
   "id": "53c055e1",
   "metadata": {},
   "outputs": [],
   "source": [
    "from functools import cmp_to_key\n",
    "\n",
    "def largest_number(nums: List[int]) -> str:\n",
    "    for i, n in enumerate(nums): nums[i] = str(n)\n",
    "\n",
    "    def compare(n1, n2):\n",
    "        if n1 + n2 > n2 + n1: return -1\n",
    "        else: return 1\n",
    "\n",
    "    nums = sorted(nums, key = cmp_to_key(compare))\n",
    "\n",
    "    return str(int(\"\".join(nums)))"
   ]
  },
  {
   "cell_type": "code",
   "execution_count": 14,
   "id": "47a5a391",
   "metadata": {},
   "outputs": [],
   "source": [
    "def _test_largest_number():\n",
    "    testcases_expecteds = [([10,2], \"210\"), ([3,30,34,5,9], \"9534330\")]\n",
    "\n",
    "    for testcase , expected in testcases_expecteds:\n",
    "        assert largest_number(testcase) == expected\n",
    "\n",
    "_test_largest_number()"
   ]
  },
  {
   "cell_type": "markdown",
   "id": "74983606",
   "metadata": {},
   "source": [
    "##### implement a **key** function to perform sort operations"
   ]
  },
  {
   "cell_type": "markdown",
   "id": "0a8e55e5",
   "metadata": {},
   "source": [
    "Given an array of string where each strings are made of the following formate:\n",
    "\n",
    "1. \"P1.__\"\n",
    "2. \"Q1.__\"\n",
    "3. \"R1.__\"\n",
    "\n",
    "Partition the elements of the array so that all `R1.__` elements come first, all `Q1.__` elements come second and all `P1.__` elements come third. Also confirm that each partition is also sorted in ascending order in terms of string after the dot (`.__`)\n",
    "\n",
    "-   `Example 1`:\n",
    "    -   `Input`: [\"P1.zbc\", \"R1.zbc\", \"Q1.zbc\", \"P1.abc\", \"R1.abc\", \"Q1.abc\", \"Q1.bac\"]\n",
    "    -   `Output`: [\"R1.abc\", \"R1.zbc\", \"Q1.abc\", \"Q1.bac\", \"Q1.zbc\", \"P1.abc\", \"P1.zbc\"]"
   ]
  },
  {
   "cell_type": "code",
   "execution_count": 37,
   "id": "2bdd57e6",
   "metadata": {},
   "outputs": [
    {
     "data": {
      "text/plain": [
       "['P1.abc', 'P1.zbc', 'Q1.abc', 'Q1.bac', 'Q1.zbc', 'R1.abc', 'R1.zbc']"
      ]
     },
     "execution_count": 37,
     "metadata": {},
     "output_type": "execute_result"
    }
   ],
   "source": [
    "a = [\"P1.zbc\", \"R1.zbc\", \"Q1.zbc\", \"P1.abc\", \"R1.abc\", \"Q1.abc\", \"Q1.bac\"]\n",
    "\n",
    "# INCORRECT ALGORITHM\n",
    "sorted(a, key=lambda x: (sorted(list(x.split(\".\")[0]), reverse=True), x.split(\".\")[1]))"
   ]
  },
  {
   "cell_type": "code",
   "execution_count": 33,
   "id": "1169592f",
   "metadata": {},
   "outputs": [],
   "source": [
    "def partition_and_sort(strings):\n",
    "    \"\"\"Partitions and sorts the given array of strings.\n",
    "\n",
    "    Args:\n",
    "    strings: An array of strings in the format \"P1.__\", \"Q1.__\", or \"R1.__\".\n",
    "\n",
    "    Returns:\n",
    "    A new array of strings that is partitioned and sorted as described in the prompt.\n",
    "    \"\"\"\n",
    "\n",
    "    # Create three empty lists to store the partitioned strings\n",
    "    r1_strings = []\n",
    "    q1_strings = []\n",
    "    p1_strings = []\n",
    "\n",
    "    # Iterate through the input strings and add them to the appropriate list\n",
    "    for string in strings:\n",
    "        if string.startswith(\"R1.\"): r1_strings.append(string)\n",
    "        elif string.startswith(\"Q1.\"): q1_strings.append(string)\n",
    "        elif string.startswith(\"P1.\"): p1_strings.append(string)\n",
    "\n",
    "    # Sort each list of strings\n",
    "    r1_strings.sort()\n",
    "    q1_strings.sort()\n",
    "    p1_strings.sort()\n",
    "\n",
    "    # Concatenate the sorted lists to form the final output array\n",
    "    return r1_strings + q1_strings + p1_strings"
   ]
  },
  {
   "cell_type": "code",
   "execution_count": null,
   "id": "294a78bd",
   "metadata": {},
   "outputs": [],
   "source": [
    "# Example usage\n",
    "strings = [\"P1.zbc\", \"R1.zbc\", \"Q1.zbc\", \"P1.abc\", \"R1.abc\", \"Q1.abc\", \"Q1.bac\"]\n",
    "result = partition_and_sort(strings)\n",
    "print(result)"
   ]
  },
  {
   "cell_type": "code",
   "execution_count": null,
   "id": "e513bcb6",
   "metadata": {},
   "outputs": [],
   "source": [
    "def partition(s):\n",
    "    def cmp_to_key():\n",
    "        pass\n",
    "    pass"
   ]
  },
  {
   "cell_type": "markdown",
   "id": "6cac6289",
   "metadata": {
    "heading_collapsed": true
   },
   "source": [
    "##### Implement Cyclic Sort [Youtube](https://www.youtube.com/watch?v=JfinxytTYFQ&t=4267s)"
   ]
  },
  {
   "cell_type": "markdown",
   "id": "df137a89",
   "metadata": {
    "hidden": true
   },
   "source": [
    "Cyclic sort is an in-place sorting algorithm that is used to sort an array containing elements from 1 to N (where N is the length of the array). It works by repeatedly placing each element in its correct position by swapping elements.\n",
    "\n",
    "`Notes`: It is specifically useful only for arrays with distinct elements from 1 to N."
   ]
  },
  {
   "cell_type": "code",
   "execution_count": null,
   "id": "0c66c292",
   "metadata": {
    "hidden": true
   },
   "outputs": [],
   "source": [
    "def cyclic_sort(a):\n",
    "    N = len(a)\n",
    "    i = 0    \n",
    "    while i < N:\n",
    "        if a[i] == i+1: i = i+1\n",
    "        else: swap(a, i, a[i]-1)"
   ]
  },
  {
   "cell_type": "code",
   "execution_count": null,
   "id": "9c9ab015",
   "metadata": {
    "hidden": true
   },
   "outputs": [],
   "source": [
    "def _test_cyclic_sort():\n",
    "    for _ in range(1000):\n",
    "        from numpy import random as r\n",
    "        P = list(r.permutation(10)+1)\n",
    "        try:\n",
    "            expected = sorted(P)\n",
    "            print(P, expected)\n",
    "            cyclic_sort(P)\n",
    "            assert P == expected\n",
    "        except:\n",
    "            print(f\"\"\"\n",
    "                Given: {P}, \n",
    "                Expected: {expected}\"\"\")\n",
    "            break\n",
    "\n",
    "# ================================================================\n",
    "_test_cyclic_sort()"
   ]
  },
  {
   "cell_type": "markdown",
   "id": "7c7878b1",
   "metadata": {},
   "source": [
    "##### [881. Boats to Save People](https://leetcode.com/problems/boats-to-save-people/description/) | [neetcode](https://www.youtube.com/watch?v=XbaxWuHIWUs)"
   ]
  },
  {
   "cell_type": "markdown",
   "id": "4c14a43b",
   "metadata": {},
   "source": [
    "You are given an array `people` where `people[i]` is the weight of the $i^{th}$ person, and an infinite number of boats where each boat can carry a maximum weight of limit. Each boat carries at most two people at the same time, **provided the sum of the weight of those people is at most limit**.\n",
    "\n",
    "Return the minimum number of boats to carry every given person.\n",
    "\n",
    "-   `Example 1`:\n",
    "\n",
    "    -   `Input`: people = [1,2], limit = 3\n",
    "    -   `Output`: 1\n",
    "    -   `Explanation`: 1 boat (1, 2)\n",
    "\n",
    "-   `Example 2`:\n",
    "\n",
    "    -   `Input`: people = [3,2,2,1], limit = 3\n",
    "    -   `Output`: 3\n",
    "    -   `Explanation`: 3 boats (1, 2), (2) and (3)\n",
    "\n",
    "-   `Example 3`:\n",
    "\n",
    "    -   `Input`: people = [3,5,3,4], limit = 5\n",
    "    -   `Output`: 4\n",
    "    -   `Explanation`: 4 boats (3), (3), (4), (5)\n",
    " \n",
    "\n",
    "-   `Constraints`:\n",
    "\n",
    "    -   $1 <= people.length <= 5 * 10^4$\n",
    "    -   $1 <= people[i] <= limit <= 3 * 10^4$"
   ]
  },
  {
   "cell_type": "code",
   "execution_count": null,
   "id": "adcf8c7d",
   "metadata": {},
   "outputs": [],
   "source": [
    "def numRescue_boats(people: list[int], limit: int) -> int:\n",
    "    people.sort()\n",
    "    right = len(people) - 1\n",
    "    left = num_boats = 0\n",
    "\n",
    "    while left <= right:\n",
    "        if people[left] + people[right] <= limit:\n",
    "            left += 1\n",
    "        right -= 1\n",
    "        num_boats += 1\n",
    "\n",
    "    return num_boats"
   ]
  },
  {
   "cell_type": "markdown",
   "id": "6c0ed60f",
   "metadata": {
    "heading_collapsed": true
   },
   "source": [
    "##### [167. Two Sum II - Input Array Is Sorted](https://leetcode.com/problems/two-sum-ii-input-array-is-sorted/)"
   ]
  },
  {
   "cell_type": "markdown",
   "id": "8610d79c",
   "metadata": {
    "hidden": true
   },
   "source": [
    "Given a 1-indexed array of integers numbers that is already sorted in non-decreasing order, find two numbers such that they add up to a specific target number. Let these two numbers be `numbers[index1]` and `numbers[index2]` where `1 <= index1 < index2 <= numbers.length`.\n",
    "\n",
    "Return the indices of the two numbers, index1 and index2, added by one as an integer array [index1, index2] of length 2.\n",
    "\n",
    "The tests are generated such that there is exactly one solution. You may not use the same element twice.\n",
    "\n",
    "Your solution must use only constant extra space.\n",
    "\n",
    " \n",
    "\n",
    "- Example 1:\n",
    "\n",
    "    - Input: numbers = [2,7,11,15], target = 9\n",
    "    - Output: [1,2]\n",
    "    - Explanation: The sum of 2 and 7 is 9. Therefore, index1 = 1, index2 = 2. We return [1, 2].\n",
    "- Example 2:\n",
    "\n",
    "    - Input: numbers = [2,3,4], target = 6\n",
    "    - Output: [1,3]\n",
    "    - Explanation: The sum of 2 and 4 is 6. Therefore index1 = 1, index2 = 3. We return [1, 3].\n",
    "- Example 3:\n",
    "\n",
    "    - Input: numbers = [-1,0], target = -1\n",
    "    - Output: [1,2]\n",
    "    - Explanation: The sum of -1 and 0 is -1. Therefore index1 = 1, index2 = 2. We return [1, 2].\n",
    " \n",
    "\n",
    "- Constraints:\n",
    "\n",
    "    - 2 <= numbers.length <= 3 * 104\n",
    "    - -1000 <= numbers[i] <= 1000\n",
    "    - numbers is sorted in non-decreasing order.\n",
    "    - -1000 <= target <= 1000\n",
    "    - The tests are generated such that there is exactly one solution."
   ]
  },
  {
   "cell_type": "code",
   "execution_count": null,
   "id": "65bd8242",
   "metadata": {
    "hidden": true
   },
   "outputs": [],
   "source": [
    "def two_sum(numbers: List[int], target: int) -> List[int]:\n",
    "        l, r = 0, len(numbers) - 1\n",
    "        \n",
    "        while l < r:\n",
    "            curSum = numbers[l] + numbers[r]\n",
    "            \n",
    "            if curSum > target: r -= 1\n",
    "            elif curSum < target: l += 1\n",
    "            else: return [l + 1, r + 1]     "
   ]
  },
  {
   "cell_type": "code",
   "execution_count": null,
   "id": "465f2f63",
   "metadata": {
    "hidden": true
   },
   "outputs": [],
   "source": [
    "def two_sum(A: List[int], target: int) -> List[int]:\n",
    "    left, right = 0, len(A) - 1\n",
    "\n",
    "    while left <= right:\n",
    "        total = A[left] + A[right]\n",
    "        if   total < target: left += 1\n",
    "        elif total > target: right -= 1\n",
    "        else               : return True\n",
    "\n",
    "    return False"
   ]
  },
  {
   "cell_type": "markdown",
   "id": "6f45fb9c",
   "metadata": {
    "heading_collapsed": true
   },
   "source": [
    "##### Computing the h-index.- [EPI:13.3]."
   ]
  },
  {
   "cell_type": "markdown",
   "id": "ee5339ef",
   "metadata": {
    "hidden": true
   },
   "source": [
    "The h-index, or Hirsch index, is a bibliometric measurement used to evaluate the impact and productivity of a researcher's scholarly work, particularly in academic and scientific fields. It quantifies the researcher's influence based on the number of citations their publications have received. The h-index is designed to address the problem of quantifying the quality and quantity of a researcher's contributions while accounting for variations in citation patterns.\n",
    "\n",
    "Here's a detailed explanation of the h-index:\n",
    "\n",
    "- `Definition`: The h-index is defined as the maximum value \"h\" such that a researcher has \"h\" papers that have each been cited at least \"h\" times. In other words, it's the highest number of papers, h, that have received at least h citations each.\n",
    "\n",
    "- `Calculation Process`: To calculate the h-index, you perform the following steps:\n",
    "\n",
    "    - `Publication Sorting`: First, you need to list a researcher's publications in descending order based on the number of citations each publication has received.\n",
    "\n",
    "    - `Counting Citations`: Starting from the most highly cited paper, you count down the list of publications and their corresponding citation counts. You determine the h-index when you reach a publication with fewer citations than its position in the sorted list."
   ]
  },
  {
   "cell_type": "code",
   "execution_count": null,
   "id": "0a2cd059",
   "metadata": {
    "hidden": true
   },
   "outputs": [],
   "source": [
    "def h_index(citations):\n",
    "\n",
    "    citations.sort()\n",
    "    n = len(citations)\n",
    "    for i, c in enumerate(citations):\n",
    "        if c >= n - i:\n",
    "            return n - i\n",
    "    return 0"
   ]
  },
  {
   "cell_type": "code",
   "execution_count": null,
   "id": "d816052a",
   "metadata": {
    "hidden": true
   },
   "outputs": [],
   "source": [
    "def calculate_h_index(citations):\n",
    "    # Sort the list of citations in descending order\n",
    "    citations.sort(reverse=True)\n",
    "\n",
    "    h_index = 0\n",
    "    for i, citation in enumerate(citations, 1):\n",
    "        if citation >= i: h_index = i\n",
    "        else: break\n",
    "\n",
    "    return h_index"
   ]
  },
  {
   "cell_type": "code",
   "execution_count": null,
   "id": "62f7ef5c",
   "metadata": {
    "hidden": true
   },
   "outputs": [],
   "source": [
    "# Example usage:\n",
    "# citations = [6, 5, 3, 1, 0]\n",
    "citations = [30,25,20,15,10,5,3]\n",
    "h_index = h_index(citations)\n",
    "print(\"The h-index is:\", h_index)"
   ]
  },
  {
   "cell_type": "markdown",
   "id": "a578f889",
   "metadata": {},
   "source": [
    "##### [Meeting Rooms](https://www.lintcode.com/problem/920/) | [neetcode](https://www.youtube.com/watch?v=PaJxqZVPhbg&t=200s)"
   ]
  },
  {
   "cell_type": "markdown",
   "id": "cfce5269",
   "metadata": {},
   "source": [
    "Given an array of meeting time intervals consisting of start and end times `[[s1,e1],[s2,e2],...]` `(si < ei)`, determine if a person could attend all meetings. (0,8),(8,10) is not conflict at 8.\n",
    "\n",
    "-   **Examples 1**\n",
    "\n",
    "    -   `Input`: intervals = [(0,30),(5,10),(15,20)]\n",
    "    -   `Output`: false\n",
    "    -   `Explanation`: (0,30), (5,10) and (0,30),(15,20) will conflict\n",
    "\n",
    "-   **Examples 2**\n",
    "    -   `Input`: intervals = [(5,8),(9,15)]\n",
    "    -   `Output`: true\n",
    "    -   `Explanation`: Two times will not conflict "
   ]
  },
  {
   "cell_type": "markdown",
   "id": "2ca7bfed",
   "metadata": {},
   "source": [
    "To determine if a person can attend all meetings given a list of meeting time intervals, we need to check if any of the intervals overlap.\n",
    "\n",
    "-   Steps:\n",
    "    1. **Sort the intervals** by their start time.\n",
    "    2. **Compare the end time** of the current interval with the start time of the next interval.\n",
    "        - If the end time of the current interval is greater than the start time of the next interval, then the intervals overlap, and it is not possible to attend all meetings.\n",
    "        - If no intervals overlap, then the person can attend all meetings.\n",
    "\n",
    "- Explanation:\n",
    "    - **Example 1:** The intervals `(0, 30)` and `(5, 10)` overlap because 30 > 5. Therefore, the output is `False`.\n",
    "    - **Example 2:** The intervals `(5, 8)` and `(9, 15)` do not overlap, so the output is `True`.\n",
    "\n",
    "This approach has a time complexity of \\(O(n \\log n)\\) due to the sorting step, where \\(n\\) is the number of intervals."
   ]
  },
  {
   "cell_type": "code",
   "execution_count": null,
   "id": "8d27c814",
   "metadata": {},
   "outputs": [],
   "source": [
    "def can_attend_meetings(intervals):\n",
    "    # Sort the intervals by start time\n",
    "    intervals.sort(key=lambda x: x[0])\n",
    "    \n",
    "    # Compare each interval's end time with the next interval's start time\n",
    "    for i in range(len(intervals) - 1):\n",
    "        if intervals[i][1] > intervals[i + 1][0]:\n",
    "            return False\n",
    "    \n",
    "    return True"
   ]
  },
  {
   "cell_type": "code",
   "execution_count": null,
   "id": "c582ca4b",
   "metadata": {},
   "outputs": [],
   "source": [
    "\n",
    "# Example 1\n",
    "intervals1 = [(0, 30), (5, 10), (15, 20)]\n",
    "print(can_attend_meetings(intervals1))  # Output: False\n",
    "\n",
    "# Example 2\n",
    "intervals2 = [(5, 8), (9, 15)]\n",
    "print(can_attend_meetings(intervals2))  # Output: True\n"
   ]
  },
  {
   "cell_type": "markdown",
   "id": "5b010674",
   "metadata": {},
   "source": [
    "##### [Meeting Rooms II](https://www.lintcode.com/problem/919/) | [neetcode](https://www.youtube.com/watch?v=FdzJmTCVyJU&t=544s)"
   ]
  },
  {
   "cell_type": "markdown",
   "id": "65f5520f",
   "metadata": {},
   "source": [
    "Given an array of meeting time intervals consisting of start and end times [[$s_1$, $e_1$], [$s_2$, $e_2$], ...], ($s_i$ < $e_i$), find the minimum number of conference rooms required.\n",
    "\n",
    "-   `(0,8),(8,10)` is not conflict at 8.\n",
    "\n",
    "-   **Example 1**\n",
    "\n",
    "    -   `Input`: intervals = [(0,30),(5,10),(15,20)]\n",
    "    -   `Output`: 2\n",
    "    -   `Explanation`: We need two meeting rooms, room1: (0,30), room2: (5,10),(15,20)\n",
    "\n",
    "-   **Example 2**\n",
    "\n",
    "    -   `Input`: intervals = [(2,7)]\n",
    "    -   `Output`: 1\n",
    "    -   `Explanation`: Only need one meeting room"
   ]
  },
  {
   "cell_type": "markdown",
   "id": "416cdd5d",
   "metadata": {},
   "source": [
    "To find the minimum number of conference rooms required to hold all meetings without conflict, we can use the following approach:\n",
    "\n",
    "- Steps:\n",
    "  1. **Separate the start and end times** of the meetings.\n",
    "  2. **Sort both the start and end times** individually.\n",
    "  3. Use two pointers to traverse the start and end times:\n",
    "     - If a meeting starts before another ends, a new room is needed.\n",
    "     - If a meeting ends before the next one starts, a room is freed.\n"
   ]
  },
  {
   "cell_type": "code",
   "execution_count": 12,
   "id": "ad36eb60",
   "metadata": {},
   "outputs": [
    {
     "name": "stdout",
     "output_type": "stream",
     "text": [
      "2\n"
     ]
    }
   ],
   "source": [
    "def min_meeting_rooms(intervals):\n",
    "    if not intervals:\n",
    "        return 0\n",
    "\n",
    "    # Separate start and end times and sort them\n",
    "    start_times = sorted([i[0] for i in intervals])\n",
    "    end_times = sorted([i[1] for i in intervals])\n",
    "\n",
    "    start_pointer = end_pointer = 0\n",
    "    max_rooms = rooms_counter = 0\n",
    "\n",
    "    # Traverse through the sorted start times\n",
    "    while start_pointer < len(intervals):\n",
    "        if start_times[start_pointer] < end_times[end_pointer]:\n",
    "            # A new room is needed\n",
    "            rooms_counter += 1\n",
    "            start_pointer += 1\n",
    "        else:\n",
    "            # A room is freed\n",
    "            rooms_counter -= 1\n",
    "            end_pointer += 1\n",
    "\n",
    "        # Update the maximum number of rooms needed\n",
    "        max_rooms = max(max_rooms, rooms_counter)\n",
    "\n",
    "    return max_rooms\n",
    "\n",
    "# Example 1\n",
    "intervals1 = [(0, 30), (5, 10), (15, 20)]\n",
    "print(min_meeting_rooms(intervals1))  # Output: 2"
   ]
  },
  {
   "cell_type": "code",
   "execution_count": 13,
   "id": "c0273dfd",
   "metadata": {},
   "outputs": [
    {
     "name": "stdout",
     "output_type": "stream",
     "text": [
      "(1, 7)\n",
      "1\n"
     ]
    }
   ],
   "source": [
    "# NOT TESTED!!\n",
    "def min_num_meeting_rooms(intervals):\n",
    "\n",
    "    intervals.sort(key=lambda item: item[1])\n",
    "    # print(intervals)\n",
    "\n",
    "    if not intervals: return 0\n",
    "\n",
    "    room_counter = 1\n",
    "    right_end = intervals[0][1]\n",
    "    result = (room_counter, right_end)\n",
    "\n",
    "    for interval in intervals[1:]:\n",
    "        if right_end < interval[0]:\n",
    "            if result[0] < room_counter: result = (room_counter, right_end)\n",
    "            right_end = interval[1]\n",
    "            room_counter = 1\n",
    "        else:\n",
    "            room_counter += 1\n",
    "\n",
    "    if result[0] < room_counter:\n",
    "        result = (room_counter, right_end)\n",
    "\n",
    "\n",
    "    print( result)\n",
    "\n",
    "    return result[0]\n",
    "\n",
    "intervals1 = [(2, 7)]\n",
    "print(min_num_meeting_rooms(intervals1))  # Output: 2"
   ]
  },
  {
   "cell_type": "code",
   "execution_count": 14,
   "id": "46bdf218",
   "metadata": {},
   "outputs": [
    {
     "name": "stdout",
     "output_type": "stream",
     "text": [
      "[(0, 30), (5, 10), (15, 20)]\n",
      "(2, 5)\n",
      "2\n"
     ]
    }
   ],
   "source": [
    "# NOT TESTED!!\n",
    "def min_num_meeting_rooms_v2(intervals):\n",
    "\n",
    "    intervals.sort(key=lambda item: item[0])\n",
    "    print(intervals)\n",
    "\n",
    "    if not intervals: return 0\n",
    "\n",
    "    room_counter = 1\n",
    "    left_end = intervals[-1][0]\n",
    "    result = (room_counter, left_end)\n",
    "\n",
    "    for interval in intervals[-2::-1]:\n",
    "        if left_end > interval[1]:\n",
    "            if result[0] < room_counter: result = (room_counter, left_end)\n",
    "            left_end = interval[0]\n",
    "            room_counter = 1\n",
    "        else:\n",
    "            room_counter += 1\n",
    "\n",
    "    if result[0] < room_counter:\n",
    "        result = (room_counter, left_end)\n",
    "\n",
    "\n",
    "    print( result)\n",
    "\n",
    "    return result[0]\n",
    "\n",
    "intervals1 = [(0, 30), (5, 10), (15, 20)]\n",
    "print(min_num_meeting_rooms_v2(intervals1))  # Output: 2"
   ]
  },
  {
   "cell_type": "code",
   "execution_count": 17,
   "id": "06e11f1f",
   "metadata": {},
   "outputs": [],
   "source": [
    "def _test_min_num_meeting_rooms():\n",
    "    testcases = [[(2, 7)], [(0, 30), (5, 10), (15, 20)]]\n",
    "    for testcase in testcases:\n",
    "        assert min_num_meeting_rooms(testcase) == min_num_meeting_rooms_v2(testcase)"
   ]
  },
  {
   "cell_type": "markdown",
   "id": "fb949519",
   "metadata": {},
   "source": [
    "##### [18.97.Meeting Rooms III (LintCode)](https://www.lintcode.com/problem/1897/) [M] "
   ]
  },
  {
   "cell_type": "markdown",
   "id": "c43f56af",
   "metadata": {},
   "source": [
    "You have a list of `intervals` of current meetings, and some meeting `rooms` with start and end timestamp. When a stream of new meeting `ask` coming in, judge one by one whether they can be placed in the current meeting list without overlapping. A meeting room can only hold one meeting at a time. Each inquiry is independent.\n",
    "\n",
    "The meeting asked can be splited to some times. For example, if you want to ask a meeting for `[2, 4]`, you can split it to `[2,3]` and `[3, 4]`.\n",
    "\n",
    "- **Example 1**:\n",
    "\n",
    "    -   `Input`: Intervals:[[1,2], [4,5], [8,10]], rooms = 1, ask: [[2,3], [3,4]]\n",
    "    -   `Output`:  [True, True]\n",
    "    -   `Explanation`:\n",
    "        -   For the ask of [2,3], we can arrange a meeting room room0.\n",
    "            -   The following is the meeting list of room0:\n",
    "                -   [[1,2], [2,3], [4,5], [8,10]]\n",
    "        -   For the ask of [3,4], we can arrange a meeting room room0.\n",
    "            -   The following is the meeting list of room0:\n",
    "                -   [[1,2], [3,4], [4,5], [8,10]]\n",
    "\n",
    "- **Example 2**:\n",
    "\n",
    "    -   `Input`: [[1,2],[4,5],[8,10]], rooms = 1, ask: [[4,5],[5,6]]\n",
    "    -   `Output`: [False,True]\n",
    "\n",
    "\n",
    "-   `Constraints`:\n",
    "\n",
    "    -   $1 <= rooms <= 20$\n",
    "    -   $1 <= intervals.length <= 10^5$\n",
    "    -   $1 <= ask.length <= 10^5$\n",
    "    -   $intervals[i].length == 2$\n",
    "    -   $0 <= start_i < end_i <= 5 * 10^5$"
   ]
  },
  {
   "cell_type": "markdown",
   "id": "57de6fb6",
   "metadata": {},
   "source": [
    "To handle the problem, we need to evaluate whether each meeting in the `ask` list can be added to the existing meeting schedule without any overlap in the available rooms. Here's the approach:\n",
    "\n",
    "- Steps:\n",
    "\n",
    "    1. **Initialize the Room Schedule**: Represent each room's schedule as a list of intervals.\n",
    "\n",
    "    2. **For Each Meeting Request (`ask`)**:\n",
    "    - Check if it can be placed in any room without overlapping with existing meetings in that room.\n",
    "    - If it can, add it to that room's schedule and return `True`.\n",
    "    - If it cannot be placed in any room, return `False`.\n",
    "\n",
    "    3. **Handling Splitting**: If a meeting can be placed as a whole, it does not need to be split. However, since meetings are to be checked independently, the concept of splitting is not necessary unless explicitly required for a future iteration.\n",
    "\n",
    "- Time Complexity:\n",
    "    - **For Each Ask**: We check against the schedule of each room. Assuming sorting within a room is negligible due to a small number of meetings, this gives a time complexity of $(O(r \\cdot n))$ per ask, where `r` is the number of rooms and `n` is the number of existing meetings per room."
   ]
  },
  {
   "cell_type": "code",
   "execution_count": null,
   "id": "2259acb4",
   "metadata": {},
   "outputs": [],
   "source": [
    "def can_place_meetings(intervals1, rooms1, ask1):\n",
    "    pass"
   ]
  },
  {
   "cell_type": "code",
   "execution_count": null,
   "id": "21b5a539",
   "metadata": {},
   "outputs": [],
   "source": [
    "\n",
    "# Example 1\n",
    "intervals1 = [[1, 2], [4, 5], [8, 10]]\n",
    "rooms1 = 1\n",
    "ask1 = [[2, 3], [3, 4]]\n",
    "print(can_place_meetings(intervals1, rooms1, ask1))  # Output: [True, True]\n",
    "\n",
    "# Example 2\n",
    "intervals2 = [[1, 2], [4, 5], [8, 10]]\n",
    "rooms2 = 1\n",
    "ask2 = [[4, 5], [5, 6]]\n",
    "print(can_place_meetings(intervals2, rooms2, ask2))  # Output: [False, True]\n"
   ]
  },
  {
   "cell_type": "markdown",
   "id": "f05940f5",
   "metadata": {},
   "source": [
    "##### [2402. Meeting Rooms III](https://leetcode.com/problems/meeting-rooms-iii/description/) [H] | [neetcode](https://www.youtube.com/watch?v=2VLwjvODQbA)"
   ]
  },
  {
   "cell_type": "markdown",
   "id": "99822833",
   "metadata": {},
   "source": [
    "You are given an integer `n`. There are n rooms numbered from `0` to `n - 1`.\n",
    "\n",
    "You are given a 2D integer array meetings where $meetings[i] = [start_i, end_i]$ means that a meeting will be held during the half-closed time interval $[start_i, end_i)$. All the values of $start_i$ are unique.\n",
    "\n",
    "Meetings are allocated to rooms in the following manner:\n",
    "\n",
    "Each meeting will take place in the unused room with the lowest number.\n",
    "If there are no available rooms, the meeting will be delayed until a room becomes free. The delayed meeting should have the same duration as the original meeting.\n",
    "When a room becomes unused, meetings that have an earlier original start time should be given the room.\n",
    "Return the number of the room that held the most meetings. If there are multiple rooms, return the room with the lowest number.\n",
    "\n",
    "A **half-closed** interval `[a, b)` is the interval between a and b including a and not including b.\n",
    "\n",
    " \n",
    "\n",
    "-   `Example 1`:\n",
    "\n",
    "    -   `Input`: n = 2, meetings = [[0,10],[1,5],[2,7],[3,4]]\n",
    "    -   `Output`: 0\n",
    "    -   `Explanation`:\n",
    "        -   At time 0, both rooms are not being used. The first meeting starts in room 0.\n",
    "        -   At time 1, only room 1 is not being used. The second meeting starts in room 1.\n",
    "        -   At time 2, both rooms are being used. The third meeting is delayed.\n",
    "        -   At time 3, both rooms are being used. The fourth meeting is delayed.\n",
    "        -   At time 5, the meeting in room 1 finishes. The third meeting starts in room 1 for the time period [5,10).\n",
    "        -   At time 10, the meetings in both rooms finish. The fourth meeting starts in room 0 for the time period [10,11).\n",
    "        -   Both rooms 0 and 1 held 2 meetings, so we return 0. \n",
    "\n",
    "-   `Example 2`:\n",
    "\n",
    "    -   `Input`: n = 3, meetings = [[1,20],[2,10],[3,5],[4,9],[6,8]]\n",
    "    -   `Output`: 1\n",
    "    -   `Explanation`:\n",
    "        -   At time 1, all three rooms are not being used. The first meeting starts in room 0.\n",
    "        -   At time 2, rooms 1 and 2 are not being used. The second meeting starts in room 1.\n",
    "        -   At time 3, only room 2 is not being used. The third meeting starts in room 2.\n",
    "        -   At time 4, all three rooms are being used. The fourth meeting is delayed.\n",
    "        -   At time 5, the meeting in room 2 finishes. The fourth meeting starts in room 2 for the time period [5,10).\n",
    "        -   At time 6, all three rooms are being used. The fifth meeting is delayed.\n",
    "        -   At time 10, the meetings in rooms 1 and 2 finish. The fifth meeting starts in room 1 for the time period [10,12).\n",
    "        -   Room 0 held 1 meeting while rooms 1 and 2 each held 2 meetings, so we return 1. \n",
    " \n",
    "\n",
    "-   `Constraints`:\n",
    "\n",
    "    -   $1 <= n <= 100$\n",
    "    -   $1 <= meetings.length <= 10^5$\n",
    "    -   $meetings[i].length == 2$\n",
    "    -   $0 <= starti < endi <= 5 * 10^5$\n",
    "    -   All the values of starti are unique."
   ]
  },
  {
   "cell_type": "markdown",
   "id": "0d4cffe2",
   "metadata": {},
   "source": [
    "<div style=\"text-align:center\" ><img src=\"../assets/leetcode/meeting_rooms_III.png\" width=\"700\" height=\"400\" /></div>"
   ]
  },
  {
   "cell_type": "code",
   "execution_count": null,
   "id": "e7ffb598",
   "metadata": {},
   "outputs": [],
   "source": []
  },
  {
   "cell_type": "markdown",
   "id": "cd5cfa9c",
   "metadata": {},
   "source": [
    "##### [1094. Car Pooling](https://leetcode.com/problems/car-pooling/description/) |<b style=\"color:red\">***</b>| [neetcode](https://www.youtube.com/watch?v=08sn_w4LWEE)"
   ]
  },
  {
   "cell_type": "markdown",
   "id": "9ca750ba",
   "metadata": {},
   "source": [
    "There is a car with `capacity` empty seats. The vehicle only drives east (i.e., it cannot turn around and drive west).\n",
    "\n",
    "You are given the integer `capacity` and an array `trips` where $trips[i] = [numPassengers_i, from_i, to_i]$ indicates that the $i^{th}$ trip has $numPassengers_i$ passengers and the locations to pick them up and drop them off are $from_i$ and $to_i$ respectively. The locations are given as the number of kilometers due east from the car's initial location.\n",
    "\n",
    "Return `true` if it is possible to pick up and drop off all passengers for all the given `trips`, or `false` otherwise.\n",
    "\n",
    " \n",
    "\n",
    "\n",
    "-   `Example 1`:\n",
    "\n",
    "    -   `Input`: trips = [[2,1,5],[3,3,7]], capacity = 4\n",
    "    -   `Output`: false\n",
    "\n",
    "-   `Example 2`:\n",
    "\n",
    "    -   `Input`: trips = [[2,1,5],[3,3,7]], capacity = 5\n",
    "    -   `Output`: true\n",
    " \n",
    "\n",
    "-   `Constraints`:\n",
    "\n",
    "    -   $1 <= trips.length <= 1000$\n",
    "    -   $trips[i].length == 3$\n",
    "    -   $1 <= numPassengersi <= 100$\n",
    "    -   $0 <= fromi < toi <= 1000$\n",
    "    -   $1 <= capacity <= 10^5$"
   ]
  },
  {
   "cell_type": "code",
   "execution_count": null,
   "id": "78967f40",
   "metadata": {},
   "outputs": [],
   "source": []
  },
  {
   "cell_type": "markdown",
   "id": "5458f743",
   "metadata": {},
   "source": [
    "##### [452. Minimum Number of Arrows to Burst Balloons](https://leetcode.com/problems/minimum-number-of-arrows-to-burst-balloons/description/?envType=study-plan-v2&envId=leetcode-75)"
   ]
  },
  {
   "cell_type": "markdown",
   "id": "bb125879",
   "metadata": {},
   "source": [
    "There are some spherical balloons taped onto a flat wall that represents the XY-plane. The balloons are represented as a 2D integer array points where points[i] = [xstart, xend] denotes a balloon whose horizontal diameter stretches between xstart and xend. You do not know the exact y-coordinates of the balloons.\n",
    "\n",
    "Arrows can be shot up directly vertically (in the positive y-direction) from different points along the x-axis. A balloon with xstart and xend is burst by an arrow shot at x if xstart <= x <= xend. There is no limit to the number of arrows that can be shot. A shot arrow keeps traveling up infinitely, bursting any balloons in its path.\n",
    "\n",
    "Given the array points, return the minimum number of arrows that must be shot to burst all balloons.\n",
    "\n",
    " \n",
    "\n",
    "\n",
    "-   `Example 1`:\n",
    "\n",
    "    -   `Input`: points = [[10,16],[2,8],[1,6],[7,12]]\n",
    "    -   `Output`: 2\n",
    "    -   `Explanation`: The balloons can be burst by 2 arrows:\n",
    "    -   Shoot an arrow at x = 6, bursting the balloons [2,8] and [1,6].\n",
    "    -   Shoot an arrow at x = 11, bursting the balloons [10,16] and [7,12].\n",
    "\n",
    "-   `Example 2`:\n",
    "\n",
    "    -   `Input`: points = [[1,2],[3,4],[5,6],[7,8]]\n",
    "    -   `Output`: 4\n",
    "    -   `Explanation`: One arrow needs to be shot for each balloon for a total of 4 arrows.\n",
    "\n",
    "-   `Example 3`:\n",
    "\n",
    "    -   `Input`: points = [[1,2],[2,3],[3,4],[4,5]]\n",
    "    -   `Output`: 2\n",
    "    -   `Explanation`: The balloons can be burst by 2 arrows:\n",
    "    -   Shoot an arrow at x = 2, bursting the balloons [1,2] and [2,3].\n",
    "    -   Shoot an arrow at x = 4, bursting the balloons [3,4] and [4,5].\n",
    " \n",
    "\n",
    "-   `Constraints`:\n",
    "\n",
    "    -   $1 <= points.length <= 105$\n",
    "    -   $points[i].length == 2$\n",
    "    -   $-231 <= xstart < xend <= 231 - 1$"
   ]
  },
  {
   "cell_type": "markdown",
   "id": "76ec0060",
   "metadata": {},
   "source": [
    "#### <b style='color:#C71585'>EPI:</b>"
   ]
  },
  {
   "cell_type": "markdown",
   "id": "6b49c7f2",
   "metadata": {
    "heading_collapsed": true
   },
   "source": [
    "##### Delete duplicates from sorted Array. - [EPI:5.5]."
   ]
  },
  {
   "cell_type": "code",
   "execution_count": null,
   "id": "1b147952",
   "metadata": {
    "code_folding": [
     0
    ],
    "hidden": true
   },
   "outputs": [],
   "source": [
    "def eliminate_duplicate(A):\n",
    "\n",
    "    A.sort()  # Makes identical elements become neighbors.\n",
    "    write_idx = 1\n",
    "    for cand in A[1:]:\n",
    "        if cand != A[write_idx - 1]:\n",
    "            A[write_idx] = cand\n",
    "            write_idx += 1\n",
    "    del A[write_idx:]\n",
    "    return A"
   ]
  },
  {
   "cell_type": "code",
   "execution_count": null,
   "id": "b0c5fa38",
   "metadata": {
    "code_folding": [
     0
    ],
    "hidden": true
   },
   "outputs": [],
   "source": [
    "def eliminate_dup(A):\n",
    "\n",
    "    A.sort()  # Makes identical elements become neighbors.\n",
    "    write_idx = 0\n",
    "    for cand in A[1:]:\n",
    "        if cand != A[write_idx]:\n",
    "            write_idx += 1\n",
    "            A[write_idx] = cand\n",
    "    del A[write_idx+1:]\n",
    "    return A"
   ]
  },
  {
   "cell_type": "code",
   "execution_count": null,
   "id": "ba663025",
   "metadata": {},
   "outputs": [],
   "source": [
    "def eliminate_dup_v2(A):\n",
    "\n",
    "    A.sort()  # Makes identical elements become neighbors.\n",
    "    write_idx = 0\n",
    "    for i, cand in enumerate(A[1:], 1):\n",
    "        if cand != A[i-1]:\n",
    "            write_idx += 1\n",
    "            A[write_idx] = cand\n",
    "    del A[write_idx+1:]\n",
    "    return A"
   ]
  },
  {
   "cell_type": "code",
   "execution_count": null,
   "id": "4d2fff5b",
   "metadata": {
    "code_folding": [],
    "hidden": true
   },
   "outputs": [],
   "source": [
    "def eliminate_duplicate_pythonic(A):\n",
    "    A.sort()\n",
    "    write_idx = 0\n",
    "    for cand, _ in itertools.groupby(A):\n",
    "        A[write_idx] = cand\n",
    "        write_idx += 1\n",
    "    del A[write_idx:]\n"
   ]
  },
  {
   "cell_type": "code",
   "execution_count": null,
   "id": "72372335",
   "metadata": {
    "hidden": true
   },
   "outputs": [],
   "source": [
    "def _eliminate_duplicates():\n",
    "    a = [randint(-9, 9) for _ in range(50)]\n",
    "    returned = eliminate_duplicate(sorted(a))\n",
    "    try:\n",
    "        assert returned == eliminate_dup_v2(sorted(a))\n",
    "        # print(returned)\n",
    "    except:\n",
    "        print(f\"Input: {a}\\n\\tOutput: {returned}\")\n",
    "\n",
    "_eliminate_duplicates()"
   ]
  },
  {
   "cell_type": "markdown",
   "id": "163c9e2a",
   "metadata": {
    "heading_collapsed": true
   },
   "source": [
    "##### Compute the intersection of two sorted arrays. - [EPI:13.1]."
   ]
  },
  {
   "cell_type": "code",
   "execution_count": null,
   "id": "9353dbaf",
   "metadata": {
    "hidden": true
   },
   "outputs": [],
   "source": [
    "# dir(set)"
   ]
  },
  {
   "cell_type": "code",
   "execution_count": null,
   "id": "d7bba714",
   "metadata": {
    "code_folding": [],
    "hidden": true
   },
   "outputs": [],
   "source": [
    "def A_intersection_B(A, B):\n",
    "    i, j, AB = 0, 0, []\n",
    "\n",
    "    while i < len(A) and j < len(B):\n",
    "        if   A[i] < B[j]: i += 1\n",
    "        elif A[i] > B[j]: j += 1\n",
    "        elif (i == 0 or A[i-1] != A[i]):  # A[i] == B[j]\n",
    "            AB.append(A[i])\n",
    "            i, j = i+1, j+1\n",
    "        else:  # A[i] == B[j] and A[i-1] == A[i]\n",
    "            j += 1\n",
    "    \n",
    "    return AB"
   ]
  },
  {
   "cell_type": "code",
   "execution_count": null,
   "id": "641ebdff",
   "metadata": {
    "code_folding": [],
    "hidden": true
   },
   "outputs": [],
   "source": [
    "def intersect_two_sorted_arrays(A, B):\n",
    "    return [a for i, a in enumerate(A) if (i == 0 or a != A[i-1]) and a in B]"
   ]
  },
  {
   "cell_type": "code",
   "execution_count": null,
   "id": "c50d9582",
   "metadata": {
    "hidden": true
   },
   "outputs": [],
   "source": [
    "set1 = {1, 2, 3, 4}\n",
    "set2 = {3, 4, 5, 6}\n",
    "\n",
    "# Using the & operator\n",
    "intersection_operator = set1 & set2\n",
    "print(\"Intersection using & operator:\", intersection_operator)\n",
    "\n",
    "# Using the intersection method\n",
    "intersection_method = set1.intersection(set2)\n",
    "print(\"Intersection using intersection method:\", intersection_method)\n",
    "\n",
    "# Using list comprehension\n",
    "intersection_comprehension = [item for item in set1 if item in set2]\n",
    "print(\"Intersection using list comprehension:\", intersection_comprehension)\n"
   ]
  },
  {
   "cell_type": "code",
   "execution_count": null,
   "id": "50cbb29e",
   "metadata": {
    "code_folding": [
     0
    ],
    "hidden": true
   },
   "outputs": [],
   "source": [
    "def _test_A_intersectios_B(verbose=False):\n",
    "    for _ in range(10):\n",
    "        N, M = randrange(0, 10), randrange(0, 10)\n",
    "        A = sorted([randint(-5, 10) for _ in range(N)])\n",
    "        B = sorted([randint(-5, 10) for _ in range(M)])\n",
    "        try:\n",
    "            returned1 = intersect_two_sorted_arrays(A, B)\n",
    "            returned2 = A_intersection_B(A, B) \n",
    "            assert returned1 == returned2\n",
    "        except:\n",
    "            print(A, B, returned1, returned2)\n",
    "        \n",
    "        if verbose: print(f\"A: {A}; B: {B} \\n\\t A intersect B: {A_intersection_B(A, B)}\")\n",
    "# =================================================================\n",
    "_test_A_intersectios_B(True)"
   ]
  },
  {
   "cell_type": "markdown",
   "id": "0dfc764f",
   "metadata": {
    "heading_collapsed": true
   },
   "source": [
    "##### Compute the intersection of three sorted arrays."
   ]
  },
  {
   "cell_type": "markdown",
   "id": "c890f0f7",
   "metadata": {},
   "source": [
    "Given three sorted (in ascending order) arrays of integers, find out all the com­mon ele­ments in them."
   ]
  },
  {
   "cell_type": "markdown",
   "id": "75add7b0",
   "metadata": {
    "hidden": true
   },
   "source": [
    "- **ChatGPT**"
   ]
  },
  {
   "cell_type": "code",
   "execution_count": null,
   "id": "72428925",
   "metadata": {
    "hidden": true
   },
   "outputs": [],
   "source": [
    "def a_and_b_and_c(arr1, arr2, arr3):\n",
    "    result = []\n",
    "    i, j, k = 0, 0, 0\n",
    "\n",
    "    while i < len(arr1) and j < len(arr2) and k < len(arr3):\n",
    "        if arr1[i] == arr2[j] == arr3[k]:\n",
    "            result.append(arr1[i])\n",
    "            i += 1; j += 1; k += 1\n",
    "        elif arr1[i] < arr2[j]: i += 1\n",
    "        elif arr2[j] < arr3[k]: j += 1\n",
    "        else                  : k += 1\n",
    "\n",
    "    return result"
   ]
  },
  {
   "cell_type": "code",
   "execution_count": null,
   "id": "91a23d2e",
   "metadata": {
    "hidden": true
   },
   "outputs": [],
   "source": [
    "def _test_abc(verbose=False):\n",
    "    for _ in range(10):\n",
    "        N, M = randrange(0, 10), randrange(0, 20)\n",
    "        A = sorted([randint(5, 10) for _ in range(N)])\n",
    "        B = sorted([randint(5, 10) for _ in range(M)])\n",
    "        C = sorted([randint(5, 10) for _ in range(M)])\n",
    "        returned = a_and_b_and_c(A,B,C)\n",
    "        expected = list(sorted(set(A).intersection(B).intersection(C)))\n",
    "        try:\n",
    "            assert returned == expected\n",
    "        except:\n",
    "            print(A,B,C, returned, expected, \"==\"*30, sep=\"\\n\")\n",
    "# =================================================================\n",
    "_test_abc(False)"
   ]
  },
  {
   "cell_type": "code",
   "execution_count": null,
   "id": "d580a22c",
   "metadata": {
    "hidden": true
   },
   "outputs": [],
   "source": [
    "# Example usage:\n",
    "arr1 = [1, 5, 10, 20, 40, 80]\n",
    "arr2 = [6, 7, 20, 80, 100]\n",
    "arr3 = [3, 4, 15, 20, 30, 70, 80, 120]\n",
    "\n",
    "common_elements = a_and_b_and_c(arr1, arr2, arr3)\n",
    "print(\"Common Elements:\", common_elements)"
   ]
  },
  {
   "cell_type": "markdown",
   "id": "aa75f6d5",
   "metadata": {
    "heading_collapsed": true
   },
   "source": [
    "##### You are given two sorted arrays, `A` and `B`, where `A` has a large enough buffer at the end to hold `B`. Write a method to merge `B` into `A` in sorted order - [EPI:13.2, CtCI: 11.1]."
   ]
  },
  {
   "cell_type": "code",
   "execution_count": null,
   "id": "fdfecf27",
   "metadata": {
    "code_folding": [],
    "hidden": true
   },
   "outputs": [],
   "source": [
    "def merge_two_sorted_arrays(A, m, B, n):\n",
    "\n",
    "    a, b, idx = m-1, n-1, m+n-1\n",
    "    \n",
    "    while a >= 0 and b >= 0:\n",
    "        if A[a] > B[b]:\n",
    "            A[idx] = A[a]\n",
    "            a -= 1\n",
    "        else:\n",
    "            A[idx] = B[b]\n",
    "            b -= 1\n",
    "        \n",
    "        idx -= 1\n",
    "    \n",
    "    while b >= 0:\n",
    "        A[idx] = B[b]\n",
    "        idx, b = idx-1, b-1\n",
    "        "
   ]
  },
  {
   "cell_type": "code",
   "execution_count": null,
   "id": "a7237733",
   "metadata": {
    "code_folding": [],
    "hidden": true
   },
   "outputs": [],
   "source": [
    "def merge_two_sorted_list(A, a, B, b):\n",
    "    return\n",
    "                   "
   ]
  },
  {
   "cell_type": "code",
   "execution_count": null,
   "id": "ade27b4a",
   "metadata": {
    "code_folding": [],
    "hidden": true
   },
   "outputs": [],
   "source": [
    "def _test_merging(verbose=False):\n",
    "    # seed(0)\n",
    "    r1 = randrange(100)        \n",
    "    r2 = randrange(r1, r1+20)\n",
    "    L1 = sorted([randrange(-5,6) for _ in range(r1)])\n",
    "    L2 = sorted([randrange(-5,6) for _ in range(r2)])\n",
    "    L1 = L1 + [None]*(len(L2))\n",
    "    \n",
    "    L = sorted(list(L1[:len(L1)-len(L2)] + L2))\n",
    "    if verbose: print(f'Before Merge: (r1 = {r1}, r2 = {r2}) \\n\\tL: {L} \\n\\tL1: {L1} \\n\\tL2: {L2}')        \n",
    "    \n",
    "    try:        \n",
    "        merge_two_sorted_arrays(L1, r1, L2, r2)\n",
    "        assert L == L1\n",
    "\n",
    "    except (AssertionError):\n",
    "        print('Assertion Error !!') \n",
    "\n",
    "    \n",
    "    if verbose: print(f'After Merge: \\n\\tL: {L} \\n\\tL1: {L1} \\n\\tL2: {L2}', '\\n\\n')\n",
    " "
   ]
  },
  {
   "cell_type": "code",
   "execution_count": null,
   "id": "dff53f15",
   "metadata": {
    "code_folding": [],
    "hidden": true
   },
   "outputs": [],
   "source": [
    "for _ in range(1000): _test_merging(False)\n",
    "    "
   ]
  },
  {
   "cell_type": "code",
   "execution_count": null,
   "id": "5174d859",
   "metadata": {
    "hidden": true
   },
   "outputs": [],
   "source": []
  },
  {
   "cell_type": "markdown",
   "id": "8b23d5d6",
   "metadata": {
    "heading_collapsed": true
   },
   "source": [
    "##### Remove first-name duplicates from sorted list. - [EPI:13.3]."
   ]
  },
  {
   "cell_type": "markdown",
   "id": "e9ae3f9e",
   "metadata": {
    "hidden": true
   },
   "source": [
    "Design an efficient algorithm for removing all first-name duplicates from an array. \n",
    "\n",
    "For example, if the input is `[(Bob, Joe),(David, Gower),(Bob, Bell),(Bob, Bill)]`, one result could be `[(Bob,Bell),(David,Gower)]`; `[(David,Gower),(Bob,Joe)]` would also be acceptable."
   ]
  },
  {
   "cell_type": "code",
   "execution_count": null,
   "id": "44630f00",
   "metadata": {
    "code_folding": [],
    "hidden": true
   },
   "outputs": [],
   "source": [
    "class Name:\n",
    "    def __init__(self, first_name, last_name):\n",
    "        self.first_name, self.last_name = first_name, last_name\n",
    "\n",
    "    def __eq__(self, other):\n",
    "        return self.first_name == other.first_name\n",
    "\n",
    "    def __lt__(self, other):\n",
    "        return (self.first_name < other.first_name\n",
    "                if self.first_name != other.first_name else\n",
    "                self.last_name < other.last_name)\n",
    "\n",
    "    def __repr__(self):\n",
    "        return '%s %s' % (self.first_name, self.last_name)\n",
    "\n",
    "\n",
    "def eliminate_duplicate(A):\n",
    "\n",
    "    A.sort()  # Makes identical elements become neighbors.\n",
    "    write_idx = 1\n",
    "    for cand in A[1:]:\n",
    "        if cand != A[write_idx - 1]:\n",
    "            A[write_idx] = cand\n",
    "            write_idx += 1\n",
    "    del A[write_idx:]\n",
    "\n",
    "\n",
    "def eliminate_duplicate_pythonic(A):\n",
    "    A.sort()\n",
    "    write_idx = 0\n",
    "    for cand, _ in itertools.groupby(A):\n",
    "        A[write_idx] = cand\n",
    "        write_idx += 1\n",
    "    del A[write_idx:]"
   ]
  },
  {
   "cell_type": "code",
   "execution_count": null,
   "id": "65aca45c",
   "metadata": {
    "hidden": true
   },
   "outputs": [],
   "source": []
  },
  {
   "cell_type": "markdown",
   "id": "8a108fe1",
   "metadata": {
    "heading_collapsed": true
   },
   "source": [
    "##### Smallest nonconstructible value. - [EPI:13.4]."
   ]
  },
  {
   "cell_type": "markdown",
   "id": "b26d0dd1",
   "metadata": {
    "hidden": true
   },
   "source": [
    "Given a set of coins, there are some amounts of change that you may not be able to make with them, e.g., you cannot create a change amount greater than the sum of the your coins.\n",
    "\n",
    "For example, if your coins are `[1,1,1,1,1,5,5,10,25]` then the smallest value of change which connot be made is `51`.\n",
    "\n",
    "This is a common problem in the context of making change or determining whether a set of coin values allows you to make any positive integer value."
   ]
  },
  {
   "cell_type": "code",
   "execution_count": null,
   "id": "1364148f",
   "metadata": {
    "code_folding": [],
    "hidden": true
   },
   "outputs": [],
   "source": [
    "def smallest_nonconstructible_value(coins):\n",
    "    coins.sort()\n",
    "    max_constructible_value = 0\n",
    "\n",
    "    for coin in coins:\n",
    "        if coin > max_constructible_value + 1: break\n",
    "        max_constructible_value += coin\n",
    "\n",
    "    return max_constructible_value + 1"
   ]
  },
  {
   "cell_type": "code",
   "execution_count": null,
   "id": "1fd54b5a",
   "metadata": {
    "code_folding": [],
    "hidden": true
   },
   "outputs": [],
   "source": [
    "def smallest_nonconstructible_value_pythonic(coins):\n",
    "    func = lambda max_val, coin: max_val + (0 if coin > max_val + 1 else coin)\n",
    "    return functools.reduce(func, sorted(coins), 0) + 1"
   ]
  },
  {
   "cell_type": "markdown",
   "id": "d5c64075",
   "metadata": {
    "hidden": true
   },
   "source": [
    "- ChatGPT"
   ]
  },
  {
   "cell_type": "code",
   "execution_count": null,
   "id": "5a7aa4f7",
   "metadata": {
    "hidden": true
   },
   "outputs": [],
   "source": [
    "def smallest_non_constructible_value(coins):\n",
    "    coins.sort()  # Sort the list of coins in ascending order\n",
    "    current_constructible_value = 0  # Initialize with 0\n",
    "    \n",
    "    for coin in coins:\n",
    "        # If the current coin is greater than the current constructible value + 1, return it\n",
    "        if coin > current_constructible_value + 1:\n",
    "            return current_constructible_value + 1\n",
    "        else:\n",
    "            # Update the current constructible value\n",
    "            current_constructible_value += coin\n",
    "    \n",
    "    # If all coins in the list can be used to construct values up to current_constructible_value + 1\n",
    "    return current_constructible_value + 1"
   ]
  },
  {
   "cell_type": "code",
   "execution_count": null,
   "id": "2596961b",
   "metadata": {
    "hidden": true
   },
   "outputs": [],
   "source": [
    "test_cases = [\n",
    "    # Test case 1: Simple case with consecutive coin values.\n",
    "    ([1, 2, 3], 7),\n",
    "\n",
    "    # Test case 2: Case with duplicate coin values.\n",
    "    ([1, 1, 2, 2, 4], 11),\n",
    "\n",
    "    # Test case 3: Empty list of coins should return 1.\n",
    "    ([], 1),\n",
    "\n",
    "    # Test case 4: Case with only a single coin value.\n",
    "    ([5], 1),\n",
    "\n",
    "    # Test case 6: Case with non-consecutive coin values.\n",
    "    ([5, 7, 12, 14], 1),\n",
    "\n",
    "    # Test case 7: Case with negative coin values (should be treated as invalid).\n",
    "    ([-1, -2, -3], -4),\n",
    "]\n",
    "\n",
    "for coins, expected_result in test_cases:\n",
    "    result = smallest_non_constructible_value(coins)\n",
    "    assert result == expected_result, f\"Expected {expected_result}, but got {result} for coins {coins}\"\n"
   ]
  },
  {
   "cell_type": "markdown",
   "id": "a33767fc",
   "metadata": {
    "heading_collapsed": true
   },
   "source": [
    "##### Render a calendar. - [EPI:13.5]."
   ]
  },
  {
   "cell_type": "markdown",
   "id": "2a81124e",
   "metadata": {
    "hidden": true
   },
   "source": [
    "Consider the problem of desighning an online calendering application. One component of the desigh is to render the calendar, i.e., display it visually.\n",
    "\n",
    "Suppose each day consists of a number of events, where an event is specified as a begin time and end time. Individual events for a day are to be rendered as nonoverlapping rectangular regions whose sides are paraller to the X-axis and Y-axis. Let the X-axis correspond to time. If an event begins at time 'b' and ends at time 'e', the upper and lower sides of its corresponding rectangle must be at `b` and `e` respectively."
   ]
  },
  {
   "cell_type": "markdown",
   "id": "24b7a3c8",
   "metadata": {
    "hidden": true
   },
   "source": [
    "![Calender_Rendering_Events](../assets/sorting_calendar_rendering.png)"
   ]
  },
  {
   "cell_type": "markdown",
   "id": "4ac502dc",
   "metadata": {
    "hidden": true
   },
   "source": [
    "<b style=\"color:red\">If one event end and aonther event start at the same time, the two events considered two different and concurrent events.</b>"
   ]
  },
  {
   "cell_type": "markdown",
   "id": "d58d2b43",
   "metadata": {
    "hidden": true
   },
   "source": [
    "Write a algorithm that takes a set of events, and determines the maximum number of events that take place concurrently."
   ]
  },
  {
   "cell_type": "code",
   "execution_count": 20,
   "id": "5509db72",
   "metadata": {
    "hidden": true
   },
   "outputs": [],
   "source": [
    "# Event is a tuple (start_time, end_time)\n",
    "Event = namedtuple('Event', ('start', 'finish'))\n",
    "\n",
    "# Endpoint is a tuple (start_time, 0) or (end_time, 1) so that if times\n",
    "# are equal, start_time comes first\n",
    "Endpoint = namedtuple('Endpoint', ('time', 'is_start'))"
   ]
  },
  {
   "cell_type": "code",
   "execution_count": 21,
   "id": "cc1aa03c",
   "metadata": {
    "hidden": true
   },
   "outputs": [],
   "source": [
    "def find_max_simultaneous_events(A):\n",
    "\n",
    "    # Builds an array of all endpoints.\n",
    "    E = [\n",
    "        p for event in A\n",
    "        for p in (Endpoint(event.start, True), Endpoint(event.finish, False))\n",
    "    ]\n",
    "    \n",
    "    # Sorts the endpoint array according to the time, breaking ties by putting start times before end times.\n",
    "    E.sort(key=lambda e: (e.time, not e.is_start))\n",
    "\n",
    "    # Track the number of simultaneous events, record the maximum number of simultaneous events.\n",
    "    num_simultaneous_events, max_num_simultaneous_events = 0, 0\n",
    "    for e in E:\n",
    "        if e.is_start:\n",
    "            num_simultaneous_events += 1\n",
    "            max_num_simultaneous_events = max(num_simultaneous_events, max_num_simultaneous_events)\n",
    "        else:\n",
    "            num_simultaneous_events -= 1\n",
    "    \n",
    "    return max_num_simultaneous_events"
   ]
  },
  {
   "cell_type": "code",
   "execution_count": 22,
   "id": "181d501b",
   "metadata": {},
   "outputs": [],
   "source": [
    "def max_num_concurrent_event(A):\n",
    "    points = [p for (start, finish) in A for p in [(start, True), (finish, False)]]\n",
    "\n",
    "    points.sort(key=lambda point: (point[0], not point[1]))\n",
    "\n",
    "    num_concurrency = max_num_concurrency = 0\n",
    "\n",
    "    for point in points:\n",
    "        if point[1]: \n",
    "            num_concurrency += 1\n",
    "            max_num_concurrency = max(num_concurrency, max_num_concurrency)\n",
    "        else: num_concurrency -= 1\n",
    "\n",
    "    return max_num_concurrency"
   ]
  },
  {
   "cell_type": "code",
   "execution_count": 23,
   "id": "889dff4c",
   "metadata": {
    "code_folding": [],
    "hidden": true
   },
   "outputs": [],
   "source": [
    "def test_find_max_simultaneous_events():\n",
    "    test_cases = [\n",
    "        # Test Case 1: No events\n",
    "        ([], 0),\n",
    "\n",
    "        # Test Case 2: One event\n",
    "        ([Event(1, 5)], 1),\n",
    "\n",
    "        # Test Case 3: Non-overlapping events\n",
    "        ([Event(1, 3), Event(4, 6), Event(7, 9)], 1),\n",
    "\n",
    "        # Test Case 4: Multiple overlapping events\n",
    "        ([Event(1, 3), Event(2, 4), Event(3, 5)], 3),\n",
    "\n",
    "        # Test Case 5: Nested events\n",
    "        ([Event(1, 7), Event(2, 6), Event(3, 5), Event(4, 4)], 4),\n",
    "\n",
    "        # Test Case 6: Single long event\n",
    "        ([Event(1, 10)], 1),\n",
    "\n",
    "        # Test Case 7: Events starting and ending at the same time\n",
    "        ([Event(2, 2), Event(3, 3), Event(4, 4)], 1),\n",
    "\n",
    "        # Test Case 8: One events ending and another event starting at the same time.\n",
    "        ([Event(1, 5), Event(5, 9), Event(9, 10)], 2),\n",
    "    ]\n",
    "\n",
    "\n",
    "    for f in [max_num_concurrent_event, find_max_simultaneous_events]:\n",
    "        for i, (test_input, expected_output) in enumerate(test_cases, 1):\n",
    "\n",
    "            try:\n",
    "                returned = f(test_input)\n",
    "                assert returned == expected_output, f\"Input: {test_input}, Expected: {expected_output}, Returned: {returned}\"\n",
    "            except:\n",
    "                print(red(\"FAILED!!\"))\n",
    "                print(f\"\\tInput: {test_input}, \\n\\tExpected: {expected_output}, \\n\\tReturned: {returned}\")\n",
    "# ==========================================================\n",
    "\n",
    "test_find_max_simultaneous_events()"
   ]
  },
  {
   "cell_type": "markdown",
   "id": "69dfafdf",
   "metadata": {},
   "source": [
    "##### Min sized Intervals - [ChatGPT]"
   ]
  },
  {
   "cell_type": "markdown",
   "id": "2986189c",
   "metadata": {
    "heading_collapsed": true
   },
   "source": [
    "-   You are given a <b style=\"color:#4a8bcc\">list</b> of closed intervals to design an efficient algorithm for finding a minimum sized <b style=\"color:#4a8bcc\">set</b> of intervals that covers all the intervals.\n",
    "-   Compute the union of list of intervals"
   ]
  },
  {
   "cell_type": "code",
   "execution_count": 52,
   "id": "47084c77",
   "metadata": {
    "hidden": true
   },
   "outputs": [],
   "source": [
    "from collections import namedtuple\n",
    "interval = namedtuple('interval', ('left', 'right'))"
   ]
  },
  {
   "cell_type": "code",
   "execution_count": 53,
   "id": "a961eb0d",
   "metadata": {
    "hidden": true
   },
   "outputs": [],
   "source": [
    "def min_set_intervals(intervals):\n",
    "    intervals.sort(key=lambda interval:interval[0])\n",
    "    if not intervals: return\n",
    "    interval_set = [intervals[0]]\n",
    "    \n",
    "    for cur_item in intervals[1:]:\n",
    "        cur_interval = interval_set[-1]\n",
    "        if cur_item.left <= cur_interval.right:\n",
    "            cur_interval = interval(cur_interval.left, max(cur_interval.right, cur_item.right))\n",
    "            # interval_set[-1] = cur_interval\n",
    "            interval_set.pop()\n",
    "            interval_set.append(cur_interval)\n",
    "\n",
    "        else:\n",
    "            interval_set.append(cur_item)\n",
    "    \n",
    "    return [[item.left, item.right] for item in interval_set]"
   ]
  },
  {
   "cell_type": "code",
   "execution_count": 54,
   "id": "d6cea240",
   "metadata": {
    "code_folding": [],
    "hidden": true
   },
   "outputs": [],
   "source": [
    "def merge_intervals(intervals):\n",
    "\n",
    "    # cmp = lambda item: item[1] if item[0] == item[0] else item[0]\n",
    "    intervals = sorted(intervals)\n",
    "    res = []\n",
    "\n",
    "    for interval in intervals:\n",
    "        if res and interval[0] <= res[-1][1]:\n",
    "            res[-1][1] = max(interval[1], res[-1][1])\n",
    "#             res[-1][0] = min(interval[0], res[-1][0])\n",
    "        else:\n",
    "            res.append(interval)\n",
    "    return res"
   ]
  },
  {
   "cell_type": "code",
   "execution_count": 55,
   "id": "d2d0bd77",
   "metadata": {
    "hidden": true
   },
   "outputs": [
    {
     "name": "stdout",
     "output_type": "stream",
     "text": [
      "[[-10, 5], [6, 9], [10, 25], [26, 30]]\n",
      "[[-10, 5], [6, 9], [10, 25], [26, 30]]\n"
     ]
    }
   ],
   "source": [
    "def _test_min_set_intervals():\n",
    "    intervals = [[-2, -1], [2, 5], [1, 3], [6, 9], [10, 15], [20, 25], [-10, 2], [26,30], [15, 20]]\n",
    "    returned1 = min_set_intervals([interval(item[0], item[1]) for item in intervals])\n",
    "    returned2 = merge_intervals(intervals)\n",
    "    try:\n",
    "        assert returned1 == returned2\n",
    "        print(returned1, returned2, sep='\\n')\n",
    "    except:\n",
    "        print(returned1, returned2, sep='\\n')\n",
    "\n",
    "#=============================================================================\n",
    "_test_min_set_intervals()"
   ]
  },
  {
   "cell_type": "markdown",
   "id": "58bf4873",
   "metadata": {},
   "source": [
    "##### The Interval Covering Problem - [EPI-17.3 (greedy algo)]"
   ]
  },
  {
   "cell_type": "markdown",
   "id": "8de8db4a",
   "metadata": {},
   "source": [
    "Consider a foreman responsible for a number of tasks on the factory floor. Each task starts at a fixed time and ends at a fixed time. The foreman wants to visit the floor to check on the tasks. Your job is to help him minimize the number of visits he makes. In each visit, he can check on all the tasks taking place at the time of the visit. A visit takes place at a fixed time, and he can only check on tasks taking place at exactly that time.\n",
    "\n",
    "For example, if there are tasks at times `[[0, 3], [2, 6], [3, 4], [6, 9]]`, then visit times `[0, 2, 3, 6]` cover all tasks. A smaller set of visit times that also cover all tasks is `[3, 6]`. \n",
    "\n",
    "In the abstract, you are given a set of <b style=\"color:#4a8bcc\">closed</b> intervals to design an efficient algorithm for finding a minimum sized <b style=\"color:#4a8bcc\">set</b> of `numbers` that covers all the intervals.\n",
    "\n",
    "`Hint`: Think about extremal points."
   ]
  },
  {
   "cell_type": "markdown",
   "id": "8d5c5329",
   "metadata": {},
   "source": [
    "- After sorting the intervals, it takes somewhat similar to the following order.\n",
    "- The order of `right-side` is sorted in asscending order.\n",
    "```txt\n",
    "        [--------]\n",
    "[----------------]\n",
    "            [-----]\n",
    "            [--------]\n",
    "                       [-----]\n",
    "[----------------------------]\n",
    "                                [----]\n",
    "                                     [--------]\n",
    "                [---------------------------------]\n",
    "```"
   ]
  },
  {
   "cell_type": "code",
   "execution_count": 24,
   "id": "ffb2412c",
   "metadata": {},
   "outputs": [],
   "source": [
    "Interval = namedtuple('Interval', ('left', 'right'))\n",
    "\n",
    "def find_minimum_visits(intervals):\n",
    "\n",
    "    # Sort intervals based on the right endpoints.\n",
    "    # intervals.sort(key=operator.attrgetter('right'))\n",
    "    intervals.sort(key=lambda interval: interval.right)\n",
    "    last_visit_time, visits = float('-inf'), []\n",
    "    \n",
    "    for interval in intervals:\n",
    "        if last_visit_time < interval.left:\n",
    "            # The current right endpoint, last_visit_time, will not cover any more intervals.\n",
    "            last_visit_time = interval.right\n",
    "            visits.append(last_visit_time)\n",
    "\n",
    "        # else: (last_visit_time >= interval.left)\n",
    "            # since current interval overlap with last_visit_time it can also be observed at the same time - `last_visit_time`\n",
    "            # Certainly `last_visit_time` <= `interval.right` since `intervals` are sorted by `interval.right` \n",
    "\n",
    "    return visits"
   ]
  },
  {
   "cell_type": "code",
   "execution_count": 25,
   "id": "66ea11b3",
   "metadata": {},
   "outputs": [],
   "source": [
    "Interval = namedtuple('Interval', ('left', 'right'))\n",
    "\n",
    "def find_minimum_visits_v2(intervals):\n",
    "\n",
    "    # Sort intervals based on the right endpoints.\n",
    "    # intervals.sort(key=operator.attrgetter('right'))\n",
    "    intervals.sort(key=lambda interval: interval.right)\n",
    "    last_visit_time = intervals[0].right\n",
    "    visits = [last_visit_time]\n",
    "    \n",
    "    for interval in intervals[1:]:\n",
    "        if last_visit_time < interval.left:\n",
    "            # The current right endpoint, last_visit_time, will not cover any more intervals.\n",
    "            last_visit_time = interval.right\n",
    "            visits.append(last_visit_time)\n",
    "\n",
    "        # else: (last_visit_time >= interval.left)\n",
    "            # since current interval overlap with last_visit_time it can also be observed at the same time - `last_visit_time`\n",
    "            # `last_visit_time` certainly less then `interval.right` since `intervals` are sorted by `interval.right` \n",
    "\n",
    "    return visits"
   ]
  },
  {
   "cell_type": "markdown",
   "id": "9882b7eb",
   "metadata": {},
   "source": [
    "- **Sorting by Right Endpoint**: Sorting intervals by their right endpoint guarantees that when we select a visit time at the end of the current interval, we maximize the coverage of intervals with minimal overlap.\n",
    "- **Greedy Choice**: By always selecting the right endpoint of the interval as the visit time, the algorithm ensures that it covers the current interval and potentially as many subsequent intervals as possible.\n",
    "- **Efficient Coverage**: The algorithm efficiently covers all intervals with the minimum number of visits because it always makes the optimal local choice (selecting the earliest possible right endpoint)."
   ]
  },
  {
   "cell_type": "code",
   "execution_count": null,
   "id": "c6d306c5",
   "metadata": {},
   "outputs": [],
   "source": [
    "\n",
    "# Test cases\n",
    "test_cases = [\n",
    "    ([Interval(1, 5)], [5]),\n",
    "    ([Interval(1, 2), Interval(3, 4), Interval(5, 6)], [2,4,6]),\n",
    "    ([Interval(1, 10), Interval(2, 9), Interval(3, 8), Interval(4, 7)], [7]),\n",
    "    ([Interval(1, 3), Interval(2, 5), Interval(4, 7)], [3,7]),\n",
    "    ([Interval(1, 2), Interval(2, 3), Interval(3, 4)], [2,4]),\n",
    "    ([Interval(1, 10), Interval(2, 3), Interval(4, 5), Interval(6, 7), Interval(8, 9)], [3,5,7,9]),\n",
    "    ([Interval(1, 4), Interval(2, 6), Interval(5, 8), Interval(7, 9)], [4,8]),\n",
    "    ([Interval(1, 4), Interval(2, 4), Interval(3, 4)], [4])\n",
    "]\n",
    "\n",
    "for i, (intervals, expected) in enumerate(test_cases):\n",
    "    returned = find_minimum_visits(intervals)\n",
    "    try:\n",
    "        assert returned == expected\n",
    "    except AssertionError as e:\n",
    "        print(f\"Intervals: {intervals}\\n Returned: {returned}\\tExpected:{expected}\")\n",
    "        print(i)"
   ]
  },
  {
   "cell_type": "markdown",
   "id": "92ed3377",
   "metadata": {
    "heading_collapsed": true
   },
   "source": [
    "##### Merging <b style=\"color:#4a8bcc\">set</b> of <b style=\"color:#4a8bcc\">disjoint</b> intervals with a new interval. - [EPI:13.6]."
   ]
  },
  {
   "cell_type": "markdown",
   "id": "68c2459e",
   "metadata": {
    "hidden": true
   },
   "source": [
    "Write a program which takes as input an array of `disjoint` and `closed` intervals with interger endpoints, `sorted` by left endpoint in increasing order and an interval to be added, and returns the union of the intervals in the array and the added interval. Your result should be expressed as a union of disjoint intervals sorted by left endpoint.\n",
    "\n",
    "For example, if the initial set of intervals is `[[-4,-1], [0,2], [3,6], [7,9], [11,12], [14,17]]` and the added interval is `[1,8]`, the result is `[[-4,-1], [0,9], [11,12], [14,17]]`.\n",
    "\n",
    "-   **NOTE**: New Interval might be in reverse order! (e.g, [5, 1])"
   ]
  },
  {
   "cell_type": "markdown",
   "id": "97f530cb",
   "metadata": {},
   "source": [
    "-   `NOTES`:\n",
    "    -   for the first overlapping interval:\n",
    "        -   it check if `new_intervals[0] < current_interval[1]` in the `FIRST` while loop\n",
    "        -   if so, than it check if `new_intervals[1] < current_interval[0]` in `SECOND` while loop\n",
    "    - How the algorithm handles the case when new interval doesn't overlap at all?\n",
    "    - <b style=\"color:red\">Using the for loop is extreamly error prone</b>"
   ]
  },
  {
   "cell_type": "code",
   "execution_count": 34,
   "id": "0db8c295",
   "metadata": {
    "code_folding": [
     0
    ],
    "hidden": true
   },
   "outputs": [],
   "source": [
    "def add_interval_V1(disjoint_intervals, new_interval):\n",
    "\n",
    "    i, result = 0, []\n",
    "\n",
    "    # Processes intervals in disjoint_intervals which come before new_interval.\n",
    "    while (i < len(disjoint_intervals) and new_interval[0] > disjoint_intervals[i][1]):\n",
    "        result.append(disjoint_intervals[i])\n",
    "        i += 1\n",
    "\n",
    "    # Processes intervals in disjoint_intervals which overlap with new_interval.\n",
    "    while (i < len(disjoint_intervals) and new_interval[1] >= disjoint_intervals[i][0]):\n",
    "    \n",
    "        # If [a, b] and [c, d] overlap, union is [min(a, c), max(b, d)].\n",
    "        new_interval = (\n",
    "            min(new_interval[0], disjoint_intervals[i][0]),\n",
    "            max(new_interval[1], disjoint_intervals[i][1])\n",
    "        )\n",
    "        i += 1\n",
    "    \n",
    "    # Processes intervals in disjoint_intervals which come after new_interval.\n",
    "    return result + [new_interval] + disjoint_intervals[i:]"
   ]
  },
  {
   "cell_type": "code",
   "execution_count": 35,
   "id": "92c4ffad",
   "metadata": {},
   "outputs": [],
   "source": [
    "# Incorrect Algorithm !!!!!!!!!!!!!!!\n",
    "def add_interval_v2(disjoint_intervals, new_interval):\n",
    "\n",
    "    idx, result = 0, []\n",
    "\n",
    "    # Processes intervals in disjoint_intervals which come before new_interval.\n",
    "    while (idx < len(disjoint_intervals) and new_interval[0] > disjoint_intervals[idx][1]):\n",
    "        result.append(disjoint_intervals[idx])\n",
    "        idx += 1\n",
    "\n",
    "    ############ INCORRECT PART ########################\n",
    "    new_interval = (\n",
    "        min(new_interval[0], disjoint_intervals[idx][0]),\n",
    "        max(new_interval[1], disjoint_intervals[idx][1])\n",
    "    )\n",
    "    idx =+ 1\n",
    "    #####################################################\n",
    "\n",
    "    # Processes intervals in disjoint_intervals which overlap with new_interval.\n",
    "    while (idx < len(disjoint_intervals) and new_interval[1] >= disjoint_intervals[idx][0]):\n",
    "    \n",
    "        # If [a, b] and [c, d] overlap, union is [min(a, c), max(b, d)].\n",
    "        new_interval = (\n",
    "            min(new_interval[0], disjoint_intervals[idx][0]),\n",
    "            max(new_interval[1], disjoint_intervals[idx][1])\n",
    "        )\n",
    "        idx += 1\n",
    "    \n",
    "    # Processes intervals in disjoint_intervals which come after new_interval.\n",
    "    return result + [new_interval] + disjoint_intervals[idx:]"
   ]
  },
  {
   "cell_type": "markdown",
   "id": "6ced94f4",
   "metadata": {
    "hidden": true
   },
   "source": [
    "- ChatGPT"
   ]
  },
  {
   "cell_type": "code",
   "execution_count": 40,
   "id": "4a078936",
   "metadata": {
    "code_folding": [
     0
    ],
    "hidden": true
   },
   "outputs": [],
   "source": [
    "def insert_interval_v1(intervals, new_interval):\n",
    "    idx = 0\n",
    "    partial_intervals = []\n",
    "    while idx < len(intervals) and intervals[idx][1] < new_interval[0]:\n",
    "        partial_intervals.append(intervals[idx])\n",
    "        idx += 1\n",
    "    \n",
    "    while idx < len(intervals) and intervals[idx][0] <= new_interval[1]:\n",
    "        new_interval = (\n",
    "            min(intervals[idx][0], new_interval[0]), \n",
    "            max(intervals[idx][1], new_interval[1])\n",
    "        )\n",
    "        idx += 1\n",
    "    \n",
    "    return partial_intervals + [new_interval] + intervals[idx:]"
   ]
  },
  {
   "cell_type": "code",
   "execution_count": 41,
   "id": "39488db2",
   "metadata": {
    "code_folding": [
     0
    ],
    "hidden": true
   },
   "outputs": [],
   "source": [
    "def insert_interval_v2(intervals: list[tuple], new_interval: tuple):\n",
    "    merged_intervals = []\n",
    "\n",
    "    for idx, (left, right) in enumerate(intervals):\n",
    "        if right >= new_interval[0]: break\n",
    "        merged_intervals.append((left, right))\n",
    "        if idx == len(intervals) - 1: idx += 1\n",
    "\n",
    "    for idx, (left, right) in enumerate(intervals[idx:], idx):\n",
    "        if left > new_interval[1]: break\n",
    "        new_interval = (min(left, new_interval[0]), max(right, new_interval[1]))\n",
    "        if idx == len(intervals) - 1: idx += 1\n",
    "\n",
    "    return merged_intervals + [new_interval] + intervals[idx:]"
   ]
  },
  {
   "cell_type": "code",
   "execution_count": 43,
   "id": "42fbff1a",
   "metadata": {},
   "outputs": [],
   "source": [
    "# Incorrect Algorithm\n",
    "def insert_interval_v3(intervals: list[tuple], new_interval: tuple):\n",
    "    merged_intervals = []\n",
    "\n",
    "    for idx, (left, right) in enumerate(intervals):\n",
    "        if right >= new_interval[0]: break\n",
    "        merged_intervals.append((left, right))\n",
    "\n",
    "    for idx, (left, right) in enumerate(intervals[idx:], idx):\n",
    "        if left > new_interval[1]: break\n",
    "        new_interval = (min(left, new_interval[0]), max(right, new_interval[1]))\n",
    "\n",
    "    tem_inv = [new_interval] + intervals[idx:] if idx < len(intervals)-1 else [new_interval]\n",
    "\n",
    "    return merged_intervals + tem_inv"
   ]
  },
  {
   "cell_type": "code",
   "execution_count": 48,
   "id": "9800662f",
   "metadata": {
    "code_folding": [
     0,
     32
    ],
    "hidden": true
   },
   "outputs": [
    {
     "name": "stdout",
     "output_type": "stream",
     "text": [
      "insert_interval_v3(([(1, 3), (6, 9)], (10, 12)))\n",
      "\tExpected: [(1, 3), (6, 9), (10, 12)]\n",
      "\tReturned: [(1, 3), (6, 9), (6, 12)]\n",
      "============================================================\n",
      "insert_interval_v3(([(1, 3), (6, 9)], (2, 5)))\n",
      "\tExpected: [(1, 5), (6, 9)]\n",
      "\tReturned: [(1, 5)]\n",
      "============================================================\n"
     ]
    }
   ],
   "source": [
    "test_cases = [\n",
    "    # Test Case 1: New interval completely before existing intervals\n",
    "    [   # List of intervals\n",
    "        [(1, 3), (6, 9)],\n",
    "        (-1, 0)  # New interval\n",
    "    ],\n",
    "    \n",
    "    # Test Case 2: New interval completely after existing intervals\n",
    "    [   # List of intervals\n",
    "        [(1, 3), (6, 9)],\n",
    "        (10, 12)  # New interval\n",
    "    ],\n",
    "    \n",
    "    # Test Case 3: New interval overlapping with existing intervals\n",
    "    [   # List of intervals\n",
    "        [(1, 3), (6, 9)],\n",
    "        (2, 7)  # New interval\n",
    "    ],\n",
    "    \n",
    "    # Test Case 4: New interval merging with one existing interval\n",
    "    [   # List of intervals\n",
    "        [(1, 3), (6, 9)],\n",
    "        (2, 5)  # New interval\n",
    "    ],\n",
    "    \n",
    "    # Test Case 5: New interval covers all existing intervals\n",
    "    [   # List of intervals\n",
    "        [(1, 3), (6, 9)],\n",
    "        (0, 10)  # New interval\n",
    "    ],\n",
    "\n",
    "]\n",
    "\n",
    "expecteds = [\n",
    "    # Expected outcome for Test Case 1\n",
    "    [(-1, 0), (1, 3), (6, 9)],\n",
    "    \n",
    "    # Expected outcome for Test Case 2\n",
    "    [(1, 3), (6, 9), (10, 12)],\n",
    "    \n",
    "    # Expected outcome for Test Case 3\n",
    "    [(1, 9)],\n",
    "    \n",
    "    # Expected outcome for Test Case 4\n",
    "    [(1, 5), (6, 9)],\n",
    "\n",
    "    # Expected outcome for Test Case 5\n",
    "    [(0, 10)]\n",
    "]\n",
    "\n",
    "# =========================================================================\n",
    "def test_insert_interval():\n",
    "    funcs = [add_interval_V1, insert_interval_v1, insert_interval_v2, insert_interval_v3] #+ [add_interval_v2]\n",
    "    for func in funcs:\n",
    "        for [intervals, new_interval], expected in zip(test_cases, expecteds):\n",
    "            try:\n",
    "                returned1 = func(intervals, new_interval)\n",
    "                # returned2 = add_interval(intervals, new_interval)\n",
    "                assert expected == returned1\n",
    "                # print(test_case, expected, \"===\"*20, sep=\"\\n\")\n",
    "            except AssertionError:\n",
    "                print(\n",
    "                    f\"{func.__name__}({intervals, new_interval})\",\n",
    "                    f\"\\tExpected: {expected}\",\n",
    "                    f\"\\tReturned: {returned1}\",\n",
    "                    \"===\"*20, sep=\"\\n\"\n",
    "                )\n",
    "# =========================================================================\n",
    "\n",
    "test_insert_interval()"
   ]
  },
  {
   "cell_type": "markdown",
   "id": "dc7a3e00",
   "metadata": {
    "heading_collapsed": true
   },
   "source": [
    "##### Compute the union of open `and`/`or` closed intervals. - [EPI:13.7]."
   ]
  },
  {
   "cell_type": "markdown",
   "id": "7dc47a51",
   "metadata": {
    "hidden": true
   },
   "source": [
    "We consider sets of intervals with integer endpoints; the intervals may be <b style=\"color:#4a8bcc\">open / closed</b> at either end. We want to compute the union of the intervals in such sets.\n",
    "\n",
    "Design an algorithm that takes as input a set of intervals, and outputs their <b style=\"color:#4a8bcc\">union</b> expressed as a set of <b style=\"color:#4a8bcc\">disjoint</b> intervals."
   ]
  },
  {
   "cell_type": "code",
   "execution_count": 28,
   "id": "a11bf521",
   "metadata": {
    "hidden": true
   },
   "outputs": [
    {
     "name": "stdout",
     "output_type": "stream",
     "text": [
      "True 1 True 3\n",
      "Endpoint(is_closed=True, val=1) Endpoint(is_closed=True, val=3)\n"
     ]
    }
   ],
   "source": [
    "Endpoint = namedtuple('Endpoint', ('is_closed', 'val'))\n",
    "Interval = namedtuple('Interval', ('left', 'right'))\n",
    "# =====================================================================\n",
    "inval = Interval(Endpoint(True, 1), Endpoint(True, 3))\n",
    "(is_left_closed, left_val), (is_rifht_closed, right_val) = inval\n",
    "left, right = inval\n",
    "\n",
    "print(is_left_closed, left_val, is_rifht_closed, right_val)\n",
    "print(left, right)\n",
    "\n",
    "## YOU CAN'T SET THE VALUES !!!!!!!!!!\n",
    "# left.is_closed = False\n",
    "# right.val = 300"
   ]
  },
  {
   "cell_type": "markdown",
   "id": "0316473e",
   "metadata": {
    "hidden": true
   },
   "source": [
    "- **Version 1**:"
   ]
  },
  {
   "cell_type": "code",
   "execution_count": null,
   "id": "a2263635",
   "metadata": {
    "code_folding": [],
    "hidden": true
   },
   "outputs": [],
   "source": [
    "def union_of_intervals(intervals):\n",
    "\n",
    "    # Empty input.\n",
    "    if not intervals: return []\n",
    "\n",
    "    # Sort intervals according to left endpoints of intervals.\n",
    "    intervals.sort(key=lambda i: (i.left.val, not i.left.is_closed))\n",
    "    \n",
    "    result = [intervals[0]]\n",
    "\n",
    "    for i in intervals[1:]:\n",
    "        if (i.left.val < result[-1].right.val or (i.left.val == result[-1].right.val and (i.left.is_closed or result[-1].right.is_closed))):\n",
    "            if (i.right.val > result[-1].right.val or (i.right.val == result[-1].right.val and i.right.is_closed)):\n",
    "                result[-1] = Interval(result[-1].left, i.right)\n",
    "        else:\n",
    "            result.append(i)\n",
    "    \n",
    "    return result"
   ]
  },
  {
   "cell_type": "markdown",
   "id": "7b2398ab",
   "metadata": {
    "hidden": true
   },
   "source": [
    "- **Verion-2**: Incorrect Algorithm\n",
    "\n",
    "    - Why this is incorrect algorithm ???\n",
    "    - **Implementation-1** is working because of having **nested if clause**!!"
   ]
  },
  {
   "cell_type": "code",
   "execution_count": null,
   "id": "d6d6f6b7",
   "metadata": {
    "code_folding": [],
    "hidden": true
   },
   "outputs": [],
   "source": [
    "def is_overlaped(first, second) -> bool:\n",
    "    if (first.left.val < second.right.val or \n",
    "        (first.left.val == second.right.val and \n",
    "         (first.left.is_closed or second.right.is_closed))):\n",
    "        \n",
    "        return (first.right.val > second.right.val\n",
    "                or (first.right.val == second.right.val\n",
    "                    and first.right.is_closed))\n",
    "    return False\n",
    "\n",
    "### Incorrect Algorithm\n",
    "def union_of_intervals_v2(intervals):\n",
    "\n",
    "    # Empty input.\n",
    "    if not intervals: return []\n",
    "\n",
    "    # Sort intervals according to left endpoints of intervals.\n",
    "    intervals.sort(key=lambda i: (i.left.val, not i.left.is_closed))\n",
    "    result = []\n",
    "    \n",
    "    for i in intervals:\n",
    "        if result and is_overlaped(i, result[-1]):\n",
    "            result[-1] = Interval(result[-1].left, i.right)\n",
    "        else:\n",
    "            result.append(i)\n",
    "    \n",
    "    return result"
   ]
  },
  {
   "cell_type": "code",
   "execution_count": null,
   "id": "5ffe9a4e",
   "metadata": {
    "code_folding": [
     0
    ],
    "hidden": true
   },
   "outputs": [],
   "source": [
    "L = [\n",
    "    [[1, True, False, 3], [3, False, True, 4], [4, False, True, 5]], [[1, True, False, 3], [3, False, True, 5]],\n",
    "]"
   ]
  },
  {
   "cell_type": "code",
   "execution_count": null,
   "id": "7ec191e1",
   "metadata": {
    "code_folding": [],
    "hidden": true
   },
   "outputs": [],
   "source": [
    "test_case_and_expected = [\n",
    "    # - Case with non-overlapping intervals:\n",
    "    [[Interval(Endpoint(True, 1), Endpoint(True, 3)), Interval(Endpoint(False, 4), Endpoint(True, 6))], [Interval(Endpoint(True, 1), Endpoint(True, 3)), Interval(Endpoint(False, 4), Endpoint(True, 6))]], \n",
    "    \n",
    "    # - Case with overlapping intervals:\n",
    "    [[Interval(Endpoint(True, 1), Endpoint(True, 3)), Interval(Endpoint(False, 2), Endpoint(True, 4))], [Interval(Endpoint(True, 1), Endpoint(True, 4))]],\n",
    "    \n",
    "    # - Case with repeated open and closed intervals\n",
    "    [[Interval(Endpoint(True, 1), Endpoint(False, 3)), Interval(Endpoint(True, 1), Endpoint(True, 3))], [Interval(Endpoint(True, 1), Endpoint(True, 3))]],\n",
    "    \n",
    "    # - Case with repeated closed and closed intervals\n",
    "    [[Interval(Endpoint(True, 1), Endpoint(True, 3)), Interval(Endpoint(True, 1), Endpoint(True, 3))], [Interval(Endpoint(True, 1), Endpoint(True, 3))]],\n",
    "    \n",
    "    # - Case with open intervals:\n",
    "    [[Interval(Endpoint(False, 1), Endpoint(False, 3)), Interval(Endpoint(False, 3), Endpoint(False, 6))], [Interval(Endpoint(False, 1), Endpoint(False, 3)), Interval(Endpoint(False, 3), Endpoint(False, 6))]], \n",
    "    \n",
    "    # - Case with multiple intervals to merge:\n",
    "    [[Interval(Endpoint(True, 1), Endpoint(True, 3)), Interval(Endpoint(False, 2), Endpoint(True, 4)), Interval(Endpoint(True, 5), Endpoint(True, 7))], [Interval(Endpoint(True, 1), Endpoint(True, 4)), Interval(Endpoint(True, 5), Endpoint(True, 7))]], \n",
    "    \n",
    "    # - Case with single interval:\n",
    "    [[Interval(Endpoint(True, 1), Endpoint(True, 3))], [Interval(Endpoint(True, 1), Endpoint(True, 3))]], \n",
    "    \n",
    "    # - Case with an empty input list:\n",
    "    [[], []], \n",
    "    \n",
    "    # - Case with duplicate intervals:\n",
    "    [[Interval(Endpoint(True, 1), Endpoint(True, 3)), Interval(Endpoint(True, 1), Endpoint(True, 3)), Interval(Endpoint(True, 1), Endpoint(False, 3))], [Interval(Endpoint(True, 1), Endpoint(True, 3))]]\n",
    "]"
   ]
  },
  {
   "cell_type": "code",
   "execution_count": null,
   "id": "40e1348d",
   "metadata": {
    "code_folding": [
     0
    ],
    "hidden": true
   },
   "outputs": [],
   "source": [
    "def test_union_of_intervals(union_of_intervals):\n",
    "\n",
    "    for i, (test_case, expected) in enumerate(test_case_and_expected):\n",
    "        #print(test_case, expected, \"===\"*20, sep=\"\\n\")\n",
    "        try:\n",
    "            returned = union_of_intervals(test_case)\n",
    "            assert expected == returned\n",
    "            # print(test_case, expected, \"===\"*20, sep=\"\\n\")\n",
    "        except AssertionError:\n",
    "            print(red(\"FAILED\"))\n",
    "            print(test_case, expected, returned, \"===\"*20, sep=\"\\n\")\n",
    "            print(i)\n",
    "# =========================================================================\n",
    "\n",
    "test_union_of_intervals(union_of_intervals)"
   ]
  },
  {
   "cell_type": "markdown",
   "id": "085169ff",
   "metadata": {
    "hidden": true
   },
   "source": [
    "------\n",
    "------"
   ]
  },
  {
   "cell_type": "code",
   "execution_count": null,
   "id": "997529df",
   "metadata": {
    "code_folding": [],
    "hidden": true
   },
   "outputs": [],
   "source": [
    "## NOT TESTED !!\n",
    "def union_of_intervals(intervals):\n",
    "    if not intervals: return []\n",
    "\n",
    "    intervals.sort(key=lambda i: (i[0][1], not i[0][0]))\n",
    "    \n",
    "    merged_intervals = [intervals[0]]\n",
    "    \n",
    "    for interval in intervals:\n",
    "        prev_interval = merged_intervals[-1]\n",
    "        \n",
    "        if interval[0][1] < prev_interval[1][1] or (interval[0][1] == prev_interval[1][1] and (interval[0][0] or prev_interval[1][0])):\n",
    "            if interval[1][1] > prev_interval[1][1] or (interval[1][1] == prev_interval[1][1] and interval[1][0]):\n",
    "                merged_intervals[-1] = (prev_interval[0], interval[1])\n",
    "        else:\n",
    "            merged_intervals.append(interval)\n",
    "    \n",
    "    return merged_intervals\n"
   ]
  },
  {
   "cell_type": "markdown",
   "id": "55b649ba",
   "metadata": {
    "heading_collapsed": true,
    "hidden": true
   },
   "source": [
    "###### Compute the union of  closed intervals. - [Easier variant of EPI:13.8]."
   ]
  },
  {
   "cell_type": "markdown",
   "id": "9603c672",
   "metadata": {
    "hidden": true
   },
   "source": [
    "- Note: **Endpoints of all the given intervals are closed**"
   ]
  },
  {
   "cell_type": "code",
   "execution_count": null,
   "id": "1b2a7459",
   "metadata": {
    "code_folding": [],
    "hidden": true
   },
   "outputs": [],
   "source": [
    "def merge_intervals(intervals):\n",
    "    if not intervals: return []\n",
    "\n",
    "    # Sort the intervals based on their start values.\n",
    "    intervals.sort(key=lambda x: x[0])\n",
    "\n",
    "    merged_intervals = [intervals[0]]\n",
    "\n",
    "    for i in range(1, len(intervals)):\n",
    "        current_interval = intervals[i]\n",
    "        previous_interval = merged_intervals[-1]\n",
    "\n",
    "        if current_interval[0] <= previous_interval[1]:\n",
    "            # Overlapping intervals; merge them.\n",
    "            previous_interval[1] = max(previous_interval[1], current_interval[1])\n",
    "        else:\n",
    "            # Non-overlapping interval; add it to the merged_intervals.\n",
    "            merged_intervals.append(current_interval)\n",
    "\n",
    "    return merged_intervals"
   ]
  },
  {
   "cell_type": "code",
   "execution_count": null,
   "id": "1c82343d",
   "metadata": {
    "code_folding": [
     0
    ],
    "hidden": true
   },
   "outputs": [],
   "source": [
    "def merge_intervals(intervals):\n",
    "    if not intervals: return []\n",
    "\n",
    "    # Sort the intervals based on their start values.\n",
    "    intervals.sort(key=lambda x: x[0])\n",
    "\n",
    "    merged_intervals = [intervals[0]]\n",
    "\n",
    "    for current_interval in intervals[1:]:\n",
    "        previous_interval = merged_intervals[-1]\n",
    "\n",
    "        if current_interval[0] <= previous_interval[1]:\n",
    "            # Overlapping intervals; merge them.\n",
    "            previous_interval[1] = max(previous_interval[1], current_interval[1])\n",
    "        else:\n",
    "            # Non-overlapping interval; add it to the merged_intervals.\n",
    "            merged_intervals.append(current_interval)\n",
    "\n",
    "    return merged_intervals"
   ]
  },
  {
   "cell_type": "code",
   "execution_count": null,
   "id": "323d9cac",
   "metadata": {
    "code_folding": [],
    "hidden": true
   },
   "outputs": [],
   "source": [
    "def test_merge_intervals():\n",
    "    test_cases = [[[1, 3], [5, 7], [9, 11]], [[1, 5], [4, 9], [8, 12]], [[1, 3], [2, 5], [7, 8], [10, 12], [13, 15]], [[3, 8]], [], [[1, 5], [5, 8], [9, 12], [12, 15], [17, 20]], [[-5, -2], [-4, 0], [2, 4], [5, 9]], [[-5, 0], [-4, 1], [0, 3], [2, 5]], [[2, 8], [3, 7], [1, 9]], [[1, 5], [3, 8], [8, 10], [11, 15]], [[1, 3], [3, 5], [5, 7]], [[1, 2], [2, 3], [3, 4]], [[1, 3]], [[2, 4], [6, 9], [3, 7], [10, 12], [1, 5]], [[1, 5], [5, 9], [9, 13]], [[1, 5], [5, 9], [9, 13], [13, 17]]]\n",
    "    expecteds = [[[1, 3], [5, 7], [9, 11]], [[1, 9], [8, 12]], [[1, 5], [7, 8], [10, 12], [13, 15]], [[3, 8]], [], [[1, 8], [9, 15], [17, 20]], [[-5, 0], [2, 4], [5, 9]], [[-5, 5]], [[1, 9]], [[1, 10], [11, 15]], [[1, 7]], [[1, 4]], [[1, 3]], [[1, 9], [10, 12]], [[1, 13]], [[1, 17]]]\n",
    "\n",
    "    for test_case, expected in zip(test_cases, expecteds):\n",
    "        try:\n",
    "            returned = merge_intervals(test_case)\n",
    "            assert expected == returned\n",
    "            # print(test_case, expected, \"===\"*20, sep=\"\\n\")\n",
    "        except AssertionError:\n",
    "            print(test_case, expected, returned, \"===\"*20, sep=\"\\n\")\n",
    "\n",
    "# =========================================================================\n",
    "test_merge_intervals()"
   ]
  },
  {
   "cell_type": "code",
   "execution_count": null,
   "id": "d6bdcc9e",
   "metadata": {},
   "outputs": [],
   "source": []
  },
  {
   "cell_type": "markdown",
   "id": "16335052",
   "metadata": {
    "heading_collapsed": true
   },
   "source": [
    "##### Partitioning and sorting an array with many repeated entries. - [EPI:13.8]."
   ]
  },
  {
   "cell_type": "markdown",
   "id": "ba5457bd",
   "metadata": {
    "hidden": true
   },
   "source": [
    "You'r given an array of student objects `students`. Each student has an integer-valued `age` field that is to be treated as key. Rearrange the elements of the array so that students of equal age appear together. The order in which different age appear is not important.\n",
    "\n",
    "How would your solution change if ages have to appear in sorted order?"
   ]
  },
  {
   "cell_type": "markdown",
   "id": "191bd1fb",
   "metadata": {
    "hidden": true
   },
   "source": [
    "- **ChatGPT**:"
   ]
  },
  {
   "cell_type": "code",
   "execution_count": null,
   "id": "bfb3541f",
   "metadata": {
    "code_folding": [],
    "hidden": true
   },
   "outputs": [],
   "source": [
    "from collections import defaultdict\n",
    "\n",
    "# class Student:\n",
    "#     def __init__(self, name, age):\n",
    "#         self.name = name\n",
    "#         self.age = age\n",
    "\n",
    "Student = namedtuple('Student', ('age', 'name'))\n",
    "\n",
    "        \n",
    "def rearrange_students_by_age(students):\n",
    "    # Create a dictionary to group students by age\n",
    "    age_groups = defaultdict(list)\n",
    "\n",
    "    # Group students by age\n",
    "    for student in students:\n",
    "        age_groups[student.age].append(student)\n",
    "\n",
    "    # Flatten the dictionary values to get the rearranged list of students\n",
    "    rearranged_students = [student for age_group in age_groups.values() for student in age_group]\n",
    "\n",
    "    return rearranged_students"
   ]
  },
  {
   "cell_type": "markdown",
   "id": "da3bedd8",
   "metadata": {
    "hidden": true
   },
   "source": [
    "- Time complexity: $O(n)$\n",
    "- Space complexity: $O(m)$; $O(n)$ in case of all different ages"
   ]
  },
  {
   "cell_type": "code",
   "execution_count": null,
   "id": "2905f44d",
   "metadata": {
    "hidden": true
   },
   "outputs": [],
   "source": [
    "# Example usage:\n",
    "students = [\n",
    "    Student(20, \"Alice\"),\n",
    "    Student(22, \"Bob\"),\n",
    "    Student(20, \"Charlie\"),\n",
    "    Student(22, \"David\"),\n",
    "    Student(21, \"Eve\"),\n",
    "    Student(20, \"Frank\"),\n",
    "]\n",
    "\n",
    "rearranged_students = rearrange_students_by_age(students)\n",
    "\n",
    "# Display the rearranged students\n",
    "for student in rearranged_students:\n",
    "    print(f\"{student.name}, Age: {student.age}\")"
   ]
  },
  {
   "cell_type": "markdown",
   "id": "268c9935",
   "metadata": {
    "hidden": true
   },
   "source": [
    "- **EPI**: Too Complecated!"
   ]
  },
  {
   "cell_type": "code",
   "execution_count": null,
   "id": "0faa831b",
   "metadata": {
    "code_folding": [],
    "hidden": true
   },
   "outputs": [],
   "source": [
    "Person = namedtuple('Person', ('age', 'name'))\n",
    "\n",
    "\n",
    "def group_by_age(people):\n",
    "\n",
    "    age_to_count = Counter((person.age for person in people))\n",
    "    age_to_offset, offset = {}, 0\n",
    "    \n",
    "    for age, count in age_to_count.items():\n",
    "        age_to_offset[age] = offset\n",
    "        offset += count\n",
    "\n",
    "    while age_to_offset:\n",
    "        from_age = next(iter(age_to_offset))\n",
    "        from_idx = age_to_offset[from_age]\n",
    "        to_age = people[from_idx].age\n",
    "        to_idx = age_to_offset[people[from_idx].age]\n",
    "        people[from_idx], people[to_idx] = people[to_idx], people[from_idx]\n",
    "        \n",
    "        # Use age_to_count to see when we are finished with a particular age.\n",
    "        age_to_count[to_age] -= 1\n",
    "        if age_to_count[to_age]: age_to_offset[to_age] = to_idx + 1\n",
    "        else: del age_to_offset[to_age]\n"
   ]
  },
  {
   "cell_type": "markdown",
   "id": "62d883e1",
   "metadata": {
    "hidden": true
   },
   "source": [
    "The time complesity is $O(n)$, since the first pass entails n hash table inserts, and the second pass spends $O(1)$ time to move one element to its proper location. the additional space complesity is dictated by the hash table, i.e., $O(m)$, where 'm' is the number of distince ages. When all the ages are different the space complexity is $O(n)$"
   ]
  },
  {
   "cell_type": "code",
   "execution_count": null,
   "id": "ab14d915",
   "metadata": {
    "hidden": true
   },
   "outputs": [],
   "source": [
    "# Example usage:\n",
    "students = [\n",
    "    Student(20, \"Alice\"),\n",
    "    Student(22, \"Bob\"),\n",
    "    Student(20, \"Charlie\"),\n",
    "    Student(22, \"David\"),\n",
    "    Student(21, \"Eve\"),\n",
    "    Student(20, \"Frank\"),\n",
    "]\n",
    "\n",
    "rearranged_students = group_by_age(students)\n",
    "\n",
    "# Display the rearranged students\n",
    "for student in students:\n",
    "    print(f\"{student.name}, Age: {student.age}\")"
   ]
  },
  {
   "cell_type": "markdown",
   "id": "f32cdffb",
   "metadata": {
    "heading_collapsed": true,
    "hidden": true,
    "jp-MarkdownHeadingCollapsed": true
   },
   "source": [
    "###### Group Anagram - [CtCI: 11.2]."
   ]
  },
  {
   "cell_type": "markdown",
   "id": "533f8a77",
   "metadata": {
    "hidden": true
   },
   "source": [
    "Write a method to sort an array of strings so that all the anagrams are next to each other - "
   ]
  },
  {
   "cell_type": "code",
   "execution_count": null,
   "id": "6bb4e56e",
   "metadata": {
    "hidden": true
   },
   "outputs": [],
   "source": [
    "\n",
    "def find_anagrams(dictionary: List[str]) -> List[List[str]]:\n",
    "\n",
    "    sorted_string_to_anagrams: DefaultDict[str, List[str]] = defaultdict(list)\n",
    "    for s in dictionary:\n",
    "        # Sorts the string, uses it as a key, and then appends the original\n",
    "        # string as another value into hash table.\n",
    "        sorted_string_to_anagrams[''.join(sorted(s))].append(s)\n",
    "\n",
    "    return sorted_string_to_anagrams.values()"
   ]
  },
  {
   "cell_type": "code",
   "execution_count": null,
   "id": "d5d42990",
   "metadata": {
    "hidden": true
   },
   "outputs": [],
   "source": [
    "L = [\"eat\",\"tea\",\"tan\",\"ate\",\"nat\",\"bat\"]\n",
    "print(list(find_anagrams(L)))"
   ]
  },
  {
   "cell_type": "markdown",
   "id": "4ba47ac4",
   "metadata": {
    "hidden": true
   },
   "source": [
    "- [LeetCode: Group Anagram](https://leetcode.com/problems/group-anagrams/)"
   ]
  },
  {
   "cell_type": "markdown",
   "id": "8c275166",
   "metadata": {
    "hidden": true
   },
   "source": [
    "Given an array of strings strs, group the anagrams together. You can return the answer in any order.\n",
    "\n",
    "An Anagram is a word or phrase formed by rearranging the letters of a different word or phrase, typically using all the original letters exactly once.\n",
    "\n",
    " \n",
    "\n",
    "Example 1:\n",
    "\n",
    "Input: strs = [\"eat\",\"tea\",\"tan\",\"ate\",\"nat\",\"bat\"]\n",
    "Output: [[\"bat\"],[\"nat\",\"tan\"],[\"ate\",\"eat\",\"tea\"]]\n",
    "Example 2:\n",
    "\n",
    "Input: strs = [\"\"]\n",
    "Output: [[\"\"]]\n",
    "Example 3:\n",
    "\n",
    "Input: strs = [\"a\"]\n",
    "Output: [[\"a\"]]\n",
    " \n",
    "\n",
    "Constraints:\n",
    "\n",
    "1 <= strs.length <= 104\n",
    "0 <= strs[i].length <= 100\n",
    "strs[i] consists of lowercase English letters."
   ]
  },
  {
   "cell_type": "code",
   "execution_count": null,
   "id": "73ed77e4",
   "metadata": {
    "hidden": true
   },
   "outputs": [],
   "source": [
    "def group_anagrams(strs: List[str]) -> List[List[str]]:\n",
    "    ans = collections.defaultdict(list)\n",
    "\n",
    "    for s in strs:\n",
    "        count = [0] * 26\n",
    "        for c in s:\n",
    "            count[ord(c) - ord('a')] += 1\n",
    "        ans[tuple(count)].append(s)\n",
    "    return ans.values()"
   ]
  },
  {
   "cell_type": "markdown",
   "id": "ec27a94e",
   "metadata": {
    "heading_collapsed": true,
    "jp-MarkdownHeadingCollapsed": true
   },
   "source": [
    "##### Team photo day - 1. - [EPI:13.9]."
   ]
  },
  {
   "cell_type": "markdown",
   "id": "da7e237f",
   "metadata": {
    "hidden": true
   },
   "source": [
    "You are a photographer for a soccer meet. You will be taking pictures of pairs of opposing terams. All teams have the same number of players. A team photo consists of a front row of players and a back row of players. A player in the back row must be taller than the player in front of him. All players in a row must be from the same team.\n",
    "\n",
    "Design an algorithm that takes as input two teams and the heights of the players in the teams and checks if it is possible to place players to take the photo subject to the placement constraint."
   ]
  },
  {
   "cell_type": "code",
   "execution_count": null,
   "id": "41fb4495",
   "metadata": {
    "hidden": true
   },
   "outputs": [],
   "source": [
    "class Team:\n",
    "    Player = namedtuple('Player', ('height'))\n",
    "\n",
    "    def __init__(self, height):\n",
    "        self._players = [Team.Player(h) for h in height]\n",
    "\n",
    "    # Checks if team0 can be placed in front of team1.\n",
    "    @staticmethod\n",
    "    def valid_placement_exists(team0, team1):\n",
    "        t1 = sorted(team0._players)\n",
    "        t2 = sorted(team1._players)\n",
    "        return all(a < b for a, b in zip(t1, t1))\n",
    "\n",
    "# NOT IMPLEMENTED PROPERLY !!\n",
    "def _test_team():\n",
    "    for _ in range(1000):\n",
    "        T1_height = [randrange(60, 70) for _ in range(11)]\n",
    "        T2_height = [randrange(70, 80) for _ in range(11)]\n",
    "        team1 = Team(T1_height)\n",
    "        team2 = Team(T2_height)\n",
    "        is_possible = Team.valid_placement_exists(team1, team2)\n",
    "        if is_possible:\n",
    "            print(sorted(T1_height), sorted(T2_height))\n",
    "        # print(\"team1 can be placed in front of team2: \", is_possible)\n",
    "    "
   ]
  },
  {
   "cell_type": "markdown",
   "id": "833a55ee",
   "metadata": {
    "heading_collapsed": true,
    "jp-MarkdownHeadingCollapsed": true
   },
   "source": [
    "##### Implement a fast sorting algorithm for lists (LinkedList). - [EPI:13.10]."
   ]
  },
  {
   "cell_type": "code",
   "execution_count": null,
   "id": "02707dd5",
   "metadata": {
    "hidden": true
   },
   "outputs": [],
   "source": [
    "def merge_two_sorted_lists(L1, L2):\n",
    "\n",
    "    # Creates a placeholder for the result.\n",
    "    dummy_head = tail = LLNode()\n",
    "\n",
    "    while L1 and L2:\n",
    "        if L1.data < L2.data:\n",
    "            tail.next, L1 = L1, L1.next\n",
    "        else:\n",
    "            tail.next, L2 = L2, L2.next\n",
    "        tail = tail.next\n",
    "\n",
    "    # Appends the remaining nodes of L1 or L2\n",
    "    tail.next = L1 or L2\n",
    "    return dummy_head.next\n",
    "\n",
    "def stable_sort_list(L):\n",
    "\n",
    "    # Base cases: L is empty or a single node, nothing to do.\n",
    "    if not L or not L.next: return L\n",
    "\n",
    "    # Find the midpoint of L using a slow and a fast pointer.\n",
    "    pre_slow, slow, fast = None, L, L\n",
    "    while fast and fast.next:\n",
    "        pre_slow = slow\n",
    "        fast, slow = fast.next.next, slow.next\n",
    "    pre_slow.next = None  # Splits the list into two equal-sized lists.\n",
    "    return merge_two_sorted_lists(stable_sort_list(L), stable_sort_list(slow))"
   ]
  },
  {
   "cell_type": "markdown",
   "id": "443435ed",
   "metadata": {
    "heading_collapsed": true,
    "jp-MarkdownHeadingCollapsed": true
   },
   "source": [
    "##### Compute a salary threshold. - [EPI:13.11]."
   ]
  },
  {
   "cell_type": "code",
   "execution_count": null,
   "id": "d9e02ef9",
   "metadata": {
    "hidden": true
   },
   "outputs": [],
   "source": [
    "def find_salary_cap(target_payroll, current_salaries):\n",
    "\n",
    "    current_salaries.sort()\n",
    "    unadjusted_salary_sum = 0.0\n",
    "    for i, current_salary in enumerate(current_salaries):\n",
    "        adjusted_people = len(current_salaries) - i\n",
    "        adjusted_salary_sum = current_salary * adjusted_people\n",
    "        if unadjusted_salary_sum + adjusted_salary_sum >= target_payroll:\n",
    "            return (target_payroll - unadjusted_salary_sum) / adjusted_people\n",
    "        unadjusted_salary_sum += current_salary\n",
    "    # No solution, since target_payroll > existing payroll.\n",
    "    return -1.0"
   ]
  },
  {
   "cell_type": "code",
   "execution_count": null,
   "id": "847e607f",
   "metadata": {
    "hidden": true
   },
   "outputs": [],
   "source": []
  }
 ],
 "metadata": {
  "kernelspec": {
   "display_name": "dsnb",
   "language": "python",
   "name": "python3"
  },
  "language_info": {
   "codemirror_mode": {
    "name": "ipython",
    "version": 3
   },
   "file_extension": ".py",
   "mimetype": "text/x-python",
   "name": "python",
   "nbconvert_exporter": "python",
   "pygments_lexer": "ipython3",
   "version": "3.9.6"
  },
  "toc": {
   "base_numbering": 1,
   "nav_menu": {},
   "number_sections": true,
   "sideBar": true,
   "skip_h1_title": false,
   "title_cell": "Table of Contents",
   "title_sidebar": "Contents",
   "toc_cell": true,
   "toc_position": {
    "height": "calc(100% - 180px)",
    "left": "10px",
    "top": "150px",
    "width": "327.594px"
   },
   "toc_section_display": true,
   "toc_window_display": false
  }
 },
 "nbformat": 4,
 "nbformat_minor": 5
}
