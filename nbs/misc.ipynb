{
 "cells": [
  {
   "cell_type": "markdown",
   "id": "c70e86e9",
   "metadata": {},
   "source": [
    "##### Build Pyramid"
   ]
  },
  {
   "cell_type": "markdown",
   "id": "ef782059",
   "metadata": {},
   "source": [
    "We can render an ASCII art pyramid with N levels by printing N rows of asterisks, \n",
    "where the top row has a single asterisk in the center and each successive row has \n",
    "two additional asterisks on either side.\n"
   ]
  },
  {
   "cell_type": "code",
   "execution_count": null,
   "id": "7d7ada27",
   "metadata": {},
   "outputs": [],
   "source": [
    "\n",
    "def print_pyramid(levels):\n",
    "    width = 2 * levels - 1  # The width of the base of the pyramid\n",
    "    for i in range(levels):\n",
    "        num_asterisks = 2 * i + 1\n",
    "        num_spaces = (width - num_asterisks) // 2\n",
    "        row = ' ' * num_spaces + '*' * num_asterisks + ' ' * num_spaces\n",
    "        print(row)\n"
   ]
  },
  {
   "cell_type": "code",
   "execution_count": null,
   "id": "2411cc83",
   "metadata": {},
   "outputs": [],
   "source": [
    "\n",
    "# Example usage:\n",
    "N = 5\n",
    "print_pyramid(N)\n"
   ]
  },
  {
   "cell_type": "markdown",
   "id": "81881cb5",
   "metadata": {
    "heading_collapsed": true
   },
   "source": [
    "### Notes:"
   ]
  },
  {
   "cell_type": "code",
   "execution_count": null,
   "id": "02dcfc4f",
   "metadata": {
    "hidden": true
   },
   "outputs": [],
   "source": [
    "infinit_num = float('inf') # != int('inf')\n",
    "neg_infinit_num = float('-inf')"
   ]
  },
  {
   "cell_type": "markdown",
   "id": "c19212bc",
   "metadata": {
    "hidden": true
   },
   "source": [
    "```python\n",
    "max_int = sys.maxint # AVAILABLE ONLY FOR PYTHON-2.\n",
    "```"
   ]
  },
  {
   "cell_type": "code",
   "execution_count": null,
   "id": "8048c8de",
   "metadata": {
    "hidden": true
   },
   "outputs": [],
   "source": [
    "max_int = sys.maxsize\n",
    "print(type(max_int))\n",
    "max_int"
   ]
  },
  {
   "cell_type": "code",
   "execution_count": null,
   "id": "6a2bbb38",
   "metadata": {
    "hidden": true
   },
   "outputs": [],
   "source": [
    "math.log2(max_int), math.log10(max_int)"
   ]
  },
  {
   "cell_type": "code",
   "execution_count": null,
   "id": "3f90a1b2",
   "metadata": {
    "hidden": true
   },
   "outputs": [],
   "source": [
    "min_int = - sys.maxsize\n",
    "print(type(min_int))\n",
    "min_int"
   ]
  },
  {
   "cell_type": "markdown",
   "id": "5346450b",
   "metadata": {
    "heading_collapsed": true
   },
   "source": [
    "### Most Usefull Python API for Technical Interview"
   ]
  },
  {
   "cell_type": "code",
   "execution_count": null,
   "id": "8b54504b",
   "metadata": {
    "hidden": true
   },
   "outputs": [],
   "source": [
    "d = {'a': 1, 'b': 2, 'c':3, 'z':-10, 'w':0,'d':-1}"
   ]
  },
  {
   "cell_type": "markdown",
   "id": "06a58323",
   "metadata": {
    "hidden": true
   },
   "source": [
    "#### `sorted(...)`:"
   ]
  },
  {
   "cell_type": "code",
   "execution_count": null,
   "id": "40bcbaf1",
   "metadata": {
    "hidden": true
   },
   "outputs": [],
   "source": [
    "sorted(d.items(), key=lambda x: x[1])"
   ]
  },
  {
   "cell_type": "code",
   "execution_count": null,
   "id": "87834e3e",
   "metadata": {
    "hidden": true
   },
   "outputs": [],
   "source": [
    "sorted(d.items(), key=lambda x: -x[1])"
   ]
  },
  {
   "cell_type": "code",
   "execution_count": null,
   "id": "06db46b4",
   "metadata": {
    "hidden": true
   },
   "outputs": [],
   "source": [
    "sorted(d.items(), key=lambda item: item[1], reverse=True)"
   ]
  },
  {
   "cell_type": "markdown",
   "id": "e886f409",
   "metadata": {
    "hidden": true
   },
   "source": [
    "#### `map(...)`:"
   ]
  },
  {
   "cell_type": "code",
   "execution_count": null,
   "id": "ca56afba",
   "metadata": {
    "hidden": true
   },
   "outputs": [],
   "source": [
    "def square(x): return x**2"
   ]
  },
  {
   "cell_type": "code",
   "execution_count": null,
   "id": "7ee52526",
   "metadata": {
    "hidden": true
   },
   "outputs": [],
   "source": [
    "mapimg = map(math.sqrt, [x**2 for x in range(2, 32, 4)]); mapimg"
   ]
  },
  {
   "cell_type": "code",
   "execution_count": null,
   "id": "9211097e",
   "metadata": {
    "hidden": true
   },
   "outputs": [],
   "source": [
    "[*map(math.sqrt, [x**2 for x in range(2, 32, 4)])]"
   ]
  },
  {
   "cell_type": "code",
   "execution_count": null,
   "id": "4e5b7502",
   "metadata": {
    "hidden": true
   },
   "outputs": [],
   "source": [
    "squars = list(map(lambda x: x**2, range(5))); squars"
   ]
  },
  {
   "cell_type": "markdown",
   "id": "1d4b67b4",
   "metadata": {
    "hidden": true
   },
   "source": [
    "<font color='magenta'> Two-argument function into `map(...)`"
   ]
  },
  {
   "cell_type": "code",
   "execution_count": null,
   "id": "480d7595",
   "metadata": {
    "hidden": true
   },
   "outputs": [],
   "source": [
    "help(math.pow)"
   ]
  },
  {
   "cell_type": "code",
   "execution_count": null,
   "id": "7c18d8a1",
   "metadata": {
    "hidden": true
   },
   "outputs": [],
   "source": [
    "powers = [*map(math.pow, range(5), range(10))]; powers"
   ]
  },
  {
   "cell_type": "markdown",
   "id": "c1b7b352",
   "metadata": {
    "hidden": true
   },
   "source": [
    "#### `filter(...)`:"
   ]
  },
  {
   "cell_type": "code",
   "execution_count": null,
   "id": "4949bbbb",
   "metadata": {
    "hidden": true
   },
   "outputs": [],
   "source": [
    "from random import randrange\n",
    "L = [randrange(1,10) for _ in range(10)]; L"
   ]
  },
  {
   "cell_type": "code",
   "execution_count": null,
   "id": "017f7d44",
   "metadata": {
    "hidden": true
   },
   "outputs": [],
   "source": [
    "evens = [*filter(lambda x: x%2 == 0, L)]; evens"
   ]
  },
  {
   "cell_type": "markdown",
   "id": "3b57916d",
   "metadata": {
    "hidden": true
   },
   "source": [
    "#### `functools.reduce(...)`:"
   ]
  },
  {
   "cell_type": "code",
   "execution_count": null,
   "id": "5d1a8262",
   "metadata": {
    "hidden": true
   },
   "outputs": [],
   "source": []
  },
  {
   "cell_type": "code",
   "execution_count": null,
   "id": "b633824c",
   "metadata": {
    "hidden": true
   },
   "outputs": [],
   "source": [
    "help(reduce)"
   ]
  },
  {
   "cell_type": "code",
   "execution_count": null,
   "id": "82fdb65c",
   "metadata": {
    "hidden": true
   },
   "outputs": [],
   "source": [
    "#******* String to integer Convertion *******\n",
    "def string_to_int(s: str) -> int:\n",
    "    s = s[s[0] == '-':]\n",
    "    sign = -1 if s[0] == '-' else 1\n",
    "    callback = lambda res, item: res * 10 + string.digits.index(item)\n",
    "    return reduce(callback, s, 0) * sign"
   ]
  },
  {
   "cell_type": "markdown",
   "id": "07874ed8",
   "metadata": {
    "hidden": true
   },
   "source": [
    "#### `functools.lru_cache(...)`"
   ]
  },
  {
   "cell_type": "code",
   "execution_count": null,
   "id": "b0fc8c78",
   "metadata": {
    "hidden": true
   },
   "outputs": [],
   "source": []
  },
  {
   "cell_type": "code",
   "execution_count": null,
   "id": "56e0949d",
   "metadata": {
    "hidden": true
   },
   "outputs": [],
   "source": []
  },
  {
   "cell_type": "markdown",
   "id": "1483c690",
   "metadata": {
    "hidden": true
   },
   "source": [
    "#### `itertools.accumulate(...)`"
   ]
  },
  {
   "cell_type": "code",
   "execution_count": null,
   "id": "7800e50e",
   "metadata": {
    "hidden": true
   },
   "outputs": [],
   "source": [
    "from itertools import accumulate\n",
    "help(accumulate)"
   ]
  },
  {
   "cell_type": "markdown",
   "id": "0734253a",
   "metadata": {
    "hidden": true
   },
   "source": [
    "#### `collections.namedtuple(arg1, arg2)`:"
   ]
  },
  {
   "cell_type": "markdown",
   "id": "5c618d88",
   "metadata": {
    "hidden": true
   },
   "source": [
    "Builds PriorityQueueNode with comparable interface out of namedtuple !"
   ]
  },
  {
   "cell_type": "code",
   "execution_count": null,
   "id": "efda7c7d",
   "metadata": {
    "hidden": true
   },
   "outputs": [],
   "source": [
    "from collections import namedtuple\n",
    "PQNode = namedtuple('PQNode', ('value', 'cur_list', 'idx'))"
   ]
  },
  {
   "cell_type": "markdown",
   "id": "56ecbb44",
   "metadata": {
    "heading_collapsed": true
   },
   "source": [
    "### Hashing"
   ]
  },
  {
   "cell_type": "markdown",
   "id": "e0e8ae6b",
   "metadata": {
    "heading_collapsed": true,
    "hidden": true
   },
   "source": [
    "##### [Horner's Method](https://en.wikipedia.org/wiki/Horner%27s_method)"
   ]
  },
  {
   "cell_type": "markdown",
   "id": "9cc85948",
   "metadata": {
    "hidden": true
   },
   "source": [
    "<b style=\"color:red\">Evaluate $n^{th}$ degree polynomials without the power function<b/>"
   ]
  },
  {
   "cell_type": "markdown",
   "id": "3ca23f73",
   "metadata": {
    "hidden": true
   },
   "source": [
    "The quadratic (i.e. degree 2) polynomial, $ y = c_0 x^2 + c_1 x + c_2 $, can be rearranged as \n",
    "$$\n",
    "\\begin{split} \n",
    "    y &= c_0 x^2 + c_1 x + c_2 \\\\\n",
    "      &= (c_0 x + c_1) x + c_2\n",
    "\\end{split}\n",
    "$$"
   ]
  },
  {
   "cell_type": "markdown",
   "id": "60ce0660",
   "metadata": {
    "hidden": true
   },
   "source": [
    "The same pattern can be applied to a cubic (degree 3) polynomial, $ y = c_0 x^3 + c_1 x^2 + c_2 x + c_3$ as\n",
    "$$\n",
    "\\begin{split} \n",
    "    y &= c_0 x^3 + c_1 x^2 + c_2 x + c_3 \\\\\n",
    "      &= \\big( (c_0 x + c_1) x + c_2 \\big) x + c_3 \n",
    "\\end{split}\n",
    "$$"
   ]
  },
  {
   "cell_type": "markdown",
   "id": "bbb62778",
   "metadata": {
    "hidden": true
   },
   "source": [
    "Similarly for $n^{th}$ degree Plynomial:\n",
    "$$\n",
    "\\begin{split} \n",
    "    y &= c_0 x^n + c_1 x^{n-1} + c_2 x^{n-2} + c_3 x^{n-3} + c_4 x^{n-4} + \\cdots + c_{n-2} x^2 + c_{n-1} x + c_{n} \\\\\n",
    "      &= \\bigg( \\Big( \\big( (c_0 x + c_1) x + c_2\\big) x + \\cdots + c_{n-2} \\Big) x + c_{n-1} \\bigg) x + c_{n}\n",
    "\\end{split}\n",
    "$$"
   ]
  },
  {
   "cell_type": "markdown",
   "id": "c1d89cdb",
   "metadata": {
    "hidden": true
   },
   "source": [
    "This pattern is called `Horner's rule` for evaluating a polynomial. For hand calculation of low degree, it makes sense to use direct computation of the polynomial in its standard form. To evaluate a polynomial in a computer program, Horner's rule makes more sense, especially if speed and accuracy are important and the degree of the polynomial is large.\n",
    "\n",
    "Here is an code that uses Horner's rule to repeatedly evaluate the same polynomial. The correct value is 1070.8."
   ]
  },
  {
   "cell_type": "markdown",
   "id": "cb790d8f",
   "metadata": {
    "hidden": true
   },
   "source": [
    "**y = horner(n: int, c: List[float], x: float)** evaluates a polynomial **y = f(x)** at **x**.  \n",
    "\n",
    "`NOTE:`\n",
    "- The polynomial has degree **n**.  The coefficients of the polynomial are stored in the 1-D Python list `c`, which has `n+1` elements.\n",
    "\n",
    "- If there are `n+1` coefficient, the polynomial is of degree `n` and the largest index in `c` is `n` as per as `c` is a Python list. Alternatively, if there are `n` coefficients, the polynomial is of degree `n-1` and the largest index in `c` is `n-1`\n",
    "\n",
    "- The elements of `c` are multipliers of monomial terms of decreasing order. In other words, the polynomial is assumed to be written in the following form:\n",
    "\n",
    "\n",
    "\\begin{equation} \\label{eq: 1}\n",
    "\\begin{split} \n",
    "    y_n &= c_0 x^n + c_1 x^{n-1} + c_2 x^{n-2} + c_3 x^{n-3} + c_4 x^{n-4} + \\cdots + c_{n-2} x^2 + c_{n-1} x + c_{n} \\\\\n",
    "      &= \\bigg( \\Big( \\big( (c_0 x + c_1) x + c_2\\big) x + \\cdots + c_{n-2} \\Big) x + c_{n-1} \\bigg) x + c_{n}\n",
    "\\end{split}\n",
    "\\end{equation}\n",
    "\n",
    "\\begin{equation} \\label{eq: 2}\n",
    "\\begin{split} \n",
    "    y_{n-1} &= y_n - c_0 x^n \\\\\n",
    "\\end{split}\n",
    "\\end{equation}\n",
    "\n",
    "\\begin{equation} \\label{eq: 3}\n",
    "\\begin{split} \n",
    "    y_{n+1} &= (y_n) \\cdot x + c_{n+1} \\\\\n",
    "      &= \\left[ c_0 x^n + c_1 x^{n-1} + c_2 x^{n-2} + c_3 x^{n-3} + c_4 x^{n-4} + \\cdots + c_{n-2} x^2 + c_{n-1} x + c_{n} \\right] \\cdot x + c_{n+1} \\\\\n",
    "      &= c_0 x^{n+1} + c_1 x^n + c_2 x^{n-1} + c_3 x^{n-2} + c_4 x^{n-3} + c_5 x^{n-4} + \\cdots + c_{n-2} x^2 + c_{n-1} x + c_{n}\n",
    "\\end{split}\n",
    "\\end{equation}\n",
    "\n",
    "- In context of `Rolling Hash` for string using `Horner's Rule`, where $c_i$ = `ord(string[i])` and `x = 26` (number of English Alphabets) and exponents are the positions `string[i]` (a char) in the considering string of pattern, we can compute the hash for each string of window from the previous string of window as following\n",
    "\n",
    "\\begin{equation} \\label{eq: 4}\n",
    "\\begin{split} \n",
    "    y_{n_{currentWindow}} &= (y_{n_{previousWindow}} - c_0 \\cdot x^n) \\cdot x + c_n\n",
    "\\end{split}\n",
    "\\end{equation}"
   ]
  },
  {
   "cell_type": "code",
   "execution_count": null,
   "id": "4233b94e",
   "metadata": {
    "hidden": true
   },
   "outputs": [],
   "source": [
    "def horner(n: int, c: List[float], x: float):\n",
    "    \"\"\"\n",
    "    Args:\n",
    "        n (int): The degree of polynomial.\n",
    "        c (list): List of coefficients of nth degree polynomial whose length is n+1.\n",
    "        x (int): The value at which nth degree polynomial to be computed.\n",
    "    Notes: \n",
    "        * c[i] is the coefficient of x^i\n",
    "        * Polynomial Layout: C0x^n + c1x^n-1 + ... + cn\n",
    "    \"\"\"\n",
    "    h = 0\n",
    "    for i in range(n+1):\n",
    "        # (i=1) => c0x + c1, (i=2) => (c0x + c1)x + c2, ...\n",
    "        h = h*x + c[i]\n",
    "    return h"
   ]
  },
  {
   "cell_type": "code",
   "execution_count": null,
   "id": "99c9d31c",
   "metadata": {
    "hidden": true
   },
   "outputs": [],
   "source": [
    "def horner_pythonic(L: List[float], x: float):\n",
    "    return reduce(lambda h, c: h*x + c, L, 0)"
   ]
  },
  {
   "cell_type": "code",
   "execution_count": null,
   "id": "1025080d",
   "metadata": {
    "code_folding": [
     0
    ],
    "hidden": true
   },
   "outputs": [],
   "source": [
    "def horner2(n: int, c: List[float], x: float):\n",
    "    \"\"\"\n",
    "    Args:\n",
    "        n (int): The degree of polynomial\n",
    "        c (list): List of coefficients of nth degree polynomial whose length is n+1.\n",
    "        x (int): The value at which nth degree polynomial to be computed\n",
    "    Notes: c[i] is the coefficient of x^i\n",
    "    \"\"\" \n",
    "    h = c[0]\n",
    "    for i in range(1, n+1):\n",
    "        # (i=1) => c0x + c1, (i=2) => (c0x + c1)x + c2, ...\n",
    "        h = h*x + c[i]\n",
    "    return h"
   ]
  },
  {
   "cell_type": "code",
   "execution_count": null,
   "id": "00597c04",
   "metadata": {
    "hidden": true
   },
   "outputs": [],
   "source": [
    "def horner_niave(n: int, c: List[float], x: float):\n",
    "    \"\"\"\n",
    "    Args:\n",
    "        n (int): The degree of polynomial.\n",
    "        c (list): List of coefficients of nth degree polynomial whose length is n+1.\n",
    "        x (int): The value at which nth degree polynomial to be computed.\n",
    "    \"\"\"\n",
    "    res = 0\n",
    "    for idx, coefficient in zip(reversed(range(n+1)), c):\n",
    "        res = res + coefficient * x**idx\n",
    "    return res"
   ]
  },
  {
   "cell_type": "code",
   "execution_count": null,
   "id": "94c242fc",
   "metadata": {
    "hidden": true
   },
   "outputs": [],
   "source": [
    "def _test_horner():\n",
    "    n = 2         # Degree of polynomial\n",
    "    c = [1,2,3]   # n+1 coeffcients for n degree polynomial\n",
    "    x = 2\n",
    "    assert horner_niave(n, c, x) == horner(n, c, x) == horner2(n, c, x) == horner_pythonic(c, x)\n",
    "# =========================================================================\n",
    "_test_horner()"
   ]
  },
  {
   "cell_type": "code",
   "execution_count": null,
   "id": "cb9a4f42",
   "metadata": {
    "hidden": true
   },
   "outputs": [],
   "source": []
  },
  {
   "cell_type": "markdown",
   "id": "3a9eee8e",
   "metadata": {
    "hidden": true
   },
   "source": [
    "$\n",
    "p(x)=a_{0}+x{\\bigg (}a_{1}+x{\\Big (}a_{2}+x{\\big (}a_{3}+ \\cdots + x \\big( a_{n-2} + x(a_{n-1} + x a_{n}) \\big)\\cdots {\\big )}{\\Big )}{\\bigg )}\n",
    "$"
   ]
  },
  {
   "cell_type": "code",
   "execution_count": null,
   "id": "b19f0abe",
   "metadata": {
    "hidden": true
   },
   "outputs": [],
   "source": [
    "def horner_v2(x, a):\n",
    "    \"\"\"\n",
    "    Use Horner's method to compute and return the polynomial\n",
    "    a[0] + a[1] x^1 + a[2] x^2 + ... + a[n-1] x^(n-1) evaluated at x.\n",
    "    \"\"\"\n",
    "    h = 0\n",
    "    for i in range(len(a) - 1, -1, -1):\n",
    "        # (i=n-1) => a[n-1] + x.a[n], (i=n-2) => a[n-2] + x(a[n-1] + x.a[n])\n",
    "        h = a[i] + (x * h)\n",
    "    return h"
   ]
  },
  {
   "cell_type": "code",
   "execution_count": null,
   "id": "ebd5eea5",
   "metadata": {
    "hidden": true
   },
   "outputs": [],
   "source": [
    "c = [1.0, 3.0, 2.1, 4.0, -1.7]\n",
    "a = [*reversed(c)] # Coefficients of made-up polynomial  \n",
    "x = 5.0\n",
    "z = horner_v2(x,a)\n",
    "print(z)"
   ]
  },
  {
   "cell_type": "code",
   "execution_count": null,
   "id": "9a8b0863",
   "metadata": {
    "hidden": true
   },
   "outputs": [],
   "source": []
  },
  {
   "cell_type": "code",
   "execution_count": null,
   "id": "78cef55c",
   "metadata": {
    "hidden": true
   },
   "outputs": [],
   "source": []
  },
  {
   "cell_type": "markdown",
   "id": "eaf92ca4",
   "metadata": {
    "heading_collapsed": true,
    "hidden": true
   },
   "source": [
    "#### Theory:"
   ]
  },
  {
   "cell_type": "markdown",
   "id": "4ecf31c4",
   "metadata": {
    "hidden": true
   },
   "source": [
    "- [SanDiego State university](https://www.youtube.com/watch?v=jtMwp0FqEcg)"
   ]
  },
  {
   "cell_type": "markdown",
   "id": "17ae30e0",
   "metadata": {
    "hidden": true
   },
   "source": [
    "<img src='../assets/Rolling_Hash.png'>"
   ]
  },
  {
   "cell_type": "markdown",
   "id": "e8a422a3",
   "metadata": {
    "hidden": true
   },
   "source": [
    "In context of `Rolling Hash` for string using `Horner's Rule`, where $c_i$ = `ord(string[i])` and `x = 26` (number of English Alphabets) and exponents are the positions `string[i]` (a character) in the considering string, we can compute the hash for each string of window from the previous string of window as following\n",
    "\n",
    "$$\n",
    "\\begin{equation} \\label{eq: 4}\n",
    "\\begin{split} \n",
    "    y_{n_{currentWindow}} &= (y_{n_{previousWindow}} - c_0 x^n) \\cdot x + c_n\n",
    "\\end{split}\n",
    "\\end{equation}\n",
    "$$"
   ]
  },
  {
   "cell_type": "markdown",
   "id": "591ad460",
   "metadata": {
    "hidden": true
   },
   "source": [
    "If we need ot address the overflow of floting or integer values, we can augment the algorithms using moduler arithmatics as follows,"
   ]
  },
  {
   "cell_type": "markdown",
   "id": "0097248f",
   "metadata": {
    "hidden": true
   },
   "source": [
    "<img src='../assets/Rolling_Hash_Mod.png'>"
   ]
  },
  {
   "cell_type": "markdown",
   "id": "faec3c00",
   "metadata": {
    "heading_collapsed": true,
    "hidden": true
   },
   "source": [
    "#### Roling Hash Implementation:"
   ]
  },
  {
   "cell_type": "code",
   "execution_count": null,
   "id": "e8fb5ccd",
   "metadata": {
    "hidden": true
   },
   "outputs": [],
   "source": [
    "class RollingHash:\n",
    "    \"\"\"Produces hash values for a rolling sequence.\"\"\"\n",
    "    def __init__(self, s):\n",
    "        self.HASH_BASE = 7\n",
    "        self.seqlen = len(s)\n",
    "        n = self.seqlen - 1\n",
    "        h = 0\n",
    "        for c in s:\n",
    "            h += ord(c) * (self.HASH_BASE ** n)\n",
    "            n -= 1\n",
    "        self.curhash = h\n",
    "\n",
    "    def current_hash(self):\n",
    "        \"\"\"Returns the current hash value.\"\"\"\n",
    "        return self.curhash\n",
    "\n",
    "    def slide(self, previtm, nextitm):\n",
    "        \"\"\"Updates the hash by removing previtm and adding nextitm. Returns \n",
    "        the updated hash value.\"\"\"\n",
    "        self.curhash = (self.curhash * self.HASH_BASE) + ord(nextitm)\n",
    "        self.curhash -= ord(previtm) * (self.HASH_BASE ** self.seqlen)\n",
    "        return self.curhash"
   ]
  },
  {
   "cell_type": "code",
   "execution_count": null,
   "id": "86e361c3",
   "metadata": {
    "hidden": true
   },
   "outputs": [],
   "source": []
  },
  {
   "cell_type": "markdown",
   "id": "c0aa75f1",
   "metadata": {
    "heading_collapsed": true
   },
   "source": [
    "### [10 Common Coding Interview Problems](https://www.youtube.com/watch?v=Peq4GCPNC5c&t=74s)\n",
    "\n",
    "- [Inside Code](https://www.youtube.com/playlist?list=PL3edoBgC7ScV9WPytQ2dtso21YrTuUSBd)"
   ]
  },
  {
   "cell_type": "markdown",
   "id": "0a374e48",
   "metadata": {
    "heading_collapsed": true,
    "hidden": true
   },
   "source": [
    "##### Youtube Channels:"
   ]
  },
  {
   "cell_type": "markdown",
   "id": "b93e9b2a",
   "metadata": {
    "hidden": true
   },
   "source": [
    "- [NeetCode](https://www.youtube.com/c/NeetCode/playlists)\n",
    "- [Nick White](https://www.youtube.com/c/NickWhite/playlists)\n",
    "- [Blind 75 LeetCode Questions](https://leetcode.com/discuss/general-discussion/460599/blind-75-leetcode-questions)\n",
    "- [Coderbyte](https://www.youtube.com/c/CoderbyteDevelopers/playlists)"
   ]
  },
  {
   "cell_type": "markdown",
   "id": "300c048c",
   "metadata": {
    "heading_collapsed": true,
    "hidden": true
   },
   "source": [
    "##### 1- Valid anagram:"
   ]
  },
  {
   "cell_type": "code",
   "execution_count": null,
   "id": "227bd9b3",
   "metadata": {
    "hidden": true
   },
   "outputs": [],
   "source": [
    "from collections import Counter\n",
    "\n",
    "def are_anagrams(s1, s2):\n",
    "    if len(s1) != len(s2):\n",
    "        return False\n",
    "    return Counter(s1) == Counter(s2)\n",
    "\n",
    "\n",
    "def are_anagrams(s1, s2):\n",
    "    if len(s1) != len(s2):\n",
    "        return False\n",
    "    return sorted(s1) == sorted(s2)\n",
    "  \n",
    "  "
   ]
  },
  {
   "cell_type": "markdown",
   "id": "95f68bd6",
   "metadata": {
    "heading_collapsed": true,
    "hidden": true
   },
   "source": [
    "##### 2- First and last index:\n",
    "  "
   ]
  },
  {
   "cell_type": "markdown",
   "id": "87cd58b3",
   "metadata": {
    "hidden": true
   },
   "source": [
    "Given a sorted array of integer, `a`,  and a integer, `target`. Find the indexes of first and last occurances of the `target` in the given array."
   ]
  },
  {
   "cell_type": "code",
   "execution_count": null,
   "id": "41108b65",
   "metadata": {
    "hidden": true
   },
   "outputs": [],
   "source": [
    "def first_and_last(arr, target):\n",
    "    for i in range(len(arr)):\n",
    "        if arr[i] == target:\n",
    "            start = i\n",
    "            while i+1 < len(arr) and arr[i+1] == target:\n",
    "                i += 1\n",
    "            return [start, i]\n",
    "    return [-1, -1]\n",
    "\n",
    "def find_start(arr, target):\n",
    "    if arr[0] == target:\n",
    "        return 0\n",
    "    left, right = 0, len(arr)-1\n",
    "    while left <= right:\n",
    "        mid = (left+right)//2\n",
    "        if arr[mid] == target and arr[mid-1] < target:\n",
    "            return mid\n",
    "        elif arr[mid] < target:\n",
    "            left = mid+1\n",
    "        else:\n",
    "            right = mid-1\n",
    "    return -1\n",
    "\n",
    "\n",
    "def find_end(arr, target):\n",
    "    if arr[-1] == target:\n",
    "        return len(arr)-1\n",
    "    left, right = 0, len(arr)-1\n",
    "    while left <= right:\n",
    "        mid = (left+right)//2\n",
    "        if arr[mid] == target and arr[mid+1] > target:\n",
    "            return mid\n",
    "        elif arr[mid] > target:\n",
    "            right = mid-1\n",
    "        else:\n",
    "            left = mid+1\n",
    "    return -1\n",
    "\n",
    "  \n",
    "def first_and_last(arr, target):\n",
    "    if len(arr) == 0 or arr[0] > target or arr[-1] < target:\n",
    "        return [-1, -1]\n",
    "    start = find_start(arr, target)\n",
    "    end = find_end(arr, target)\n",
    "    return [start, end]\n",
    "  \n",
    "  "
   ]
  },
  {
   "cell_type": "markdown",
   "id": "bf1cfd93",
   "metadata": {
    "heading_collapsed": true,
    "hidden": true
   },
   "source": [
    "##### 3- Kth largest element:"
   ]
  },
  {
   "cell_type": "code",
   "execution_count": null,
   "id": "d02e6411",
   "metadata": {
    "hidden": true
   },
   "outputs": [],
   "source": [
    "def kth_largest(arr, k):\n",
    "    for i in range(k-1):\n",
    "        arr.remove(max(arr))\n",
    "    return max(arr)\n",
    "\n",
    "def kth_largest(arr, k):\n",
    "    n = len(arr)\n",
    "    arr.sort()\n",
    "    return arr[n-k]\n",
    "\n",
    "\n",
    "import heapq\n",
    "\n",
    "def kth_largest(arr, k):\n",
    "    arr = [-elem for elem in arr]\n",
    "    heapq.heapify(arr)\n",
    "    for i in range(k - 1):\n",
    "        heapq.heappop(arr)\n",
    "    return -heapq.heappop(arr)\n",
    "  \n",
    "  "
   ]
  },
  {
   "cell_type": "markdown",
   "id": "5028b23c",
   "metadata": {
    "heading_collapsed": true,
    "hidden": true
   },
   "source": [
    "##### 4- Symmetric tree:"
   ]
  },
  {
   "cell_type": "code",
   "execution_count": null,
   "id": "2531de65",
   "metadata": {
    "hidden": true
   },
   "outputs": [],
   "source": [
    "def are_symmetric(root1, root2):\n",
    "    if root1 is None and root2 is None:\n",
    "        return True\n",
    "    elif ((root1 is None) != (root2 is None)) or root1.val != root2.val:\n",
    "        return False\n",
    "    else:\n",
    "        return are_symmetric(root1.left, root2.right) and are_symmetric(root1.right, root2.left)\n",
    "\n",
    "def is_symmetric(root):\n",
    "    if root is None:\n",
    "        return True\n",
    "    return are_symmetric(root.left, root.right)"
   ]
  },
  {
   "cell_type": "markdown",
   "id": "2afe7e19",
   "metadata": {
    "heading_collapsed": true,
    "hidden": true
   },
   "source": [
    "##### 5- Generate parentheses:"
   ]
  },
  {
   "cell_type": "markdown",
   "id": "b823bed8",
   "metadata": {
    "hidden": true
   },
   "source": [
    "Given an inteeger, `n`, generate all teh valid combinations of n pair of parenthesis"
   ]
  },
  {
   "cell_type": "code",
   "execution_count": null,
   "id": "dd60412c",
   "metadata": {
    "hidden": true
   },
   "outputs": [],
   "source": [
    "def generate(n):\n",
    "    def rec(n, diff, comb, combs):\n",
    "        if diff < 0 or diff > n: return\n",
    "        elif n == 0:\n",
    "            if diff == 0: combs.append(''.join(comb))\n",
    "        else:\n",
    "            comb.append('(')\n",
    "            rec(n-1, diff+1, comb, combs)\n",
    "            comb.pop()\n",
    "            comb.append(')')\n",
    "            rec(n-1, diff-1, comb, combs)\n",
    "            comb.pop()\n",
    "    combs = []\n",
    "    rec(2*n, 0, [], combs)\n",
    "    return combs"
   ]
  },
  {
   "cell_type": "markdown",
   "id": "d586c48a",
   "metadata": {
    "heading_collapsed": true,
    "hidden": true
   },
   "source": [
    "##### 6- Gas station:"
   ]
  },
  {
   "cell_type": "code",
   "execution_count": null,
   "id": "8e2a3df1",
   "metadata": {
    "hidden": true
   },
   "outputs": [],
   "source": [
    "def can_traverse(gas, cost, start):\n",
    "    n = len(gas)\n",
    "    remaining = 0\n",
    "    i = start\n",
    "    started = False\n",
    "    while i != start or not started:\n",
    "        started = True\n",
    "        remaining += gas[i] - cost[i]\n",
    "        if remaining < 0:\n",
    "            return False\n",
    "        i = (i+1)%n\n",
    "    return True\n",
    "\n",
    "\n",
    "def gas_station(gas, cost):\n",
    "    for i in range(len(gas)):\n",
    "        if can_traverse(gas, cost, i):\n",
    "            return i\n",
    "    return -1\n",
    "\n",
    "\n",
    "def gas_station(gas, cost):\n",
    "    remaining = 0\n",
    "    prev_remaining = 0\n",
    "    candidate = 0\n",
    "    for i in range(len(gas)):\n",
    "        remaining += gas[i] - cost[i]\n",
    "        if remaining < 0:\n",
    "            candidate = i+1\n",
    "            prev_remaining += remaining\n",
    "            remaining = 0\n",
    "    if candidate == len(gas) or remaining+prev_remaining < 0:\n",
    "        return -1\n",
    "    else:\n",
    "        return candidate\n",
    "  "
   ]
  },
  {
   "cell_type": "markdown",
   "id": "a65e5ba3",
   "metadata": {
    "heading_collapsed": true,
    "hidden": true
   },
   "source": [
    "##### 7- Course schedule:"
   ]
  },
  {
   "cell_type": "code",
   "execution_count": null,
   "id": "b353345e",
   "metadata": {
    "hidden": true
   },
   "outputs": [],
   "source": [
    "def dfs(graph, vertex, path, order, visited):\n",
    "    path.add(vertex)\n",
    "    for neighbor in graph[vertex]:\n",
    "        if neighbor in path:\n",
    "            return False\n",
    "        if neighbor not in visited:\n",
    "            visited.add(neighbor)\n",
    "            if not dfs(graph, neighbor, path, order, visited):\n",
    "                return False\n",
    "    path.remove(vertex)\n",
    "    order.append(vertex)\n",
    "    return True\n",
    "\n",
    "\n",
    "def course_schedule(n, prerequisites):\n",
    "    graph = [[] for i in range(n)]\n",
    "    for pre in prerequisites:\n",
    "        graph[pre[1]].append(pre[0])\n",
    "    visited = set()\n",
    "    path = set()\n",
    "    order = []\n",
    "    for course in range(n):\n",
    "        if course not in visited:\n",
    "            visited.add(course)\n",
    "            if not dfs(graph, course, path, order, visited):\n",
    "                return False\n",
    "    return True\n",
    "\n",
    "def course_schedule(n, prerequisites):\n",
    "    graph = [[] for i in range(n)]\n",
    "    indegree = [0 for i in range(n)]\n",
    "    for pre in prerequisites:\n",
    "        graph[pre[1]].append(pre[0])\n",
    "        indegree[pre[0]] += 1\n",
    "    order = []\n",
    "    queue = deque([i for i in range(n) if indegree[i] == 0])\n",
    "    while queue:\n",
    "        vertex = queue.popleft()\n",
    "        order.append(vertex)\n",
    "        for neighbor in graph[vertex]:\n",
    "            indegree[neighbor] -= 1\n",
    "            if indegree[neighbor] == 0:\n",
    "                queue.append(neighbor)\n",
    "    return len(order) == n"
   ]
  },
  {
   "cell_type": "markdown",
   "id": "1aee9fb7",
   "metadata": {
    "heading_collapsed": true,
    "hidden": true
   },
   "source": [
    "##### 8- Kth permutation:"
   ]
  },
  {
   "cell_type": "markdown",
   "id": "84baafde",
   "metadata": {
    "hidden": true
   },
   "source": [
    "![](../assets/kth_permutations01.png)"
   ]
  },
  {
   "cell_type": "markdown",
   "id": "458a76fd",
   "metadata": {
    "hidden": true
   },
   "source": [
    "![](../assets/kth_permutations02.png)"
   ]
  },
  {
   "cell_type": "code",
   "execution_count": null,
   "id": "7c1a4cd7",
   "metadata": {
    "hidden": true
   },
   "outputs": [],
   "source": [
    "import itertools\n",
    "\n",
    "def kth_permutation(n, k):\n",
    "    permutations = list(itertools.permutations(range(1, n+1)))\n",
    "    return ''.join(map(str, permutations[k-1]))\n",
    "\n",
    "\n",
    "def kth_permutation(n, k):\n",
    "    permutation = []\n",
    "    unused = list(range(1, n+1))\n",
    "    fact = [1]*(n+1)\n",
    "    for i in range(1, n+1):\n",
    "        fact[i] = i*fact[i-1]\n",
    "    k -= 1\n",
    "    \n",
    "    while n > 0:\n",
    "        part_length = fact[n]//n\n",
    "        i = k//part_length\n",
    "        permutation.append(unused[i])\n",
    "        unused.pop(i)\n",
    "        n -= 1\n",
    "        k %= part_length\n",
    "    \n",
    "    return ''.join(map(str, permutation))"
   ]
  },
  {
   "cell_type": "markdown",
   "id": "0575cac7",
   "metadata": {
    "heading_collapsed": true,
    "hidden": true
   },
   "source": [
    "##### 9- Minimum window substring:"
   ]
  },
  {
   "cell_type": "code",
   "execution_count": null,
   "id": "81f4a342",
   "metadata": {
    "hidden": true
   },
   "outputs": [],
   "source": [
    "def contains_all(freq1, freq2):\n",
    "    for ch in freq2:\n",
    "        if freq1[ch] < freq2[ch]:\n",
    "            return False\n",
    "    return True\n",
    "\n",
    "\n",
    "def min_window(s, t):\n",
    "    n, m = len(s), len(t)\n",
    "    if m > n or m == 0: return \"\"\n",
    "    freqt = Counter(t)\n",
    "    shortest = \" \"*(n+1)\n",
    "    for length in range(1, n+1):\n",
    "        for i in range(n-length+1):\n",
    "            sub = s[i:i+length]\n",
    "            freqs = Counter(sub)\n",
    "            if contains_all(freqs, freqt) and length < len(shortest):\n",
    "                shortest = sub\n",
    "    return shortest if len(shortest) <= n else \"\"\n",
    "\n",
    "\n",
    "def min_window(s, t):\n",
    "    n, m = len(s), len(t)\n",
    "    if m > n or t == \"\":\n",
    "        return \"\"\n",
    "    freqt = Counter(t)\n",
    "    start, end = 0, n+1\n",
    "    for length in range(1, n+1):\n",
    "        freqs = Counter()\n",
    "        satisfied = 0\n",
    "        for ch in s[:length]:\n",
    "            freqs[ch] += 1\n",
    "            if ch in freqt and freqs[ch] == freqt[ch]:\n",
    "                satisfied += 1\n",
    "        if satisfied == len(freqt) and length < end-start:\n",
    "            start, end = 0, length\n",
    "        for i in range(1, n-length+1):\n",
    "            freqs[s[i+length-1]] += 1\n",
    "            if s[i+length-1] in freqt and freqs[s[i+length-1]] == freqt[s[i+length-1]]:\n",
    "                satisfied += 1\n",
    "            if s[i-1] in freqt and freqs[s[i-1]] == freqt[s[i-1]]:\n",
    "                satisfied -= 1\n",
    "            freqs[s[i-1]] -= 1\n",
    "            if satisfied == len(freqt) and length < end-start:\n",
    "                start, end = i, i+length\n",
    "    return s[start:end] if end-start <= n else \"\"\n",
    "\n",
    "\n",
    "def min_window(s, t):\n",
    "    n, m = len(s), len(t)\n",
    "    if m > n or t == \"\":\n",
    "        return \"\"\n",
    "    freqt = Counter(t)\n",
    "    start, end = 0, n\n",
    "    satisfied = 0\n",
    "    freqs = Counter()\n",
    "    left = 0\n",
    "    for right in range(n):\n",
    "        freqs[s[right]] += 1\n",
    "        if s[right] in freqt and freqs[s[right]] == freqt[s[right]]:\n",
    "            satisfied += 1\n",
    "        if satisfied == len(freqt):\n",
    "            while s[left] not in freqt or freqs[s[left]] > freqt[s[left]]:\n",
    "                freqs[s[left]] -= 1\n",
    "                left += 1\n",
    "            if right-left+1 < end-start+1:\n",
    "                start, end = left, right\n",
    "    return s[start:end+1] if end-start+1 <= n else \"\""
   ]
  },
  {
   "cell_type": "markdown",
   "id": "0a84f6a8",
   "metadata": {
    "heading_collapsed": true,
    "hidden": true
   },
   "source": [
    "##### 10- Largest rectangle in histogram:"
   ]
  },
  {
   "cell_type": "code",
   "execution_count": null,
   "id": "324e1b5b",
   "metadata": {
    "hidden": true
   },
   "outputs": [],
   "source": [
    "def largest_rectangle(heights):\n",
    "    max_area = 0\n",
    "    for i in range(len(heights)):\n",
    "        left = i\n",
    "        while left-1 >= 0 and heights[left-1] >= heights[i]: left -= 1\n",
    "        \n",
    "        right = i\n",
    "        while right+1 < len(heights) and heights[right+1] >= heights[i]: right += 1\n",
    "        \n",
    "        max_area = max(max_area, heights[i]*(right-left+1))\n",
    "    return max_area\n",
    "\n",
    "\n",
    "def rec(heights, low, high):\n",
    "    if low > high:\n",
    "        return 0\n",
    "    elif low == high:\n",
    "        return heights[low]\n",
    "    else:\n",
    "        minh = min(heights[low:high+1])\n",
    "        pos_min = heights.index(minh, low, high+1)\n",
    "        from_left = rec(heights, low, pos_min-1)\n",
    "        from_right = rec(heights, pos_min+1, high)\n",
    "        return max(from_left, from_right, minh*(high-low+1))\n",
    "\n",
    "    \n",
    "def largest_rectangle(heights):\n",
    "    return rec(heights, 0, len(heights)-1)\n",
    "\n",
    "\n",
    "def largest_rectangle(heights):\n",
    "    heights = [-1]+heights+[-1]\n",
    "    from_left = [0]*len(heights)\n",
    "    stack = [0]\n",
    "    for i in range(1, len(heights)-1):\n",
    "        while heights[stack[-1]] >= heights[i]:\n",
    "            stack.pop()\n",
    "        from_left[i] = stack[-1]\n",
    "        stack.append(i)\n",
    "    from_right = [0]*len(heights)\n",
    "    stack = [len(heights)-1]\n",
    "    for i in range(1, len(heights)-1)[::-1]:\n",
    "        while heights[stack[-1]] >= heights[i]:\n",
    "            stack.pop()\n",
    "        from_right[i] = stack[-1]\n",
    "        stack.append(i)\n",
    "    max_area = 0\n",
    "    for i in range(1, len(heights)-1):\n",
    "        max_area = max(max_area, heights[i]*(from_right[i]-from_left[i]-1))\n",
    "    return max_area\n",
    "\n",
    "\n",
    "def largest_rectangle(heights):\n",
    "    heights = [-1]+heights+[-1]\n",
    "    max_area = 0\n",
    "    stack = [(0, -1)]\n",
    "    for i in range(1, len(heights)):\n",
    "        start = i\n",
    "        while stack[-1][1] > heights[i]:\n",
    "            top_index, top_height = stack.pop()\n",
    "            max_area = max(max_area, top_height*(i-top_index))\n",
    "            start = top_index\n",
    "        stack.append((start, heights[i]))\n",
    "    return max_area"
   ]
  },
  {
   "cell_type": "markdown",
   "id": "50095bfc",
   "metadata": {
    "heading_collapsed": true,
    "hidden": true
   },
   "source": [
    "##### [Run-length encoding (lossless data compression) - Inside code](https://www.youtube.com/watch?v=ix8fnWK7LH8&list=PL3edoBgC7ScV9WPytQ2dtso21YrTuUSBd&index=5)"
   ]
  },
  {
   "cell_type": "code",
   "execution_count": null,
   "id": "273ce54c",
   "metadata": {
    "hidden": true
   },
   "outputs": [],
   "source": [
    "def rle_encode(data):\n",
    "    if data == \"\":\n",
    "        return \"\"\n",
    "    encoded = []\n",
    "    length = 1\n",
    "    for i in range(1, len(data)):\n",
    "        if data[i] == data[i-1]:\n",
    "            length += 1\n",
    "        else:\n",
    "            encoded.extend([str(length), str(data[i-1])])\n",
    "            length = 1\n",
    "    encoded.extend([str(length), str(data[-1])])\n",
    "    return \"\".join(encoded)\n",
    "\n",
    "def rle_decode(data):\n",
    "    if data == \"\":\n",
    "        return \"\"\n",
    "    decoded = []\n",
    "    length = 0\n",
    "    for ch in data:\n",
    "        if ch.isnumeric():\n",
    "            length = 10*length + int(ch)\n",
    "        else:\n",
    "            decoded.append(length * ch)\n",
    "            length = 0\n",
    "    return \"\".join(decoded)\n",
    "\n",
    "def look_and_say(n):\n",
    "    term = \"1\"\n",
    "    for i in range(1, n):\n",
    "        term = rle_encode(term)\n",
    "    return term"
   ]
  },
  {
   "cell_type": "markdown",
   "id": "978fc020",
   "metadata": {
    "heading_collapsed": true,
    "hidden": true
   },
   "source": [
    "##### Given an array of numbers (positive and negative), find the subarray that sums up to zero - [zero sum subarray](https://www.youtube.com/watch?v=hLcYp67wCcM&list=PLNmW52ef0uwsjnM06LweaYEZr-wjPKBnj&index=17)\n",
    "\n",
    "- [String Version:  Top K Frequent Words](https://leetcode.com/problems/top-k-frequent-words/)"
   ]
  },
  {
   "cell_type": "code",
   "execution_count": null,
   "id": "107d898e",
   "metadata": {
    "hidden": true
   },
   "outputs": [],
   "source": [
    "def subarray_sum_zero(nums):\n",
    "    total = 0\n",
    "    totals = {}\n",
    "    for right in range(len(nums) + 1):\n",
    "        left = totals.get(total, None)\n",
    "        if left is None and right == len(nums):\n",
    "            return [float('inf')]\n",
    "        elif left is None:\n",
    "            totals[total] = right\n",
    "            total += nums[right]\n",
    "        else:\n",
    "            return nums[left: right]\n",
    "    return [float('inf')]"
   ]
  },
  {
   "cell_type": "code",
   "execution_count": null,
   "id": "4b04bd59",
   "metadata": {
    "hidden": true
   },
   "outputs": [],
   "source": [
    "def _test_subarray_sum_zero():\n",
    "    L = [[-1,1], [-1,-1,2], [1,1,4,-2,-2, 5]]\n",
    "    for case in L:\n",
    "        assert sum(subarray_sum_zero(case)) == 0 \n",
    "_test_subarray_sum_zero()"
   ]
  },
  {
   "cell_type": "code",
   "execution_count": null,
   "id": "3e3c74f5",
   "metadata": {
    "hidden": true
   },
   "outputs": [],
   "source": []
  },
  {
   "cell_type": "code",
   "execution_count": null,
   "id": "704e09c9",
   "metadata": {
    "hidden": true
   },
   "outputs": [],
   "source": []
  },
  {
   "cell_type": "code",
   "execution_count": null,
   "id": "49a77cfa",
   "metadata": {
    "hidden": true
   },
   "outputs": [],
   "source": []
  },
  {
   "cell_type": "markdown",
   "id": "18fc519e",
   "metadata": {
    "heading_collapsed": true
   },
   "source": [
    "### <b style='color:#C71585'>Math & Geometry</b>"
   ]
  },
  {
   "cell_type": "markdown",
   "id": "edbd6997",
   "metadata": {},
   "source": [
    "##### [1041. Robot Bounded In Circle](https://leetcode.com/problems/robot-bounded-in-circle/description/) || [leetcode](https://www.youtube.com/watch?v=nKv2LnC_g6E&list=PLot-Xpze53lfOdF3KwpMSFEyfE77zIwiP&index=44)"
   ]
  },
  {
   "cell_type": "markdown",
   "id": "50a5a015",
   "metadata": {},
   "source": [
    "<div style=\"text-align:center\" ><img src=\"../assets/leetcode/1041_is_robot_bounded.png\" width=\"700\" height=\"400\" /></div>"
   ]
  },
  {
   "cell_type": "markdown",
   "id": "c2ec8527",
   "metadata": {
    "heading_collapsed": true,
    "hidden": true
   },
   "source": [
    "##### Compute the integer square root. - [EPI: 11.4]."
   ]
  },
  {
   "cell_type": "code",
   "execution_count": null,
   "id": "32780826",
   "metadata": {
    "code_folding": [
     0,
     20
    ],
    "hidden": true
   },
   "outputs": [],
   "source": [
    "def integer_square_root(k: int) -> int:\n",
    "    \"\"\"Computes the square root of the given integer 'k'.\n",
    "\n",
    "    Args:\n",
    "        k: The integer of which square root to be computed\n",
    "    \"\"\"\n",
    "\n",
    "    left, right = 0, k\n",
    "    # Candidate interval [left, right] where everything before left has square\n",
    "    # <= k, everything after right has square > k.\n",
    "    while left <= right:\n",
    "        mid = (left + right) // 2\n",
    "        mid_squared = mid * mid\n",
    "        \n",
    "        if mid_squared <= k: left = mid + 1\n",
    "        else               : right = mid - 1 # mid_squared > k\n",
    "    \n",
    "    return left - 1\n",
    "\n",
    "\n",
    "def test_integer_square_root():\n",
    "\n",
    "    a = []\n",
    "    s = \"\"\n",
    "    for i in range(11):\n",
    "        k = i**2\n",
    "        sqrt_k = integer_square_root(k)\n",
    "        assert i == sqrt_k\n",
    "        a.append([k, i])\n",
    "        s += f\"\"\"integer_square_root({k}) -> {i}\\n\"\"\"\n",
    "\n",
    "    print(s)"
   ]
  },
  {
   "cell_type": "markdown",
   "id": "2ce667e2",
   "metadata": {
    "heading_collapsed": true,
    "hidden": true
   },
   "source": [
    "##### Compute the real square root. - [EPI: 11.5]."
   ]
  },
  {
   "cell_type": "code",
   "execution_count": null,
   "id": "f9185ff1",
   "metadata": {
    "code_folding": [
     0
    ],
    "hidden": true
   },
   "outputs": [],
   "source": [
    "import math\n",
    "def real_square_root(x):\n",
    "\n",
    "    # Decides the search range according to x's value relative to 1.0.\n",
    "    left, right = (x, 1.0) if x < 1.0 else (1.0, x)\n",
    "\n",
    "    # Keeps searching as long as left != right.\n",
    "    while not math.isclose(left, right):\n",
    "        mid = 0.5 * (left + right)\n",
    "        mid_squared = mid * mid\n",
    "        if mid_squared > x: right = mid\n",
    "        else              : left = mid\n",
    "    return left\n",
    "\n",
    "\n",
    "def test_real_square_root():\n",
    "\n",
    "    a = []\n",
    "    s = \"\"\n",
    "    for i in range(26):\n",
    "        sqrt_k = real_square_root(i)\n",
    "        # assert i == sqrt_k\n",
    "        a.append([i, round(sqrt_k, 4)])\n",
    "        # s += f\"\"\"real_square_root({i}) -> {round(sqrt_k,4)}\\n\"\"\"\n",
    "\n",
    "    print(s)"
   ]
  },
  {
   "cell_type": "markdown",
   "id": "a1820ab5",
   "metadata": {
    "hidden": true
   },
   "source": [
    "##### Find the root of a given function  using Successive Approximation (Newton's Method). - [MIT6.00SC: PS2]"
   ]
  },
  {
   "cell_type": "code",
   "execution_count": null,
   "id": "9a8f6640",
   "metadata": {
    "code_folding": [
     0,
     17,
     32
    ],
    "hidden": true
   },
   "outputs": [],
   "source": [
    "def evaluate_poly(poly: list, x: Union[int, float]) -> float:\n",
    "    \"\"\"Computes the value of the polynomial (poly) function at given value x.\n",
    "\n",
    "    Args:\n",
    "        poly: The list of numbers, (len(poly) > 0).\n",
    "        x   : The number to compute the value of polynomial at.\n",
    "\n",
    "    Returns:\n",
    "        f(x) (float): the value of the specified polynomial at x.\n",
    "    \"\"\"\n",
    "    f_of_x = 0.0  # --> f(x), the value of 'poly' at x.\n",
    "    for i in range(len(poly)):\n",
    "        f_of_x += poly[i] * (x**i)\n",
    "\n",
    "    return f_of_x\n",
    "\n",
    "\n",
    "def compute_deriv(poly) -> List[Union[int, float]]:\n",
    "    \"\"\"Computes and returns the derivative of a polynomial function. If the\n",
    "       derivative is 0, returns [0.0].\n",
    "\n",
    "    Args:\n",
    "        poly: list of numbers, (len(poly) > 0).\n",
    "    \"\"\"\n",
    "    f_prime_of_x = []\n",
    "    if len(poly) < 2:\n",
    "        return [0.0]\n",
    "    for j in range(1, len(poly)):\n",
    "        f_prime_of_x.append(float(j * poly[j]))\n",
    "    return f_prime_of_x\n",
    "\n",
    "\n",
    "def compute_root(poly: list, x_0: float, epsilon: float) -> list:\n",
    "    '''Uses Newton's method to find and return a root of a polynomial function.\n",
    "       Returns a list containing the root and the number of iterations required\n",
    "       to get to the root.\n",
    "\n",
    "    Args:\n",
    "        poly: list of numbers, (len(poly) > 1). Represents a polynomialfunction\n",
    "            containing at least one real root. The derivative of this polynomial\n",
    "            function at x_0 is not 0.\n",
    "\n",
    "        x_0: initial guss.\n",
    "\n",
    "        epsilon: ecceptable erros.\n",
    "    '''\n",
    "    root = x_0\n",
    "    counter = 1\n",
    "    while abs(evaluate_poly(poly, root)) >= epsilon:\n",
    "        root = (root - evaluate_poly(poly, root) /\n",
    "                evaluate_poly(compute_deriv(poly), root))\n",
    "        counter += 1\n",
    "    return root\n",
    "\n",
    "\n",
    "def test_compute_root():\n",
    "    def random_polynomial(degree):\n",
    "        poly = [None] * (degree + 1)\n",
    "        for i in range(degree + 1):\n",
    "            coefficient = randint(0, 6)\n",
    "            poly[i] = coefficient\n",
    "        return poly\n",
    "\n",
    "    N = randint(1, 4)\n",
    "    P = random_polynomial(N)\n",
    "    print(P)\n",
    "    p = [5, 2]  # --> f(x) = 5x^0 + 2x^1 = 2x + 5\n",
    "    rt = compute_root(p, 10, 0.0001)\n",
    "    print('Root of f(x): ', rt)\n",
    "\n",
    "\n",
    "def main():\n",
    "    test_integer_square_root()\n",
    "    test_real_square_root()\n",
    "\n",
    "\n",
    "if __name__ == \"__main__\":\n",
    "    main()"
   ]
  },
  {
   "cell_type": "markdown",
   "id": "4b8d23af",
   "metadata": {},
   "source": [
    "##### Implement a function that takes as input a <b style=\"color:red\">integer</b> `n`, and return true if `n` is a palindromic integer <b style=\"color:red\">without converting it into str</b>"
   ]
  },
  {
   "cell_type": "code",
   "execution_count": null,
   "id": "30c9f1e4",
   "metadata": {},
   "outputs": [],
   "source": [
    "def is_int_palindrome(n):\n",
    "    \"\"\"\n",
    "    Checks if a given integer is a palindrome.\n",
    "\n",
    "    Args:\n",
    "        n: The integer to check.\n",
    "\n",
    "    Returns:\n",
    "        True if n is a palindrome, False otherwise.\n",
    "    \"\"\"\n",
    "\n",
    "    if n < 0: return False  # Negative numbers cannot be palindromes\n",
    "\n",
    "    divisor = 1\n",
    "    while n // divisor >= 10: divisor *= 10\n",
    "\n",
    "    while n != 0:\n",
    "        left = n // divisor\n",
    "        right = n % 10\n",
    "\n",
    "        if left != right: return False\n",
    "\n",
    "        # Eleminate leftmost and then rightmost digit from `n`\n",
    "        n = (n % divisor) // 10\n",
    "        \n",
    "        # Eleminate two rightmost digit from `divisor`\n",
    "        divisor //= 100\n",
    "\n",
    "    return True\n",
    "\n",
    "print(is_int_palindrome(92929))"
   ]
  },
  {
   "cell_type": "code",
   "execution_count": null,
   "id": "c235bb63",
   "metadata": {},
   "outputs": [],
   "source": [
    "def test_is_int_palindrom():\n",
    "    test_cases = [\n",
    "        (0, True),\n",
    "        (-1, False),\n",
    "        (-111, False),\n",
    "        (122221, True),\n",
    "        (123454321, True),\n",
    "        (1234321, True),\n",
    "    ]\n",
    "    \n",
    "    for test_case, expected in test_cases:\n",
    "        returned = is_int_palindrome(test_case)\n",
    "        \n",
    "        try:\n",
    "            assert returned == expected\n",
    "        except AssertionError as ae:\n",
    "            \n",
    "            print(returned, expected)\n",
    "# ===========================================================\n",
    "\n",
    "test_is_int_palindrom()"
   ]
  },
  {
   "cell_type": "markdown",
   "id": "68173286",
   "metadata": {},
   "source": [
    "##### [43. Multiply Strings](https://leetcode.com/problems/multiply-strings/description/) | [Multiply Strings](https://www.youtube.com/watch?v=1vZswirL8Y8&t=3s)"
   ]
  },
  {
   "cell_type": "markdown",
   "id": "cf167d48",
   "metadata": {},
   "source": [
    "Given two non-negative integers num1 and num2 represented as strings, return the product of num1 and num2, also represented as a string.\n",
    "\n",
    "Note: You must not use any built-in BigInteger library or convert the inputs to integer directly.\n",
    "\n",
    " \n",
    "\n",
    "Example 1:\n",
    "\n",
    "Input: num1 = \"2\", num2 = \"3\"\n",
    "Output: \"6\"\n",
    "Example 2:\n",
    "\n",
    "Input: num1 = \"123\", num2 = \"456\"\n",
    "Output: \"56088\""
   ]
  },
  {
   "cell_type": "code",
   "execution_count": null,
   "id": "35591a3f",
   "metadata": {},
   "outputs": [],
   "source": [
    "class Solution:\n",
    "    def multiply(self, num1: str, num2: str) -> str:\n",
    "        if \"0\" in [num1, num2]: return \"0\"\n",
    "\n",
    "        res = [0] * (len(num1) + len(num2))\n",
    "        num1, num2 = num1[::-1], num2[::-1]\n",
    "        for i1 in range(len(num1)):\n",
    "            for i2 in range(len(num2)):\n",
    "                digit = int(num1[i1]) * int(num2[i2])\n",
    "                res[i1 + i2] += digit\n",
    "                res[i1 + i2 + 1] += res[i1 + i2] // 10\n",
    "                res[i1 + i2] = res[i1 + i2] % 10\n",
    "\n",
    "        res, beg = res[::-1], 0\n",
    "        while beg < len(res) and res[beg] == 0:\n",
    "            beg += 1\n",
    "        res = map(str, res[beg:])\n",
    "        return \"\".join(res)"
   ]
  },
  {
   "cell_type": "code",
   "execution_count": null,
   "id": "979c1404",
   "metadata": {},
   "outputs": [],
   "source": []
  },
  {
   "cell_type": "code",
   "execution_count": null,
   "id": "1a406c15",
   "metadata": {},
   "outputs": [],
   "source": []
  },
  {
   "cell_type": "code",
   "execution_count": null,
   "id": "548fd8dd",
   "metadata": {},
   "outputs": [],
   "source": []
  },
  {
   "cell_type": "code",
   "execution_count": null,
   "id": "b7c9ef41",
   "metadata": {},
   "outputs": [],
   "source": []
  },
  {
   "cell_type": "code",
   "execution_count": null,
   "id": "7eb939c9",
   "metadata": {},
   "outputs": [],
   "source": []
  },
  {
   "cell_type": "markdown",
   "id": "45316508",
   "metadata": {
    "heading_collapsed": true,
    "hidden": true
   },
   "source": [
    "##### Implement a Python program to generate the first N Armstrong numbers."
   ]
  },
  {
   "cell_type": "code",
   "execution_count": null,
   "id": "1715f477",
   "metadata": {
    "hidden": true
   },
   "outputs": [],
   "source": [
    "def calculate_power(x, n):\n",
    "    # Helper function to calculate x raised to the power of n\n",
    "    return x ** n\n",
    "\n",
    "def count_digits(number):\n",
    "    # Helper function to count the number of digits in a given number\n",
    "    return len(str(number))\n",
    "\n",
    "def is_armstrong_number(num):\n",
    "    # Check if a given number is an Armstrong number\n",
    "    num_digits = count_digits(num)\n",
    "    total = sum(calculate_power(int(digit), num_digits) for digit in str(num))\n",
    "    return total == num\n",
    "\n",
    "def generate_armstrong_numbers(count):\n",
    "    armstrong_numbers = []\n",
    "    number = 1\n",
    "\n",
    "    while len(armstrong_numbers) < count:\n",
    "        if is_armstrong_number(number):\n",
    "            armstrong_numbers.append(number)\n",
    "        number += 1\n",
    "\n",
    "    return armstrong_numbers\n",
    "\n",
    "# Test case: Generate the first 5 Armstrong numbers\n",
    "result = generate_armstrong_numbers(5)\n",
    "print(result)\n"
   ]
  },
  {
   "cell_type": "code",
   "execution_count": null,
   "id": "6e17f19a",
   "metadata": {
    "hidden": true
   },
   "outputs": [],
   "source": [
    "def rotate_matrix(M):\n",
    "    for layer in range(len(M)//2):\n",
    "        first = layer; last = (len(M)-1) - first\n",
    "\n",
    "        for i in range(first, last):\n",
    "            offset = i - first; top = M[first][i]\n",
    "\n",
    "            M[first][i] = M[last - offset][first]\n",
    "            M[last - offset][first] = M[last][last - offset]\n",
    "            M[last][last - offset] = M[i][last]\n",
    "            M[i][last] = top\n",
    "\n",
    "def test_rotate_matrix():\n",
    "    N = randint(3, 6)\n",
    "    M = [[randrange(0, 10) for i in range(N)] for i in range(N)]\n",
    "    print_matrix(M)\n",
    "    print()\n",
    "    rotate_matrix(M)\n",
    "    print_matrix(M)"
   ]
  },
  {
   "cell_type": "code",
   "execution_count": null,
   "id": "9bb97acf",
   "metadata": {
    "hidden": true
   },
   "outputs": [],
   "source": [
    "5.0 // 2"
   ]
  },
  {
   "cell_type": "markdown",
   "id": "25bfa68d",
   "metadata": {},
   "source": [
    "\n",
    "Write an algorithm such that if an element in an MxN matrix is 0, its entire row and column are set to 0."
   ]
  },
  {
   "cell_type": "markdown",
   "id": "1e6c54bc",
   "metadata": {},
   "source": [
    "<div style=\"text-align:center\" ><img src=\"../assets/leetcode/73.set_matrix_zero.png\" width=\"700\" height=\"600\" /></div>"
   ]
  },
  {
   "cell_type": "code",
   "execution_count": null,
   "id": "e162131a",
   "metadata": {},
   "outputs": [],
   "source": []
  },
  {
   "cell_type": "code",
   "execution_count": null,
   "id": "51001568",
   "metadata": {
    "hidden": true
   },
   "outputs": [],
   "source": [
    "def transpose_matrix():\n",
    "    def transpose(M):\n",
    "        T = [[M[i][j] for i in range(len(M))] for j in range(len(M[0]))]\n",
    "        return T\n",
    "\n",
    "    num_rows, num_cols = 5, 4\n",
    "    M = [[randrange(1, 10) for j in range(num_cols)] for i in range(num_rows)]\n",
    "    for i in range(len(M)):\n",
    "        for j in range(len(M[0])):\n",
    "            print(M[i][j], sep='', end=' ')\n",
    "        print('')\n",
    "\n",
    "    print('After transpose: ')\n",
    "    M = transpose(M)\n",
    "    for i in range(len(M)):\n",
    "        for j in range(len(M[0])):\n",
    "            print(M[i][j], sep='', end=' ')\n",
    "        print('')"
   ]
  },
  {
   "cell_type": "markdown",
   "id": "73fee672",
   "metadata": {
    "hidden": true
   },
   "source": [
    "[Strassen algorithm for matrix multiplication (divide and conquer)](https://www.youtube.com/watch?v=OSelhO6Qnlc&list=PL3edoBgC7ScV9WPytQ2dtso21YrTuUSBd&index=4)"
   ]
  },
  {
   "cell_type": "code",
   "execution_count": null,
   "id": "051a8189",
   "metadata": {
    "hidden": true
   },
   "outputs": [],
   "source": [
    "import numpy as np\n",
    "\n",
    "def brute_force(A, B):\n",
    "    n, m, p = A.shape[0], A.shape[1], B.shape[1]\n",
    "    C = np.array([[0]*p for i in range(n)])\n",
    "    for i in range(n):\n",
    "        for j in range(p):\n",
    "            for k in range(m):\n",
    "                C[i][j] += A[i][k]*B[k][j]\n",
    "    return C\n",
    "\n",
    "def split(matrix):\n",
    "    n = len(matrix)\n",
    "    return matrix[:n//2, :n//2], matrix[:n//2, n//2:], matrix[n//2:, :n//2], matrix[n//2:, n//2:]\n",
    "\n",
    "def strassen(A, B):\n",
    "    if len(A) <= 2:\n",
    "        return brute_force(A, B)\n",
    "    a, b, c, d = split(A)\n",
    "    e, f, g, h = split(B)\n",
    "    p1 = strassen(a+d, e+h)\n",
    "    p2 = strassen(d, g-e)\n",
    "    p3 = strassen(a+b, h)\n",
    "    p4 = strassen(b-d, g+h)\n",
    "    p5 = strassen(a, f-h)\n",
    "    p6 = strassen(c+d, e)\n",
    "    p7 = strassen(a-c, e+f)\n",
    "    C11 = p1 + p2 - p3 + p4\n",
    "    C12 = p5 + p3\n",
    "    C21 = p6 + p2\n",
    "    C22 = p5 + p1 - p6 - p7\n",
    "    C = np.vstack((np.hstack((C11, C12)), np.hstack((C21, C22))))\n",
    "    return C"
   ]
  },
  {
   "cell_type": "markdown",
   "id": "f5166b9a",
   "metadata": {
    "hidden": true,
    "id": "575f631a"
   },
   "source": [
    "Scipy Implementation of sparse matrices\n",
    "\n",
    "From the [Scipy Sparse Matrix Documentation](https://docs.scipy.org/doc/scipy-0.18.1/reference/sparse.html)\n",
    "\n",
    "- To construct a matrix efficiently, use either dok_matrix or lil_matrix. The lil_matrix class supports basic slicing and fancy indexing with a similar syntax to NumPy arrays. As illustrated below, the COO format may also be used to efficiently construct matrices\n",
    "- To perform manipulations such as multiplication or inversion, first convert the matrix to either CSC or CSR format.\n",
    "- All conversions among the CSR, CSC, and COO formats are efficient, linear-time operations."
   ]
  },
  {
   "cell_type": "markdown",
   "id": "f0f2c14b",
   "metadata": {
    "hidden": true,
    "id": "7b83aa43"
   },
   "source": [
    "To really understand the CSR format, we need to be able know how to do two things:\n",
    "1. Translate a regular matrix A into CSR format\n",
    "2. Reconstruct a regular matrix from its CSR sparse representation\n"
   ]
  },
  {
   "attachments": {
    "Generate_CSR_Matrix.png": {
     "image/png": "[encoded data removed]"
    }
   },
   "cell_type": "markdown",
   "id": "a8c4927a",
   "metadata": {
    "hidden": true,
    "id": "cf15594c"
   },
   "source": [
    "![Generate_CSR_Matrix.png](attachment:Generate_CSR_Matrix.png)"
   ]
  },
  {
   "cell_type": "markdown",
   "id": "5443fe37",
   "metadata": {
    "heading_collapsed": true,
    "hidden": true,
    "id": "d0aab45e"
   },
   "source": [
    "######  Translate a regular matrix A into CSR format"
   ]
  },
  {
   "cell_type": "markdown",
   "id": "20f3124f",
   "metadata": {
    "hidden": true,
    "id": "3f4dab81"
   },
   "source": [
    "This is done by implementing the definition of `CSR format`, given above."
   ]
  },
  {
   "cell_type": "code",
   "execution_count": null,
   "id": "b9d9c3bf",
   "metadata": {
    "hidden": true,
    "id": "d75641a8"
   },
   "outputs": [],
   "source": [
    "# construct the document-term matrix in CSR format\n",
    "# i.e. return (values, column_indices, row_pointer)\n",
    "def get_doc_term_matrix(text_list, n_terms):\n",
    "    \"\"\"\n",
    "    Args:\n",
    "    -----\n",
    "       text_list: a TextList object\n",
    "       n_terms  : the number of tokens in our IMDb vocabulary\n",
    "    \n",
    "    Returns:\n",
    "    -------- \n",
    "       the CSR format sparse representation of the document-term matrix in the \n",
    "       form of a `scipy.sparse.csr.csr_matrix` object.\n",
    "    \"\"\"\n",
    "    \n",
    "    # initialize arrays\n",
    "    values = []\n",
    "    column_indices = []\n",
    "    row_pointer = []\n",
    "    row_pointer.append(0)\n",
    "\n",
    "    # from the TextList object\n",
    "    for _, doc in enumerate(text_list):\n",
    "        feature_counter = Counter(doc.data)\n",
    "        column_indices.extend(feature_counter.keys())\n",
    "        values.extend(feature_counter.values())\n",
    "        # Tack on N (number of nonzero elements in the matrix) to the end of the row_pointer array\n",
    "        row_pointer.append(len(values))\n",
    "        \n",
    "    return scipy.sparse.csr_matrix((values, column_indices, row_pointer),\n",
    "                                   shape=(len(row_pointer) - 1, n_terms),\n",
    "                                   dtype=int)"
   ]
  },
  {
   "cell_type": "code",
   "execution_count": null,
   "id": "49ef66b8",
   "metadata": {
    "hidden": true
   },
   "outputs": [],
   "source": []
  },
  {
   "cell_type": "markdown",
   "id": "bf611f2d",
   "metadata": {
    "heading_collapsed": true,
    "hidden": true,
    "id": "95696d44"
   },
   "source": [
    "###### Reconstruct a regular matrix from its CSR sparse representation"
   ]
  },
  {
   "cell_type": "markdown",
   "id": "0e3750d0",
   "metadata": {
    "hidden": true,
    "id": "8ff9886d"
   },
   "source": [
    "Given a CSR format sparse matrix representation $(\\text{values},\\text{column_indices}, \\text{row_pointer})$ of a $\\text{m}\\times \\text{n}$ matrix $\\text{A}$, <br> how can we recover $\\text{A}$?\n",
    "\n",
    "First create $\\text{m}\\times \\text{n}$ matrix with all zeros.\n",
    "We will recover $\\text{A}$ by overwriting the entries in the zeros matrix row by row with the non-zero entries in $\\text{A}$ as follows:"
   ]
  },
  {
   "cell_type": "code",
   "execution_count": null,
   "id": "d3233e0c",
   "metadata": {
    "hidden": true,
    "id": "5e313369"
   },
   "outputs": [],
   "source": [
    "def CSR_to_full(values, column_indices, row_ptr, m,n):\n",
    "    A = zeros(m,n)\n",
    "    for row in range(n):\n",
    "        if row_ptr is not null:\n",
    "            A[row,column_indices[row_ptr[row]: row_ptr[row+1]]] = values[row_ptr[row]:row_ptr[row+1]]\n",
    "    return A\n"
   ]
  },
  {
   "cell_type": "code",
   "execution_count": null,
   "id": "01fa635a",
   "metadata": {
    "hidden": true
   },
   "outputs": [],
   "source": []
  },
  {
   "cell_type": "code",
   "execution_count": null,
   "id": "a00902d0",
   "metadata": {
    "hidden": true
   },
   "outputs": [],
   "source": []
  },
  {
   "cell_type": "code",
   "execution_count": null,
   "id": "082c198c",
   "metadata": {
    "hidden": true
   },
   "outputs": [],
   "source": []
  },
  {
   "cell_type": "markdown",
   "id": "69ebcc68",
   "metadata": {
    "heading_collapsed": true
   },
   "source": [
    "### <b style='color:#C71585'> Complexity Analysis"
   ]
  },
  {
   "cell_type": "markdown",
   "id": "8d08b91b",
   "metadata": {
    "hidden": true
   },
   "source": [
    "- [The Complete Guide to Big O Notation & Complexity Analysis for Algorithms: Part 1 of 2](https://www.youtube.com/watch?v=HfIH3czXc-8&list=PLxQ8cCJ6LyOZHhAjIYrEFWcfYdyJl5VYf&index=2)\n",
    "- [The Complete Guide to Big O Notation & Complexity Analysis for Algorithms: Part 2 of 2](https://www.youtube.com/watch?v=zo7YFqw5hNw&list=PLxQ8cCJ6LyOZHhAjIYrEFWcfYdyJl5VYf&index=1)\n",
    "- [2 Rules to Simplifying Big O](https://www.youtube.com/watch?v=sTtOu10mW5c&list=PLxQ8cCJ6LyOZHhAjIYrEFWcfYdyJl5VYf&index=7)"
   ]
  },
  {
   "cell_type": "markdown",
   "id": "eba6c0e8",
   "metadata": {
    "hidden": true
   },
   "source": [
    "##### Anlysize the following from solutions:"
   ]
  },
  {
   "cell_type": "markdown",
   "id": "4eb5e519",
   "metadata": {
    "hidden": true
   },
   "source": [
    "- [LeetCode: suggested_products](https://leetcode.com/problems/search-suggestions-system/)"
   ]
  },
  {
   "cell_type": "markdown",
   "id": "a2bce773",
   "metadata": {
    "heading_collapsed": true,
    "hidden": true
   },
   "source": [
    "##### Selection in expected linear time:"
   ]
  },
  {
   "cell_type": "code",
   "execution_count": null,
   "id": "dfbbc2e0",
   "metadata": {},
   "outputs": [],
   "source": []
  },
  {
   "cell_type": "markdown",
   "id": "d3a73813",
   "metadata": {
    "heading_collapsed": true,
    "hidden": true,
    "jp-MarkdownHeadingCollapsed": true,
    "tags": []
   },
   "source": [
    "##### The look-and-say problem. - [EPI: 6.8] [YT](https://www.youtube.com/watch?v=ea7lJkEhytA)"
   ]
  },
  {
   "cell_type": "markdown",
   "id": "13d5799d",
   "metadata": {
    "hidden": true
   },
   "source": [
    "- Write a program that takes as input an integer `n` and returns the n-th interger in the look-and-say sequence. Return the result as a string."
   ]
  },
  {
   "cell_type": "markdown",
   "id": "4f86789b",
   "metadata": {
    "hidden": true
   },
   "source": [
    "The \"look-and-say\" problem is a sequence generation problem that involves describing a sequence of numbers based on the spoken description of its elements. This problem is also known as the \"count and say\" problem. The sequence is generated iteratively, where each term is obtained by \"reading\" the previous term out loud and describing its elements in terms of counts of consecutive identical digits.\n",
    "\n",
    "The problem can be stated as follows:\n",
    "\n",
    "- Start with the first term: \"1\".\n",
    "- For each subsequent term, read the previous term out loud and count the consecutive occurrences of each digit.\n",
    "- Describe the count and the digit itself to generate the next term.\n",
    "- For example, the first few terms of the look-and-say sequence are:\n",
    "\n",
    "    -    `1`\n",
    "    -    `11 (One 1)`\n",
    "    -    `21 (Two 1s)`\n",
    "    -    `1211 (One 2, One 1)`\n",
    "    -    `111221 (One 1, One 2, Two 1s)`\n",
    "    -    `...`\n"
   ]
  },
  {
   "cell_type": "markdown",
   "id": "1f19094e",
   "metadata": {
    "hidden": true
   },
   "source": [
    "The problem is typically defined as follows:\n",
    "\n",
    "- Start with a seed value, which is usually the number 1.\n",
    "- Read off the digits of the seed value, counting the number of digits in groups of the same digit. For example, if the seed value is 1123, you would read it as \"two 1s, one 2, one 3.\"\n",
    "- Generate the next value in the sequence by concatenating the count and the digit for each group. Using the previous example, the next value would be \"211213.\"\n",
    "- Repeat steps 2 and 3, using the generated value as the new seed value."
   ]
  },
  {
   "cell_type": "code",
   "execution_count": null,
   "id": "19883eae",
   "metadata": {
    "code_folding": [],
    "hidden": true
   },
   "outputs": [],
   "source": [
    "def look_and_say(n: int) -> str:\n",
    "\n",
    "    def _next_seq(s: str) -> str:\n",
    "        res = []\n",
    "        count = 1\n",
    "        for i in range(1, len(s)):\n",
    "            if s[i] == s[i-1]:\n",
    "                count += 1\n",
    "            else:\n",
    "                res.append(str(count) + s[i-1])\n",
    "                count = 1\n",
    "        \n",
    "        res.append(str(count) + s[-1])\n",
    "        \n",
    "        return ''.join(res)\n",
    "\n",
    "    s = '1'\n",
    "    for _ in range(1, n):\n",
    "        s = _next_seq(s)\n",
    "    return s"
   ]
  },
  {
   "cell_type": "markdown",
   "id": "6533fcad",
   "metadata": {
    "hidden": true
   },
   "source": [
    "**Time Complexity**: Each successive number can have at most twice as many digits as the previous number - this happens when all the digits are different. This means the maximum-length number has lentrh no more than $2^n$. Since there are n iterations and the work in each iteration is proportional to the length of the number computed in the iteration, a simple bound on the time complexity is $O(n \\cdot 2^n)$"
   ]
  },
  {
   "cell_type": "code",
   "execution_count": null,
   "id": "4330a211",
   "metadata": {
    "hidden": true
   },
   "outputs": [],
   "source": []
  },
  {
   "cell_type": "markdown",
   "id": "e5ac5fce",
   "metadata": {
    "heading_collapsed": true,
    "hidden": true
   },
   "source": [
    "##### Order Statistics:"
   ]
  },
  {
   "cell_type": "code",
   "execution_count": null,
   "id": "56a8601c",
   "metadata": {
    "hidden": true
   },
   "outputs": [],
   "source": [
    "def find_kth_smallest(k, A):\n",
    "    def find_kth(comp):\n",
    "        \"\"\"Partition A[low:high + 1] around pivot_idx.\n",
    "        \n",
    "        After partitioning, A[low:new_pivot_idx] contains elements that are\n",
    "        \"less than\" the pivot, and A[new_pivot_idx + 1:high + 1] contains\n",
    "        elements that are \"greater than\" the pivot.\n",
    "        \"\"\"\n",
    "        def partition_around_pivot(low, high, pivot_idx):\n",
    "            \"\"\"Returns the new index of the pivot element after partition.\"\"\"\n",
    "            pivot_value = A[pivot_idx]\n",
    "            new_pivot_idx = low\n",
    "            swap(A, pivot_idx, high)\n",
    "\n",
    "            for i in range(low, high):\n",
    "                if comp(A[i], pivot_value):\n",
    "                    swap(A, new_pivot_idx, i)\n",
    "                    new_pivot_idx += 1\n",
    "\n",
    "            swap(A, new_pivot_idx, high)\n",
    "            return new_pivot_idx\n",
    "\n",
    "        low, high = 0, len(A) - 1\n",
    "        while low <= high:\n",
    "            print(low, high)\n",
    "            print(A)\n",
    "            sleep(1)\n",
    "            # Generates a random integer in [low, high].\n",
    "            pivot_idx = randint(low, high)\n",
    "            ith_smallest = partition_around_pivot(low, high, pivot_idx)\n",
    "\n",
    "            if ith_smallest + 1 < k: low = ith_smallest + 1\n",
    "            elif ith_smallest + 1 > k: high = ith_smallest - 1\n",
    "            else: return A[ith_smallest]\n",
    "\n",
    "    return find_kth(lt)"
   ]
  },
  {
   "cell_type": "code",
   "execution_count": null,
   "id": "c75a3ef0",
   "metadata": {
    "hidden": true
   },
   "outputs": [],
   "source": [
    "def test_find_kth_smallest():\n",
    "#     L = sample([*range(500)], 100)\n",
    "#     k = randint(1, len(L))\n",
    "    L = sorted([*range(10)], reverse=True)\n",
    "    k = 1\n",
    "\n",
    "    expected = sorted(L)[k - 1]\n",
    "    returned = find_kth_smallest(k, L)\n",
    "#     print(k, expected, returned, L)\n",
    "    assert expected == returned\n",
    "\n",
    "test_find_kth_smallest()"
   ]
  },
  {
   "cell_type": "markdown",
   "id": "1c0f5db1",
   "metadata": {
    "hidden": true
   },
   "source": [
    "- $\\mathcal{O}(N) = N/2 + N/4 + N/8 + \\dots + 1$"
   ]
  },
  {
   "cell_type": "code",
   "execution_count": null,
   "id": "7d2e0fc3",
   "metadata": {
    "hidden": true
   },
   "outputs": [],
   "source": []
  },
  {
   "cell_type": "code",
   "execution_count": null,
   "id": "0a04f539",
   "metadata": {
    "hidden": true
   },
   "outputs": [],
   "source": [
    "import random\n",
    "\n",
    "def select_nth(n, items):\n",
    "    pivot = random.choice(items)\n",
    "\n",
    "    lesser = [item for item in items if item < pivot]\n",
    "    if len(lesser) > n: return select_nth(n, lesser)\n",
    "    n -= len(lesser)\n",
    "\n",
    "    numequal = items.count(pivot)\n",
    "    if numequal > n: return pivot\n",
    "    n -= numequal\n",
    "\n",
    "    greater = [item for item in items if item > pivot]\n",
    "    return select_nth(n, greater)"
   ]
  },
  {
   "cell_type": "code",
   "execution_count": null,
   "id": "7ddfeb6b",
   "metadata": {
    "hidden": true
   },
   "outputs": [],
   "source": [
    "def test_select_nth():\n",
    "    L = [randint(-10,10) for _ in range(15)]\n",
    "    print(L, select_nth(2, L), sep='\\n')\n",
    "\n",
    "test_select_nth()"
   ]
  },
  {
   "cell_type": "code",
   "execution_count": null,
   "id": "f35b5ad7",
   "metadata": {
    "hidden": true
   },
   "outputs": [],
   "source": []
  },
  {
   "cell_type": "code",
   "execution_count": null,
   "id": "28c2600b",
   "metadata": {
    "hidden": true
   },
   "outputs": [],
   "source": []
  },
  {
   "cell_type": "markdown",
   "id": "b99afcbf",
   "metadata": {
    "hidden": true
   },
   "source": [
    "You can trivially turn this into a method to find medians:"
   ]
  },
  {
   "cell_type": "code",
   "execution_count": null,
   "id": "17da235f",
   "metadata": {
    "hidden": true
   },
   "outputs": [],
   "source": [
    "def median(items):\n",
    "    if len(items) % 2:\n",
    "        return select_nth(len(items)//2, items)\n",
    "\n",
    "    else:\n",
    "        left  = select_nth((len(items)-1) // 2, items)\n",
    "        right = select_nth((len(items)+1) // 2, items)\n",
    "\n",
    "        return (left + right) / 2"
   ]
  },
  {
   "cell_type": "code",
   "execution_count": null,
   "id": "702efafe",
   "metadata": {
    "hidden": true
   },
   "outputs": [],
   "source": [
    "def test_median():\n",
    "    L = [randint(-10,10) for _ in range(15)]\n",
    "    print(L, median(L), sep='\\n')\n",
    "\n",
    "test_median()"
   ]
  },
  {
   "cell_type": "code",
   "execution_count": null,
   "id": "5edf60b2",
   "metadata": {
    "hidden": true
   },
   "outputs": [],
   "source": []
  },
  {
   "cell_type": "markdown",
   "id": "e63e3f09",
   "metadata": {
    "heading_collapsed": true,
    "hidden": true
   },
   "source": [
    "##### Finding the kth smallest element in a sequence where duplicates are compressed?"
   ]
  },
  {
   "cell_type": "markdown",
   "id": "7a6582d0",
   "metadata": {
    "hidden": true
   },
   "source": [
    "I've been asked to write a program to find the kth order statistic of a data set consisting of character and their occurrences. For example, I have a data set consisting of [B,A,C,A,B,C,A,D]. Here I have A with 3 occurrences, B with 2 occurrences C with 2 occurrences and D with on occurrence. They can be grouped in pairs (characters, number of occurrences), so, for example, we could represent the above sequence as\n",
    "\n",
    "(A,3), (B,2), (C,2) and (D,1). Assuming than `k` in the number of these pairs, I am asked to find the kth of the data set in `O(n)` where `n` is the number of pairs.\n",
    "\n",
    "I thought could sort the element based their number of occurrence and find their kth smallest elements, but that won't work in the time bounds. Can I please have some help on the algorithm for this problem?"
   ]
  },
  {
   "cell_type": "markdown",
   "id": "7ec5784d",
   "metadata": {
    "hidden": true
   },
   "source": [
    "Answer:\n",
    "\n",
    "Assuming that you have access to a linear-time selection algorithm, here's a simple divide-and-conquer algorithm for solving the problem. I'm going to let `k` denote the total number of pairs and `m` be the index you're looking for.\n",
    "\n",
    "- If there's just one pair, return the key in that pair.\n",
    "Otherwise:\n",
    " - Using a linear-time selection algorithm, find the median element. Let `medFreq` be its frequency.\n",
    " - Sum up the frequencies of the elements less than the median. Call this `less`. Note that the number of elements less than or equal to the median is `less + medFreq`.\n",
    "  - If `less` < m < `less + medFreq`, return the key in the median element.\n",
    "  - Otherwise, if m ≤ `less`, recursively search for the mth element in the first half of the array.\n",
    "  - Otherwise (m > `less + medFreq`), recursively search for the (m - `less` - `medFreq`)th element in the second half of the array.\n",
    "  \n",
    "  \n",
    "The key insight here is that each iteration of this algorithm tosses out half of the pairs, so each recursive call is on an array half as large as the original array. This gives us the following recurrence relation:\n",
    "\n",
    "T(k) = T(k / 2) + O(k)"
   ]
  },
  {
   "cell_type": "code",
   "execution_count": null,
   "id": "01807652",
   "metadata": {
    "hidden": true
   },
   "outputs": [],
   "source": []
  },
  {
   "cell_type": "code",
   "execution_count": null,
   "id": "3e88130d",
   "metadata": {
    "hidden": true
   },
   "outputs": [],
   "source": []
  },
  {
   "cell_type": "markdown",
   "id": "d3173c6f",
   "metadata": {
    "heading_collapsed": true,
    "hidden": true
   },
   "source": [
    "#### Machine Learning Algorithms"
   ]
  },
  {
   "cell_type": "markdown",
   "id": "84f617d7",
   "metadata": {
    "hidden": true
   },
   "source": [
    "- [Medium: Computational Complexity of ML Models](https://medium.com/analytics-vidhya/time-complexity-of-ml-models-4ec39fad2770)\n",
    "- [Computational complexity of machine learning algorithms](https://www.thekerneltrip.com/machine/learning/computational-complexity-learning-algorithms/)"
   ]
  },
  {
   "cell_type": "markdown",
   "id": "ba9e5c97",
   "metadata": {
    "hidden": true
   },
   "source": [
    "#### "
   ]
  },
  {
   "cell_type": "code",
   "execution_count": null,
   "id": "0bc45b46",
   "metadata": {
    "hidden": true
   },
   "outputs": [],
   "source": []
  }
 ],
 "metadata": {
  "kernelspec": {
   "display_name": "Python 3 (ipykernel)",
   "language": "python",
   "name": "python3"
  },
  "language_info": {
   "codemirror_mode": {
    "name": "ipython",
    "version": 3
   },
   "file_extension": ".py",
   "mimetype": "text/x-python",
   "name": "python",
   "nbconvert_exporter": "python",
   "pygments_lexer": "ipython3",
   "version": "3.9.6"
  },
  "toc": {
   "base_numbering": 1,
   "nav_menu": {},
   "number_sections": true,
   "sideBar": true,
   "skip_h1_title": false,
   "title_cell": "Table of Contents",
   "title_sidebar": "Contents",
   "toc_cell": false,
   "toc_position": {},
   "toc_section_display": true,
   "toc_window_display": false
  }
 },
 "nbformat": 4,
 "nbformat_minor": 5
}
