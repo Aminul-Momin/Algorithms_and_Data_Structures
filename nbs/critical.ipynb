{
 "cells": [
  {
   "cell_type": "code",
   "execution_count": null,
   "metadata": {},
   "outputs": [],
   "source": [
    "import string, os, heapq\n",
    "from random import randint, randrange, shuffle, sample, choices, choice\n",
    "\n",
    "import collections\n",
    "from collections import Counter, defaultdict, OrderedDict\n",
    "from typing import Sequence, Container, List\n",
    "from itertools import product, groupby\n",
    "from functools import reduce"
   ]
  },
  {
   "cell_type": "code",
   "execution_count": null,
   "metadata": {},
   "outputs": [],
   "source": [
    "from ads.utils import *\n",
    "ADS = os.environ['ADS']"
   ]
  },
  {
   "cell_type": "code",
   "execution_count": null,
   "metadata": {},
   "outputs": [],
   "source": [
    "# sys.path.insert(0, '../Util')  # add Util package at begining of your python path.\n",
    "# %run -i './util.py'\n",
    "# %run -i '/Users/am/mydocs/Software_Development/Algorithms_and_Data_Structures/ads/utils/utils.py'"
   ]
  },
  {
   "cell_type": "markdown",
   "metadata": {},
   "source": [
    "##### [567.Permutation in String](https://leetcode.com/problems/permutation-in-string/description/)"
   ]
  },
  {
   "cell_type": "markdown",
   "metadata": {},
   "source": [
    "Given two strings `s1` and `s2`, write a function that return true if `s2` contains a permutation of `s1`, or false otherwise. In other words, return true if one of `s1`'s permutations is the substring of `s2`."
   ]
  },
  {
   "cell_type": "code",
   "execution_count": null,
   "metadata": {},
   "outputs": [],
   "source": [
    "def is_permutation(s1, s2):\n",
    "    s1_counter = Counter(s1)\n",
    "    k = len(s1)\n",
    "    if k > len(s2): return False\n",
    "    \n",
    "    for i in range(k, len(s2)+1):\n",
    "        s2_counter = Counter(s2[i-k:i])\n",
    "        if s1_counter == s2_counter: return True\n",
    "\n",
    "    return False"
   ]
  },
  {
   "cell_type": "code",
   "execution_count": null,
   "metadata": {},
   "outputs": [],
   "source": [
    "def check_inclusion(s1: str, s2: str) -> bool:\n",
    "    \n",
    "    m, n = len(s1), len(s2)\n",
    "    if m > n: return False\n",
    "\n",
    "    s1_count = Counter(s1)\n",
    "    window_count = Counter(s2[:m])\n",
    "\n",
    "    if s1_count == window_count: return True\n",
    "\n",
    "    # Slide the window over s2\n",
    "    for right, char in enumerate(s2[m:], m):\n",
    "\n",
    "        window_count[char] += 1\n",
    "        window_count[s2[right - m]] -= 1\n",
    "\n",
    "        # If the count goes to zero, remove it from the counter\n",
    "        if window_count[s2[right - m]] == 0: del window_count[s2[right - m]]\n",
    "\n",
    "        if s1_count == window_count: return True\n",
    "\n",
    "    return False"
   ]
  },
  {
   "cell_type": "code",
   "execution_count": null,
   "metadata": {},
   "outputs": [],
   "source": [
    "def check_inclusion_v2(s1: str, s2: str) -> bool:\n",
    "    \n",
    "    len1, len2 = len(s1), len(s2)\n",
    "    if len1 > len2: return False\n",
    "\n",
    "    s1_count = Counter(s1)\n",
    "    window_count = Counter(s2[:len1])\n",
    "\n",
    "    if s1_count == window_count: return True\n",
    "\n",
    "    # Slide the window over s2\n",
    "    for i in range(len1, len2):\n",
    "\n",
    "        window_count[s2[i]] += 1\n",
    "        window_count[s2[i - len1]] -= 1\n",
    "\n",
    "        # If the count goes to zero, remove it from the counter\n",
    "        if window_count[s2[i - len1]] == 0: del window_count[s2[i - len1]]\n",
    "\n",
    "        if s1_count == window_count: return True\n",
    "\n",
    "    return False"
   ]
  },
  {
   "cell_type": "code",
   "execution_count": null,
   "metadata": {},
   "outputs": [],
   "source": [
    "def test_check_inclusion():\n",
    "    test_cases = [\n",
    "        (\"ab\", \"eidbaooo\", True),  # \"ba\" is a permutation of \"ab\"\n",
    "        (\"ab\", \"eidboaoo\", False), # No permutation of \"ab\" in \"eidboaoo\"\n",
    "        (\"adc\", \"dcda\", True),     # \"dca\" or \"cad\" is a permutation of \"adc\"\n",
    "        (\"hello\", \"ooolleoooleh\", False), # No permutation of \"hello\" in \"ooolleoooleh\"\n",
    "        (\"a\", \"a\", True),          # \"a\" is trivially a permutation of \"a\"\n",
    "        (\"abc\", \"bbbca\", True),    # \"bca\" is a permutation of \"abc\"\n",
    "        (\"abc\", \"bbbab\", False),   # No permutation of \"abc\" in \"bbbab\"\n",
    "        (\"\", \"anything\", True),    # Empty string is trivially a permutation\n",
    "        (\"anything\", \"\", False),   # Non-empty string cannot be found in an empty string\n",
    "        (\"xyz\", \"zyxwvutsrqponmlkjihgfedcba\", True),  # \"xyz\" is a permutation of \"zyx\"\n",
    "        (\"aaa\", \"aaaaaa\", True),   # \"aaa\" is trivially a permutation of \"aaa\"\n",
    "        (\"xyz\", \"axyzxyzxyz\", True), # \"xyz\" is a permutation of itself, appearing multiple times\n",
    "        (\"longstring\", \"thisisaverylongstringexample\", True), # \"longstring\" is a permutation of \"longstring\"\n",
    "        (\"short\", \"longstringexample\", False), # No permutation of \"short\" in \"longstringexample\"\n",
    "        (\"123\", \"321\", True),      # \"321\" is a permutation of \"123\"\n",
    "    ]\n",
    "\n",
    "    # Example usage to test the function\n",
    "    for s1, s2, expected in test_cases:\n",
    "        try:\n",
    "            result1 = is_permutation(s1, s2)\n",
    "            result2 = check_inclusion(s1, s2)\n",
    "            assert result1 == expected == result2\n",
    "        except AssertionError:\n",
    "            print(f\"check_inclusion('{s1}', '{s2}') = {result1}, expected: {expected}\")\n",
    "#=================================================================\n",
    "test_check_inclusion()"
   ]
  },
  {
   "cell_type": "code",
   "execution_count": null,
   "metadata": {},
   "outputs": [],
   "source": []
  },
  {
   "cell_type": "markdown",
   "metadata": {},
   "source": [
    "##### Minimum Window Substring - [EPI: 12.07]"
   ]
  },
  {
   "cell_type": "markdown",
   "metadata": {},
   "source": [
    "[LeetcodeSol: 76](https://leetcode.com/problems/minimum-window-substring/) | [CoderByte](https://coderbyte.com/video/min-window-substring-solution) | [BackToBack](https://www.youtube.com/watch?v=eS6PZLjoaq8)"
   ]
  },
  {
   "cell_type": "markdown",
   "metadata": {},
   "source": [
    "Given two strings `s` and `t` of lengths `m` and `n` respectively, return the minimum window \n",
    "substring of `s` such that every character in `t` (including duplicates) is included in the window. If there is no such substring, return the empty string \"\"."
   ]
  },
  {
   "cell_type": "markdown",
   "metadata": {},
   "source": [
    "<div style=\"text-align:center\" ><img src=\"../assets/min_window_substring.png\" width=\"800\" height=\"500\" /></div>\n",
    "<div style=\"text-align:center\" ><img src=\"../assets/min_window_scenario_breakdown.png\" width=\"800\" height=\"500\" /></div>"
   ]
  },
  {
   "cell_type": "markdown",
   "metadata": {},
   "source": [
    "**Brute Force Approch**:"
   ]
  },
  {
   "cell_type": "code",
   "execution_count": null,
   "metadata": {},
   "outputs": [],
   "source": [
    "def min_window_substring(s, t):\n",
    "\n",
    "    frequency_t = Counter(t)\n",
    "    options = []\n",
    "    \n",
    "    for i in range(len(s)):\n",
    "        curr = Counter()\n",
    "        for j in range(i, len(s)):\n",
    "            curr[s[j]] += 1\n",
    "            # if not frequency_t - curr: # if Empyt counter\n",
    "            if len(frequency_t - curr) == 0 :\n",
    "                options.append(s[i: j+1])\n",
    "\n",
    "    return min(options, key=len) if options else \"\""
   ]
  },
  {
   "cell_type": "code",
   "execution_count": null,
   "metadata": {},
   "outputs": [],
   "source": [
    "def test_min_window():\n",
    "    test_cases = [[\"ADOBECODEBANC\", \"ABC\", \"BANC\"], [\"bbcccccaaaa\", \"bccaa\", \"bcccccaa\"], [\"aa\", \"aa\", \"aa\"], [\"a\", \"aa\", \"\"]]\n",
    "    for text, pattern, expected in test_cases:\n",
    "        returned = min_window_substring(text, pattern)\n",
    "        try:\n",
    "            assert returned == expected\n",
    "            # print(green('PASSED'))\n",
    "        except:\n",
    "            print(red('FAILED'))\n",
    "            print(text, pattern, expected, returned)\n",
    "\n",
    "test_min_window()"
   ]
  },
  {
   "cell_type": "markdown",
   "metadata": {},
   "source": [
    "Leetcode Solutions:"
   ]
  },
  {
   "cell_type": "markdown",
   "metadata": {},
   "source": [
    "Given two strings `s` and `t` of lengths `m` and `n` respectively, return the minimum window substring of `s` such that every character in `t` (including duplicates) is included in the window substring. If there is no such substring, return the empty string `\"\"`.\n",
    "\n",
    "- The testcases will be generated such that the answer is unique.\n",
    "\n",
    "- A substring is a contiguous sequence of characters within the string.\n",
    "\n",
    " \n",
    "\n",
    "- Example 1:\n",
    "    - Input: s = \"ADOBECODEBANC\", t = \"ABC\"\n",
    "    - Output: \"BANC\"\n",
    "    - Explanation: The minimum window substring \"BANC\" includes 'A', 'B', and 'C' from string t.\n",
    "- Example 2:\n",
    "    - Input: s = \"a\", t = \"a\"\n",
    "    - Output: \"a\"\n",
    "    - Explanation: The entire string s is the minimum window.\n",
    "- Example 3:\n",
    "    - Input: s = \"a\", t = \"aa\"\n",
    "    - Output: \"\"\n",
    "    - Explanation: Both 'a's from t must be included in the window. Since the largest window of s only has one 'a', return empty string.\n",
    " \n",
    "\n",
    "- Constraints:\n",
    "    - m == len(s)\n",
    "    - n == len(t)\n",
    "    - 1 <= m, n <= 105\n",
    "    - `s` and `t` consist of uppercase and lowercase English letters.\n",
    " \n",
    "\n",
    "- Follow up: Could you find an algorithm that runs in O(m + n) time?"
   ]
  },
  {
   "cell_type": "markdown",
   "metadata": {},
   "source": [
    "<div style=\"text-align:center\" ><img src=\"../assets/min_win_substring.png\" width=\"500\" height=\"300\" /></div>"
   ]
  },
  {
   "cell_type": "code",
   "execution_count": null,
   "metadata": {},
   "outputs": [],
   "source": [
    "def min_window_v1(s: str, t: str):\n",
    "\n",
    "    chars_count = Counter(t)\n",
    "    res = (float('inf'), -1, -1)\n",
    "    remaining_to_cover = len(t)\n",
    "    left = 0\n",
    "\n",
    "    for right, right_char in enumerate(s):\n",
    "        if right_char in t:\n",
    "            chars_count[right_char] -= 1\n",
    "\n",
    "            # Note the effects of `>=` vs `==`.\n",
    "            if chars_count[right_char] >= 0: remaining_to_cover -= 1\n",
    "\n",
    "        while remaining_to_cover == 0:\n",
    "            if right-left +1 < res[0]:\n",
    "                res = (right-left+1, left, right)\n",
    "\n",
    "            left_char = s[left]\n",
    "            if left_char in t:\n",
    "                chars_count[left_char] += 1\n",
    "                if chars_count[left_char] > 0: remaining_to_cover += 1\n",
    "            left += 1\n",
    "\n",
    "    return \"\" if res[0] == float('inf') else s[res[1] : res[2]+1]"
   ]
  },
  {
   "cell_type": "code",
   "execution_count": null,
   "metadata": {},
   "outputs": [],
   "source": []
  },
  {
   "cell_type": "markdown",
   "metadata": {},
   "source": [
    "##### [228. Summary Ranges](https://leetcode.com/problems/summary-ranges/description/) <b style=\"color:orange\">***</b>"
   ]
  },
  {
   "cell_type": "markdown",
   "metadata": {},
   "source": [
    "You are given a `sorted` unique integer array `nums`. \n",
    "\n",
    "A range `[a,b]` is the set of all integers from a to b (inclusive).\n",
    "\n",
    "Return the smallest sorted list of ranges that cover all the numbers in the array exactly. That is, each element of nums is covered by exactly one of the ranges, and there is no integer x such that x is in one of the ranges but not in nums.\n",
    "\n",
    "-   Each range `[a,b]` in the list should be output as:\n",
    "\n",
    "    -   \"a->b\" if a != b\n",
    "    -   \"a\" if a == b\n",
    " \n",
    "\n",
    "-   **Example 1**:\n",
    "\n",
    "    -   `Input`: nums = [0,1,2,4,5,7]\n",
    "    -   `Output`: [\"0->2\",\"4->5\",\"7\"]\n",
    "    -   `Explanation`: The ranges are:\n",
    "        [0,2] --> \"0->2\"\n",
    "        [4,5] --> \"4->5\"\n",
    "        [7,7] --> \"7\"\n",
    "\n",
    "-   **Example 2**:\n",
    "\n",
    "    -   `Input`: nums = [0,2,3,4,6,8,9]\n",
    "    -   `Output`: [\"0\",\"2->4\",\"6\",\"8->9\"]\n",
    "    -   `Explanation`: The ranges are:\n",
    "        [0,0] --> \"0\"\n",
    "        [2,4] --> \"2->4\"\n",
    "        [6,6] --> \"6\"\n",
    "        [8,9] --> \"8->9\"\n"
   ]
  },
  {
   "cell_type": "code",
   "execution_count": null,
   "metadata": {},
   "outputs": [],
   "source": [
    "def summary_ranges(nums):\n",
    "\n",
    "    if not nums: return []\n",
    "    result, left = [], 0\n",
    "\n",
    "    for right, num in enumerate(nums[1:], 1):\n",
    "        if num != nums[right-1] + 1:\n",
    "            if nums[right-1] == nums[left]: result.append(str(nums[right-1]))\n",
    "            else: result.append(f\"{nums[left]}->{nums[right-1]}\")\n",
    "\n",
    "            left = right\n",
    "\n",
    "    if left == right: result.append(str(nums[-1]))\n",
    "    else: result.append(f\"{nums[left]}->{nums[-1]}\")\n",
    "\n",
    "    return result"
   ]
  },
  {
   "cell_type": "code",
   "execution_count": null,
   "metadata": {},
   "outputs": [
    {
     "name": "stdout",
     "output_type": "stream",
     "text": [
      "['0->2', '4->5', '7']\n",
      "['0', '2->4', '6', '8->9']\n"
     ]
    }
   ],
   "source": [
    "# Example usage:\n",
    "print(summary_ranges([0, 1, 2, 4, 5, 7]))     # Output: [\"0->2\", \"4->5\", \"7\"]\n",
    "print(summary_ranges([0, 2, 3, 4, 6, 8, 9]))  # Output: [\"0\", \"2->4\", \"6\", \"8->9\"]"
   ]
  },
  {
   "cell_type": "code",
   "execution_count": null,
   "metadata": {},
   "outputs": [],
   "source": [
    "def summary_ranges(nums):\n",
    "\n",
    "    if not nums: return []\n",
    "    result, left_edge = [], nums[0]\n",
    "\n",
    "    for i, num in enumerate(nums[1:], 1):\n",
    "        if num != nums[i-1] + 1:\n",
    "            if nums[i-1] == left_edge: result.append(str(nums[i-1]))\n",
    "            else: result.append(f\"{left_edge}->{nums[i-1]}\")\n",
    "            left_edge = num\n",
    "    \n",
    "    if nums[-1] != left_edge: result.append(f\"{left_edge}->{nums[-1]}\")\n",
    "    else: result.append(str(nums[-1]))\n",
    "\n",
    "    return result"
   ]
  },
  {
   "cell_type": "code",
   "execution_count": null,
   "metadata": {},
   "outputs": [
    {
     "name": "stdout",
     "output_type": "stream",
     "text": [
      "['0->2', '4->5', '7']\n",
      "['0', '2->4', '6', '8->9']\n"
     ]
    }
   ],
   "source": [
    "def summary_ranges(nums):\n",
    "    if not nums: return []\n",
    "    \n",
    "    ranges = []\n",
    "    start = end = nums[0]\n",
    "    \n",
    "    for i in range(1, len(nums)):\n",
    "        if nums[i] == end + 1: end = nums[i]\n",
    "        else:\n",
    "            if start == end: ranges.append(f\"{start}\")\n",
    "            else           : ranges.append(f\"{start}->{end}\")\n",
    "\n",
    "            start = end = nums[i]\n",
    "    \n",
    "    # Add the last range\n",
    "    if start == end: ranges.append(f\"{start}\")\n",
    "    else           : ranges.append(f\"{start}->{end}\")\n",
    "    \n",
    "    return ranges"
   ]
  },
  {
   "cell_type": "code",
   "execution_count": null,
   "metadata": {},
   "outputs": [
    {
     "name": "stdout",
     "output_type": "stream",
     "text": [
      "['0->2', '4->5', '7']\n",
      "['0', '2->4', '6', '8->9']\n"
     ]
    }
   ],
   "source": [
    "# Example usage:\n",
    "print(summary_ranges([0, 1, 2, 4, 5, 7]))  # Output: [\"0->2\", \"4->5\", \"7\"]\n",
    "print(summary_ranges([0, 2, 3, 4, 6, 8, 9]))  # Output: [\"0\", \"2->4\", \"6\", \"8->9\"]"
   ]
  },
  {
   "cell_type": "markdown",
   "metadata": {},
   "source": [
    "##### Replace and remove. - [EPI: 6.4]"
   ]
  },
  {
   "cell_type": "markdown",
   "metadata": {},
   "source": [
    "You are given an array of characters `chars`, which contains lowercase letters, 'a' and 'b'. You need to perform two operations on the array:\n",
    "\n",
    "- Replace every occurrence of 'a' with two 'd' characters.\n",
    "- Remove every occurrence of 'b'.\n",
    "\n",
    "Your task is to modify the array <b style=\"color:red\">in-place</b> and return the final length of the resulting array."
   ]
  },
  {
   "cell_type": "markdown",
   "metadata": {},
   "source": [
    "Write a program which takes as input an array of characters, and removes each `b` and replaces each `a` by two `d`s. \n",
    "\n",
    "Specifically, along with the array, you'r provided an integer-valued size which denotes the number of entries of the array that the operation is to be applied to. \n",
    "\n",
    "You do not have to worry preserving about subsequent entries. For example, if the array is [a,b,a,c,...] and the size is 4, then you can return [d,d,d,d,c]. You can assume there is enough space in the array to hold the final result."
   ]
  },
  {
   "cell_type": "code",
   "execution_count": null,
   "metadata": {},
   "outputs": [],
   "source": [
    "def replace_and_remove(size: int, s: List[chr]) -> int:\n",
    "    \"\"\"\n",
    "    Returns: the size of the replaced and removed string.\n",
    "    \"\"\"\n",
    "\n",
    "    # Forward iteration: remove 'b's and count the number of 'a's.\n",
    "    write_idx, a_count = 0, 0\n",
    "    for i in range(size):\n",
    "        if s[i] != 'b':\n",
    "            s[write_idx] = s[i]\n",
    "            write_idx += 1\n",
    "        if s[i] == 'a':\n",
    "            a_count += 1\n",
    "\n",
    "    cur_idx = write_idx - 1\n",
    "    write_idx += a_count - 1\n",
    "    final_size = write_idx + 1\n",
    "\n",
    "    # Backward iteration: replace 'a's with 'dd's starting from the end.\n",
    "    while cur_idx >= 0:\n",
    "        if s[cur_idx] == 'a':\n",
    "            s[write_idx-1: write_idx+1] = 'dd'\n",
    "            write_idx -= 2\n",
    "        else:\n",
    "            s[write_idx] = s[cur_idx]\n",
    "            write_idx -= 1\n",
    "\n",
    "        cur_idx -= 1\n",
    "\n",
    "    return final_size"
   ]
  },
  {
   "cell_type": "code",
   "execution_count": null,
   "metadata": {},
   "outputs": [],
   "source": [
    "def _test_replace_and_remove():\n",
    "    for _ in range(10):\n",
    "        s = \"\".join(choices(string.ascii_lowercase, k=randint(0, 27))) + 'aaaaa'\n",
    "        bs_count = s.count('b')\n",
    "        as_count = s.count('a')\n",
    "        if bs_count > 2*as_count: continue\n",
    "        final_size = len(s) + as_count - bs_count\n",
    "        chars = list(s)\n",
    "        shuffle(chars)        \n",
    "        list_char = chars + ['']*(as_count-bs_count)\n",
    "        \n",
    "        print(\"\".join(list_char))\n",
    "        replace_and_remove(len(s), list_char)\n",
    "        print(\"\".join(list_char))\n",
    "\n",
    "# _test_replace_and_remove()"
   ]
  },
  {
   "cell_type": "markdown",
   "metadata": {},
   "source": [
    "##### Reverse all the words in a sentence. - [EPI: 6.6]"
   ]
  },
  {
   "cell_type": "markdown",
   "metadata": {},
   "source": [
    "Implement a function for reversing the words in a string `s`. Assume the string is represented using a array of characters.\n",
    "- Assume `s` is a string encoded as bytearray.\n"
   ]
  },
  {
   "cell_type": "code",
   "execution_count": null,
   "metadata": {},
   "outputs": [],
   "source": [
    "# Pythonic solution, doesn't reverse in-place, may be used with strings\n",
    "def reverse_words_pythonic(s: str) -> str:\n",
    "    return ' '.join(reversed(s.split(' ')))"
   ]
  },
  {
   "cell_type": "code",
   "execution_count": null,
   "metadata": {},
   "outputs": [],
   "source": [
    "def reverse_words(s: bytearray) -> None:\n",
    "\n",
    "    # First, reverse the whole string.\n",
    "    s.reverse()\n",
    "\n",
    "    def reverse_range(s: bytearray, left_idx: int, right_idx: int) -> None:\n",
    "        while left_idx < right_idx:\n",
    "            s[left_idx], s[right_idx] = s[right_idx], s[left_idx]\n",
    "            left_idx, right_idx = left_idx + 1, right_idx - 1\n",
    "\n",
    "    left_idx = 0\n",
    "    while True:\n",
    "        right_idx = s.find(b' ', left_idx)\n",
    "        if right_idx < 0: break\n",
    "\n",
    "        # Reverses each word in the string.\n",
    "        reverse_range(s, left_idx, right_idx - 1)\n",
    "        left_idx = right_idx + 1\n",
    "\n",
    "    # Reverses the last word.\n",
    "    reverse_range(s, left_idx, len(s) - 1)"
   ]
  },
  {
   "cell_type": "code",
   "execution_count": null,
   "metadata": {},
   "outputs": [],
   "source": []
  },
  {
   "cell_type": "code",
   "execution_count": null,
   "metadata": {},
   "outputs": [],
   "source": [
    "def _test_reverse_words():\n",
    "    for _ in range(10):\n",
    "        s = gen_list_of_words(dir_name=ADS+'data/')\n",
    "        expected = \" \".join(sorted(reversed(s)))\n",
    "        # print(expected)\n",
    "        returned = str(reverse_words(bytearray(\" \".join(s), encoding='ascii')), 'ascii')\n",
    "        assert expected == returned\n",
    "        \n",
    "# _test_reverse_words()"
   ]
  },
  {
   "cell_type": "code",
   "execution_count": null,
   "metadata": {},
   "outputs": [],
   "source": []
  },
  {
   "cell_type": "code",
   "execution_count": null,
   "metadata": {},
   "outputs": [],
   "source": []
  },
  {
   "cell_type": "markdown",
   "metadata": {},
   "source": [
    "##### [5. Longest Palindromic Substring](https://leetcode.com/problems/longest-palindromic-substring/description/) [M]"
   ]
  },
  {
   "cell_type": "markdown",
   "metadata": {},
   "source": [
    "\n",
    "Given a string `s`, return the longest palindromic substring in `s`."
   ]
  },
  {
   "cell_type": "markdown",
   "metadata": {},
   "source": [
    "- Example 1:\n",
    "    - Input: s = \"babad\"\n",
    "    - Output: \"bab\"\n",
    "    - Note: \"aba\" is also a valid answer.\n",
    "\n",
    "- Example 2:\n",
    "    - Input: s = \"cbbd\"\n",
    "    - Output: \"bb\"\n",
    "\n",
    "- Example 3:\n",
    "    - Input: s = \"a\"\n",
    "    - Output: \"a\"\n",
    "\n",
    "- Example 4:\n",
    "    - Input: s = \"ac\"\n",
    "    - Output: \"a\"\n",
    " \n",
    "- Constraints:\n",
    "    1. 1 <= s.length <= 1000\n",
    "    2. `s` consist of only digits and English letters (lower-case and/or upper-case),"
   ]
  },
  {
   "cell_type": "code",
   "execution_count": null,
   "metadata": {},
   "outputs": [
    {
     "data": {
      "text/plain": [
       "'abcdcba'"
      ]
     },
     "metadata": {},
     "output_type": "display_data"
    }
   ],
   "source": [
    "def longest_palindromic_substring_v1(s):\n",
    "    max_len, pal_str = 0, ''\n",
    "\n",
    "    for i in range(len(s)):\n",
    "        left = right = i # Handle Odd length\n",
    "\n",
    "        while left >= 0 and right < len(s) and s[left] == s[right]:\n",
    "            cur_len = right-left + 1\n",
    "            if cur_len > max_len: max_len, pal_str = cur_len, s[left: right+1]\n",
    "            left, right = left-1, right+1\n",
    "\n",
    "        left, right = i, i+1  # Handle Odd length\n",
    "\n",
    "        while left >= 0 and right < len(s) and s[left] == s[right]:\n",
    "            cur_len = right-left + 1\n",
    "            if cur_len > max_len: max_len, pal_str = cur_len, s[left: right+1]\n",
    "            left, right = left-1, right+1\n",
    "\n",
    "    return pal_str\n",
    "\n",
    "longest_palindromic_substring_v1(\"abcdcba\")"
   ]
  },
  {
   "cell_type": "code",
   "execution_count": null,
   "metadata": {},
   "outputs": [],
   "source": [
    "def longest_palindromic_substring_v2(s):\n",
    "\n",
    "    max_len = start = end = 0\n",
    "\n",
    "    for i in range(len(s)):\n",
    "        left = right = i\n",
    "\n",
    "        while left >= 0 and right < len(s): \n",
    "            if s[left] == s[right]: \n",
    "                left -= 1\n",
    "                right += 1\n",
    "            else: break\n",
    "\n",
    "        max_len = max(max_len, right-left-1)\n",
    "\n",
    "        left, right = i, i+1\n",
    "\n",
    "        while left >= 0 and right < len(s): \n",
    "            if s[left] == s[right]: \n",
    "                left -= 1\n",
    "                right += 1\n",
    "            else: break\n",
    "\n",
    "        max_len = max(max_len, right-left-1)\n",
    "\n",
    "\n",
    "        # print(i, max_len)\n",
    "        if max_len > (end - start+1):\n",
    "            start = i - (max_len-1) // 2\n",
    "            end = i + max_len // 2\n",
    "\n",
    "    return s[start: end+1]"
   ]
  },
  {
   "cell_type": "code",
   "execution_count": null,
   "metadata": {},
   "outputs": [],
   "source": [
    "def longest_palindromic_substring_v3(s: str) -> str:\n",
    "    \"\"\"Find longest plindromic substring.\n",
    "\n",
    "    Args:\n",
    "        s (str): [description]\n",
    "    \"\"\"\n",
    "\n",
    "    def expend_around_center(s: str, low, high) -> int:\n",
    "        if not s or low > high: return 0\n",
    "\n",
    "        while low >= 0 and high < len(s) and s[low] == s[high]:\n",
    "            low -= 1\n",
    "            high += 1\n",
    "\n",
    "        # print(low, high, high - low - 1)\n",
    "        return high - low - 1\n",
    "\n",
    "\n",
    "    if not s or len(s) < 1: return \"\"\n",
    "    start = 0\n",
    "    end = 0\n",
    "\n",
    "    for i in range(len(s)):\n",
    "\n",
    "        # Scan all odd length substring\n",
    "        odd_len = expend_around_center(s, i, i)\n",
    "\n",
    "        # Scan all even length substring\n",
    "        even_len = expend_around_center(s, i, i + 1)\n",
    "\n",
    "        length = max(odd_len, even_len)\n",
    "\n",
    "        print(i, length)\n",
    "        if length > (end - start):\n",
    "            start = i - (length - 1) // 2\n",
    "            end = i + length // 2\n",
    "\n",
    "    return s[start:end + 1]"
   ]
  },
  {
   "cell_type": "code",
   "execution_count": null,
   "metadata": {},
   "outputs": [],
   "source": []
  },
  {
   "cell_type": "code",
   "execution_count": null,
   "metadata": {},
   "outputs": [
    {
     "name": "stdout",
     "output_type": "stream",
     "text": [
      "kayak\n"
     ]
    }
   ],
   "source": [
    "# s = ''.join([choice(UPPERCASE) for i in range(20)])\n",
    "s = 'abcdcba'\n",
    "# print(lps(s))\n",
    "print(longest_palindromic_substring_v2(\"kayaking\"))\n"
   ]
  },
  {
   "cell_type": "code",
   "execution_count": null,
   "metadata": {},
   "outputs": [
    {
     "name": "stdout",
     "output_type": "stream",
     "text": [
      "abcdcba\n"
     ]
    }
   ],
   "source": [
    "# This prints the longest palindromic subString and returns it's length.\n",
    "def longest_palindromic_substring_v4(str):\n",
    "\n",
    "    n = len(str)\n",
    "\n",
    "    # All subStrings of length 1 are palindromes\n",
    "    maxLength = 1\n",
    "    start = 0\n",
    "\n",
    "    # Nested loop to mark start and end index\n",
    "    for i in range(n):\n",
    "        for j in range(i, n):\n",
    "            flag = 1\n",
    "\n",
    "            # Check palindrome\n",
    "            for k in range(0, ((j - i) // 2) + 1):\n",
    "                if (str[i + k] != str[j - k]):\n",
    "                    flag = 0\n",
    "\n",
    "            # Palindrome\n",
    "            if (flag != 0 and (j - i + 1) > maxLength):\n",
    "                start = i\n",
    "                maxLength = j - i + 1\n",
    "\n",
    "    # print(\"Longest palindrome subString is: \", end=\"\")\n",
    "    # printSubStr(str, start, start + maxLength - 1)\n",
    "\n",
    "    # Return length of LPS\n",
    "    # return maxLength\n",
    "    return str[start:start + maxLength + 1]\n",
    "\n",
    "print(longest_palindromic_substring_v4(\"abcdcba\"))\n"
   ]
  },
  {
   "cell_type": "code",
   "execution_count": null,
   "metadata": {},
   "outputs": [],
   "source": []
  },
  {
   "cell_type": "markdown",
   "metadata": {},
   "source": [
    "##### Compute all valid IP addresses. - [EPI: 6.10] [NeetCode](https://www.youtube.com/watch?v=61tN4YEdiTM) [Leetcode](https://leetcode.com/problems/restore-ip-addresses/)"
   ]
  },
  {
   "cell_type": "markdown",
   "metadata": {},
   "source": [
    "A decimal string is a  string consisting of digits between 0 and 9. Internet Protocol (IP) addresses can be weitten as four decimal strings separated by periods, e.g., 192.168.1.201. A careless programmer mangles a string representing an IP address in such a way that all the periods vanish.\n",
    "\n",
    "Write a program that determines where to add periods to a decimal string so that the resulting string is a valid IP address. There may be more than one valid IP address corresponding to a string, in which case you should print all possibilities."
   ]
  },
  {
   "cell_type": "code",
   "execution_count": null,
   "metadata": {},
   "outputs": [],
   "source": [
    "def get_valid_ip_address(s: str) -> Container:\n",
    "    \n",
    "    def is_valid_part(s: str) -> bool: return len(s) == 1 or (s[0] != '0' and int(s) <= 255)\n",
    "\n",
    "    result, parts = [], [None] * 4\n",
    "    \n",
    "    for i in range(1, min(4, len(s))):\n",
    "        parts[0] = s[:i]\n",
    "        \n",
    "        if is_valid_part(parts[0]):\n",
    "            for j in range(1, min(4, len(s)-i)):\n",
    "                parts[1] = s[i : i+j]\n",
    "                \n",
    "                if is_valid_part(parts[1]):\n",
    "                    for k in range(1, min(4, len(s)-i-j)):\n",
    "                        parts[2], parts[3] = s[i+j : i+j+k], s[i+j+k :]\n",
    "                        \n",
    "                        if is_valid_part(parts[2]) and is_valid_part(parts[3]):\n",
    "                            result.append('.'.join(parts))\n",
    "    return result"
   ]
  },
  {
   "cell_type": "code",
   "execution_count": null,
   "metadata": {},
   "outputs": [],
   "source": [
    "get_valid_ip_address('0123')"
   ]
  },
  {
   "cell_type": "code",
   "execution_count": null,
   "metadata": {},
   "outputs": [],
   "source": [
    "def get_valid_ip_address_v2(s: str):\n",
    "    def is_valid(s: str) -> bool: \n",
    "        return len(s) == 1 or (s[0] != '0' and int(s) <= 255)\n",
    "    \n",
    "    ips = []\n",
    "    for i in range(1, 4):\n",
    "        if is_valid(s[:i]):\n",
    "            for j in range(1, min(4, len(s)-i)):\n",
    "                if is_valid(s[i:i+j]):\n",
    "                    for k in range(1, min(4, len(s)-i-j)):\n",
    "                        if is_valid(s[i+j:i+j+k]) and is_valid(s[i+j+k:]):\n",
    "                            ips.append(f\"{s[:i]}.{s[i:i+j]}.{s[i+j:i+j+k]}.{s[i+j+k:]}\")\n",
    "\n",
    "    return ips"
   ]
  },
  {
   "cell_type": "code",
   "execution_count": null,
   "metadata": {},
   "outputs": [],
   "source": [
    "test_cases_with_expectations = [\n",
    "    \n",
    "    # Test Case 1: Basic Valid Input\n",
    "    [\"25525511135\", [\"255.255.11.135\", \"255.255.111.35\"]],\n",
    "    \n",
    "    # Test Case 2: Minimum Input\n",
    "    [\"0\", []],\n",
    "    \n",
    "    # Test Case 3: Maximum Input\n",
    "    [\"999999999999\", []],\n",
    "    \n",
    "    # Test Case 4: Single Digit with Zeros\n",
    "    [\"010203\", ['0.1.0.203', '0.10.20.3', '0.102.0.3']],\n",
    "    \n",
    "    # Test Case 5: Invalid Input\n",
    "    [\"256257258\", []],\n",
    "    \n",
    "    # Test Case 6: Leading Zeros\n",
    "    [\"0123\", ['0.1.2.3']],\n",
    "    \n",
    "    # Test Case 7: Random Input\n",
    "    [\"192168001001\", []],\n",
    "]"
   ]
  },
  {
   "cell_type": "code",
   "execution_count": null,
   "metadata": {},
   "outputs": [],
   "source": [
    "def _test_form_ip_addresses():\n",
    "    for test_case, expectation in test_cases_with_expectations:\n",
    "        returned = get_valid_ip_address(test_case)\n",
    "        try:\n",
    "            given_returned_expected(test_case, returned, expectation)\n",
    "            assert returned == expectation\n",
    "        except:\n",
    "            given_returned_expected(test_case, returned, expectation)\n",
    "# =================================================================\n",
    "_test_form_ip_addresses()"
   ]
  },
  {
   "cell_type": "markdown",
   "metadata": {},
   "source": [
    "**Time Complexity**: The total number of IP address is a constant $2^{32}$, implying an $O(1)$ time complexity."
   ]
  },
  {
   "cell_type": "markdown",
   "metadata": {},
   "source": [
    "- NeetCode Solution (Backtracking)"
   ]
  },
  {
   "cell_type": "code",
   "execution_count": null,
   "metadata": {},
   "outputs": [],
   "source": [
    "def form_ip_addresses(s: str):\n",
    "    \n",
    "    def _form_id_addresses(i, dots, partial_ip):\n",
    "        if dots == 4 and i == len(s): res.append(partial_ip[:-1])\n",
    "        if dots > 4: return None\n",
    "        \n",
    "        for j in range(i, min(i+3, len(s))):\n",
    "            if int(s[i:j+1]) <= 255 and (i == j or s[i] != '0'):\n",
    "                _form_id_addresses(j+1, dots+1, partial_ip + s[i:j+1] + '.')\n",
    "    \n",
    "    if len(s) > 12: return None\n",
    "    res = []\n",
    "    return _form_id_addresses(0, 0, \"\")"
   ]
  },
  {
   "cell_type": "code",
   "execution_count": null,
   "metadata": {},
   "outputs": [],
   "source": [
    "def restore_ip_addresses(s):\n",
    "    \n",
    "    def backtrack(s, segments, curr_address):\n",
    "        \n",
    "        # Base case: If all segments are found and the string is exhausted, add the address to the result\n",
    "        if segments == 4 and not s:\n",
    "            result.append(curr_address[:-1])  # Remove the trailing period\n",
    "        \n",
    "        # Base case: If all segments are found but the string is not exhausted, backtrack\n",
    "        elif segments == 4 or not s:\n",
    "            return\n",
    "\n",
    "        # Try different segment lengths (1, 2, 3) and backtrack recursively\n",
    "        for i in range(1, 4):\n",
    "            if i <= len(s):\n",
    "                segment = s[:i]\n",
    "                # Ignore segments starting with 0, except for single-digit segments\n",
    "                if (segment[0] == '0' and len(segment) > 1) or int(segment) > 255: continue\n",
    "                backtrack(s[i:], segments + 1, curr_address + segment + '.')\n",
    "\n",
    "    result = []\n",
    "    backtrack(s, 0, '')\n",
    "    return result"
   ]
  },
  {
   "cell_type": "code",
   "execution_count": null,
   "metadata": {},
   "outputs": [],
   "source": [
    "def _test_form_ip_addresses():\n",
    "    s = \"0\"\n",
    "    returned1 = restore_ip_addresses(s)\n",
    "    returned2 = get_valid_ip_address(s)\n",
    "    assert len(returned1) == len(returned2)\n",
    "    \n",
    "    for ip_address1, ip_address2 in zip(returned1, returned2):\n",
    "        print(ip_address1)\n",
    "        assert ip_address1 == ip_address2\n",
    "# =================================================================\n",
    "_test_form_ip_addresses()"
   ]
  },
  {
   "cell_type": "markdown",
   "metadata": {},
   "source": [
    "***ChatGPT**:"
   ]
  },
  {
   "cell_type": "code",
   "execution_count": null,
   "metadata": {},
   "outputs": [],
   "source": [
    "def restore_ip_addresses(s):\n",
    "    def is_valid_part(part):\n",
    "        return 0 <= int(part) <= 255 and (len(part) == 1 or part[0] != '0')\n",
    "\n",
    "    def backtrack(start, path):\n",
    "        if start == len(s) and len(path) == 4:\n",
    "            valid_ip = \".\".join(path)\n",
    "            valid_ips.append(valid_ip)\n",
    "            return\n",
    "        \n",
    "        if len(path) >= 4:\n",
    "            return\n",
    "        \n",
    "        for end in range(start + 1, min(start + 4, len(s) + 1)):\n",
    "            part = s[start:end]\n",
    "            if is_valid_part(part):\n",
    "                path.append(part)\n",
    "                backtrack(end, path)\n",
    "                path.pop()\n",
    "\n",
    "    valid_ips = []\n",
    "    backtrack(0, [])\n",
    "    \n",
    "    return valid_ips"
   ]
  },
  {
   "cell_type": "code",
   "execution_count": null,
   "metadata": {},
   "outputs": [],
   "source": [
    "# Test the function with an example input\n",
    "decimal_string = \"19216811201\"\n",
    "valid_ips = restore_ip_addresses(decimal_string)\n",
    "for ip in valid_ips:\n",
    "    print(ip)"
   ]
  }
 ],
 "metadata": {
  "language_info": {
   "name": "python"
  }
 },
 "nbformat": 4,
 "nbformat_minor": 2
}
