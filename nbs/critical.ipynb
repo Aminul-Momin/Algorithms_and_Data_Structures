{
 "cells": [
  {
   "cell_type": "code",
   "execution_count": null,
   "metadata": {},
   "outputs": [],
   "source": [
    "import string, os, heapq\n",
    "from random import randint, randrange, shuffle, sample, choices, choice\n",
    "\n",
    "import collections\n",
    "from collections import Counter, defaultdict, OrderedDict\n",
    "from typing import Sequence, Container, List\n",
    "from itertools import product, groupby\n",
    "from functools import reduce"
   ]
  },
  {
   "cell_type": "code",
   "execution_count": null,
   "metadata": {},
   "outputs": [],
   "source": [
    "from ads.utils import *\n",
    "ADS = os.environ['ADS']"
   ]
  },
  {
   "cell_type": "code",
   "execution_count": null,
   "metadata": {},
   "outputs": [],
   "source": [
    "# sys.path.insert(0, '../Util')  # add Util package at begining of your python path.\n",
    "# %run -i './util.py'\n",
    "# %run -i '/Users/am/mydocs/Software_Development/Algorithms_and_Data_Structures/ads/utils/utils.py'"
   ]
  },
  {
   "cell_type": "markdown",
   "metadata": {},
   "source": [
    "##### [1588. Sum of All Odd Length Subarrays](https://leetcode.com/problems/sum-of-all-odd-length-subarrays/description/) || <b style=\"color:orange\">***</b>"
   ]
  },
  {
   "cell_type": "markdown",
   "metadata": {},
   "source": [
    "Given an array of positive integers `arr`, return the sum of all possible odd-length subarrays of `arr`.\n",
    "\n",
    "A subarray is a contiguous subsequence of the array."
   ]
  },
  {
   "cell_type": "code",
   "execution_count": null,
   "metadata": {},
   "outputs": [],
   "source": [
    "def sum_odd_length_subarrays(arr):\n",
    "    total_sum = 0\n",
    "    n = len(arr)\n",
    "    \n",
    "    # Iterate over all possible starting points of subarrays\n",
    "    for start in range(n):\n",
    "        # Iterate over all possible lengths of subarrays\n",
    "        for length in range(1, n-start + 1, 2):  # Step by 2 to get only odd lengths\n",
    "            subarray_sum = sum(arr[start: start+length])\n",
    "            total_sum += subarray_sum\n",
    "    \n",
    "    return total_sum"
   ]
  },
  {
   "cell_type": "code",
   "execution_count": null,
   "metadata": {},
   "outputs": [],
   "source": [
    "def sum_odd_length_subarrays_v2(arr):\n",
    "    total_sum = 0\n",
    "    n = len(arr)\n",
    "\n",
    "    for i in range(len(arr)):\n",
    "        for j in range(i, len(arr)):\n",
    "            if (j+1 - i) % 2 != 0:\n",
    "                total_sum += sum(arr[i: j+1])\n",
    "    return total_sum"
   ]
  },
  {
   "cell_type": "code",
   "execution_count": null,
   "metadata": {},
   "outputs": [
    {
     "name": "stdout",
     "output_type": "stream",
     "text": [
      "66\n"
     ]
    }
   ],
   "source": [
    "def sum_odd_length_subarrays_v3(arr):\n",
    "    n = len(arr)\n",
    "    sums = []\n",
    "    for i in range(len(arr)):\n",
    "        total = 0\n",
    "        for j in range(i, len(arr)):\n",
    "            total += arr[j]\n",
    "            if (j - i) % 2 == 0:\n",
    "                sums.append(total)\n",
    "    return sum(sums)\n",
    "\n",
    "print(sum_odd_length_subarrays_v3([10, 11, 12]))    # Output: 58\n"
   ]
  },
  {
   "cell_type": "code",
   "execution_count": null,
   "metadata": {},
   "outputs": [
    {
     "name": "stdout",
     "output_type": "stream",
     "text": [
      "[5, 12, 6, 14, 7, 8]\n",
      "52\n"
     ]
    }
   ],
   "source": [
    "def sum_even_length_subarrays(arr):\n",
    "    n = len(arr)\n",
    "    sums = []\n",
    "    for i in range(len(arr)):\n",
    "        total = 0\n",
    "        for j in range(i, len(arr)):\n",
    "            total += arr[j]\n",
    "            if (j - i) % 2 != 0:\n",
    "                sums.append(total)\n",
    "    print(sums)\n",
    "    return sum(sums)\n",
    "\n",
    "print(sum_even_length_subarrays([1, 4, 2, 5, 3]))    # Output: 58\n"
   ]
  },
  {
   "cell_type": "code",
   "execution_count": null,
   "metadata": {},
   "outputs": [],
   "source": [
    "def _test_sum_odd_length_sumarrar():\n",
    "    test_cases = [([1, 2], 3), ([1, 4, 2, 5, 3], 58), ([10, 11, 12], 66)]\n",
    "    functions = [sum_odd_length_subarrays, sum_odd_length_subarrays_v2, sum_odd_length_subarrays_v3]\n",
    "    for function in functions:\n",
    "        for test_case, expected in test_cases:\n",
    "            returned = function(test_case)\n",
    "            try:\n",
    "                assert returned == expected\n",
    "            except:\n",
    "                print(f\"{function.__name__}\")\n",
    "# ===========================================================================\n",
    "_test_sum_odd_length_sumarrar()"
   ]
  },
  {
   "cell_type": "markdown",
   "metadata": {},
   "source": [
    "-   **Follow up**: \n",
    "    -   Sum of all even length subarray\n",
    "    -   Could you solve this problem in $O(n)$ time complexity?"
   ]
  },
  {
   "cell_type": "code",
   "execution_count": null,
   "metadata": {},
   "outputs": [],
   "source": [
    "def sum_odd_length_subarrays_v2(arr):\n",
    "    total_sum = 0\n",
    "    n = len(arr)\n",
    "    \n",
    "    for i in range(n):\n",
    "        end_count = i + 1\n",
    "        start_count = n - i\n",
    "        total_subarrays = end_count * start_count\n",
    "        odd_length_subarrays = (total_subarrays + 1) // 2\n",
    "        \n",
    "        total_sum += arr[i] * odd_length_subarrays\n",
    "    \n",
    "    return total_sum"
   ]
  },
  {
   "cell_type": "markdown",
   "metadata": {},
   "source": [
    "To solve the problem of finding the sum of all possible odd-length subarrays of an array `arr`, we need to consider every subarray of the array that has an odd length and calculate its sum. We can approach this problem using a brute-force method, iterating through all possible odd-length subarrays and summing their elements. However, a more efficient approach is to consider the contribution of each element in the array to the sum of all odd-length subarrays directly.\n",
    "\n",
    "- **Detailed Explanation**\n",
    "\n",
    "    1. **Identify Subarrays**: Each element in the array `arr` will be part of multiple subarrays. Specifically, for each element at index `i`:\n",
    "       - It will be the start of some subarrays.\n",
    "       - It will be the end of some subarrays.\n",
    "       - The length of the subarrays will vary.\n",
    "\n",
    "    2. **Calculate Contribution of Each Element**:\n",
    "       - For an element at index `i`, it contributes to subarrays starting from any previous index `j` to the current index `i` where `(i - j + 1)` is odd.\n",
    "       - Count the total number of subarrays in which the element at index `i` participates and is of odd length.\n",
    "\n",
    "    3. **Mathematical Insight**:\n",
    "       - If an element at position `i` is part of an odd-length subarray, we need to consider all subarrays which have lengths `1, 3, 5, ...` and so on.\n",
    "       - Instead of explicitly generating subarrays, we can count how many such odd-length subarrays an element is part of.\n",
    "\n",
    "- **Efficient Approach**: To achieve this efficiently, we calculate the total number of subarrays that include each element at index `i` and then filter out the odd-length ones. Here's a simple mathematical approach:\n",
    "    - For an element at index `i` in an array of length `n`:\n",
    "        - The number of subarrays that include `arr[i]` is given by `(i + 1) * (n - i)` since it can start from any index `0` to `i` and end from any index `i` to `n-1`.\n",
    "        - Among these subarrays, the number of odd-length subarrays can be derived by counting the odd-length subarrays specifically.\n"
   ]
  },
  {
   "cell_type": "code",
   "execution_count": null,
   "metadata": {},
   "outputs": [],
   "source": []
  },
  {
   "cell_type": "markdown",
   "metadata": {},
   "source": [
    "##### Find the contiguous sequence (subarray) with the largest sum and return the subarray. || <b style=\"color:orange\">***</b>"
   ]
  },
  {
   "cell_type": "markdown",
   "metadata": {},
   "source": [
    "\n",
    "You are given an array of integers (both `positive` and `negative`). Find the contiguous sequence with the largest sum. Return the sequence.\n",
    "\n",
    "-   EXAMPLE\n",
    "    -   Input:[2, -8, 3, -2, 4, -10]\n",
    "    -   Output: [3, -2, 4]"
   ]
  },
  {
   "cell_type": "code",
   "execution_count": null,
   "metadata": {},
   "outputs": [],
   "source": [
    "def max_contiguous_subarray(arr):\n",
    "    if not arr: return []\n",
    "    max_sum = float('-inf')\n",
    "    total = left = 0\n",
    "    left_idx, right_idx = -1, -1\n",
    "\n",
    "    for i, num in enumerate(arr):\n",
    "        total += num\n",
    "\n",
    "        if total > max_sum:\n",
    "            max_sum = total\n",
    "            left_idx, right_idx = left, i\n",
    "\n",
    "        if total <= 0:\n",
    "            total = 0\n",
    "            left = i+1\n",
    "\n",
    "    return arr[left_idx: right_idx+1]\n",
    "\n"
   ]
  },
  {
   "cell_type": "code",
   "execution_count": null,
   "metadata": {},
   "outputs": [
    {
     "name": "stdout",
     "output_type": "stream",
     "text": [
      "[1]\n",
      "[-10]\n",
      "[-1]\n",
      "[1]\n",
      "[3, -2, 4]\n"
     ]
    }
   ],
   "source": [
    "def test_max_contiguous_subarray():\n",
    "    test_cases = [([1,0], [1]), ([-10], [-10]), ([-10, -1], [-1]), ([0,0,0,1], [1]), ([2, -8, 3, -2, 4, -10], [3, -2, 4])]\n",
    "    for given, expected in test_cases:\n",
    "#         print(f\"\\tGiven: {given} \\n\\tExpected: {expected} \\n{'='*40}\")\n",
    "        try:\n",
    "            returned = max_contiguous_subarray(given)\n",
    "            print(returned)\n",
    "            # assert returned == expected\n",
    "        except:\n",
    "            print(f\"{red('TEST FAILD')} for the following inputs\")\n",
    "            print(f\"\\tGiven: {given} \\n\\tReturned: {returned} \\n\\tExpected: {expected}\")\n",
    "# =============================================================================\n",
    "\n",
    "test_max_contiguous_subarray()"
   ]
  },
  {
   "cell_type": "code",
   "execution_count": null,
   "metadata": {},
   "outputs": [],
   "source": []
  },
  {
   "cell_type": "markdown",
   "metadata": {},
   "source": [
    "##### [228. Summary Ranges](https://leetcode.com/problems/summary-ranges/description/) <b style=\"color:orange\">***</b>"
   ]
  },
  {
   "cell_type": "markdown",
   "metadata": {},
   "source": [
    "You are given a `sorted` unique integer array `nums`. \n",
    "\n",
    "A range `[a,b]` is the set of all integers from a to b (inclusive).\n",
    "\n",
    "Return the smallest sorted list of ranges that cover all the numbers in the array exactly. That is, each element of nums is covered by exactly one of the ranges, and there is no integer x such that x is in one of the ranges but not in nums.\n",
    "\n",
    "-   Each range `[a,b]` in the list should be output as:\n",
    "\n",
    "    -   \"a->b\" if a != b\n",
    "    -   \"a\" if a == b\n",
    " \n",
    "\n",
    "-   **Example 1**:\n",
    "\n",
    "    -   `Input`: nums = [0,1,2,4,5,7]\n",
    "    -   `Output`: [\"0->2\",\"4->5\",\"7\"]\n",
    "    -   `Explanation`: The ranges are:\n",
    "        [0,2] --> \"0->2\"\n",
    "        [4,5] --> \"4->5\"\n",
    "        [7,7] --> \"7\"\n",
    "\n",
    "-   **Example 2**:\n",
    "\n",
    "    -   `Input`: nums = [0,2,3,4,6,8,9]\n",
    "    -   `Output`: [\"0\",\"2->4\",\"6\",\"8->9\"]\n",
    "    -   `Explanation`: The ranges are:\n",
    "        [0,0] --> \"0\"\n",
    "        [2,4] --> \"2->4\"\n",
    "        [6,6] --> \"6\"\n",
    "        [8,9] --> \"8->9\"\n"
   ]
  },
  {
   "cell_type": "code",
   "execution_count": null,
   "metadata": {},
   "outputs": [],
   "source": [
    "def summary_ranges(nums):\n",
    "\n",
    "    if not nums: return []\n",
    "    result, left = [], 0\n",
    "\n",
    "    for right, num in enumerate(nums[1:], 1):\n",
    "        if num != nums[right-1] + 1:\n",
    "            if nums[right-1] == nums[left]: result.append(str(nums[right-1]))\n",
    "            else: result.append(f\"{nums[left]}->{nums[right-1]}\")\n",
    "\n",
    "            left = right\n",
    "\n",
    "    if left == right: result.append(str(nums[-1]))\n",
    "    else: result.append(f\"{nums[left]}->{nums[-1]}\")\n",
    "\n",
    "    return result"
   ]
  },
  {
   "cell_type": "code",
   "execution_count": null,
   "metadata": {},
   "outputs": [
    {
     "name": "stdout",
     "output_type": "stream",
     "text": [
      "['0->2', '4->5', '7']\n",
      "['0', '2->4', '6', '8->9']\n"
     ]
    }
   ],
   "source": [
    "# Example usage:\n",
    "print(summary_ranges([0, 1, 2, 4, 5, 7]))     # Output: [\"0->2\", \"4->5\", \"7\"]\n",
    "print(summary_ranges([0, 2, 3, 4, 6, 8, 9]))  # Output: [\"0\", \"2->4\", \"6\", \"8->9\"]"
   ]
  },
  {
   "cell_type": "code",
   "execution_count": null,
   "metadata": {},
   "outputs": [],
   "source": [
    "def summary_ranges(nums):\n",
    "\n",
    "    if not nums: return []\n",
    "    result, left_edge = [], nums[0]\n",
    "\n",
    "    for i, num in enumerate(nums[1:], 1):\n",
    "        if num != nums[i-1] + 1:\n",
    "            if nums[i-1] == left_edge: result.append(str(nums[i-1]))\n",
    "            else: result.append(f\"{left_edge}->{nums[i-1]}\")\n",
    "            left_edge = num\n",
    "    \n",
    "    if nums[-1] != left_edge: result.append(f\"{left_edge}->{nums[-1]}\")\n",
    "    else: result.append(str(nums[-1]))\n",
    "\n",
    "    return result"
   ]
  },
  {
   "cell_type": "code",
   "execution_count": null,
   "metadata": {},
   "outputs": [
    {
     "name": "stdout",
     "output_type": "stream",
     "text": [
      "['0->2', '4->5', '7']\n",
      "['0', '2->4', '6', '8->9']\n"
     ]
    }
   ],
   "source": [
    "def summary_ranges(nums):\n",
    "    if not nums: return []\n",
    "    \n",
    "    ranges = []\n",
    "    start = end = nums[0]\n",
    "    \n",
    "    for i in range(1, len(nums)):\n",
    "        if nums[i] == end + 1: end = nums[i]\n",
    "        else:\n",
    "            if start == end: ranges.append(f\"{start}\")\n",
    "            else           : ranges.append(f\"{start}->{end}\")\n",
    "\n",
    "            start = end = nums[i]\n",
    "    \n",
    "    # Add the last range\n",
    "    if start == end: ranges.append(f\"{start}\")\n",
    "    else           : ranges.append(f\"{start}->{end}\")\n",
    "    \n",
    "    return ranges"
   ]
  },
  {
   "cell_type": "code",
   "execution_count": null,
   "metadata": {},
   "outputs": [
    {
     "name": "stdout",
     "output_type": "stream",
     "text": [
      "['0->2', '4->5', '7']\n",
      "['0', '2->4', '6', '8->9']\n"
     ]
    }
   ],
   "source": [
    "# Example usage:\n",
    "print(summary_ranges([0, 1, 2, 4, 5, 7]))  # Output: [\"0->2\", \"4->5\", \"7\"]\n",
    "print(summary_ranges([0, 2, 3, 4, 6, 8, 9]))  # Output: [\"0\", \"2->4\", \"6\", \"8->9\"]"
   ]
  },
  {
   "cell_type": "markdown",
   "metadata": {},
   "source": [
    "##### Replace and remove. - [EPI: 6.4]"
   ]
  },
  {
   "cell_type": "markdown",
   "metadata": {},
   "source": [
    "You are given an array of characters `chars`, which contains lowercase letters, 'a' and 'b'. You need to perform two operations on the array:\n",
    "\n",
    "- Replace every occurrence of 'a' with two 'd' characters.\n",
    "- Remove every occurrence of 'b'.\n",
    "\n",
    "Your task is to modify the array <b style=\"color:red\">in-place</b> and return the final length of the resulting array."
   ]
  },
  {
   "cell_type": "markdown",
   "metadata": {},
   "source": [
    "Write a program which takes as input an array of characters, and removes each `b` and replaces each `a` by two `d`s. \n",
    "\n",
    "Specifically, along with the array, you'r provided an integer-valued size which denotes the number of entries of the array that the operation is to be applied to. \n",
    "\n",
    "You do not have to worry preserving about subsequent entries. For example, if the array is [a,b,a,c,...] and the size is 4, then you can return [d,d,d,d,c]. You can assume there is enough space in the array to hold the final result."
   ]
  },
  {
   "cell_type": "code",
   "execution_count": null,
   "metadata": {},
   "outputs": [],
   "source": [
    "def replace_and_remove(size: int, s: List[chr]) -> int:\n",
    "    \"\"\"\n",
    "    Returns: the size of the replaced and removed string.\n",
    "    \"\"\"\n",
    "\n",
    "    # Forward iteration: remove 'b's and count the number of 'a's.\n",
    "    write_idx, a_count = 0, 0\n",
    "    for i in range(size):\n",
    "        if s[i] != 'b':\n",
    "            s[write_idx] = s[i]\n",
    "            write_idx += 1\n",
    "        if s[i] == 'a':\n",
    "            a_count += 1\n",
    "\n",
    "    cur_idx = write_idx - 1\n",
    "    write_idx += a_count - 1\n",
    "    final_size = write_idx + 1\n",
    "\n",
    "    # Backward iteration: replace 'a's with 'dd's starting from the end.\n",
    "    while cur_idx >= 0:\n",
    "        if s[cur_idx] == 'a':\n",
    "            s[write_idx-1: write_idx+1] = 'dd'\n",
    "            write_idx -= 2\n",
    "        else:\n",
    "            s[write_idx] = s[cur_idx]\n",
    "            write_idx -= 1\n",
    "\n",
    "        cur_idx -= 1\n",
    "\n",
    "    return final_size"
   ]
  },
  {
   "cell_type": "code",
   "execution_count": null,
   "metadata": {},
   "outputs": [],
   "source": [
    "def _test_replace_and_remove():\n",
    "    for _ in range(10):\n",
    "        s = \"\".join(choices(string.ascii_lowercase, k=randint(0, 27))) + 'aaaaa'\n",
    "        bs_count = s.count('b')\n",
    "        as_count = s.count('a')\n",
    "        if bs_count > 2*as_count: continue\n",
    "        final_size = len(s) + as_count - bs_count\n",
    "        chars = list(s)\n",
    "        shuffle(chars)        \n",
    "        list_char = chars + ['']*(as_count-bs_count)\n",
    "        \n",
    "        print(\"\".join(list_char))\n",
    "        replace_and_remove(len(s), list_char)\n",
    "        print(\"\".join(list_char))\n",
    "\n",
    "# _test_replace_and_remove()"
   ]
  },
  {
   "cell_type": "markdown",
   "metadata": {},
   "source": [
    "##### Reverse all the words in a sentence. - [EPI: 6.6]"
   ]
  },
  {
   "cell_type": "markdown",
   "metadata": {},
   "source": [
    "Implement a function for reversing the words in a string `s`. Assume the string is represented using a array of characters.\n",
    "- Assume `s` is a string encoded as bytearray.\n"
   ]
  },
  {
   "cell_type": "code",
   "execution_count": null,
   "metadata": {},
   "outputs": [],
   "source": [
    "# Pythonic solution, doesn't reverse in-place, may be used with strings\n",
    "def reverse_words_pythonic(s: str) -> str:\n",
    "    return ' '.join(reversed(s.split(' ')))"
   ]
  },
  {
   "cell_type": "code",
   "execution_count": null,
   "metadata": {},
   "outputs": [],
   "source": [
    "def reverse_words(s: bytearray) -> None:\n",
    "\n",
    "    # First, reverse the whole string.\n",
    "    s.reverse()\n",
    "\n",
    "    def reverse_range(s: bytearray, left_idx: int, right_idx: int) -> None:\n",
    "        while left_idx < right_idx:\n",
    "            s[left_idx], s[right_idx] = s[right_idx], s[left_idx]\n",
    "            left_idx, right_idx = left_idx + 1, right_idx - 1\n",
    "\n",
    "    left_idx = 0\n",
    "    while True:\n",
    "        right_idx = s.find(b' ', left_idx)\n",
    "        if right_idx < 0: break\n",
    "\n",
    "        # Reverses each word in the string.\n",
    "        reverse_range(s, left_idx, right_idx - 1)\n",
    "        left_idx = right_idx + 1\n",
    "\n",
    "    # Reverses the last word.\n",
    "    reverse_range(s, left_idx, len(s) - 1)"
   ]
  },
  {
   "cell_type": "code",
   "execution_count": null,
   "metadata": {},
   "outputs": [],
   "source": []
  },
  {
   "cell_type": "code",
   "execution_count": null,
   "metadata": {},
   "outputs": [],
   "source": [
    "def _test_reverse_words():\n",
    "    for _ in range(10):\n",
    "        s = gen_list_of_words(dir_name=ADS+'data/')\n",
    "        expected = \" \".join(sorted(reversed(s)))\n",
    "        # print(expected)\n",
    "        returned = str(reverse_words(bytearray(\" \".join(s), encoding='ascii')), 'ascii')\n",
    "        assert expected == returned\n",
    "        \n",
    "# _test_reverse_words()"
   ]
  },
  {
   "cell_type": "code",
   "execution_count": null,
   "metadata": {},
   "outputs": [],
   "source": []
  },
  {
   "cell_type": "code",
   "execution_count": null,
   "metadata": {},
   "outputs": [],
   "source": []
  },
  {
   "cell_type": "markdown",
   "metadata": {},
   "source": [
    "##### [5. Longest Palindromic Substring](https://leetcode.com/problems/longest-palindromic-substring/description/) [M]"
   ]
  },
  {
   "cell_type": "markdown",
   "metadata": {},
   "source": [
    "\n",
    "Given a string `s`, return the longest palindromic substring in `s`."
   ]
  },
  {
   "cell_type": "markdown",
   "metadata": {},
   "source": [
    "- Example 1:\n",
    "    - Input: s = \"babad\"\n",
    "    - Output: \"bab\"\n",
    "    - Note: \"aba\" is also a valid answer.\n",
    "\n",
    "- Example 2:\n",
    "    - Input: s = \"cbbd\"\n",
    "    - Output: \"bb\"\n",
    "\n",
    "- Example 3:\n",
    "    - Input: s = \"a\"\n",
    "    - Output: \"a\"\n",
    "\n",
    "- Example 4:\n",
    "    - Input: s = \"ac\"\n",
    "    - Output: \"a\"\n",
    " \n",
    "- Constraints:\n",
    "    1. 1 <= s.length <= 1000\n",
    "    2. `s` consist of only digits and English letters (lower-case and/or upper-case),"
   ]
  },
  {
   "cell_type": "code",
   "execution_count": null,
   "metadata": {},
   "outputs": [
    {
     "data": {
      "text/plain": [
       "'abcdcba'"
      ]
     },
     "metadata": {},
     "output_type": "display_data"
    }
   ],
   "source": [
    "def longest_palindromic_substring_v1(s):\n",
    "    max_len, pal_str = 0, ''\n",
    "\n",
    "    for i in range(len(s)):\n",
    "        left = right = i # Handle Odd length\n",
    "\n",
    "        while left >= 0 and right < len(s) and s[left] == s[right]:\n",
    "            cur_len = right-left + 1\n",
    "            if cur_len > max_len: max_len, pal_str = cur_len, s[left: right+1]\n",
    "            left, right = left-1, right+1\n",
    "\n",
    "        left, right = i, i+1  # Handle Odd length\n",
    "\n",
    "        while left >= 0 and right < len(s) and s[left] == s[right]:\n",
    "            cur_len = right-left + 1\n",
    "            if cur_len > max_len: max_len, pal_str = cur_len, s[left: right+1]\n",
    "            left, right = left-1, right+1\n",
    "\n",
    "    return pal_str\n",
    "\n",
    "longest_palindromic_substring_v1(\"abcdcba\")"
   ]
  },
  {
   "cell_type": "code",
   "execution_count": null,
   "metadata": {},
   "outputs": [],
   "source": [
    "def longest_palindromic_substring_v2(s):\n",
    "\n",
    "    max_len = start = end = 0\n",
    "\n",
    "    for i in range(len(s)):\n",
    "        left = right = i\n",
    "\n",
    "        while left >= 0 and right < len(s): \n",
    "            if s[left] == s[right]: \n",
    "                left -= 1\n",
    "                right += 1\n",
    "            else: break\n",
    "\n",
    "        max_len = max(max_len, right-left-1)\n",
    "\n",
    "        left, right = i, i+1\n",
    "\n",
    "        while left >= 0 and right < len(s): \n",
    "            if s[left] == s[right]: \n",
    "                left -= 1\n",
    "                right += 1\n",
    "            else: break\n",
    "\n",
    "        max_len = max(max_len, right-left-1)\n",
    "\n",
    "\n",
    "        # print(i, max_len)\n",
    "        if max_len > (end - start+1):\n",
    "            start = i - (max_len-1) // 2\n",
    "            end = i + max_len // 2\n",
    "\n",
    "    return s[start: end+1]"
   ]
  },
  {
   "cell_type": "code",
   "execution_count": null,
   "metadata": {},
   "outputs": [],
   "source": [
    "def longest_palindromic_substring_v3(s: str) -> str:\n",
    "    \"\"\"Find longest plindromic substring.\n",
    "\n",
    "    Args:\n",
    "        s (str): [description]\n",
    "    \"\"\"\n",
    "\n",
    "    def expend_around_center(s: str, low, high) -> int:\n",
    "        if not s or low > high: return 0\n",
    "\n",
    "        while low >= 0 and high < len(s) and s[low] == s[high]:\n",
    "            low -= 1\n",
    "            high += 1\n",
    "\n",
    "        # print(low, high, high - low - 1)\n",
    "        return high - low - 1\n",
    "\n",
    "\n",
    "    if not s or len(s) < 1: return \"\"\n",
    "    start = 0\n",
    "    end = 0\n",
    "\n",
    "    for i in range(len(s)):\n",
    "\n",
    "        # Scan all odd length substring\n",
    "        odd_len = expend_around_center(s, i, i)\n",
    "\n",
    "        # Scan all even length substring\n",
    "        even_len = expend_around_center(s, i, i + 1)\n",
    "\n",
    "        length = max(odd_len, even_len)\n",
    "\n",
    "        print(i, length)\n",
    "        if length > (end - start):\n",
    "            start = i - (length - 1) // 2\n",
    "            end = i + length // 2\n",
    "\n",
    "    return s[start:end + 1]"
   ]
  },
  {
   "cell_type": "code",
   "execution_count": null,
   "metadata": {},
   "outputs": [],
   "source": []
  },
  {
   "cell_type": "code",
   "execution_count": null,
   "metadata": {},
   "outputs": [
    {
     "name": "stdout",
     "output_type": "stream",
     "text": [
      "kayak\n"
     ]
    }
   ],
   "source": [
    "# s = ''.join([choice(UPPERCASE) for i in range(20)])\n",
    "s = 'abcdcba'\n",
    "# print(lps(s))\n",
    "print(longest_palindromic_substring_v2(\"kayaking\"))\n"
   ]
  },
  {
   "cell_type": "code",
   "execution_count": null,
   "metadata": {},
   "outputs": [
    {
     "name": "stdout",
     "output_type": "stream",
     "text": [
      "abcdcba\n"
     ]
    }
   ],
   "source": [
    "# This prints the longest palindromic subString and returns it's length.\n",
    "def longest_palindromic_substring_v4(str):\n",
    "\n",
    "    n = len(str)\n",
    "\n",
    "    # All subStrings of length 1 are palindromes\n",
    "    maxLength = 1\n",
    "    start = 0\n",
    "\n",
    "    # Nested loop to mark start and end index\n",
    "    for i in range(n):\n",
    "        for j in range(i, n):\n",
    "            flag = 1\n",
    "\n",
    "            # Check palindrome\n",
    "            for k in range(0, ((j - i) // 2) + 1):\n",
    "                if (str[i + k] != str[j - k]):\n",
    "                    flag = 0\n",
    "\n",
    "            # Palindrome\n",
    "            if (flag != 0 and (j - i + 1) > maxLength):\n",
    "                start = i\n",
    "                maxLength = j - i + 1\n",
    "\n",
    "    # print(\"Longest palindrome subString is: \", end=\"\")\n",
    "    # printSubStr(str, start, start + maxLength - 1)\n",
    "\n",
    "    # Return length of LPS\n",
    "    # return maxLength\n",
    "    return str[start:start + maxLength + 1]\n",
    "\n",
    "print(longest_palindromic_substring_v4(\"abcdcba\"))\n"
   ]
  },
  {
   "cell_type": "code",
   "execution_count": null,
   "metadata": {},
   "outputs": [],
   "source": []
  },
  {
   "cell_type": "markdown",
   "metadata": {},
   "source": [
    "##### Minimum Window Substring - [EPI: 12.07]"
   ]
  },
  {
   "cell_type": "markdown",
   "metadata": {},
   "source": [
    "[LeetcodeSol: 76](https://leetcode.com/problems/minimum-window-substring/) | [CoderByte](https://coderbyte.com/video/min-window-substring-solution) | [BackToBack](https://www.youtube.com/watch?v=eS6PZLjoaq8)"
   ]
  },
  {
   "cell_type": "markdown",
   "metadata": {},
   "source": [
    "Given two strings `s` and `t` of lengths `m` and `n` respectively, return the minimum window \n",
    "substring of `s` such that every character in `t` (including duplicates) is included in the window. If there is no such substring, return the empty string \"\"."
   ]
  },
  {
   "cell_type": "markdown",
   "metadata": {},
   "source": [
    "<div style=\"text-align:center\" ><img src=\"../assets/min_window_substring.png\" width=\"800\" height=\"500\" /></div>\n",
    "<div style=\"text-align:center\" ><img src=\"../assets/min_window_scenario_breakdown.png\" width=\"800\" height=\"500\" /></div>"
   ]
  },
  {
   "cell_type": "markdown",
   "metadata": {},
   "source": [
    "**Brute Force Approch**:"
   ]
  },
  {
   "cell_type": "code",
   "execution_count": null,
   "metadata": {},
   "outputs": [],
   "source": [
    "def min_window_substring(s, t):\n",
    "\n",
    "    frequency_t = Counter(t)\n",
    "    options = []\n",
    "    \n",
    "    for i in range(len(s)):\n",
    "        curr = Counter()\n",
    "        for j in range(i, len(s)):\n",
    "            curr[s[j]] += 1\n",
    "            # if not frequency_t - curr: # if Empyt counter\n",
    "            if len(frequency_t - curr) == 0 :\n",
    "                options.append(s[i: j+1])\n",
    "\n",
    "    return min(options, key=len) if options else \"\""
   ]
  },
  {
   "cell_type": "code",
   "execution_count": null,
   "metadata": {},
   "outputs": [],
   "source": [
    "def test_min_window():\n",
    "    test_cases = [[\"ADOBECODEBANC\", \"ABC\", \"BANC\"], [\"bbcccccaaaa\", \"bccaa\", \"bcccccaa\"], [\"aa\", \"aa\", \"aa\"], [\"a\", \"aa\", \"\"]]\n",
    "    for text, pattern, expected in test_cases:\n",
    "        returned = min_window_substring(text, pattern)\n",
    "        try:\n",
    "            assert returned == expected\n",
    "            # print(green('PASSED'))\n",
    "        except:\n",
    "            print(red('FAILED'))\n",
    "            print(text, pattern, expected, returned)\n",
    "\n",
    "test_min_window()"
   ]
  },
  {
   "cell_type": "markdown",
   "metadata": {},
   "source": [
    "Leetcode Solutions:"
   ]
  },
  {
   "cell_type": "markdown",
   "metadata": {},
   "source": [
    "Given two strings `s` and `t` of lengths `m` and `n` respectively, return the minimum window substring of `s` such that every character in `t` (including duplicates) is included in the window substring. If there is no such substring, return the empty string `\"\"`.\n",
    "\n",
    "- The testcases will be generated such that the answer is unique.\n",
    "\n",
    "- A substring is a contiguous sequence of characters within the string.\n",
    "\n",
    " \n",
    "\n",
    "- Example 1:\n",
    "    - Input: s = \"ADOBECODEBANC\", t = \"ABC\"\n",
    "    - Output: \"BANC\"\n",
    "    - Explanation: The minimum window substring \"BANC\" includes 'A', 'B', and 'C' from string t.\n",
    "- Example 2:\n",
    "    - Input: s = \"a\", t = \"a\"\n",
    "    - Output: \"a\"\n",
    "    - Explanation: The entire string s is the minimum window.\n",
    "- Example 3:\n",
    "    - Input: s = \"a\", t = \"aa\"\n",
    "    - Output: \"\"\n",
    "    - Explanation: Both 'a's from t must be included in the window. Since the largest window of s only has one 'a', return empty string.\n",
    " \n",
    "\n",
    "- Constraints:\n",
    "    - m == len(s)\n",
    "    - n == len(t)\n",
    "    - 1 <= m, n <= 105\n",
    "    - `s` and `t` consist of uppercase and lowercase English letters.\n",
    " \n",
    "\n",
    "- Follow up: Could you find an algorithm that runs in O(m + n) time?"
   ]
  },
  {
   "cell_type": "markdown",
   "metadata": {},
   "source": [
    "<div style=\"text-align:center\" ><img src=\"../assets/min_win_substring.png\" width=\"700\" height=\"400\" /></div>"
   ]
  },
  {
   "cell_type": "code",
   "execution_count": null,
   "metadata": {},
   "outputs": [],
   "source": [
    "def min_window_v1(s: str, t: str):\n",
    "\n",
    "    chars_count = Counter(t)\n",
    "    res = (float('inf'), -1, -1)\n",
    "    remaining_to_cover = len(t)\n",
    "    left = 0\n",
    "\n",
    "    for right, right_char in enumerate(s):\n",
    "        if right_char in t:\n",
    "            chars_count[right_char] -= 1\n",
    "\n",
    "            # Note the effects of `>=` vs `==`.\n",
    "            if chars_count[right_char] >= 0: remaining_to_cover -= 1\n",
    "\n",
    "        while remaining_to_cover == 0:\n",
    "            if right-left +1 < res[0]:\n",
    "                res = (right-left+1, left, right)\n",
    "\n",
    "            left_char = s[left]\n",
    "            if left_char in t:\n",
    "                chars_count[left_char] += 1\n",
    "                if chars_count[left_char] > 0: remaining_to_cover += 1\n",
    "            left += 1\n",
    "\n",
    "    return \"\" if res[0] == float('inf') else s[res[1] : res[2]+1]"
   ]
  }
 ],
 "metadata": {
  "language_info": {
   "name": "python"
  }
 },
 "nbformat": 4,
 "nbformat_minor": 2
}
