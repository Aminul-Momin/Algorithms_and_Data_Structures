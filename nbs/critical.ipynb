{
 "cells": [
  {
   "cell_type": "code",
   "execution_count": null,
   "metadata": {},
   "outputs": [],
   "source": []
  },
  {
   "cell_type": "markdown",
   "metadata": {},
   "source": [
    "##### Minimum Window Substring - [EPI: 12.07]"
   ]
  },
  {
   "cell_type": "markdown",
   "metadata": {},
   "source": [
    "[LeetcodeSol: 76](https://leetcode.com/problems/minimum-window-substring/) | [CoderByte](https://coderbyte.com/video/min-window-substring-solution) | [BackToBack](https://www.youtube.com/watch?v=eS6PZLjoaq8)"
   ]
  },
  {
   "cell_type": "markdown",
   "metadata": {},
   "source": [
    "Given two strings `s` and `t` of lengths `m` and `n` respectively, return the minimum window \n",
    "substring of `s` such that every character in `t` (including duplicates) is included in the window. If there is no such substring, return the empty string \"\"."
   ]
  },
  {
   "cell_type": "markdown",
   "metadata": {},
   "source": [
    "<div style=\"text-align:center\" ><img src=\"../assets/min_window_substring.png\" width=\"800\" height=\"500\" /></div>\n",
    "<div style=\"text-align:center\" ><img src=\"../assets/min_window_scenario_breakdown.png\" width=\"800\" height=\"500\" /></div>"
   ]
  },
  {
   "cell_type": "markdown",
   "metadata": {},
   "source": [
    "**Brute Force Approch**:"
   ]
  },
  {
   "cell_type": "code",
   "execution_count": null,
   "metadata": {},
   "outputs": [],
   "source": [
    "def min_window_substring(s, t):\n",
    "\n",
    "    frequency_t = Counter(t)\n",
    "    options = []\n",
    "    \n",
    "    for i in range(len(s)):\n",
    "        curr = Counter()\n",
    "        for j in range(i, len(s)):\n",
    "            curr[s[j]] += 1\n",
    "            # if not frequency_t - curr: # if Empyt counter\n",
    "            if len(frequency_t - curr) == 0 :\n",
    "                options.append(s[i: j+1])\n",
    "\n",
    "    return min(options, key=len) if options else \"\""
   ]
  },
  {
   "cell_type": "code",
   "execution_count": null,
   "metadata": {},
   "outputs": [],
   "source": [
    "def test_min_window():\n",
    "    test_cases = [[\"ADOBECODEBANC\", \"ABC\", \"BANC\"], [\"bbcccccaaaa\", \"bccaa\", \"bcccccaa\"], [\"aa\", \"aa\", \"aa\"], [\"a\", \"aa\", \"\"]]\n",
    "    for text, pattern, expected in test_cases:\n",
    "        returned = min_window_substring(text, pattern)\n",
    "        try:\n",
    "            assert returned == expected\n",
    "            # print(green('PASSED'))\n",
    "        except:\n",
    "            print(red('FAILED'))\n",
    "            print(text, pattern, expected, returned)\n",
    "\n",
    "test_min_window()"
   ]
  },
  {
   "cell_type": "markdown",
   "metadata": {},
   "source": [
    "Leetcode Solutions:"
   ]
  },
  {
   "cell_type": "markdown",
   "metadata": {},
   "source": [
    "Given two strings `s` and `t` of lengths `m` and `n` respectively, return the minimum window substring of `s` such that every character in `t` (including duplicates) is included in the window substring. If there is no such substring, return the empty string `\"\"`.\n",
    "\n",
    "- The testcases will be generated such that the answer is unique.\n",
    "\n",
    "- A substring is a contiguous sequence of characters within the string.\n",
    "\n",
    " \n",
    "\n",
    "- Example 1:\n",
    "    - Input: s = \"ADOBECODEBANC\", t = \"ABC\"\n",
    "    - Output: \"BANC\"\n",
    "    - Explanation: The minimum window substring \"BANC\" includes 'A', 'B', and 'C' from string t.\n",
    "- Example 2:\n",
    "    - Input: s = \"a\", t = \"a\"\n",
    "    - Output: \"a\"\n",
    "    - Explanation: The entire string s is the minimum window.\n",
    "- Example 3:\n",
    "    - Input: s = \"a\", t = \"aa\"\n",
    "    - Output: \"\"\n",
    "    - Explanation: Both 'a's from t must be included in the window. Since the largest window of s only has one 'a', return empty string.\n",
    " \n",
    "\n",
    "- Constraints:\n",
    "    - m == len(s)\n",
    "    - n == len(t)\n",
    "    - 1 <= m, n <= 105\n",
    "    - `s` and `t` consist of uppercase and lowercase English letters.\n",
    " \n",
    "\n",
    "- Follow up: Could you find an algorithm that runs in O(m + n) time?"
   ]
  },
  {
   "cell_type": "markdown",
   "metadata": {},
   "source": [
    "<div style=\"text-align:center\" ><img src=\"../assets/min_win_substring.png\" width=\"500\" height=\"300\" /></div>"
   ]
  },
  {
   "cell_type": "code",
   "execution_count": null,
   "metadata": {},
   "outputs": [],
   "source": [
    "def min_window_v1(s: str, t: str):\n",
    "\n",
    "    chars_count = Counter(t)\n",
    "    res = (float('inf'), -1, -1)\n",
    "    remaining_to_cover = len(t)\n",
    "    left = 0\n",
    "\n",
    "    for right, right_char in enumerate(s):\n",
    "        if right_char in t:\n",
    "            chars_count[right_char] -= 1\n",
    "\n",
    "            # Note the effects of `>=` vs `==`.\n",
    "            if chars_count[right_char] >= 0: remaining_to_cover -= 1\n",
    "\n",
    "        while remaining_to_cover == 0:\n",
    "            if right-left +1 < res[0]:\n",
    "                res = (right-left+1, left, right)\n",
    "\n",
    "            left_char = s[left]\n",
    "            if left_char in t:\n",
    "                chars_count[left_char] += 1\n",
    "                if chars_count[left_char] > 0: remaining_to_cover += 1\n",
    "            left += 1\n",
    "\n",
    "    return \"\" if res[0] == float('inf') else s[res[1] : res[2]+1]"
   ]
  },
  {
   "cell_type": "markdown",
   "metadata": {},
   "source": [
    "##### Compute all valid IP addresses. - [EPI: 6.10] [NeetCode](https://www.youtube.com/watch?v=61tN4YEdiTM) [Leetcode](https://leetcode.com/problems/restore-ip-addresses/)"
   ]
  },
  {
   "cell_type": "markdown",
   "metadata": {},
   "source": [
    "A decimal string is a  string consisting of digits between 0 and 9. Internet Protocol (IP) addresses can be weitten as four decimal strings separated by periods, e.g., 192.168.1.201. A careless programmer mangles a string representing an IP address in such a way that all the periods vanish.\n",
    "\n",
    "Write a program that determines where to add periods to a decimal string so that the resulting string is a valid IP address. There may be more than one valid IP address corresponding to a string, in which case you should print all possibilities."
   ]
  },
  {
   "cell_type": "code",
   "execution_count": null,
   "metadata": {},
   "outputs": [],
   "source": [
    "def get_valid_ip_address(s: str) -> Container:\n",
    "    \n",
    "    def is_valid_part(s: str) -> bool: return len(s) == 1 or (s[0] != '0' and int(s) <= 255)\n",
    "\n",
    "    result, parts = [], [None] * 4\n",
    "    \n",
    "    for i in range(1, min(4, len(s))):\n",
    "        parts[0] = s[:i]\n",
    "        \n",
    "        if is_valid_part(parts[0]):\n",
    "            for j in range(1, min(4, len(s)-i)):\n",
    "                parts[1] = s[i : i+j]\n",
    "                \n",
    "                if is_valid_part(parts[1]):\n",
    "                    for k in range(1, min(4, len(s)-i-j)):\n",
    "                        parts[2], parts[3] = s[i+j : i+j+k], s[i+j+k :]\n",
    "                        \n",
    "                        if is_valid_part(parts[2]) and is_valid_part(parts[3]):\n",
    "                            result.append('.'.join(parts))\n",
    "    return result"
   ]
  },
  {
   "cell_type": "code",
   "execution_count": null,
   "metadata": {},
   "outputs": [],
   "source": [
    "get_valid_ip_address('0123')"
   ]
  },
  {
   "cell_type": "code",
   "execution_count": null,
   "metadata": {},
   "outputs": [],
   "source": [
    "def get_valid_ip_address_v2(s: str):\n",
    "    def is_valid(s: str) -> bool: \n",
    "        return len(s) == 1 or (s[0] != '0' and int(s) <= 255)\n",
    "    \n",
    "    ips = []\n",
    "    for i in range(1, 4):\n",
    "        if is_valid(s[:i]):\n",
    "            for j in range(1, min(4, len(s)-i)):\n",
    "                if is_valid(s[i:i+j]):\n",
    "                    for k in range(1, min(4, len(s)-i-j)):\n",
    "                        if is_valid(s[i+j:i+j+k]) and is_valid(s[i+j+k:]):\n",
    "                            ips.append(f\"{s[:i]}.{s[i:i+j]}.{s[i+j:i+j+k]}.{s[i+j+k:]}\")\n",
    "\n",
    "    return ips"
   ]
  },
  {
   "cell_type": "code",
   "execution_count": null,
   "metadata": {},
   "outputs": [],
   "source": [
    "test_cases_with_expectations = [\n",
    "    \n",
    "    # Test Case 1: Basic Valid Input\n",
    "    [\"25525511135\", [\"255.255.11.135\", \"255.255.111.35\"]],\n",
    "    \n",
    "    # Test Case 2: Minimum Input\n",
    "    [\"0\", []],\n",
    "    \n",
    "    # Test Case 3: Maximum Input\n",
    "    [\"999999999999\", []],\n",
    "    \n",
    "    # Test Case 4: Single Digit with Zeros\n",
    "    [\"010203\", ['0.1.0.203', '0.10.20.3', '0.102.0.3']],\n",
    "    \n",
    "    # Test Case 5: Invalid Input\n",
    "    [\"256257258\", []],\n",
    "    \n",
    "    # Test Case 6: Leading Zeros\n",
    "    [\"0123\", ['0.1.2.3']],\n",
    "    \n",
    "    # Test Case 7: Random Input\n",
    "    [\"192168001001\", []],\n",
    "]"
   ]
  },
  {
   "cell_type": "code",
   "execution_count": null,
   "metadata": {},
   "outputs": [],
   "source": [
    "def _test_form_ip_addresses():\n",
    "    for test_case, expectation in test_cases_with_expectations:\n",
    "        returned = get_valid_ip_address(test_case)\n",
    "        try:\n",
    "            given_returned_expected(test_case, returned, expectation)\n",
    "            assert returned == expectation\n",
    "        except:\n",
    "            given_returned_expected(test_case, returned, expectation)\n",
    "# =================================================================\n",
    "_test_form_ip_addresses()"
   ]
  },
  {
   "cell_type": "markdown",
   "metadata": {},
   "source": [
    "**Time Complexity**: The total number of IP address is a constant $2^{32}$, implying an $O(1)$ time complexity."
   ]
  },
  {
   "cell_type": "markdown",
   "metadata": {},
   "source": [
    "- NeetCode Solution (Backtracking)"
   ]
  },
  {
   "cell_type": "code",
   "execution_count": null,
   "metadata": {},
   "outputs": [],
   "source": [
    "def form_ip_addresses(s: str):\n",
    "    \n",
    "    def _form_id_addresses(i, dots, partial_ip):\n",
    "        if dots == 4 and i == len(s): res.append(partial_ip[:-1])\n",
    "        if dots > 4: return None\n",
    "        \n",
    "        for j in range(i, min(i+3, len(s))):\n",
    "            if int(s[i:j+1]) <= 255 and (i == j or s[i] != '0'):\n",
    "                _form_id_addresses(j+1, dots+1, partial_ip + s[i:j+1] + '.')\n",
    "    \n",
    "    if len(s) > 12: return None\n",
    "    res = []\n",
    "    return _form_id_addresses(0, 0, \"\")"
   ]
  },
  {
   "cell_type": "code",
   "execution_count": null,
   "metadata": {},
   "outputs": [],
   "source": [
    "def restore_ip_addresses(s):\n",
    "    \n",
    "    def backtrack(s, segments, curr_address):\n",
    "        \n",
    "        # Base case: If all segments are found and the string is exhausted, add the address to the result\n",
    "        if segments == 4 and not s:\n",
    "            result.append(curr_address[:-1])  # Remove the trailing period\n",
    "        \n",
    "        # Base case: If all segments are found but the string is not exhausted, backtrack\n",
    "        elif segments == 4 or not s:\n",
    "            return\n",
    "\n",
    "        # Try different segment lengths (1, 2, 3) and backtrack recursively\n",
    "        for i in range(1, 4):\n",
    "            if i <= len(s):\n",
    "                segment = s[:i]\n",
    "                # Ignore segments starting with 0, except for single-digit segments\n",
    "                if (segment[0] == '0' and len(segment) > 1) or int(segment) > 255: continue\n",
    "                backtrack(s[i:], segments + 1, curr_address + segment + '.')\n",
    "\n",
    "    result = []\n",
    "    backtrack(s, 0, '')\n",
    "    return result"
   ]
  },
  {
   "cell_type": "code",
   "execution_count": null,
   "metadata": {},
   "outputs": [],
   "source": [
    "def _test_form_ip_addresses():\n",
    "    s = \"0\"\n",
    "    returned1 = restore_ip_addresses(s)\n",
    "    returned2 = get_valid_ip_address(s)\n",
    "    assert len(returned1) == len(returned2)\n",
    "    \n",
    "    for ip_address1, ip_address2 in zip(returned1, returned2):\n",
    "        print(ip_address1)\n",
    "        assert ip_address1 == ip_address2\n",
    "# =================================================================\n",
    "_test_form_ip_addresses()"
   ]
  },
  {
   "cell_type": "markdown",
   "metadata": {},
   "source": [
    "***ChatGPT**:"
   ]
  },
  {
   "cell_type": "code",
   "execution_count": null,
   "metadata": {},
   "outputs": [],
   "source": [
    "def restore_ip_addresses(s):\n",
    "    def is_valid_part(part):\n",
    "        return 0 <= int(part) <= 255 and (len(part) == 1 or part[0] != '0')\n",
    "\n",
    "    def backtrack(start, path):\n",
    "        if start == len(s) and len(path) == 4:\n",
    "            valid_ip = \".\".join(path)\n",
    "            valid_ips.append(valid_ip)\n",
    "            return\n",
    "        \n",
    "        if len(path) >= 4:\n",
    "            return\n",
    "        \n",
    "        for end in range(start + 1, min(start + 4, len(s) + 1)):\n",
    "            part = s[start:end]\n",
    "            if is_valid_part(part):\n",
    "                path.append(part)\n",
    "                backtrack(end, path)\n",
    "                path.pop()\n",
    "\n",
    "    valid_ips = []\n",
    "    backtrack(0, [])\n",
    "    \n",
    "    return valid_ips"
   ]
  },
  {
   "cell_type": "code",
   "execution_count": null,
   "metadata": {},
   "outputs": [],
   "source": [
    "# Test the function with an example input\n",
    "decimal_string = \"19216811201\"\n",
    "valid_ips = restore_ip_addresses(decimal_string)\n",
    "for ip in valid_ips:\n",
    "    print(ip)"
   ]
  },
  {
   "cell_type": "code",
   "execution_count": null,
   "metadata": {},
   "outputs": [],
   "source": []
  },
  {
   "cell_type": "markdown",
   "metadata": {},
   "source": [
    "##### Reverse all the words in a sentence. - [EPI: 6.6]"
   ]
  },
  {
   "cell_type": "markdown",
   "metadata": {},
   "source": [
    "Implement a function for reversing the words in a string `s`. Assume the string is represented using a array of characters.\n",
    "- Assume `s` is a string encoded as bytearray.\n"
   ]
  },
  {
   "cell_type": "code",
   "execution_count": null,
   "metadata": {},
   "outputs": [],
   "source": [
    "# Pythonic solution, doesn't reverse in-place, may be used with strings\n",
    "def reverse_words_pythonic(s: str) -> str:\n",
    "    return ' '.join(reversed(s.split(' ')))"
   ]
  },
  {
   "cell_type": "code",
   "execution_count": null,
   "metadata": {},
   "outputs": [],
   "source": [
    "def reverse_words(s: bytearray) -> None:\n",
    "\n",
    "    # First, reverse the whole string.\n",
    "    s.reverse()\n",
    "\n",
    "    def reverse_range(s: bytearray, start: int, finish: int) -> None:\n",
    "        while start < finish:\n",
    "            s[start], s[finish] = s[finish], s[start]\n",
    "            start, finish = start + 1, finish - 1\n",
    "\n",
    "    start = 0\n",
    "    while True:\n",
    "        finish = s.find(b' ', start)\n",
    "        if finish < 0:\n",
    "            break\n",
    "        # Reverses each word in the string.\n",
    "        reverse_range(s, start, finish - 1)\n",
    "        start = finish + 1\n",
    "    # Reverses the last word.\n",
    "    reverse_range(s, start, len(s) - 1)"
   ]
  },
  {
   "cell_type": "code",
   "execution_count": null,
   "metadata": {},
   "outputs": [],
   "source": []
  },
  {
   "cell_type": "code",
   "execution_count": null,
   "metadata": {},
   "outputs": [],
   "source": [
    "def _test_reverse_words():\n",
    "    for _ in range(10):\n",
    "        s = gen_list_of_words(dir_name=ADS+'data/')\n",
    "        expected = \" \".join(sorted(reversed(s)))\n",
    "        # print(expected)\n",
    "        returned = str(reverse_words(bytearray(\" \".join(s), encoding='ascii')), 'ascii')\n",
    "        assert expected == returned\n",
    "        \n",
    "# _test_reverse_words()"
   ]
  },
  {
   "cell_type": "code",
   "execution_count": null,
   "metadata": {},
   "outputs": [],
   "source": []
  }
 ],
 "metadata": {
  "language_info": {
   "name": "python"
  }
 },
 "nbformat": 4,
 "nbformat_minor": 2
}
