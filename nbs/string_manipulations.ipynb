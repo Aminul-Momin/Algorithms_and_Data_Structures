{
 "cells": [
  {
   "cell_type": "markdown",
   "metadata": {
    "toc": true
   },
   "source": [
    "<h1>Table of Contents<span class=\"tocSkip\"></span></h1>\n",
    "<div class=\"toc\"><ul class=\"toc-item\"><li><ul class=\"toc-item\"><li><span><a href=\"#-Prerequisit:\" data-toc-modified-id=\"-Prerequisit:-0.1\"><font color=\"red\"> Prerequisit:</font></a></span></li></ul></li><li><span><a href=\"#EPI---String-Manipulation\" data-toc-modified-id=\"EPI---String-Manipulation-1\">EPI - String Manipulation</a></span><ul class=\"toc-item\"><li><span><a href=\"#Interconvert-strings-and-integers.---[EPI:-6.1]\" data-toc-modified-id=\"Interconvert-strings-and-integers.---[EPI:-6.1]-1.1\">Interconvert strings and integers. - [EPI: 6.1]</a></span></li><li><span><a href=\"#Base-conversion.---[EPI:-6.2]\" data-toc-modified-id=\"Base-conversion.---[EPI:-6.2]-1.2\">Base conversion. - [EPI: 6.2]</a></span></li><li><span><a href=\"#Compute-the-spreadsheet-column-encoding.---[EPI:-6.3]\" data-toc-modified-id=\"Compute-the-spreadsheet-column-encoding.---[EPI:-6.3]-1.3\">Compute the spreadsheet column encoding. - [EPI: 6.3]</a></span></li><li><span><a href=\"#Replace-and-remove.---[EPI:-6.4]\" data-toc-modified-id=\"Replace-and-remove.---[EPI:-6.4]-1.4\">Replace and remove. - [EPI: 6.4]</a></span></li><li><span><a href=\"#Test-palindromicity.---[EPI:-6.5]\" data-toc-modified-id=\"Test-palindromicity.---[EPI:-6.5]-1.5\">Test palindromicity. - [EPI: 6.5]</a></span></li><li><span><a href=\"#Reverse-all-the-words-in-a-sentence.---[EPI:-6.6]\" data-toc-modified-id=\"Reverse-all-the-words-in-a-sentence.---[EPI:-6.6]-1.6\">Reverse all the words in a sentence. - [EPI: 6.6]</a></span></li><li><span><a href=\"#Compute-all-mnemonics-for-a-phone-number.---[EPI:-6.7]\" data-toc-modified-id=\"Compute-all-mnemonics-for-a-phone-number.---[EPI:-6.7]-1.7\">Compute all mnemonics for a phone number. - [EPI: 6.7]</a></span></li><li><span><a href=\"#The-look-and-say-problem.---[EPI:-6.8]-YT\" data-toc-modified-id=\"The-look-and-say-problem.---[EPI:-6.8]-YT-1.8\">The look-and-say problem. - [EPI: 6.8] <a href=\"https://www.youtube.com/watch?v=ea7lJkEhytA\" target=\"_blank\">YT</a></a></span></li><li><span><a href=\"#Convert-from-Roman-to-decimal.---[EPI:-6.9]-YT\" data-toc-modified-id=\"Convert-from-Roman-to-decimal.---[EPI:-6.9]-YT-1.9\">Convert from Roman to decimal. - [EPI: 6.9] <a href=\"https://www.youtube.com/watch?v=7uwygP5GKDk\" target=\"_blank\">YT</a></a></span></li><li><span><a href=\"#Compute-all-valid-IP-addresses.---[EPI:-6.10]-NeetCode-Leetcode\" data-toc-modified-id=\"Compute-all-valid-IP-addresses.---[EPI:-6.10]-NeetCode-Leetcode-1.10\">Compute all valid IP addresses. - [EPI: 6.10] <a href=\"https://www.youtube.com/watch?v=61tN4YEdiTM\" target=\"_blank\">NeetCode</a> <a href=\"https://leetcode.com/problems/restore-ip-addresses/\" target=\"_blank\">Leetcode</a></a></span></li><li><span><a href=\"#Write-a-string-sinusoidally.---[EPI:-6.11]\" data-toc-modified-id=\"Write-a-string-sinusoidally.---[EPI:-6.11]-1.11\">Write a string sinusoidally. - [EPI: 6.11]</a></span></li><li><span><a href=\"#Implement-run-length-encoding.---[EPI:-6.12,-CtCI:-1.5]\" data-toc-modified-id=\"Implement-run-length-encoding.---[EPI:-6.12,-CtCI:-1.5]-1.12\">Implement run-length encoding. - [EPI: 6.12, CtCI: 1.5]</a></span></li><li><span><a href=\"#Find-the-first-occurrence-of-a-substring.---[EPI:-6.13]\" data-toc-modified-id=\"Find-the-first-occurrence-of-a-substring.---[EPI:-6.13]-1.13\">Find the first occurrence of a substring. - [EPI: 6.13]</a></span></li></ul></li><li><span><a href=\"#CtCI\" data-toc-modified-id=\"CtCI-2\">CtCI</a></span><ul class=\"toc-item\"><li><span><a href=\"#Is-the-string-of-unique-characters.---[CtCI:-1.1]\" data-toc-modified-id=\"Is-the-string-of-unique-characters.---[CtCI:-1.1]-2.1\">Is the string of unique characters. - [CtCI: 1.1]</a></span></li><li><span><a href=\"#Is-the-string-s2-is-permuatation-of-another-string-s2.---[CtCI:-1.3]\" data-toc-modified-id=\"Is-the-string-s2-is-permuatation-of-another-string-s2.---[CtCI:-1.3]-2.2\">Is the string <code>s2</code> is permuatation of another string <code>s2</code>. - [CtCI: 1.3]</a></span></li><li><span><a href=\"#Replace-character-of-given-string.---[CtCI:-1.4]\" data-toc-modified-id=\"Replace-character-of-given-string.---[CtCI:-1.4]-2.3\">Replace character of given string. - [CtCI: 1.4]</a></span></li><li><span><a href=\"#Run-length-Encoding.-[CtCI:-1.5,-EPI:-6.12]\" data-toc-modified-id=\"Run-length-Encoding.-[CtCI:-1.5,-EPI:-6.12]-2.4\">Run-length Encoding. [CtCI: 1.5, EPI: 6.12]</a></span></li><li><span><a href=\"#Is-the-string-s2-is-rotation-of-another-string-s1.---[CtCI:-1.8]\" data-toc-modified-id=\"Is-the-string-s2-is-rotation-of-another-string-s1.---[CtCI:-1.8]-2.5\">Is the string <code>s2</code> is rotation of another string <code>s1</code>. - [CtCI: 1.8]</a></span></li></ul></li><li><span><a href=\"#Collected-Chalanges\" data-toc-modified-id=\"Collected-Chalanges-3\">Collected Chalanges</a></span><ul class=\"toc-item\"><li><ul class=\"toc-item\"><li><span><a href=\"#The-Longest-Binary-Gap\" data-toc-modified-id=\"The-Longest-Binary-Gap-3.0.1\">The Longest Binary Gap</a></span></li><li><span><a href=\"#Search-Suggestions-System-LC:-1268\" data-toc-modified-id=\"Search-Suggestions-System-LC:-1268-3.0.2\">Search Suggestions System <a href=\"https://leetcode.com/problems/search-suggestions-system/\" target=\"_blank\">LC: 1268</a></a></span></li><li><span><a href=\"#Given-a-string-s-which-consists-of-lowercase-or-uppercase-letters,-return-the-length-of-the-longest-palindrome-that-can-be-built-with-those-letters.\" data-toc-modified-id=\"Given-a-string-s-which-consists-of-lowercase-or-uppercase-letters,-return-the-length-of-the-longest-palindrome-that-can-be-built-with-those-letters.-3.0.3\">Given a string <code>s</code> which consists of lowercase or uppercase letters, return the length of the longest palindrome that can be built with those letters.</a></span></li><li><span><a href=\"#Longest-Palindromic-Substring\" data-toc-modified-id=\"Longest-Palindromic-Substring-3.0.4\">Longest Palindromic Substring</a></span></li><li><span><a href=\"#Split-a-String-in-Balanced-Strings\" data-toc-modified-id=\"Split-a-String-in-Balanced-Strings-3.0.5\">Split a String in Balanced Strings</a></span></li><li><span><a href=\"#Reorganize-String\" data-toc-modified-id=\"Reorganize-String-3.0.6\"><a href=\"https://leetcode.com/problems/reorganize-string/description/\" target=\"_blank\">Reorganize String</a></a></span></li></ul></li><li><span><a href=\"#Reorganize-String\" data-toc-modified-id=\"Reorganize-String-3.1\">Reorganize String</a></span><ul class=\"toc-item\"><li><span><a href=\"#Minimum-number-of-operations-to-convert-an-string-into-anagrams-of-another-string.\" data-toc-modified-id=\"Minimum-number-of-operations-to-convert-an-string-into-anagrams-of-another-string.-3.1.1\">Minimum number of operations to convert an string into anagrams of another string.</a></span></li></ul></li></ul></li><li><span><a href=\"#Data-Structures:\" data-toc-modified-id=\"Data-Structures:-4\">Data Structures:</a></span><ul class=\"toc-item\"><li><span><a href=\"#Tries:\" data-toc-modified-id=\"Tries:-4.1\">Tries:</a></span></li></ul></li></ul></div>"
   ]
  },
  {
   "cell_type": "code",
   "execution_count": 5,
   "metadata": {
    "tags": []
   },
   "outputs": [],
   "source": [
    "import string, os, heapq\n",
    "from random import randint, randrange, shuffle, sample, choices, choice\n",
    "\n",
    "import collections\n",
    "from collections import Counter, defaultdict, OrderedDict\n",
    "from typing import Sequence, Container, List\n",
    "from itertools import product, groupby\n",
    "from functools import reduce"
   ]
  },
  {
   "cell_type": "code",
   "execution_count": 6,
   "metadata": {
    "slideshow": {
     "slide_type": ""
    },
    "tags": []
   },
   "outputs": [],
   "source": [
    "from ads.utils import *\n",
    "ADS = os.environ['ADS']"
   ]
  },
  {
   "cell_type": "code",
   "execution_count": null,
   "metadata": {},
   "outputs": [],
   "source": [
    "# sys.path.insert(0, '../Util')  # add Util package at begining of your python path.\n",
    "# %run -i './util.py'\n",
    "# %run -i '/Users/am/mydocs/Software_Development/Algorithms_and_Data_Structures/ads/utils/utils.py'"
   ]
  },
  {
   "cell_type": "markdown",
   "metadata": {},
   "source": [
    "- [NeetCode](https://neetcode.io/)"
   ]
  },
  {
   "cell_type": "markdown",
   "metadata": {
    "heading_collapsed": true,
    "jp-MarkdownHeadingCollapsed": true,
    "slideshow": {
     "slide_type": ""
    },
    "tags": []
   },
   "source": [
    "#### <b style='color:#C71585'>Prerequisit:</b>"
   ]
  },
  {
   "cell_type": "code",
   "execution_count": null,
   "metadata": {
    "hidden": true
   },
   "outputs": [],
   "source": [
    "print(\n",
    "    f\"{red('string.ascii_letters')}: {string.ascii_letters}\",\n",
    "    f\"{red('string.ascii_lowercase')}: {string.ascii_lowercase}\",\n",
    "    f\"{red('string.ascii_uppercase')}: {string.ascii_uppercase}\",\n",
    "    f\"{red('string.whitespace')}: {list(string.whitespace)}\",\n",
    "    f\"{red('string.digits')}: {string.digits}\",\n",
    "    f\"{red('string.hexdigits')}: {string.hexdigits}\",\n",
    "    f\"{red('string.octdigits')}: {string.octdigits}\",\n",
    "    f\"{red('string.punctuation')}: {string.punctuation}\",\n",
    "    f\"{red('string.printable')}: {string.printable}\",\n",
    "    sep='\\n'\n",
    ")"
   ]
  },
  {
   "cell_type": "code",
   "execution_count": null,
   "metadata": {
    "hidden": true
   },
   "outputs": [],
   "source": [
    "bin_str = bin(15); print(bin_str); print(type(bin_str))\n",
    "byte_str = b'a string'; print(byte_str); print(type(byte_str))\n",
    "regular_str1 = byte_str.decode('ascii'); print(regular_str1)\n",
    "regular_str2 = byte_str.decode('utf-8'); print(regular_str2)\n",
    "f_str = f\"this is called f-string: \\t {string.whitespace}\"; print(f_str)\n",
    "raw_str = r\"this is called raw_str \\n {string.whitespace}\"; print(raw_str)"
   ]
  },
  {
   "cell_type": "code",
   "execution_count": null,
   "metadata": {
    "hidden": true
   },
   "outputs": [],
   "source": [
    "print(\"Sorting of '12345'\", sorted('12345', reverse=True))\n",
    "print(sorted('New York'))\n",
    "print(sorted('New York', key=str.lower))\n",
    "\n",
    "od = collections.OrderedDict()\n",
    "d = dict()\n",
    "\n",
    "for i in string.punctuation: od[i] = ord(i)\n",
    "for i in string.punctuation: od[i] = ord(i)\n",
    "for i in string.punctuation: d[i] = ord(i)\n",
    "print(od)\n",
    "print(d)\n",
    "print(od == d)\n",
    "print(string.digits.index('9'))"
   ]
  },
  {
   "cell_type": "code",
   "execution_count": null,
   "metadata": {
    "hidden": true
   },
   "outputs": [],
   "source": [
    "bs = bytearray(\"\"\"  Honesty is the best policy\n",
    "she sells sea shells by the sea shore  \"\"\", encoding='ascii')\n",
    "bs.reverse()"
   ]
  },
  {
   "cell_type": "markdown",
   "metadata": {},
   "source": [
    "#### <b style='color:#C71585'>EPI</b>"
   ]
  },
  {
   "cell_type": "markdown",
   "metadata": {
    "heading_collapsed": true,
    "jp-MarkdownHeadingCollapsed": true,
    "tags": []
   },
   "source": [
    "##### Interconvert strings and integers. - [EPI: 6.1]"
   ]
  },
  {
   "cell_type": "code",
   "execution_count": null,
   "metadata": {
    "code_folding": [
     0,
     11
    ],
    "hidden": true,
    "tags": []
   },
   "outputs": [],
   "source": [
    "def int_to_str(n):\n",
    "    if n == 0: return chr(ord('0'))\n",
    "    sign, num = ('-', -n) if n < 0 else ('', n)\n",
    "    res = []\n",
    "    \n",
    "    while num:\n",
    "        res.append(chr(ord('0') + num%10))\n",
    "        num //= 10\n",
    "    \n",
    "    return sign + \"\".join(reversed(res))\n",
    "\n",
    "def int_to_str_v2(n: int) -> str:\n",
    "    if n == 0: return chr(ord('0'))\n",
    "    sign = '-' if n < 0 else ''\n",
    "    n = -n if n < 0 else n\n",
    "    s = []\n",
    "    \n",
    "    while n != 0:\n",
    "        s.append(chr(ord('0') + n % 10))\n",
    "        n = n // 10\n",
    "\n",
    "    result = sign + ''.join(reversed(s))\n",
    "    return result"
   ]
  },
  {
   "cell_type": "code",
   "execution_count": null,
   "metadata": {
    "hidden": true,
    "tags": []
   },
   "outputs": [],
   "source": [
    "chr(ord('0')), chr(0), chr(48), type(chr(0)), type(ord('0')), ord('0')"
   ]
  },
  {
   "cell_type": "code",
   "execution_count": null,
   "metadata": {
    "hidden": true
   },
   "outputs": [],
   "source": []
  },
  {
   "cell_type": "code",
   "execution_count": null,
   "metadata": {
    "code_folding": [
     13
    ],
    "hidden": true,
    "tags": []
   },
   "outputs": [],
   "source": [
    "def str_to_int(s):\n",
    "    sign, string = (-1, s[1:]) if s[0] == \"-\" else (1, s)\n",
    "    res = 0\n",
    "    for char in string:\n",
    "        res = res*10 + ord(char) - ord('0')\n",
    "    return sign * res\n",
    "\n",
    "def str_to_int_v2(s: str) -> int:\n",
    "    sign = -1 if s[0] == '-' else 1\n",
    "    s = s[s[0] == '-':]\n",
    "    callback = lambda res, item: res*10 + string.digits.index(item)\n",
    "    return reduce(callback, s, 0) * sign\n",
    "\n",
    "def str_to_int_v3(s: str) -> int:\n",
    "    res = 0\n",
    "    initial_point = 0 if s[0] != '-' else 1\n",
    "\n",
    "    for i in range(initial_point, len(s)):\n",
    "        cur_digit = ord(s[i]) - ord('0')\n",
    "        res = res * 10 + cur_digit\n",
    "\n",
    "    return (res if not initial_point else -res)"
   ]
  },
  {
   "cell_type": "markdown",
   "metadata": {
    "hidden": true
   },
   "source": [
    "- Time: O(n) \n",
    "- Space: O(n)\n",
    "- n -> len(s)"
   ]
  },
  {
   "cell_type": "code",
   "execution_count": null,
   "metadata": {
    "code_folding": [
     0
    ],
    "hidden": true,
    "tags": []
   },
   "outputs": [],
   "source": [
    "def test_int_to_string():\n",
    "    converters_i_to_s = [int_to_str, int_to_str_v2]\n",
    "    converters_s_to_i = [str_to_int, str_to_int_v2, str_to_int_v3]\n",
    "    conterters = converters_i_to_s + converters_s_to_i\n",
    "    \n",
    "    for _ in range(3000):\n",
    "        for converter in conterters:\n",
    "            num = randint(-100, 100)\n",
    "            try:\n",
    "                if converter in converters_i_to_s:\n",
    "                    returned = converter(num)\n",
    "                    expected = str(num)\n",
    "                    assert returned == expected\n",
    "                if converter in converters_s_to_i:\n",
    "                    returned = converter(str(num))\n",
    "                    expected = num\n",
    "                    assert returned == expected\n",
    "            except AssertionError:\n",
    "                print(f\"\"\"\n",
    "                    Function: {converter.__name__}\n",
    "                    Returned: {returned}\n",
    "                    Expected: {expected}\n",
    "                    Input: {num}\n",
    "                \"\"\")\n",
    "            #break\n",
    "# ===============================================================\n",
    "test_int_to_string()"
   ]
  },
  {
   "cell_type": "markdown",
   "metadata": {
    "heading_collapsed": true,
    "jp-MarkdownHeadingCollapsed": true,
    "tags": []
   },
   "source": [
    "##### Base conversion. - [EPI: 6.2]"
   ]
  },
  {
   "cell_type": "markdown",
   "metadata": {
    "hidden": true
   },
   "source": [
    "Write a program that performs base conversion. The input is a string, an integer (`b1`), and another integer (`b2`). The string represents an integer in base `b1`, The output should be the string representing the interger in base `b2`."
   ]
  },
  {
   "cell_type": "markdown",
   "metadata": {
    "hidden": true
   },
   "source": [
    "- Algorithom:\n",
    "    - convert 'num_as_str' into an integer in decimal form from the given base 'b1'.\n",
    "    - then convert the integer in decimal form into it's equivalent in base 'b2'."
   ]
  },
  {
   "cell_type": "code",
   "execution_count": null,
   "metadata": {
    "code_folding": [],
    "hidden": true
   },
   "outputs": [],
   "source": [
    "def convert_base(num_as_str: str, b1: int, b2: int) -> str:\n",
    "    \"\"\"Convert an integer into one numeral to anothe\n",
    "    Args:\n",
    "        num_as_str: string representation of an integer in base 'b1'.\n",
    "    \"\"\"\n",
    "\n",
    "    def int_to_str_in_b(num: int, b2: int) -> str:\n",
    "        \"\"\"Convert the given decimal-equivalent-integer of an integer in given base 'b1', into string representating the integer into the given base 'b1'.\n",
    "        Args:\n",
    "            num: decimal-equivalent-integer of an integer in given base, b1.\n",
    "            base: an integer in decimal form representating the base into which 'num' \n",
    "                  should be converted into.\n",
    "        \"\"\"\n",
    "        if num == 0: return ''\n",
    "        cur_digit_as_str = string.hexdigits[num % b2].upper()\n",
    "        result = int_to_str_in_b(num // b2, b2) + cur_digit_as_str\n",
    "        return result\n",
    "    \n",
    "    if num_as_str in ('0', '1'): return num_as_str\n",
    "    func = lambda x, c: x * b1 + string.hexdigits.index(c.lower())\n",
    "    num_as_str, sign = (num_as_str[1:], '-') if num_as_str[0] == '-' else (num_as_str, '')\n",
    "\n",
    "    # convert 'num_as_str' into an integer in decimal form from the given base 'b1'.\n",
    "    num_as_int = reduce(func, num_as_str, 0)\n",
    "    \n",
    "    return sign + int_to_str_in_b(num_as_int, b2)"
   ]
  },
  {
   "cell_type": "code",
   "execution_count": null,
   "metadata": {
    "hidden": true
   },
   "outputs": [],
   "source": [
    "def test_convert_base():\n",
    "    test_cases = [\n",
    "        [\"0\", 10, 16, \"0\"],\n",
    "        [\"1\", 10, 16, \"1\"],\n",
    "        [\"15\", 10, 16, \"F\"],\n",
    "        [\"-15\", 10, 16, \"-F\"],\n",
    "        [\"15\", 10, 2, \"1111\"],\n",
    "        [\"-15\", 10, 2, \"-1111\"],\n",
    "        [\"F\", 16, 10, \"15\"],\n",
    "        [\"-F\", 16, 10, \"-15\"],\n",
    "        [\"-1111\", 2, 10, \"-15\"],\n",
    "        [\"-1111\", 2, 16, \"-F\"],\n",
    "    ]\n",
    "    \n",
    "    for num_as_str, b1, b2, expected in test_cases:\n",
    "        try:\n",
    "            returned = convert_base(num_as_str, b1, b2)\n",
    "            assert returned == expected\n",
    "        except AssertionError:\n",
    "            print(f\"\"\"\n",
    "                Input: {num_as_str, b1, b2}\n",
    "                Returned: {returned}\n",
    "                Expected: {expected}         \n",
    "            \"\"\")\n",
    "# ===================================================================\n",
    "test_convert_base()"
   ]
  },
  {
   "cell_type": "code",
   "execution_count": null,
   "metadata": {
    "code_folding": [
     0
    ],
    "hidden": true
   },
   "outputs": [],
   "source": [
    "def decimal_int_to_str_in_base(num: int,  base: int):\n",
    "    \"\"\"Convert an decimal integer `num` into the string form of anather numeral in the given `base`.\n",
    "    \n",
    "    Args:\n",
    "        num (int): the decimal integer to be converted.\n",
    "        base (int): the base of converted numeral.\n",
    "    Return:\n",
    "        (str): the string form of a numeral in given `base`.\n",
    "    \"\"\"\n",
    "    \n",
    "    if num == 0: return ''\n",
    "    sign, number = ('-', -num) if num < 0 else ('', num)\n",
    "    res = []\n",
    "    while number:\n",
    "        res.append(string.hexdigits[number%base])\n",
    "        number //= base\n",
    "    str_res = \"\".join(reversed(res))\n",
    "    return sign + str_res"
   ]
  },
  {
   "cell_type": "markdown",
   "metadata": {
    "hidden": true
   },
   "source": [
    "- It first convert `num_as_str` into it's corresponding `int` value in `b1`.\n",
    "    - Example:\n",
    "        - if num_as_str = \"1111\" in base(`b1`) 2\n",
    "        - then \n",
    "- It then convert the `int` value into the corresponding `str` in base `b2` using `int_to_str_in_base(...)`"
   ]
  },
  {
   "cell_type": "code",
   "execution_count": null,
   "metadata": {
    "code_folding": [
     0
    ],
    "hidden": true
   },
   "outputs": [],
   "source": [
    "def convert_base_v2(num_as_str, b1, b2) -> str:\n",
    "    \"\"\"\n",
    "    Args:\n",
    "        numb_as_str (str): the string form numeral given in base `b1` to be \n",
    "                           converted into `b2`.\n",
    "        b1 (int): the given base of `num_as_str`.\n",
    "        b2 (int): the base of `num_as_str` to be converted into.\n",
    "    Return:\n",
    "        (str): the string form of converted `num_as_str` in base `b2`.\n",
    "    \"\"\"\n",
    "    \n",
    "    sign, num_str = (-1, num_as_str[1:]) if num_as_str[0] == '-' else (1, num_as_str)\n",
    "    \n",
    "    res = 0 # holds the int value of converted numeral.\n",
    "    for char in num_as_str:\n",
    "        res = res * b1 + string.hexdigits.index(char.lower())\n",
    "    \n",
    "    # Convert b1 to b2\n",
    "    str_in_b2 = int_to_str_in_base(res*sign, b2)\n",
    "    return str_in_b2    "
   ]
  },
  {
   "cell_type": "code",
   "execution_count": null,
   "metadata": {
    "code_folding": [
     0
    ],
    "hidden": true
   },
   "outputs": [],
   "source": [
    "def convert_decimal_binary(deci_num: int) -> int:\n",
    "    s = ''\n",
    "    while deci_num != 0:\n",
    "        s = str(deci_num % 2) + s\n",
    "        deci_num = deci_num // 2\n",
    "    return s"
   ]
  },
  {
   "cell_type": "code",
   "execution_count": null,
   "metadata": {
    "code_folding": [
     0
    ],
    "hidden": true
   },
   "outputs": [],
   "source": [
    "def test_convert_base():\n",
    "    n = randrange(100)\n",
    "    returned = convert_base_v2(str(n), 10, 16)\n",
    "    expected = str(hex(n))[2:]\n",
    "    print(returned, expected)\n",
    "    assert returned == expected\n",
    "\n",
    "# Call the test function\n",
    "test_convert_base()"
   ]
  },
  {
   "cell_type": "markdown",
   "metadata": {
    "heading_collapsed": true,
    "jp-MarkdownHeadingCollapsed": true,
    "tags": []
   },
   "source": [
    "##### Compute the spreadsheet column encoding. - [EPI: 6.3]"
   ]
  },
  {
   "cell_type": "markdown",
   "metadata": {
    "hidden": true
   },
   "source": [
    "Implement a function that converts a spreadsheet column id to the corresponding integer, with \"A\" corresponding to 1. For example, you should return 4 for \"D\", 27 for \"AA\", 702 for \"ZZ\", etc. How would you test your code?\n",
    "\n",
    "Hint: There are 26 characters in [\"A\",\"Z\"], and each can be mapped to an integer."
   ]
  },
  {
   "cell_type": "code",
   "execution_count": null,
   "metadata": {
    "code_folding": [],
    "hidden": true
   },
   "outputs": [],
   "source": [
    "def decode_ss_col_id(col: str) -> int:\n",
    "    func = lambda pos, c: pos * 26 + (ord(c) - ord('A')) + 1\n",
    "    return reduce(func, col, 0)"
   ]
  },
  {
   "cell_type": "code",
   "execution_count": null,
   "metadata": {
    "code_folding": [],
    "hidden": true
   },
   "outputs": [],
   "source": [
    "def decode_ss_col_id_v2(col: str) -> int:\n",
    "    \"\"\"\n",
    "    NOTE: Assumes there is no 0'th column in spread-sheet.\n",
    "    \"\"\"\n",
    "    base = 26\n",
    "    res = 0\n",
    "    for char in col:\n",
    "        res = res * base + string.ascii_uppercase.index(char) + 1\n",
    "    return res"
   ]
  },
  {
   "cell_type": "code",
   "execution_count": null,
   "metadata": {
    "hidden": true
   },
   "outputs": [],
   "source": [
    "def _test_decode_ss_col_id():\n",
    "    for _ in range(1):\n",
    "        col_id = \"\".join(choices(string.ascii_uppercase, k = randint(1, 27)))\n",
    "        assert decode_ss_col_id(col_id) == decode_ss_col_id_v2(col_id)\n",
    "        print(col_id)\n",
    "\n",
    "_test_decode_ss_col_id()"
   ]
  },
  {
   "cell_type": "markdown",
   "metadata": {
    "heading_collapsed": true,
    "jp-MarkdownHeadingCollapsed": true,
    "tags": []
   },
   "source": [
    "##### Replace and remove. - [EPI: 6.4]"
   ]
  },
  {
   "cell_type": "markdown",
   "metadata": {
    "hidden": true
   },
   "source": [
    "You are given an array of characters `chars`, which contains lowercase letters, 'a' and 'b'. You need to perform two operations on the array:\n",
    "\n",
    "- Replace every occurrence of 'a' with two 'd' characters.\n",
    "- Remove every occurrence of 'b'.\n",
    "\n",
    "Your task is to modify the array <b style=\"color:red\">in-place</b> and return the final length of the resulting array."
   ]
  },
  {
   "cell_type": "markdown",
   "metadata": {
    "hidden": true
   },
   "source": [
    "Write a program which takes as input an array of characters, and removes each `b` and replaces each `a` by two `d`s. \n",
    "\n",
    "Specifically, along with the array, you'r provided an integer-valued size which denotes the number of entries of the array that the operation is to be applied to. \n",
    "\n",
    "You do not have to worry preserving about subsequent entries. For example, if the array is [a,b,a,c,...] and the size is 4, then you can return [d,d,d,d,c]. You can assume there is enough space in the array to hold the final result."
   ]
  },
  {
   "cell_type": "code",
   "execution_count": null,
   "metadata": {
    "code_folding": [],
    "hidden": true
   },
   "outputs": [],
   "source": [
    "def replace_and_remove(size: int, s: List[chr]) -> int:\n",
    "    \"\"\"\n",
    "    Returns: the size of the replaced and removed string.\n",
    "    \"\"\"\n",
    "\n",
    "    # Forward iteration: remove 'b's and count the number of 'a's.\n",
    "    write_idx, a_count = 0, 0\n",
    "    for i in range(size):\n",
    "        if s[i] != 'b':\n",
    "            s[write_idx] = s[i]\n",
    "            write_idx += 1\n",
    "        if s[i] == 'a':\n",
    "            a_count += 1\n",
    "\n",
    "    # Backward iteration: replace 'a's with 'dd's starting from the end.\n",
    "    cur_idx = write_idx - 1\n",
    "    write_idx += a_count - 1\n",
    "    final_size = write_idx + 1\n",
    "\n",
    "    while cur_idx >= 0:\n",
    "        if s[cur_idx] == 'a':\n",
    "            s[write_idx-1: write_idx+1] = 'dd'\n",
    "            write_idx -= 2\n",
    "        else:\n",
    "            s[write_idx] = s[cur_idx]\n",
    "            write_idx -= 1\n",
    "\n",
    "        cur_idx -= 1\n",
    "\n",
    "    return final_size"
   ]
  },
  {
   "cell_type": "code",
   "execution_count": null,
   "metadata": {
    "code_folding": [
     0
    ],
    "hidden": true
   },
   "outputs": [],
   "source": [
    "def _test_replace_and_remove():\n",
    "    for _ in range(10):\n",
    "        s = \"\".join(choices(string.ascii_lowercase, k=randint(0, 27))) + 'aaaaa'\n",
    "        bs_count = s.count('b')\n",
    "        as_count = s.count('a')\n",
    "        if bs_count > 2*as_count: continue\n",
    "        final_size = len(s) + as_count - bs_count\n",
    "        chars = list(s)\n",
    "        shuffle(chars)        \n",
    "        list_char = chars + ['']*(as_count-bs_count)\n",
    "        \n",
    "        print(\"\".join(list_char))\n",
    "        replace_and_remove(len(s), list_char)\n",
    "        print(\"\".join(list_char))\n",
    "\n",
    "# _test_replace_and_remove()"
   ]
  },
  {
   "cell_type": "markdown",
   "metadata": {
    "heading_collapsed": true,
    "jp-MarkdownHeadingCollapsed": true,
    "tags": []
   },
   "source": [
    "##### Test palindromicity. - [EPI: 6.5]"
   ]
  },
  {
   "cell_type": "markdown",
   "metadata": {
    "hidden": true
   },
   "source": [
    "- **Implement a function that takes as input a string `s`, and return true if `s` is a palindromic string.**"
   ]
  },
  {
   "cell_type": "code",
   "execution_count": null,
   "metadata": {
    "hidden": true
   },
   "outputs": [],
   "source": [
    "def is_palindrome_simple(s: str) -> bool:\n",
    "    for i in range(len(s)//2):\n",
    "        if s[i] != s[~i]: return False\n",
    "    return True\n"
   ]
  },
  {
   "cell_type": "code",
   "execution_count": null,
   "metadata": {
    "hidden": true
   },
   "outputs": [],
   "source": [
    "def is_palindrome(s: str) -> bool:\n",
    "\n",
    "    # i moves forward, and j moves backward.\n",
    "    i, j = 0, len(s) - 1\n",
    "    while i < j:\n",
    "        # i and j both skip non-alphanumeric characters.\n",
    "        while i < j and not s[i].isalnum(): i += 1\n",
    "        while i < j and not s[j].isalnum(): j -= 1\n",
    "        if s[i].lower() != s[j].lower(): return False\n",
    "        i, j = i + 1, j - 1\n",
    "    return True"
   ]
  },
  {
   "cell_type": "code",
   "execution_count": null,
   "metadata": {
    "hidden": true
   },
   "outputs": [],
   "source": [
    "def is_palindrome_pythonic(s: str) -> bool:\n",
    "    m1 = map(str.lower, filter(str.isalnum, s))\n",
    "    m2 = map(str.lower, filter(str.isalnum, reversed(s)))\n",
    "\n",
    "    return all(a == b for a, b in zip(m1, m2))"
   ]
  },
  {
   "cell_type": "code",
   "execution_count": null,
   "metadata": {
    "code_folding": [
     1
    ],
    "hidden": true
   },
   "outputs": [],
   "source": [
    "def test_is_palindrome():\n",
    "    test_cases = [\n",
    "        (\"No lemon, no melon\", True),  # Palindrome with spaces\n",
    "        (\"No lemon no melon\", True),  # Palindrome with spaces\n",
    "        (\"Was it a car or a cat I saw?\", True),  # Palindrome with spaces and punctuation\n",
    "        (\"Was it a car or a cat I saw\", True),  # Palindrome with spaces and punctuation\n",
    "        (\"\", True),  # Empty string is a palindrome\n",
    "        (\"a\", True),  # Single character is a palindrome\n",
    "        (\"aa\", True),  # Two identical characters\n",
    "        (\"ab\", False),  # Two different characters\n",
    "        (\"aba\", True),  # Odd length palindrome\n",
    "        (\"abc\", False),  # Not a palindrome\n",
    "        (\"abba\", True),  # Even length palindrome\n",
    "        (\"abcd\", False),  # Not a palindrome\n",
    "        (\"A man a plan a canal Panama\", True),  # Palindrome with spaces and capitalization\n",
    "        (\"\", True),  # Empty string is a palindrome\n",
    "        (\"racecar\", True),  # Odd length palindrome\n",
    "        (\"12321\", True),  # Numeric palindrome\n",
    "        (\"12345\", False),  # Not a palindrome\n",
    "        (\"Madam In Eden, I'm Adam\", True),  # Palindrome with punctuation and capitalization\n",
    "        (\"\", True),  # Empty string is a palindrome\n",
    "        (\"level\", True),  # Odd length palindrome\n",
    "        (\"deified\", True),  # Palindrome\n",
    "        (\"civic\", True),  # Palindrome\n",
    "        (\"radar\", True),  # Palindrome\n",
    "        (\"reviver\", True),  # Palindrome\n",
    "        (\"rotor\", True),  # Palindrome\n",
    "        (\"tenet\", True),  # Palindrome\n",
    "        (\"hello\", False),  # Not a palindrome\n",
    "        (\"world\", False),  # Not a palindrome\n",
    "        (\"\", True),  # Empty string is a palindrome\n",
    "        (\"\", True),  # Empty string is a palindrome\n",
    "        (\"\", True),  # Empty string is a palindrome\n",
    "    ]\n",
    "    \n",
    "    for test_case, expected in test_cases:\n",
    "        returned1 = is_palindrome(test_case)\n",
    "        try:\n",
    "            assert returned1 == expected\n",
    "        except AssertionError:\n",
    "            print(f\"{test_case} \\n {returned1} \\n {expected}\")\n",
    "#============================================================================\n",
    "test_is_palindrome()"
   ]
  },
  {
   "cell_type": "markdown",
   "metadata": {
    "hidden": true
   },
   "source": [
    "- **Implement a function that takes as input a <b style=\"color:red\">integer</b> `n`, and return true if `n` is a palindromic integer <b style=\"color:red\">without converting it into str</b>**"
   ]
  },
  {
   "cell_type": "code",
   "execution_count": null,
   "metadata": {
    "code_folding": [],
    "hidden": true
   },
   "outputs": [],
   "source": [
    "def is_int_palindrome(n):\n",
    "    \"\"\"\n",
    "    Checks if a given integer is a palindrome.\n",
    "\n",
    "    Args:\n",
    "        n: The integer to check.\n",
    "\n",
    "    Returns:\n",
    "        True if n is a palindrome, False otherwise.\n",
    "    \"\"\"\n",
    "\n",
    "    if n < 0: return False  # Negative numbers cannot be palindromes\n",
    "\n",
    "    divisor = 1\n",
    "    while n // divisor >= 10: divisor *= 10\n",
    "\n",
    "    while n != 0:\n",
    "        left = n // divisor\n",
    "        right = n % 10\n",
    "\n",
    "        if left != right: return False\n",
    "\n",
    "        # Eleminate leftmost and then rightmost digit from `n`\n",
    "        n = (n % divisor) // 10\n",
    "        \n",
    "        # Eleminate two rightmost digit from `divisor`\n",
    "        divisor //= 100\n",
    "\n",
    "    return True\n",
    "\n",
    "print(is_int_palindrome(92929))"
   ]
  },
  {
   "cell_type": "code",
   "execution_count": null,
   "metadata": {
    "code_folding": [],
    "hidden": true
   },
   "outputs": [],
   "source": [
    "def test_is_int_palindrom():\n",
    "    test_cases = [\n",
    "        (0, True),\n",
    "        (-1, False),\n",
    "        (-111, False),\n",
    "        (122221, True),\n",
    "        (123454321, True),\n",
    "        (1234321, True),\n",
    "    ]\n",
    "    \n",
    "    for test_case, expected in test_cases:\n",
    "        returned = is_int_palindrome(test_case)\n",
    "        \n",
    "        try:\n",
    "            assert returned == expected\n",
    "        except AssertionError as ae:\n",
    "            \n",
    "            print(returned, expected)\n",
    "# ===========================================================\n",
    "\n",
    "test_is_int_palindrom()"
   ]
  },
  {
   "cell_type": "markdown",
   "metadata": {
    "heading_collapsed": true,
    "jp-MarkdownHeadingCollapsed": true,
    "tags": []
   },
   "source": [
    "##### Reverse all the words in a sentence. - [EPI: 6.6]"
   ]
  },
  {
   "cell_type": "markdown",
   "metadata": {
    "hidden": true
   },
   "source": [
    "Implement a function for reversing the words in a string `s`. Assume the string is represented using a array of characters.\n",
    "- Assume `s` is a string encoded as bytearray.\n"
   ]
  },
  {
   "cell_type": "code",
   "execution_count": null,
   "metadata": {
    "hidden": true
   },
   "outputs": [],
   "source": [
    "# Pythonic solution, doesn't reverse in-place, may be used with strings\n",
    "def reverse_words_pythonic(s: str) -> str:\n",
    "    return ' '.join(reversed(s.split(' ')))"
   ]
  },
  {
   "cell_type": "code",
   "execution_count": null,
   "metadata": {
    "code_folding": [],
    "hidden": true
   },
   "outputs": [],
   "source": [
    "def reverse_words(s: bytearray) -> None:\n",
    "\n",
    "    # First, reverse the whole string.\n",
    "    s.reverse()\n",
    "\n",
    "    def reverse_range(s: bytearray, start: int, finish: int) -> None:\n",
    "        while start < finish:\n",
    "            s[start], s[finish] = s[finish], s[start]\n",
    "            start, finish = start + 1, finish - 1\n",
    "\n",
    "    start = 0\n",
    "    while True:\n",
    "        finish = s.find(b' ', start)\n",
    "        if finish < 0:\n",
    "            break\n",
    "        # Reverses each word in the string.\n",
    "        reverse_range(s, start, finish - 1)\n",
    "        start = finish + 1\n",
    "    # Reverses the last word.\n",
    "    reverse_range(s, start, len(s) - 1)"
   ]
  },
  {
   "cell_type": "code",
   "execution_count": null,
   "metadata": {
    "hidden": true
   },
   "outputs": [],
   "source": []
  },
  {
   "cell_type": "code",
   "execution_count": null,
   "metadata": {
    "hidden": true
   },
   "outputs": [],
   "source": [
    "def _test_reverse_words():\n",
    "    for _ in range(10):\n",
    "        s = gen_list_of_words(dir_name=ADS+'data/')\n",
    "        expected = \" \".join(sorted(reversed(s)))\n",
    "        # print(expected)\n",
    "        returned = str(reverse_words(bytearray(\" \".join(s), encoding='ascii')), 'ascii')\n",
    "        assert expected == returned\n",
    "        \n",
    "# _test_reverse_words()"
   ]
  },
  {
   "cell_type": "markdown",
   "metadata": {
    "heading_collapsed": true,
    "jp-MarkdownHeadingCollapsed": true,
    "tags": []
   },
   "source": [
    "##### Compute all mnemonics for a phone number. - [EPI: 6.7]"
   ]
  },
  {
   "cell_type": "markdown",
   "metadata": {
    "hidden": true
   },
   "source": [
    "Write a program which takes as input a phone number, specified as a string of digits, and returns all possible character sequences that correspond to the phone number. The cell phone keypad is specified by a mapping that takes a digit and returns the corresponding set of characters. The character sequences do nto have to be legal words or phrases."
   ]
  },
  {
   "cell_type": "code",
   "execution_count": null,
   "metadata": {
    "code_folding": [
     22,
     26
    ],
    "hidden": true
   },
   "outputs": [],
   "source": [
    "# The mapping from digit to corresponding characters.\n",
    "def phone_mnemonic(phone_number: str) -> Container[str]:\n",
    "\n",
    "    def phone_mnemonic_helper(digit: int) -> None:\n",
    "        if digit == len(phone_number):\n",
    "            # All digits are processed, so add partial_mnemonic to mnemonics.\n",
    "            # (We add a copy since subsequent calls modify partial_mnemonic.)\n",
    "            mnemonics.append(''.join(partial_mnemonic))\n",
    "        else:\n",
    "            # Try all possible characters for this digit.\n",
    "            for c in MAPPING[int(phone_number[digit])]:\n",
    "                partial_mnemonic[digit] = c\n",
    "                phone_mnemonic_helper(digit + 1)\n",
    "\n",
    "    MAPPING = ('0', '1', 'ABC', 'DEF', 'GHI', 'JKL', 'MNO', 'PQRS', 'TUV', 'WXYZ')\n",
    "    mnemonics = []\n",
    "    partial_mnemonic = [0] * len(phone_number)\n",
    "    phone_mnemonic_helper(0)\n",
    "    \n",
    "    return mnemonics\n",
    "\n",
    "# Pythonic solution\n",
    "def phone_mnemonic_pythonic(phone_number: str) -> Container[str]:\n",
    "    m = product(*(MAPPING[int(digit)] for digit in phone_number))\n",
    "    return [''.join(mnemonic) for mnemonic in m]\n",
    "\n",
    "def phone_mnemonic_pythonic_another(phone_number: str) -> Container[str]:\n",
    "    TABLE = { '0': '0',   '1': '1',   '2': 'ABC',  '3': 'DEF', '4': 'GHI',\n",
    "              '5': 'JKL', '6': 'MNO', '7': 'PQRS', '8': 'TUV', '9': 'WXYZ'\n",
    "            }\n",
    "\n",
    "    return [\n",
    "        a + b for a in TABLE.get(phone_number[:1], '')\n",
    "        for b in phone_mnemonic_pythonic_another(phone_number[1:]) or ['']\n",
    "    ]"
   ]
  },
  {
   "cell_type": "code",
   "execution_count": null,
   "metadata": {
    "code_folding": [],
    "hidden": true
   },
   "outputs": [],
   "source": [
    "def _test_phone_mnemonic():\n",
    "    for _ in range(20):\n",
    "        pnum = choices([*range(10)], k=11)\n",
    "        print(pnum)\n",
    "#     res = phone_mnemonic(\"7186797621\")\n",
    "#     for i in res: print(i)\n",
    "# ==============================================================\n",
    "\n",
    "_test_phone_mnemonic()"
   ]
  },
  {
   "cell_type": "markdown",
   "metadata": {
    "heading_collapsed": true,
    "jp-MarkdownHeadingCollapsed": true,
    "tags": []
   },
   "source": [
    "##### The look-and-say problem. - [EPI: 6.8] [YT](https://www.youtube.com/watch?v=ea7lJkEhytA)"
   ]
  },
  {
   "cell_type": "markdown",
   "metadata": {
    "hidden": true
   },
   "source": [
    "- Write a program that takes as input an integer `n` and returns the n-th interger in the look-and-say sequence. Return the result as a string."
   ]
  },
  {
   "cell_type": "markdown",
   "metadata": {
    "hidden": true
   },
   "source": [
    "The \"look-and-say\" problem is a sequence generation problem that involves describing a sequence of numbers based on the spoken description of its elements. This problem is also known as the \"count and say\" problem. The sequence is generated iteratively, where each term is obtained by \"reading\" the previous term out loud and describing its elements in terms of counts of consecutive identical digits.\n",
    "\n",
    "The problem can be stated as follows:\n",
    "\n",
    "- Start with the first term: \"1\".\n",
    "- For each subsequent term, read the previous term out loud and count the consecutive occurrences of each digit.\n",
    "- Describe the count and the digit itself to generate the next term.\n",
    "- For example, the first few terms of the look-and-say sequence are:\n",
    "\n",
    "    -    `1`\n",
    "    -    `11 (One 1)`\n",
    "    -    `21 (Two 1s)`\n",
    "    -    `1211 (One 2, One 1)`\n",
    "    -    `111221 (One 1, One 2, Two 1s)`\n",
    "    -    `...`\n"
   ]
  },
  {
   "cell_type": "markdown",
   "metadata": {
    "hidden": true
   },
   "source": [
    "The problem is typically defined as follows:\n",
    "\n",
    "- Start with a seed value, which is usually the number 1.\n",
    "- Read off the digits of the seed value, counting the number of digits in groups of the same digit. For example, if the seed value is 1123, you would read it as \"two 1s, one 2, one 3.\"\n",
    "- Generate the next value in the sequence by concatenating the count and the digit for each group. Using the previous example, the next value would be \"211213.\"\n",
    "- Repeat steps 2 and 3, using the generated value as the new seed value."
   ]
  },
  {
   "cell_type": "code",
   "execution_count": null,
   "metadata": {
    "code_folding": [],
    "hidden": true
   },
   "outputs": [],
   "source": [
    "def look_and_say(n: int) -> str:\n",
    "\n",
    "    def _next_seq(s: str) -> str:\n",
    "        res = []\n",
    "        count = 1\n",
    "        for i in range(1, len(s)):\n",
    "            if s[i] == s[i-1]:\n",
    "                count += 1\n",
    "            else:\n",
    "                res.append(str(count) + s[i-1])\n",
    "                count = 1\n",
    "        \n",
    "        res.append(str(count) + s[-1])\n",
    "        \n",
    "        return ''.join(res)\n",
    "\n",
    "    s = '1'\n",
    "    for _ in range(1, n):\n",
    "        s = _next_seq(s)\n",
    "    return s"
   ]
  },
  {
   "cell_type": "markdown",
   "metadata": {
    "hidden": true
   },
   "source": [
    "**Time Complexity**: Each successive number can have at most twice as many digits as the previous number - this happens when all the digits are different. This means the maximum-length number has lentrh no more than $2^n$. Since there are n iterations and the work in each iteration is proportional to the length of the number computed in the iteration, a simple bound on the time complexity is $O(n \\cdot 2^n)$"
   ]
  },
  {
   "cell_type": "code",
   "execution_count": null,
   "metadata": {
    "code_folding": [
     0
    ],
    "hidden": true
   },
   "outputs": [],
   "source": [
    "def look_and_say_v2(n: int) -> str:\n",
    "\n",
    "    def next_number(s: str) -> str:\n",
    "        result, i = [], 0\n",
    "        while i < len(s):\n",
    "            count = 1\n",
    "            while i + 1 < len(s) and s[i] == s[i + 1]:\n",
    "                i += 1\n",
    "                count += 1\n",
    "            result.append(str(count) + s[i])\n",
    "            i += 1\n",
    "        \n",
    "        return ''.join(result)\n",
    "\n",
    "    s = '1'\n",
    "    for _ in range(1, n):\n",
    "        s = next_number(s)\n",
    "    return s"
   ]
  },
  {
   "cell_type": "code",
   "execution_count": null,
   "metadata": {
    "code_folding": [],
    "hidden": true
   },
   "outputs": [],
   "source": [
    "# Pythonic solution uses the power of itertools.groupby().\n",
    "def look_and_say_pythonic(n: int) -> str:\n",
    "    s = '1'\n",
    "    for _ in range(n - 1):\n",
    "        s = ''.join(str(len(list(group))) + key for key, group in groupby(s))\n",
    "    return s"
   ]
  },
  {
   "cell_type": "code",
   "execution_count": null,
   "metadata": {
    "code_folding": [
     0,
     2
    ],
    "hidden": true
   },
   "outputs": [],
   "source": [
    "def look_and_say(n: int) -> str:\n",
    "    \n",
    "    def get_cur_seq(seq):\n",
    "        if not seq: return ''\n",
    "        count, seq_parts = 0, []\n",
    "        \n",
    "        for idx, char in enumerate(seq):\n",
    "            if idx and char != seq[idx-1]:\n",
    "                seq_parts.append(str(count) + seq[idx-1])\n",
    "                count = 1\n",
    "            else: count += 1\n",
    "        \n",
    "        seq_parts.append(str(count) + seq[-1])\n",
    "                \n",
    "        return ''.join(seq_parts)\n",
    "    \n",
    "    if not n: return ''\n",
    "    if n == 1: return '1'\n",
    "    cur_seq = '1'\n",
    "    \n",
    "    for i in range(2, n+1):\n",
    "        cur_seq = get_cur_seq(cur_seq)\n",
    "    \n",
    "    return cur_seq\n",
    "        "
   ]
  },
  {
   "cell_type": "code",
   "execution_count": null,
   "metadata": {
    "hidden": true
   },
   "outputs": [],
   "source": [
    "def _test_look_and_say():\n",
    "    for i in range(1, 11):\n",
    "        n = randint(10, 50)\n",
    "        returned = look_and_say(n)\n",
    "        expected = look_and_say_pythonic(n)\n",
    "        # print(ret, look_and_say(i))\n",
    "        try:\n",
    "            # print(f\"Given {n}\", f\"Expected {expected}\", f\"Returned {returned}\", '='*60, sep='\\n')\n",
    "            assert returned == expected\n",
    "        except:\n",
    "            print(f\"Given {n}\", f\"Expected {expected}\", f\"Returned {returned}\", '='*60, sep='\\n')\n",
    "# ===============================================================        \n",
    "_test_look_and_say()"
   ]
  },
  {
   "cell_type": "code",
   "execution_count": null,
   "metadata": {
    "hidden": true
   },
   "outputs": [],
   "source": []
  },
  {
   "cell_type": "markdown",
   "metadata": {
    "heading_collapsed": true,
    "jp-MarkdownHeadingCollapsed": true,
    "tags": []
   },
   "source": [
    "##### [13.Roman to Integer](https://leetcode.com/problems/roman-to-integer/description/) - [EPI: 6.9] | [neetcode](https://www.youtube.com/watch?v=ohBNdSJyLh8) | [YT](https://www.youtube.com/watch?v=3jdxYj3DD98&t=4s) |"
   ]
  },
  {
   "cell_type": "markdown",
   "metadata": {
    "hidden": true
   },
   "source": [
    "- There is no zero in Roman numerals !"
   ]
  },
  {
   "cell_type": "markdown",
   "metadata": {},
   "source": [
    "Roman numerals are represented by seven different symbols: `I`, `V`, `X`, `L`, `C`, `D` and `M`.\n",
    "\n",
    "| Symbol| Value  |\n",
    "| :---: | :---:  |\n",
    "|   I   |   1    |\n",
    "|   V   |   5    |\n",
    "|   X   |   10   |\n",
    "|   L   |   50   |\n",
    "|   C   |   100  |\n",
    "|   D   |   500  |\n",
    "|   M   |   1000 |\n",
    "\n",
    "For example, `2` is written as `II` in Roman numeral, just two ones added together. `12` is written as `XII`, which is simply `X + II`. The number `27` is written as `XXVII`, which is `XX + V + II`.\n",
    "\n",
    "Roman numerals are usually written `largest` to `smallest` from `left` to `right`. However, the numeral for `4` is not `IIII`. Instead, the number four is written as `IV`. Because the one is before the five we subtract it making four. The same principle applies to the number `9`, which is written as `IX`. \n",
    "\n",
    "-   There are **six instances** where subtraction is used:\n",
    "\n",
    "    -   `I` can be placed before `V` (5) and `X` (`10`) to make `4` and `9`. \n",
    "    -   `X` can be placed before `L` (50) and `C` (`100`) to make `40` and `90`. \n",
    "    -   `C` can be placed before `D` (500) and `M` (`1000`) to make `400` and `900`.\n",
    "\n",
    "Given a roman numeral, convert it to an integer.\n",
    "\n",
    "-   `Example 1`:\n",
    "\n",
    "    -   `Input`: s = \"III\"\n",
    "    -   `Output`: 3\n",
    "    -   `Explanation`: III = 3.\n",
    "\n",
    "-   `Example 2`:\n",
    "\n",
    "    -   `Input`: s = \"LVIII\"\n",
    "    -   `Output`: 58\n",
    "    -   `Explanation`: L = 50, V= 5, III = 3.\n",
    "\n",
    "-   `Example 3`:\n",
    "\n",
    "    -   `Input`: s = \"MCMXCIV\"\n",
    "    -   `Output`: 1994\n",
    "    -   `Explanation`: M = 1000, CM = 900, XC = 90 and IV = 4.\n",
    " \n",
    "\n",
    "-   `Constraints`:\n",
    "\n",
    "    -   $1 <= s.length <= 15$\n",
    "    -   s contains only the characters ('I', 'V', 'X', 'L', 'C', 'D', 'M').\n",
    "    -   It is guaranteed that `s` is a valid roman numeral in the range [1, 3999]."
   ]
  },
  {
   "cell_type": "code",
   "execution_count": 2,
   "metadata": {
    "hidden": true
   },
   "outputs": [],
   "source": [
    "def roman_to_integer(s: str) -> int:\n",
    "\n",
    "    T = {'I': 1, 'V': 5, 'X': 10, 'L': 50, 'C': 100, 'D': 500, 'M': 1000}\n",
    "    f = lambda val, i: val + (-T[s[i]] if T[s[i]] < T[s[i + 1]] else T[s[i]])\n",
    "\n",
    "    return reduce(f, reversed(range(len(s) - 1)), T[s[-1]])"
   ]
  },
  {
   "cell_type": "code",
   "execution_count": 3,
   "metadata": {
    "hidden": true
   },
   "outputs": [],
   "source": [
    "def roman_to_integer_v2(s: str) -> int:\n",
    "    T = {'I': 1, 'V': 5, 'X': 10, 'L': 50, 'C': 100, 'D': 500, 'M': 1000}\n",
    "    result = T[s[-1]]\n",
    "    for i in reversed(range(len(s)-1)):\n",
    "        if T[s[i]] < T[s[i+1]]:\n",
    "            result -= T[s[i]]\n",
    "        else: result += T[s[i]]\n",
    "    return result\n"
   ]
  },
  {
   "cell_type": "code",
   "execution_count": 4,
   "metadata": {
    "hidden": true
   },
   "outputs": [
    {
     "ename": "NameError",
     "evalue": "name 'reduce' is not defined",
     "output_type": "error",
     "traceback": [
      "\u001b[0;31m---------------------------------------------------------------------------\u001b[0m",
      "\u001b[0;31mNameError\u001b[0m                                 Traceback (most recent call last)",
      "Cell \u001b[0;32mIn[4], line 8\u001b[0m\n\u001b[1;32m      5\u001b[0m         \u001b[38;5;28;01massert\u001b[39;00m res \u001b[38;5;241m==\u001b[39m roman_to_integer_v2(test_case)\n\u001b[1;32m      6\u001b[0m         \u001b[38;5;66;03m# print(test_case, \":\", res, \"\\n\")\u001b[39;00m\n\u001b[0;32m----> 8\u001b[0m \u001b[43m_test_roman_to_integer\u001b[49m\u001b[43m(\u001b[49m\u001b[43m)\u001b[49m\n",
      "Cell \u001b[0;32mIn[4], line 4\u001b[0m, in \u001b[0;36m_test_roman_to_integer\u001b[0;34m()\u001b[0m\n\u001b[1;32m      2\u001b[0m test_cases \u001b[38;5;241m=\u001b[39m [\u001b[38;5;124m\"\u001b[39m\u001b[38;5;124mI\u001b[39m\u001b[38;5;124m\"\u001b[39m, \u001b[38;5;124m\"\u001b[39m\u001b[38;5;124mII\u001b[39m\u001b[38;5;124m\"\u001b[39m, \u001b[38;5;124m\"\u001b[39m\u001b[38;5;124mIV\u001b[39m\u001b[38;5;124m\"\u001b[39m, \u001b[38;5;124m\"\u001b[39m\u001b[38;5;124mVI\u001b[39m\u001b[38;5;124m\"\u001b[39m, \u001b[38;5;124m\"\u001b[39m\u001b[38;5;124mVIV\u001b[39m\u001b[38;5;124m\"\u001b[39m, \u001b[38;5;124m\"\u001b[39m\u001b[38;5;124mXXXXXX\u001b[39m\u001b[38;5;124m\"\u001b[39m, \u001b[38;5;124m\"\u001b[39m\u001b[38;5;124mXL\u001b[39m\u001b[38;5;124m\"\u001b[39m, \u001b[38;5;124m\"\u001b[39m\u001b[38;5;124mLX\u001b[39m\u001b[38;5;124m\"\u001b[39m]\n\u001b[1;32m      3\u001b[0m \u001b[38;5;28;01mfor\u001b[39;00m test_case \u001b[38;5;129;01min\u001b[39;00m test_cases:\n\u001b[0;32m----> 4\u001b[0m     res \u001b[38;5;241m=\u001b[39m \u001b[43mroman_to_integer\u001b[49m\u001b[43m(\u001b[49m\u001b[43mtest_case\u001b[49m\u001b[43m)\u001b[49m\n\u001b[1;32m      5\u001b[0m     \u001b[38;5;28;01massert\u001b[39;00m res \u001b[38;5;241m==\u001b[39m roman_to_integer_v2(test_case)\n",
      "Cell \u001b[0;32mIn[2], line 6\u001b[0m, in \u001b[0;36mroman_to_integer\u001b[0;34m(s)\u001b[0m\n\u001b[1;32m      3\u001b[0m T \u001b[38;5;241m=\u001b[39m {\u001b[38;5;124m'\u001b[39m\u001b[38;5;124mI\u001b[39m\u001b[38;5;124m'\u001b[39m: \u001b[38;5;241m1\u001b[39m, \u001b[38;5;124m'\u001b[39m\u001b[38;5;124mV\u001b[39m\u001b[38;5;124m'\u001b[39m: \u001b[38;5;241m5\u001b[39m, \u001b[38;5;124m'\u001b[39m\u001b[38;5;124mX\u001b[39m\u001b[38;5;124m'\u001b[39m: \u001b[38;5;241m10\u001b[39m, \u001b[38;5;124m'\u001b[39m\u001b[38;5;124mL\u001b[39m\u001b[38;5;124m'\u001b[39m: \u001b[38;5;241m50\u001b[39m, \u001b[38;5;124m'\u001b[39m\u001b[38;5;124mC\u001b[39m\u001b[38;5;124m'\u001b[39m: \u001b[38;5;241m100\u001b[39m, \u001b[38;5;124m'\u001b[39m\u001b[38;5;124mD\u001b[39m\u001b[38;5;124m'\u001b[39m: \u001b[38;5;241m500\u001b[39m, \u001b[38;5;124m'\u001b[39m\u001b[38;5;124mM\u001b[39m\u001b[38;5;124m'\u001b[39m: \u001b[38;5;241m1000\u001b[39m}\n\u001b[1;32m      4\u001b[0m f \u001b[38;5;241m=\u001b[39m \u001b[38;5;28;01mlambda\u001b[39;00m val, i: val \u001b[38;5;241m+\u001b[39m (\u001b[38;5;241m-\u001b[39mT[s[i]] \u001b[38;5;28;01mif\u001b[39;00m T[s[i]] \u001b[38;5;241m<\u001b[39m T[s[i \u001b[38;5;241m+\u001b[39m \u001b[38;5;241m1\u001b[39m]] \u001b[38;5;28;01melse\u001b[39;00m T[s[i]])\n\u001b[0;32m----> 6\u001b[0m \u001b[38;5;28;01mreturn\u001b[39;00m \u001b[43mreduce\u001b[49m(f, \u001b[38;5;28mreversed\u001b[39m(\u001b[38;5;28mrange\u001b[39m(\u001b[38;5;28mlen\u001b[39m(s) \u001b[38;5;241m-\u001b[39m \u001b[38;5;241m1\u001b[39m)), T[s[\u001b[38;5;241m-\u001b[39m\u001b[38;5;241m1\u001b[39m]])\n",
      "\u001b[0;31mNameError\u001b[0m: name 'reduce' is not defined"
     ]
    }
   ],
   "source": [
    "def _test_roman_to_integer():\n",
    "    test_cases = [\"I\", \"II\", \"IV\", \"VI\", \"VIV\", \"XXXXXX\", \"XL\", \"LX\"]\n",
    "    for test_case in test_cases:\n",
    "        res = roman_to_integer(test_case)\n",
    "        assert res == roman_to_integer_v2(test_case)\n",
    "        # print(test_case, \":\", res, \"\\n\")\n",
    "        \n",
    "_test_roman_to_integer()"
   ]
  },
  {
   "cell_type": "markdown",
   "metadata": {},
   "source": [
    "##### [12. Integer to Roman](https://leetcode.com/problems/integer-to-roman/description/) | [neetcode](https://www.youtube.com/watch?v=ohBNdSJyLh8)"
   ]
  },
  {
   "cell_type": "markdown",
   "metadata": {},
   "source": [
    "Roman numerals are represented by seven different symbols: `I`, `V`, `X`, `L`, `C`, `D` and `M`.\n",
    "\n",
    "| Symbol| Value  |\n",
    "| :---: | :---:  |\n",
    "|   I   |   1    |\n",
    "|   V   |   5    |\n",
    "|   X   |   10   |\n",
    "|   L   |   50   |\n",
    "|   C   |   100  |\n",
    "|   D   |   500  |\n",
    "|   M   |   1000 |\n",
    "\n",
    "Roman numerals are formed by appending the conversions of decimal place values from highest to lowest. Converting a decimal place value into a Roman numeral has the following rules:\n",
    "\n",
    "If the value does not start with 4 or 9, select the symbol of the maximal value that can be subtracted from the input, append that symbol to the result, subtract its value, and convert the remainder to a Roman numeral.\n",
    "If the value starts with 4 or 9 use the subtractive form representing one symbol subtracted from the following symbol, for example, 4 is 1 (I) less than 5 (V): IV and 9 is 1 (I) less than 10 (X): IX. Only the following subtractive forms are used: 4 (IV), 9 (IX), 40 (XL), 90 (XC), 400 (CD) and 900 (CM).\n",
    "Only powers of 10 (I, X, C, M) can be appended consecutively at most 3 times to represent multiples of 10. You cannot append 5 (V), 50 (L), or 500 (D) multiple times. If you need to append a symbol 4 times use the subtractive form.\n",
    "Given an integer, convert it to a Roman numeral.\n",
    "\n",
    " \n",
    "\n",
    "\n",
    "-   `Example 1`:\n",
    "\n",
    "    -   `Input`: num = 3749\n",
    "    -   `Output`: \"MMMDCCXLIX\"\n",
    "    -   `Explanation`:\n",
    "\n",
    "        -   3000 = MMM as 1000 (M) + 1000 (M) + 1000 (M)\n",
    "        -    700 = DCC as 500 (D) + 100 (C) + 100 (C)\n",
    "        -     40 = XL as 10 (X) less of 50 (L)\n",
    "        -      9 = IX as 1 (I) less of 10 (X)\n",
    "        -   Note: 49 is not 1 (I) less of 50 (L) because the conversion is based on decimal places\n",
    "\n",
    "-   `Example 2`:\n",
    "\n",
    "    -   `Input`: num = 58\n",
    "    -   `Output`: \"LVIII\"\n",
    "    -   `Explanation`:\n",
    "\n",
    "        -   50 = L\n",
    "        -    8 = VIII\n",
    "\n",
    "-   `Example 3`:\n",
    "\n",
    "    -   `Input`: num = 1994\n",
    "    -   `Output`: \"MCMXCIV\"\n",
    "    -   `Explanation`:\n",
    "\n",
    "        -   1000 = M\n",
    "        -    900 = CM\n",
    "        -     90 = XC\n",
    "        -      4 = IV\n",
    " \n",
    "\n",
    "-   `Constraints`:\n",
    "\n",
    "    -   $1 <= num <= 3999$"
   ]
  },
  {
   "cell_type": "markdown",
   "metadata": {
    "heading_collapsed": true,
    "jp-MarkdownHeadingCollapsed": true,
    "tags": []
   },
   "source": [
    "##### [Compute all valid IP addresses](https://leetcode.com/problems/restore-ip-addresses/) - [EPI: 6.10] | [neetcode](https://www.youtube.com/watch?v=61tN4YEdiTM)"
   ]
  },
  {
   "cell_type": "markdown",
   "metadata": {
    "hidden": true
   },
   "source": [
    "A decimal string is a  string consisting of digits between 0 and 9. Internet Protocol (IP) addresses can be weitten as four decimal strings separated by periods, e.g., 192.168.1.201. A careless programmer mangles a string representing an IP address in such a way that all the periods vanish.\n",
    "\n",
    "Write a program that determines where to add periods to a decimal string so that the resulting string is a valid IP address. There may be more than one valid IP address corresponding to a string, in which case you should print all possibilities."
   ]
  },
  {
   "cell_type": "code",
   "execution_count": null,
   "metadata": {
    "code_folding": [],
    "hidden": true
   },
   "outputs": [],
   "source": [
    "def get_valid_ip_address(s: str) -> Container:\n",
    "    \n",
    "    def is_valid_part(s: str) -> bool: return len(s) == 1 or (s[0] != '0' and int(s) <= 255)\n",
    "\n",
    "    result, parts = [], [None] * 4\n",
    "    \n",
    "    for i in range(1, min(4, len(s))):\n",
    "        parts[0] = s[:i]\n",
    "        \n",
    "        if is_valid_part(parts[0]):\n",
    "            for j in range(1, min(4, len(s)-i)):\n",
    "                parts[1] = s[i : i+j]\n",
    "                \n",
    "                if is_valid_part(parts[1]):\n",
    "                    for k in range(1, min(4, len(s)-i-j)):\n",
    "                        parts[2], parts[3] = s[i+j : i+j+k], s[i+j+k :]\n",
    "                        \n",
    "                        if is_valid_part(parts[2]) and is_valid_part(parts[3]):\n",
    "                            result.append('.'.join(parts))\n",
    "    return result"
   ]
  },
  {
   "cell_type": "code",
   "execution_count": null,
   "metadata": {
    "hidden": true
   },
   "outputs": [],
   "source": [
    "get_valid_ip_address('0123')"
   ]
  },
  {
   "cell_type": "code",
   "execution_count": null,
   "metadata": {
    "code_folding": [],
    "hidden": true
   },
   "outputs": [],
   "source": [
    "def get_valid_ip_address_v2(s: str):\n",
    "    def is_valid(s: str) -> bool: \n",
    "        return len(s) == 1 or (s[0] != '0' and int(s) <= 255)\n",
    "    \n",
    "    ips = []\n",
    "    for i in range(1, 4):\n",
    "        if is_valid(s[:i]):\n",
    "            for j in range(1, min(4, len(s)-i)):\n",
    "                if is_valid(s[i:i+j]):\n",
    "                    for k in range(1, min(4, len(s)-i-j)):\n",
    "                        if is_valid(s[i+j:i+j+k]) and is_valid(s[i+j+k:]):\n",
    "                            ips.append(f\"{s[:i]}.{s[i:i+j]}.{s[i+j:i+j+k]}.{s[i+j+k:]}\")\n",
    "\n",
    "    return ips"
   ]
  },
  {
   "cell_type": "code",
   "execution_count": null,
   "metadata": {
    "code_folding": [
     0
    ],
    "hidden": true
   },
   "outputs": [],
   "source": [
    "test_cases_with_expectations = [\n",
    "    \n",
    "    # Test Case 1: Basic Valid Input\n",
    "    [\"25525511135\", [\"255.255.11.135\", \"255.255.111.35\"]],\n",
    "    \n",
    "    # Test Case 2: Minimum Input\n",
    "    [\"0\", []],\n",
    "    \n",
    "    # Test Case 3: Maximum Input\n",
    "    [\"999999999999\", []],\n",
    "    \n",
    "    # Test Case 4: Single Digit with Zeros\n",
    "    [\"010203\", ['0.1.0.203', '0.10.20.3', '0.102.0.3']],\n",
    "    \n",
    "    # Test Case 5: Invalid Input\n",
    "    [\"256257258\", []],\n",
    "    \n",
    "    # Test Case 6: Leading Zeros\n",
    "    [\"0123\", ['0.1.2.3']],\n",
    "    \n",
    "    # Test Case 7: Random Input\n",
    "    [\"192168001001\", []],\n",
    "]"
   ]
  },
  {
   "cell_type": "code",
   "execution_count": null,
   "metadata": {
    "hidden": true
   },
   "outputs": [],
   "source": [
    "def _test_form_ip_addresses():\n",
    "    for test_case, expectation in test_cases_with_expectations:\n",
    "        returned = get_valid_ip_address(test_case)\n",
    "        try:\n",
    "            given_returned_expected(test_case, returned, expectation)\n",
    "            assert returned == expectation\n",
    "        except:\n",
    "            given_returned_expected(test_case, returned, expectation)\n",
    "# =================================================================\n",
    "_test_form_ip_addresses()"
   ]
  },
  {
   "cell_type": "markdown",
   "metadata": {
    "hidden": true
   },
   "source": [
    "**Time Complexity**: The total number of IP address is a constant $2^{32}$, implying an $O(1)$ time complexity."
   ]
  },
  {
   "cell_type": "markdown",
   "metadata": {
    "hidden": true
   },
   "source": [
    "- NeetCode Solution (Backtracking)"
   ]
  },
  {
   "cell_type": "code",
   "execution_count": null,
   "metadata": {
    "code_folding": [],
    "hidden": true
   },
   "outputs": [],
   "source": [
    "def form_ip_addresses(s: str):\n",
    "    \n",
    "    def _form_id_addresses(i, dots, partial_ip):\n",
    "        if dots == 4 and i == len(s): res.append(partial_ip[:-1])\n",
    "        if dots > 4: return None\n",
    "        \n",
    "        for j in range(i, min(i+3, len(s))):\n",
    "            if int(s[i:j+1]) <= 255 and (i == j or s[i] != '0'):\n",
    "                _form_id_addresses(j+1, dots+1, partial_ip + s[i:j+1] + '.')\n",
    "    \n",
    "    if len(s) > 12: return None\n",
    "    res = []\n",
    "    return _form_id_addresses(0, 0, \"\")"
   ]
  },
  {
   "cell_type": "code",
   "execution_count": null,
   "metadata": {
    "code_folding": [
     0
    ],
    "hidden": true
   },
   "outputs": [],
   "source": [
    "def restore_ip_addresses(s):\n",
    "    \n",
    "    def backtrack(s, segments, curr_address):\n",
    "        \n",
    "        # Base case: If all segments are found and the string is exhausted, add the address to the result\n",
    "        if segments == 4 and not s:\n",
    "            result.append(curr_address[:-1])  # Remove the trailing period\n",
    "        \n",
    "        # Base case: If all segments are found but the string is not exhausted, backtrack\n",
    "        elif segments == 4 or not s:\n",
    "            return\n",
    "\n",
    "        # Try different segment lengths (1, 2, 3) and backtrack recursively\n",
    "        for i in range(1, 4):\n",
    "            if i <= len(s):\n",
    "                segment = s[:i]\n",
    "                # Ignore segments starting with 0, except for single-digit segments\n",
    "                if (segment[0] == '0' and len(segment) > 1) or int(segment) > 255: continue\n",
    "                backtrack(s[i:], segments + 1, curr_address + segment + '.')\n",
    "\n",
    "    result = []\n",
    "    backtrack(s, 0, '')\n",
    "    return result"
   ]
  },
  {
   "cell_type": "code",
   "execution_count": null,
   "metadata": {
    "code_folding": [],
    "hidden": true
   },
   "outputs": [],
   "source": [
    "def _test_form_ip_addresses():\n",
    "    s = \"0\"\n",
    "    returned1 = restore_ip_addresses(s)\n",
    "    returned2 = get_valid_ip_address(s)\n",
    "    assert len(returned1) == len(returned2)\n",
    "    \n",
    "    for ip_address1, ip_address2 in zip(returned1, returned2):\n",
    "        print(ip_address1)\n",
    "        assert ip_address1 == ip_address2\n",
    "# =================================================================\n",
    "_test_form_ip_addresses()"
   ]
  },
  {
   "cell_type": "markdown",
   "metadata": {
    "hidden": true
   },
   "source": [
    "***ChatGPT**:"
   ]
  },
  {
   "cell_type": "code",
   "execution_count": null,
   "metadata": {
    "code_folding": [],
    "hidden": true
   },
   "outputs": [],
   "source": [
    "def restore_ip_addresses(s):\n",
    "    def is_valid_part(part):\n",
    "        return 0 <= int(part) <= 255 and (len(part) == 1 or part[0] != '0')\n",
    "\n",
    "    def backtrack(start, path):\n",
    "        if start == len(s) and len(path) == 4:\n",
    "            valid_ip = \".\".join(path)\n",
    "            valid_ips.append(valid_ip)\n",
    "            return\n",
    "        \n",
    "        if len(path) >= 4:\n",
    "            return\n",
    "        \n",
    "        for end in range(start + 1, min(start + 4, len(s) + 1)):\n",
    "            part = s[start:end]\n",
    "            if is_valid_part(part):\n",
    "                path.append(part)\n",
    "                backtrack(end, path)\n",
    "                path.pop()\n",
    "\n",
    "    valid_ips = []\n",
    "    backtrack(0, [])\n",
    "    \n",
    "    return valid_ips"
   ]
  },
  {
   "cell_type": "code",
   "execution_count": null,
   "metadata": {
    "code_folding": [],
    "hidden": true
   },
   "outputs": [],
   "source": [
    "# Test the function with an example input\n",
    "decimal_string = \"19216811201\"\n",
    "valid_ips = restore_ip_addresses(decimal_string)\n",
    "for ip in valid_ips:\n",
    "    print(ip)"
   ]
  },
  {
   "cell_type": "markdown",
   "metadata": {
    "heading_collapsed": true,
    "jp-MarkdownHeadingCollapsed": true,
    "tags": []
   },
   "source": [
    "##### Write a string sinusoidally. - [EPI: 6.11]"
   ]
  },
  {
   "cell_type": "code",
   "execution_count": null,
   "metadata": {
    "hidden": true
   },
   "outputs": [],
   "source": [
    "def snake_string(s: str) -> str:\n",
    "\n",
    "    result = []\n",
    "    \n",
    "    # Outputs the first row, i.e., s[1], s[5], s[9], ...\n",
    "    for i in range(1, len(s), 4): result.append(s[i])\n",
    "    \n",
    "    # Outputs the second row, i.e., s[0], s[2], s[4], ...\n",
    "    for i in range(0, len(s), 2): result.append(s[i])\n",
    "    \n",
    "    # Outputs the third row, i.e., s[3], s[7], s[11], ...\n",
    "    for i in range(3, len(s), 4): result.append(s[i])\n",
    "    \n",
    "    return ''.join(result)"
   ]
  },
  {
   "cell_type": "code",
   "execution_count": null,
   "metadata": {
    "hidden": true
   },
   "outputs": [],
   "source": [
    "# Python solution uses slicing with right steps.\n",
    "def snake_string_pythonic(s: str) -> str:\n",
    "    return s[1::4] + s[::2] + s[3::4]"
   ]
  },
  {
   "cell_type": "code",
   "execution_count": null,
   "metadata": {
    "hidden": true
   },
   "outputs": [],
   "source": [
    "s = string.digits\n",
    "snake_string(s)"
   ]
  },
  {
   "cell_type": "markdown",
   "metadata": {
    "hidden": true
   },
   "source": [
    "- ChatGPT"
   ]
  },
  {
   "cell_type": "code",
   "execution_count": null,
   "metadata": {
    "hidden": true
   },
   "outputs": [],
   "source": [
    "def print_sinusoidally(input_string):\n",
    "    # Initialize the number of rows and the direction of the wave\n",
    "    num_rows = 3  # You can adjust the number of rows as needed\n",
    "    direction = 1  # 1 for down, -1 for up\n",
    "    rows = [\"\"] * num_rows  # Create empty rows for each line of text\n",
    "\n",
    "    # Loop through each character in the input string\n",
    "    for char in input_string:\n",
    "        # Add the character to the appropriate row\n",
    "        rows[num_rows // 2] += char  # Center row always gets the character\n",
    "\n",
    "        # Change direction if necessary\n",
    "        if num_rows > 1:\n",
    "            num_rows -= 1\n",
    "        else:\n",
    "            direction = -direction\n",
    "            num_rows = 2\n",
    "\n",
    "    # Print each row\n",
    "    for row in rows:\n",
    "        print(row)"
   ]
  },
  {
   "cell_type": "code",
   "execution_count": null,
   "metadata": {
    "hidden": true
   },
   "outputs": [],
   "source": [
    "# Example usage:\n",
    "input_string = \"SINUSOIDALLY\"\n",
    "print_sinusoidally(input_string)"
   ]
  },
  {
   "cell_type": "markdown",
   "metadata": {
    "heading_collapsed": true,
    "jp-MarkdownHeadingCollapsed": true,
    "tags": []
   },
   "source": [
    "##### Implement run-length encoding. - [EPI: 6.12, CtCI: 1.5]"
   ]
  },
  {
   "cell_type": "markdown",
   "metadata": {
    "hidden": true
   },
   "source": [
    "- [Run-length encoding (lossless data compression) - Inside code](https://www.youtube.com/watch?v=ix8fnWK7LH8&list=PL3edoBgC7ScV9WPytQ2dtso21YrTuUSBd&index=5)"
   ]
  },
  {
   "cell_type": "markdown",
   "metadata": {
    "hidden": true
   },
   "source": [
    "Run-length encoding (RLE) is a data compression technique used to represent consecutive repeated characters or elements in a string or sequence as a count followed by the character or element itself.\n",
    "\n",
    "The RLE algorithm works as follows:\n",
    "\n",
    "- Start at the beginning of the input string or sequence.\n",
    "- Initialize a count to 1 and a result string or list to store the encoded output.\n",
    "- Move to the next character or element in the input.\n",
    "- If it is the same as the previous one, increment the count.\n",
    "- If it is different, append the count and the previous character or element to the result string or list. Reset the count to 1.\n",
    "- Repeat steps 3-5 until all characters or elements have been processed.\n",
    "- Return the encoded result string or list.\n",
    "\n",
    "For example, let's consider the string \"AAABBBCCC\" as an input. The run-length encoding of this string would be \"3A3B3C\". It represents three consecutive 'A's, followed by three consecutive 'B's, and then three consecutive 'C's."
   ]
  },
  {
   "cell_type": "markdown",
   "metadata": {
    "hidden": true
   },
   "source": [
    "- Encoding Algorithm"
   ]
  },
  {
   "cell_type": "code",
   "execution_count": null,
   "metadata": {
    "code_folding": [],
    "hidden": true
   },
   "outputs": [],
   "source": [
    "def encoding(s):\n",
    "    if not s: return \"\"\n",
    "    res, count = [], 1\n",
    "    \n",
    "    for i, char in enumerate(s[1:], 1):\n",
    "        if char == s[i-1]: count +=1\n",
    "        else:\n",
    "            res.append(str(count) + s[i-1])\n",
    "            count = 1\n",
    "    \n",
    "    res.append(str(count) + s[-1])\n",
    "    \n",
    "    return ''.join(res)"
   ]
  },
  {
   "cell_type": "code",
   "execution_count": null,
   "metadata": {
    "code_folding": [],
    "hidden": true
   },
   "outputs": [],
   "source": [
    "def encoding_v2(s: str) -> str:\n",
    "    if not s: return \"\"\n",
    "    res = []\n",
    "    cur_len = 0\n",
    "    \n",
    "    for i, char in enumerate(s):\n",
    "        cur_len += 1\n",
    "        if i < len(s)-1 and char != s[i+1]:\n",
    "            res.append(str(cur_len)+char)\n",
    "            cur_len = 0\n",
    "    res.append(str(cur_len)+s[-1])\n",
    "    \n",
    "    return \"\".join(res)"
   ]
  },
  {
   "cell_type": "code",
   "execution_count": null,
   "metadata": {
    "code_folding": [
     0
    ],
    "hidden": true
   },
   "outputs": [],
   "source": [
    "def encoding_v3(s: str) -> str:\n",
    "    if not s: return \"\"\n",
    "    cur_len = 1\n",
    "    res = []\n",
    "\n",
    "    for i, char in enumerate(s):\n",
    "        if i > 0 and char == s[i-1]: cur_len += 1\n",
    "        if i > 0 and char != s[i-1]:\n",
    "            res.append(str(cur_len)+s[i-1])\n",
    "            cur_len = 1\n",
    "    res.append(str(cur_len)+s[-1])\n",
    "    \n",
    "    return \"\".join(res)"
   ]
  },
  {
   "cell_type": "code",
   "execution_count": null,
   "metadata": {
    "code_folding": [],
    "hidden": true
   },
   "outputs": [],
   "source": [
    "def encoding_v4(s: str) -> str:\n",
    "\n",
    "    result, count = [], 1\n",
    "    for i in range(1, len(s) + 1):\n",
    "        if i == len(s) or s[i] != s[i-1]:\n",
    "            # Found new character so write the count of previous character.\n",
    "            result.append(str(count) + s[i-1])\n",
    "            count = 1\n",
    "        else:  # s[i] == s[i-1].\n",
    "            count += 1\n",
    "\n",
    "    return ''.join(result)"
   ]
  },
  {
   "cell_type": "code",
   "execution_count": null,
   "metadata": {
    "hidden": true
   },
   "outputs": [],
   "source": [
    "def encoding_pythonic(s):\n",
    "    return ''.join([str(len(list(group))) + key for key, group in groupby(s)])"
   ]
  },
  {
   "cell_type": "code",
   "execution_count": null,
   "metadata": {
    "code_folding": [],
    "hidden": true
   },
   "outputs": [],
   "source": [
    "def _test_encoding():\n",
    "    L = [[\"\", \"\"], [\"A\", \"1A\"], [\"AABCC\", \"2A1B2C\"], [\"ABC\", \"1A1B1C\"]]\n",
    "    for test_case, expected in L:\n",
    "        for f in [encoding, encoding_v2, encoding_v3, encoding_v4, encoding_pythonic]:\n",
    "            returned = f(test_case)\n",
    "            returned2 = encoding_v2(test_case)\n",
    "            # expected = encoding_pythonic(test_case)\n",
    "            # print(returned2)\n",
    "            assert returned == returned2 == expected == encoding_v3(test_case)\n",
    "# ==========================================================================\n",
    "_test_encoding()"
   ]
  },
  {
   "cell_type": "markdown",
   "metadata": {
    "hidden": true
   },
   "source": [
    "- Decoding Algorithm"
   ]
  },
  {
   "cell_type": "code",
   "execution_count": null,
   "metadata": {
    "code_folding": [
     0
    ],
    "hidden": true
   },
   "outputs": [],
   "source": [
    "def decoding(s: str) -> str:\n",
    "\n",
    "    count, result = 0, []\n",
    "    for c in s:\n",
    "        if c.isdigit():\n",
    "            count = count * 10 + int(c)\n",
    "        else:  # c is a letter of alphabet.\n",
    "            result.append(c * count)  # Appends count copies of c to result.\n",
    "            count = 0\n",
    "\n",
    "    return ''.join(result)"
   ]
  },
  {
   "cell_type": "code",
   "execution_count": null,
   "metadata": {
    "code_folding": [
     0,
     13,
     24
    ],
    "hidden": true
   },
   "outputs": [],
   "source": [
    "def rle_encode(data):\n",
    "    if data == \"\": return \"\"\n",
    "    encoded = []\n",
    "    length = 1\n",
    "    for i in range(1, len(data)):\n",
    "        if data[i] == data[i-1]:\n",
    "            length += 1\n",
    "        else:\n",
    "            encoded.extend([str(length), str(data[i-1])])\n",
    "            length = 1\n",
    "    encoded.extend([str(length), str(data[-1])])\n",
    "    return \"\".join(encoded)\n",
    "\n",
    "def rle_decode(data):\n",
    "    if data == \"\": return \"\"\n",
    "    decoded = []\n",
    "    length = 0\n",
    "    for ch in data:\n",
    "        if ch.isnumeric(): length = 10*length + int(ch)\n",
    "        else:\n",
    "            decoded.append(length * ch)\n",
    "            length = 0\n",
    "    return \"\".join(decoded)\n",
    "\n",
    "def look_and_say(n):\n",
    "    term = \"1\"\n",
    "    for i in range(1, n):\n",
    "        term = rle_encode(term)\n",
    "    return term"
   ]
  },
  {
   "cell_type": "code",
   "execution_count": null,
   "metadata": {
    "code_folding": [
     0
    ],
    "hidden": true
   },
   "outputs": [],
   "source": [
    "def decode_str(s):\n",
    "    res = []\n",
    "    for i, char in enumerate(s[:-1]):\n",
    "        if char.isalpha():\n",
    "            if s[i+1].isnumeric():\n",
    "                res.append(char+''.join([char]*int(s[i+1])))\n",
    "            else: res.append(char)\n",
    "    return ''.join(res)"
   ]
  },
  {
   "cell_type": "code",
   "execution_count": null,
   "metadata": {
    "hidden": true
   },
   "outputs": [],
   "source": [
    "print(decode_str('a2b3c1'))"
   ]
  },
  {
   "cell_type": "markdown",
   "metadata": {
    "heading_collapsed": true,
    "jp-MarkdownHeadingCollapsed": true,
    "tags": []
   },
   "source": [
    "##### Find the first occurrence of a substring. - [EPI: 6.13]"
   ]
  },
  {
   "cell_type": "markdown",
   "metadata": {
    "hidden": true
   },
   "source": [
    "Given two strings `s` and `t`, find the first occurence of `s` in `t`.\n",
    "\n",
    "Example:\n",
    " 1. rabin_karp(t: str, s: str)"
   ]
  },
  {
   "cell_type": "code",
   "execution_count": null,
   "metadata": {
    "code_folding": [],
    "hidden": true
   },
   "outputs": [],
   "source": [
    "def rabin_karp(t: str, s: str) -> int:\n",
    "    \"\"\"\n",
    "    Returns: \n",
    "        the index in the given text 't' where first occurance of the string 's' takes place.\"\"\"\n",
    "    \n",
    "    if len(s) > len(t): return -1  # s is not a substring of t.\n",
    "\n",
    "    BASE = 26\n",
    "    # Hash codes for 's' and the substrings of t'.\n",
    "    s_hash = reduce(lambda h, c: h * BASE + ord(c), s, 0)\n",
    "    t_hash = reduce(lambda h, c: h * BASE + ord(c), t[:len(s)], 0)\n",
    "    power_s = BASE**max(len(s) - 1, 0)  # BASE^|s-1|.\n",
    "\n",
    "    for i in range(len(s), len(t)):\n",
    "        # Checks the two substrings are actually equal or not, to protect\n",
    "        # against hash collision.\n",
    "        if t_hash == s_hash and t[i-len(s) : i] == s:\n",
    "            return i - len(s)  # Found a match.\n",
    "\n",
    "        # Uses rolling hash to compute the hash code.\n",
    "        t_hash -= ord(t[i - len(s)]) * power_s\n",
    "        t_hash = t_hash * BASE + ord(t[i])\n",
    "\n",
    "    # Tries to match s and t[-len(s):].\n",
    "    if t_hash == s_hash and t[-len(s) : ] == s:\n",
    "        return len(t) - len(s)\n",
    "    return -1  # s is not a substring of t.\n"
   ]
  },
  {
   "cell_type": "code",
   "execution_count": null,
   "metadata": {},
   "outputs": [],
   "source": [
    "# NOT TESTED\n",
    "def rabin_karp_v2(t: str, s: str):\n",
    "    BASE = 26\n",
    "    s_hash = reduce(lambda x, y: x*BASE + ord(y), s, 0)\n",
    "    t_hash = reduce(lambda x, y: x*BASE + ord(y), t[: len(s)], 0)\n",
    "    POWER_FACTOR = BASE**(max(len(s)-1, 0))\n",
    "\n",
    "    if s_hash == t_hash and s == t[:len(s)]: return 0\n",
    "\n",
    "    for i, char in enumerate(t[len(s):], len(s)):\n",
    "        t_char = t[i-len(s)]\n",
    "        t_hash -= ord(t[i-len(s)])*POWER_FACTOR\n",
    "        t_hash += t_hash*BASE + ord(char)\n",
    "        \n",
    "        if s_hash == t_hash and s == t[i-len(s) + 1: i+1]: return i-len(s) + 1\n",
    "    \n",
    "    return -1\n",
    "\n",
    "\n",
    "def _test_rabin_karp():\n",
    "    t = 'she sells sea shells by the sea shore'\n",
    "    s = 'sell'\n",
    "    try:\n",
    "        # returned1 = rabin_karp(t,s)\n",
    "        returned2 = rabin_karp_v2(t,s)\n",
    "        expected = t.find(s)\n",
    "        print(returned2, expected)\n",
    "        # assert returned1 == expected\n",
    "        print(t[returned2:returned2+len(s)])\n",
    "        assert returned2 == expected\n",
    "        # print(t[returned1:returned1+len(s)])\n",
    "    except:\n",
    "        print(returned2, expected)\n",
    "#================================================\n",
    "\n",
    "_test_rabin_karp()\n"
   ]
  },
  {
   "cell_type": "code",
   "execution_count": null,
   "metadata": {
    "hidden": true
   },
   "outputs": [],
   "source": [
    "def _test_rabin_karp():\n",
    "    t = 'she sells sea shells by the sea shore'\n",
    "    s = 'sell'\n",
    "    try:\n",
    "        # returned1 = rabin_karp(t,s)\n",
    "        returned2 = rabin_karp_v2(t,s)\n",
    "        expected = t.find(s)\n",
    "        print(returned2, expected)\n",
    "        # assert returned1 == expected\n",
    "        print(t[returned2:returned2+len(s)])\n",
    "        assert returned2 == expected\n",
    "        # print(t[returned1:returned1+len(s)])\n",
    "    except:\n",
    "        print(returned2, expected)\n",
    "#================================================\n",
    "\n",
    "_test_rabin_karp()"
   ]
  },
  {
   "cell_type": "code",
   "execution_count": null,
   "metadata": {
    "code_folding": [
     0,
     24
    ],
    "hidden": true
   },
   "outputs": [],
   "source": [
    "class RollingHash:\n",
    "    \"\"\"Produces hash values for a rolling sequence.\"\"\"\n",
    "    def __init__(self, s, base=26):\n",
    "        self.HASH_BASE = base\n",
    "        self.seqlen = len(s)\n",
    "        n = self.seqlen - 1\n",
    "        h = 0\n",
    "        for c in s:\n",
    "            h += ord(c) * (self.HASH_BASE**n)\n",
    "            n -= 1\n",
    "        self.curhash = h\n",
    "\n",
    "    def current_hash(self):\n",
    "        \"\"\"Returns the current hash value.\"\"\"\n",
    "        return self.curhash\n",
    "\n",
    "    def slide(self, previtm, nextitm):\n",
    "        \"\"\"Updates the hash by removing previtm and adding nextitm. Returns \n",
    "        the updated hash value.\"\"\"\n",
    "        self.curhash = (self.curhash * self.HASH_BASE) + ord(nextitm)\n",
    "        self.curhash -= ord(previtm) * (self.HASH_BASE**self.seqlen)\n",
    "        return self.curhash\n",
    "\n",
    "def rabin_karp_v2(t, s) -> int:\n",
    "    '''\n",
    "    Returns: the index in string where first occurance of text takes place.\n",
    "    '''\n",
    "    if len(s) > len(t):\n",
    "        return -1\n",
    "\n",
    "    BASE = 26  # Since there are total 26 english letters.\n",
    "\n",
    "    rs = RollingHash(s, BASE)\n",
    "    rt = RollingHash(t[:len(s)], BASE)\n",
    "\n",
    "    for i in range(len(s), len(t)):\n",
    "        s_hash = rs.current_hash()\n",
    "        t_hash = rt.current_hash()\n",
    "\n",
    "        if t_hash == s_hash and t[i - len(s):i] == s:\n",
    "            return i - len(s)  # Found a match.\n",
    "\n",
    "        # Uses rolling hash to compute the hash code.\n",
    "        t_hash = t_hash.slide(t[i - len(s)], t[i])\n",
    "\n",
    "    # Tries to match s and t[-len(s):].\n",
    "    if t_hash == s_hash and t[-len(s):] == s:\n",
    "        return len(t) - len(s)\n",
    "    return -1  # s is not a substring of t.\n"
   ]
  },
  {
   "cell_type": "markdown",
   "metadata": {
    "hidden": true
   },
   "source": [
    "For a good hash function, the time complexity is $0(m + n)$, independent of the inputs s and t, where m is the length of s and n is the length of t."
   ]
  },
  {
   "cell_type": "code",
   "execution_count": null,
   "metadata": {
    "hidden": true
   },
   "outputs": [],
   "source": [
    "def find_first_occurrence(s, t):\n",
    "    for i in range(len(t) - len(s) + 1):\n",
    "        if t[i:i+len(s)] == s:\n",
    "            return i\n",
    "    return -1\n",
    "\n",
    "# Example usage:\n",
    "s = \"bc4\"\n",
    "t = \"xyzabc123abc456\"\n",
    "result = find_first_occurrence(s, t)\n",
    "\n",
    "if result != -1:\n",
    "    print(f\"The first occurrence of '{s}' in '{t}' is at index {result}.\")\n",
    "else:\n",
    "    print(f\"'{s}' not found in '{t}'.\")\n"
   ]
  },
  {
   "cell_type": "code",
   "execution_count": null,
   "metadata": {
    "hidden": true
   },
   "outputs": [],
   "source": [
    "def find_first_occurrence(s, t):\n",
    "    index = t.find(s)\n",
    "    return index\n",
    "\n",
    "# Example usage:\n",
    "s = \"abc\"\n",
    "t = \"xyzabc123abc456\"\n",
    "result = find_first_occurrence(s, t)\n",
    "\n",
    "if result != -1:\n",
    "    print(f\"The first occurrence of '{s}' in '{t}' is at index {result}.\")\n",
    "else:\n",
    "    print(f\"'{s}' not found in '{t}'.\")\n"
   ]
  },
  {
   "cell_type": "markdown",
   "metadata": {
    "jp-MarkdownHeadingCollapsed": true
   },
   "source": [
    "#### <b style='color:#C71585'>CtCI</b>"
   ]
  },
  {
   "cell_type": "markdown",
   "metadata": {
    "heading_collapsed": true,
    "jp-MarkdownHeadingCollapsed": true,
    "tags": []
   },
   "source": [
    "##### Is the string of unique characters. - [CtCI: 1.1]"
   ]
  },
  {
   "cell_type": "markdown",
   "metadata": {
    "hidden": true
   },
   "source": [
    "Implement an algorithm to determine if a string has all unique characters. What if you cannot use additional data structures?"
   ]
  },
  {
   "cell_type": "code",
   "execution_count": null,
   "metadata": {
    "code_folding": [],
    "hidden": true
   },
   "outputs": [],
   "source": [
    "def is_unique_char(s):\n",
    "    counter = Counter(s)\n",
    "    for char in s:\n",
    "        if counter[char] >= 2: return False\n",
    "    return True\n",
    "\n",
    "def is_unique_char_v2(s):\n",
    "    counter = Counter(s)\n",
    "    return len(counter) == len(s)"
   ]
  },
  {
   "cell_type": "markdown",
   "metadata": {
    "hidden": true
   },
   "source": [
    "Alternatively, we could do the following:\n",
    "1. Compare every character of the string to every other character of the string.This will take $O(n^2)$ time and 0(1) space.\n",
    "2. If we are allowed to modify the input string, we could sort the string in $0(n log(n))$ time and then linearly check the string for neighboring characters that are identical. Careful, though: many sorting algorithms take up extra space."
   ]
  },
  {
   "cell_type": "markdown",
   "metadata": {
    "heading_collapsed": true,
    "jp-MarkdownHeadingCollapsed": true,
    "tags": []
   },
   "source": [
    "##### Is the string `s2` is permuatation of another string `s2`. - [CtCI: 1.3]"
   ]
  },
  {
   "cell_type": "code",
   "execution_count": null,
   "metadata": {
    "hidden": true
   },
   "outputs": [],
   "source": [
    "def is_one_perm_other1(s1, s2):\n",
    "    return sorted(s1) == sorted(s2)"
   ]
  },
  {
   "cell_type": "code",
   "execution_count": null,
   "metadata": {
    "hidden": true
   },
   "outputs": [],
   "source": [
    "def is_one_perm_other2(s1, s2):\n",
    "    cntr1 = Counter(s1)\n",
    "    cntr2 = Counter(s1)\n",
    "    \n",
    "    for char in s1:\n",
    "        if cntr1[char] != cntr2[char]: return False\n",
    "    return True"
   ]
  },
  {
   "cell_type": "code",
   "execution_count": null,
   "metadata": {
    "hidden": true
   },
   "outputs": [],
   "source": [
    "def is_one_perm_other3(s1, s2):\n",
    "    return Counter(s1) == Counter(s2)"
   ]
  },
  {
   "cell_type": "code",
   "execution_count": null,
   "metadata": {
    "hidden": true
   },
   "outputs": [],
   "source": [
    "def _test_is_one_perm_other():\n",
    "    s1 = \"WaterBottle\"\n",
    "    s2 = \"\".join(sample(list(s1), len(s1)))\n",
    "    assert is_one_perm_other1(s1, s2) == is_one_perm_other2(s1, s2) == is_one_perm_other3(s1, s2)\n",
    "    print(s2)\n",
    "# ======================================================================\n",
    "_test_is_one_perm_other()"
   ]
  },
  {
   "cell_type": "code",
   "execution_count": null,
   "metadata": {
    "hidden": true
   },
   "outputs": [],
   "source": [
    "c1 = Counter([2,2,1,3,2,1,5])\n",
    "c2 = Counter([5,1,3,2,1,2,2])\n",
    "print(c1 == c2)\n",
    "print(c1, c2)\n",
    "print(c1 - c2)"
   ]
  },
  {
   "cell_type": "markdown",
   "metadata": {
    "jp-MarkdownHeadingCollapsed": true,
    "tags": []
   },
   "source": [
    "##### Replace character of given string. - [CtCI: 1.4]"
   ]
  },
  {
   "cell_type": "markdown",
   "metadata": {},
   "source": [
    "Write a method to replace all spaces in a string with `%20`. You may assume that the string has sufficient space at the end of the string to hold the additional characters, and that you are given the true length of the string. \n",
    "\n",
    "`NOTE`: if implementing in Java, please usea character array so that you can perform this operation inplace."
   ]
  },
  {
   "cell_type": "code",
   "execution_count": null,
   "metadata": {},
   "outputs": [],
   "source": [
    "def replace_char_by_str(s):\n",
    "    res = list(s)\n",
    "    for i, char in enumerate(res):\n",
    "        if char == ' ': res[i] = '%20'\n",
    "            \n",
    "    return ''.join(res)"
   ]
  },
  {
   "cell_type": "code",
   "execution_count": null,
   "metadata": {},
   "outputs": [],
   "source": [
    "def replace_char_by_str_v2(s):\n",
    "    space_count = Counter(s)[' ']\n",
    "    result = ['']*(len(s) + space_count*3)\n",
    "    idx = 0\n",
    "    \n",
    "    for char in s:\n",
    "        if char == ' ':\n",
    "            for c in '%20':\n",
    "                result[idx] = c\n",
    "                idx += 1\n",
    "        else:\n",
    "            result[idx] = char\n",
    "            idx += 1\n",
    "    \n",
    "    result = ''.join(result)\n",
    "    return result\n",
    "    "
   ]
  },
  {
   "cell_type": "code",
   "execution_count": null,
   "metadata": {},
   "outputs": [],
   "source": [
    "def _test_replace_char_by_str():\n",
    "    test_cases = [\n",
    "        [\"\", \"\"], \n",
    "        [\"A\", \"A\"], \n",
    "        [\" \", \"%20\"], \n",
    "        [\" A \", \"%20A%20\"], \n",
    "        [\"A B C C\", \"A%20B%20C%20C\"]\n",
    "    ]\n",
    "    for given, expected in test_cases:\n",
    "        # print(f\"\\tGiven: {given} \\n\\tExpected: {expected} \\n{'='*40}\")\n",
    "        try:\n",
    "            returned = replace_char_by_str(given)\n",
    "            assert returned == expected\n",
    "        except AssertionError:\n",
    "            print(f\"\\tGiven: {given} \\n\\tReturned: {returned} \\n\\tExpected: {expected}\")\n",
    "# ======================================================================================\n",
    "_test_replace_char_by_str()"
   ]
  },
  {
   "cell_type": "code",
   "execution_count": null,
   "metadata": {},
   "outputs": [],
   "source": []
  },
  {
   "cell_type": "markdown",
   "metadata": {
    "heading_collapsed": true,
    "jp-MarkdownHeadingCollapsed": true,
    "tags": []
   },
   "source": [
    "##### Run-length Encoding. [CtCI: 1.5, EPI: 6.12]"
   ]
  },
  {
   "cell_type": "markdown",
   "metadata": {
    "hidden": true
   },
   "source": [
    "Implement a method to perform basic string compression using the counts of repeated characters. For example, the string `aabcccccaaa` would become `a2blc5a3`. If the \"compressed\" string would not become smaller than the original string, your method should return the original string."
   ]
  },
  {
   "cell_type": "code",
   "execution_count": null,
   "metadata": {
    "code_folding": [],
    "hidden": true
   },
   "outputs": [],
   "source": [
    "def compress_bad(s):\n",
    "    last = s[0]\n",
    "    count = 1\n",
    "    compressed_str = \"\"\n",
    "    \n",
    "    for char in s[1:]:\n",
    "        if char == last:\n",
    "            count += 1\n",
    "        else:\n",
    "            compressed_str += last + str(count)\n",
    "            last = char\n",
    "            count = 1\n",
    "    \n",
    "    return compressed_str += last + str(count)\n",
    "            "
   ]
  },
  {
   "cell_type": "markdown",
   "metadata": {
    "hidden": true
   },
   "source": [
    "This code doesn't handle the case when the compressed string is longer than the original string, but it otherwise works. Is it efficient though? Take a look at the runtime of this code.\n",
    "\n",
    "The runtime is 0(p + k2), where p is the size of the original string and k is the number of character sequences. For example, if the string is aabccdeeaa, then there are six character sequences. It's slow because string concatenation operates in $O(n^2)$ time."
   ]
  },
  {
   "cell_type": "code",
   "execution_count": null,
   "metadata": {
    "hidden": true
   },
   "outputs": [],
   "source": [
    "def compress_better(s):\n",
    "    count = 1\n",
    "    res = []\n",
    "    \n",
    "    for i, char in enumerate(s[1:], 1):\n",
    "        if char == s[i-1]: count +=1\n",
    "        else:\n",
    "            res.append(s[i-1]+str(count))\n",
    "            count = 1\n",
    "    \n",
    "    if s[-1] == s[-2]:\n",
    "        res.append(s[i-1]+str(count))\n",
    "    \n",
    "    return ''.join(res)"
   ]
  },
  {
   "cell_type": "markdown",
   "metadata": {
    "heading_collapsed": true,
    "jp-MarkdownHeadingCollapsed": true,
    "tags": []
   },
   "source": [
    "##### Is the string `s2` is rotation of another string `s1`. - [CtCI: 1.8]"
   ]
  },
  {
   "cell_type": "markdown",
   "metadata": {
    "hidden": true
   },
   "source": [
    "Assume you have a method `is_substring` which checks if one word is asubstring of another. Given two strings, `s1` and `s2`, write code to check If `s2`  is a rotation of `s1` using only one call to `is_substring` (e.g., \"waterbottle\" is a rotation of \"erbottlewat\")."
   ]
  },
  {
   "cell_type": "markdown",
   "metadata": {
    "hidden": true
   },
   "source": [
    "- s1 = xy = waterbottle x = wat\n",
    "- y = erbottle\n",
    "- s2 = yx = erbottlewat\n",
    "\n",
    "So,we need to check if there's a way to split s1in to x and y such that `xy=s1` and `yx= s2`. Regardless of where the division between x and y is, we can see that `yx` will always be a substring of `xyxy`. That is, s2 will always be a substring of `slsl`."
   ]
  },
  {
   "cell_type": "code",
   "execution_count": null,
   "metadata": {
    "hidden": true
   },
   "outputs": [],
   "source": [
    "def is_rotation(s1, s2):\n",
    "    if len(s1) == len(s2) and len(s1) > 0:\n",
    "        s1s1 = s1+s1\n",
    "        return is_substring(s1s1, s2)\n",
    "    return False"
   ]
  },
  {
   "cell_type": "code",
   "execution_count": null,
   "metadata": {
    "hidden": true
   },
   "outputs": [],
   "source": [
    "def is_rotation(s1, s2):\n",
    "    return s2 in s1+s1"
   ]
  },
  {
   "cell_type": "code",
   "execution_count": null,
   "metadata": {
    "hidden": true
   },
   "outputs": [],
   "source": []
  },
  {
   "cell_type": "code",
   "execution_count": null,
   "metadata": {
    "hidden": true
   },
   "outputs": [],
   "source": [
    "print(is_rotation('erbottlewat', 'waterbottle'))"
   ]
  },
  {
   "cell_type": "code",
   "execution_count": null,
   "metadata": {
    "hidden": true
   },
   "outputs": [],
   "source": []
  },
  {
   "cell_type": "markdown",
   "metadata": {
    "jp-MarkdownHeadingCollapsed": true
   },
   "source": [
    "#### <b style='color:#C71585'>Collected Chalanges</b>"
   ]
  },
  {
   "cell_type": "markdown",
   "metadata": {},
   "source": [
    "##### [1717. Maximum Score From Removing Substrings](https://leetcode.com/problems/maximum-score-from-removing-substrings/description/) | [neetcode](https://www.youtube.com/watch?v=r_3a0oG1VcY&t=12s)"
   ]
  },
  {
   "cell_type": "markdown",
   "metadata": {},
   "source": [
    "<div style=\"text-align:center\" ><img src=\"../assets/leetcode/1717.maximum_gain.png\" width=\"700\" height=\"400\" /></div>"
   ]
  },
  {
   "cell_type": "code",
   "execution_count": null,
   "metadata": {},
   "outputs": [],
   "source": []
  },
  {
   "cell_type": "markdown",
   "metadata": {
    "heading_collapsed": true
   },
   "source": [
    "##### The Longest Binary Gap"
   ]
  },
  {
   "cell_type": "markdown",
   "metadata": {
    "hidden": true
   },
   "source": [
    "Write a function `longest_binary_gap(n)` that, given a positive number `n`, returns the length of its longest binary gap, the function should return 0 if `n`, does not contain a binary gap."
   ]
  },
  {
   "cell_type": "markdown",
   "metadata": {
    "hidden": true
   },
   "source": [
    "A binary gap within a positive integer `n` is any maximal sequence of consecutive 0 that is surrounded by 1 at both ends in the binary representation of `n`. \n",
    "\n",
    "-   **Example**:\n",
    "    -   The number 9 has binary representation 1001, and contains a binary gap of length two, \n",
    "    -   The number 529, has binary representation, 1000010001, and contains 2 binary gaps, \n",
    "        -   One of length 4 and one of length 3. \n",
    "    -   The number 20 has binary representation 10100, and contains one binary gap of length 1. \n",
    "    -   The number 15 has binary representation 1111, and has no binary gaps. \n",
    "    -   The number 32 has binary representation, 100000,and has no binary gaps. "
   ]
  },
  {
   "cell_type": "code",
   "execution_count": null,
   "metadata": {},
   "outputs": [],
   "source": [
    "def longest_binary_gap(n):\n",
    "    binary_rep = bin(n)[2:]  # Convert number to binary and strip the '0b' prefix\n",
    "    max_gap = 0\n",
    "    current_gap = 0\n",
    "    found_one = False\n",
    "\n",
    "    for bit in binary_rep:\n",
    "        if bit == '1':\n",
    "            if found_one:\n",
    "                max_gap = max(max_gap, current_gap)\n",
    "            current_gap = 0\n",
    "            found_one = True\n",
    "        elif found_one:\n",
    "            current_gap += 1\n",
    "\n",
    "    return max_gap"
   ]
  },
  {
   "cell_type": "code",
   "execution_count": null,
   "metadata": {
    "hidden": true
   },
   "outputs": [],
   "source": [
    "def longest_binary_gap_v1(n):\n",
    "    # Convert the number to its binary representation and strip the '0b' prefix\n",
    "    binary_rep = bin(n)[2:]\n",
    "    \n",
    "    # Split the binary representation by '1's\n",
    "    gaps = binary_rep.split('1')\n",
    "    \n",
    "    # Remove leading and trailing empty strings which are not surrounded by '1's\n",
    "    if gaps and binary_rep.endswith('0'): gaps.pop()     # Remove trailing gap if it exists\n",
    "    if gaps and binary_rep.startswith('0'): gaps.pop(0)  # Remove leading gap if it exists\n",
    "    \n",
    "    # If there are no gaps or the only gaps were removed, return 0\n",
    "    if not gaps: return 0\n",
    "    \n",
    "    # Return the length of the longest gap\n",
    "    return max(len(gap) for gap in gaps)"
   ]
  },
  {
   "cell_type": "code",
   "execution_count": null,
   "metadata": {},
   "outputs": [],
   "source": [
    "def longest_binary_gap_v2(n):\n",
    "    bin_str = bin(n)[2:].split('1')\n",
    "    if bin_str and bin_str[0] != \"\": bin_str = bin_str[1:]\n",
    "    if bin_str and bin_str[-1] != \"\": bin_str = bin_str[:-1]\n",
    "    return len(max(bin_str, key=len)) if bin_str else 0"
   ]
  },
  {
   "cell_type": "code",
   "execution_count": null,
   "metadata": {
    "code_folding": [],
    "hidden": true
   },
   "outputs": [],
   "source": [
    "def test_largest_binary_gap():\n",
    "    test_cases = [\n",
    "        (1, 0),    # binary: 1, gap: 0\n",
    "        (0, 0),    # binary: 0, gap: 0\n",
    "        (9, 2),    # binary: 1001, gap: 2\n",
    "        (529, 4),  # binary: 1000010001, gaps: 4, 3\n",
    "        (20, 1),   # binary: 10100, gap: 1\n",
    "        (15, 0),   # binary: 1111, no gaps\n",
    "        (32, 0),   # binary: 100000, no gaps\n",
    "        (1041, 5), # binary: 10000010001, gaps: 5, 3\n",
    "        (1, 0),    # binary: 1, no gaps\n",
    "        (5, 1),    # binary: 101, gap: 1\n",
    "        (6, 0),    # binary: 110, no gaps\n",
    "        (8, 0),    # binary: 1000, no gaps\n",
    "        (328, 2),  # binary: 101001000, gaps: 2, 3\n",
    "        (1024, 0), # binary: 10000000000, no gaps\n",
    "        (51712, 2),# binary: 110010100000000, gaps: 1, 1, 2, 3, 3, 3\n",
    "        (66561, 9) # binary: 10000010000000001, gaps: 9, 2, 1\n",
    "    ]\n",
    "\n",
    "    # Print the test cases for reference\n",
    "    for test_case, expected in test_cases:\n",
    "        returned1 = longest_binary_gap(test_case)\n",
    "        returned2 = longest_binary_gap_v2(test_case)\n",
    "        try:\n",
    "            assert returned1 == expected == returned2\n",
    "        except AssertionError:\n",
    "            print(f\"{test_case} \\n\\t {expected} \\n\\t{returned1}\", sep=\"===\"*15)\n",
    "#==============================================================================\n",
    "test_largest_binary_gap()"
   ]
  },
  {
   "cell_type": "markdown",
   "metadata": {
    "heading_collapsed": true,
    "jp-MarkdownHeadingCollapsed": true,
    "tags": []
   },
   "source": [
    "##### [1268. Search Suggestions System](https://leetcode.com/problems/search-suggestions-system/) [M] | [neetcode](https://www.youtube.com/watch?v=D4T2N0yAr20)"
   ]
  },
  {
   "cell_type": "markdown",
   "metadata": {},
   "source": [
    "\n",
    "Given an array of strings `products` and a string `search_word`. We want to design a system that suggests at most three product names from products after each character of `search_word` is typed. Suggested products should have common prefix with the `search_word`. If there are more than three products with a common prefix return the three lexicographically minimums products.\n",
    "\n",
    "Return list of lists of the suggested products after each character of `search_word` is typed."
   ]
  },
  {
   "cell_type": "markdown",
   "metadata": {
    "hidden": true
   },
   "source": [
    "- Example 1:\n",
    "\n",
    "    - Input: `products = [\"mobile\",\"mouse\",\"moneypot\",\"monitor\",\"mousepad\"]`, search_word = \"mouse\"\n",
    "    - Output: [\n",
    "        [\"mobile\",\"moneypot\",\"monitor\"],\n",
    "        [\"mobile\",\"moneypot\",\"monitor\"],\n",
    "        [\"mouse\",\"mousepad\"],\n",
    "        [\"mouse\",\"mousepad\"],\n",
    "        [\"mouse\",\"mousepad\"]\n",
    "    ]\n",
    "    - Explanation: products sorted lexicographically = [\"mobile\",\"moneypot\",\"monitor\",\"mouse\",\"mousepad\"]. After typing m and mo all products match and we show user [\"mobile\",\"moneypot\",\"monitor\"]. After typing mou, mous and mouse the system suggests [\"mouse\",\"mousepad\"]\n",
    "\n",
    "- Example 2:\n",
    "    - Input: `products = [\"havana\"]`, search_word = \"havana\"\n",
    "    - Output: `[[\"havana\"],[\"havana\"],[\"havana\"],[\"havana\"],[\"havana\"],[\"havana\"]]`\n",
    "\n",
    "- Example 3:\n",
    "    - Input: `products = [\"bags\",\"baggage\",\"banner\",\"box\",\"cloths\"]`, search_word = \"bags\"\n",
    "    - Output: `[[\"baggage\",\"bags\",\"banner\"],[\"baggage\",\"bags\",\"banner\"],[\"baggage\",\"bags\"],[\"bags\"]]`\n",
    "\n",
    "- Example 4:\n",
    "    - Input: `products = [\"havana\"]`, search_word = \"tatiana\"\n",
    "    - Output: `[[],[],[],[],[],[],[]]`\n",
    " \n",
    "\n",
    "- Constraints:\n",
    "    1. 1 <= products.length <= 1000\n",
    "    2. There are no repeated elements in products.\n",
    "    3. 1 <= Σ products[i].length <= 2 * 10^4\n",
    "    4. All characters of products[i] are lower-case English letters.\n",
    "    5. 1 <= search_word.length <= 1000\n",
    "    6. All characters of search_word are lower-case English letters."
   ]
  },
  {
   "cell_type": "markdown",
   "metadata": {},
   "source": [
    "<div style=\"text-align:center\" ><img src=\"../assets/leetcode/search_suggestion_system.png\" width=\"700\" height=\"400\" /></div>"
   ]
  },
  {
   "cell_type": "markdown",
   "metadata": {
    "heading_collapsed": true,
    "jp-MarkdownHeadingCollapsed": true,
    "tags": []
   },
   "source": [
    "##### [5. Longest Palindromic Substring](https://leetcode.com/problems/longest-palindromic-substring/description/) [M]"
   ]
  },
  {
   "cell_type": "markdown",
   "metadata": {},
   "source": [
    "\n",
    "Given a string `s`, return the longest palindromic substring in `s`."
   ]
  },
  {
   "cell_type": "markdown",
   "metadata": {
    "hidden": true
   },
   "source": [
    "- Example 1:\n",
    "    - Input: s = \"babad\"\n",
    "    - Output: \"bab\"\n",
    "    - Note: \"aba\" is also a valid answer.\n",
    "\n",
    "- Example 2:\n",
    "    - Input: s = \"cbbd\"\n",
    "    - Output: \"bb\"\n",
    "\n",
    "- Example 3:\n",
    "    - Input: s = \"a\"\n",
    "    - Output: \"a\"\n",
    "\n",
    "- Example 4:\n",
    "    - Input: s = \"ac\"\n",
    "    - Output: \"a\"\n",
    " \n",
    "- Constraints:\n",
    "    1. 1 <= s.length <= 1000\n",
    "    2. `s` consist of only digits and English letters (lower-case and/or upper-case),"
   ]
  },
  {
   "cell_type": "markdown",
   "metadata": {},
   "source": [
    "<div style=\"text-align:center\"><img src=\"../assets/leetcode/len_longest_palindromic_substring.png\" length=\"500\", width=\"500\"/></div>"
   ]
  },
  {
   "cell_type": "code",
   "execution_count": 22,
   "metadata": {
    "code_folding": [],
    "hidden": true
   },
   "outputs": [],
   "source": [
    "def expend_around_center(s: str, low, high) -> int:\n",
    "    if not s or low > high: return 0\n",
    "\n",
    "    while low >= 0 and high < len(s) and s[low] == s[high]:\n",
    "        low -= 1\n",
    "        high += 1\n",
    "\n",
    "    # print(low, high, high - low - 1)\n",
    "    return high - low - 1\n",
    "\n",
    "\n",
    "def lps_sliding_window(s: str) -> str:\n",
    "    \"\"\"Find longest plindromic substring.\n",
    "\n",
    "    Args:\n",
    "        s (str): [description]\n",
    "    \"\"\"\n",
    "    if not s or len(s) < 1: return \"\"\n",
    "    start = 0\n",
    "    end = 0\n",
    "\n",
    "    for i in range(len(s)):\n",
    "\n",
    "        # Scan all odd length substring\n",
    "        odd_len = expend_around_center(s, i, i)\n",
    "\n",
    "        # Scan all even length substring\n",
    "        even_len = expend_around_center(s, i, i + 1)\n",
    "\n",
    "        length = max(odd_len, even_len)\n",
    "        \n",
    "        print(i, length)\n",
    "        if length > (end - start):\n",
    "            start = i - (length - 1) // 2\n",
    "            end = i + length // 2\n",
    "\n",
    "    return s[start:end + 1]"
   ]
  },
  {
   "cell_type": "code",
   "execution_count": 23,
   "metadata": {},
   "outputs": [
    {
     "name": "stdout",
     "output_type": "stream",
     "text": [
      "0 1\n",
      "1 1\n",
      "2 5\n",
      "3 1\n",
      "4 1\n",
      "5 1\n",
      "6 1\n",
      "7 1\n",
      "kayak\n"
     ]
    }
   ],
   "source": [
    "# s = ''.join([choice(UPPERCASE) for i in range(20)])\n",
    "s = 'racecaree'\n",
    "# print(lps(s))\n",
    "print(lps_sliding_window(\"kayaking\"))\n"
   ]
  },
  {
   "cell_type": "code",
   "execution_count": 9,
   "metadata": {
    "code_folding": [],
    "hidden": true
   },
   "outputs": [],
   "source": [
    "def len_lps_dp(s: str):\n",
    "    N = len(s)\n",
    "    tbl = [[False] * N for _ in range(N)]\n",
    "    length = 0\n",
    "\n",
    "    for g in range(N):\n",
    "        for i, j in zip(range(N), range(g, N)):\n",
    "            if g == 0: tbl[i][j] = True\n",
    "            elif g == 1:\n",
    "                if s[i] == s[j]: tbl[i][j] = True\n",
    "                else: tbl[i][j] = False\n",
    "            else:\n",
    "                if s[i] == s[j] and tbl[i + 1][j - 1]: tbl[i][j] = True\n",
    "                else: tbl[i][j] = False\n",
    "\n",
    "            if tbl[i][j]: length = g + 1\n",
    "    return length\n",
    "\n",
    "\n",
    "# A Python3 solution for longest palindrome\n",
    "# Function to print subString str[low..high]\n",
    "def printSubStr(str, low, high):\n",
    "    for i in range(low, high + 1):\n",
    "        print(str[i], end=\"\")"
   ]
  },
  {
   "cell_type": "code",
   "execution_count": 10,
   "metadata": {
    "code_folding": [],
    "hidden": true
   },
   "outputs": [],
   "source": [
    "# This prints the longest palindromic subString and returns it's length.\n",
    "def lps_v2(str):\n",
    "\n",
    "    n = len(str)\n",
    "\n",
    "    # All subStrings of length 1 are palindromes\n",
    "    maxLength = 1\n",
    "    start = 0\n",
    "\n",
    "    # Nested loop to mark start and end index\n",
    "    for i in range(n):\n",
    "        for j in range(i, n):\n",
    "            flag = 1\n",
    "\n",
    "            # Check palindrome\n",
    "            for k in range(0, ((j - i) // 2) + 1):\n",
    "                if (str[i + k] != str[j - k]):\n",
    "                    flag = 0\n",
    "\n",
    "            # Palindrome\n",
    "            if (flag != 0 and (j - i + 1) > maxLength):\n",
    "                start = i\n",
    "                maxLength = j - i + 1\n",
    "\n",
    "    # print(\"Longest palindrome subString is: \", end=\"\")\n",
    "    # printSubStr(str, start, start + maxLength - 1)\n",
    "\n",
    "    # Return length of LPS\n",
    "    # return maxLength\n",
    "    return str[start:start + maxLength + 1]"
   ]
  },
  {
   "cell_type": "code",
   "execution_count": 11,
   "metadata": {
    "hidden": true
   },
   "outputs": [
    {
     "name": "stdout",
     "output_type": "stream",
     "text": [
      "racecare\n"
     ]
    }
   ],
   "source": [
    "# s = ''.join([choice(UPPERCASE) for i in range(20)])\n",
    "s = 'racecaree'\n",
    "# print(lps(s))\n",
    "print(lps_v2(s))\n"
   ]
  },
  {
   "cell_type": "code",
   "execution_count": null,
   "metadata": {
    "hidden": true
   },
   "outputs": [],
   "source": []
  },
  {
   "cell_type": "markdown",
   "metadata": {
    "heading_collapsed": true,
    "jp-MarkdownHeadingCollapsed": true,
    "tags": []
   },
   "source": [
    "##### [767. Reorganize String](https://leetcode.com/problems/reorganize-string/description/) [M]"
   ]
  },
  {
   "cell_type": "markdown",
   "metadata": {
    "hidden": true,
    "jp-MarkdownHeadingCollapsed": true,
    "tags": []
   },
   "source": [
    "Given a string `s`, rearrange the characters of `s` so that any two adjacent\n",
    "characters are not the same.\n",
    "\n",
    "Return any possible rearrangement of `s` or return \"\" if not possible."
   ]
  },
  {
   "cell_type": "markdown",
   "metadata": {
    "hidden": true
   },
   "source": [
    "- Example 1:\n",
    "    - Input: s = \"aab\"\n",
    "    - Output: \"aba\"\n",
    "\n",
    "- Example 2:\n",
    "    - Input: s = \"aaab\"\n",
    "    - Output: \"\"\n",
    " \n",
    "- Constraints:\n",
    "    1. 1 <= s.length <= 500\n",
    "    2. s consists of lowercase English letters."
   ]
  },
  {
   "cell_type": "code",
   "execution_count": null,
   "metadata": {
    "hidden": true
   },
   "outputs": [],
   "source": [
    "def reorganize_str(s):\n",
    "    counts = Counter(s)\n",
    "    result = []\n",
    "\n",
    "    max_pq = [(-count, char) for char, count in counts.items()]\n",
    "    heapq.heapify(max_pq)\n",
    "\n",
    "    while len(max_pq) > 1:\n",
    "        cur_count, cur_char = heapq.heappop(max_pq)\n",
    "        nxt_count, nxt_char = heapq.heappop(max_pq)\n",
    "\n",
    "        result.append(cur_char)\n",
    "        result.append(nxt_char)\n",
    "\n",
    "        counts[cur_char] = counts[cur_char] - 1\n",
    "        counts[nxt_char] = counts[nxt_char] - 1\n",
    "\n",
    "        if counts[cur_char] > 0: heapq.heappush(max_pq, (-counts[cur_char], cur_char))\n",
    "        if counts[nxt_char] > 0: heapq.heappush(max_pq, (-counts[nxt_char], nxt_char))\n",
    "    \n",
    "    if max_pq:\n",
    "        last_count, last_char = heapq.heappop(max_pq)\n",
    "        if counts[last_char] > 1: return ''\n",
    "        result.append(last_char)\n",
    "\n",
    "    return ''.join(result)"
   ]
  },
  {
   "cell_type": "code",
   "execution_count": null,
   "metadata": {},
   "outputs": [],
   "source": [
    "\n",
    "def validate(s):\n",
    "    for i in range(1, len(s)):\n",
    "        if s[i] == s[i - 1]: return False\n",
    "    return True"
   ]
  },
  {
   "cell_type": "code",
   "execution_count": null,
   "metadata": {},
   "outputs": [],
   "source": [
    "def reorganize_str(s):\n",
    "    char_counts = Counter(s)\n",
    "    desired_str = []\n",
    "\n",
    "    if len(char_counts) == 1:\n",
    "        if len(s) == 1: return s\n",
    "        else: return \"\"\n",
    "    \n",
    "    max_heap = [(-v, c) for c,v in char_counts.items()]\n",
    "\n",
    "    heapq.heapify(max_heap)\n",
    "\n",
    "    while len(max_heap) > 1:\n",
    "        char1_count, char1 = heapq.heappop(max_heap)\n",
    "        char2_count, char2 = heapq.heappop(max_heap)\n",
    "        desired_str.append(char1+char2)\n",
    "\n",
    "        if char1_count < 0: heapq.heappush(max_heap, (char1_count+1, char1))\n",
    "        if char2_count < 0: heapq.heappush(max_heap, (char2_count+1, char2))\n",
    "    \n",
    "    if max_heap:\n",
    "        char_count, char = heapq.heappop(max_heap)\n",
    "        if char_count < -1: return \"\"\n",
    "        else: desired_str.append(char)\n",
    "\n",
    "    return \"\".join(desired_str)"
   ]
  },
  {
   "cell_type": "code",
   "execution_count": null,
   "metadata": {
    "hidden": true
   },
   "outputs": [],
   "source": [
    "def _test_reorganize_str():\n",
    "    s = ''.join([choice(list(string.ascii_uppercase)) for _ in range(50)])\n",
    "    returned = reorganize_str(s)\n",
    "    try:\n",
    "        assert validate(returned)\n",
    "    except:\n",
    "        print(f\" Given: {s} \\n Returned: {returned}\")\n",
    "\n",
    "_test_reorganize_str()"
   ]
  },
  {
   "cell_type": "markdown",
   "metadata": {},
   "source": [
    "##### [1347. Minimum Number of Steps to Make Two Strings Anagram](https://leetcode.com/problems/minimum-number-of-steps-to-make-two-strings-anagram/description/) [M]"
   ]
  },
  {
   "cell_type": "markdown",
   "metadata": {},
   "source": [
    "Same as `Minimum number of operations to convert an string into anagrams of another string`."
   ]
  },
  {
   "cell_type": "markdown",
   "metadata": {},
   "source": [
    "##### Minimum number of operations to convert an string into anagrams of another string."
   ]
  },
  {
   "cell_type": "markdown",
   "metadata": {},
   "source": [
    "An anagram is a sequence of numbers that can be formed by rearranging the digits of a string. Given a string that consists of only digits, modify the first half of the string so that it is an anagram of the second half, determine the minimum number of operations needed to complete the task. "
   ]
  },
  {
   "cell_type": "markdown",
   "metadata": {},
   "source": [
    "The following is one operation:\n",
    " - Replace any digit in the string with any other digit (0 - 9). \n",
    "\n",
    "- Example: \n",
    "    - `s = \"123122\"`\n",
    "    - First half is 123\n",
    "    - Second half is 122\n",
    "    - performing one operation, turn the last digit (\"3\") of the first string into \"2\""
   ]
  },
  {
   "cell_type": "code",
   "execution_count": null,
   "metadata": {},
   "outputs": [],
   "source": [
    "def turn_into_angram(s):\n",
    "    if len(s) % 2 != 0: return -1\n",
    "    \n",
    "    s1 = s[:len(s)//2]\n",
    "    s2_count = Counter(s[len(s)//2:])\n",
    "    operation_counts = 0\n",
    "    \n",
    "    for char in s1:\n",
    "        if char in s2_count:\n",
    "            char_count = s2_count.get(char, 0)\n",
    "            if char_count > 0: s2_count[char] -= 1\n",
    "            else: operation_counts += 1\n",
    "        else: operation_counts += 1\n",
    "\n",
    "    return operation_counts"
   ]
  },
  {
   "cell_type": "code",
   "execution_count": null,
   "metadata": {},
   "outputs": [],
   "source": [
    "def turn_into_angram(s):\n",
    "    if len(s) % 2 != 0: return -1\n",
    "    \n",
    "    s1 = s[:len(s)//2]\n",
    "    s2_count = Counter(s[len(s)//2:])\n",
    "    operation_counts = 0\n",
    "    \n",
    "    for char in s1:\n",
    "        if char in s2_count:\n",
    "            if s2_count[char] > 0: s2_count[char] -= 1\n",
    "            else: operation_counts += 1\n",
    "        else: operation_counts += 1\n",
    "\n",
    "    return operation_counts"
   ]
  },
  {
   "cell_type": "code",
   "execution_count": null,
   "metadata": {},
   "outputs": [],
   "source": [
    "def _test_turn_into_angram():\n",
    "    \n",
    "    cases_expecteds = [(\"123122\", 1)]\n",
    "    \n",
    "    for case, expected in cases_expecteds:\n",
    "        returned = turn_into_angram(case)\n",
    "        try:\n",
    "            assert returned == expected\n",
    "            print(returned)\n",
    "        except:\n",
    "            print(f\"Given: {case} \\n\\tReturned: {returned} \\n\\tExpected: {expected}\")\n",
    "#====================================================================================\n",
    "_test_turn_into_angram()"
   ]
  },
  {
   "cell_type": "markdown",
   "metadata": {},
   "source": [
    "#### <b style='color:#C71585'>IBM interview</b>"
   ]
  },
  {
   "cell_type": "markdown",
   "metadata": {},
   "source": [
    "##### Sum of min subset greater than sum of remaining subset."
   ]
  },
  {
   "cell_type": "markdown",
   "metadata": {},
   "source": [
    "Given an integer array, divide the array into two subsets, A and B, while respecting the following conditions:\n",
    "1. the intersection of A and B is null. \n",
    "2. the union A and B is equal to the original array. \n",
    "3. the number of elements in subset A, is minimal.\n",
    "4. the sum of A's element is greater than the sum of B's elements.\n",
    "\n",
    "Return the subset A in increasing order where the sum of A's elements is greater than the sum of B's elements.\n",
    "If more than one subset exist, return the one with the maximal sum.\n"
   ]
  },
  {
   "cell_type": "code",
   "execution_count": null,
   "metadata": {},
   "outputs": [],
   "source": [
    "def min_subset_greater_sum(nums):\n",
    "    # Step 1: Sort the array in descending order\n",
    "    nums.sort(reverse=True)\n",
    "    \n",
    "    total_sum = sum(nums)\n",
    "    subset_a = []\n",
    "    subset_a_sum = 0\n",
    "\n",
    "    # Step 2: Accumulate the sum of subset A\n",
    "    for num in nums:\n",
    "        subset_a.append(num)\n",
    "        subset_a_sum += num\n",
    "        if subset_a_sum > total_sum - subset_a_sum:\n",
    "            break\n",
    "\n",
    "    # Step 3: Return the subset A in ascending order\n",
    "    return sorted(subset_a)"
   ]
  },
  {
   "cell_type": "code",
   "execution_count": null,
   "metadata": {},
   "outputs": [],
   "source": [
    "\n",
    "# Example usage:\n",
    "nums1 = [4, 1, 2, 3]\n",
    "print(min_subset_greater_sum(nums1))  # Output: [4]\n",
    "\n",
    "nums2 = [1, 2, 3, 4, 5, 6, 7]\n",
    "print(min_subset_greater_sum(nums2))  # Output: [6, 7]\n",
    "\n",
    "nums3 = [20, 10, 5, 5, 5]\n",
    "print(min_subset_greater_sum(nums3))  # Output: [20]\n"
   ]
  },
  {
   "cell_type": "markdown",
   "metadata": {},
   "source": [
    "##### Degree of an Array"
   ]
  },
  {
   "cell_type": "markdown",
   "metadata": {},
   "source": [
    "Given an array of integers, it's degree is defined as the numbers of the element that occurs most frequently in the array. Given a list of intergers, determine two properties:\n",
    "\n",
    "1. the degree of the array\n",
    "2. the length of the shortest sub-array that shares the degree"
   ]
  },
  {
   "cell_type": "code",
   "execution_count": null,
   "metadata": {},
   "outputs": [],
   "source": [
    "def degree_of_list(A):\n",
    "    pass"
   ]
  },
  {
   "cell_type": "markdown",
   "metadata": {},
   "source": [
    "##### find out if three lines can form a non generate triangle"
   ]
  },
  {
   "cell_type": "markdown",
   "metadata": {},
   "source": [
    "\n",
    "Given three lines, find out if they can form a non generate triangle.\n",
    "\n",
    "If the three lines are placed with tips joints such that they form a triangle with non zero angles at each vertex, then a non generate triangle is formed. Example, lines with length `[3,4,5]` will make generate triangles. Lines with length `[1,1,5]` will not."
   ]
  },
  {
   "cell_type": "code",
   "execution_count": null,
   "metadata": {},
   "outputs": [],
   "source": [
    "def can_form_triangle(a, b, c):\n",
    "    # Check the triangle inequality theorem\n",
    "    return a + b > c and a + c > b and b + c > a\n",
    "\n",
    "# Example usage:\n",
    "print(can_form_triangle(3, 4, 5))  # Output: True\n",
    "print(can_form_triangle(1, 1, 5))  # Output: False\n"
   ]
  },
  {
   "cell_type": "markdown",
   "metadata": {},
   "source": [
    "#### <b style='color:#C71585'>Capital One</b>"
   ]
  },
  {
   "cell_type": "markdown",
   "metadata": {},
   "source": [
    "##### Interesting Words"
   ]
  },
  {
   "cell_type": "markdown",
   "metadata": {},
   "source": [
    "A word is called intersting if it contains a substring satisfying the following criteria:\n",
    "\n",
    "1. this substring is the repetition of the same letter (lets's call it alpha) repeated n times;\n",
    "2. if there is a letter immediately before the substring, it should be different from alpha.\n",
    "\n",
    "\n",
    "Given an array of string words and an integer n, count number of interesting words in words.\n",
    "\n",
    "- **Exampe 1**:\n",
    "  - Input: `words = [\"all\", \"cook\", \"llama\"]`; `n = 2`\n",
    "  - Output: 3"
   ]
  },
  {
   "cell_type": "code",
   "execution_count": null,
   "metadata": {},
   "outputs": [],
   "source": [
    "def count_interesting_words(words, n):\n",
    "\n",
    "    def is_interesting(s,n):\n",
    "        if not s: return False\n",
    "        if len(s) == 1: return True if n == 1 else False\n",
    "        count = 1\n",
    "        for i, char in enumerate(s[1:], 1):\n",
    "            if char == s[i-1]: count += 1\n",
    "            else:\n",
    "                if n == count: return True\n",
    "                count = 1\n",
    "        \n",
    "        if count == n: return True\n",
    "\n",
    "        return False\n",
    "\n",
    "    interesting_count = 0\n",
    "    for word in words:\n",
    "        if is_interesting(word, n):\n",
    "            interesting_count += 1\n",
    "    \n",
    "    return interesting_count"
   ]
  },
  {
   "cell_type": "code",
   "execution_count": null,
   "metadata": {},
   "outputs": [],
   "source": [
    "def count_interesting_words_v2(words, n):\n",
    "\n",
    "    def is_interesting(s,n):\n",
    "        if not s: return False\n",
    "        if len(s) == 1: return True if n ==1 else False\n",
    "        char_counts = {}\n",
    "        \n",
    "        count = 1\n",
    "        for i, char in enumerate(word[1:], 1):\n",
    "            if word[i-1] == char: count += 1\n",
    "            else: \n",
    "                char_counts[s[i-1]] = count\n",
    "                count = 1\n",
    "            \n",
    "            char_counts[s[-1]] = count\n",
    "        \n",
    "        return True if n in char_counts.values() else False\n",
    "\n",
    "\n",
    "    interesting_count = 0\n",
    "    for word in words:\n",
    "        if is_interesting(word, n):\n",
    "            interesting_count += 1\n",
    "    \n",
    "    return interesting_count"
   ]
  },
  {
   "cell_type": "code",
   "execution_count": null,
   "metadata": {},
   "outputs": [],
   "source": [
    "# NOT CORRECT\n",
    "def count_interesting_words_v3(words, n):\n",
    "    def is_interesting(word, n):\n",
    "        length = len(word)\n",
    "        for i in range(length - n + 1):\n",
    "            substring = word[i:i+n]\n",
    "            if len(set(substring)) == 1:  # All characters in the substring are the same\n",
    "                if i == 0 or word[i-1] != substring[0]:  # Check the character before the substring\n",
    "                    return True\n",
    "        return False\n",
    "\n",
    "    interesting_count = 0\n",
    "    for word in words:\n",
    "        if is_interesting(word, n):\n",
    "            interesting_count += 1\n",
    "    \n",
    "    return interesting_count\n"
   ]
  },
  {
   "cell_type": "code",
   "execution_count": null,
   "metadata": {},
   "outputs": [],
   "source": [
    "\n",
    "def _test_reorganize_str():\n",
    "    inputs_expecteds = test_cases = [\n",
    "        # Basic test cases\n",
    "        ([\"all\", \"cook\", \"llama\"], 2, 3),  # Example case provided\n",
    "\n",
    "        # Cases with no interesting words\n",
    "        ([\"apple\", \"banana\", \"cherry\"], 3, 0),  # No three consecutive same letters\n",
    "        ([\"abcd\", \"efgh\", \"ijkl\"], 2, 0),  # No two consecutive same letters\n",
    "\n",
    "        # Cases with exactly one interesting word\n",
    "        ([\"aaa\", \"bbb\", \"ccc\"], 2, 0),  # All words have \"aa\", \"bb\", \"cc\" which are interesting\n",
    "        ([\"aaa\", \"bbb\", \"ccc\"], 3, 3),  # All words have \"aa\", \"bb\", \"cc\" which are interesting\n",
    "        ([\"aaa\", \"babb\", \"cc\"], 3, 1),  # Only \"aaa\" has three consecutive same letters\n",
    "        ([\"aax\", \"bbby\", \"ccc\"], 2, 1),  # All words have interesting substrings\n",
    "\n",
    "        # Cases with interesting words in various positions\n",
    "        ([\"bbaa\", \"acca\", \"dddee\"], 2, 3),  # Interesting substrings are \"bb\", \"cc\", \"dd\"\n",
    "        ([\"aabbb\", \"bbaaa\", \"ccccc\"], 3, 2),  # \"aabbb\" and \"ccccc\" have interesting substrings\n",
    "\n",
    "        # Edge cases with single character words\n",
    "        ([\"a\", \"b\", \"c\"], 1, 3),  # Each single character word is interesting for n=1\n",
    "        ([\"a\", \"aa\", \"aaa\"], 2, 1),  # \"aa\" and \"aaa\" are interesting for n=2\n",
    "\n",
    "        # Edge cases with empty words\n",
    "        ([\"\", \"a\", \"bb\"], 1, 1),  # \"\" is not interesting, \"a\" and \"bb\" are interesting for n=1\n",
    "        ([\"\", \"\", \"\"], 1, 0),  # No interesting words\n",
    "\n",
    "        # Complex cases\n",
    "        ([\"abcdeffgh\", \"iiijkll\", \"mnopqrsst\"], 2, 3),  # Each word has an interesting substring\n",
    "        ([\"abcdefgh\", \"ijklmnop\", \"qrstuvwx\"], 3, 0),  # No interesting substrings of length 3\n",
    "    ]\n",
    "\n",
    "    # Expected usage:\n",
    "    for words, n, expected in test_cases:\n",
    "        returned = count_interesting_words(words, n)\n",
    "        returned2 = count_interesting_words_v2(words, n)\n",
    "        # returned = count_interesting_words_v3(words, n)\n",
    "\n",
    "        try:\n",
    "            assert returned == expected == returned2\n",
    "            # assert returned == expected\n",
    "        except:\n",
    "            print(f\"Input: {words}, n={n} \\n\\t Expected: {expected}, Returned: {returned}\")\n",
    "# ==================================================================================\n",
    "_test_reorganize_str()"
   ]
  },
  {
   "cell_type": "markdown",
   "metadata": {},
   "source": [
    "##### Memory Blocks"
   ]
  },
  {
   "cell_type": "markdown",
   "metadata": {},
   "source": [
    "\n",
    "You are given an array of integers, `memory`, consisting of `0`s and `1`s, which indicates whether the corresponding memory unit is free or not. `memory[i] = 0` means that the $i^th$ memory unit is free, and `memory[i] = 1` means it's occupied. \n",
    "\n",
    "The memory is aligned with segments of `8` units so all occupied memory blocks must start at an index divisible by `8` (e.g. `0`, `8`, `16` etc).\n",
    "\n",
    "Your task is to perform two types of queries:\n",
    "\n",
    "1. **alloc X**: Find the left-most `aligned` memory block of `X` consecutive free memory units and mark these units as occupied (ie: find the left-most contegious subarray of `0`s, starting at the position `start` which is divisible by `8` and replace all these memory units with `1`s). \n",
    "   1. If there is no proper aligned memory block with `X` consecutive free units, return `-1`; otherwise, return the index of the first position of the allocated block segment and assign an `ID` to every single element in that block, based on an `atomic counter` (the counter starts at `1` and is incremented on every successful `alloc` operation)\n",
    "   2.  Note that `x` may be greater than `8`, so the block may cover more than one memory segment.\n",
    "\n",
    "2. **Erase ID**: If there exists an allocated memory block with element ids equal to `ID`, free all its memory units (set all the bits in the block to `0`).\n",
    "   1. Return the length of the deleted memory block. If there is no such `ID` or the block with this `ID` has already been deleted, return `-1`.\n",
    "\n",
    "Return an array containing the results of all queries.\n",
    "\n",
    "\n",
    "-   **Example**\n",
    "    -   `memory = [0,1,0,0,0,1,1,0,0,0,0,0,1,1,1,1]`\n",
    "    -   `queries = [[0,2], [0,1], [0,1], [1,1], [0,3], [1,4], [0,4]]`\n",
    "    -   `solution(memory, queries) = [8,0,-1,2,8,-1,-1]`\n",
    "\n",
    "---"
   ]
  },
  {
   "cell_type": "code",
   "execution_count": null,
   "metadata": {},
   "outputs": [],
   "source": []
  },
  {
   "cell_type": "markdown",
   "metadata": {},
   "source": [
    "##### Illuminated Lamps - [Capital One Interview] | [YT](https://www.youtube.com/watch?v=9wy6OA3Yvpg)"
   ]
  },
  {
   "cell_type": "markdown",
   "metadata": {},
   "source": [
    "There are some lamps placed on a coordinate line. Each of these lamps illuminates some space around it within a given radius. You are given the coordinates of the lamps on the line and the effective radius of each lamp's light.\n",
    "\n",
    "In other words, you are given a two-dimensional array `lamps`, where `lamps[i]` contains information about the $i^{th}$ lamp. `lamps[i][0]` is an integer representing the lamp's coordinate, and `lamps[i][1]` is a positive integer representing the effective radius of the $i^{th}$ lamp. This means that the $i^{th}$ lamp illuminates everything in a range from `lamps[i][0] - lamps[i][1]` to `lamps[i][0] + lamps[i][1]` inclusive.\n",
    "\n",
    "Your task is to find the coordinate of the point that is illuminated by the highest number of lamps. In case of a tie, return the point among them with the minimal possible coordinate.\n",
    "\n",
    "**Example 1:**\n",
    "\n",
    "-   Input: `lamps = [[-2,3], [2,3], [2,1]]`\n",
    "-   Output: `solution(lamps) = 1`\n",
    "\n",
    "**Example 2:**\n",
    "\n",
    "-   Input: `lamps = [[-2,1], [2,1]]`\n",
    "-   Output: `solution(lamps) = -3`"
   ]
  },
  {
   "cell_type": "code",
   "execution_count": null,
   "metadata": {},
   "outputs": [],
   "source": []
  }
 ],
 "metadata": {
  "kernelspec": {
   "display_name": "Python 3 (ipykernel)",
   "language": "python",
   "name": "python3"
  },
  "language_info": {
   "codemirror_mode": {
    "name": "ipython",
    "version": 3
   },
   "file_extension": ".py",
   "mimetype": "text/x-python",
   "name": "python",
   "nbconvert_exporter": "python",
   "pygments_lexer": "ipython3",
   "version": "3.9.6"
  },
  "toc": {
   "base_numbering": 1,
   "nav_menu": {},
   "number_sections": false,
   "sideBar": true,
   "skip_h1_title": true,
   "title_cell": "Table of Contents",
   "title_sidebar": "Contents",
   "toc_cell": true,
   "toc_position": {},
   "toc_section_display": true,
   "toc_window_display": false
  }
 },
 "nbformat": 4,
 "nbformat_minor": 4
}
