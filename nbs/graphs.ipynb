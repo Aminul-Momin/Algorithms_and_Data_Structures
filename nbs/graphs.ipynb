{
 "cells": [
  {
   "cell_type": "markdown",
   "metadata": {},
   "source": [
    "-   [neetcode: Graph Problems](https://www.youtube.com/playlist?list=PLot-Xpze53ldBT_7QA8NVot219jFNr_GI)\n",
    "-   [Graph Algorithms for Technical Interviews](https://www.youtube.com/watch?v=tWVWeAqZ0WU)\n",
    "-   [Algorithms Course - Graph Theory Tutorial from a Google Engineer](https://www.youtube.com/watch?v=09_LlHjoEiY)\n",
    "-   [2D Matrix/Grid](https://www.youtube.com/playlist?list=PLUPSMCjQ-7od4nK0m_Xwm1VH_ABQ4q9CF)"
   ]
  },
  {
   "cell_type": "code",
   "execution_count": null,
   "metadata": {},
   "outputs": [],
   "source": [
    "from random import randint\n",
    "from ads.utils import *"
   ]
  },
  {
   "cell_type": "markdown",
   "metadata": {},
   "source": [
    "##### Remove Islands || [youtube](https://www.youtube.com/watch?v=4tYoVx0QoN0&t=168s)"
   ]
  },
  {
   "cell_type": "markdown",
   "metadata": {},
   "source": [
    "Given a black and white image (grid of 1 (blace) and 0 (white) pixel), Write a function `remove_islands(grid)` that removes the black portions (black pixels) of the given image that are not on the border of the image.\n",
    "\n",
    "`NOTE`: Black pixel those are not on the border of the image are considered as island.\n",
    "\n",
    "- `Example`:\n",
    "    - remove_islands([]) ->\n",
    "    - remove_islands([]) ->"
   ]
  },
  {
   "cell_type": "code",
   "execution_count": null,
   "metadata": {},
   "outputs": [],
   "source": [
    "def gen_key(i, j):\n",
    "    return \"{}{}\".format(i, j)\n",
    "\n",
    "\n",
    "def is_border(i, j, M):\n",
    "    if i == 0 or i == len(M) - 1 or j == 0 or j == len(M[0]) - 1:\n",
    "        return True\n",
    "    return False\n",
    "\n",
    "\n",
    "def is_valid_index(i, j, M):\n",
    "    valid_row_idx = 0 <= i <= len(M) - 1\n",
    "    valid_col_idx = 0 <= j <= len(M[0]) - 1\n",
    "\n",
    "    return valid_col_idx and valid_row_idx\n",
    "\n",
    "\n",
    "def dfs_visit(i, j, M, border_islands):\n",
    "    steps = [(0, 1), (0, -1), (1, 0), (-1, 0)]\n",
    "\n",
    "    for (x, y) in steps:\n",
    "        new_i = i + x\n",
    "        new_j = j + y\n",
    "        if not is_valid_index(new_i, new_j, M): continue\n",
    "\n",
    "        neigh = M[new_i][new_j]\n",
    "        key = gen_key(new_i, new_j)\n",
    "        if neigh:\n",
    "            border_islands[key] = True\n",
    "            if not (key in border_islands):\n",
    "                dfs_visit(new_i, new_j, M, border_islands)\n",
    "\n",
    "\n",
    "def removes_island(M):\n",
    "    border_islands = {}\n",
    "\n",
    "    for i, row in enumerate(M):\n",
    "        for j, val in enumerate(row):\n",
    "            if val == 1 and is_border(i, j, M):\n",
    "                border_islands[gen_key(i, j)] = True\n",
    "                dfs_visit(i, j, M, border_islands)\n",
    "\n",
    "    for i, row in enumerate(M):\n",
    "        for j, val in enumerate(row):\n",
    "            if val == 1 and not (gen_key(i, j) in border_islands):\n",
    "                M[i][j] = 0\n",
    "    return M\n",
    "\n",
    "\n",
    "#==============================================================================\n",
    "# Counts the numper of islands in a grid of 1s, 0s\n",
    "\n",
    "\n",
    "#==============================================================================\n",
    "def count_island(M):\n",
    "    def bfs_visit(i, j, M):\n",
    "        if is_valid_index(i, j, M):\n",
    "            M[i][j] = 0\n",
    "            bfs_visit(i, j + 1, M)\n",
    "            bfs_visit(i, j - 1, M)\n",
    "            bfs_visit(i + 1, j, M)\n",
    "            bfs_visit(i - 1, j, M)\n",
    "\n",
    "    count = 0\n",
    "    for i, row in enumerate(M):\n",
    "        for j, val in enumerate(row):\n",
    "            if val == 1:\n",
    "                count = +1\n",
    "                bfs_visit(M, i, j)\n",
    "    return count\n",
    "\n",
    "\n",
    "def main():\n",
    "    M_SIZE = 7\n",
    "    M = [[randint(0, 1) for _ in range(M_SIZE)] for _ in range(M_SIZE)]\n",
    "\n",
    "    # print_matrix(M)\n",
    "    removes_island(M)\n",
    "    print_matrix(M)\n",
    "\n",
    "\n",
    "if __name__ == '__main__':\n",
    "    main()"
   ]
  },
  {
   "cell_type": "markdown",
   "metadata": {},
   "source": [
    "##### [417. Pacific Atlantic Water Flow](https://leetcode.com/problems/pacific-atlantic-water-flow/description/) || [neetcode](https://www.youtube.com/watch?v=s-VkcjHqkGI&list=PLot-Xpze53lfOdF3KwpMSFEyfE77zIwiP&index=47)"
   ]
  },
  {
   "cell_type": "code",
   "execution_count": null,
   "metadata": {},
   "outputs": [],
   "source": [
    "class Solution:\n",
    "    def pacificAtlantic(self, heights: List[List[int]]) -> List[List[int]]:\n",
    "        ROWS, COLS = len(heights), len(heights[0])\n",
    "        pac, atl = set(), set()\n",
    "\n",
    "        def dfs(r, c, visit, prevHeight):\n",
    "            if (\n",
    "                (r, c) in visit\n",
    "                or r < 0\n",
    "                or c < 0\n",
    "                or r == ROWS\n",
    "                or c == COLS\n",
    "                or heights[r][c] < prevHeight\n",
    "            ):\n",
    "                return\n",
    "            visit.add((r, c))\n",
    "            dfs(r + 1, c, visit, heights[r][c])\n",
    "            dfs(r - 1, c, visit, heights[r][c])\n",
    "            dfs(r, c + 1, visit, heights[r][c])\n",
    "            dfs(r, c - 1, visit, heights[r][c])\n",
    "\n",
    "        for c in range(COLS):\n",
    "            dfs(0, c, pac, heights[0][c])\n",
    "            dfs(ROWS - 1, c, atl, heights[ROWS - 1][c])\n",
    "\n",
    "        for r in range(ROWS):\n",
    "            dfs(r, 0, pac, heights[r][0])\n",
    "            dfs(r, COLS - 1, atl, heights[r][COLS - 1])\n",
    "\n",
    "        res = []\n",
    "        for r in range(ROWS):\n",
    "            for c in range(COLS):\n",
    "                if (r, c) in pac and (r, c) in atl:\n",
    "                    res.append([r, c])\n",
    "        return res"
   ]
  },
  {
   "cell_type": "code",
   "execution_count": null,
   "metadata": {},
   "outputs": [],
   "source": []
  },
  {
   "cell_type": "code",
   "execution_count": null,
   "metadata": {},
   "outputs": [],
   "source": []
  }
 ],
 "metadata": {
  "kernelspec": {
   "display_name": "Python 3 (ipykernel)",
   "language": "python",
   "name": "python3"
  },
  "language_info": {
   "codemirror_mode": {
    "name": "ipython",
    "version": 3
   },
   "file_extension": ".py",
   "mimetype": "text/x-python",
   "name": "python",
   "nbconvert_exporter": "python",
   "pygments_lexer": "ipython3",
   "version": "3.9.6"
  },
  "toc": {
   "base_numbering": 1,
   "nav_menu": {},
   "number_sections": false,
   "sideBar": true,
   "skip_h1_title": true,
   "title_cell": "Table of Contents",
   "title_sidebar": "Contents",
   "toc_cell": true,
   "toc_position": {},
   "toc_section_display": true,
   "toc_window_display": false
  }
 },
 "nbformat": 4,
 "nbformat_minor": 2
}
