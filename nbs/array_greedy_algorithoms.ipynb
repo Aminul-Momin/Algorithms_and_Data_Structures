{
 "cells": [
  {
   "cell_type": "markdown",
   "metadata": {
    "toc": true
   },
   "source": [
    "<h1>Table of Contents<span class=\"tocSkip\"></span></h1>\n",
    "<div class=\"toc\"><ul class=\"toc-item\"><li><span><a href=\"#Array-Manipulations\" data-toc-modified-id=\"Array-Manipulations-1\"><span class=\"toc-item-num\">1&nbsp;&nbsp;</span><b style=\"color: #ff4500\">Array Manipulations</b></a></span><ul class=\"toc-item\"><li><span><a href=\"#CtCI\" data-toc-modified-id=\"CtCI-1.1\"><span class=\"toc-item-num\">1.1&nbsp;&nbsp;</span><b style=\"color: #c71585\">CtCI</b></a></span><ul class=\"toc-item\"><li><span><a href=\"#Write-a-method-to-shuffle-a-deck-of-cards.-It-must-be-a-perfect-shuffle—in-other-words,-each-of-the-52!-permutations-has-to-be-equally-likely.-Assume-that-you-are-given-a-perfect-random-number-generator.-[CtCI:17.2].\" data-toc-modified-id=\"Write-a-method-to-shuffle-a-deck-of-cards.-It-must-be-a-perfect-shuffle—in-other-words,-each-of-the-52!-permutations-has-to-be-equally-likely.-Assume-that-you-are-given-a-perfect-random-number-generator.-[CtCI:17.2].-1.1.1\"><span class=\"toc-item-num\">1.1.1&nbsp;&nbsp;</span>Write a method to shuffle a deck of cards. It must be a perfect shuffle—in other words, each of the 52! permutations has to be equally likely. Assume that you are given a perfect random number generator. [CtCI:17.2].</a></span></li><li><span><a href=\"#Write-a-method-to-randomly-generates-set-of-m-integers-from-an-array-of-size-n.-Each-element-must-have-equal-probability-of-being-chosen.-[CtCI:17.3].\" data-toc-modified-id=\"Write-a-method-to-randomly-generates-set-of-m-integers-from-an-array-of-size-n.-Each-element-must-have-equal-probability-of-being-chosen.-[CtCI:17.3].-1.1.2\"><span class=\"toc-item-num\">1.1.2&nbsp;&nbsp;</span>Write a method to randomly generates set of m integers from an array of size n. Each element must have equal probability of being chosen. [CtCI:17.3].</a></span></li><li><span><a href=\"#Write-a-method-to-count-the-number-of-2s-that-appear-in-all-the-numbers-between-0-and-n-(inclusive)---[CtCI:17.6].\" data-toc-modified-id=\"Write-a-method-to-count-the-number-of-2s-that-appear-in-all-the-numbers-between-0-and-n-(inclusive)---[CtCI:17.6].-1.1.3\"><span class=\"toc-item-num\">1.1.3&nbsp;&nbsp;</span>Write a method to count the number of 2s that appear in all the numbers between 0 and n (inclusive) - [CtCI:17.6].</a></span></li><li><span><a href=\"#You-have-a-large-text-file-containing-words.-Given-any-two-words,-find-the-shortest-distance-(in-terms-of-number-of-words)-between-them-in-the-file.-If-the-operation-will-be-repeated-many-times-for-the-same-file-(but-different-pairs-of-words),-can-you-optimize-your-solution?---[CtCI:-17.11]\" data-toc-modified-id=\"You-have-a-large-text-file-containing-words.-Given-any-two-words,-find-the-shortest-distance-(in-terms-of-number-of-words)-between-them-in-the-file.-If-the-operation-will-be-repeated-many-times-for-the-same-file-(but-different-pairs-of-words),-can-you-optimize-your-solution?---[CtCI:-17.11]-1.1.4\"><span class=\"toc-item-num\">1.1.4&nbsp;&nbsp;</span>You have a large text file containing words. Given any two words, find the shortest distance (in terms of number of words) between them in the file. If the operation will be repeated many times for the same file (but different pairs of words), can you optimize your solution? - [CtCI: 17.11]</a></span></li><li><span><a href=\"#You-are-given-an-array-of-integers-(both-positive-and-negative).-Find-the-contiguous-sequence-with-the-largest-sum.-Return-the-sum.-[CtCI:16.17].\" data-toc-modified-id=\"You-are-given-an-array-of-integers-(both-positive-and-negative).-Find-the-contiguous-sequence-with-the-largest-sum.-Return-the-sum.-[CtCI:16.17].-1.1.5\"><span class=\"toc-item-num\">1.1.5&nbsp;&nbsp;</span>You are given an array of integers (both positive and negative). Find the contiguous sequence with the largest sum. Return the sum. [CtCI:16.17].</a></span></li><li><span><a href=\"#Given-an-array-of-numbers-(positive-and-negative),-find-the-subarray-that-sums-up-to-zero---zero-sum-subarray\" data-toc-modified-id=\"Given-an-array-of-numbers-(positive-and-negative),-find-the-subarray-that-sums-up-to-zero---zero-sum-subarray-1.1.6\"><span class=\"toc-item-num\">1.1.6&nbsp;&nbsp;</span>Given an array of numbers (positive and negative), find the subarray that sums up to zero - <a href=\"https://www.youtube.com/watch?v=hLcYp67wCcM&amp;list=PLNmW52ef0uwsjnM06LweaYEZr-wjPKBnj&amp;index=17\" target=\"_blank\">zero sum subarray</a></a></span></li><li><span><a href=\"#Design-an-algorithm-to-find-all-pairs-of-integers-within-an-array-which-sum-to-a-specified-value.-[CtCI:16.24].\" data-toc-modified-id=\"Design-an-algorithm-to-find-all-pairs-of-integers-within-an-array-which-sum-to-a-specified-value.-[CtCI:16.24].-1.1.7\"><span class=\"toc-item-num\">1.1.7&nbsp;&nbsp;</span>Design an algorithm to find all pairs of integers within an array which sum to a specified value. [CtCI:16.24].</a></span></li><li><span><a href=\"#Sparse-Similarity---[CtCI:17.26].\" data-toc-modified-id=\"Sparse-Similarity---[CtCI:17.26].-1.1.8\"><span class=\"toc-item-num\">1.1.8&nbsp;&nbsp;</span>Sparse Similarity - [CtCI:17.26].</a></span></li></ul></li><li><span><a href=\"#EPI\" data-toc-modified-id=\"EPI-1.2\"><span class=\"toc-item-num\">1.2&nbsp;&nbsp;</span><b style=\"color: #c71585\">EPI</b></a></span><ul class=\"toc-item\"><li><span><a href=\"#Design-an-algorithm-for-rotating-an-array-A-of-n-elements-to-the-right-by-i-positions.-Don't-use-library-functions.-[EPI:-24.6].\" data-toc-modified-id=\"Design-an-algorithm-for-rotating-an-array-A-of-n-elements-to-the-right-by-i-positions.-Don't-use-library-functions.-[EPI:-24.6].-1.2.1\"><span class=\"toc-item-num\">1.2.1&nbsp;&nbsp;</span>Design an algorithm for rotating an array A of n elements to the right by <code>i</code> positions. Don't use library functions. [EPI: 24.6].</a></span></li><li><span><a href=\"#Dutch-Flag-Partition.---[EPI:-5.1].\" data-toc-modified-id=\"Dutch-Flag-Partition.---[EPI:-5.1].-1.2.2\"><span class=\"toc-item-num\">1.2.2&nbsp;&nbsp;</span>Dutch Flag Partition. - [EPI: 5.1].</a></span></li><li><span><a href=\"#Write-a-program-that-takes-as-input-an-array-of-digits-encoding-a-decimal-number-D-and-updates-the-array-to-represent-the-number-D+1.---[EPI:-5.2].\" data-toc-modified-id=\"Write-a-program-that-takes-as-input-an-array-of-digits-encoding-a-decimal-number-D-and-updates-the-array-to-represent-the-number-D+1.---[EPI:-5.2].-1.2.3\"><span class=\"toc-item-num\">1.2.3&nbsp;&nbsp;</span>Write a program that takes as input an array of digits encoding a decimal number <code>D</code> and updates the array to represent the number <code>D+1</code>. - [EPI: 5.2].</a></span></li><li><span><a href=\"#Multiply-two-arbitrary-precision-integers.-[EPI:-5.3]\" data-toc-modified-id=\"Multiply-two-arbitrary-precision-integers.-[EPI:-5.3]-1.2.4\"><span class=\"toc-item-num\">1.2.4&nbsp;&nbsp;</span>Multiply two arbitrary-precision integers. [EPI: 5.3]</a></span></li><li><span><a href=\"#Is-reachable-to-the-end-of-list-?---[EPI:-5.4].\" data-toc-modified-id=\"Is-reachable-to-the-end-of-list-?---[EPI:-5.4].-1.2.5\"><span class=\"toc-item-num\">1.2.5&nbsp;&nbsp;</span>Is reachable to the end of list ? - [EPI: 5.4].</a></span></li><li><span><a href=\"#Delete-duplicates-from-a-sorted-Array.-[EPI:-5.5]\" data-toc-modified-id=\"Delete-duplicates-from-a-sorted-Array.-[EPI:-5.5]-1.2.6\"><span class=\"toc-item-num\">1.2.6&nbsp;&nbsp;</span>Delete duplicates from a sorted Array. [EPI: 5.5]</a></span></li><li><span><a href=\"#Write-a-program-that-takes-an-array-denoting-the-daily-stock-price,-and-returns-the-maximum-profit-that-could-be-made-by-buying-and-then-selling-one-share-of-that-stock.---[EPI:-5.6].\" data-toc-modified-id=\"Write-a-program-that-takes-an-array-denoting-the-daily-stock-price,-and-returns-the-maximum-profit-that-could-be-made-by-buying-and-then-selling-one-share-of-that-stock.---[EPI:-5.6].-1.2.7\"><span class=\"toc-item-num\">1.2.7&nbsp;&nbsp;</span>Write a program that takes an array denoting the daily stock price, and returns the maximum profit that could be made by buying and then selling one share of that stock. - [EPI: 5.6].</a></span></li><li><span><a href=\"#Write-a-program-that-computes-the-maximum-profit-that-can-be-made-by-buying-and-selling-a-share-at-most-twice.-The-second-buy-must-be-made-on-another-date-after-the-first-sale.---[EPI:5.7].\" data-toc-modified-id=\"Write-a-program-that-computes-the-maximum-profit-that-can-be-made-by-buying-and-selling-a-share-at-most-twice.-The-second-buy-must-be-made-on-another-date-after-the-first-sale.---[EPI:5.7].-1.2.8\"><span class=\"toc-item-num\">1.2.8&nbsp;&nbsp;</span>Write a program that computes the maximum profit that can be made by buying and selling a share at most twice. The second buy must be made on another date after the first sale. - [EPI:5.7].</a></span></li><li><span><a href=\"#Write-a-program-that-takes-an-array-A-of-n-numbers,-and-rearrange-A's-elements-to-get-a-new-array-B-having-that-property-that-B[0]-<=-B[1]->=-B[2]-<=-B[3]->=-B[4]-<=-B[5]-...-...---[EPI:-5.8].\" data-toc-modified-id=\"Write-a-program-that-takes-an-array-A-of-n-numbers,-and-rearrange-A's-elements-to-get-a-new-array-B-having-that-property-that-B[0]-<=-B[1]->=-B[2]-<=-B[3]->=-B[4]-<=-B[5]-...-...---[EPI:-5.8].-1.2.9\"><span class=\"toc-item-num\">1.2.9&nbsp;&nbsp;</span>Write a program that takes an array <code>A</code> of <code>n</code> numbers, and rearrange <code>A</code>'s elements to get a new array <code>B</code> having that property that <code>B[0] &lt;= B[1] &gt;= B[2] &lt;= B[3] &gt;= B[4] &lt;= B[5] ... ...</code> - [EPI: 5.8].</a></span></li><li><span><a href=\"#Enumerates-all-the-primes-upto-n.-[EPI:-5.9]\" data-toc-modified-id=\"Enumerates-all-the-primes-upto-n.-[EPI:-5.9]-1.2.10\"><span class=\"toc-item-num\">1.2.10&nbsp;&nbsp;</span>Enumerates all the primes upto n. [EPI: 5.9]</a></span></li><li><span><a href=\"#Given-an-array-A-of-n-elements-and-a-permutation-array-P,-apply-P-to-A.---[EPI:-5.10].\" data-toc-modified-id=\"Given-an-array-A-of-n-elements-and-a-permutation-array-P,-apply-P-to-A.---[EPI:-5.10].-1.2.11\"><span class=\"toc-item-num\">1.2.11&nbsp;&nbsp;</span>Given an array <code>A</code> of <code>n</code> elements and a permutation array <code>P</code>, apply <code>P</code> to <code>A</code>. - [EPI: 5.10].</a></span></li><li><span><a href=\"#Compute-the-next-permutation.---[EPI:-5.11].\" data-toc-modified-id=\"Compute-the-next-permutation.---[EPI:-5.11].-1.2.12\"><span class=\"toc-item-num\">1.2.12&nbsp;&nbsp;</span>Compute the next permutation. - [EPI: 5.11].</a></span></li><li><span><a href=\"#Sampling-Data.---[EPI:-5.12,-5.13].\" data-toc-modified-id=\"Sampling-Data.---[EPI:-5.12,-5.13].-1.2.13\"><span class=\"toc-item-num\">1.2.13&nbsp;&nbsp;</span>Sampling Data. - [EPI: 5.12, 5.13].</a></span><ul class=\"toc-item\"><li><span><a href=\"#Sample-offline-Data.---[EPI:-5.12]\" data-toc-modified-id=\"Sample-offline-Data.---[EPI:-5.12]-1.2.13.1\"><span class=\"toc-item-num\">1.2.13.1&nbsp;&nbsp;</span>Sample offline Data. - [EPI: 5.12]</a></span></li><li><span><a href=\"#Sample-online-Data.---[EPI:-5.13].\" data-toc-modified-id=\"Sample-online-Data.---[EPI:-5.13].-1.2.13.2\"><span class=\"toc-item-num\">1.2.13.2&nbsp;&nbsp;</span>Sample online Data. - [EPI: 5.13].</a></span></li></ul></li><li><span><a href=\"#Compute-a-random-permutation.---[EPI:-5.14,-CtCI:18.2].\" data-toc-modified-id=\"Compute-a-random-permutation.---[EPI:-5.14,-CtCI:18.2].-1.2.14\"><span class=\"toc-item-num\">1.2.14&nbsp;&nbsp;</span>Compute a random permutation. - [EPI: 5.14, CtCI:18.2].</a></span></li><li><span><a href=\"#Compute-a-random-subset.---[EPI:-5.15].\" data-toc-modified-id=\"Compute-a-random-subset.---[EPI:-5.15].-1.2.15\"><span class=\"toc-item-num\">1.2.15&nbsp;&nbsp;</span>Compute a random subset. - [EPI: 5.15].</a></span></li><li><span><a href=\"#Generate-non-uniform-random-numbers.----[EPI:-5.16]\" data-toc-modified-id=\"Generate-non-uniform-random-numbers.----[EPI:-5.16]-1.2.16\"><span class=\"toc-item-num\">1.2.16&nbsp;&nbsp;</span>Generate non-uniform random numbers. -  [EPI: 5.16]</a></span></li><li><span><a href=\"#The-Sudoku-checker-problem.---[EPI:-5.17]\" data-toc-modified-id=\"The-Sudoku-checker-problem.---[EPI:-5.17]-1.2.17\"><span class=\"toc-item-num\">1.2.17&nbsp;&nbsp;</span>The Sudoku checker problem. - [EPI: 5.17]</a></span></li><li><span><a href=\"#Compute-the-spiral-ordering-of-a-2D-array.---[EPI:-5.18]\" data-toc-modified-id=\"Compute-the-spiral-ordering-of-a-2D-array.---[EPI:-5.18]-1.2.18\"><span class=\"toc-item-num\">1.2.18&nbsp;&nbsp;</span>Compute the spiral ordering of a 2D array. - [EPI: 5.18]</a></span></li><li><span><a href=\"#Compute-rows-in-Pascal's-Traingle.---[EPI:-5.20]\" data-toc-modified-id=\"Compute-rows-in-Pascal's-Traingle.---[EPI:-5.20]-1.2.19\"><span class=\"toc-item-num\">1.2.19&nbsp;&nbsp;</span>Compute rows in Pascal's Traingle. - [EPI: 5.20]</a></span></li></ul></li><li><span><a href=\"#Collected-Problems\" data-toc-modified-id=\"Collected-Problems-1.3\"><span class=\"toc-item-num\">1.3&nbsp;&nbsp;</span><b style=\"color: #c71585\">Collected Problems</b></a></span><ul class=\"toc-item\"><li><span><a href=\"#Group-Anagram\" data-toc-modified-id=\"Group-Anagram-1.3.1\"><span class=\"toc-item-num\">1.3.1&nbsp;&nbsp;</span><a href=\"https://leetcode.com/problems/group-anagrams/\" target=\"_blank\">Group Anagram</a></a></span></li><li><span><a href=\"#Two-Sum\" data-toc-modified-id=\"Two-Sum-1.3.2\"><span class=\"toc-item-num\">1.3.2&nbsp;&nbsp;</span>Two Sum</a></span></li><li><span><a href=\"#Given-a-list,-write-a-python-function-to-generate-all-the-subarrays-of-it\" data-toc-modified-id=\"Given-a-list,-write-a-python-function-to-generate-all-the-subarrays-of-it-1.3.3\"><span class=\"toc-item-num\">1.3.3&nbsp;&nbsp;</span>Given a list, write a python function to generate all the subarrays of it</a></span></li><li><span><a href=\"#Given-a-list-L-and-an-integer-k,-write-a-function-to-generate-all-the-subarrays-that-contains-the-largest-item-of-the-given-list-at-least-k-times.\" data-toc-modified-id=\"Given-a-list-L-and-an-integer-k,-write-a-function-to-generate-all-the-subarrays-that-contains-the-largest-item-of-the-given-list-at-least-k-times.-1.3.4\"><span class=\"toc-item-num\">1.3.4&nbsp;&nbsp;</span>Given a list <code>L</code> and an integer <code>k</code>, write a function to generate all the subarrays that contains the largest item of the given list at least <code>k</code> times.</a></span></li><li><span><a href=\"#228.-Summary-Ranges-***\" data-toc-modified-id=\"228.-Summary-Ranges-***-1.3.5\"><span class=\"toc-item-num\">1.3.5&nbsp;&nbsp;</span><a href=\"https://leetcode.com/problems/summary-ranges/description/\" target=\"_blank\">228. Summary Ranges</a> <b style=\"color: green\">***</b></a></span></li><li><span><a href=\"#1588.-Sum-of-All-Odd-Length-Subarrays\" data-toc-modified-id=\"1588.-Sum-of-All-Odd-Length-Subarrays-1.3.6\"><span class=\"toc-item-num\">1.3.6&nbsp;&nbsp;</span><a href=\"https://leetcode.com/problems/sum-of-all-odd-length-subarrays/description/\" target=\"_blank\">1588. Sum of All Odd Length Subarrays</a></a></span></li></ul></li></ul></li><li><span><a href=\"#Greedy-Algorithms:\" data-toc-modified-id=\"Greedy-Algorithms:-2\"><span class=\"toc-item-num\">2&nbsp;&nbsp;</span><b style=\"color: #ff4500\">Greedy Algorithms</b>:</a></span><ul class=\"toc-item\"><li><ul class=\"toc-item\"><li><span><a href=\"#Compute-an-Optimum-Assignment-of-Tasks---[EPI-17.1]\" data-toc-modified-id=\"Compute-an-Optimum-Assignment-of-Tasks---[EPI-17.1]-2.0.1\"><span class=\"toc-item-num\">2.0.1&nbsp;&nbsp;</span>Compute an Optimum Assignment of Tasks - [EPI-17.1]</a></span></li><li><span><a href=\"#Schedule-to-Minimize-Waiting-Time---[EPI-17.2]\" data-toc-modified-id=\"Schedule-to-Minimize-Waiting-Time---[EPI-17.2]-2.0.2\"><span class=\"toc-item-num\">2.0.2&nbsp;&nbsp;</span>Schedule to Minimize Waiting Time - [EPI-17.2]</a></span></li><li><span><a href=\"#The-Interval-Covering-Problem---[EPI-17.3-(greedy-algo)]\" data-toc-modified-id=\"The-Interval-Covering-Problem---[EPI-17.3-(greedy-algo)]-2.0.3\"><span class=\"toc-item-num\">2.0.3&nbsp;&nbsp;</span>The Interval Covering Problem - [EPI-17.3 (greedy algo)]</a></span></li><li><span><a href=\"#You-are-given-a-set-of-closed-intervals-to-design-an-efficient-algorithm-for-finding-a-minimum-sized-set-of-numbers-that-covers-all-the-intervals.---[ChatGPT]\" data-toc-modified-id=\"You-are-given-a-set-of-closed-intervals-to-design-an-efficient-algorithm-for-finding-a-minimum-sized-set-of-numbers-that-covers-all-the-intervals.---[ChatGPT]-2.0.4\"><span class=\"toc-item-num\">2.0.4&nbsp;&nbsp;</span>You are given a set of closed intervals to design an efficient algorithm for finding a minimum sized set of numbers that covers all the intervals. - [ChatGPT]</a></span><ul class=\"toc-item\"><li><span><a href=\"#ChatGPT-Version\" data-toc-modified-id=\"ChatGPT-Version-2.0.4.1\"><span class=\"toc-item-num\">2.0.4.1&nbsp;&nbsp;</span>ChatGPT Version</a></span></li></ul></li><li><span><a href=\"#Three-sum---[EPI-17.4]\" data-toc-modified-id=\"Three-sum---[EPI-17.4]-2.0.5\"><span class=\"toc-item-num\">2.0.5&nbsp;&nbsp;</span>Three sum - [EPI-17.4]</a></span><ul class=\"toc-item\"><li><span><a href=\"#Design-an-algorithm-that-takes-as-input-an-array-and-a-number,-and-determines-if-there-are-three-distinct-entries-in-the-array--which-add-up-to-the-specified-number.\" data-toc-modified-id=\"Design-an-algorithm-that-takes-as-input-an-array-and-a-number,-and-determines-if-there-are-three-distinct-entries-in-the-array--which-add-up-to-the-specified-number.-2.0.5.1\"><span class=\"toc-item-num\">2.0.5.1&nbsp;&nbsp;</span>Design an algorithm that takes as input an array and a number, and determines if there are three <b style=\"color: red\">distinct</b> entries in the array  which add up to the specified number.</a></span></li><li><span><a href=\"#Return-the-number-of-triples-in-array-that-sum-to-0.\" data-toc-modified-id=\"Return-the-number-of-triples-in-array-that-sum-to-0.-2.0.5.2\"><span class=\"toc-item-num\">2.0.5.2&nbsp;&nbsp;</span>Return the number of triples in array that sum to 0.</a></span></li></ul></li><li><span><a href=\"#Majority-Elements---[EPI-17.5]\" data-toc-modified-id=\"Majority-Elements---[EPI-17.5]-2.0.6\"><span class=\"toc-item-num\">2.0.6&nbsp;&nbsp;</span>Majority Elements - [EPI-17.5]</a></span></li><li><span><a href=\"#Gas-up-problem---[EPI-17.6]\" data-toc-modified-id=\"Gas-up-problem---[EPI-17.6]-2.0.7\"><span class=\"toc-item-num\">2.0.7&nbsp;&nbsp;</span>Gas up problem - [EPI-17.6]</a></span></li><li><span><a href=\"#Trap-Water-(with-a-pair-of-verticl-lines)---[EPI-17.7]\" data-toc-modified-id=\"Trap-Water-(with-a-pair-of-verticl-lines)---[EPI-17.7]-2.0.8\"><span class=\"toc-item-num\">2.0.8&nbsp;&nbsp;</span>Trap Water (with a pair of verticl lines) - [EPI-17.7]</a></span></li><li><span><a href=\"#42.-Trapping-Rain-Water[H]\" data-toc-modified-id=\"42.-Trapping-Rain-Water[H]-2.0.9\"><span class=\"toc-item-num\">2.0.9&nbsp;&nbsp;</span><a href=\"https://leetcode.com/problems/trapping-rain-water/\" target=\"_blank\">42. Trapping Rain Water</a>[H]</a></span></li><li><span><a href=\"#The-largest-rectangle-contained-in-this-skyline.---[EPI-17.8]-|-neatcode\" data-toc-modified-id=\"The-largest-rectangle-contained-in-this-skyline.---[EPI-17.8]-|-neatcode-2.0.10\"><span class=\"toc-item-num\">2.0.10&nbsp;&nbsp;</span>The largest rectangle contained in this skyline. - [EPI-17.8] | <a href=\"https://www.youtube.com/watch?v=zx5Sw9130L0&amp;list=PLot-Xpze53lfxD6l5pAGvCD4nPvWKU8Qo&amp;index=3\" target=\"_blank\">neatcode</a></a></span></li></ul></li></ul></li></ul></div>"
   ]
  },
  {
   "cell_type": "code",
   "execution_count": 2,
   "metadata": {},
   "outputs": [],
   "source": [
    "import os, sys, time, math, bisect, itertools, heapq, collections\n",
    "from random import random, randrange, randint, choices, sample, shuffle\n",
    "import numpy as np\n",
    "from collections import namedtuple, Counter\n",
    "from typing import List\n",
    "import inspect, pydoc"
   ]
  },
  {
   "cell_type": "code",
   "execution_count": 3,
   "metadata": {},
   "outputs": [],
   "source": [
    "from ads.searching import avl_tree_st\n",
    "from ads.utils import *\n",
    "from ads.utils import load_json_data\n",
    "DATA_PATH = os.environ['ADS'] + '/data/'\n",
    "DATA = load_json_data('array', dir_name=DATA_PATH)"
   ]
  },
  {
   "cell_type": "code",
   "execution_count": null,
   "metadata": {},
   "outputs": [],
   "source": []
  },
  {
   "cell_type": "markdown",
   "metadata": {},
   "source": [
    "- [NeetCode](https://neetcode.io/)"
   ]
  },
  {
   "cell_type": "markdown",
   "metadata": {},
   "source": [
    "### <b style='color:#FF4500'>Array Manipulations</b>"
   ]
  },
  {
   "cell_type": "markdown",
   "metadata": {
    "heading_collapsed": true
   },
   "source": [
    "#### <b style='color:#C71585'>CtCI</b>"
   ]
  },
  {
   "cell_type": "markdown",
   "metadata": {
    "heading_collapsed": true,
    "hidden": true
   },
   "source": [
    "##### Write a method to shuffle a deck of cards. It must be a perfect shuffle—in other words, each of the 52! permutations has to be equally likely. Assume that you are given a perfect random number generator. [CtCI:17.2]. "
   ]
  },
  {
   "cell_type": "markdown",
   "metadata": {
    "heading_collapsed": true,
    "hidden": true
   },
   "source": [
    "##### Write a method to randomly generates set of m integers from an array of size n. Each element must have equal probability of being chosen. [CtCI:17.3]."
   ]
  },
  {
   "cell_type": "markdown",
   "metadata": {
    "heading_collapsed": true,
    "hidden": true
   },
   "source": [
    "##### Write a method to count the number of 2s that appear in all the numbers between 0 and n (inclusive) - [CtCI:17.6]."
   ]
  },
  {
   "cell_type": "code",
   "execution_count": null,
   "metadata": {
    "hidden": true
   },
   "outputs": [],
   "source": [
    "def count_twos(n):\n",
    "    return Counter(\"\".join([str(i) for i in range(n+1)]))['2']"
   ]
  },
  {
   "cell_type": "code",
   "execution_count": null,
   "metadata": {
    "hidden": true
   },
   "outputs": [],
   "source": [
    "\n",
    "# Testing the function with some example cases\n",
    "print(count_twos(25))  # Output: 9 (2, 12, 20, 21, 22, 23, 24, 25)\n",
    "print(count_twos(100)) # Output: 20\n",
    "print(count_twos(222)) # Output: 69\n",
    "print(count_twos(0))   # Output: 0\n",
    "print(count_twos(2))   # Output: 1 (2)"
   ]
  },
  {
   "cell_type": "code",
   "execution_count": null,
   "metadata": {
    "hidden": true
   },
   "outputs": [],
   "source": [
    "#ChatGPT Solution\n",
    "def count_2s(n):\n",
    "    count = 0\n",
    "    factor = 1\n",
    "    while factor <= n:\n",
    "        lower_numbers = n - (n // factor) * factor\n",
    "        current_digit = (n // factor) % 10\n",
    "        higher_numbers = n // (factor * 10)\n",
    "\n",
    "        # If the current digit is greater than 2\n",
    "        if current_digit > 2: count += (higher_numbers + 1) * factor\n",
    "        \n",
    "        # If the current digit is equal to 2\n",
    "        elif current_digit == 2: count += higher_numbers * factor + lower_numbers + 1\n",
    "\n",
    "        # If the current digit is less than 2\n",
    "        else: count += higher_numbers * factor\n",
    "\n",
    "        factor *= 10\n",
    "\n",
    "    return count\n",
    "\n",
    "# Testing the function with some example cases\n",
    "print(count_2s(25))  # Output: 9 (2, 12, 20, 21, 22, 23, 24, 25)\n",
    "print(count_2s(100)) # Output: 20\n",
    "print(count_2s(222)) # Output: 69\n",
    "print(count_2s(0))   # Output: 0\n",
    "print(count_2s(2))   # Output: 1 (2)"
   ]
  },
  {
   "cell_type": "markdown",
   "metadata": {
    "heading_collapsed": true,
    "hidden": true
   },
   "source": [
    "##### Shortes distance between two words in a large text file - [CtCI: 17.11] || <b style=\"color:orange\">***</b>"
   ]
  },
  {
   "cell_type": "markdown",
   "metadata": {},
   "source": [
    "You have a large text file containing words. Given any two words, find the shortest distance (in terms of number of words) between them in the file. If the operation will be repeated many times for the same file (but different pairs of words), can you optimize your solution? - [CtCI: 17.11]"
   ]
  },
  {
   "cell_type": "code",
   "execution_count": null,
   "metadata": {
    "hidden": true
   },
   "outputs": [],
   "source": [
    "\"kdkdjfhgldkjl\".index('j')"
   ]
  },
  {
   "cell_type": "markdown",
   "metadata": {
    "hidden": true
   },
   "source": [
    "- ChatGPT Solution"
   ]
  },
  {
   "cell_type": "code",
   "execution_count": null,
   "metadata": {
    "code_folding": [],
    "hidden": true
   },
   "outputs": [],
   "source": [
    "# 1. Read and Tokenize the Text:\n",
    "def preprocess_text(file_path):\n",
    "    with open(file_path, 'r') as file:\n",
    "        text = file.read()\n",
    "    words = text.split()\n",
    "    return words\n",
    "\n",
    "# 2. Build the Index Dictionary:\n",
    "def build_index(words):\n",
    "    from collections import defaultdict\n",
    "    \n",
    "    word_indices = defaultdict(list)\n",
    "    \n",
    "    for index, word in enumerate(words):\n",
    "        word_indices[word].append(index)\n",
    "    \n",
    "    return word_indices\n",
    "\n",
    "# 3. Find the Shortest Distance Between Two Words\n",
    "def shortest_distance(word1, word2, word_indices):\n",
    "    if word1 not in word_indices or word2 not in word_indices:\n",
    "        return -1  # or any indication that one of the words is not present\n",
    "\n",
    "    indices1 = word_indices[word1]\n",
    "    indices2 = word_indices[word2]\n",
    "    idx1, idx2 = 0, 0\n",
    "    min_distance = float('inf')\n",
    "    \n",
    "    # Two-pointer technique to find the smallest difference\n",
    "    while idx1 < len(indices1) and idx2 < len(indices2):\n",
    "        min_distance = min(min_distance, abs(indices1[idx1] - indices2[idx2]))\n",
    "        if indices1[idx1] < indices2[idx2]: idx1 += 1\n",
    "        else                              : idx2 += 1\n",
    "    \n",
    "    return min_distance"
   ]
  },
  {
   "cell_type": "code",
   "execution_count": null,
   "metadata": {
    "hidden": true
   },
   "outputs": [],
   "source": [
    "!cat {DATA_PATH}/shellsST.txt"
   ]
  },
  {
   "cell_type": "code",
   "execution_count": null,
   "metadata": {
    "hidden": true
   },
   "outputs": [],
   "source": [
    "file_path = DATA_PATH + '/shellsST.txt'\n",
    "words = preprocess_text(file_path)\n",
    "word_indices = build_index(words)\n",
    "\n",
    "# Now, you can query the shortest distance between any two words efficiently\n",
    "word1 = 'sea'\n",
    "word2 = 'the'\n",
    "distance = shortest_distance(word1, word2, word_indices)\n",
    "print(f'The shortest distance between \"{word1}\" and \"{word2}\" is {distance}')\n"
   ]
  },
  {
   "cell_type": "code",
   "execution_count": null,
   "metadata": {
    "hidden": true
   },
   "outputs": [],
   "source": []
  },
  {
   "cell_type": "markdown",
   "metadata": {
    "heading_collapsed": true,
    "hidden": true
   },
   "source": [
    "##### Find the contiguous sequence with the largest sum. - [CtCI:16.17]."
   ]
  },
  {
   "cell_type": "markdown",
   "metadata": {},
   "source": [
    "You are given an array of integers (both `positive` and `negative`). Find the contiguous sequence with the largest sum. Return the sum. [CtCI:16.17].\n",
    "\n",
    "-   `EXAMPLE`\n",
    "    -   `Input`: [2, -8, 3, -2, 4, -10]\n",
    "    -   `Output`: 5 (i.e., {3, -2, 4})"
   ]
  },
  {
   "cell_type": "code",
   "execution_count": 37,
   "metadata": {
    "hidden": true
   },
   "outputs": [],
   "source": [
    "def get_max_sum(a: List[int]) -> int:\n",
    "    cur_sum = 0\n",
    "    max_sum = 0\n",
    "    \n",
    "    for val in a:\n",
    "        cur_sum += val\n",
    "        if   max_sum < cur_sum: max_sum = cur_sum\n",
    "        elif cur_sum < 0: cur_sum = 0\n",
    "    return max_sum"
   ]
  },
  {
   "cell_type": "code",
   "execution_count": 38,
   "metadata": {
    "hidden": true
   },
   "outputs": [
    {
     "name": "stdout",
     "output_type": "stream",
     "text": [
      "[-2, -3, 8, -2, 2, -1, -4, 5, 8, -5]\n",
      "16\n",
      "[5, 6, -8, 8, -1, 1, -2, 2, -5, 4]\n",
      "11\n",
      "[-9, 6, 3, 9, -6, 8, 6, 4, 7, -6]\n",
      "37\n",
      "[-5, 9, 0, 3, 1, 4, -1, -4, -2, -5]\n",
      "17\n",
      "[-9, 10, 2, -9, 2, -9, 5, 4, 0, -7]\n",
      "12\n",
      "[-5, -3, -3, 4, 0, 0, -3, -6, 10, 7]\n",
      "17\n",
      "[10, -1, 0, -2, 3, -4, 9, -9, -7, -6]\n",
      "15\n",
      "[-1, 3, 5, 9, 7, 8, 5, 2, -2, -8]\n",
      "39\n",
      "[4, 9, 2, 8, -4, 6, -8, 9, 10, 3]\n",
      "39\n",
      "[3, 3, 9, -8, -5, -3, 0, 10, 1, -7]\n",
      "15\n"
     ]
    }
   ],
   "source": [
    "def _test_get_max_sum():\n",
    "    a = [2, -8, 3, -2, 4, -10]\n",
    "    for _ in range(10):\n",
    "        A = [randint(-9, 10) for i in range(10)]\n",
    "        expected = get_max_sum(A)\n",
    "        print(A)\n",
    "        print(expected)\n",
    "\n",
    "_test_get_max_sum()"
   ]
  },
  {
   "cell_type": "markdown",
   "metadata": {
    "heading_collapsed": true,
    "hidden": true
   },
   "source": [
    "##### Design an algorithm to find all pairs of integers within an array which sum to a specified value. [CtCI:16.24].  "
   ]
  },
  {
   "cell_type": "code",
   "execution_count": 48,
   "metadata": {
    "hidden": true
   },
   "outputs": [],
   "source": [
    "def find_pairs_target(a, target):\n",
    "    a.sort()\n",
    "    low, high = 0, len(a)-1\n",
    "    pairs = set()\n",
    "    \n",
    "    while low <= high:\n",
    "        cur_sum = a[low] + a[high]\n",
    "        if   cur_sum < target: low  += 1\n",
    "        elif cur_sum > target: high -= 1\n",
    "        else: \n",
    "            if (a[high], a[low]) not in pairs:\n",
    "                pairs.add((a[low], a[high]))\n",
    "            low, high = low+1, high-1\n",
    "\n",
    "    return pairs\n",
    "    "
   ]
  },
  {
   "cell_type": "code",
   "execution_count": 49,
   "metadata": {
    "hidden": true
   },
   "outputs": [],
   "source": [
    "def find_pairs_target_brut_force(a: int, target: int) -> int:\n",
    "    N = len(a)\n",
    "    pairs = []\n",
    "    for i in range(N):\n",
    "        for j in range(N):\n",
    "            if i != j and (sum((a[i], a[j])) == target):\n",
    "                pairs.append((a[i], a[j]))\n",
    "    return pairs\n"
   ]
  },
  {
   "cell_type": "code",
   "execution_count": 53,
   "metadata": {
    "hidden": true
   },
   "outputs": [
    {
     "name": "stdout",
     "output_type": "stream",
     "text": [
      "[(-23, 13), (13, -23)]\n",
      "[(22, 43), (43, 22)]\n",
      "[(-11, 93), (93, -11)]\n",
      "[(-27, 26), (26, -27)]\n",
      "[(38, 96), (96, 38)]\n",
      "[(-12, -10), (-10, -12)]\n",
      "[(23, 29), (29, 23)]\n",
      "[(-30, 42), (42, -30)]\n",
      "[(78, 80), (80, 78)]\n",
      "[(-29, 74), (74, -29)]\n"
     ]
    }
   ],
   "source": [
    "def _test_find_pairs_target():\n",
    "    for _ in range(10):\n",
    "        a = [randint(-30, 99) for _ in range(10)]\n",
    "        target = sum(sample(a, 2))\n",
    "        expecteds1 = find_pairs_target(a, target)\n",
    "        expecteds1 = find_pairs_target_brut_force(a, target)\n",
    "        print(expecteds1, sep='\\n')\n",
    "#         for expected in expecteds:\n",
    "#             assert sum(expected) == target\n",
    "# ====================================================================================\n",
    "\n",
    "_test_find_pairs_target()"
   ]
  },
  {
   "cell_type": "code",
   "execution_count": null,
   "metadata": {
    "hidden": true
   },
   "outputs": [],
   "source": []
  },
  {
   "cell_type": "markdown",
   "metadata": {
    "heading_collapsed": true,
    "hidden": true
   },
   "source": [
    "##### Sparse Similarity - [CtCI:17.26].  "
   ]
  },
  {
   "cell_type": "markdown",
   "metadata": {
    "hidden": true
   },
   "source": [
    "The similarity of two documents (each with distinct words) is defined to be the size of the intersection divided by the size of the union. For example, if the documents consist of integers, the similarity of [1, 5, 3] and [1, 7, 2, 3] is 0. 4, because the intersection has size 2 and the union has size 5.\n",
    "We have a long list of documents (with distinct values and each with an associated ID) where the similarity is believed to be \"sparse:'That is, any two arbitrarily selected documents are very likely to have similarity 0. Design an algorithm that returns a list of pairs of document IDs and the associated similarity.\n",
    "Print only the pairs with similarity greater than 0. Empty documents should not be printed at all. For simplicity, you may assume each document is represented as an array of distinct integers."
   ]
  },
  {
   "cell_type": "code",
   "execution_count": null,
   "metadata": {
    "hidden": true
   },
   "outputs": [],
   "source": [
    "def similarity(doc1, doc2):\n",
    "    pass\n",
    "\n",
    "print(similarity(\"doc1\", \"doc2\"))"
   ]
  },
  {
   "cell_type": "markdown",
   "metadata": {},
   "source": [
    "#### <b style='color:#C71585'>EPI</b>"
   ]
  },
  {
   "cell_type": "markdown",
   "metadata": {
    "heading_collapsed": true
   },
   "source": [
    "##### Design an algorithm for rotating an array `A` of n elements to the right by `i` positions. Don't use library functions. [EPI: 24.6]. "
   ]
  },
  {
   "cell_type": "code",
   "execution_count": null,
   "metadata": {
    "code_folding": [
     0
    ],
    "hidden": true
   },
   "outputs": [],
   "source": [
    "def reverse(A, low, high):\n",
    "    while low < high:\n",
    "        A[low], A[high] = A[high], A[low]\n",
    "        low, high = low+1, high-1"
   ]
  },
  {
   "cell_type": "code",
   "execution_count": null,
   "metadata": {
    "code_folding": [],
    "hidden": true
   },
   "outputs": [],
   "source": [
    "def rotate_right(A, k):\n",
    "    k = k % len(A)\n",
    "    reverse(A, 0, len(A)-1)\n",
    "    reverse(A, 0, k)\n",
    "    reverse(A, k, len(A)-1)"
   ]
  },
  {
   "cell_type": "code",
   "execution_count": null,
   "metadata": {
    "hidden": true
   },
   "outputs": [],
   "source": [
    "def rotate_right_v2(A,k):\n",
    "    k = k%len(A)\n",
    "    A = [*reversed(A)]\n",
    "    A = [*reversed(A[:k])] + [*reversed(A[k:])]\n",
    "    print(A)"
   ]
  },
  {
   "cell_type": "code",
   "execution_count": null,
   "metadata": {
    "code_folding": [],
    "hidden": true
   },
   "outputs": [],
   "source": [
    "def _test_rotate_array():\n",
    "    L = [*range(-5,5)]\n",
    "    k = 7\n",
    "    print(L)\n",
    "#     rotate_right(L, k)\n",
    "    rotate_right_v2(L,k)\n",
    "#     print(L)"
   ]
  },
  {
   "cell_type": "code",
   "execution_count": null,
   "metadata": {
    "hidden": true
   },
   "outputs": [],
   "source": [
    "_test_rotate_array()"
   ]
  },
  {
   "cell_type": "markdown",
   "metadata": {
    "heading_collapsed": true
   },
   "source": [
    "##### Dutch Flag Partition. - [EPI: 5.1]."
   ]
  },
  {
   "cell_type": "markdown",
   "metadata": {
    "hidden": true
   },
   "source": [
    "Write a program that takes an array `A` and index `i` into `A`, and rearrange the elements so that all elements less than `A[i]` appear first, followed by elements equal to `A[i]`, followed by elements greater than `A[i]`."
   ]
  },
  {
   "cell_type": "code",
   "execution_count": null,
   "metadata": {
    "hidden": true
   },
   "outputs": [],
   "source": [
    "def dutch_flag_partition(pivot_index, A):\n",
    "\n",
    "    pivot = A[pivot_index]\n",
    "    # Keep the following invariants during partitioning:\n",
    "    # bottom group: A[:left].\n",
    "    # middle group: A[left:idx].\n",
    "    # unclassified group: A[idx:right].\n",
    "    # top group: A[right:].\n",
    "    \n",
    "    left, idx, right = 0, 0, len(A)\n",
    "    \n",
    "    # Keep iterating as long as there is an unclassified element.\n",
    "    while idx < right:\n",
    "        # A[idx] is the incoming unclassified element.\n",
    "        if A[idx] < pivot:\n",
    "            A[left], A[idx] = A[idx], A[left]\n",
    "            left, idx = left+1, idx+1\n",
    "        elif A[idx] == pivot:\n",
    "            idx += 1\n",
    "        else:  # A[idx] > pivot.\n",
    "            right -= 1\n",
    "            A[idx], A[right] = A[right], A[idx]"
   ]
  },
  {
   "cell_type": "code",
   "execution_count": null,
   "metadata": {
    "hidden": true
   },
   "outputs": [],
   "source": [
    "def partition1(pivot_index, A):\n",
    "\n",
    "    pivot = A[pivot_index]\n",
    "    low, idx, high = 0, 0, len(A)-1\n",
    "    \n",
    "    while idx <= high:\n",
    "        # A[idx] is the incoming unclassified element.\n",
    "        if A[idx] < pivot:\n",
    "            A[low], A[idx] = A[idx], A[low]\n",
    "            low, idx = low+1, idx+1\n",
    "        elif A[idx] > pivot: \n",
    "            A[idx], A[high] = A[high], A[idx]\n",
    "            high -= 1\n",
    "        else:\n",
    "            idx += 1\n"
   ]
  },
  {
   "cell_type": "code",
   "execution_count": null,
   "metadata": {
    "hidden": true
   },
   "outputs": [],
   "source": [
    "RED, WHITE, BLUE = range(3)\n",
    "\n",
    "def partition(pivot_index, A):\n",
    "\n",
    "    pivot = A[pivot_index]\n",
    "    # Keep the following invariants during partitioning:\n",
    "    # bottom group: A[:smaller].\n",
    "    # middle group: A[smaller:equal].\n",
    "    # unclassified group: A[equal:larger].\n",
    "    # top group: A[larger:].\n",
    "    smaller, equal, larger = 0, 0, len(A)\n",
    "    \n",
    "    # Keep iterating as long as there is an unclassified element.\n",
    "    while equal < larger:\n",
    "        # A[equal] is the incoming unclassified element.\n",
    "        if A[equal] < pivot:\n",
    "            A[smaller], A[equal] = A[equal], A[smaller]\n",
    "            smaller, equal = smaller+1, equal+1\n",
    "        elif A[equal] == pivot: \n",
    "            equal += 1\n",
    "        else:  # A[equal] > pivot.\n",
    "            larger -= 1\n",
    "            A[equal], A[larger] = A[larger], A[equal]\n"
   ]
  },
  {
   "cell_type": "code",
   "execution_count": null,
   "metadata": {
    "hidden": true
   },
   "outputs": [],
   "source": [
    "def _test_partition(verbose=False):\n",
    "    for _ in range(10):\n",
    "        r = randint(1, 10)\n",
    "        L = [randint(-5,5) for _ in range(r)]\n",
    "        pivot_index = randrange(r)\n",
    "        \n",
    "        if verbose: print(f'Before Partition: (pivot = {L[pivot_index]}) \\n\\t', L)\n",
    "        partition1(pivot_index, L)\n",
    "        if verbose: print(f'After Partition: \\n\\t', L)"
   ]
  },
  {
   "cell_type": "code",
   "execution_count": null,
   "metadata": {
    "hidden": true
   },
   "outputs": [],
   "source": [
    "_test_partition(False)"
   ]
  },
  {
   "cell_type": "markdown",
   "metadata": {
    "heading_collapsed": true
   },
   "source": [
    "##### Write a program that takes as input an array of digits encoding a decimal number `D` and updates the array to represent the number `D+1`. - [EPI: 5.2]."
   ]
  },
  {
   "cell_type": "code",
   "execution_count": null,
   "metadata": {
    "code_folding": [],
    "hidden": true
   },
   "outputs": [],
   "source": [
    "def plus_one(L):\n",
    "    a = L[:]\n",
    "    a[-1] += 1\n",
    "    idx = len(a)-1\n",
    "    \n",
    "    while idx > 0 and a[idx] >= 10:\n",
    "        a[idx] %= 10\n",
    "        a[idx-1] += 1\n",
    "        idx -= 1\n",
    "\n",
    "    if a[0] >= 10:\n",
    "        a[0] %= 10\n",
    "        a.insert(0,1)\n",
    "\n",
    "    return a"
   ]
  },
  {
   "cell_type": "code",
   "execution_count": null,
   "metadata": {
    "hidden": true
   },
   "outputs": [],
   "source": [
    "def plus_one_v2(L):\n",
    "    L[-1] += 1\n",
    "    \n",
    "    for i in range(len(L)-1, 0, -1):\n",
    "        if L[i] >= 10:\n",
    "            L[i] %= 10\n",
    "            L[i-1] += 1\n",
    "        else: return L\n",
    "    \n",
    "    if L[0] >= 10:\n",
    "        L[0] %= 10\n",
    "        return [1] + L\n",
    "    \n",
    "    return L\n"
   ]
  },
  {
   "cell_type": "code",
   "execution_count": null,
   "metadata": {
    "hidden": true
   },
   "outputs": [],
   "source": [
    "def _test_plus_one():\n",
    "    assert plus_one([9,9,9,9,9]) == plus_one_v2([9,9,9,9,9]) == [1,0,0,0,0,0]\n",
    "    \n",
    "    for _ in range(1000):\n",
    "        P = [randrange(7, 9) for _ in range(randrange(1, 11))]\n",
    "        try:\n",
    "            returned1 = plus_one(P)\n",
    "            returned2 = plus_one_v2(P)\n",
    "            assert returned1 == returned2\n",
    "        except:\n",
    "            print(red('FAILED'))\n",
    "            print(P,returned1,returned2)            \n",
    "\n",
    "# ================================================================\n",
    "_test_plus_one()"
   ]
  },
  {
   "cell_type": "markdown",
   "metadata": {
    "heading_collapsed": true
   },
   "source": [
    "##### Multiply two arbitrary-precision integers. [EPI: 5.3] "
   ]
  },
  {
   "cell_type": "code",
   "execution_count": null,
   "metadata": {
    "hidden": true
   },
   "outputs": [],
   "source": [
    "def multiply(num1, num2):\n",
    "\n",
    "    sign = -1 if (num1[0] < 0) ^ (num2[0] < 0) else 1\n",
    "    num1[0], num2[0] = abs(num1[0]), abs(num2[0])\n",
    "\n",
    "    result = [0] * (len(num1) + len(num2))\n",
    "    \n",
    "    for i in reversed(range(len(num1))):\n",
    "        for j in reversed(range(len(num2))):\n",
    "            \n",
    "            result[i + j + 1] += num1[i] * num2[j]\n",
    "            result[i + j    ] += result[i + j + 1] // 10\n",
    "            result[i + j + 1] %= 10\n",
    "\n",
    "    # Remove the leading zeroes.\n",
    "    result = result[next((i for i, x in enumerate(result) if x != 0), len(result)):] or [0]\n",
    "    \n",
    "    return [sign * result[0]] + result[1:]"
   ]
  },
  {
   "cell_type": "markdown",
   "metadata": {},
   "source": [
    "##### [43. Multiply Strings](https://leetcode.com/problems/multiply-strings/description/) [m]"
   ]
  },
  {
   "cell_type": "markdown",
   "metadata": {},
   "source": [
    "Given two non-negative integers `num1` and `num2` represented as strings, return the product of `num1` and `num2`, also represented as a string.\n",
    "\n",
    "`Note`: You must not use any built-in BigInteger library or convert the inputs to integer directly.\n",
    "\n",
    "-   `Example 1`:\n",
    "\n",
    "    -   `Input`: num1 = \"2\", num2 = \"3\"\n",
    "    -   `Output`: \"6\"\n",
    "\n",
    "-   `Example 2`:\n",
    "\n",
    "    -   `Input`: num1 = \"123\", num2 = \"456\"\n",
    "    -   `Output`: \"56088\"\n",
    " \n",
    "\n",
    "-   `Constraints`:\n",
    "\n",
    "    -   $1 <= num1.length, num2.length <= 200$\n",
    "    -   num1 and num2 consist of digits only.\n",
    "    -   Both num1 and num2 do not contain any leading zero, except the number 0 itself."
   ]
  },
  {
   "cell_type": "code",
   "execution_count": null,
   "metadata": {},
   "outputs": [],
   "source": [
    "def multiply(num1: str, num2: str) -> str:\n",
    "    \n",
    "    if \"0\" in [num1, num2]: return \"0\"\n",
    "\n",
    "    res = [0] * (len(num1) + len(num2))\n",
    "    num1, num2 = num1[::-1], num2[::-1]\n",
    "\n",
    "    for i in range(len(num1)):\n",
    "        for j in range(len(num2)):\n",
    "            digit = int(num1[i]) * int(num2[j])\n",
    "            res[i + j] += digit\n",
    "            res[i + j + 1] += res[i + j] // 10\n",
    "            res[i + j] = res[i + j] % 10\n",
    "\n",
    "    res, beg = res[::-1], 0\n",
    "    while beg < len(res) and res[beg] == 0:\n",
    "        beg += 1\n",
    "    res = map(str, res[beg:])\n",
    "    return \"\".join(res)"
   ]
  },
  {
   "cell_type": "markdown",
   "metadata": {
    "heading_collapsed": true
   },
   "source": [
    "##### Is reachable to the end of list ? - [EPI: 5.4] || [55. Jump Game](https://leetcode.com/problems/jump-game/description/) || [neetcode](https://www.youtube.com/watch?v=Yan0cv2cLy8)"
   ]
  },
  {
   "cell_type": "markdown",
   "metadata": {
    "hidden": true
   },
   "source": [
    "You are given an integer array `nums`. You are initially positioned at the array's first index, and each element in the array represents your maximum jump length at that position.\n",
    "\n",
    "Return true if you can reach the last index, or false otherwise.\n",
    "\n",
    " \n",
    "-   `Example 1`:\n",
    "\n",
    "    -   `Input`: nums = [2,3,1,1,4]\n",
    "    -   `Output`: true\n",
    "    -   `Explanation`: Jump 1 step from index 0 to 1, then 3 steps to the last index.\n",
    "\n",
    "-   `Example 2`:\n",
    "\n",
    "    -   `Input`: nums = [3,2,1,0,4]\n",
    "    -   `Output`: false\n",
    "    -   `Explanation`: You will always arrive at index 3 no matter what. Its maximum jump length is 0, which makes it impossible to reach the last index.\n",
    " \n",
    "\n",
    "-   `Constraints`:\n",
    "\n",
    "    -   $1 <= nums.length <= 10^4$\n",
    "    -   $0 <= nums[i] <= 10^5$"
   ]
  },
  {
   "cell_type": "code",
   "execution_count": 5,
   "metadata": {
    "hidden": true
   },
   "outputs": [],
   "source": [
    "def can_reach_end(steps):\n",
    "    reached_fo_far, last_idx = 0, len(steps)-1\n",
    "    \n",
    "    for cur_idx, cur_item in enumerate(steps):\n",
    "        if reached_fo_far < cur_idx or reached_fo_far >= last_idx: break\n",
    "        reached_fo_far = max(reached_fo_far, cur_idx + cur_item)\n",
    "\n",
    "    return reached_fo_far >= last_idx"
   ]
  },
  {
   "cell_type": "code",
   "execution_count": 6,
   "metadata": {
    "hidden": true
   },
   "outputs": [],
   "source": [
    "def can_reach_end_v2(A):\n",
    "    reached_so_far, last_index = 0, len(A) - 1\n",
    "    i = 0\n",
    "    \n",
    "    while i <= reached_so_far < last_index:\n",
    "        reached_so_far = max(reached_so_far, i + A[i])\n",
    "        i += 1\n",
    "    \n",
    "    return reached_so_far >= last_index"
   ]
  },
  {
   "cell_type": "markdown",
   "metadata": {
    "hidden": true
   },
   "source": [
    "- Sliding Window Approch:"
   ]
  },
  {
   "cell_type": "code",
   "execution_count": 7,
   "metadata": {
    "hidden": true
   },
   "outputs": [],
   "source": [
    "def can_reach_end_v3(A):\n",
    "    variable_right, last_index = 0, len(A) - 1\n",
    "    left = 0\n",
    "    \n",
    "    while left <= variable_right and variable_right < last_index:\n",
    "        variable_right = max(variable_right, A[left] + left)\n",
    "        left += 1\n",
    "    \n",
    "    return variable_right >= last_index"
   ]
  },
  {
   "cell_type": "code",
   "execution_count": 11,
   "metadata": {},
   "outputs": [],
   "source": [
    "def can_jump(nums: List[int]) -> bool:\n",
    "    goal = len(nums) - 1\n",
    "\n",
    "    for i in range(len(nums) - 2, -1, -1):\n",
    "        if i + nums[i] >= goal:\n",
    "            goal = i\n",
    "    return goal == 0"
   ]
  },
  {
   "cell_type": "code",
   "execution_count": 12,
   "metadata": {
    "hidden": true
   },
   "outputs": [],
   "source": [
    "def _test_can_reach_end():\n",
    "    # for _ in range(1000):\n",
    "    #     list_size = randint(1,10)\n",
    "    #     test_case = [randrange(0, list_size) for _ in range(list_size)]\n",
    "    #     try:\n",
    "    #         returned1 = can_reach_end(test_case)\n",
    "    #         returned2 = can_reach_end_v2(test_case)\n",
    "    #         returned3 = can_reach_end_v3(test_case)\n",
    "    #         assert returned1 == returned2 == returned3\n",
    "    #     except AssertionError:\n",
    "    #         print(returned1, returned2, returned3, test_case, sep='\\n')\n",
    "\n",
    "    testcases = [[[0, 4, 1, 3, 0], False], [[2,3,1,1,4], True], [[3,2,1,0,4], False]]\n",
    "\n",
    "    funcs = [can_reach_end, can_reach_end_v2, can_reach_end_v3, can_jump]\n",
    "    for func in funcs:\n",
    "        for testcase, expected in testcases:\n",
    "            returned = func(testcase)\n",
    "            try:\n",
    "                assert returned == expected\n",
    "            except:\n",
    "                print(f\"{func.__name__} \\n\\t Input: {testcase} \\n\\t Expected: {expected} \\n\\t Returned: {returned}\")\n",
    "    \n",
    "# =====================================================================================\n",
    "_test_can_reach_end()"
   ]
  },
  {
   "cell_type": "markdown",
   "metadata": {
    "heading_collapsed": true
   },
   "source": [
    "##### Delete duplicates from a sorted Array. [EPI: 5.5] "
   ]
  },
  {
   "cell_type": "code",
   "execution_count": 1,
   "metadata": {
    "hidden": true
   },
   "outputs": [],
   "source": [
    "def delete_duplicates(A):\n",
    "    A.sort()\n",
    "    write_idx = 1\n",
    "    for cand in A[1:]:\n",
    "        if cand != A[write_idx - 1]:\n",
    "            A[write_idx] = cand\n",
    "            write_idx += 1\n",
    "    del A[write_idx:]\n",
    "    return A"
   ]
  },
  {
   "cell_type": "code",
   "execution_count": 2,
   "metadata": {
    "hidden": true
   },
   "outputs": [],
   "source": [
    "def delete_duplicates_v2(A):\n",
    "    A.sort()\n",
    "    write_idx = 0\n",
    "    for cand in A[1:]:\n",
    "        if cand != A[write_idx]:\n",
    "            write_idx += 1\n",
    "            A[write_idx] = cand\n",
    "\n",
    "    del A[write_idx:]\n",
    "    return A"
   ]
  },
  {
   "cell_type": "code",
   "execution_count": 3,
   "metadata": {
    "hidden": true
   },
   "outputs": [],
   "source": [
    "def eliminate_duplicate_pythonic(A):\n",
    "    A.sort()\n",
    "    write_idx = 0\n",
    "    for cand, _ in itertools.groupby(A):\n",
    "        A[write_idx] = cand\n",
    "        write_idx += 1\n",
    "    del A[write_idx:]\n",
    "    return A"
   ]
  },
  {
   "cell_type": "code",
   "execution_count": 17,
   "metadata": {
    "hidden": true
   },
   "outputs": [],
   "source": [
    "def test_delete_duplicates():\n",
    "    test_cases = DATA['delete_duplicates']\n",
    "    for given, expected in test_cases:\n",
    "        # print(f\"\\tGiven: {given} \\n\\tExpected: {expected} \\n{'='*40}\")\n",
    "        try:\n",
    "            returned = delete_duplicates(given)\n",
    "            # returned = remove_duplicates(given)\n",
    "            # assert returned == expected\n",
    "        except AssertionError:\n",
    "            print(f\"\\tGiven: {given} \\n\\tReturned: {returned} \\n\\tExpected: {expected} \\n{'='*40}\")\n",
    "#===================================================================\n",
    "\n",
    "test_delete_duplicates()"
   ]
  },
  {
   "cell_type": "markdown",
   "metadata": {
    "heading_collapsed": true
   },
   "source": [
    "##### The maximum profit from selling one share. - [EPI: 5.6]."
   ]
  },
  {
   "cell_type": "markdown",
   "metadata": {},
   "source": [
    "Write a program that takes an array denoting the daily stock price, and returns the maximum profit that could be made by buying and then selling one share of that stock. - [EPI: 5.6]."
   ]
  },
  {
   "cell_type": "markdown",
   "metadata": {
    "hidden": true
   },
   "source": [
    "Subject to the constraint that the buy and the sell have to take place at the start of the day."
   ]
  },
  {
   "cell_type": "code",
   "execution_count": null,
   "metadata": {
    "code_folding": [],
    "hidden": true
   },
   "outputs": [],
   "source": [
    "def buy_sell_once(prices):\n",
    "\n",
    "    min_price_so_far, max_profit = float('inf'), 0.0\n",
    "    \n",
    "    for price in prices:\n",
    "        max_profit_sell_today = price - min_price_so_far\n",
    "        max_profit = max(max_profit, max_profit_sell_today)\n",
    "        min_price_so_far = min(min_price_so_far, price)# it means you'r selling the stock on next day\n",
    "    return max_profit"
   ]
  },
  {
   "cell_type": "code",
   "execution_count": null,
   "metadata": {
    "code_folding": [],
    "hidden": true
   },
   "outputs": [],
   "source": [
    "def buy_sell_once_v2(prices: List[float]) -> float:\n",
    "\n",
    "    min_price_so_far, max_profit = prices[0], 0.0\n",
    "    \n",
    "    for price in prices[1:]:\n",
    "        max_profit_sell_today = price - min_price_so_far\n",
    "        max_profit = max(max_profit, max_profit_sell_today)\n",
    "        min_price_so_far = min(min_price_so_far, price)\n",
    "    \n",
    "    return max_profit"
   ]
  },
  {
   "cell_type": "code",
   "execution_count": null,
   "metadata": {
    "code_folding": [],
    "hidden": true
   },
   "outputs": [],
   "source": [
    "# logically Incorrect Algorithm\n",
    "def buy_sell_once_v3(prices):\n",
    "    max_profit, lowest = 0, float('inf')\n",
    "\n",
    "    for price in prices:\n",
    "        lowest = min(lowest, price) # it means you'r selling the stock on same day which is not allowed\n",
    "        max_profit = max(max_profit, price-lowest)\n",
    "    \n",
    "    return max_profit"
   ]
  },
  {
   "cell_type": "markdown",
   "metadata": {
    "hidden": true
   },
   "source": [
    "- Sliding Window Technique. [Youtube: NeetCode](https://www.youtube.com/watch?v=1pkOgXD63yU&list=PLot-Xpze53leOBgcVsJBEGrHPd_7x_koV)"
   ]
  },
  {
   "cell_type": "code",
   "execution_count": null,
   "metadata": {
    "hidden": true
   },
   "outputs": [],
   "source": [
    "def max_profit(prices: List[int]) -> int:\n",
    "\n",
    "    left, max_prft, N = 0, 0, len(prices)\n",
    "    \n",
    "    for right in range(1, N):\n",
    "        \n",
    "        if prices[left] < prices[right]:\n",
    "            price_diff = prices[right] - prices[left]\n",
    "            max_prft = max(max_prft, price_diff)\n",
    "        else: left = right\n",
    "    \n",
    "    return max_prft\n",
    "        "
   ]
  },
  {
   "cell_type": "code",
   "execution_count": null,
   "metadata": {
    "code_folding": [],
    "hidden": true
   },
   "outputs": [],
   "source": [
    "def test_buy_and_sell_k_times(verbose=False):\n",
    "    \n",
    "    for _ in range(1000):\n",
    "        P = [randrange(1, 150) for _ in range(randrange(1, 150))]\n",
    "        \n",
    "        returned1 = buy_sell_once(P)\n",
    "        returned2 = buy_sell_once_v2(P)\n",
    "        returned3 = buy_sell_once_v3(P)\n",
    "        \n",
    "        parameters_results = f\"\"\"\n",
    "            P: \\t{P}\n",
    "            buy_sell_once: \\t{returned1}\n",
    "            buy_sell_once_v2: \\t{returned2}\n",
    "            buy_sell_once_v3: \\t{returned3}\"\"\"\n",
    "\n",
    "        #if verbose: print(parameters_results, '\\n' + \"=\"*40)\n",
    "\n",
    "        try:\n",
    "            returned1 == returned2 == returned3\n",
    "        except(AssertionError):\n",
    "            print(red('FAILED !!!'))\n",
    "            if verbose: print(parameters_results, '\\n' + \"=\"*40)\n",
    "\n",
    "#==================================================================\n",
    "test_buy_and_sell_k_times(True)"
   ]
  },
  {
   "cell_type": "markdown",
   "metadata": {},
   "source": [
    "##### The maximum profit from selling a share atmost twice. - [EPI: 5.7]."
   ]
  },
  {
   "cell_type": "markdown",
   "metadata": {
    "heading_collapsed": true
   },
   "source": [
    "Write a program that computes the maximum profit that can be made by buying and selling a share at most twice. The second buy must be made on another date after the first sale. - [EPI:5.7]."
   ]
  },
  {
   "cell_type": "markdown",
   "metadata": {
    "hidden": true
   },
   "source": [
    "- NOTE: \n",
    "    - `GivenConstrain`: The second buy must be made on another day after the first sell.\n",
    "    - Buy & Sell of a perticular stock can take place on the same day!"
   ]
  },
  {
   "cell_type": "code",
   "execution_count": null,
   "metadata": {
    "code_folding": [],
    "hidden": true
   },
   "outputs": [],
   "source": [
    "def buy_and_sell_stock_twice(prices):\n",
    "\n",
    "    max_total_profit, min_price_so_far = 0.0, float('inf')\n",
    "    first_sell_profits = [0] * len(prices)\n",
    "    \n",
    "    # Forward phase. For each day, we record maximum profit if we sell on that day.\n",
    "    for i, price in enumerate(prices):\n",
    "        min_price_so_far = min(min_price_so_far, price) # indication of buying the stock today\n",
    "        max_total_profit = max(max_total_profit, price - min_price_so_far) # indication of selling the stock today\n",
    "        first_sell_profits[i] = max_total_profit\n",
    "\n",
    "    # Backward phase. For each day, find the maximum profit if we make the second buy on that day.\n",
    "    max_price_so_far = float('-inf')\n",
    "    for i, price in reversed(list(enumerate(prices[1:], 1))):\n",
    "        max_price_so_far = max(max_price_so_far, price)\n",
    "        max_total_profit = max(\n",
    "            max_total_profit,\n",
    "            max_price_so_far - price + first_sell_profits[i]\n",
    "        )\n",
    "    return max_total_profit"
   ]
  },
  {
   "cell_type": "code",
   "execution_count": null,
   "metadata": {
    "code_folding": [
     0
    ],
    "hidden": true
   },
   "outputs": [],
   "source": [
    "def buy_sell_twice_v2(prices: list[float]) -> float:\n",
    "\n",
    "    max_total_profit, min_price_so_far = 0, prices[0]\n",
    "    first_sell_profits = [0] * len(prices)\n",
    "\n",
    "    # Forward phase. For each day, we record maximum profit if we sell on that day.\n",
    "    for i, price in enumerate(prices):\n",
    "        max_total_profit = max(max_total_profit, price - min_price_so_far)\n",
    "        first_sell_profits[i] = max_total_profit\n",
    "        min_price_so_far = min(min_price_so_far, price)\n",
    "\n",
    "    # Backward phase. For each day, find the maximum profit if we make the second buy on that day.\n",
    "    max_price_so_far = prices[-1]\n",
    "    for i, price in reversed(list(enumerate(prices[1:-1], 1))):\n",
    "\n",
    "        max_total_profit = max(\n",
    "            max_total_profit,\n",
    "            max_price_so_far - price + first_sell_profits[i-1]\n",
    "        )\n",
    "        max_price_so_far = max(max_price_so_far, price)    \n",
    "\n",
    "    return max_total_profit"
   ]
  },
  {
   "cell_type": "markdown",
   "metadata": {
    "hidden": true
   },
   "source": [
    "- **ChatGPT** Solution"
   ]
  },
  {
   "cell_type": "code",
   "execution_count": null,
   "metadata": {
    "code_folding": [
     1
    ],
    "hidden": true
   },
   "outputs": [],
   "source": [
    "# ChatGPT Solution\n",
    "def max_profit(prices):\n",
    "    n = len(prices)\n",
    "    if n < 2: return 0\n",
    "\n",
    "    max_profit_left = [0] * n\n",
    "    min_price = prices[0]\n",
    "\n",
    "    # forward phase: compute the maximum profit from left to right\n",
    "    for i in range(1, n):\n",
    "        min_price = min(min_price, prices[i])\n",
    "        max_profit_left[i] = max(max_profit_left[i-1], prices[i] - min_price)\n",
    "\n",
    "    # backward phase: compute the maximum profit from right to left\n",
    "    max_profit_right = [0] * n\n",
    "    max_price = prices[-1]\n",
    "    for i in range(n-2, -1, -1):\n",
    "        max_price = max(max_price, prices[i])\n",
    "        max_profit_right[i] = max(max_profit_right[i+1], max_price - prices[i])\n",
    "\n",
    "    # compute the maximum total profit\n",
    "    max_profit = 0\n",
    "    for i in range(n):\n",
    "        max_profit = max(max_profit, max_profit_left[i] + max_profit_right[i])\n",
    "\n",
    "    return max_profit"
   ]
  },
  {
   "cell_type": "markdown",
   "metadata": {
    "hidden": true
   },
   "source": [
    "To compute the maximum profit from buying and selling a share at most twice with the condition that the second buy must be made on another day after the first sell, you can use dynamic programming. Here's a Python program to solve this problem:"
   ]
  },
  {
   "cell_type": "code",
   "execution_count": null,
   "metadata": {
    "code_folding": [
     0
    ],
    "hidden": true
   },
   "outputs": [],
   "source": [
    "def max_profit_with_two_transactions(prices):\n",
    "    if not prices:\n",
    "        return 0\n",
    "\n",
    "    n = len(prices)\n",
    "    min_price1, min_price2 = float('inf'), float('inf')\n",
    "    max_profit1, max_profit2 = 0, 0\n",
    "\n",
    "    for price in prices:\n",
    "        min_price1 = min(min_price1, price)\n",
    "        max_profit1 = max(max_profit1, price - min_price1)\n",
    "        min_price2 = min(min_price2, price - max_profit1)\n",
    "        max_profit2 = max(max_profit2, price - min_price2)\n",
    "\n",
    "    return max_profit2"
   ]
  },
  {
   "cell_type": "markdown",
   "metadata": {
    "hidden": true
   },
   "source": [
    "In this program, we keep track of two buy prices (**min_price1** and **min_price2**) and two maximum profits (**max_profit1** and **max_profit2**). We iterate through the prices and update these values accordingly, making sure that the second buy happens after the first sell.\n",
    "\n",
    "The **max_profit_with_two_transactions** function takes a list of prices as input and returns the maximum profit that can be obtained by buying and selling a share at most twice with the given conditions.\n",
    "\n",
    "You can replace the prices list with your own data to compute the maximum profit for your specific dataset."
   ]
  },
  {
   "cell_type": "code",
   "execution_count": null,
   "metadata": {
    "hidden": true
   },
   "outputs": [],
   "source": [
    "def _test_buy_and_sell_stock_twice():\n",
    "    for _ in range(1000):\n",
    "        P = [randrange(1, 150) for _ in range(randrange(1, 150))]\n",
    "        try:\n",
    "            returned1 = buy_and_sell_stock_twice(P)\n",
    "            returned2 = buy_sell_twice_v2(P)\n",
    "            returned3 = max_profit_with_two_transactions(P)\n",
    "            # returned4 = max_profit(P)\n",
    "            \n",
    "            assert returned1 == returned2 == returned3# == returned4\n",
    "            # print(P, f\"\\t{green('Returned')}: {returned1}\", \"==\"*40, sep='\\n')\n",
    "        except:\n",
    "            print(red('FAILED'))\n",
    "            print(P,returned1,returned2,returned3)            \n",
    "\n",
    "# ================================================================\n",
    "_test_buy_and_sell_stock_twice()"
   ]
  },
  {
   "cell_type": "code",
   "execution_count": null,
   "metadata": {
    "hidden": true
   },
   "outputs": [],
   "source": []
  },
  {
   "cell_type": "code",
   "execution_count": null,
   "metadata": {
    "hidden": true
   },
   "outputs": [],
   "source": []
  },
  {
   "cell_type": "code",
   "execution_count": null,
   "metadata": {
    "code_folding": [],
    "hidden": true
   },
   "outputs": [],
   "source": [
    "def BS_twice(prices):\n",
    "    max_profites = [None]*len(prices)\n",
    "    max_profit, _min = 0, float('inf')\n",
    "    \n",
    "    for i, price in enumerate(prices):\n",
    "        _min = min(_min, price)\n",
    "        max_profit = max(max_profit, price-_min)\n",
    "        max_profites[i] = max_profit\n",
    "    \n",
    "    # max_profit = 0  # generate bugs !!\n",
    "    _max = float('-inf')\n",
    "    for i, price in zip(reversed(range(len(prices))), reversed(prices[1:])):\n",
    "        _max = max(_max, price)\n",
    "        max_profit = max(max_profit, max_profites[i-1] + (_max-price))\n",
    "\n",
    "    return max_profit"
   ]
  },
  {
   "cell_type": "code",
   "execution_count": null,
   "metadata": {
    "code_folding": [
     1
    ],
    "hidden": true
   },
   "outputs": [],
   "source": [
    "# Buggy Code !\n",
    "def BS_twice_to_constant_space(prices):\n",
    "    max_profites = [0]*len(prices)\n",
    "    max_profit, lowest , highest = 0, float('inf'), float('-inf')\n",
    "    \n",
    "    for i, price in enumerate(prices):\n",
    "        lowest = min(lowest, price)\n",
    "        max_profit = max(max_profit, price-lowest)\n",
    "        max_profites[i] = max_profit\n",
    "    \n",
    "    min_price = float('inf')\n",
    "    max_profit = 0\n",
    "    \n",
    "    for i, price in enumerate(prices):        \n",
    "        max_profit = max(max_profit, price-min_price)\n",
    "        min_price  = min(min_price, price-max_profites[i])\n",
    "\n",
    "    return max_profit"
   ]
  },
  {
   "cell_type": "code",
   "execution_count": null,
   "metadata": {
    "code_folding": [
     0
    ],
    "hidden": true
   },
   "outputs": [],
   "source": [
    "def buy_and_sell_stock_twice_constant_space(prices):\n",
    "    ''' min_prc -> min_price; max_prf -> max_profits . '''\n",
    "    \n",
    "    min_price = [float('inf')] * 2\n",
    "    max_profits = [0] * 2\n",
    "    \n",
    "    for price in prices:\n",
    "        for i in reversed(list(range(2))):\n",
    "            max_profits[i] = max(max_profits[i], price - min_price[i])\n",
    "            cur_min_price  = price -  0 if i == 0 else max_profits[i-1]\n",
    "            min_price[i]   = min(min_price[i], cur_min_price)\n",
    "            \n",
    "    return max_profits[-1]"
   ]
  },
  {
   "cell_type": "code",
   "execution_count": null,
   "metadata": {
    "code_folding": [],
    "hidden": true
   },
   "outputs": [],
   "source": [
    "def buy_and_sell_k_times(prices, k):\n",
    "\n",
    "    if not k: return 0.0\n",
    "    elif 2 * k >= len(prices):\n",
    "        temp1 = [max(0, b - a) for a, b in zip(prices[:-1], prices[1:])]\n",
    "        return sum(temp1)\n",
    "\n",
    "    min_price, max_profits = [float('inf')] * k, [0] * k\n",
    "\n",
    "    for price in prices:\n",
    "        for i in reversed(list(range(k))):\n",
    "            max_profits[i] = max(max_profits[i], price - min_price[i])\n",
    "            x = 0 if i == 0 else max_profits[i - 1]\n",
    "            min_price[i] = min(min_price[i], price - x)\n",
    "    \n",
    "    return max_profits[-1]"
   ]
  },
  {
   "cell_type": "code",
   "execution_count": null,
   "metadata": {
    "hidden": true
   },
   "outputs": [],
   "source": []
  },
  {
   "cell_type": "markdown",
   "metadata": {
    "heading_collapsed": true
   },
   "source": [
    "##### Write a program that takes an array `A` of `n` numbers, and rearrange `A`'s elements to get a new array `B` having that property that `B[0] <= B[1] >= B[2] <= B[3] >= B[4] <= B[5] ... ... ` - [EPI: 5.8]."
   ]
  },
  {
   "cell_type": "code",
   "execution_count": null,
   "metadata": {
    "code_folding": [],
    "hidden": true
   },
   "outputs": [],
   "source": [
    "def rearrange(L):\n",
    "    for i, elm in enumerate(L[:-1]):\n",
    "        if (i%2 == 0 and elm > L[i+1]) or (i%2 != 0 and elm < L[i+1]):\n",
    "            swap(L, i, i+1)"
   ]
  },
  {
   "cell_type": "code",
   "execution_count": null,
   "metadata": {
    "code_folding": [],
    "hidden": true
   },
   "outputs": [],
   "source": [
    "def rearrange_pythonic(A):\n",
    "    for i in range(len(A)):\n",
    "        A[i: i+2] = sorted(A[i: i+2], reverse = i%2)"
   ]
  },
  {
   "cell_type": "code",
   "execution_count": null,
   "metadata": {
    "code_folding": [],
    "hidden": true
   },
   "outputs": [],
   "source": [
    "def test_rearrange(verbose=True):\n",
    "    L0 = [randrange(-10,11) for _ in range(15)]\n",
    "    L1, L2 = list(L0), list(L0)\n",
    "    \n",
    "    try:\n",
    "        assert rearrange(L1) == rearrange_pythonic(L2)\n",
    "    except(AssertionError):\n",
    "        print(red('FAILED !!'))\n",
    "\n",
    "    if verbose: \n",
    "        print(f\"\"\"Befor Rearrange: \\t {L0} \\nAfter Rearrange: \\t {L2}\"\"\")"
   ]
  },
  {
   "cell_type": "code",
   "execution_count": null,
   "metadata": {
    "code_folding": [
     0
    ],
    "hidden": true
   },
   "outputs": [],
   "source": [
    "for _ in range(1000): test_rearrange(False)"
   ]
  },
  {
   "cell_type": "markdown",
   "metadata": {
    "heading_collapsed": true
   },
   "source": [
    "##### Enumerates all the primes upto n. [EPI: 5.9] "
   ]
  },
  {
   "cell_type": "markdown",
   "metadata": {
    "hidden": true
   },
   "source": [
    "- A prime is a **natural number greater than 1** that is not a product of two smaller natural numbers. \n",
    "\n",
    "A natural number greater than 1 that is not prime is called a composite number. For example, 5 is prime because the only ways of writing it as a product, 1 × 5 or 5 × 1, involve 5 itself. However, 4 is composite because it is a product (2 × 2) in which both numbers are smaller than 4."
   ]
  },
  {
   "cell_type": "markdown",
   "metadata": {
    "hidden": true
   },
   "source": [
    "- Write a program that takes an integer argument and returns all the primes between 1 and that integer."
   ]
  },
  {
   "cell_type": "markdown",
   "metadata": {
    "hidden": true
   },
   "source": [
    "- Complexity Analysis:\n",
    "    - Time: $ O(\\frac{n}{2}+\\frac{n}{3}+\\frac{n}{4}+ ...) = O(n \\cdot log(log(n)))$\n",
    "    - Space: $O(n)$"
   ]
  },
  {
   "cell_type": "code",
   "execution_count": null,
   "metadata": {
    "hidden": true
   },
   "outputs": [
    {
     "data": {
      "text/plain": [
       "[2, 3, 5, 7, 11, 13]"
      ]
     },
     "execution_count": 36,
     "metadata": {},
     "output_type": "execute_result"
    }
   ],
   "source": [
    "def gen_primes_incorrect(n):\n",
    "\n",
    "    candidates = [False, False] + [True]*(n-1)\n",
    "    primes = []\n",
    "\n",
    "    # for i, candidate in enumerate(candidates[2:], 2):     # INCORRECT !\n",
    "\n",
    "    for i, candidate in enumerate(candidates):\n",
    "        if candidate:\n",
    "            primes.append(i)\n",
    "\n",
    "            for j in range(i+i, n+1, i):\n",
    "                candidates[j] = False\n",
    "\n",
    "    return primes\n",
    "\n",
    "gen_primes_incorrect(15)"
   ]
  },
  {
   "cell_type": "code",
   "execution_count": 34,
   "metadata": {
    "code_folding": [],
    "hidden": true
   },
   "outputs": [
    {
     "name": "stdout",
     "output_type": "stream",
     "text": [
      "[2, 3, 5, 7, 11, 13]\n"
     ]
    }
   ],
   "source": [
    "def gen_primes(n):\n",
    "    primes = []\n",
    "    is_prime = [False, False] + [True]*(n-1)\n",
    "\n",
    "    for i in range(2, n+1):\n",
    "        if is_prime[i]: \n",
    "            primes.append(i)\n",
    "            for p in range(2*i, n+1, i):\n",
    "                is_prime[p] = False\n",
    "\n",
    "    return primes\n",
    "\n",
    "print(gen_primes(15))"
   ]
  },
  {
   "cell_type": "code",
   "execution_count": 26,
   "metadata": {
    "code_folding": [],
    "hidden": true
   },
   "outputs": [],
   "source": [
    "# Given n, return all primes up to and including n.\n",
    "def generate_primes(n):\n",
    "\n",
    "    if n < 2: return []\n",
    "    size = (n - 3) // 2 + 1\n",
    "    \n",
    "    primes = [2]  # Stores the primes from 1 to n.\n",
    "    \n",
    "    # is_prime[i] represents (2i + 3) is prime or not.\n",
    "    # Initially set each to true. Then use sieving to eliminate nonprimes.\n",
    "    is_prime = [True] * size\n",
    "    \n",
    "    for i in range(size):\n",
    "        if is_prime[i]:\n",
    "            p = i * 2 + 3\n",
    "            primes.append(p)\n",
    "            # Sieving from p^2, where p^2 = (4i^2 + 12i + 9). The index in is_prime\n",
    "            # is (2i^2 + 6i + 3) because is_prime[i] represents 2i + 3.\n",
    "            #\n",
    "            # Note that we need to use long for j because p^2 might overflow.\n",
    "            for j in range(2 * i**2 + 6 * i + 3, size, p):\n",
    "                is_prime[j] = False\n",
    "    \n",
    "    return primes"
   ]
  },
  {
   "cell_type": "code",
   "execution_count": null,
   "metadata": {
    "hidden": true
   },
   "outputs": [],
   "source": [
    "def test_gen_primes():\n",
    "    \n",
    "    for n in range(2, 200):\n",
    "        # print(gen_primes(n), generate_primes(n), \"==\"*20, sep='\\n')\n",
    "        # assert gen_primes(n) == generate_primes(n)\n",
    "        assert gen_primes(n) == gen_primes_incorrect(n)\n",
    "# ======================================================\n",
    "test_gen_primes()"
   ]
  },
  {
   "cell_type": "markdown",
   "metadata": {
    "heading_collapsed": true
   },
   "source": [
    "##### Given an array `A` of `n` elements and a permutation array `P`, apply `P` to `A`. - [EPI: 5.10]."
   ]
  },
  {
   "cell_type": "code",
   "execution_count": null,
   "metadata": {
    "hidden": true
   },
   "outputs": [],
   "source": [
    "def apply_permutation(perm, A):\n",
    "\n",
    "    for i in range(len(A)):\n",
    "        \n",
    "        next = i\n",
    "            \n",
    "        # Check if the element at index i has not been moved by checking if\n",
    "        # perm[i] is nonnegative.\n",
    "        while perm[next] >= 0:\n",
    "            A[i], A[perm[next]] = A[perm[next]], A[i]\n",
    "            temp = perm[next]\n",
    "            \n",
    "            # Subtracts len(perm) from an entry in perm to make it negative,\n",
    "            # which indicates the corresponding move has been performed.\n",
    "            perm[next] -= len(perm)\n",
    "            \n",
    "            next = temp\n",
    "    \n",
    "    # Restore perm.\n",
    "    perm[:] = [a + len(perm) for a in perm]"
   ]
  },
  {
   "cell_type": "code",
   "execution_count": null,
   "metadata": {
    "hidden": true
   },
   "outputs": [],
   "source": [
    "def apply_permutation2(perm, A):\n",
    "    ''' BUGY CODE !!! '''\n",
    "    L = [True]*len(A)\n",
    "    \n",
    "    for i,truthy in enumerate(L):\n",
    "        if truthy:            \n",
    "            starting_idx = i\n",
    "            next_idx     = perm[i]\n",
    "            swap(A, i, perm[starting_idx])\n",
    "            L[i] = False\n",
    "            \n",
    "            while (next_idx != starting_idx):\n",
    "                next_idx = perm[next_idx]\n",
    "                swap(A,i,next_idx)\n",
    "                L[next_idx] = False\n"
   ]
  },
  {
   "cell_type": "code",
   "execution_count": null,
   "metadata": {
    "hidden": true
   },
   "outputs": [],
   "source": [
    "def test_apply_perm(verbose=True):\n",
    "    A0 = list('abcd')\n",
    "    A  = list(A0)\n",
    "    P  = [2, 0, 1,5,3,4]\n",
    "    apply_permutation2(P, A)\n",
    "    \n",
    "    try:\n",
    "        assert A == list('bcad')\n",
    "    except(AssertionError):\n",
    "        print(A0, A, sep='\\n')\n",
    "\n",
    "# test_apply_perm()"
   ]
  },
  {
   "cell_type": "markdown",
   "metadata": {
    "heading_collapsed": true
   },
   "source": [
    "##### Compute the next permutation. - [EPI: 5.11]."
   ]
  },
  {
   "cell_type": "markdown",
   "metadata": {
    "hidden": true
   },
   "source": [
    "Write a program that takes as input a permutation, and return the next permutation under dictionary ordering."
   ]
  },
  {
   "cell_type": "code",
   "execution_count": null,
   "metadata": {
    "code_folding": [],
    "hidden": true
   },
   "outputs": [],
   "source": [
    "def next_permutation(perm):\n",
    "\n",
    "    # Find the first entry from the right that is smaller than the entry\n",
    "    # immediately after it.\n",
    "    IP = len(perm) - 2\n",
    "    while (IP >= 0 and perm[IP] >= perm[IP + 1]): IP -= 1\n",
    "    if IP == -1: return []  # perm is the last permutation.\n",
    "\n",
    "    # Swap the smallest entry after index inversion_point that is greater than\n",
    "    # perm[inversion_point]. Since entries in perm are decreasing after\n",
    "    # inversion_point, if we search in reverse order, the first entry that is\n",
    "    # greater than perm[inversion_point] is the entry to swap with.\n",
    "    \n",
    "    for i in reversed(range(IP + 1, len(perm))):\n",
    "        if perm[i] > perm[IP]:\n",
    "            perm[i], perm[IP] = perm[IP], perm[i]\n",
    "            break\n",
    "\n",
    "    # Entries in perm must appear in decreasing order after inversion point,\n",
    "    # so we simply reverse these entries to get the smallest dictionary order.\n",
    "    perm[IP + 1:] = reversed(perm[IP + 1:])\n",
    "    return perm"
   ]
  },
  {
   "cell_type": "markdown",
   "metadata": {
    "hidden": true
   },
   "source": [
    "The \"next permutation\" in dictionary ordering refers to finding the lexicographically next permutation of a sequence of elements. Given a sequence, the next permutation is the arrangement of the elements that appears immediately after the current arrangement in lexicographic order.\n",
    "\n",
    "Here's an algorithm to find the next permutation in dictionary ordering:\n",
    "\n",
    "1. Start from the rightmost element of the sequence and search for the first pair of adjacent elements where the left element is smaller than the right element. Let's call the index of the left element `i`.\n",
    "1. If no such pair is found, it means the current arrangement is the `last permutation`, and you can simply reverse the entire sequence to get the `first permutation`.\n",
    "1. If a pair is found, it means there is a possibility to generate a next permutation.\n",
    "1. Search for the smallest element to the right of index i that is greater than the element at index i. Let's call the index of this element `j`.\n",
    "1. Swap the elements at indices `i` and `j`.\n",
    "1. Reverse the sequence from index `i+1` to the end.\n",
    "1. The resulting arrangement is the next permutation.\n",
    "1. By repeatedly applying this algorithm, you can generate all possible permutations of a sequence in dictionary ordering."
   ]
  },
  {
   "cell_type": "code",
   "execution_count": null,
   "metadata": {
    "code_folding": [],
    "hidden": true
   },
   "outputs": [],
   "source": [
    "def next_permutation_v2(nums):\n",
    "    # Find the first pair of adjacent elements where the left element is smaller than the right element\n",
    "    i = len(nums) - 2\n",
    "    while i >= 0 and nums[i] >= nums[i + 1]:\n",
    "        i -= 1\n",
    "\n",
    "    if i >= 0:\n",
    "        # Find the smallest element to the right of index i that is greater than nums[i]\n",
    "        j = len(nums) - 1\n",
    "        while j > i and nums[j] <= nums[i]:\n",
    "            j -= 1\n",
    "\n",
    "        # Swap elements at indices i and j\n",
    "        nums[i], nums[j] = nums[j], nums[i]\n",
    "\n",
    "    # Reverse the sequence from index i+1 to the end\n",
    "    left = i + 1\n",
    "    right = len(nums) - 1\n",
    "    while left < right:\n",
    "        nums[left], nums[right] = nums[right], nums[left]\n",
    "        left += 1\n",
    "        right -= 1\n",
    "\n",
    "    return nums"
   ]
  },
  {
   "cell_type": "code",
   "execution_count": null,
   "metadata": {
    "hidden": true
   },
   "outputs": [],
   "source": [
    "print(next_permutation(list(\"1234\")))\n",
    "assert next_permutation(list(\"1234\")), next_permutation_v2(list(\"1234\"))"
   ]
  },
  {
   "cell_type": "code",
   "execution_count": null,
   "metadata": {
    "hidden": true
   },
   "outputs": [],
   "source": [
    "print(next_permutation(list(\"CAB\")))"
   ]
  },
  {
   "cell_type": "code",
   "execution_count": null,
   "metadata": {
    "hidden": true
   },
   "outputs": [],
   "source": []
  },
  {
   "cell_type": "code",
   "execution_count": null,
   "metadata": {
    "hidden": true
   },
   "outputs": [],
   "source": [
    "def _test_next_perm():\n",
    "    pass"
   ]
  },
  {
   "cell_type": "code",
   "execution_count": null,
   "metadata": {
    "hidden": true
   },
   "outputs": [],
   "source": []
  },
  {
   "cell_type": "markdown",
   "metadata": {
    "heading_collapsed": true
   },
   "source": [
    "##### Sampling Data. - [EPI: 5.12, 5.13]."
   ]
  },
  {
   "cell_type": "markdown",
   "metadata": {
    "hidden": true
   },
   "source": [
    "The **Fisher-Yates** shuffle algorithm and the **reservoir sampling** algorithm are two distinct algorithms used for different purposes, although they both involve random sampling.\n",
    "\n",
    "-   `Fisher-Yates Shuffle Algorithm`: The Fisher-Yates shuffle starts with the last element of the array and iteratively swaps each element with a randomly selected element that comes before it or is equal to it. This process continues until all elements have been shuffled.\n",
    "    ```python\n",
    "    def Fisher_Yates(A, k):\n",
    "        if k >= len(A): return A\n",
    "\n",
    "        for i in reversed(range(k, len(A))):\n",
    "            j = random.randint(0, i)\n",
    "            # Swap the elements at indices i and j\n",
    "            A[i], A[j] = A[j], A[i]\n",
    "\n",
    "        return A[:k]\n",
    "    ```\n",
    "    -   `Purpose`: The Fisher-Yates shuffle algorithm is primarily used for shuffling an array or a list in a random order. It doesn't select a subset; instead, it rearranges the elements randomly within the existing array.\n",
    "\n",
    "    -   `Usage`: It's commonly used in scenarios where you want to randomize the order of elements, such as shuffling a deck of cards, generating random permutations, or conducting randomization experiments.\n",
    "\n",
    "    -   `In-Place`: The Fisher-Yates shuffle modifies the original array in-place.\n",
    "\n",
    "    -   `Equal Probability`: The Fisher-Yates shuffle ensures that all possible permutations of the elements have an equal probability of being the result.\n",
    "\n",
    "-   `Reservoir Sampling Algorithm`: The reservoir sampling algorithm maintains a reservoir (subset) of size k while processing elements one by one. For each element, it calculates a random number and replaces an element in the reservoir with the current element if the random number falls within the desired range.\n",
    "\n",
    "    ```python\n",
    "    def reservoir_sampling(stream, k):\n",
    "        reservoir = stream[:k]\n",
    "\n",
    "        for i, packet in enumerate(stream[k:], k):\n",
    "            j = random.randint(0, i)\n",
    "            if j < k: reservoir[j] = packet\n",
    "\n",
    "        return reservoir\n",
    "    ```\n",
    "\n",
    "    -   `Purpose`: The reservoir sampling algorithm is used for selecting a random subset of a fixed size k from a larger data stream or array. It's designed for situations where you want to maintain a uniform random sample of a specified size from a potentially very large or unknown data source.\n",
    "\n",
    "    -   `Usage`: Reservoir sampling is useful in statistics, sampling from large datasets, randomized algorithms, and scenarios where you need to select a representative sample without knowing the total number of elements in advance.\n",
    "\n",
    "    -   `In-Place`: Reservoir sampling modifies the reservoir (subset) in-place but doesn't modify the original data source.\n",
    "\n",
    "    -   `Equal Probability`: Reservoir sampling ensures that every element in the data source has an equal probability of being included in the final sample of size k.\n",
    "\n",
    "- `Conclusion`: \n",
    "    - The **Fisher-Yates** shuffle is used for shuffling elements within an array. \n",
    "    - The **reservoir sampling** is used for selecting a random subset of a fixed size from a potentially large or streaming dataset.\n",
    "    - Both algorithms have their unique applications and use cases, and they differ in terms of their purpose, algorithmic approach, and how they affect the original data."
   ]
  },
  {
   "cell_type": "markdown",
   "metadata": {
    "heading_collapsed": true,
    "hidden": true
   },
   "source": [
    "###### Sample offline Data. - [EPI: 5.12]"
   ]
  },
  {
   "cell_type": "markdown",
   "metadata": {
    "hidden": true
   },
   "source": [
    "Implement an algorithm that takes as input an array of **distinct elements** and an integer `k` and returns a subset of size `k` from the given array. All subsets should be equally likely. Return the result in the input array itself."
   ]
  },
  {
   "cell_type": "code",
   "execution_count": null,
   "metadata": {
    "hidden": true
   },
   "outputs": [],
   "source": [
    "def offline_sampling(A, k):\n",
    "\n",
    "    for i in range(k):\n",
    "        # Generate a random index in [i, len(A) - 1].\n",
    "        r = randint(i, len(A)-1)\n",
    "        A[i], A[r] = A[r], A[i]"
   ]
  },
  {
   "cell_type": "code",
   "execution_count": null,
   "metadata": {
    "hidden": true
   },
   "outputs": [],
   "source": [
    "# Pythonic solution\n",
    "def offline_sampling_pythonic(A, k):\n",
    "    A[:] = sample(A, k)"
   ]
  },
  {
   "cell_type": "markdown",
   "metadata": {
    "hidden": true
   },
   "source": [
    "- `ChatGPT`: To generate a random subset of size k from an array of distinct elements in a way that all subsets are equally likely and modify the input array in place, you can use the `Fisher-Yates` shuffle algorithm."
   ]
  },
  {
   "cell_type": "code",
   "execution_count": null,
   "metadata": {
    "code_folding": [],
    "hidden": true
   },
   "outputs": [],
   "source": [
    "def random_subset(A, k):\n",
    "    if k >= len(A): return A\n",
    "    \n",
    "    for i in reversed(range(k, len(A))):\n",
    "        j = random.randint(0, i)\n",
    "        # Swap the elements at indices i and j\n",
    "        A[i], A[j] = A[j], A[i]\n",
    "\n",
    "    return A[:k]"
   ]
  },
  {
   "cell_type": "code",
   "execution_count": null,
   "metadata": {
    "code_folding": [],
    "hidden": true
   },
   "outputs": [],
   "source": [
    "def random_subset_v2(arr, k):\n",
    "    n = len(arr)\n",
    "    \n",
    "    if k >= n:\n",
    "        return arr  # No need to sample; return the original array\n",
    "    \n",
    "    # Fisher-Yates shuffle algorithm\n",
    "    for i in range(n-1, n-k-1, -1):\n",
    "        # Generate a random index between 0 and i (inclusive)\n",
    "        j = random.randint(0, i)\n",
    "        \n",
    "        # Swap the elements at indices i and j\n",
    "        arr[i], arr[j] = arr[j], arr[i]\n",
    "    \n",
    "    # The first k elements of the shuffled array form the random subset\n",
    "    return arr[:k]"
   ]
  },
  {
   "cell_type": "code",
   "execution_count": null,
   "metadata": {},
   "outputs": [],
   "source": [
    "def offline_sampling(A, k):\n",
    "    for i in range(len(A)-1, k-1, -1):\n",
    "        rand_int = randint(0, i)\n",
    "        A[i], a[rand_int] = a[rand_int], A[i]\n",
    "\n",
    "    return A[:k]"
   ]
  },
  {
   "cell_type": "code",
   "execution_count": null,
   "metadata": {
    "code_folding": [
     0
    ],
    "hidden": true
   },
   "outputs": [],
   "source": [
    "def _test_offline_sampling():\n",
    "    for _ in range(1000):\n",
    "        k = random.randint(0, 10)  # Size of the random subset\n",
    "          \n",
    "        # Simulated network packets\n",
    "        A = [\"packet\" + str(i) for i in range(random.randint(k, 1000))]\n",
    "        \n",
    "        returned1 = offline_sampling_pythonic(A, k)\n",
    "        returned2 = offline_sampling(A, k)\n",
    "        returned3 = random_subset(A, k)\n",
    "        returned4 = random_subset_v2(A, k)\n",
    "        #print(k)\n",
    "        \n",
    "        try:\n",
    "            returned1 == returned2 == returned3 == returned4\n",
    "            #print(f\"passed: k = {k}\")\n",
    "        except AssertionError as ae:\n",
    "            print(returned1, returned2, returned3)\n",
    "\n",
    "        #print(\"Random Subset of Size\", k, \"from the Stream:\")\n",
    "        #for packet in sampled_packets:\n",
    "        #    print(packet)\n",
    "# ==========================================================\n",
    "_test_offline_sampling()    "
   ]
  },
  {
   "cell_type": "markdown",
   "metadata": {
    "heading_collapsed": true,
    "hidden": true
   },
   "source": [
    "###### Sample online Data. - [EPI: 5.13]."
   ]
  },
  {
   "cell_type": "markdown",
   "metadata": {
    "hidden": true
   },
   "source": [
    "The problem is motivated by the design of a packet sniffers that provides a uniform sample of packets for network session.\n",
    "\n",
    "Design a program that takes as input a size `k`, and reads packets, continuously maintaining a uniform random subset of size `k` of the read packets."
   ]
  },
  {
   "cell_type": "code",
   "execution_count": null,
   "metadata": {
    "hidden": true
   },
   "outputs": [],
   "source": [
    "# help(itertools.islice)\n",
    "# help(random.randrange)"
   ]
  },
  {
   "cell_type": "markdown",
   "metadata": {
    "hidden": true
   },
   "source": [
    "- ChatGPT"
   ]
  },
  {
   "cell_type": "markdown",
   "metadata": {
    "hidden": true
   },
   "source": [
    "Designing a program that continuously maintains a uniform random subset of a given size k from a stream of data (in this case, network packets) is a common problem in statistics and computer science. You can achieve this using `reservoir sampling`, which is a widely-used technique for random sampling from a stream of data. Here's a Python program that accomplishes this task:"
   ]
  },
  {
   "cell_type": "code",
   "execution_count": null,
   "metadata": {
    "code_folding": [],
    "hidden": true
   },
   "outputs": [],
   "source": [
    "def reservoir_sampling_v2(stream, k):\n",
    "    reservoir = stream[:k]\n",
    "    \n",
    "    for i, packet in enumerate(stream[k:], k):\n",
    "        j = random.randint(0, i)\n",
    "        if j < k: reservoir[j] = packet\n",
    "    \n",
    "    return reservoir"
   ]
  },
  {
   "cell_type": "code",
   "execution_count": null,
   "metadata": {
    "code_folding": [],
    "hidden": true
   },
   "outputs": [],
   "source": [
    "def reservoir_sampling(stream, k):\n",
    "    reservoir = []\n",
    "    \n",
    "    for i, packet in enumerate(stream):\n",
    "        if i < k: reservoir.append(packet)\n",
    "        else:\n",
    "            # Generate a random number between 0 and i (inclusive)\n",
    "            j = random.randint(0, i)\n",
    "            \n",
    "            # If j is less than k, replace the j-th element in the reservoir\n",
    "            if j < k: reservoir[j] = packet\n",
    "    \n",
    "    return reservoir"
   ]
  },
  {
   "cell_type": "markdown",
   "metadata": {
    "hidden": true
   },
   "source": [
    "- EPI"
   ]
  },
  {
   "cell_type": "code",
   "execution_count": null,
   "metadata": {
    "code_folding": [],
    "hidden": true
   },
   "outputs": [],
   "source": [
    "# Assumption: there are at least k elements in the stream.\n",
    "def online_random_sample(stream, k):\n",
    "\n",
    "    # Stores the first k elements.\n",
    "    running_sample = list(itertools.islice(stream, k))\n",
    "\n",
    "    # Have read the first k elements.\n",
    "    num_seen_so_far = k\n",
    "    for x in stream:\n",
    "        num_seen_so_far += 1\n",
    "        # Generate a random number in [0, num_seen_so_far - 1], and if this\n",
    "        # number is in [0, k - 1], we replace that element from the sample with x.\n",
    "        idx_to_replace = random.randrange(num_seen_so_far)\n",
    "        if idx_to_replace < k: running_sample[idx_to_replace] = x\n",
    "    return running_sample"
   ]
  },
  {
   "cell_type": "code",
   "execution_count": null,
   "metadata": {
    "code_folding": [
     0
    ],
    "hidden": true
   },
   "outputs": [],
   "source": [
    "def _test_online_sampling():\n",
    "    for _ in range(1000):\n",
    "        k = random.randint(0, 10)  # Size of the random subset\n",
    "          \n",
    "        # Simulated network packets\n",
    "        packets = [\"packet\" + str(i) for i in range(random.randint(k, 1000))]\n",
    "        \n",
    "        returned1 = reservoir_sampling(packets, k)\n",
    "        returned2 = reservoir_sampling_v2(packets, k)\n",
    "        returned3 = online_random_sample(packets, k)\n",
    "        \n",
    "        try:\n",
    "            returned1 == returned2 == returned3\n",
    "            #print(f\"passed: k = {k}\")\n",
    "        except AssertionError as ae:\n",
    "            print(returned1, returned2, returned3)\n",
    "\n",
    "        #print(\"Random Subset of Size\", k, \"from the Stream:\")\n",
    "        #for packet in sampled_packets:\n",
    "        #    print(packet)\n",
    "# ==========================================================\n",
    "_test_online_sampling()"
   ]
  },
  {
   "cell_type": "markdown",
   "metadata": {
    "heading_collapsed": true
   },
   "source": [
    "##### Compute a random permutation. - [EPI: 5.14, CtCI:18.2]."
   ]
  },
  {
   "cell_type": "markdown",
   "metadata": {
    "hidden": true
   },
   "source": [
    "Generating random permutations is not as straightforward as it seems. For example, iterating through `{0,1, .., n-1}` and swapping each element with another randomly selected elements does not generate all permutations with equal probability.\n",
    "\n",
    "One way to see this is to consider the case $n = 3$. The number of permutations is $n! = 6$. The total number of ways in which we can choose the elements to swap is $3^3 = 27$ and all are equally likely. since 27 is not divisible by 6, some permutations corresponds to more ways than others, so not all permutations are equally likely."
   ]
  },
  {
   "cell_type": "markdown",
   "metadata": {
    "hidden": true
   },
   "source": [
    "Write a program that creates uniformly random permutations of `{0,1, .., n-1}`. You are given a random number generator that returns integer in the set `{0, 1, ... n-1}` with equal probability. Use as few calls to it as possible."
   ]
  },
  {
   "cell_type": "markdown",
   "metadata": {
    "hidden": true
   },
   "source": [
    "Alternatively, write a method to shuffle a deck of cards. It must be a perfect shuffle, in other words, each of the 52! permutations has to be equally likely. Assume that you are given a perfect random number generator.[CtCI:18.2] "
   ]
  },
  {
   "cell_type": "code",
   "execution_count": null,
   "metadata": {
    "hidden": true
   },
   "outputs": [],
   "source": [
    "def compute_random_permutation(n):\n",
    "\n",
    "    permutation = list(range(n))\n",
    "    offline_sampling(permutation, n)\n",
    "    return permutation"
   ]
  },
  {
   "cell_type": "markdown",
   "metadata": {
    "heading_collapsed": true
   },
   "source": [
    "##### Compute a random subset. - [EPI: 5.15]."
   ]
  },
  {
   "cell_type": "markdown",
   "metadata": {
    "hidden": true
   },
   "source": [
    "The set `{0, 1, 2, ..., n-1}` has  ${n \\choose k} = \\frac{n!}{(n-k)!k!}$ subsets of size k. We seek to design an algorithm that returns any one of these subsets with equeal probabilities.\n",
    "\n",
    "Write a progra that takes as input a positive integer `n` and a size `k <= n`, and returns a size-k subset of `{0, 1, 2, ..., n-1}`. The subset should be represented as an array. All subset should be equally likely and, in addition, all permutations of elements of the array should be equally likely. "
   ]
  },
  {
   "cell_type": "code",
   "execution_count": null,
   "metadata": {
    "hidden": true
   },
   "outputs": [],
   "source": [
    "def random_subset(n, k):\n",
    "\n",
    "    changed_elements = {}\n",
    "    for i in range(k):\n",
    "        # Generate a random index between i and n - 1, inclusive.\n",
    "        rand_idx = randrange(i, n)\n",
    "        rand_idx_mapped = changed_elements.get(rand_idx, rand_idx)\n",
    "        i_mapped = changed_elements.get(i, i)\n",
    "        changed_elements[rand_idx] = i_mapped\n",
    "        changed_elements[i] = rand_idx_mapped\n",
    "\n",
    "    return [changed_elements[i] for i in range(k)]"
   ]
  },
  {
   "cell_type": "code",
   "execution_count": null,
   "metadata": {
    "hidden": true
   },
   "outputs": [],
   "source": [
    "# Pythonic solution\n",
    "def random_subset_pythonic(n, k):\n",
    "    return random.sample(range(n), k)"
   ]
  },
  {
   "cell_type": "markdown",
   "metadata": {
    "heading_collapsed": true
   },
   "source": [
    "##### Generate non-uniform random numbers. -  [EPI: 5.16]  "
   ]
  },
  {
   "cell_type": "markdown",
   "metadata": {
    "hidden": true
   },
   "source": [
    "You are given `n` numbers as well as probabilities `[p_0, p_1, ..., p_{n-1}]`, which sum up to 1. Given a random number generator that produce values in `[0,1]` uniformly, how would you generate one of the `n` numbers according to the specified probabilities? \n",
    "\n",
    "For example, if the numbers are `[3,5,7,11]`, and the probabilities are `[9/18, 6/18, 2/18, 1/18]`. Then in $10^6$ calls to your program, 3 should appear roughly 500,000 times, 5 should appear roughly 333,333 times, 7 should appear roughly 111,111 times and 11 should appear roughly 555,555 times."
   ]
  },
  {
   "cell_type": "code",
   "execution_count": null,
   "metadata": {
    "hidden": true
   },
   "outputs": [],
   "source": [
    "def nonuniform_random_number_generation(values, probabilities):\n",
    "\n",
    "    prefix_sum_of_probabilities = list(itertools.accumulate(probabilities))\n",
    "    interval_idx = bisect.bisect(prefix_sum_of_probabilities, random())\n",
    "    return values[interval_idx]"
   ]
  },
  {
   "cell_type": "code",
   "execution_count": null,
   "metadata": {
    "hidden": true
   },
   "outputs": [],
   "source": [
    "def _test_nonuniform_random_number():\n",
    "    \n",
    "    pass"
   ]
  },
  {
   "cell_type": "code",
   "execution_count": null,
   "metadata": {
    "hidden": true
   },
   "outputs": [],
   "source": [
    "from random import random\n",
    "random()"
   ]
  },
  {
   "cell_type": "code",
   "execution_count": null,
   "metadata": {
    "hidden": true
   },
   "outputs": [],
   "source": [
    "help(bisect.bisect)"
   ]
  },
  {
   "cell_type": "markdown",
   "metadata": {
    "heading_collapsed": true
   },
   "source": [
    "##### The Sudoku checker problem. - [EPI: 5.17]"
   ]
  },
  {
   "cell_type": "code",
   "execution_count": null,
   "metadata": {
    "hidden": true
   },
   "outputs": [],
   "source": [
    "# Check if a partially filled matrix has any conflicts.\n",
    "def is_valid_sudoku(partial_assignment: List[List[int]]) -> bool:\n",
    "\n",
    "    # Return True if subarray\n",
    "    # partial_assignment[start_row:end_row][start_col:end_col] contains any\n",
    "    # duplicates in {1, 2, ..., len(partial_assignment)}; otherwise return\n",
    "    # False.\n",
    "    def has_duplicate(block):\n",
    "        block = list(filter(lambda x: x != 0, block))\n",
    "        return len(block) != len(set(block))\n",
    "\n",
    "    n = len(partial_assignment)\n",
    "    # Check row and column constraints.\n",
    "    if any(\n",
    "            has_duplicate([partial_assignment[i][j] for j in range(n)])\n",
    "            or has_duplicate([partial_assignment[j][i] for j in range(n)])\n",
    "            for i in range(n)):\n",
    "        return False\n",
    "\n",
    "    # Check region constraints.\n",
    "    region_size = int(math.sqrt(n))\n",
    "    return all(not has_duplicate([\n",
    "        partial_assignment[a][b]\n",
    "        for a in range(region_size * I, region_size * (I + 1))\n",
    "        for b in range(region_size * J, region_size * (J + 1))\n",
    "    ]) for I in range(region_size) for J in range(region_size))\n",
    "\n",
    "\n",
    "# Pythonic solution that exploits the power of list comprehension.\n",
    "def is_valid_sudoku_pythonic(partial_assignment):\n",
    "    region_size = int(math.sqrt(len(partial_assignment)))\n",
    "    return max(collections.Counter(\n",
    "        k for i, row in enumerate(partial_assignment)\n",
    "        for j, c in enumerate(row) if c != 0\n",
    "        for k in ((i, str(c)), (str(c), j),\n",
    "                  (i // region_size, j // region_size, str(c)))).values(),\n",
    "               default=0) <= 1"
   ]
  },
  {
   "cell_type": "markdown",
   "metadata": {
    "heading_collapsed": true
   },
   "source": [
    "##### Compute the spiral ordering of a 2D array. - [EPI: 5.18]"
   ]
  },
  {
   "cell_type": "markdown",
   "metadata": {
    "hidden": true
   },
   "source": [
    "Given an m x n matrix, return all elements of the matrix in spiral order."
   ]
  },
  {
   "cell_type": "markdown",
   "metadata": {
    "hidden": true
   },
   "source": [
    "<div style=\"text-align:center\" ><img src=\"../assets/spiral_order_matrix.jpg\" width=\"500\" height=\"300\" /></div>"
   ]
  },
  {
   "cell_type": "code",
   "execution_count": 15,
   "metadata": {
    "hidden": true
   },
   "outputs": [],
   "source": [
    "def spiral_order(matrix):\n",
    "    if not matrix: return []\n",
    "\n",
    "    result = []\n",
    "    top, bottom = 0, len(matrix) - 1\n",
    "    left, right = 0, len(matrix[0]) - 1\n",
    "\n",
    "    while top <= bottom and left <= right:\n",
    "        # Traverse from left to right along the top row\n",
    "        for i in range(left, right + 1): result.append(matrix[top][i])\n",
    "\n",
    "        top += 1  # Move the top boundary down\n",
    "\n",
    "        # Traverse from top to bottom along the right column\n",
    "        for i in range(top, bottom + 1): result.append(matrix[i][right])\n",
    "\n",
    "        right -= 1  # Move the right boundary left\n",
    "\n",
    "        if top <= bottom:\n",
    "            # Traverse from right to left along the bottom row\n",
    "            for i in range(right, left - 1, -1): result.append(matrix[bottom][i])\n",
    "\n",
    "            bottom -= 1  # Move the bottom boundary up\n",
    "\n",
    "        if left <= right:\n",
    "            # Traverse from bottom to top along the left column\n",
    "            for i in range(bottom, top - 1, -1): result.append(matrix[i][left])\n",
    "            \n",
    "            left += 1  # Move the left boundary right\n",
    "\n",
    "    return result"
   ]
  },
  {
   "cell_type": "code",
   "execution_count": 16,
   "metadata": {
    "hidden": true
   },
   "outputs": [],
   "source": [
    "def matrix_in_spiral_order(square_matrix: list[list[int]]) -> list[int]:\n",
    "    def matrix_layer_in_clockwise(offset):\n",
    "        if offset == len(square_matrix) - offset - 1:\n",
    "            # square_matrix has odd dimension, and we are at the center of the\n",
    "            # matrix square_matrix.\n",
    "            spiral_ordering.append(square_matrix[offset][offset])\n",
    "            return\n",
    "\n",
    "        spiral_ordering.extend(square_matrix[offset][offset:-1 - offset])\n",
    "        spiral_ordering.extend(list(zip(*square_matrix))[-1 - offset][offset:-1 - offset])\n",
    "        spiral_ordering.extend(square_matrix[-1 - offset][-1 - offset:offset:-1])\n",
    "        spiral_ordering.extend(list(zip(*square_matrix))[offset][-1 - offset:offset:-1])\n",
    "\n",
    "    spiral_ordering: list[int] = []\n",
    "    \n",
    "    for offset in range((len(square_matrix) + 1) // 2):\n",
    "        matrix_layer_in_clockwise(offset)\n",
    "    \n",
    "    return spiral_ordering"
   ]
  },
  {
   "cell_type": "code",
   "execution_count": null,
   "metadata": {
    "hidden": true
   },
   "outputs": [],
   "source": [
    "\n",
    "# Example usage:\n",
    "matrix = [\n",
    "    [1, 2, 3],\n",
    "    [4, 5, 6],\n",
    "    [7, 8, 9]\n",
    "]\n",
    "\n",
    "print(spiral_order(matrix))\n",
    "print(matrix_in_spiral_order(matrix))\n"
   ]
  },
  {
   "cell_type": "markdown",
   "metadata": {
    "heading_collapsed": true
   },
   "source": [
    "#####  Compute rows in Pascal's Traingle. - [EPI: 5.20]"
   ]
  },
  {
   "cell_type": "markdown",
   "metadata": {
    "hidden": true
   },
   "source": [
    "Given an integer numRows, return the first numRows of Pascal's triangle.\n",
    "\n",
    "In Pascal's triangle, each number is the sum of the two numbers directly above it as shown:"
   ]
  },
  {
   "cell_type": "markdown",
   "metadata": {
    "hidden": true
   },
   "source": [
    "<div style=\"text-align:center\" ><img src=\"../assets/pascals_triangle.png\" width=\"500\" height=\"300\" /></div>"
   ]
  },
  {
   "cell_type": "code",
   "execution_count": null,
   "metadata": {
    "hidden": true
   },
   "outputs": [],
   "source": [
    "def generate_pascal_triangle(n: int) -> List[List[int]]:\n",
    "\n",
    "    result = [[1] * (i + 1) for i in range(n)]\n",
    "    \n",
    "    for i in range(2, n):\n",
    "        for j in range(1, i):\n",
    "            # Sets this entry to the sum of the two above adjacent entries.\n",
    "            result[i][j] = result[i-1][j-1] + result[i-1][j]\n",
    "    return result"
   ]
  },
  {
   "cell_type": "code",
   "execution_count": null,
   "metadata": {
    "hidden": true
   },
   "outputs": [],
   "source": [
    "def generate_pascal_triangle(n: int) -> List[List[int]]:\n",
    "\n",
    "    result = [[1] * (i + 1) for i in range(n)]\n",
    "    \n",
    "    for i in range(2, n):\n",
    "        for j in range(1, len(result[i])-1):\n",
    "            # Sets this entry to the sum of the two above adjacent entries.\n",
    "            result[i][j] = result[i-1][j-1] + result[i-1][j]\n",
    "    return result"
   ]
  },
  {
   "cell_type": "code",
   "execution_count": null,
   "metadata": {},
   "outputs": [],
   "source": [
    "\n",
    "# Example usage:\n",
    "num_rows = 5\n",
    "triangle = generate_pascal_triangle(num_rows)\n",
    "for row in triangle:\n",
    "    print(row)"
   ]
  },
  {
   "cell_type": "markdown",
   "metadata": {},
   "source": [
    "####  <b style='color:#C71585'>Collected Problems</b>"
   ]
  },
  {
   "cell_type": "markdown",
   "metadata": {
    "heading_collapsed": true
   },
   "source": [
    "##### [Group Anagram](https://leetcode.com/problems/group-anagrams/)"
   ]
  },
  {
   "cell_type": "markdown",
   "metadata": {
    "hidden": true
   },
   "source": [
    "Given an array of strings strs, group the anagrams together. You can return the answer in any order.\n",
    "\n",
    "An Anagram is a word or phrase formed by rearranging the letters of a different word or phrase, typically using all the original letters exactly once.\n",
    "\n",
    "\n",
    "-   Example 1:\n",
    "    - Input: strs = [\"eat\",\"tea\",\"tan\",\"ate\",\"nat\",\"bat\"]\n",
    "    - Output: [[\"bat\"],[\"nat\",\"tan\"],[\"ate\",\"eat\",\"tea\"]]\n",
    "\n",
    "-   Example 2:\n",
    "    - Input: strs = [\"\"]\n",
    "    - Output: [[\"\"]]\n",
    "\n",
    "-   Example 3:\n",
    "    - Input: strs = [\"a\"]\n",
    "    - Output: [[\"a\"]]\n",
    " \n",
    "\n",
    "- Constraints:\n",
    "\n",
    "    1. `1 <= strs.length <= 104`\n",
    "    2. `0 <= strs[i].length <= 100`\n",
    "    3. `strs[i] consists of lowercase English letters.`"
   ]
  },
  {
   "cell_type": "code",
   "execution_count": 12,
   "metadata": {
    "hidden": true
   },
   "outputs": [],
   "source": [
    "def groupAnagrams(strs: List[str]) -> List[List[str]]:\n",
    "    ans = collections.defaultdict(list)\n",
    "\n",
    "    for s in strs:\n",
    "        count = [0] * 26\n",
    "        for c in s:\n",
    "            count[ord(c) - ord('a')] += 1\n",
    "        ans[tuple(count)].append(s)\n",
    "    return ans.values()"
   ]
  },
  {
   "cell_type": "code",
   "execution_count": 4,
   "metadata": {
    "hidden": true
   },
   "outputs": [],
   "source": [
    "def group_anagrams(strs: list[str]):\n",
    "    anagrams = {}\n",
    "    \n",
    "    for string in strs:\n",
    "        cur_str = ''.join(sorted(string))\n",
    "        if cur_str not in anagrams: anagrams[cur_str] = []\n",
    "        anagrams[cur_str].append(string)\n",
    "    \n",
    "    return list(anagrams.values())\n",
    "    "
   ]
  },
  {
   "cell_type": "code",
   "execution_count": 15,
   "metadata": {
    "hidden": true
   },
   "outputs": [],
   "source": [
    "def group_anagrams_v2(strs: list[str]):\n",
    "    anagrams = collections.defaultdict(list)\n",
    "    \n",
    "    for string in strs:\n",
    "        cur_str = ''.join(sorted(string))\n",
    "        anagrams[cur_str].append(string)\n",
    "    \n",
    "    return list(anagrams.values())\n",
    "    "
   ]
  },
  {
   "cell_type": "code",
   "execution_count": 16,
   "metadata": {
    "hidden": true
   },
   "outputs": [],
   "source": [
    "## INCORRECT ALGORITHM\n",
    "def group_anagrams_v3(strs: list[str]):\n",
    "    anagrams = {}\n",
    "    \n",
    "    for string in strs:\n",
    "        cur_str = ''.join(sorted(string))\n",
    "        anagrams.get(cur_str, []).append(string) ## INCORRECT!!!\n",
    "        print(anagrams)\n",
    "    \n",
    "    return list(anagrams.values())\n",
    "    "
   ]
  },
  {
   "cell_type": "code",
   "execution_count": 17,
   "metadata": {
    "hidden": true
   },
   "outputs": [],
   "source": [
    "def test_group_anagrams():\n",
    "    test_cases = DATA['group_anagrams']\n",
    "    for given, expected in test_cases:\n",
    "#         print(f\"\\tGiven: {given} \\n\\tExpected: {expected} \\n{'='*40}\")\n",
    "        try:\n",
    "            returned = group_anagrams_v2(given)\n",
    "            assert returned == expected\n",
    "        except:\n",
    "            print(f\"{red('TEST FAILD')} for the following inputs\")\n",
    "            print(f\"\\tGiven: {given} \\n\\tReturned: {returned} \\n\\tExpected: {expected}\")\n",
    "# =============================================================================\n",
    "\n",
    "test_group_anagrams()"
   ]
  },
  {
   "cell_type": "markdown",
   "metadata": {},
   "source": [
    "##### Find the contiguous sequence with the largest sum and return it. || <b style=\"color:orange\">***</b>"
   ]
  },
  {
   "cell_type": "markdown",
   "metadata": {},
   "source": [
    "\n",
    "You are given an array of integers (both positive and negative). Find the contiguous sequence with the largest sum. Return the sequence.\n",
    "\n",
    "-   EXAMPLE\n",
    "    -   Input:[2, -8, 3, -2, 4, -10]\n",
    "    -   Output: [3, -2, 4]"
   ]
  },
  {
   "cell_type": "code",
   "execution_count": null,
   "metadata": {},
   "outputs": [],
   "source": [
    "def max_contiguous_subarray(arr):\n",
    "    max_sum = float('-inf')  # Initialize to smallest possible number\n",
    "    current_sum = 0\n",
    "\n",
    "    start = 0  # Start index of current subarray\n",
    "    end = 0    # End index of maximum sum subarray\n",
    "    temp_start = 0  # Temporary start index for the current subarray\n",
    "\n",
    "    for i, num in enumerate(arr):\n",
    "        current_sum += num\n",
    "\n",
    "        # Update max_sum and indices if a new max is found\n",
    "        if current_sum > max_sum:\n",
    "            max_sum = current_sum\n",
    "            start = temp_start\n",
    "            end = i\n",
    "\n",
    "        # Reset current_sum if it goes negative\n",
    "        if current_sum < 0:\n",
    "            current_sum = 0\n",
    "            temp_start = i + 1\n",
    "\n",
    "    # Return the subarray using the calculated indices\n",
    "    return arr[start:end + 1]"
   ]
  },
  {
   "cell_type": "code",
   "execution_count": null,
   "metadata": {},
   "outputs": [
    {
     "name": "stdout",
     "output_type": "stream",
     "text": [
      "The maximum contiguous subarray is: [3, -2, 4]\n"
     ]
    }
   ],
   "source": [
    "# Example\n",
    "input_array = [2, -8, 3, -2, 4, -10]\n",
    "result = max_contiguous_subarray(input_array)\n",
    "print(f\"The maximum contiguous subarray is: {result}\")"
   ]
  },
  {
   "cell_type": "markdown",
   "metadata": {},
   "source": [
    "##### [228. Summary Ranges](https://leetcode.com/problems/summary-ranges/description/) || <b style=\"color:orange\">***</b>"
   ]
  },
  {
   "cell_type": "markdown",
   "metadata": {},
   "source": [
    "You are given a `sorted` unique integer array `nums`. \n",
    "\n",
    "A range `[a,b]` is the set of all integers from a to b (inclusive).\n",
    "\n",
    "Return the smallest sorted list of ranges that cover all the numbers in the array exactly. That is, each element of nums is covered by exactly one of the ranges, and there is no integer x such that x is in one of the ranges but not in nums.\n",
    "\n",
    "-   Each range `[a,b]` in the list should be output as:\n",
    "\n",
    "    -   \"a->b\" if a != b\n",
    "    -   \"a\" if a == b\n",
    " \n",
    "\n",
    "-   **Example 1**:\n",
    "\n",
    "    -   `Input`: nums = [0,1,2,4,5,7]\n",
    "    -   `Output`: [\"0->2\",\"4->5\",\"7\"]\n",
    "    -   `Explanation`: The ranges are:\n",
    "        [0,2] --> \"0->2\"\n",
    "        [4,5] --> \"4->5\"\n",
    "        [7,7] --> \"7\"\n",
    "\n",
    "-   **Example 2**:\n",
    "\n",
    "    -   `Input`: nums = [0,2,3,4,6,8,9]\n",
    "    -   `Output`: [\"0\",\"2->4\",\"6\",\"8->9\"]\n",
    "    -   `Explanation`: The ranges are:\n",
    "        [0,0] --> \"0\"\n",
    "        [2,4] --> \"2->4\"\n",
    "        [6,6] --> \"6\"\n",
    "        [8,9] --> \"8->9\"\n"
   ]
  },
  {
   "cell_type": "code",
   "execution_count": null,
   "metadata": {},
   "outputs": [],
   "source": [
    "def summary_ranges(nums):\n",
    "\n",
    "    if not nums: return []\n",
    "    result, left = [], 0\n",
    "\n",
    "    for right, num in enumerate(nums[1:], 1):\n",
    "        if num != nums[right-1] + 1:\n",
    "            if nums[right-1] == nums[left]: result.append(str(nums[right-1]))\n",
    "            else: result.append(f\"{nums[left]}->{nums[right-1]}\")\n",
    "\n",
    "            left = right\n",
    "\n",
    "    if left == right: result.append(str(nums[-1]))\n",
    "    else: result.append(f\"{nums[left]}->{nums[-1]}\")\n",
    "\n",
    "    return result"
   ]
  },
  {
   "cell_type": "code",
   "execution_count": null,
   "metadata": {},
   "outputs": [
    {
     "name": "stdout",
     "output_type": "stream",
     "text": [
      "['0->2', '4->5', '7']\n",
      "['0', '2->4', '6', '8->9']\n"
     ]
    }
   ],
   "source": [
    "# Example usage:\n",
    "print(summary_ranges([0, 1, 2, 4, 5, 7]))     # Output: [\"0->2\", \"4->5\", \"7\"]\n",
    "print(summary_ranges([0, 2, 3, 4, 6, 8, 9]))  # Output: [\"0\", \"2->4\", \"6\", \"8->9\"]"
   ]
  },
  {
   "cell_type": "code",
   "execution_count": null,
   "metadata": {},
   "outputs": [],
   "source": [
    "def summary_ranges(nums):\n",
    "\n",
    "    if not nums: return []\n",
    "    result, left_edge = [], nums[0]\n",
    "\n",
    "    for i, num in enumerate(nums[1:], 1):\n",
    "        if num != nums[i-1] + 1:\n",
    "            if nums[i-1] == left_edge: result.append(str(nums[i-1]))\n",
    "            else: result.append(f\"{left_edge}->{nums[i-1]}\")\n",
    "            left_edge = num\n",
    "    \n",
    "    if nums[-1] != left_edge: result.append(f\"{left_edge}->{nums[-1]}\")\n",
    "    else: result.append(str(nums[-1]))\n",
    "\n",
    "    return result"
   ]
  },
  {
   "cell_type": "code",
   "execution_count": null,
   "metadata": {},
   "outputs": [],
   "source": [
    "def summary_ranges(nums):\n",
    "    if not nums: return []\n",
    "    \n",
    "    ranges = []\n",
    "    start = end = nums[0]\n",
    "    \n",
    "    for i in range(1, len(nums)):\n",
    "        if nums[i] == end + 1: end = nums[i]\n",
    "        else:\n",
    "            if start == end: ranges.append(f\"{start}\")\n",
    "            else           : ranges.append(f\"{start}->{end}\")\n",
    "\n",
    "            start = end = nums[i]\n",
    "    \n",
    "    # Add the last range\n",
    "    if start == end: ranges.append(f\"{start}\")\n",
    "    else           : ranges.append(f\"{start}->{end}\")\n",
    "    \n",
    "    return ranges"
   ]
  },
  {
   "cell_type": "markdown",
   "metadata": {
    "heading_collapsed": true
   },
   "source": [
    "##### Given a list, write a python function to generate all the subarrays of it"
   ]
  },
  {
   "cell_type": "code",
   "execution_count": null,
   "metadata": {
    "hidden": true
   },
   "outputs": [],
   "source": [
    "max([1, 2, 3, 4, 5])"
   ]
  },
  {
   "cell_type": "code",
   "execution_count": null,
   "metadata": {
    "hidden": true
   },
   "outputs": [],
   "source": [
    "def generate_subarrays(lst):\n",
    "    subarrays = []\n",
    "    for start in range(len(lst)):\n",
    "        for end in range(start + 1, len(lst) + 1):\n",
    "            subarrays.append(lst[start:end])\n",
    "    return subarrays\n",
    "\n",
    "# Example usage\n",
    "example_list = [1, 2, 3]\n",
    "print(generate_subarrays(example_list))"
   ]
  },
  {
   "cell_type": "markdown",
   "metadata": {
    "hidden": true
   },
   "source": [
    "- **Explanation**:\n",
    "    - The outer loop (`for start in range(len(lst))`) iterates through each possible starting index of a subarray.\n",
    "    - The inner loop (`for end in range(start + 1, len(lst) + 1)`) iterates through each possible ending index for the subarray starting at `start`.\n",
    "    - `lst[start:end]` slices the list to create a subarray from index `start` to `end-1`.\n",
    "    - Each generated subarray is appended to the `subarrays` list.\n",
    "    - Finally, the function returns the list of all subarrays.\n",
    "\n",
    "    This will print all subarrays of the list `[1, 2, 3]`:\n",
    "\n",
    "    ```\n",
    "    [[1], [1, 2], [1, 2, 3], [2], [2, 3], [3]]\n",
    "    ```"
   ]
  },
  {
   "cell_type": "markdown",
   "metadata": {
    "heading_collapsed": true
   },
   "source": [
    "##### Subarrays containing the largest item `k` times."
   ]
  },
  {
   "cell_type": "markdown",
   "metadata": {},
   "source": [
    "Given a list `L` and an integer `k`, write a function to generate all the subarrays that contains the largest item of the given list at least `k` times."
   ]
  },
  {
   "cell_type": "code",
   "execution_count": null,
   "metadata": {
    "hidden": true
   },
   "outputs": [],
   "source": [
    "def generate_subarrays_with_max_k_times(lst, k):\n",
    "    max_element = max(lst)\n",
    "    subarrays = []\n",
    "\n",
    "    for start in range(len(lst)):\n",
    "        count = 0\n",
    "        for end in range(start, len(lst)):\n",
    "            if lst[end] == max_element: count += 1\n",
    "            if count >= k: subarrays.append(lst[start: end+1])\n",
    "\n",
    "    return subarrays"
   ]
  },
  {
   "cell_type": "code",
   "execution_count": null,
   "metadata": {
    "hidden": true
   },
   "outputs": [],
   "source": [
    "def generate_subarrays_with_max_k_times_v2(L):\n",
    "    arr_max = max(L)\n",
    "    maxs = []\n",
    "\n",
    "    for i in range(len(L)):\n",
    "        max_count = 0\n",
    "        for j in range(i, len(L)):\n",
    "            if L[j] == arr_max: max_count += 1\n",
    "            if max_count >= 2: maxs.append(L[i:j+1])\n",
    "\n",
    "    return maxs\n",
    "\n",
    "# print(generate_subarrays([5, 1, 5, 2, 3, 4, 5]))"
   ]
  },
  {
   "cell_type": "code",
   "execution_count": null,
   "metadata": {
    "hidden": true
   },
   "outputs": [],
   "source": [
    "# Example usage\n",
    "# example_list = [1, 3, 2, 3, 1, 3]\n",
    "example_list = [2,4,1,4,4]\n",
    "k = 2\n",
    "print(generate_subarrays_with_max_k_times(example_list, k))"
   ]
  },
  {
   "cell_type": "code",
   "execution_count": null,
   "metadata": {},
   "outputs": [],
   "source": []
  },
  {
   "cell_type": "markdown",
   "metadata": {},
   "source": [
    "##### [1588. Sum of All Odd Length Subarrays](https://leetcode.com/problems/sum-of-all-odd-length-subarrays/description/) || <b style=\"color:orange\">***</b>"
   ]
  },
  {
   "cell_type": "markdown",
   "metadata": {},
   "source": [
    "Given an array of positive integers `arr`, return the sum of all possible odd-length subarrays of `arr`.\n",
    "\n",
    "A subarray is a contiguous subsequence of the array."
   ]
  },
  {
   "cell_type": "code",
   "execution_count": 78,
   "metadata": {},
   "outputs": [],
   "source": [
    "def sum_odd_length_subarrays(arr):\n",
    "    total_sum = 0\n",
    "    n = len(arr)\n",
    "    \n",
    "    # Iterate over all possible starting points of subarrays\n",
    "    for start in range(n):\n",
    "        # Iterate over all possible lengths of subarrays\n",
    "        for length in range(1, n-start + 1, 2):  # Step by 2 to get only odd lengths\n",
    "            subarray_sum = sum(arr[start: start+length])\n",
    "            total_sum += subarray_sum\n",
    "    \n",
    "    return total_sum"
   ]
  },
  {
   "cell_type": "code",
   "execution_count": 79,
   "metadata": {},
   "outputs": [],
   "source": [
    "def sum_odd_length_subarrays_v2(arr):\n",
    "    total_sum = 0\n",
    "    n = len(arr)\n",
    "\n",
    "    for i in range(len(arr)):\n",
    "        for j in range(i, len(arr)):\n",
    "            if (j+1 - i) % 2 != 0:\n",
    "                total_sum += sum(arr[i: j+1])\n",
    "    return total_sum"
   ]
  },
  {
   "cell_type": "code",
   "execution_count": 84,
   "metadata": {},
   "outputs": [
    {
     "name": "stdout",
     "output_type": "stream",
     "text": [
      "66\n"
     ]
    }
   ],
   "source": [
    "def sum_odd_length_subarrays_v3(arr):\n",
    "    n = len(arr)\n",
    "    sums = []\n",
    "    for i in range(len(arr)):\n",
    "        total = 0\n",
    "        for j in range(i, len(arr)):\n",
    "            total += arr[j]\n",
    "            if (j - i) % 2 == 0:\n",
    "                sums.append(total)\n",
    "    return sum(sums)\n",
    "\n",
    "print(sum_odd_length_subarrays_v3([10, 11, 12]))    # Output: 58\n"
   ]
  },
  {
   "cell_type": "code",
   "execution_count": 86,
   "metadata": {},
   "outputs": [
    {
     "name": "stdout",
     "output_type": "stream",
     "text": [
      "[5, 12, 6, 14, 7, 8]\n",
      "52\n"
     ]
    }
   ],
   "source": [
    "def sum_even_length_subarrays(arr):\n",
    "    n = len(arr)\n",
    "    sums = []\n",
    "    for i in range(len(arr)):\n",
    "        total = 0\n",
    "        for j in range(i, len(arr)):\n",
    "            total += arr[j]\n",
    "            if (j - i) % 2 != 0:\n",
    "                sums.append(total)\n",
    "    print(sums)\n",
    "    return sum(sums)\n",
    "\n",
    "print(sum_even_length_subarrays([1, 4, 2, 5, 3]))    # Output: 58\n"
   ]
  },
  {
   "cell_type": "code",
   "execution_count": 82,
   "metadata": {},
   "outputs": [],
   "source": [
    "def _test_sum_odd_length_sumarrar():\n",
    "    test_cases = [([1, 2], 3), ([1, 4, 2, 5, 3], 58), ([10, 11, 12], 66)]\n",
    "    functions = [sum_odd_length_subarrays, sum_odd_length_subarrays_v2, sum_odd_length_subarrays_v3]\n",
    "    for function in functions:\n",
    "        for test_case, expected in test_cases:\n",
    "            returned = function(test_case)\n",
    "            try:\n",
    "                assert returned == expected\n",
    "            except:\n",
    "                print(f\"{function.__name__}\")\n",
    "# ===========================================================================\n",
    "_test_sum_odd_length_sumarrar()"
   ]
  },
  {
   "cell_type": "markdown",
   "metadata": {},
   "source": [
    "-   **Follow up**: \n",
    "    -   Sum of all even length subarray\n",
    "    -   Could you solve this problem in $O(n)$ time complexity?"
   ]
  },
  {
   "cell_type": "code",
   "execution_count": null,
   "metadata": {},
   "outputs": [],
   "source": [
    "def sum_odd_length_subarrays_v2(arr):\n",
    "    total_sum = 0\n",
    "    n = len(arr)\n",
    "    \n",
    "    for i in range(n):\n",
    "        end_count = i + 1\n",
    "        start_count = n - i\n",
    "        total_subarrays = end_count * start_count\n",
    "        odd_length_subarrays = (total_subarrays + 1) // 2\n",
    "        \n",
    "        total_sum += arr[i] * odd_length_subarrays\n",
    "    \n",
    "    return total_sum"
   ]
  },
  {
   "cell_type": "markdown",
   "metadata": {},
   "source": [
    "To solve the problem of finding the sum of all possible odd-length subarrays of an array `arr`, we need to consider every subarray of the array that has an odd length and calculate its sum. We can approach this problem using a brute-force method, iterating through all possible odd-length subarrays and summing their elements. However, a more efficient approach is to consider the contribution of each element in the array to the sum of all odd-length subarrays directly.\n",
    "\n",
    "- **Detailed Explanation**\n",
    "\n",
    "    1. **Identify Subarrays**: Each element in the array `arr` will be part of multiple subarrays. Specifically, for each element at index `i`:\n",
    "       - It will be the start of some subarrays.\n",
    "       - It will be the end of some subarrays.\n",
    "       - The length of the subarrays will vary.\n",
    "\n",
    "    2. **Calculate Contribution of Each Element**:\n",
    "       - For an element at index `i`, it contributes to subarrays starting from any previous index `j` to the current index `i` where `(i - j + 1)` is odd.\n",
    "       - Count the total number of subarrays in which the element at index `i` participates and is of odd length.\n",
    "\n",
    "    3. **Mathematical Insight**:\n",
    "       - If an element at position `i` is part of an odd-length subarray, we need to consider all subarrays which have lengths `1, 3, 5, ...` and so on.\n",
    "       - Instead of explicitly generating subarrays, we can count how many such odd-length subarrays an element is part of.\n",
    "\n",
    "- **Efficient Approach**: To achieve this efficiently, we calculate the total number of subarrays that include each element at index `i` and then filter out the odd-length ones. Here's a simple mathematical approach:\n",
    "    - For an element at index `i` in an array of length `n`:\n",
    "        - The number of subarrays that include `arr[i]` is given by `(i + 1) * (n - i)` since it can start from any index `0` to `i` and end from any index `i` to `n-1`.\n",
    "        - Among these subarrays, the number of odd-length subarrays can be derived by counting the odd-length subarrays specifically.\n"
   ]
  },
  {
   "cell_type": "markdown",
   "metadata": {},
   "source": [
    "##### Find the subarray that sums up to zero from the array of integers. - [ByteByByte](https://www.youtube.com/watch?v=hLcYp67wCcM&list=PLNmW52ef0uwsjnM06LweaYEZr-wjPKBnj&index=17)"
   ]
  },
  {
   "cell_type": "markdown",
   "metadata": {},
   "source": [
    "Given an array of integers (`positive` and `negative`), find the subarray that sums up to zero."
   ]
  },
  {
   "cell_type": "code",
   "execution_count": 58,
   "metadata": {},
   "outputs": [],
   "source": [
    "def subarray_with_sum_zero(arr):\n",
    "    # Create a dictionary to store the cumulative sum and its corresponding index\n",
    "    cumulative_sum_map = {}\n",
    "    # Initialize the cumulative sum to 0\n",
    "    cumulative_sum = 0\n",
    "    \n",
    "    # Iterate over the array\n",
    "    for index, value in enumerate(arr):\n",
    "        # Add the current value to the cumulative sum\n",
    "        cumulative_sum += value\n",
    "        \n",
    "        # If the cumulative sum is zero, we found a subarray from the beginning to the current index\n",
    "        if cumulative_sum == 0:\n",
    "            return arr[:index + 1]\n",
    "        \n",
    "        # If the cumulative sum has been seen before, we found a subarray with sum zero\n",
    "        if cumulative_sum in cumulative_sum_map:\n",
    "            start_index = cumulative_sum_map[cumulative_sum] + 1\n",
    "            return arr[start_index:index + 1]\n",
    "        \n",
    "        # Store the cumulative sum and its index in the map\n",
    "        cumulative_sum_map[cumulative_sum] = index\n",
    "    \n",
    "    # If no subarray with sum zero is found, return an empty list\n",
    "    return []"
   ]
  },
  {
   "cell_type": "markdown",
   "metadata": {},
   "source": [
    "- **Why It Works**:\n",
    "    - **Zero Sum from Start**: If at any point the cumulative sum is zero, it means that the subarray from the start of the array to the current index has a sum of zero.\n",
    "    - **Repeated Cumulative Sum**: If a cumulative sum is repeated, it means the elements between the two occurrences of this sum have a sum of zero. This is because the difference between the two sums is zero, indicating a subarray with a zero sum."
   ]
  },
  {
   "cell_type": "code",
   "execution_count": 59,
   "metadata": {},
   "outputs": [],
   "source": [
    "def subarray_with_sum_zero_v2(nums):\n",
    "    sum_dict = {0: -1}  # Initialize the sum dictionary with a dummy value\n",
    "    current_sum = 0\n",
    "\n",
    "    for i in range(len(nums)):\n",
    "        current_sum += nums[i]\n",
    "\n",
    "        if current_sum == 0:\n",
    "            return nums[:i+1]\n",
    "\n",
    "        if current_sum in sum_dict:\n",
    "            start_index = sum_dict[current_sum] + 1\n",
    "            return nums[start_index : i+1]\n",
    "\n",
    "        sum_dict[current_sum] = i\n",
    "\n",
    "    return []"
   ]
  },
  {
   "cell_type": "code",
   "execution_count": 60,
   "metadata": {},
   "outputs": [],
   "source": [
    "# Function to print all sublists with a zero-sum present in a given list\n",
    "def subarray_with_sum_zero_v3(nums):\n",
    " \n",
    "    # consider all sublists starting from `i`\n",
    "    for i in range(len(nums)):\n",
    "        total = 0\n",
    "        # consider all sublists ending at `j`\n",
    "        for j in range(i, len(nums)):\n",
    "            # sum of elements so far\n",
    "            total += nums[j]\n",
    "            # if the sum is seen before, we have found a sublist with zero-sum\n",
    "            if total == 0:\n",
    "                return nums[i:j+1]\n",
    "    return []"
   ]
  },
  {
   "cell_type": "code",
   "execution_count": 62,
   "metadata": {},
   "outputs": [],
   "source": [
    "def _test_subarray_sum_zero():\n",
    "    L = [[[], []], [[0], [0]], [[2,-1,1,3], [-1,1]], [[2,-1,1,1,-1], [-1,1]], \n",
    "         [[-1,-1,2], [-1,-1,2]], [[1,1,4,-2,-2, 5], [4,-2,-2]], [[4, 2, -3, 1, 6, -7], [2, -3, 1]]]\n",
    "    \n",
    "    for function in [subarray_with_sum_zero, subarray_with_sum_zero_v2, subarray_with_sum_zero_v3]:\n",
    "        for test_case, expected in L:\n",
    "            returned = function(test_case)\n",
    "            try:\n",
    "                assert returned == expected\n",
    "                # print(green('PASSED'))\n",
    "            except:\n",
    "                print(red(f\"FAILED {function.__name__}({test_case})\"))\n",
    "                print(red(f\"Returned: {returned}\", f\"Expected: {expected}\"))\n",
    "\n",
    "_test_subarray_sum_zero()"
   ]
  },
  {
   "cell_type": "markdown",
   "metadata": {},
   "source": [
    "##### [1567. Maximum Length of Subarray With Positive Product](https://leetcode.com/problems/maximum-length-of-subarray-with-positive-product/description/)"
   ]
  },
  {
   "cell_type": "markdown",
   "metadata": {},
   "source": [
    "Given an array of integers nums, find the maximum length of a subarray where the product of all its elements is positive.\n",
    "\n",
    "A subarray of an array is a consecutive sequence of zero or more values taken out of that array.\n",
    "\n",
    "Return the maximum length of a subarray with positive product.\n",
    "\n",
    " \n",
    "\n",
    "\n",
    "-   **Example 1**:\n",
    "\n",
    "    -   `Input`: nums = [1,-2,-3,4]\n",
    "    -   `Output`: 4\n",
    "    -   `Explanation`: The array nums already has a positive product of 24.\n",
    "\n",
    "-   **Example 2**:\n",
    "\n",
    "    -   `Input`: nums = [0,1,-2,-3,-4]\n",
    "    -   `Output`: 3\n",
    "    -   `Explanation`: The longest subarray with positive product is [1,-2,-3] which has a product of 6. Notice that we cannot include 0 in the subarray since that'll make the product 0 which is not positive.\n",
    "\n",
    "-   **Example 3**:\n",
    "\n",
    "    -   `Input`: nums = [-1,-2,-3,0,1]\n",
    "    -   `Output`: 2\n",
    "    -   `Explanation`: The longest subarray with positive product is [-1,-2] or [-2,-3].\n",
    " \n",
    "\n",
    "-   **Constraints**:\n",
    "\n",
    "    -   $1 <= nums.length <= 10^5$\n",
    "    -   $-10^9 <= nums[i] <= 10^9$"
   ]
  },
  {
   "cell_type": "code",
   "execution_count": null,
   "metadata": {},
   "outputs": [],
   "source": [
    "## FAILED the Test\n",
    "def getMaxLen(nums):\n",
    "    max_len = 0\n",
    "    start = 0\n",
    "    negative_count = 0\n",
    "    first_negative = -1\n",
    "    last_negative = -1\n",
    "\n",
    "    # Left to Right Pass\n",
    "    for i, num in enumerate(nums):\n",
    "        if num == 0:\n",
    "            # Reset tracking variables\n",
    "            start = i + 1\n",
    "            negative_count = 0\n",
    "            first_negative = -1\n",
    "            last_negative = -1\n",
    "        else:\n",
    "            if num < 0:\n",
    "                negative_count += 1\n",
    "                if first_negative == -1:\n",
    "                    first_negative = i\n",
    "                last_negative = i\n",
    "\n",
    "            if negative_count % 2 == 0:\n",
    "                max_len = max(max_len, i - start + 1)\n",
    "            else:\n",
    "                max_len = max(max_len, i - first_negative)\n",
    "\n",
    "    # Right to Left Pass\n",
    "    start = len(nums)\n",
    "    negative_count = 0\n",
    "    first_negative = -1\n",
    "\n",
    "    for i in range(len(nums) - 1, -1, -1):\n",
    "        num = nums[i]\n",
    "        if num == 0:\n",
    "            # Reset tracking variables\n",
    "            start = i - 1\n",
    "            negative_count = 0\n",
    "            first_negative = -1\n",
    "        else:\n",
    "            if num < 0:\n",
    "                negative_count += 1\n",
    "                if first_negative == -1:\n",
    "                    first_negative = i\n",
    "\n",
    "            if negative_count % 2 == 0:\n",
    "                max_len = max(max_len, start - i + 1)\n",
    "            else:\n",
    "                max_len = max(max_len, first_negative - i)\n",
    "\n",
    "    return max_len"
   ]
  },
  {
   "cell_type": "code",
   "execution_count": null,
   "metadata": {},
   "outputs": [],
   "source": [
    "# Examples\n",
    "print(getMaxLen([1, -2, -3, 4]))         # Output: 4\n",
    "print(getMaxLen([0, 1, -2, -3, -4]))     # Output: 3\n",
    "print(getMaxLen([-1, -2, -3, 0, 1]))     # Output: 2\n"
   ]
  },
  {
   "cell_type": "markdown",
   "metadata": {},
   "source": [
    "### <b style='color:#FF4500'>Greedy Algorithms</b>:"
   ]
  },
  {
   "cell_type": "markdown",
   "metadata": {},
   "source": [
    "####  <b style='color:#C71585'>Collected Problems</b>"
   ]
  },
  {
   "cell_type": "markdown",
   "metadata": {},
   "source": [
    "##### [621. Task Scheduler](https://leetcode.com/problems/task-scheduler/description/) | [neetcode](https://www.youtube.com/watch?v=s8p8ukTyA2I)"
   ]
  },
  {
   "cell_type": "markdown",
   "metadata": {},
   "source": [
    "You are given an array of CPU tasks, each represented by letters A to Z, and a cooling time, n. Each cycle or interval allows the completion of one task. Tasks can be completed in any order, but there's a constraint: identical tasks must be separated by at least n intervals due to cooling time.\n",
    "\n",
    "​Return the minimum number of intervals required to complete all tasks."
   ]
  },
  {
   "cell_type": "code",
   "execution_count": null,
   "metadata": {},
   "outputs": [],
   "source": [
    "def leastInterval(tasks: List[str], n: int) -> int:\n",
    "    count = Counter(tasks)\n",
    "    maxHeap = [-cnt for cnt in count.values()]\n",
    "    heapq.heapify(maxHeap)\n",
    "\n",
    "    time = 0\n",
    "    q = deque()  # pairs of [-cnt, idleTime]\n",
    "    while maxHeap or q:\n",
    "        time += 1\n",
    "\n",
    "        if not maxHeap:\n",
    "            time = q[0][1]\n",
    "        else:\n",
    "            cnt = 1 + heapq.heappop(maxHeap)\n",
    "            if cnt:\n",
    "                q.append([cnt, time + n])\n",
    "        if q and q[0][1] == time:\n",
    "            heapq.heappush(maxHeap, q.popleft()[0])\n",
    "    return time\n",
    "\n",
    "\n",
    "# Greedy algorithm\n",
    "def leastInterval(tasks: List[str], n: int) -> int:\n",
    "    counter = Counter(tasks)\n",
    "    max_count = max(counter.values())\n",
    "    min_time = (max_count - 1) * (n + 1) + \\\n",
    "                sum(map(lambda count: count == max_count, counter.values()))\n",
    "\n",
    "    return max(min_time, len(tasks))"
   ]
  },
  {
   "cell_type": "markdown",
   "metadata": {},
   "source": [
    "##### Two Sum I"
   ]
  },
  {
   "cell_type": "markdown",
   "metadata": {},
   "source": [
    "Given an array of integers `nums` and an integer `target`, return the indices `i` and `j` such that `nums[i] + nums[j] == target` and `i != j`.\n",
    "\n",
    "You may assume that every input has exactly one pair of indices `i` and `j` that satisfy the condition.\n",
    "\n",
    "Return the answer with the smaller index first."
   ]
  },
  {
   "cell_type": "code",
   "execution_count": null,
   "metadata": {},
   "outputs": [],
   "source": [
    "def two_sum(nums: List[int], target: int) -> List[int]:\n",
    "\n",
    "    num_idx = {}\n",
    "\n",
    "    for i, num in enumerate(nums):\n",
    "        complement = target - num\n",
    "        if complement in num_idx: return [num_idx[complement], i]\n",
    "        num_idx[num] = i\n",
    "\n",
    "    return []"
   ]
  },
  {
   "cell_type": "markdown",
   "metadata": {},
   "source": [
    "##### [167. Two Sum II - Input Array Is Sorted](https://leetcode.com/problems/two-sum-ii-input-array-is-sorted/)"
   ]
  },
  {
   "cell_type": "markdown",
   "metadata": {},
   "source": [
    "Given a 1-indexed array of integers numbers that is already sorted in non-decreasing order, find two numbers such that they add up to a specific target number. Let these two numbers be `numbers[index1]` and `numbers[index2]` where `1 <= index1 < index2 <= numbers.length`.\n",
    "\n",
    "Return the indices of the two numbers, index1 and index2, added by one as an integer array [index1, index2] of length 2.\n",
    "\n",
    "The tests are generated such that there is exactly one solution. You may not use the same element twice.\n",
    "\n",
    "Your solution must use only constant extra space.\n",
    "\n",
    " \n",
    "\n",
    "- Example 1:\n",
    "\n",
    "    - Input: numbers = [2,7,11,15], target = 9\n",
    "    - Output: [1,2]\n",
    "    - Explanation: The sum of 2 and 7 is 9. Therefore, index1 = 1, index2 = 2. We return [1, 2].\n",
    "- Example 2:\n",
    "\n",
    "    - Input: numbers = [2,3,4], target = 6\n",
    "    - Output: [1,3]\n",
    "    - Explanation: The sum of 2 and 4 is 6. Therefore index1 = 1, index2 = 3. We return [1, 3].\n",
    "- Example 3:\n",
    "\n",
    "    - Input: numbers = [-1,0], target = -1\n",
    "    - Output: [1,2]\n",
    "    - Explanation: The sum of -1 and 0 is -1. Therefore index1 = 1, index2 = 2. We return [1, 2].\n",
    " \n",
    "-   `Constraints`:\n",
    "\n",
    "    -   $2 <= numbers.length <= 3 * 104$\n",
    "    -   $-1000 <= numbers[i] <= 1000$\n",
    "    -   numbers is sorted in non-decreasing order.\n",
    "    -   $-1000 <= target <= 1000$\n",
    "    -   The tests are generated such that there is exactly one solution."
   ]
  },
  {
   "cell_type": "code",
   "execution_count": null,
   "metadata": {},
   "outputs": [],
   "source": [
    "def two_sum(numbers: List[int], target: int) -> List[int]:\n",
    "        l, r = 0, len(numbers) - 1\n",
    "        \n",
    "        while l < r:\n",
    "            curSum = numbers[l] + numbers[r]\n",
    "            \n",
    "            if curSum > target: r -= 1\n",
    "            elif curSum < target: l += 1\n",
    "            else: return [l + 1, r + 1]     "
   ]
  },
  {
   "cell_type": "code",
   "execution_count": null,
   "metadata": {},
   "outputs": [],
   "source": [
    "def two_sum(A: List[int], target: int) -> List[int]:\n",
    "    left, right = 0, len(A) - 1\n",
    "\n",
    "    while left <= right:\n",
    "        total = A[left] + A[right]\n",
    "        if   total < target: left += 1\n",
    "        elif total > target: right -= 1\n",
    "        else               : return True\n",
    "\n",
    "    return False"
   ]
  },
  {
   "cell_type": "markdown",
   "metadata": {},
   "source": [
    "##### [18. 4Sum](https://leetcode.com/problems/4sum/description/) | [neetcode](https://www.youtube.com/watch?v=EYeR-_1NRlQ)"
   ]
  },
  {
   "cell_type": "markdown",
   "metadata": {},
   "source": [
    "Given an array nums of n integers, return an array of all the unique quadruplets [nums[a], nums[b], nums[c], nums[d]] such that:\n",
    "\n",
    "-   `0 <= a, b, c, d < n`\n",
    "-   `a != b != c != d` (a, b, c, and d are distinct.)\n",
    "-   `nums[a] + nums[b] + nums[c] + nums[d] == target`\n",
    "\n",
    "You may return the answer in any order.\n",
    "\n",
    "\n",
    "-   `Example 1`:\n",
    "\n",
    "    -   `Input`: nums = [1,0,-1,0,-2,2], target = 0\n",
    "    -   `Output`: [[-2,-1,1,2],[-2,0,0,2],[-1,0,0,1]]\n",
    "\n",
    "-   `Example 2`:\n",
    "\n",
    "    -   `Input`: nums = [2,2,2,2,2], target = 8\n",
    "    -   `Output`: [[2,2,2,2]]\n",
    " \n",
    "\n",
    "\n",
    "-   `Constraints`:\n",
    "\n",
    "    -   $1 <= nums.length <= 200$\n",
    "    -   $-109 <= nums[i] <= 109$\n",
    "    -   $-109 <= target <= 109$"
   ]
  },
  {
   "cell_type": "code",
   "execution_count": null,
   "metadata": {},
   "outputs": [],
   "source": [
    "def four_sum(nums, target):\n",
    "    def findNsum(l, r, target, N, result, results):\n",
    "        if r-l+1 < N or N < 2 or target < nums[l]*N or target > nums[r]*N:  \n",
    "            return\n",
    "        if N == 2: \n",
    "            while l < r:\n",
    "                s = nums[l] + nums[r]\n",
    "                if s == target:\n",
    "                    results.append(result + [nums[l], nums[r]])\n",
    "                    l += 1\n",
    "                    while l < r and nums[l] == nums[l-1]:\n",
    "                        l += 1\n",
    "                elif s < target:\n",
    "                    l += 1\n",
    "                else:\n",
    "                    r -= 1\n",
    "        else:\n",
    "            for i in range(l, r+1):\n",
    "                if i == l or (i > l and nums[i-1] != nums[i]):\n",
    "                    findNsum(i+1, r, target-nums[i], N-1, result+[nums[i]], results)\n",
    "\n",
    "    nums.sort()\n",
    "    results = []\n",
    "    findNsum(0, len(nums)-1, target, 4, [], results)\n",
    "    return results"
   ]
  },
  {
   "cell_type": "code",
   "execution_count": null,
   "metadata": {},
   "outputs": [],
   "source": []
  },
  {
   "cell_type": "markdown",
   "metadata": {},
   "source": [
    "##### [53. Maximum Sum Subarray](https://leetcode.com/problems/maximum-subarray/description/) | [neetcode](https://www.youtube.com/watch?v=5WZl3MMT0Eg)"
   ]
  },
  {
   "cell_type": "markdown",
   "metadata": {},
   "source": [
    "Given an integer array `nums`, find the subarray with the largest sum, and return its sum. \n",
    "\n",
    "\n",
    "-   `Example 1`:\n",
    "\n",
    "    -   `Input`: nums = [-2,1,-3,4,-1,2,1,-5,4]\n",
    "    -   `Output`: 6\n",
    "    -   `Explanation`: The subarray [4,-1,2,1] has the largest sum 6.\n",
    "\n",
    "-   `Example 2`:\n",
    "\n",
    "    -   `Input`: nums = [1]\n",
    "    -   `Output`: 1\n",
    "    -   `Explanation`: The subarray [1] has the largest sum 1.\n",
    "\n",
    "-   `Example 3`:\n",
    "\n",
    "    -   `Input`: nums = [5,4,-1,7,8]\n",
    "    -   `Output`: 23\n",
    "    -   `Explanation`: The subarray [5,4,-1,7,8] has the largest sum 23.\n",
    " \n",
    "\n",
    "-   `Constraints`:\n",
    "\n",
    "    -   $1 <= nums.length <= 10^5$\n",
    "    -   $-10^4 <= nums[i] <= 10^4$\n",
    " \n",
    "\n",
    "`Follow up`: If you have figured out the $O(n)$ solution, try coding another solution using the divide and conquer approach, which is more subtle."
   ]
  },
  {
   "cell_type": "code",
   "execution_count": null,
   "metadata": {},
   "outputs": [],
   "source": [
    "def max_sum_subArray(nums: List[int]) -> int:\n",
    "    res = nums[0]\n",
    "\n",
    "    total = 0\n",
    "    for n in nums:\n",
    "        total += n\n",
    "        res = max(res, total)\n",
    "        if total < 0: total = 0\n",
    "\n",
    "    return res"
   ]
  },
  {
   "cell_type": "markdown",
   "metadata": {},
   "source": [
    "##### [45. Jump Game II](https://leetcode.com/problems/jump-game-ii/description/) | [neetcode](https://www.youtube.com/watch?v=dJ7sWiOoK7g)"
   ]
  },
  {
   "cell_type": "markdown",
   "metadata": {},
   "source": [
    "You are given a 0-indexed array of integers `nums` of length n. You are initially positioned at `nums[0]`.\n",
    "\n",
    "Each element `nums[i]` represents the maximum length of a forward jump from index `i`. In other words, if you are at `nums[i]`, you can jump to any `nums[i+j]` where `0 <= j <= nums[i]` and `i+j < n`\n",
    "\n",
    "Return the minimum number of jumps to reach `nums[n-1]`. The test cases are generated such that you can reach `nums[n-1]`.\n",
    "\n",
    "-   `Example 1`:\n",
    "\n",
    "    -   `Input`: nums = [2,3,1,1,4]\n",
    "    -   `Output`: 2\n",
    "    -   `Explainations`: The minimum number of jumps to reach the last index is 2. Jump 1 step from index 0 to 1, then 3 steps to the last index.\n",
    "\n",
    "-   `Example 2`:\n",
    "\n",
    "    -   `Input`: nums = [2,3,0,1,4]\n",
    "    -   `Output`: 2\n",
    "\n",
    "-   `Constraints`:\n",
    "\n",
    "    -   $1 <= nums.length <= 10^4$\n",
    "    -   $0 <= nums[i] <= 1000$\n",
    "    -   It's guaranteed that you can reach nums[n - 1]."
   ]
  },
  {
   "cell_type": "code",
   "execution_count": 1,
   "metadata": {},
   "outputs": [],
   "source": [
    "def jump_bfs(nums):\n",
    "    left = right = num_jump = 0\n",
    "\n",
    "    while right < len(nums)-1:\n",
    "        farthest = 0\n",
    "        for i in range(left, right+1):\n",
    "            farthest = max(farthest, i+nums[i])\n",
    "        num_jump += 1\n",
    "        left = right + 1\n",
    "        right = farthest\n",
    "\n",
    "    return num_jump"
   ]
  },
  {
   "cell_type": "markdown",
   "metadata": {},
   "source": [
    "##### [846. Hand of Straights](https://leetcode.com/problems/hand-of-straights/description/) | [neetcode](https://www.youtube.com/watch?v=amnrMCVd2YI)"
   ]
  },
  {
   "cell_type": "markdown",
   "metadata": {},
   "source": [
    "This Question is same as [1296. Divide Array in Sets of K Consecutive Numbers](https://leetcode.com/problems/divide-array-in-sets-of-k-consecutive-numbers/description/)"
   ]
  },
  {
   "cell_type": "markdown",
   "metadata": {},
   "source": [
    "Alice has some number of cards and she wants to rearrange the cards into groups so that each group is of size `group_size`, and consists of `group_size` consecutive cards.\n",
    "\n",
    "Given an integer array `hand` where `hand[i]` is the value written on the $i^{th}$ card and an integer `group_size`, return true if she can rearrange the cards, or false otherwise.\n",
    "\n",
    "-   `Example 1`:\n",
    "\n",
    "    -   `Input`: hand = [1,2,3,6,2,3,4,7,8], groupSize = 3\n",
    "    -   `Output`: true\n",
    "    -   `Explanation`: Alice's hand can be rearranged as [1,2,3],[2,3,4],[6,7,8]\n",
    "\n",
    "-   `Example 2`:\n",
    "\n",
    "    -   `Input`: hand = [1,2,3,4,5], groupSize = 4\n",
    "    -   `Output`: false\n",
    "    -   `Explanation`: Alice's hand can not be rearranged into groups of 4.\n",
    "\n",
    "-   `Constraints`:\n",
    "\n",
    "    -   $1 <= hand.length <= 10^4$\n",
    "    -   $0 <= hand[i] <= 10^9$\n",
    "    -   $1 <= groupSize <= hand.length$"
   ]
  },
  {
   "cell_type": "code",
   "execution_count": null,
   "metadata": {},
   "outputs": [],
   "source": [
    "def is_n_straight_hand(hand: List[int], group_size: int) -> bool:\n",
    "    if len(hand) % group_size: return False\n",
    "\n",
    "    count = Counter(hand)\n",
    "\n",
    "    min_heap = list(count.keys())\n",
    "    heapq.heapify(min_heap)\n",
    "\n",
    "    while min_heap:\n",
    "        first = min_heap[0]\n",
    "        for i in range(first, first + group_size):\n",
    "            if i not in count: return False\n",
    "            \n",
    "            count[i] -= 1\n",
    "\n",
    "            if count[i] == 0:\n",
    "                if i != min_heap[0]: return False\n",
    "                heapq.heappop(min_heap)\n",
    "\n",
    "    return True"
   ]
  },
  {
   "cell_type": "markdown",
   "metadata": {},
   "source": [
    "##### [1899. Merge Triplets to Form Target Triplet](https://leetcode.com/problems/merge-triplets-to-form-target-triplet/description/) | [neetcode](https://www.youtube.com/watch?v=kShkQLQZ9K4)"
   ]
  },
  {
   "cell_type": "markdown",
   "metadata": {},
   "source": [
    "A triplet is an array of three integers. You are given a 2D integer array `triplets`, where $triplets[i] = [a_i, b_i, c_i]$ describes the $i^{th}$ triplet. You are also given an integer array `target = [x, y, z]` that describes the triplet you want to obtain.\n",
    "\n",
    "-   To obtain target, you may apply the following operation on `triplets` any number of times (possibly zero):\n",
    "\n",
    "    -   Choose two indices (0-indexed) `i` and `j` (`i != j`) and update `triplets[j]` to become $[max(a_i, a_j), max(b_i, b_j), max(c_i, c_j)]$.\n",
    "        -   For example, if `triplets[i] = [2, 5, 3]` and `triplets[j] = [1, 7, 5]`, `triplets[j]` will be updated to `[max(2, 1), max(5, 7), max(3, 5)] = [2, 7, 5]`.\n",
    "\n",
    "Return true if it is possible to obtain the `target` triplet `[x, y, z]` as an element of `triplets`, or false otherwise.\n",
    "\n",
    "-   `Example 1`:\n",
    "\n",
    "    -   `Input`: triplets = [[2,5,3],[1,8,4],[1,7,5]], target = [2,7,5]\n",
    "    -   `Output`: true\n",
    "    -   `Explanation`: \n",
    "        -   Perform the following operations: Choose the first and last triplets [[2,5,3],[1,8,4],[1,7,5]]. Update the last triplet to be [max(2,1), max(5,7), max(3,5)] = [2,7,5]. triplets = [[2,5,3],[1,8,4],[2,7,5]]\n",
    "        -   The target triplet [2,7,5] is now an element of triplets.\n",
    "\n",
    "-   `Example 2`:\n",
    "\n",
    "    -   `Input`: triplets = [[3,4,5],[4,5,6]], target = [3,2,5]\n",
    "    -   `Output`: false\n",
    "    -   `Explanation`: It is impossible to have [3,2,5] as an element because there is no 2 in any of the triplets.\n",
    "\n",
    "-   `Example 3`:\n",
    "\n",
    "    -   `Input`: triplets = [[2,5,3],[2,3,4],[1,2,5],[5,2,3]], target = [5,5,5]\n",
    "    -   `Output`: true\n",
    "    -   `Explanation`: Perform the following operations:\n",
    "        -   Choose the first and third triplets [[2,5,3],[2,3,4],[1,2,5],[5,2,3]]. Update the third triplet to be [max(2,1), max(5,2), max(3,5)] = [2,5,5]. triplets = [[2,5,3],[2,3,4],[2,5,5],[5,2,3]].\n",
    "        -   Choose the third and fourth triplets [[2,5,3],[2,3,4],[2,5,5],[5,2,3]]. Update the fourth triplet to be [max(2,5), max(5,2), max(5,3)] = [5,5,5]. triplets = [[2,5,3],[2,3,4],[2,5,5],[5,5,5]].\n",
    "        -   The target triplet [5,5,5] is now an element of triplets.\n",
    " \n",
    "\n",
    "-   `Constraints`:\n",
    "\n",
    "    -   $1 <= triplets.length <= 10^5$\n",
    "    -   $triplets[i].length == target.length == 3$\n",
    "    -   $1 <= a_i, b_i, c_i, x, y, z <= 1000$\n"
   ]
  },
  {
   "cell_type": "markdown",
   "metadata": {},
   "source": [
    "- **Key Observation**: Any triplet with values greater than the corresponding target value is useless, as it cannot contribute to reaching the target when merged.\n",
    "  - **Filtering Step**: Remove all triplets from the list that have any value greater than the corresponding value in the target triplet.\n",
    "- **Check for Matching**: After filtering, check if there is at least one triplet with each target value in the respective position (i.e., check for the presence of the target's first, second, and third values across the remaining triplets).\n",
    "- **Guaranteed Success**: If the filtered triplets contain values equal to or less than the target, and all positions of the target are covered, merging these triplets will eventually form the target.\n",
    "- **Simplicity**: The solution avoids actual merging operations and focuses on filtering and checking the presence of necessary values."
   ]
  },
  {
   "cell_type": "code",
   "execution_count": null,
   "metadata": {},
   "outputs": [],
   "source": [
    "def merge_triplets(triplets: List[List[int]], target: List[int]) -> bool:\n",
    "    good = set()\n",
    "\n",
    "    for t in triplets:\n",
    "\n",
    "        if t[0] > target[0] or t[1] > target[1] or t[2] > target[2]: continue\n",
    "\n",
    "        for i, v in enumerate(t):\n",
    "            if v == target[i]: good.add(i)\n",
    "\n",
    "    return len(good) == 3"
   ]
  },
  {
   "cell_type": "markdown",
   "metadata": {},
   "source": [
    "##### [763. Partition Labels](https://leetcode.com/problems/partition-labels/description/) | [neetcode](https://www.youtube.com/watch?v=B7m8UmZE-vw)"
   ]
  },
  {
   "cell_type": "markdown",
   "metadata": {},
   "source": [
    "You are given a string `s`. We want to partition the string into as many parts as possible so that each letter appears in at most one part.\n",
    "\n",
    "Note that the partition is done so that after concatenating all the parts in order, the resultant string should be `s`.\n",
    "\n",
    "Return a list of integers representing the size of these parts.\n",
    "\n",
    "-   `Example 1`:\n",
    "\n",
    "    -   `Input`: s = \"ababcbacadefegdehijhklij\"\n",
    "    -   `Output`: [9,7,8]\n",
    "    -   `Explanation`:\n",
    "        -   The partition is \"ababcbaca\", \"defegde\", \"hijhklij\".\n",
    "        -   This is a partition so that each letter appears in at most one part.\n",
    "        -   A partition like \"ababcbacadefegde\", \"hijhklij\" is incorrect, because it splits s into less parts.\n",
    "\n",
    "-   `Example 2`:\n",
    "\n",
    "    -   `Input`: s = \"eccbbbbdec\"\n",
    "    -   `Output`: [10]\n",
    "\n",
    "\n",
    "-   `Constraints`:\n",
    "\n",
    "    -   $1 <= s.length <= 500$\n",
    "    -   `s` consists of lowercase English letters.\n"
   ]
  },
  {
   "cell_type": "code",
   "execution_count": null,
   "metadata": {},
   "outputs": [],
   "source": [
    "def partition_labels(s: str) -> List[int]:\n",
    "\n",
    "    res = []\n",
    "    char_latest_idx = dict([(v, i) for i,v in enumerate(s)])\n",
    "\n",
    "    i = cur_len = goal = 0\n",
    "\n",
    "    while i < len(s):\n",
    "        goal = max(goal, char_latest_idx[s[i]])\n",
    "        cur_len += 1\n",
    "\n",
    "        if goal == i:\n",
    "            res.append(cur_len)\n",
    "            cur_len = 0\n",
    "        i += 1\n",
    "\n",
    "    return res"
   ]
  },
  {
   "cell_type": "markdown",
   "metadata": {},
   "source": [
    "##### [678. Valid Parenthesis String](https://leetcode.com/problems/valid-parenthesis-string/description/) | [neetcode](https://www.youtube.com/watch?v=QhPdNS143Qg)"
   ]
  },
  {
   "cell_type": "markdown",
   "metadata": {},
   "source": [
    "Given a string `s` containing only three types of characters: `(`, `)` and `*`, return true if `s` is valid.\n",
    "\n",
    "-   The following rules define a valid string:\n",
    "\n",
    "    -   Any left parenthesis `(` must have a corresponding right parenthesis `)`.\n",
    "    -   Any right parenthesis `)` must have a corresponding left parenthesis `(`.\n",
    "    -   Left parenthesis `(` must go before the corresponding right parenthesis `)`.\n",
    "    -   `*` could be treated as a single right parenthesis `)` or a single left parenthesis `(` or an empty string `\"\"`.\n",
    " \n",
    "\n",
    "-   `Example 1`:\n",
    "\n",
    "    -   `Input`: s = \"()\"\n",
    "    -   `Output`: true\n",
    "\n",
    "-   `Example 2`:\n",
    "\n",
    "    -   `Input`: s = \"(*)\"\n",
    "    -   `Output`: true\n",
    "\n",
    "-   `Example 3`:\n",
    "\n",
    "    -   `Input`: s = \"(*))\"\n",
    "    -   `Output`: true\n",
    " \n",
    "\n",
    "-   `Constraints`:\n",
    "\n",
    "    -   $1 <= s.length <= 100$\n",
    "    -   `s[i]` is `(`, `)` or `*`"
   ]
  },
  {
   "cell_type": "code",
   "execution_count": null,
   "metadata": {},
   "outputs": [],
   "source": [
    "# Dynamic Programming: O(n^2)\n",
    "def check_valid_string(s: str) -> bool:\n",
    "    dp = {(len(s), 0): True}  # key=(i, leftCount) -> isValid\n",
    "\n",
    "    def dfs(i, left):\n",
    "        if i == len(s) or left < 0:\n",
    "            return left == 0\n",
    "        if (i, left) in dp:\n",
    "            return dp[(i, left)]\n",
    "\n",
    "        if s[i] == \"(\":\n",
    "            dp[(i, left)] = dfs(i + 1, left + 1)\n",
    "        elif s[i] == \")\":\n",
    "            dp[(i, left)] = dfs(i + 1, left - 1)\n",
    "        else:\n",
    "            dp[(i, left)] = (\n",
    "                dfs(i + 1, left + 1) or dfs(i + 1, left - 1) or dfs(i + 1, left)\n",
    "            )\n",
    "        return dp[(i, left)]\n",
    "\n",
    "    return dfs(0, 0)\n",
    "\n",
    "\n",
    "# Greedy: O(n)\n",
    "def check_valid_string_v2(s: str) -> bool:\n",
    "    leftMin, leftMax = 0, 0\n",
    "\n",
    "    for c in s:\n",
    "        if c == \"(\":\n",
    "            leftMin, leftMax = leftMin + 1, leftMax + 1\n",
    "        elif c == \")\":\n",
    "            leftMin, leftMax = leftMin - 1, leftMax - 1\n",
    "        else:\n",
    "            leftMin, leftMax = leftMin - 1, leftMax + 1\n",
    "        if leftMax < 0:\n",
    "            return False\n",
    "        if leftMin < 0:  # required because -> s = ( * ) (\n",
    "            leftMin = 0\n",
    "    return leftMin == 0"
   ]
  },
  {
   "cell_type": "markdown",
   "metadata": {},
   "source": [
    "####  <b style='color:#C71585'>EPI</b>"
   ]
  },
  {
   "cell_type": "markdown",
   "metadata": {
    "heading_collapsed": true
   },
   "source": [
    "##### Compute an Optimum Assignment of Tasks - [EPI-17.1]"
   ]
  },
  {
   "cell_type": "markdown",
   "metadata": {
    "hidden": true
   },
   "source": [
    "\n",
    "We consider the problem of assigning tasks to workers. Each worker must be\n",
    "assigned exactly two tasks. Each task takes a fixed amount of time. Tasks are\n",
    "independent, i.e., there are no constraints of the form \"Task 4 cannot start\n",
    "before Task 3 is completed\". Any task can be assigned to any worker. We want\n",
    "to assign tasks to workers so as to minimize how long it takes before all\n",
    "tasks are completed. \n",
    "\n",
    "For example, if there are 6 tasks whose durations ate\n",
    "5,2,1,6,4,4 hours, then an optimum assignment is to give the first two tasks\n",
    "(i.e., the tasks with duration 5 and 2) to one worker, the next two (1 and 6)\n",
    "to another worker and the last two tasks (4 and 4) to the last worker. For this\n",
    "assignment, all tasks will finish after max(5+2, 1+6, 4+4) = 8 hours.\n",
    "\n",
    "Design an algorithm that takes as input a set of tasks and returns an optimum assignment.\n",
    "\n",
    "`Hint`: What additional task should be assigned to the worker who is assigned the longest task?"
   ]
  },
  {
   "cell_type": "code",
   "execution_count": null,
   "metadata": {
    "hidden": true
   },
   "outputs": [],
   "source": [
    "def optimum_task_assignment_v1(task_durations):\n",
    "    task_durations.sort()\n",
    "    return [(task_durations[i], task_durations[~i]) for i in range(len(task_durations) // 2)]"
   ]
  },
  {
   "cell_type": "code",
   "execution_count": null,
   "metadata": {
    "hidden": true
   },
   "outputs": [],
   "source": []
  },
  {
   "cell_type": "code",
   "execution_count": null,
   "metadata": {
    "code_folding": [],
    "hidden": true
   },
   "outputs": [],
   "source": [
    "def optimum_task_assignment_v2(task_durations):\n",
    "    # Sort tasks in ascending order\n",
    "    sorted_tasks = sorted(task_durations)\n",
    "    \n",
    "    # Initialize pointers\n",
    "    left = 0\n",
    "    right = len(sorted_tasks) - 1\n",
    "    \n",
    "    # Initialize task assignments list\n",
    "    assignments = []\n",
    "    \n",
    "    while left < right:\n",
    "        # Assign tasks to workers\n",
    "        task1 = sorted_tasks[left]\n",
    "        task2 = sorted_tasks[right]\n",
    "        pair = (task1, task2)\n",
    "        assignments.append(pair)\n",
    "        \n",
    "        # Move pointers\n",
    "        left += 1\n",
    "        right -= 1\n",
    "    \n",
    "    # Handle remaining task\n",
    "    if left == right: assignments.append((sorted_tasks[left], None))\n",
    "        \n",
    "    return assignments"
   ]
  },
  {
   "cell_type": "code",
   "execution_count": null,
   "metadata": {
    "code_folding": [],
    "hidden": true
   },
   "outputs": [],
   "source": [
    "def test_optimum_task_assignment():\n",
    "    given_and_expected_assignments = [\n",
    "        ([5, 2, 1, 6, 4, 4], [(1, 6),(2, 5),(4, 4)]),\n",
    "        ([3, 1, 6, 2, 8, 5], [(1, 8),(2, 6),(3, 5)]),\n",
    "        ([1, 2, 3, 4, 5, 6], [(1, 6),(2, 5),(3, 4)]),\n",
    "        ([1, 1, 1, 1, 1, 1], [(1, 1),(1, 1),(1, 1)]),\n",
    "        ([10], []),\n",
    "        ([], [])\n",
    "    ]\n",
    "\n",
    "    for task_durations, expected in given_and_expected_assignments:\n",
    "        returned_v1 = optimum_task_assignment_v1(task_durations)\n",
    "        returned_v2 = optimum_task_assignment_v2(task_durations)\n",
    "        try:\n",
    "            assert returned_v1 == returned_v2 == expected\n",
    "        except:\n",
    "            print(returned_v1,returned_v2,expected,sep='\\n')\n",
    "            print('='*30)\n",
    "## ====================================================================\n",
    "test_optimum_task_assignment()"
   ]
  },
  {
   "cell_type": "markdown",
   "metadata": {
    "heading_collapsed": true
   },
   "source": [
    "##### Schedule to Minimize Waiting Time - [EPI-17.2]"
   ]
  },
  {
   "cell_type": "markdown",
   "metadata": {
    "hidden": true
   },
   "source": [
    "A database has to respond to a set of client SQL queries. The service time required for each query is known in advance. For this application, the queries must be processed by the database one at atime, but can be done in any order. The time a query waits before its turn comes is called its waitingtime. Given service times for a set of queries, compute a schedule for processing the queries that minimizes the total waiting time. Return the minimum waiting time.\n",
    "\n",
    "For example, if the service times are [2,5,1.,3], if we schedule in the given order,the total waiting timeis 0+(2)+(2+5)+(2+5 +1) = 17. If however, we schedule queries in order of service times, the total waiting time is0+(5)+(5+3)+(5+3+2)=23.As we will see,for this example,the minimum waiting time is l0.\n",
    "\n",
    "Hint: Focus on extreme values."
   ]
  },
  {
   "cell_type": "code",
   "execution_count": null,
   "metadata": {
    "hidden": true
   },
   "outputs": [],
   "source": [
    "def minimum_total_waiting_time(service_times):\n",
    "\n",
    "    # Sort the service times in increasing order.\n",
    "    service_times.sort()\n",
    "    total_waiting_time = 0\n",
    "    number_of_services = len(service_times)\n",
    "    \n",
    "    for i, service_time in enumerate(service_times):\n",
    "        num_remaining_queries = number_of_services - (i + 1)\n",
    "        total_waiting_time += service_time * num_remaining_queries\n",
    "    \n",
    "    return total_waiting_time"
   ]
  },
  {
   "cell_type": "code",
   "execution_count": null,
   "metadata": {
    "hidden": true
   },
   "outputs": [],
   "source": [
    "def minimum_total_waiting_time_pythonic(service_times):\n",
    "    return sum(\n",
    "        remaining_queries * time\n",
    "        for remaining_queries, time in enumerate(sorted(service_times)[::-1]))"
   ]
  },
  {
   "cell_type": "code",
   "execution_count": null,
   "metadata": {
    "hidden": true
   },
   "outputs": [],
   "source": []
  },
  {
   "cell_type": "markdown",
   "metadata": {
    "heading_collapsed": true
   },
   "source": [
    "##### The Interval Covering Problem - [EPI-17.3 (greedy algo)]"
   ]
  },
  {
   "cell_type": "markdown",
   "metadata": {
    "hidden": true
   },
   "source": [
    "Consider a foreman responsible for a number of tasks on the factory floor. Each task starts at a fixed time and ends at a fixed time. The foreman wants to visit the floor to check on the tasks. Your job is to help him minimize the number of visits he makes. In each visit, he can check on all the tasks taking place at the time of the visit. A visit takes place at a fixed time, and he can only check on tasks taking place at exactly that time.\n",
    "\n",
    "For example, if there are tasks at times `[[0, 3], [2, 6], [3, 4], [6, 9]]`, then visit times `[0, 2, 3, 6]` cover all tasks. A smaller set of visit times that also cover all tasks is `[3, 6]`. \n",
    "\n",
    "In the abstract, you are given a set of <b style=\"color:#4a8bcc\">closed</b> intervals to design an efficient algorithm for finding a minimum sized <b style=\"color:#4a8bcc\">set</b> of numbers that covers all the intervals.\n",
    "\n",
    "`Hint`: Think about extremal points."
   ]
  },
  {
   "cell_type": "code",
   "execution_count": null,
   "metadata": {
    "hidden": true
   },
   "outputs": [],
   "source": [
    "Interval = namedtuple('Interval', ('left', 'right'))\n",
    "\n",
    "def find_minimum_visits(intervals):\n",
    "\n",
    "    # Sort intervals based on the right endpoints.\n",
    "    # intervals.sort(key=operator.attrgetter('right'))\n",
    "    intervals.sort(key=lambda interval: interval.right)\n",
    "    last_visit_time, visits = float('-inf'), []\n",
    "    \n",
    "    for interval in intervals:\n",
    "        if last_visit_time < interval.left:\n",
    "            # The current right endpoint, last_visit_time, will not cover any more intervals.\n",
    "            last_visit_time = interval.right\n",
    "            visits.append(last_visit_time)\n",
    "\n",
    "    return visits"
   ]
  },
  {
   "cell_type": "markdown",
   "metadata": {
    "hidden": true
   },
   "source": [
    "- **Sorting by Right Endpoint**: Sorting intervals by their right endpoint guarantees that when we select a visit time at the end of the current interval, we maximize the coverage of intervals with minimal overlap.\n",
    "- **Greedy Choice**: By always selecting the right endpoint of the interval as the visit time, the algorithm ensures that it covers the current interval and potentially as many subsequent intervals as possible.\n",
    "- **Efficient Coverage**: The algorithm efficiently covers all intervals with the minimum number of visits because it always makes the optimal local choice (selecting the earliest possible right endpoint)."
   ]
  },
  {
   "cell_type": "code",
   "execution_count": null,
   "metadata": {
    "hidden": true
   },
   "outputs": [],
   "source": [
    "\n",
    "# Test cases\n",
    "test_cases = [\n",
    "    ([Interval(1, 5)], [5]),\n",
    "    ([Interval(1, 2), Interval(3, 4), Interval(5, 6)], [2,4,6]),\n",
    "    ([Interval(1, 10), Interval(2, 9), Interval(3, 8), Interval(4, 7)], [7]),\n",
    "    ([Interval(1, 3), Interval(2, 5), Interval(4, 7)], [3,7]),\n",
    "    ([Interval(1, 2), Interval(2, 3), Interval(3, 4)], [2,4]),\n",
    "    ([Interval(1, 10), Interval(2, 3), Interval(4, 5), Interval(6, 7), Interval(8, 9)], [3,5,7,9]),\n",
    "    ([Interval(1, 4), Interval(2, 6), Interval(5, 8), Interval(7, 9)], [4,8]),\n",
    "    ([Interval(1, 4), Interval(2, 4), Interval(3, 4)], [4])\n",
    "]\n",
    "\n",
    "for i, (intervals, expected) in enumerate(test_cases):\n",
    "    returned = find_minimum_visits(intervals)\n",
    "    try:\n",
    "        assert returned == expected\n",
    "    except AssertionError as e:\n",
    "        print(f\"Intervals: {intervals}\\n Returned: {returned}\\tExpected:{expected}\")\n",
    "        print(i)"
   ]
  },
  {
   "cell_type": "markdown",
   "metadata": {},
   "source": [
    "##### Min sized Intervals - [ChatGPT]"
   ]
  },
  {
   "cell_type": "markdown",
   "metadata": {},
   "source": [
    "You are given a <b style=\"color:#4a8bcc\">list</b> of closed intervals to design an efficient algorithm for finding a minimum sized <b style=\"color:#4a8bcc\">set</b> of numbers that covers all the intervals."
   ]
  },
  {
   "cell_type": "code",
   "execution_count": null,
   "metadata": {},
   "outputs": [],
   "source": [
    "from collections import namedtuple\n",
    "interval = namedtuple('interval', ('left', 'right'))"
   ]
  },
  {
   "cell_type": "code",
   "execution_count": null,
   "metadata": {},
   "outputs": [],
   "source": [
    "def min_set_intervals(intervals):\n",
    "    intervals.sort(key=lambda interval:interval[0])\n",
    "    if not intervals: return\n",
    "    interval_set = [intervals[0]]\n",
    "    \n",
    "    for cur_item in intervals[1:]:\n",
    "        cur_interval = interval_set[-1]\n",
    "        if cur_item.left <= cur_interval.right:\n",
    "            cur_interval = interval(cur_interval.left, max(cur_interval.right, cur_item.right))\n",
    "            # interval_set[-1] = cur_interval\n",
    "            interval_set.pop()\n",
    "            interval_set.append(cur_interval)\n",
    "\n",
    "        else:\n",
    "            interval_set.append(cur_item)\n",
    "    \n",
    "    return [[item.left, item.right] for item in interval_set]"
   ]
  },
  {
   "cell_type": "code",
   "execution_count": null,
   "metadata": {},
   "outputs": [],
   "source": [
    "def merge_intervals(intervals):\n",
    "\n",
    "    # cmp = lambda item: item[1] if item[0] == item[0] else item[0]\n",
    "    intervals = sorted(intervals)\n",
    "    res = []\n",
    "\n",
    "    for interval in intervals:\n",
    "        if res and interval[0] <= res[-1][1]:\n",
    "            res[-1][1] = max(interval[1], res[-1][1])\n",
    "#             res[-1][0] = min(interval[0], res[-1][0])\n",
    "        else:\n",
    "            res.append(interval)\n",
    "    return res"
   ]
  },
  {
   "cell_type": "code",
   "execution_count": null,
   "metadata": {},
   "outputs": [],
   "source": [
    "def _test_min_set_intervals():\n",
    "    intervals = [[-2, -1], [2, 5], [1, 3], [6, 9], [10, 15], [20, 25], [-10, 2], [26,30], [15, 20]]\n",
    "    returned1 = min_set_intervals([interval(item[0], item[1]) for item in intervals])\n",
    "    returned2 = merge_intervals(intervals)\n",
    "    try:\n",
    "        assert returned1 == returned2\n",
    "        print(returned1, returned2, sep='\\n')\n",
    "    except:\n",
    "        print(returned1, returned2, sep='\\n')\n",
    "\n",
    "#=============================================================================\n",
    "_test_min_set_intervals()"
   ]
  },
  {
   "cell_type": "markdown",
   "metadata": {
    "heading_collapsed": true,
    "hidden": true
   },
   "source": [
    "###### ChatGPT Version"
   ]
  },
  {
   "cell_type": "code",
   "execution_count": null,
   "metadata": {
    "hidden": true
   },
   "outputs": [],
   "source": [
    "def min_set_cover(intervals):\n",
    "    # Sort the intervals based on their end points.\n",
    "    sorted_intervals = sorted(intervals, key=lambda x: x[1])\n",
    "    \n",
    "    selected_numbers = []\n",
    "    \n",
    "    i = 0\n",
    "    while i < len(sorted_intervals):\n",
    "        current_interval = sorted_intervals[i]\n",
    "        selected_numbers.append(current_interval[1])\n",
    "        \n",
    "        # Skip intervals that are already covered by the selected number.\n",
    "        while i < len(sorted_intervals) and sorted_intervals[i][0] <= current_interval[1]:\n",
    "            i += 1\n",
    "\n",
    "    return selected_numbers"
   ]
  },
  {
   "cell_type": "code",
   "execution_count": null,
   "metadata": {
    "hidden": true
   },
   "outputs": [],
   "source": [
    "# Example usage:\n",
    "intervals = [(1, 3), (2, 5), (4, 7), (6, 9)]\n",
    "result = min_set_cover(intervals)\n",
    "print(result)  # Output: [3, 7]"
   ]
  },
  {
   "cell_type": "code",
   "execution_count": null,
   "metadata": {
    "hidden": true
   },
   "outputs": [],
   "source": []
  },
  {
   "cell_type": "markdown",
   "metadata": {
    "heading_collapsed": true
   },
   "source": [
    "##### Three sum - [EPI-17.4]"
   ]
  },
  {
   "cell_type": "markdown",
   "metadata": {
    "hidden": true
   },
   "source": [
    "Design an algorithm that takes as input an array and a number, and determines\n",
    "if there are three entries in the array (<b style=\"color:red\">not necessarily distinct</b>) which add up to the specified number. \n",
    "\n",
    "`Example`: If the array is [11,2,5,7,3] then there are three entries in the array which add up to 21 (3, 7, 11, and 5, 5, 11). However, no other three entries add up to 21.\n",
    "\n",
    "`Note`: we can use 5 twice, since the problem statement said we can use the same entry more than once."
   ]
  },
  {
   "cell_type": "code",
   "execution_count": null,
   "metadata": {
    "code_folding": [],
    "hidden": true
   },
   "outputs": [],
   "source": [
    "def has_three_sum(A, target):\n",
    "    A.sort()\n",
    "    for item in A:\n",
    "        left, right = 0, len(A) - 1\n",
    "        \n",
    "        while left <= right:\n",
    "            total = item + A[left] + A[right]\n",
    "            if   total < target: left += 1\n",
    "            elif total > target: right -= 1\n",
    "            else               : return True\n",
    "    \n",
    "    return False"
   ]
  },
  {
   "cell_type": "code",
   "execution_count": null,
   "metadata": {
    "hidden": true
   },
   "outputs": [],
   "source": [
    "def has_three_sum_itr(A, target):\n",
    "    for i in A:\n",
    "        for j in A:\n",
    "            for k in A:\n",
    "                total = i + j + k\n",
    "                if total == target: return True\n",
    "    return False\n",
    "                "
   ]
  },
  {
   "cell_type": "code",
   "execution_count": null,
   "metadata": {
    "code_folding": [],
    "hidden": true
   },
   "outputs": [],
   "source": [
    "def test_has_three_sum():\n",
    "    test_cases = [\n",
    "        [[1,2,3,4], 3, True],\n",
    "        [[3, 11, 5, 7, 2], 21, True],\n",
    "        [[11, 2, 5, 7, 3], 100, False], \n",
    "        [[11, 2, 5, 7, 3], 0, False]\n",
    "    ]\n",
    "\n",
    "    for A, target, expected in test_cases:\n",
    "        # print(f\"\\tGiven: {A, target} \\n\\tExpected: {expected} \\n{'='*40}\")\n",
    "        try:\n",
    "            returned = has_three_sum(A, target)\n",
    "            returned2 = has_three_sum_itr(A, target)\n",
    "            #print(returned)\n",
    "            assert returned == expected == returned2\n",
    "        except:\n",
    "            print(f\"{red('TEST FAILD')} for the following inputs\")\n",
    "            print(f\"\\tGiven: {A, target} \\n\\tReturned: {returned} \\n\\tExpected: {expected}\")\n",
    "#=====================================================================\n",
    "\n",
    "test_has_three_sum()"
   ]
  },
  {
   "cell_type": "markdown",
   "metadata": {
    "heading_collapsed": true,
    "hidden": true
   },
   "source": [
    "###### Design an algorithm that takes as input an array and a number, and determines if there are three <b style=\"color:red\">distinct</b> entries in the array  which add up to the specified number."
   ]
  },
  {
   "cell_type": "code",
   "execution_count": null,
   "metadata": {
    "hidden": true
   },
   "outputs": [],
   "source": [
    "# NOT TESTED\n",
    "def three_sum(nums: List[int], target) -> List[List[int]]:\n",
    "    # Sort the nums\n",
    "    nums.sort()\n",
    "    triples = []\n",
    "\n",
    "    # Iterate through each element in the nums\n",
    "    for i in range(len(nums) - 2):\n",
    "\n",
    "        # Skip duplicate elements\n",
    "        if i > 0 and nums[i] == nums[i - 1]: continue\n",
    "        \n",
    "        left, right = i+1, len(nums)-1\n",
    "        \n",
    "        # Use two-pointer technique to find the remaining two elements\n",
    "        while left < right:\n",
    "            \n",
    "            while left < right and nums[left] == nums[left-1]: left += 1\n",
    "\n",
    "            current_sum = nums[i] + nums[left] + nums[right]\n",
    "\n",
    "            if current_sum < target: left += 1\n",
    "            elif current_sum > target: right -= 1\n",
    "            else:\n",
    "                triples.append([nums[i], nums[left], nums[right]])\n",
    "                # Move both pointers and skip duplicates\n",
    "                # while left < right and nums[left] == nums[left + 1]: left += 1\n",
    "                # while left < right and nums[right] == nums[right - 1]: right -= 1\n",
    "                left += 1\n",
    "                right -= 1\n",
    "    \n",
    "    return triples"
   ]
  },
  {
   "cell_type": "code",
   "execution_count": null,
   "metadata": {
    "hidden": true
   },
   "outputs": [],
   "source": [
    "\n",
    "# Example usage:\n",
    "print(three_sum([3, 4, -1, -1, 2, -4, -4], 2))  # Output: [[-4, 2, 4], [-1, -1, 3]]\n",
    "print(three_sum([-1, 0, 1, 2, -1, -4, -4], 0))  # Output: [[-1, -1, 2], [-1, 0, 1]]\n"
   ]
  },
  {
   "cell_type": "code",
   "execution_count": 44,
   "metadata": {
    "code_folding": [],
    "hidden": true
   },
   "outputs": [],
   "source": [
    "def find_three_numbers_sum(array, target):\n",
    "    # Sort the array\n",
    "    array.sort()\n",
    "    \n",
    "    # Iterate through each element in the array\n",
    "    for i in range(len(array) - 2):\n",
    "        # Initialize two pointers\n",
    "        left = i + 1\n",
    "        right = len(array) - 1\n",
    "        \n",
    "        # Use two-pointer technique to find the remaining two elements\n",
    "        while left < right:\n",
    "            current_sum = array[i] + array[left] + array[right]\n",
    "            if   current_sum < target: left += 1\n",
    "            elif current_sum > target: right -= 1\n",
    "            else: return True  # Found three distinct elements that sum up to the target\n",
    "    \n",
    "    return False  # No such triplet found\n"
   ]
  },
  {
   "cell_type": "code",
   "execution_count": null,
   "metadata": {},
   "outputs": [],
   "source": [
    "\n",
    "def test_find_three_numbers_sum():\n",
    "    # Testing the function\n",
    "    test_cases = [\n",
    "        ([1, 1, 1], 3, False),\n",
    "        ([1, 1, 2, 2], 3, False),\n",
    "        ([1, 1, 2, 3, 4, 5, 5], 9, True),\n",
    "        ([1, 2, 3, 4, 5], 10, True),\n",
    "        ([1, 2, 3, 4, 5], 20, False),\n",
    "        ([-1, 0, 1, 2, -1, -4], 0, True),\n",
    "        ([1, 2, 4, 5, 12], 19, True),\n",
    "        ([1, 2, 4, 5, 12], 20, False)\n",
    "    ]\n",
    "\n",
    "    for A, target, expected in test_cases:\n",
    "        # print(f\"\\tGiven: {A, target} \\n\\tExpected: {expected} \\n{'='*40}\")\n",
    "        try:\n",
    "            returned = find_three_numbers_sum(A, target)\n",
    "            #print(returned)\n",
    "            assert returned == expected\n",
    "        except:\n",
    "            print(f\"{red('TEST FAILD')} for the following inputs\")\n",
    "            print(f\"\\tGiven: {A, target} \\n\\tReturned: {returned} \\n\\tExpected: {expected}\")\n",
    "#=====================================================================\n",
    "\n",
    "test_find_three_numbers_sum()"
   ]
  },
  {
   "cell_type": "markdown",
   "metadata": {
    "heading_collapsed": true,
    "hidden": true
   },
   "source": [
    "###### [15. 3Sum (number of triples in array that sum to 0).](https://leetcode.com/problems/3sum/description/) || [leetcode](https://leetcode.com/problems/3sum/)"
   ]
  },
  {
   "cell_type": "markdown",
   "metadata": {},
   "source": [
    "Given an integer array `nums`, return all the triplets `[nums[i], nums[j], nums[k]]` such that `i != j`, `i != k`, and `j != k`, and `nums[i] + nums[j] + nums[k] == 0`.\n",
    "\n",
    "-   `Example 1`:\n",
    "\n",
    "    -   `Input`: nums = [-1,0,1,2,-1,-4]\n",
    "    -   `Output`: [[-1,-1,2],[-1,0,1]]\n",
    "    -   `Explanation`: \n",
    "        -   nums[0] + nums[1] + nums[2] = (-1) + 0 + 1 = 0.\n",
    "        -   nums[1] + nums[2] + nums[4] = 0 + 1 + (-1) = 0.\n",
    "        -   nums[0] + nums[3] + nums[4] = (-1) + 2 + (-1) = 0.\n",
    "        -   The distinct triplets are [-1,0,1] and [-1,-1,2].\n",
    "        -   Notice that the order of the output and the order of the triplets does not matter.\n",
    "\n",
    "-   `Example 2`:\n",
    "\n",
    "    -   `Input`: nums = [0,1,1]\n",
    "    -   `Output`: []\n",
    "    -   `Explanation`: The only possible triplet does not sum up to 0.\n",
    "\n",
    "-   `Example 3`:\n",
    "\n",
    "    -   `Input`: nums = [0,0,0]\n",
    "    -   `Output`: [[0,0,0]]\n",
    "    -   `Explanation`: The only possible triplet sums up to 0.\n",
    "\n",
    "-   `Constraints`:\n",
    "\n",
    "    -   $3 <= nums.length <= 3000$\n",
    "    -   $-10^5 <= nums[i] <= 10^5$"
   ]
  },
  {
   "cell_type": "code",
   "execution_count": null,
   "metadata": {},
   "outputs": [],
   "source": [
    "def find_zero_sum_triples(nums, target=0):\n",
    "    # Sort the array to use the two-pointer technique\n",
    "    nums.sort()\n",
    "    triples = []\n",
    "    \n",
    "    # Iterate through the array\n",
    "    for i, num in enumerate(nums):\n",
    "        if i > 0 and nums[i-1] == num: continue\n",
    "\n",
    "        left, right = i+1, len(nums)-1\n",
    "\n",
    "        while left < right:\n",
    "            three_sum = num + nums[left] + nums[right]\n",
    "            if   three_sum < target: left += 1\n",
    "            elif three_sum > target: right -= 1\n",
    "            else:\n",
    "                triples.append([num, nums[left], nums[right]])\n",
    "                left += 1\n",
    "                while left < right and nums[left] == nums[left-1]: left += 1\n",
    "\n",
    "    return triples"
   ]
  },
  {
   "cell_type": "code",
   "execution_count": null,
   "metadata": {},
   "outputs": [],
   "source": [
    "\n",
    "# Example usage:\n",
    "print(find_zero_sum_triples([0,0,0]))  # Output: [[-4, 2, 4], [-1, -1, 3]]\n",
    "print(find_zero_sum_triples([-1, 0, 1, 2, -1, -4]))  # Output: [[-1, -1, 2], [-1, 0, 1]]\n"
   ]
  },
  {
   "cell_type": "code",
   "execution_count": 102,
   "metadata": {},
   "outputs": [],
   "source": [
    "def find_zero_sum_triples_v2(a):\n",
    "    # Sort the array to use the two-pointer technique\n",
    "    a.sort()\n",
    "    n = len(a)\n",
    "    triples = []\n",
    "    \n",
    "    # Iterate through the array\n",
    "    for i, num in enumerate(a):\n",
    "        if i > 0 and a[i-1] == num: continue\n",
    "        # Use two pointers to find pairs that sum to -a[i]\n",
    "        left, right = i + 1, n - 1\n",
    "        while left < right:\n",
    "            current_sum = a[i] + a[left] + a[right]\n",
    "            if   current_sum < 0: left += 1\n",
    "            elif current_sum > 0: right -= 1\n",
    "            else:\n",
    "                triples.append([a[i], a[left], a[right]])\n",
    "                left += 1\n",
    "                right -= 1\n",
    "                # Skip duplicates\n",
    "                while left < right and a[left] == a[left - 1]: left += 1\n",
    "                while left < right and a[right] == a[right + 1]: right -= 1\n",
    "                \n",
    "    return triples"
   ]
  },
  {
   "cell_type": "code",
   "execution_count": 103,
   "metadata": {},
   "outputs": [],
   "source": [
    "def find_zero_sum_triples_v3(nums: List[int], target=0) -> List[List[int]]:\n",
    "    # Sort the nums\n",
    "    nums.sort()\n",
    "    triples = []\n",
    "\n",
    "    # Iterate through each element in the nums\n",
    "    for i in range(len(nums) - 2):\n",
    "        # Skip duplicate elements\n",
    "        if i > 0 and nums[i] == nums[i - 1]: continue\n",
    "        \n",
    "        left, right = i+1, len(nums)-1\n",
    "        \n",
    "        # Use two-pointer technique to find the remaining two elements\n",
    "        while left < right:\n",
    "            current_sum = nums[i] + nums[left] + nums[right]\n",
    "            if current_sum < target: left += 1\n",
    "            elif current_sum > target: right -= 1\n",
    "            else:\n",
    "                triples.append([nums[i], nums[left], nums[right]])\n",
    "                # Move both pointers and skip duplicates\n",
    "                while left < right and nums[left] == nums[left + 1]: left += 1\n",
    "                while left < right and nums[right] == nums[right - 1]: right -= 1\n",
    "                left += 1\n",
    "                right -= 1\n",
    "    \n",
    "    return triples"
   ]
  },
  {
   "cell_type": "code",
   "execution_count": 105,
   "metadata": {},
   "outputs": [],
   "source": [
    "test_cases = [\n",
    "    [[1, 2, 3, 4, 5], []],  # No triples in array\n",
    "    [[-1, 0, 1], [[-1, 0, 1]]],  # Single triple [-1, 0, 1]\n",
    "    [[-1, 0, 1, 2, -1, -4], [[-1, -1, 2], [-1, 0, 1]]],  # Multiple triples [-1, 0, 1] and [-1, -1, 2]\n",
    "    [[0, 0, 0, 0], [[0, 0, 0]]],  # All zeros forming one unique triple [0, 0, 0]\n",
    "    [[-2, -2, 0, 2, 2], [[-2, 0, 2]]],  # Multiple identical elements forming two triples [-2, 0, 2]\n",
    "    [[-10, -3, -1, 2, 4, 8, 9], [[-10, 2, 8], [-3, -1, 4]]],  # Large range of numbers forming two triples [-10, 2, 8] and [-3, -1, 4]\n",
    "    [[], []],  # Edge case with minimum input size\n",
    "    [[1, -1], []],  # Two elements cannot form a triple\n",
    "    [[3, -2, -1, 0, 1, 2, -3], [[-3, 0, 3], [-3, 1, 2], [-2, -1, 3], [-2, 0, 2], [-1, 0, 1]]],  # Complex example with five triples\n",
    "    [[-5, -4, -3, -2, -1], []],  # All negative numbers\n",
    "    [[1, 2, 3, 4, 5], []],  # All positive numbers\n",
    "]\n",
    "\n",
    "for i, (test_case, expected) in enumerate(test_cases):\n",
    "    callables = [find_zero_sum_triples, find_zero_sum_triples_v2, find_zero_sum_triples_v3]\n",
    "    for f in callables:    \n",
    "        returned = f(test_case)\n",
    "        try:\n",
    "            assert returned == expected\n",
    "        except AssertionError as e:\n",
    "            print(f.__name__)\n",
    "            print(f\"Intervals: {test_case}\\n Returned: {returned}\\tExpected:{expected}\")"
   ]
  },
  {
   "cell_type": "code",
   "execution_count": 98,
   "metadata": {},
   "outputs": [],
   "source": [
    "def count_zero_sum_triples(nums, target=0):\n",
    "    # Sort the nums\n",
    "    nums.sort()\n",
    "    count = 0\n",
    "    triples = []\n",
    "\n",
    "    # Iterate through each element in the nums\n",
    "    for i in range(len(nums) - 2):\n",
    "        # Skip duplicate elements\n",
    "        if i > 0 and nums[i] == nums[i - 1]: continue\n",
    "        \n",
    "        left, right = i+1, len(nums)-1\n",
    "        \n",
    "        # Use two-pointer technique to find the remaining two elements\n",
    "        while left < right:\n",
    "            current_sum = nums[i] + nums[left] + nums[right]\n",
    "            if current_sum < target: left += 1\n",
    "            elif current_sum > target: right -= 1\n",
    "            else:\n",
    "                count += 1\n",
    "                triples.append([nums[i], nums[left], nums[right]])\n",
    "                # Move both pointers and skip duplicates\n",
    "                while left < right and nums[left] == nums[left + 1]: left += 1\n",
    "                while left < right and nums[right] == nums[right - 1]: right -= 1\n",
    "                left += 1\n",
    "                right -= 1\n",
    "\n",
    "    # print(triples)\n",
    "    return count"
   ]
  },
  {
   "cell_type": "code",
   "execution_count": 99,
   "metadata": {},
   "outputs": [],
   "source": [
    "test_cases = [\n",
    "    [[1, 2, 3, 4, 5], 0],  # No triples in array\n",
    "    [[-1, 0, 1], 1],  # Single triple [-1, 0, 1]\n",
    "    [[-1, 0, 1, 2, -1, -4], 2],  # Multiple triples [-1, 0, 1] and [-1, -1, 2]\n",
    "    [[0, 0, 0, 0], 1],  # All zeros forming one unique triple [0, 0, 0]\n",
    "    [[-2, -2, 0, 2, 2], 1],  # Multiple identical elements forming two triples [-2, 0, 2]\n",
    "    [[-10, -3, -1, 2, 4, 8, 9], 2],  # Large range of numbers forming two triples [-10, 2, 8] and [-3, -1, 4]\n",
    "    [[], 0],  # Edge case with minimum input size\n",
    "    [[1, -1], 0],  # Two elements cannot form a triple\n",
    "    [[3, -2, -1, 0, 1, 2, -3], 5],  # Complex example with five triples\n",
    "    [[-5, -4, -3, -2, -1], 0],  # All negative numbers\n",
    "    [[1, 2, 3, 4, 5], 0],  # All positive numbers\n",
    "]\n",
    "\n",
    "\n",
    "for i, (test_case, expected) in enumerate(test_cases):\n",
    "    returned = count_zero_sum_triples(test_case)\n",
    "    try:\n",
    "        assert returned == expected\n",
    "    except AssertionError as e:\n",
    "        print(f\"Inputs: {test_case}\\n Returned: {returned}\\tExpected:{expected}\")\n",
    "        print(i)"
   ]
  },
  {
   "cell_type": "markdown",
   "metadata": {
    "heading_collapsed": true
   },
   "source": [
    "##### Majority Elements - [EPI-17.5]"
   ]
  },
  {
   "cell_type": "markdown",
   "metadata": {
    "hidden": true
   },
   "source": [
    "You are reading a sequence of strings. You know a priori that **more than half** of the strings are repetitions of a single string but the positions where the majority element occurs are unknown. \n",
    "\n",
    "Write a program that makes a single pass over the sequence and identifies the majority element. For example, if the input is [b,a,c,a,a,b,a,a,c,a], then `a` is the majority element (it appears in 6 out of the 10 places).\n",
    "\n",
    "Hint: Take advantage of the existence of a majority element to perform elimination."
   ]
  },
  {
   "cell_type": "markdown",
   "metadata": {
    "hidden": true
   },
   "source": [
    "Several applications require identification of elements in a sequence which occur more than a specified fraction of the total number of elements in the sequence. For example, we may want to identify the users using excessive network bandwidth or IP addresses originating the most Hypertext Transfer Protocol (HTTP) requests. Here we consider a simplified version of this problem."
   ]
  },
  {
   "cell_type": "code",
   "execution_count": null,
   "metadata": {
    "hidden": true
   },
   "outputs": [],
   "source": [
    "def majority_search(stream):\n",
    "\n",
    "    candidate, candidate_count = None, 0\n",
    "    \n",
    "    for it in stream:\n",
    "        if candidate_count == 0: candidate, candidate_count = it, candidate_count + 1\n",
    "        elif candidate == it: candidate_count += 1\n",
    "        else: candidate_count -= 1\n",
    "    \n",
    "    return candidate"
   ]
  },
  {
   "cell_type": "code",
   "execution_count": null,
   "metadata": {
    "hidden": true
   },
   "outputs": [],
   "source": [
    "def _test_majority_search():\n",
    "    L = [[[1,2,1,3,1,4,1,5], 1], [[1,2,3,2,4], 2], [['b','a','c','a','a','b','a','a','c','a'], 6]]\n",
    "    for case, expected in L:\n",
    "        returned = majority_search(case)\n",
    "        print(returned)\n",
    "        \n",
    "#========================================================   \n",
    "_test_majority_search()"
   ]
  },
  {
   "cell_type": "code",
   "execution_count": 31,
   "metadata": {},
   "outputs": [],
   "source": [
    "class MejoritySearchStream:\n",
    "\n",
    "    def __init__(self):\n",
    "        self.mejority_candidate = ''\n",
    "        self.candidate_count = 0\n",
    "\n",
    "    def process_cusent_str(self, cur_str):\n",
    "        if self.candidate_count == 0:\n",
    "            self.mejority_candidate = cur_str\n",
    "            self.candidate_count += 1\n",
    "        elif self.mejority_candidate == cur_str:\n",
    "            self.candidate_count += 1\n",
    "        else: self.candidate_count -= 1\n",
    "\n",
    "        return self.mejority_candidate"
   ]
  },
  {
   "cell_type": "code",
   "execution_count": null,
   "metadata": {},
   "outputs": [
    {
     "name": "stdout",
     "output_type": "stream",
     "text": [
      "b\n",
      "b\n",
      "c\n",
      "c\n",
      "a\n",
      "a\n",
      "a\n",
      "a\n",
      "a\n",
      "a\n"
     ]
    }
   ],
   "source": [
    "ms = MejoritySearchStream()\n",
    "L = ['b','a','c','a','a','b','a','a','c','a']\n",
    "for string in L:\n",
    "    returned = ms.process_cusent_str(string)\n",
    "    print(returned)"
   ]
  },
  {
   "cell_type": "markdown",
   "metadata": {
    "heading_collapsed": true
   },
   "source": [
    "##### Gas up problem - [EPI-17.6]"
   ]
  },
  {
   "cell_type": "markdown",
   "metadata": {
    "hidden": true
   },
   "source": [
    "A number of cities are arranged on a circular road. You need to visit all the cities and come back to the starting city. A certain amount of gas is available at each city. The amount of gas summed up over all cities is equal to the amount of gas required to go around the road once. Your gas tank has unlimited capacity.\n",
    "\n",
    "Call a city <b style=\"color:yellow\">ample</b> if you can begin at that city with an empty tank, refill at it, then travel through all the remaining cities, refilling at each, and return to the ample city, without running out of gas at any point.\n",
    "\n",
    "Given an instance of the gasup problem, how would you efficiently compute an <b style=\"color:yellow\">ample city</b>, if one exists?\n",
    "\n",
    "`Hint`: Think about starting with more than enough gas to complete the circuit without gassing up. Track the amount of gas as you perform the circuit, gassing up at each city."
   ]
  },
  {
   "cell_type": "markdown",
   "metadata": {},
   "source": [
    "- **Fruits of Thoughts**:\n",
    "  - How would you select the desired city or gas station?\n",
    "    - If every gas stations contains more gas then you need to complete the trip?\n",
    "    - If only one gas station contains all but no other stations contain any gas to complete the trip?\n",
    "    - If all gas station collectively contains exect amount of gas to complete the trip?\n",
    "      - Where all gas disproportionately distributed amoung all the gas stations.\n"
   ]
  },
  {
   "cell_type": "code",
   "execution_count": null,
   "metadata": {},
   "outputs": [],
   "source": [
    "MPG = 20\n",
    "\n",
    "\n",
    "# gallons[i] is the amount of gas in city i, and distances[i] is the\n",
    "# distance city i to the next city.\n",
    "def can_complete_circuit_v3(gallons: List[int], distances: List[int]) -> int:\n",
    "\n",
    "    cost = [distance//MPG for distance in distances]\n",
    "    if sum(gallons) < sum(cost): return -1 # No such Ample-City exist!\n",
    "\n",
    "    remaining_gas = 0\n",
    "    city_idx, demarking_gas = 0, 0\n",
    "\n",
    "    for i in range(1, len(gallons)):\n",
    "        remaining_gas += gallons[i - 1] - distances[i - 1] // MPG\n",
    "        if remaining_gas < demarking_gas:\n",
    "            city_idx, demarking_gas = i, remaining_gas\n",
    "    \n",
    "    return city_idx"
   ]
  },
  {
   "cell_type": "markdown",
   "metadata": {
    "hidden": true
   },
   "source": [
    "The key insight is that if you can complete the trip starting from city 0 with the minimum remaining gas encountered during the trip, you can complete it starting from any city. The algorithm ensures that you find the city where the remaining gas after reaching that city is the lowest. This city is guaranteed to be the best starting point because starting there ensures that you never run out of gas during the entire trip."
   ]
  },
  {
   "cell_type": "markdown",
   "metadata": {},
   "source": [
    "##### [134. Gas Station](https://leetcode.com/problems/gas-station/description/) | [neetcode](https://www.youtube.com/watch?v=lJwbPZGo05A)"
   ]
  },
  {
   "cell_type": "markdown",
   "metadata": {},
   "source": [
    "There are n gas stations along a circular route, where the amount of gas at the $i^{th}$ station is `gas[i]`.\n",
    "\n",
    "You have a car with an unlimited gas tank and it costs `cost[i]` of gas to travel from the $i^{th}$ station to its next $(i+1)^{th}$ station. You begin the journey with an empty tank at one of the gas stations.\n",
    "\n",
    "Given two integer arrays `gas` and `cost`, return the starting gas station's index if you can travel around the circuit once in the clockwise direction, otherwise return `-1`. If there exists a solution, it is guaranteed to be unique.\n",
    "\n",
    "\n",
    "-   `Example 1`:\n",
    "\n",
    "    -   `Input`: gas = [1,2,3,4,5], cost = [3,4,5,1,2]\n",
    "    -   `Output`: 3\n",
    "    -   `Explanation`:\n",
    "        -   Start at station 3 (index 3) and fill up with 4 unit of gas. Your tank = 0 + 4 = 4\n",
    "        -   Travel to station 4. Your tank = 4 - 1 + 5 = 8\n",
    "        -   Travel to station 0. Your tank = 8 - 2 + 1 = 7\n",
    "        -   Travel to station 1. Your tank = 7 - 3 + 2 = 6\n",
    "        -   Travel to station 2. Your tank = 6 - 4 + 3 = 5\n",
    "        -   Travel to station 3. The cost is 5. Your gas is just enough to travel back to station 3.\n",
    "        -   Therefore, return 3 as the starting index.\n",
    "\n",
    "-   `Example 2`:\n",
    "\n",
    "    -   `Input`: gas = [2,3,4], cost = [3,4,3]\n",
    "    -   `Output`: -1\n",
    "    -   `Explanation`:\n",
    "        -   You can't start at station 0 or 1, as there is not enough gas to travel to the next station.\n",
    "        -   Let's start at station 2 and fill up with 4 unit of gas. Your tank = 0 + 4 = 4\n",
    "        -   Travel to station 0. Your tank = 4 - 3 + 2 = 3\n",
    "        -   Travel to station 1. Your tank = 3 - 3 + 3 = 3\n",
    "        -   You cannot travel back to station 2, as it requires 4 unit of gas but you only have 3.\n",
    "        -   Therefore, you can't travel around the circuit once no matter where you start.\n",
    " \n",
    "\n",
    "-   `Constraints`:\n",
    "\n",
    "    -   $n == gas.length == cost.length$\n",
    "    -   $1 <= n <= 10^5$\n",
    "    -   $0 <= gas[i], cost[i] <= 10^4$"
   ]
  },
  {
   "cell_type": "markdown",
   "metadata": {},
   "source": [
    "- **Fruits of Thoughts**:\n",
    "  - How would you select the desired gas station?\n",
    "    - If every gas stations contains more gas then you need to complete the trip?\n",
    "    - If only one gas station contains all but no other stations contain any gas to complete the trip?\n",
    "    - If all gas station collectively contains exect amount of gas to complete the trip?\n",
    "      - Where all gas disproportionately distributed amoung all the gas stations.\n"
   ]
  },
  {
   "cell_type": "code",
   "execution_count": null,
   "metadata": {},
   "outputs": [],
   "source": [
    "# Brute Force Algorithm\n",
    "def can_complete_circuit_bf(gas: List[int], cost: List[int]) -> int:\n",
    "    start, end = len(gas) - 1, 0\n",
    "    total = gas[start] - cost[start]\n",
    "\n",
    "    while start >= end:\n",
    "        while total < 0 and start >= end:\n",
    "            start -= 1\n",
    "            total += gas[start] - cost[start]\n",
    "        \n",
    "        if start == end: return start\n",
    "        total += gas[end] - cost[end]\n",
    "        end += 1\n",
    "\n",
    "    return -1"
   ]
  },
  {
   "cell_type": "code",
   "execution_count": null,
   "metadata": {},
   "outputs": [],
   "source": [
    "def find_ample_station(gas: List[int], cost: List[int]) -> int:\n",
    "    if sum(gas) < sum(cost): return -1  # No such Ample-Station exist!\n",
    "\n",
    "    starting_station_idx = remaining_gas = demarking_gas = 0\n",
    "\n",
    "    for i in range(1, len(gas)):\n",
    "        remaining_gas += gas[i - 1] - cost[i - 1]\n",
    "        if remaining_gas < demarking_gas:\n",
    "            starting_station_idx, demarking_gas = i, remaining_gas\n",
    "    \n",
    "    return starting_station_idx"
   ]
  },
  {
   "cell_type": "code",
   "execution_count": null,
   "metadata": {},
   "outputs": [],
   "source": [
    "def can_complete_circuit(gas: List[int], cost: List[int]) -> int:\n",
    "    if sum(gas) < sum(cost): return -1 # No such Ample-Station exist!\n",
    "\n",
    "    total_gas, station_idx = 0, 0\n",
    "    for i in range(len(gas)):\n",
    "        total_gas += (gas[i]-cost[i])\n",
    "\n",
    "        if total_gas < 0:\n",
    "            total_gas = 0\n",
    "            station_idx = i+1\n",
    "\n",
    "    return station_idx"
   ]
  },
  {
   "cell_type": "code",
   "execution_count": null,
   "metadata": {},
   "outputs": [],
   "source": [
    "testcases_expecteds = [[[2, 3, 4], [3, 4, 3], -1], [1, 2, 3, 4, 5], [3, 4, 5, 1, 2], 3]"
   ]
  },
  {
   "cell_type": "markdown",
   "metadata": {},
   "source": [
    "##### [871.Minimum Number Of Refueling Stops](https://leetcode.com/problems/minimum-number-of-refueling-stops/description/) [H] | [CrackingFang](https://www.youtube.com/watch?v=vj3CiiwZw1o&t=119s)"
   ]
  },
  {
   "cell_type": "markdown",
   "metadata": {},
   "source": [
    "A car travels from a starting position to a destination which is `target` miles east of the starting position.\n",
    "\n",
    "Along the way, there are gas stations `stations`. Each `station[i]` represents a gas station that is `station[i][0]` miles east of the starting position, and has `station[i][1]` liters of gas.\n",
    "\n",
    "The car starts with an infinite tank of gas, which initially has `startFuel` liters of fuel in it. It uses 1 liter of gas per 1 mile that it drives.\n",
    "\n",
    "When the car reaches a gas station, it may stop and refuel, transferring all the gas from the station into the car.\n",
    "\n",
    "What is the least number of refueling stops the car must make in order to reach its destination? If it cannot reach the destination, return `-1`.\n",
    "\n",
    "`Note`: If the car reaches a gas station with 0 fuel left, the car can still refuel there. If the car reaches the destination with 0 fuel left, it is still considered to have arrived.\n",
    "\n",
    "\n",
    "-   `Example 1`:\n",
    "\n",
    "    -   `Input`: target = 1, startFuel = 1, stations = []\n",
    "    -   `Output`: 0\n",
    "    -   `Explanation`: We can reach the target without refueling.\n",
    "\n",
    "-   `Example 2`:\n",
    "\n",
    "    -   `Input`: target = 100, startFuel = 1, stations = [[10,100]]\n",
    "    -   `Output`: -1\n",
    "    -   `Explanation`: We can not reach the target (or even the first gas station).\n",
    "\n",
    "-   `Example 3`:\n",
    "\n",
    "    -   `Input`: target = 100, startFuel = 10, stations = [[10,60],[20,30],[30,30],[60,40]]\n",
    "    -   `Output`: 2\n",
    "    -   `Explanation`: We start with 10 liters of fuel.\n",
    "        -   We drive to position 10, expending 10 liters of fuel.  We refuel from 0 liters to 60 liters of gas.\n",
    "        -   Then, we drive from position 10 to position 60 (expending 50 liters of fuel),\n",
    "        -   and refuel from 10 liters to 50 liters of gas.  We then drive to and reach the target.\n",
    "        -   We made 2 refueling stops along the way, so we return 2.\n",
    " \n",
    "\n",
    "-   `Constraints`:\n",
    "\n",
    "    -   $1 <= target, startFuel <= 109$\n",
    "    -   $0 <= stations.length <= 500$\n",
    "    -   $1 <= position_i < position_{i+1} < target$\n",
    "    -   $1 <= fuel_i < 109$\n"
   ]
  },
  {
   "cell_type": "markdown",
   "metadata": {},
   "source": [
    "<div style=\"text-align:center\" ><img src=\"../assets/leetcode/871.min_num_refueling_stop.png\" width=\"500\" height=\"300\" /></div>"
   ]
  },
  {
   "cell_type": "code",
   "execution_count": null,
   "metadata": {},
   "outputs": [],
   "source": []
  },
  {
   "cell_type": "markdown",
   "metadata": {
    "heading_collapsed": true
   },
   "source": [
    "##### Trap Water (with a pair of verticl lines) - [EPI-17.7]"
   ]
  },
  {
   "cell_type": "markdown",
   "metadata": {
    "hidden": true
   },
   "source": [
    "<div style=\"text-align:center\" ><img src=\"../assets/most_water_container.jpg\" width=\"400\" height=\"200\" /></div>"
   ]
  },
  {
   "cell_type": "markdown",
   "metadata": {
    "hidden": true
   },
   "source": [
    "An array of integers naturally defines a set of lines parallel to the Y-axis, starting from x = 0. The goal of this problem is to find the pair of lines that together with the X-axis \"trap\" the most water.\n",
    "\n",
    "Write a Program which takes as input an integer array and returns the pair of entries that trap the maximum amount of water.\n",
    "\n",
    "`Hint`: Start with `0` and `z - 1` and work your way in."
   ]
  },
  {
   "cell_type": "code",
   "execution_count": null,
   "metadata": {
    "hidden": true
   },
   "outputs": [],
   "source": [
    "def get_max_trapped_water(heights):\n",
    "\n",
    "    low, high, max_water = 0, len(heights)-1, 0\n",
    "    \n",
    "    while low < high:\n",
    "        width = high - low\n",
    "        max_water = max(max_water, width * min(heights[low], heights[high]))\n",
    "        if heights[low] < heights[high]: low += 1\n",
    "        else: high -= 1  # heights[low] >= heights[high].\n",
    "        \n",
    "    return max_water"
   ]
  },
  {
   "cell_type": "code",
   "execution_count": null,
   "metadata": {
    "hidden": true
   },
   "outputs": [],
   "source": [
    "def _test_get_max_trapped_water():\n",
    "    L = [[[1], 0], [[1,1], 1], [[4,1,3],6], [[1,2,3], 2]]\n",
    "    for heights, expected in L:\n",
    "        returned = get_max_trapped_water(heights)\n",
    "        # print(returned)\n",
    "# ===============================================================================\n",
    "_test_get_max_trapped_water()"
   ]
  },
  {
   "cell_type": "markdown",
   "metadata": {
    "heading_collapsed": true,
    "tags": []
   },
   "source": [
    "##### [42. Trapping Rain Water](https://leetcode.com/problems/trapping-rain-water/)[H] | [YT](https://www.youtube.com/watch?v=Lrp9v-NQPXw)"
   ]
  },
  {
   "cell_type": "markdown",
   "metadata": {
    "hidden": true,
    "tags": []
   },
   "source": [
    "Given `n` non-negative integers representing an elevation map where the width of each bar is 1, compute how much water it can trap after raining.\n",
    "\n",
    "- Example 1:\n",
    "    - Input: height = [0,1,0,2,1,0,1,3,2,1,2,1]\n",
    "    - Output: 6\n",
    "    - Explanation: The above elevation map (black section) is represented by array [0,1,0,2,1,0,1,3,2,1,2,1]. In this case, 6 units of rain water (blue section) are being trapped.\n",
    "\n",
    "- Example 2:\n",
    "    - Input: height = [4,2,0,3,2,5]\n",
    "    - Output: 9\n",
    " \n",
    "\n",
    "- Constraints:\n",
    "    - n == height.length\n",
    "    - 1 <= n <= 2 * 104\n",
    "    - 0 <= height[i] <= 105"
   ]
  },
  {
   "cell_type": "markdown",
   "metadata": {
    "hidden": true
   },
   "source": [
    "<div style=\"text-align:center\" ><img src=\"../assets/rainwatertrap.png\" width=\"400\" height=\"200\" /></div>"
   ]
  },
  {
   "cell_type": "code",
   "execution_count": null,
   "metadata": {},
   "outputs": [],
   "source": [
    "def total_rainwater_trap(heights: List[int]) -> int: \n",
    "    if not heights: return 0\n",
    "\n",
    "    left, right = 0, len(heights)-1\n",
    "    left_max, right_max = heights[left], heights[right]\n",
    "    total_water = 0\n",
    "    \n",
    "    while left < right:\n",
    "        if left_max < right_max: # left_max is your limiting Bar\n",
    "            left += 1\n",
    "            left_max = max(left_max, heights[left])\n",
    "            total_water += left_max - heights[left]\n",
    "        else: # right_max is your limiting Bar\n",
    "            right -= 1\n",
    "            right_max = max(right_max, heights[right])\n",
    "            total_water += right_max - heights[right]\n",
    "    \n",
    "    return total_water\n",
    "\n",
    "\n",
    "\n",
    "# total_rainwater_trap([4, 2, 0, 3, 2, 4, 2, 3, 5])"
   ]
  },
  {
   "cell_type": "code",
   "execution_count": 39,
   "metadata": {},
   "outputs": [],
   "source": [
    "def total_rainwater_trap_v2(heights: List[int]) -> int: \n",
    "    if not heights: return 0\n",
    "\n",
    "    left, right = 0, len(heights) - 1\n",
    "    left_max, right_max = heights[left], heights[right]\n",
    "    total_water = 0\n",
    "    \n",
    "    while left <= right:\n",
    "\n",
    "        if left_max < right_max: # left_max is your limiting Bar\n",
    "            if left_max < heights[left]: left_max = heights[left]\n",
    "            else: \n",
    "                total_water += left_max - heights[left]\n",
    "                left += 1\n",
    "        else: # right_max is your limiting Bar\n",
    "            if right_max < heights[right]: right_max = heights[right]\n",
    "            else:\n",
    "                total_water += right_max - heights[right]\n",
    "                right -= 1\n",
    "    \n",
    "    return total_water\n",
    "\n",
    "# total_rainwater_trap_v2([0, 3, 0, 1, 0, 2])"
   ]
  },
  {
   "cell_type": "markdown",
   "metadata": {
    "hidden": true
   },
   "source": [
    "-   **Trapped Water Calculation**: We used a two-pointer technique.\n",
    "\n",
    "    -   <b style=\"color:red\">NOTE</B>: Think that all the empty containers made out of the bars are already filled with water to make sense of the following logic.\n",
    "    -   For each bar at position `i`, <b style=\"color:green\">the water trapped above this bar</b> depends on the height of the tallest bars to its left and right. Specifically, the water trapped is determined by the shorter of these two bars minus the height of the current bar.\n",
    "    -   Mathematically, for a bar at position `i`, the trapped water is `min(left_max, right_max) - height[i]`, where `left_max` is the maximum height of the bars to the left of `i`, and `right_max` is the maximum height of the bars to the right of `i`.\n",
    "\n",
    "    -   Time complexity: $O(n)$, (`n` is the number of bars)\n",
    "    -   Space complexity: $O(n)$, (`n` is the number of bars)\n",
    "\n",
    "-  **Why This Works**\n",
    "    -    **Dynamic Boundaries**: By keeping track of `left_max` and `right_max` dynamically, the algorithm ensures that for each bar, we are only interested in the shorter boundary (between `left_max` and `right_max`), which determines the trapping capacity.\n",
    "    -    **Efficiency**: The two-pointer technique ensures each element in the height array is processed at most once, resulting in linear time complexity, $O(n)$."
   ]
  },
  {
   "cell_type": "code",
   "execution_count": 45,
   "metadata": {},
   "outputs": [],
   "source": [
    "def total_rainwater_trap_naive(heights):\n",
    "    pass\n",
    "\n",
    "# total_rainwater_trap_naive([4, 2, 0, 3, 2, 4, 2, 3, 5])"
   ]
  },
  {
   "cell_type": "code",
   "execution_count": 41,
   "metadata": {
    "hidden": true
   },
   "outputs": [],
   "source": [
    "def total_rainwater_trap_gpt(height):\n",
    "    n = len(height)\n",
    "    left = [0] * n\n",
    "    right = [0] * n\n",
    "    \n",
    "    # Fill the left array\n",
    "    left_max = 0\n",
    "    for i in range(n):\n",
    "        left[i] = left_max\n",
    "        left_max = max(left_max, height[i])\n",
    "    \n",
    "    # Fill the right array\n",
    "    right_max = 0\n",
    "    for i in range(n - 1, -1, -1):\n",
    "        right[i] = right_max\n",
    "        right_max = max(right_max, height[i])\n",
    "    \n",
    "    # Calculate the trapped water\n",
    "    trapped_water = 0\n",
    "    for i in range(n):\n",
    "        trapped_water += max(0, min(left[i], right[i]) - height[i])\n",
    "    \n",
    "    return trapped_water\n",
    "\n",
    "def total_rainwater_trap_gpt_v2(heights: List[int]) -> int: \n",
    "    if not heights: return 0\n",
    "\n",
    "    maxes_from_left = [heights[0]]\n",
    "    for height in heights[1:]: maxes_from_left.append(max(height, maxes_from_left[-1]))\n",
    "    \n",
    "    maxes_from_right = [heights[-1]]\n",
    "    for height in heights[-2::-1]: maxes_from_right.append(max(height, maxes_from_right[-1]))\n",
    "    maxes_from_right.reverse()\n",
    "\n",
    "    # print(maxes_from_left, maxes_from_right, sep=\"\\n\")\n",
    "\n",
    "    total_water = 0\n",
    "\n",
    "    for i, height in enumerate(heights):\n",
    "        total_water += min(maxes_from_left[i], maxes_from_right[i]) - height\n",
    "\n",
    "    return total_water\n",
    "\n",
    "# total_rainwater_trap_gpt([4, 2, 0, 3, 2, 4, 2, 3, 5])"
   ]
  },
  {
   "cell_type": "markdown",
   "metadata": {},
   "source": [
    "-   **Naive Approach**:\n",
    "    -   A naive approach would involve two nested loops to calculate `left_max` and `right_max` for each bar, resulting in an $O(n^2)$ time complexity.\n",
    "    \n"
   ]
  },
  {
   "cell_type": "markdown",
   "metadata": {},
   "source": [
    "- ChatGPT Solution: \n",
    "    -   Time complexity: $O(n)$, (`n` is the number of bars)\n",
    "    -   Space complexity: $O(n)$, (`n` is the number of bars)"
   ]
  },
  {
   "cell_type": "markdown",
   "metadata": {},
   "source": [
    "To solve this problem, you can use the concept of finding the maximum height from the left and right sides of each bar, and then subtract the height of the bar itself to find the amount of water that can be trapped. Here's a step by step explanation of the algorithm:\n",
    "\n",
    "1. Initialize two arrays, left and right, of the same size as the input elevation map, with all values set to 0.\n",
    "\n",
    "2. Fill the left array with the maximum height from the left for each bar. \n",
    "   1. To do this, loop through the elevation map from left to right and keep track of the maximum height seen so far. At each step, update the current element in the left array with the maximum height seen so far.\n",
    "\n",
    "3. Fill the right array with the maximum height from the right for each bar. \n",
    "   1. To do this, loop through the elevation map from right to left and keep track of the maximum height seen so far. At each step, update the current element in the right array with the maximum height seen so far.\n",
    "\n",
    "4. Calculate the amount of trapped water for each bar by subtracting the height of the bar from the minimum of the two maximum heights (from left and right) and adding it to a total sum.\n",
    "\n",
    "5. Return the total sum as the result."
   ]
  },
  {
   "cell_type": "code",
   "execution_count": 43,
   "metadata": {
    "code_folding": [],
    "hidden": true
   },
   "outputs": [],
   "source": [
    "def test_total_rainwater_trap():\n",
    "    \n",
    "    ## ChatGPT provided test cases\n",
    "    test_cases = [\n",
    "        # Basic test cases\n",
    "        ([0, 1, 0, 2, 1, 0, 1, 3, 2, 1, 2, 1], 6),   # Example from the problem statement\n",
    "        ([4, 2, 0, 3, 2, 5], 9),                     # Another common example\n",
    "\n",
    "        # Edge cases\n",
    "        ([], 0),                                      # Empty list\n",
    "        ([1], 0),                                     # Single element\n",
    "        ([1, 2], 0),                                  # Two elements, no trapping possible\n",
    "\n",
    "        # Flat surface cases\n",
    "        ([3, 3, 3, 3], 0),                            # No trapping possible\n",
    "        ([0, 0, 0, 0], 0),                            # No trapping possible\n",
    "\n",
    "        # Increasing and decreasing cases\n",
    "        ([1, 2, 3, 4, 5], 0),                         # Strictly increasing\n",
    "        ([5, 4, 3, 2, 1], 0),                         # Strictly decreasing\n",
    "\n",
    "        # Complex cases\n",
    "        ([1, 0, 2, 1, 0, 1, 3, 2, 1, 2, 1], 6),       # More complex configuration\n",
    "        ([4, 2, 0, 3, 2, 4, 2, 3, 5], 12),            # Larger and complex case\n",
    "\n",
    "        # Cases with peaks and valleys\n",
    "        ([0, 3, 0, 1, 0, 2], 5),                      # Peaks and valleys\n",
    "        ([0, 3, 0, 1, 0, 1, 0, 3], 13),                # Multiple peaks and valleys\n",
    "    ]\n",
    "\n",
    "    callables = [total_rainwater_trap, total_rainwater_trap_v2, total_rainwater_trap_naive, total_rainwater_trap_gpt, total_rainwater_trap_gpt_v2]\n",
    "\n",
    "    for heights, expected in test_cases:\n",
    "        for f in callables:\n",
    "            returned1 = f(heights)\n",
    "            try:\n",
    "                assert returned1 == expected\n",
    "            except:\n",
    "                print(f\"{f.__name__}({heights}) = {returned1}, expected = {expected}, {green('Passed') if returned1 == expected else red('Failed')}\")\n",
    "# ====================================================================================\n",
    "test_total_rainwater_trap()"
   ]
  },
  {
   "cell_type": "markdown",
   "metadata": {
    "heading_collapsed": true
   },
   "source": [
    "##### The largest rectangle contained in this skyline. - [EPI-17.8] | [neetcode](https://www.youtube.com/watch?v=zx5Sw9130L0&list=PLot-Xpze53lfxD6l5pAGvCD4nPvWKU8Qo&index=3)"
   ]
  },
  {
   "cell_type": "markdown",
   "metadata": {
    "hidden": true
   },
   "source": [
    "You are given a sequence of adjacent buildings. Each has unit width and an integer height. These buildings form the skyline of a city. An architect wants to know the area of a largest rectangle contained in this skyline. \n",
    "\n",
    "Let A be an array representing the heights of adjacent buildings of unit width. Design an algorithm to compute the area of the largest rectangle contained in this skyline.\n",
    "\n",
    "Hint: How would you efficiently find the largest rectangle which includes the i-th building, and has height A[i]?"
   ]
  },
  {
   "cell_type": "markdown",
   "metadata": {
    "hidden": true
   },
   "source": [
    "<div style=\"text-align:center\" ><img src=\"../assets/largest-rectangular-area.png\" width=\"500\" height=\"300\" /></div>"
   ]
  },
  {
   "cell_type": "code",
   "execution_count": null,
   "metadata": {
    "hidden": true
   },
   "outputs": [],
   "source": [
    "def largest_rectangle(heights):\n",
    "    # Monotonic strictly increasing Stack\n",
    "    idx_stk = []\n",
    "\n",
    "    # Variable to keep track of the maximum rectangle area found\n",
    "    max_area = 0\n",
    "\n",
    "    # Append a zero height to handle remaining bars in the stack uniformly\n",
    "    for cur_idx, current_height in enumerate(heights + [0]):\n",
    "        \n",
    "        # Process bars in the stack until the current bar is taller than the stack's top bar\n",
    "        while idx_stk and heights[idx_stk[-1]] >= current_height:\n",
    "\n",
    "            # Pop the top index from the stack and calculate the height of the rectangle\n",
    "            height = heights[idx_stk.pop()]\n",
    "            \n",
    "            # Calculate the width of the rectangle\n",
    "            width = (cur_idx-1)-idx_stk[-1] if idx_stk else cur_idx\n",
    "            # width = (cur_idx-1)-idx_stk[-1] if idx_stk else (cur_idx-1)-(-1)\n",
    "            \n",
    "            # Update the maximum area if a larger area is found\n",
    "            max_area = max(max_area, height * width)\n",
    "        \n",
    "        # Push the current index onto the stack\n",
    "        idx_stk.append(cur_idx)\n",
    "    \n",
    "    return max_area"
   ]
  },
  {
   "cell_type": "markdown",
   "metadata": {
    "hidden": true
   },
   "source": [
    "\n",
    "1. **Stack Usage**:\n",
    "   - The algorithm uses a stack (`idx_stk`) to keep track of the indices of the bars in the histogram.\n",
    "   - The stack ensures that the indices of the bars are stored in increasing order of their heights.\n",
    "\n",
    "2. **Iterating Through Bars**:\n",
    "   - The loop iterates through each bar in the histogram. An additional bar of height `0` is appended to the end of the histogram. This ensures that all bars are processed and any remaining bars in the stack are handled at the end of the iteration.\n",
    "\n",
    "3. **Processing Each Bar**:\n",
    "   - For each bar, if the current bar's height (`current_height`) is less than the height of the bar at the top of the stack, it indicates the end of a potential rectangle that can extend as far as the current index.\n",
    "   - The algorithm pops indices from the stack and calculates the area of the rectangles that end at the current bar.\n",
    "\n",
    "4. **Calculating the Height and Width of the Rectangle**:\n",
    "   - **Height**: The height of the rectangle is determined by the height of the bar whose index was popped from the stack.\n",
    "   - **Width**: The width of the rectangle depends on the current index and the index of the new top of the stack:\n",
    "     - If the stack is empty after popping, it means the popped bar was the smallest so far, and the rectangle can extend all the way back to the start. Thus, the width is simply `cur_idx`.\n",
    "     - If the stack is not empty, the width is the distance between the current index and the new top of the stack minus one (`(cur_idx-1)-idx_stk[-1]`).\n",
    "     - `cur_idx-1` --> Index of the Right-Edge-Bar of currently calculating ractangle.\n",
    "     - `idx_stk[-1]` --> Index of the new Top after popping off the current Top"
   ]
  },
  {
   "cell_type": "code",
   "execution_count": 15,
   "metadata": {
    "hidden": true
   },
   "outputs": [],
   "source": [
    "def largest_rectangle_v2(heights):\n",
    "\n",
    "    idx_stk, max_rectangle_area = [], 0\n",
    "    \n",
    "    # By appending [0] to heights, we can uniformly handle the computation for rectangle area here.\n",
    "    for i, h in enumerate(heights + [0]):\n",
    "        while idx_stk and heights[idx_stk[-1]] >= h:\n",
    "            height = heights[idx_stk.pop()]\n",
    "            width = i if not idx_stk else i - idx_stk[-1] - 1 # idx_stk[-1] is new Top\n",
    "            max_rectangle_area = max(max_rectangle_area, height * width)\n",
    "        \n",
    "        idx_stk.append(i)\n",
    "    \n",
    "    return max_rectangle_area"
   ]
  },
  {
   "cell_type": "code",
   "execution_count": null,
   "metadata": {
    "hidden": true
   },
   "outputs": [],
   "source": [
    "## ChatGPT Solution\n",
    "def largest_rectangle_gpt(heights):\n",
    "    stk = []\n",
    "    max_area = 0\n",
    "    idx = 0\n",
    "    \n",
    "    while idx < len(heights):\n",
    "        # If this bar is higher than the bar at stack top, push it to the stack\n",
    "        if not stk or heights[idx] >= heights[stk[-1]]:\n",
    "            stk.append(idx)\n",
    "            idx += 1\n",
    "        else:\n",
    "            # Pop the top\n",
    "            top_of_stack = stk.pop()\n",
    "\n",
    "            # Calculate the area with heights[top_of_stack] as the smallest (or minimum height) bar\n",
    "            area = (heights[top_of_stack] * ((idx - stk[-1] - 1) if stk else idx))\n",
    "\n",
    "            # Update max_area, if needed\n",
    "            max_area = max(max_area, area)\n",
    "    \n",
    "    # Now, pop the remaining bars from stack and calculate area\n",
    "    while stk:\n",
    "        top_of_stack = stk.pop()\n",
    "        area = (heights[top_of_stack] * ((idx - stk[-1] - 1) if stk else idx))\n",
    "        max_area = max(max_area, area)\n",
    "    \n",
    "    return max_area"
   ]
  },
  {
   "cell_type": "code",
   "execution_count": 29,
   "metadata": {
    "hidden": true
   },
   "outputs": [
    {
     "name": "stdout",
     "output_type": "stream",
     "text": [
      "Executing largest_rectangle(...)\n",
      "Executing largest_rectangle_v2(...)\n",
      "Executing largest_rectangle_gpt(...)\n"
     ]
    }
   ],
   "source": [
    "def _test_calculate_largest_rectangle():\n",
    "    test_cases = [[0],[1],[1,2],[2,1],[2,3,3,3,2],[6,2,5,4,5,1,6],[2, 1, 5, 6, 2, 3]]\n",
    "    expecteds = [0,1,2,2,10,12,10]\n",
    "\n",
    "    for f in [largest_rectangle, largest_rectangle_v2, largest_rectangle_gpt]:\n",
    "        print(f\"Executing {f.__name__}(...)\")\n",
    "        for test_case, expected in zip(test_cases, expecteds):\n",
    "            returned1 = f(test_case)\n",
    "            returned2 = f(test_case)\n",
    "            try:\n",
    "                assert returned1 == expected == returned2\n",
    "            except AssertionError as e:\n",
    "                print(f\"Given: {test_case}\\nReturned: {returned1}\\nExpected: {expected}\")\n",
    "#===================================================================================\n",
    "_test_calculate_largest_rectangle()"
   ]
  },
  {
   "cell_type": "code",
   "execution_count": null,
   "metadata": {
    "hidden": true
   },
   "outputs": [],
   "source": [
    "# Example usage:\n",
    "A = [2, 1, 5, 6, 2, 3]\n",
    "print(largest_rectangle_area(A))  # Output: 10\n",
    "print(largest_rectangle_area(A))  # Output: 10"
   ]
  },
  {
   "cell_type": "code",
   "execution_count": null,
   "metadata": {
    "hidden": true
   },
   "outputs": [],
   "source": []
  },
  {
   "cell_type": "markdown",
   "metadata": {
    "hidden": true
   },
   "source": [
    "- [Coding Interview Problem: Largest Rectangle in a Histogram](https://www.youtube.com/watch?v=VNbkzsnllsU)\n",
    "\n",
    "![rectangular-area](../assets/ractangular-area.png)"
   ]
  },
  {
   "cell_type": "code",
   "execution_count": null,
   "metadata": {
    "hidden": true
   },
   "outputs": [],
   "source": [
    "## NOT TESTED YET!\n",
    "def find_largest_rectangle(hist):\n",
    "    max_area = 0\n",
    "    h_stk, idx_stk = [], []\n",
    "    \n",
    "    for cur_idx, cur_height in enumerate(hist):\n",
    "        \n",
    "        if not h_stk or cur_height > h_stk[-1]:\n",
    "            h_stk.append(cur_height)\n",
    "            idx_stk.append(cur_idx)\n",
    "        elif cur_height < h_stk[-1]:\n",
    "            while h_stk and cur_height < h_stk[-1]:\n",
    "                cur_max_h = h_stk.pop()\n",
    "                tmp_idx = idx_stk.pop()\n",
    "                cur_area = cur_max_h * (cur_idx - tmp_idx)\n",
    "                max_area = max(max_area, cur_area)\n",
    "            \n",
    "            h_stk.append(cur_height)\n",
    "            idx_stk.append(tmp_idx)\n",
    "\n",
    "    while h_stk:\n",
    "        cur_max_h = h_stk.pop()\n",
    "        tmp_idx = idx_stk.pop()\n",
    "        cur_area = cur_max_h * (cur_idx - tmp_idx)\n",
    "        max_area = max(max_area, cur_area)\n",
    "    \n",
    "    return max_area"
   ]
  },
  {
   "cell_type": "code",
   "execution_count": null,
   "metadata": {
    "hidden": true
   },
   "outputs": [],
   "source": [
    "# Example usage:\n",
    "A = [2, 1, 5, 6, 2, 3, 7, 16]\n",
    "print(largest_rectangle_area(A))  # Output: 10\n",
    "print(find_largest_rectangle(A))  # Output: 10"
   ]
  },
  {
   "cell_type": "code",
   "execution_count": null,
   "metadata": {
    "hidden": true
   },
   "outputs": [],
   "source": []
  }
 ],
 "metadata": {
  "kernelspec": {
   "display_name": "dsnb",
   "language": "python",
   "name": "python3"
  },
  "language_info": {
   "codemirror_mode": {
    "name": "ipython",
    "version": 3
   },
   "file_extension": ".py",
   "mimetype": "text/x-python",
   "name": "python",
   "nbconvert_exporter": "python",
   "pygments_lexer": "ipython3",
   "version": "3.9.6"
  },
  "toc": {
   "base_numbering": 1,
   "nav_menu": {},
   "number_sections": true,
   "sideBar": true,
   "skip_h1_title": true,
   "title_cell": "Table of Contents",
   "title_sidebar": "Contents",
   "toc_cell": true,
   "toc_position": {
    "height": "calc(100% - 180px)",
    "left": "10px",
    "top": "150px",
    "width": "241.038px"
   },
   "toc_section_display": true,
   "toc_window_display": false
  }
 },
 "nbformat": 4,
 "nbformat_minor": 4
}
